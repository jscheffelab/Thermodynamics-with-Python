{
 "cells": [
  {
   "cell_type": "markdown",
   "id": "3affa753-09c0-425f-85f4-4a3a4e613a0f",
   "metadata": {},
   "source": [
    "(FirstLaw)=\n",
    "# First Law of Thermodynamics - Introduction to Closed Systems"
   ]
  },
  {
   "cell_type": "markdown",
   "id": "07291db0-f972-4156-9c2b-a87751111ba6",
   "metadata": {},
   "source": [
    "## Macroscopic and Microscopic Forms of Energy"
   ]
  },
  {
   "cell_type": "markdown",
   "id": "b0ae137a-041c-4000-bf71-0a4f24ec2004",
   "metadata": {},
   "source": [
    "```{index} macroscopic, microscopic, kinetic energy, potential energy\n",
    "```"
   ]
  },
  {
   "cell_type": "markdown",
   "id": "1cbac0d7-efa8-4ab5-9601-f51a8cc4adbd",
   "metadata": {},
   "source": [
    "The total energy of a system ($E$), may be comprised of {ref}`macroscopic <genindex>` and {ref}`microscopic <genindex>` forms of energy. The macroscopic forms, such as {ref}`kinetic energy <genindex>` ($KE$) and {ref}`potential energy <genindex>` ($PE$), are measured with respect to an external reference frame.  The $KE$ of the system is related to it's motion relative to an external reference frame, and the $PE$ relative to its position as a result of gravity. Other external factors that contribute to the macroscopic energy of the system, such as magnetism, electricity and surface tension are typically ignored in introductory texts and only are applied in specialized cases. They are not considered further here. $KE$ is related to the mass of the system and its velocity ($V$) by the equation below:"
   ]
  },
  {
   "cell_type": "markdown",
   "id": "b29600cf-e5a0-4f20-8dad-182dce778e47",
   "metadata": {},
   "source": [
    "```{math}\n",
    ":label: eq_a\n",
    "KE = \\frac{mV^2}{2}\n",
    "```"
   ]
  },
  {
   "cell_type": "markdown",
   "id": "1f4cd944-61a8-46eb-8bf8-03ff8fea6849",
   "metadata": {},
   "source": [
    "$PE$ is related to the mass of the system, its height ($z$) and the acceleration due to gravity ($g$) the equation below:"
   ]
  },
  {
   "cell_type": "markdown",
   "id": "e5804a13-b2e7-4f75-be7d-c9de02ee515b",
   "metadata": {},
   "source": [
    "```{math}\n",
    ":label: eq_b\n",
    "PE = mgz\n",
    "```"
   ]
  },
  {
   "cell_type": "markdown",
   "id": "676663ba-aab5-4d89-b32d-4db905c49ac7",
   "metadata": {},
   "source": [
    "where $g$ = 9.8 $\\frac{\\rm m}{\\rm s^2}$"
   ]
  },
  {
   "cell_type": "markdown",
   "id": "123bf13c-985c-4f07-abae-989524c3bf0a",
   "metadata": {},
   "source": [
    "```{index} thermal energy, chemical energy, nuclear energy, internal energy\n",
    "```"
   ]
  },
  {
   "cell_type": "markdown",
   "id": "7a18e15b-914c-4776-a44c-45f433ad8672",
   "metadata": {},
   "source": [
    "Microscopic forms of energy include {ref}`thermal energy <genindex>`, {ref}`chemical energy <genindex>` and {ref}`nuclear energy <genindex>`. These microscopic forms of energy are broadly related to the aggregate energy of the molecules and electrons in the system, for example due to kinetic energy of the molecules (i.e. translational energy), rotational and vibrational energy of the molecules, electron translation and rotation, atomic bonding and nuclear forces. For a more rigorous discussion refer to {cite}`cengel`. The total microscopic energy contained in a system, which is combined of thermal, chemical and nuclear energy, is referred to as the {ref}`internal energy <genindex>` ($U$). Therefore, we can mathematically express the total energy of a closed system as:  "
   ]
  },
  {
   "cell_type": "markdown",
   "id": "e5d6753c-452e-41f6-9fd2-766cc68cedf1",
   "metadata": {},
   "source": [
    "```{math}\n",
    ":label: eq_c\n",
    "E = KE + PE + U\n",
    "```"
   ]
  },
  {
   "cell_type": "markdown",
   "id": "c64f3628-98a4-4e97-a081-d506308f3c23",
   "metadata": {},
   "source": [
    "And the total specific energy as "
   ]
  },
  {
   "cell_type": "markdown",
   "id": "b10f1836-57ed-4eaf-adeb-15e4696e012d",
   "metadata": {},
   "source": [
    "```{math}\n",
    ":label: eq_d\n",
    "e = ke + pe + u\n",
    "```"
   ]
  },
  {
   "cell_type": "markdown",
   "id": "1f0220b4-84de-4993-b819-3f101b968478",
   "metadata": {},
   "source": [
    "where $e$ = $\\frac{E}{m}$, $ke$ = $\\frac{KE}{m}$, $pe$ = $\\frac{PE}{m}$ and $u$ = $\\frac{U}{m}$. "
   ]
  },
  {
   "cell_type": "markdown",
   "id": "18f593c6-027c-491e-b72c-58e988cc6d1f",
   "metadata": {},
   "source": [
    "(EnergyTransfer)=\n",
    "## Energy Transfer and The First Law"
   ]
  },
  {
   "cell_type": "markdown",
   "id": "2277a2ac-afac-48bb-af2d-73180aba1c59",
   "metadata": {},
   "source": [
    "```{index} First Law of Thermodynamics, heat transfer, work, conservation of energy\n",
    "```"
   ]
  },
  {
   "cell_type": "markdown",
   "id": "c74131a5-9885-4a2f-ada1-6855fe8dff7b",
   "metadata": {},
   "source": [
    "Energy transfer to or from a closed system is always in the form of {ref}`heat transfer <genindex>` ($Q$) or {ref}`work <genindex>` interactions ($W$). A discussion of the different types of heat transfer and work are discussed later below, but for now we will treat these terms generally in the context of energy conservation. The {ref}`First Law of Thermodynamics <genindex>` states that energy is always conserved, and during a process, as it disaapears in one form, it reappears as another. This law, also referred to as the {ref}`Conservation of Energy <genindex>` principle, is very general and can be applied to any system, so far as it has a clearly defined boundary. This law should not be interpreted to mean that the energy of a system cannot change, but rather that the change in energy of the system is equal to the net heat transfer or work applied to or extrated from the system. Take Count Rumford's pioneering experiments (discussed initially in {numref}`ThermodynamicSystems` {ref}`ThermodynamicSystems`) as an example {cite}`rumford_1798`. In these experiments, a paddle wheel was used to agitate an insulated system filled with liquid H<sub>2</sub>O - in other words, mechanical work was added to the system, the system being the insulated vessel. As a result of the work (i.e., energy) that was added to the system, the H<sub>2</sub>O eventually began to boil as a result. In the context of the First Law of Thermodynamics, this should be interpreted as, the change in energy of the H<sub>2</sub>O is equal to the work added to the system. Rumford's experiments helped establish the First Law and explain the rationale for the portion of the statement \"...as it disaapears in one form, it reappears as another\". But it wasn't until Joule's more precisly conducted measurements half a century later in 1850 that the premise of \"energy is always conserved\" was established {cite}`joule_1850`. This was confirmed with a similar paddle wheel experiment to Rumford, but with more precise measurements of the mechanical work applied to the system and the corresponding temperature changes. The precise temperature measurements, which were critical to the interpretation of the experimental data, were attributed to Joule's expertise in beer brewing. "
   ]
  },
  {
   "cell_type": "markdown",
   "id": "578289a8-f967-47a7-a907-136f88d3286f",
   "metadata": {},
   "source": [
    "Combining the fact that energy transfer to or from a closed system always occurs via heat or work interactions, with the conservation of energy principle, we can formulate a mathematical expression of the First Law for a process. Knowing that the total energy of a system at any point in time (E) is the sum of the kinetic energy, potential energy and internal energy (equation {eq}`eq_d`), we can also say that any change in energy of the system must correspond to changes in these energies, or:"
   ]
  },
  {
   "cell_type": "markdown",
   "id": "be796e72-ddcc-4960-8cf8-14aaba9a51a9",
   "metadata": {},
   "source": [
    "```{math}\n",
    ":label: eq_e\n",
    "\\Delta E = \\Delta KE + \\Delta PE + \\Delta U\n",
    "```"
   ]
  },
  {
   "cell_type": "markdown",
   "id": "59b7c8bc-2654-464d-852f-d4d31a81054b",
   "metadata": {},
   "source": [
    "Further, because $\\Delta E$ can only change via heat or work interactions we can also say,"
   ]
  },
  {
   "cell_type": "markdown",
   "id": "fc10f077-ef0d-4634-af1b-2506dcbc7aa7",
   "metadata": {},
   "source": [
    "```{math}\n",
    ":label: eq_f\n",
    "\\Delta E = \\Delta KE + \\Delta PE + \\Delta U = Q_{\\rm net} - W_{\\rm net}\n",
    "```"
   ]
  },
  {
   "cell_type": "markdown",
   "id": "38bc81ce-76e3-4b6c-aafc-6ae64fc5fcee",
   "metadata": {},
   "source": [
    "```{index} energy equation\n",
    "```"
   ]
  },
  {
   "cell_type": "markdown",
   "id": "7ae9efdd-f231-4283-9496-8511f4889280",
   "metadata": {},
   "source": [
    "where $Q_{\\rm net}$ and $W_{\\rm net}$ represent the **net** heat or work transfers to or from the system. That is, there can be multiple forms of heat transfer or work, but they are all captured here with this simple expression, which we typically call the energy conservation equation, or {ref}`energy equation <genindex>`. The negative sign is a matter of convention that will be useful when evaluating complex systems, and is a result of the fact that we attribute **ALL** heat transfer to the system as a positive quantity and from the system as a negative quantity, and **ALL** work interactions the opposite way - i.e., to the system as a negative quantity and from the system as a positive quantity. There is a historical basis for this that derives from the fact that heat engines were designed to take in heat and output work, thus those terms were always treated positively. And while the sign convention is arbitrary, it is important to remain consistent when evaluating property values using this equation. Further, this convention is appled only when adding numerical values of $Q$ and/or $W$ to the energy equation. If solving for $Q$ or $W$, the resulting sign will be indicative of the direction of energy transfer."
   ]
  },
  {
   "cell_type": "markdown",
   "id": "fae462fa-9668-481d-972f-3d7fa45b3f58",
   "metadata": {},
   "source": [
    "At first introduction this can seem confounding, but as long as you always use equation {eq}`eq_f` consistently and treat heat inputs and work outputs as positive terms, and heat outputs and work inputs as negative terms, the First Law will be satisfied. It can be thought of similarly to balancing a budget, where the budget is now energy, instead of dollars, and the inputs and outputs are heat and work instead of debits and credits. Refer to {numref}`Figure %s <first law fig a>` below which shows an arbitrary system with multiple heat transfer and work terms, labled with subscripts 1 and 2, with varying direction indicating to or from the system. We can see that if we apply the rules discussed above that the resulting energy conservation equation reduces to $\\Delta E = (Q_1 - Q_2) - (W_2 - W_1)$. Notice that the original negative sign remains intact - positive or negative signs are only applied to the terms themselve while the negative sign in the equation remains unchanged {eq}`eq_f`. "
   ]
  },
  {
   "cell_type": "markdown",
   "id": "2cdf1425-2375-4337-b28e-6d1007aa1fcf",
   "metadata": {},
   "source": [
    "```{figure} Figures/energy_conservation.png\n",
    "---\n",
    "name: first law fig a\n",
    "---\n",
    "Top) Schematic showing generic system at initial state, then undergoing process via heat and work interactions, to arrive at a final state. Bottom Left) The typical representation of the system undergoing a process, drawn all with one diagram. Bottom Right) Closed system energy conservation analysis for the described process.\n",
    "```"
   ]
  },
  {
   "cell_type": "markdown",
   "id": "1bf170be-9a47-4613-bcb8-321d352b0f2a",
   "metadata": {},
   "source": [
    "Again, **It is important to note** that applying the correct signage to heat transfer and work terms is only done when evaluating property values, for example internal energy changes. Refer to {numref}`Figure %s <first law fig test>`  below which shows the same system as above, but this time numerical values for the heat transfer and work terms have been provided. Pay careful attention to the signs that are applied."
   ]
  },
  {
   "cell_type": "markdown",
   "id": "1ed4352c-e869-4c99-b535-8c0b6c24e7dd",
   "metadata": {},
   "source": [
    "```{figure} Figures/energy_conservation_2.png\n",
    "---\n",
    "name: first law fig test\n",
    "---\n",
    "Representation of a system undergoing a process with multiple heat transfer and work terms. On the right are assigned numberical values for each term - notice how they are applied in the energy conservation equation to arrive at the final determination for the change in energy of the system.\n",
    "```"
   ]
  },
  {
   "cell_type": "markdown",
   "id": "ef9bd2d6-b308-4619-b73b-e88c61cdaea2",
   "metadata": {},
   "source": [
    "If the goal is to determine $Q$ or $W$ via evaluation of the energy equation, then no modification of the signs is needed. The resulting sign will indicate the direction of the energy transfer. For example, see below {numref}`Figure %s <first law fig c>` where the net work was determined to be 40 kJ, indicating that work had to be done by the system system."
   ]
  },
  {
   "cell_type": "markdown",
   "id": "3d0b4e0d-47e1-4dc4-a4a2-712ebe663a13",
   "metadata": {},
   "source": [
    "```{figure} Figures/energy_conservation_3.png\n",
    "---\n",
    "name: first law fig c\n",
    "---\n",
    "Representation of a system undergoing a process where the net work is to be determined. Upon solving for $W_{\\rm net}$, the resulting sign indicates the direction of work. In this example, because the net work is positive, work was done by the system.\n",
    "```"
   ]
  },
  {
   "cell_type": "markdown",
   "id": "526f4d41-1a01-4e26-8c97-5bd73d774edf",
   "metadata": {},
   "source": [
    "Often, the thermodynamic system under consideration is stationary, in which case the kinetic energy and potential energy terms can be neglected. Thus, the most typical form of the closed system energy conservation equation for a process going from one thermodynamic equilibrium state to another is related to the change in internal energy."
   ]
  },
  {
   "cell_type": "markdown",
   "id": "f3a15e25-78ff-40f1-b200-5f01274e14ab",
   "metadata": {},
   "source": [
    "```{math}\n",
    ":label: eq_g\n",
    "\\Delta U = Q_{\\rm net} - W_{\\rm net}\n",
    "```"
   ]
  },
  {
   "cell_type": "markdown",
   "id": "00975119-9697-49d9-bdc1-dfda5f13bcca",
   "metadata": {},
   "source": [
    "We can also express the First Law for closed systems in differential form, as:"
   ]
  },
  {
   "cell_type": "markdown",
   "id": "f31260b3-27a0-4136-bae0-3b9e36c84bf1",
   "metadata": {},
   "source": [
    "```{math}\n",
    ":label: eq_f\n",
    "dU = \\delta Q_{\\rm net} - \\delta W_{\\rm net}\n",
    "```"
   ]
  },
  {
   "cell_type": "markdown",
   "id": "b43a710d-fbc5-4baf-a312-9c9398dacee8",
   "metadata": {},
   "source": [
    "Recall the symbol $\\delta $, which represents an inexact differential and integration depends on the path that is taken. And upon differentiation with respect to time we arrive at the rate form of the energy conservation for a stationary, closed system. "
   ]
  },
  {
   "cell_type": "markdown",
   "id": "beee0a47-286c-442d-bf0b-290fdb9a2c8a",
   "metadata": {},
   "source": [
    "```{math}\n",
    ":label: eq_g\n",
    "\\frac {dU}{dt} = \\dot Q_{\\rm net} - \\dot W_{\\rm net}\n",
    "```"
   ]
  },
  {
   "cell_type": "markdown",
   "id": "d7ff4213-82c5-40c4-8633-f7f4d5dcf4d6",
   "metadata": {},
   "source": [
    "Where"
   ]
  },
  {
   "cell_type": "markdown",
   "id": "3b183d86-880b-4e61-a1bf-f47218ecddbc",
   "metadata": {},
   "source": [
    "```{math}\n",
    ":label: eq_g1\n",
    "\\dot Q_{\\rm net}=\\frac {\\delta Q}{dt}\n",
    "```"
   ]
  },
  {
   "cell_type": "markdown",
   "id": "17bb1596-78a8-4708-9522-e99f34be0a3e",
   "metadata": {},
   "source": [
    "Notice the dot overheat the heat transfer and rate terms. The dot indicates that it is per unit time, for example $\\frac {\\rm kJ}{\\rm s}$ or $\\rm W$. This will be encountered often whenever we are dealing with transient systems, i.e., not steady state, and we apply the same rule to properties that are changing with time. For example, the mass per unit time is the mass flow rate, or $\\dot m$ and the specific volume per unit time is the specific volumetric flowrate $\\dot v$."
   ]
  },
  {
   "cell_type": "markdown",
   "id": "adcf529b-c314-483f-8307-a931d44ebe25",
   "metadata": {},
   "source": [
    "### Heat Transfer"
   ]
  },
  {
   "cell_type": "markdown",
   "id": "60b669f9-3ee6-4ee2-981b-5d40af37fb07",
   "metadata": {},
   "source": [
    "```{index} conduction, convection, radiation heat transfer\n",
    "```"
   ]
  },
  {
   "cell_type": "markdown",
   "id": "4cc89a8d-6240-43fa-b366-3e20b584d9c4",
   "metadata": {},
   "source": [
    "Heat transfer to or from the system may occur via {ref}`conduction <genindex>`, {ref}`convection <genindex>` or {ref}`radiative <genindex>` heat transfer.  We will typically treat heat transfer as an energy source or sink to the system without consideration of the mechanism, but a brief discussion of each mode follows. A thorough discussion is beyond the scope of this text, but detailed discussion in any undergraduate heat transfer textbook, for example..., will cover these topics in more detail. Heat transfer will only spontaneously occur in the direction of high temperature to low temperature, as a result of the Second Law of Thermodynamics (discussed later). This implies that heat will always flow from a warm mug of coffee, thus decreasing the temperature of the coffee and simultaneously increasing the temperature of the surroundings. The reverse scenario, heat transfer from lower temperature surroundings to a warm cup of coffee, resulting in heating of the coffee and cooling of the surroundings, is impossible. "
   ]
  },
  {
   "cell_type": "markdown",
   "id": "f2e8ce72-dee8-497d-b393-9322e218261c",
   "metadata": {},
   "source": [
    "{numref}`Figure %s <first law fig b>` above schematically depicts the different modes of heat transfer through a solid via conduction, and from the surface of the solid via convection and radiation. If the bottom surface T1 is higher than the top surface T2, conduction heat transfer will occur in the direction from high to low temperature. The rate of convective heat transfer is dictated by the difference between the surface temperature and the surrounding temperature. The intermediate region where the temperature decreases from the surface to the surroundings is called the boundary layer and has important implications in fluid dynamics and heat transfer, but are beyond the scope of this text. Radiative heat exchange will occur equally in all directions if the surface is a diffuse emitter."
   ]
  },
  {
   "cell_type": "markdown",
   "id": "c35e8f9f-9750-4721-ac92-08a63eefe9a6",
   "metadata": {},
   "source": [
    "```{figure} Figures/heat_transfer.png\n",
    "---\n",
    "name: first law fig b\n",
    "---\n",
    "Schematic depicting conductive, convective and radiative heat transfer modes.\n",
    "```"
   ]
  },
  {
   "cell_type": "markdown",
   "id": "0489fd27-3a37-4934-9b02-7ab7403e8e9d",
   "metadata": {},
   "source": [
    "#### Conduction Heat Transfer"
   ]
  },
  {
   "cell_type": "markdown",
   "id": "e13420d9-d8f4-4513-a923-f70de6ee4735",
   "metadata": {},
   "source": [
    "Conductive heat transfer is a result of electron and phonon transport in a medium, and is usually the dominant mode of heat transfer in a solid. The one-dimensional, steady state rate of conductive heat transfer ($\\dot{Q}_{\\rm cond}$) is related to the thermal conductivity ($k$) which is a material dependent property, the cross sectional area ($A$), and the temperature gradient between top and bottom surfaces of the medium through which heat is being conducted. "
   ]
  },
  {
   "cell_type": "markdown",
   "id": "1cc32eae-06c6-474c-8ccc-b16ebbab659f",
   "metadata": {},
   "source": [
    "```{math}\n",
    ":label: eq_h\n",
    "\\dot{Q}_{\\rm cond} = -kA\\frac{dT}{dx}\n",
    "```"
   ]
  },
  {
   "cell_type": "markdown",
   "id": "2911a3ec-d514-4d0a-84e1-b5b2080a11d3",
   "metadata": {},
   "source": [
    "For example, for conductors such as metals, $k$ is high, whereas for insulators it is low. Often, $k$ is assumed to be independent of temperature, in which case we can replace the differentials with differences."
   ]
  },
  {
   "cell_type": "markdown",
   "id": "dd3e2ba6-a0fa-4a0c-9ee7-e6e2da751861",
   "metadata": {},
   "source": [
    "```{math}\n",
    ":label: eq_i\n",
    "\\dot{Q}_{\\rm cond} = -kA\\frac{\\Delta T}{\\Delta x}\n",
    "```"
   ]
  },
  {
   "cell_type": "markdown",
   "id": "95669fbd-99f4-4aad-b016-de933c1d0273",
   "metadata": {},
   "source": [
    "The negative sign is applied only to ensure ($\\dot{Q}$) remains a positive quantity, because the temperature graident increasing in the x-direction is negative as a result of heat transfer always occuring in the direction of high temperature to low temperature. "
   ]
  },
  {
   "cell_type": "markdown",
   "id": "935a372c-3cad-4d83-a9a8-c42c82c2d99a",
   "metadata": {},
   "source": [
    "#### Convective Heat Transfer"
   ]
  },
  {
   "cell_type": "markdown",
   "id": "7fc1cf90-84d3-4751-a973-1cc957163d16",
   "metadata": {},
   "source": [
    "Convective heat transfer is usually the dominant mode for fluids (i.e. gases and liquids) and occurs as a result of bulk movement of the fluid. The steady state convective heat transfer rate ($\\dot{Q}_{\\rm conv}$) is related to the convective heat transfer coefficient ($h$), the cross sectional area ($A$) where the heat transport occurs, and the difference between the surface temperature ($T_s$) and fluid temperature far from the surface ($T_\\infty$)."
   ]
  },
  {
   "cell_type": "markdown",
   "id": "648a9c00-a003-4983-8492-85de9f448fdc",
   "metadata": {},
   "source": [
    "```{math}\n",
    ":label: eq_j\n",
    "\\dot{Q}_{\\rm conv} = hA(T_s-T_\\infty)\n",
    "```"
   ]
  },
  {
   "cell_type": "markdown",
   "id": "61c54487-6785-4e31-98ed-30d5f5f3adb4",
   "metadata": {},
   "source": [
    "The convective heat transfer coefficient is a parameter that is related to the fluid properties and the specific flow situation (e.g. fluid velocity, turbulance, etc.). "
   ]
  },
  {
   "cell_type": "markdown",
   "id": "eb24f342-c083-4030-b07c-f00eb14ef272",
   "metadata": {},
   "source": [
    "#### Radiative Heat Transfer"
   ]
  },
  {
   "cell_type": "markdown",
   "id": "201fc91f-1c8d-477d-9409-be4b644fa84b",
   "metadata": {},
   "source": [
    "Radiative heat transfer occurs as a result of electromagnetic wave propogation from one surface to another, either through a vacuum or a medium. Radiative heat transfer is the only mode of heat transfer that does not require a medium to propogate, and is thus the only mode of heat transfer to occur in vacuum. Propogation through a vacuum is unmitigated and thus we feel the effects of the electromagnetic radiation emitted by the sun even from millions of miles away. The net radiative heat transfer rate ($\\dot{Q}_{\\rm rad}$) between two surfaces with identical emissivities ($\\varepsilon$), a surface property of the material that varies from 0 to 1, at different temperatures $T_1$ and $T_2$ is described mathematically below."
   ]
  },
  {
   "cell_type": "markdown",
   "id": "97830c22-2154-4112-8040-d5e8bf6047dd",
   "metadata": {},
   "source": [
    "```{math}\n",
    ":label: eq_k\n",
    "\\dot{Q}_{\\rm rad} = \\sigma \\varepsilon (T_{1}^{4}-T_{2}^{4})\n",
    "```"
   ]
  },
  {
   "cell_type": "markdown",
   "id": "a7eeb9f0-710a-4c67-8dad-e100aae312c3",
   "metadata": {},
   "source": [
    "where $\\sigma$ is the Stefan-Boltzmann constant and equal to 5.67 E-8 $\\frac{\\rm W}{\\rm m^2K^4}$. Because of the fourth order temperature dependence, radiative heat transfer is often the dominant heat transfer mode at elevated temperature. Often, at lower temperatures the magnitude is small compared to convection and conduction, but not always."
   ]
  },
  {
   "cell_type": "markdown",
   "id": "e0604302-6ece-4d36-916d-0f924a176881",
   "metadata": {},
   "source": [
    "### Work Interactions"
   ]
  },
  {
   "cell_type": "markdown",
   "id": "8ffc8885-c729-4141-bc14-7c8303fcdd38",
   "metadata": {},
   "source": [
    "(MechanicalWork)=\n",
    "#### Mechanical Work"
   ]
  },
  {
   "cell_type": "markdown",
   "id": "17c43309-d9c5-4ea3-9517-42799772e460",
   "metadata": {},
   "source": [
    "```{index} mechanical work\n",
    "```"
   ]
  },
  {
   "cell_type": "markdown",
   "id": "f603a990-677d-4429-895d-5e17fc386653",
   "metadata": {},
   "source": [
    "A typical type of work often encountered in thermodynamic systems is {ref}`mechanical work <genindex>` ($W_{\\rm mech}$). Mechanical work is performed any time an external force ($F_{\\rm ext}$) acts through a distance, or "
   ]
  },
  {
   "cell_type": "markdown",
   "id": "955152c3-652d-47f3-b703-8ba705ba2463",
   "metadata": {},
   "source": [
    "```{math}\n",
    ":label: eq_l\n",
    "W_{\\rm mech} = \\int_{1}^{2} F_{\\rm ext}dx\n",
    "```"
   ]
  },
  {
   "cell_type": "markdown",
   "id": "034295c7-08d3-43c4-9a1c-fea74b420152",
   "metadata": {},
   "source": [
    "where the integration limits 1 and 2 represent the initial and final positions through which the force was applied. In the case of non-stationary systems where $KE$ and $PE$ cannot be ignored, the work associated with changing velocity or height can be determined with this expression. For example, in the case of $KE$ the force can be expressed as $ma$ and thus removing the mass outside the integral, the inside becomes $\\frac {dV}{dt} dx$, or  $VdV$ (i.e.,  $V = \\frac {dx}{dt}$). Integrating from position 1 to 2 we see that the mechanical work required to change the velocity of an object with constant mass is the following."
   ]
  },
  {
   "cell_type": "markdown",
   "id": "b6337cc9-6c13-4c2d-8077-6d969ad2c3c2",
   "metadata": {},
   "source": [
    "```{math}\n",
    ":label: eq_m\n",
    "W_{\\rm mech} = \\frac {1}{2} m(V_2^2-V_1^2)\n",
    "```"
   ]
  },
  {
   "cell_type": "markdown",
   "id": "924e74e1-0390-4dc4-8605-e68a3b5bc919",
   "metadata": {},
   "source": [
    "In the case of gravitational $PE$ the force can be expressed as $mg$, and thus integrating between heights 1 and 2 ($\\int_{1}^{2} mgdx$), we see that the mechanical work required to change the elevation of an object with constant mass is the following."
   ]
  },
  {
   "cell_type": "markdown",
   "id": "14c0acb1-c3d1-4fd7-a2d2-869cf42899ef",
   "metadata": {},
   "source": [
    "```{math}\n",
    ":label: eq_n\n",
    "W_{\\rm mech} = mg(h_2-h_1)\n",
    "```"
   ]
  },
  {
   "cell_type": "markdown",
   "id": "a2b4f910-500e-4471-a93e-1844b1c4d6fb",
   "metadata": {},
   "source": [
    "```{index} boundary work\n",
    "```"
   ]
  },
  {
   "cell_type": "markdown",
   "id": "682232c3-86ef-489e-a527-1e874f9074bc",
   "metadata": {},
   "source": [
    "In the case of closed thermodynamic systems, {ref}`boundary work <genindex>` is especially relevent. Boundary work is a type of mechanical work that is relevant whenever the volume of a system changes due to expansion or compression, for example in the case of a piston-cylinder device. Starting from {eq}`eq_l`, we can relate the volume of a system to its position by dividing by its cross sectional area, $A$ - i.e. $dx = \\frac {dV}{A}$. Then, recognizing the relationship between force and pressure, i.e., $p = \\frac {F}{A}$, we can rearrange equation {eq}`eq_l` in the form below,"
   ]
  },
  {
   "cell_type": "markdown",
   "id": "28d1dc7b-1857-480b-b568-b028ca22aa64",
   "metadata": {},
   "source": [
    "```{math}\n",
    ":label: eq_o\n",
    "W_{\\rm mech} = \\int_{1}^{2} pdV\n",
    "```"
   ]
  },
  {
   "cell_type": "markdown",
   "id": "519b5cc9-d8e4-4e6f-8382-64dac4f04d4b",
   "metadata": {},
   "source": [
    "where the integration limits 1 and 2 now represent the initial and final volumes during compression and expansion processes. It should be noted that this derivation is only valid for slow, or reversible processes, where the internal and external forces, are quasi-equal. I.e., the internal pressure is in equilibrium with the external force being applied. More on this is discussed in the next chapter in the section {numref}`Reversibility` {ref}`Reversibility`."
   ]
  },
  {
   "cell_type": "markdown",
   "id": "c135cb73-8a42-40f4-81ac-b964353803fc",
   "metadata": {},
   "source": [
    "Note that for a constant pressure processes, the boundary work reduces to: "
   ]
  },
  {
   "cell_type": "markdown",
   "id": "b7c3ab4d-4079-4ecd-81a9-ecc8a3d0afe5",
   "metadata": {},
   "source": [
    "```{math}\n",
    ":label: eq_p\n",
    "W_{\\rm mech} = p\\Delta V\n",
    "```"
   ]
  },
  {
   "cell_type": "markdown",
   "id": "eda3cfbe-f7ac-4c1f-862e-75bf5d1cfdd1",
   "metadata": {},
   "source": [
    "```{index} rotational work, shaft work, flow work, spring work, other mechanical work\n",
    "```"
   ]
  },
  {
   "cell_type": "markdown",
   "id": "8a8611ba-10f1-40f0-8a66-a43786e1d1bc",
   "metadata": {},
   "source": [
    "Other forms of mechanical work include {ref}`rotational (or shaft) work <genindex>`, {ref}`flow work <genindex>`, {ref}`spring work <genindex>`, work done on elastic solid bars and that associated with the stretching of liquid films. Flow work, which is related to the work required to push flow into and out of control volumes, will be especially important during our consideration of open systems."
   ]
  },
  {
   "cell_type": "markdown",
   "id": "f8cbde15-0bd7-46c9-a24a-247a6accd403",
   "metadata": {},
   "source": [
    "#### Other Types of Work"
   ]
  },
  {
   "cell_type": "markdown",
   "id": "11f164ed-1581-4250-9f6e-f86048901a9a",
   "metadata": {},
   "source": [
    "```{index} electric work, magnetic work, electrical polarization work\n",
    "```"
   ]
  },
  {
   "cell_type": "markdown",
   "id": "93c16eea-0ee4-482d-9fba-4d705ad1db1c",
   "metadata": {},
   "source": [
    "In addition to mechanical work, there are several other forms of work inluding {ref}`electric work <genindex>`, {ref}`magnetic work <genindex>` and {ref}`electrical polarization <genindex>` work that will not be considered in detail here. But, for the sake of their application towards the First Law, we can treat these simply as work terms either to or from our system of interest, being sure to apply to correct signage. "
   ]
  },
  {
   "cell_type": "markdown",
   "id": "8d34ad9a-00e2-44d7-8894-781844fa84f2",
   "metadata": {},
   "source": [
    "#### Path Dependence"
   ]
  },
  {
   "cell_type": "markdown",
   "id": "a9aa41a6-5002-4310-9137-60dc3fd612fe",
   "metadata": {},
   "source": [
    "```{index} inexcact differential, path dependence\n",
    "```"
   ]
  },
  {
   "cell_type": "markdown",
   "id": "cec6b751-3019-44e3-be71-d872394800c3",
   "metadata": {},
   "source": [
    "In differental form, boundary work is expressed as the following,"
   ]
  },
  {
   "cell_type": "markdown",
   "id": "ef57e91b-56ba-4aed-9067-5c7f16ad2c8e",
   "metadata": {},
   "source": [
    "```{math}\n",
    ":label: eq_q\n",
    "\\delta W_{\\rm mech} = PdV\n",
    "```"
   ]
  },
  {
   "cell_type": "markdown",
   "id": "c13d8ff0-62bb-46af-a6c8-0944295d4822",
   "metadata": {},
   "source": [
    "where the use of $\\delta$ refers to the fact that this is an {ref}`inexact differential <genindex>` and its evaluation is dependent on the {ref}`path <genindex>` of the process. Recall discussion of {numref}`Figure %s <intro fig a>` in {numref}`ThermodynamicSystems` {ref}`ThermodynamicSystems`. I.e., the boundary work depends on the volume dependence of pressure and to evaluate we would need to know the functional dependence of pressure on volume, or $p(V)$. We will see later after our introduction of the Second Law of Thermodynamics that we can also relate the reversible heat transfer to temperature and entropy via a similarly formed expression."
   ]
  },
  {
   "cell_type": "markdown",
   "id": "608a9f82-9ac1-4d8e-87f9-a67d9aa96993",
   "metadata": {},
   "source": [
    "```{math}\n",
    ":label: eq_r\n",
    "\\delta Q_{\\rm rev} = TdS\n",
    "```"
   ]
  },
  {
   "cell_type": "markdown",
   "id": "b795c31c-5839-418f-9fe9-fdd649523874",
   "metadata": {
    "tags": []
   },
   "source": [
    "(ConstV)=\n",
    "#### Example - Constant Volume System"
   ]
  },
  {
   "cell_type": "markdown",
   "id": "f768d8b6-da0b-4b46-932f-f68fa68369c7",
   "metadata": {
    "tags": []
   },
   "source": [
    "Initially, a constant volume, 1m$^3$ system, composed of H<sub>2</sub>O is at 20 $^\\circ$C and 100 kPa. Calculate the final internal energy and temperature after 20 kJ of heat have been added."
   ]
  },
  {
   "cell_type": "markdown",
   "id": "3091dc8c-f1b0-4a54-b3a8-7ff8fc510fc0",
   "metadata": {},
   "source": [
    "> **Solution** - First we should recognize that this is a stationary, closed system and the volume remains constant. Because it is stationary we can neglect changes in kinetic and potential energies, and because the volume remains constant we can neglect any boundary work. Therefore, the closed system energy conservation equation reduces to: "
   ]
  },
  {
   "cell_type": "markdown",
   "id": "49531079-211b-482b-b24b-358e9c2f0d70",
   "metadata": {},
   "source": [
    "> $\\Delta U = Q$ and therefore $U_2-U_1$ = 20 kJ. Notice that the heat transfer term remained positive because heat was added to the system. We can use Cantera to help us find property values, $v_1$ and $u_1$ at State 1. "
   ]
  },
  {
   "cell_type": "code",
   "execution_count": 46,
   "id": "7775f7ec-f201-4ae9-82c6-2712e799e2fa",
   "metadata": {
    "tags": []
   },
   "outputs": [
    {
     "name": "stdout",
     "output_type": "stream",
     "text": [
      "0.0010017390901042916\n",
      "-15886873.004300132\n"
     ]
    }
   ],
   "source": [
    "import cantera as ct\n",
    "species1 = ct.Water()# define state 1 as water\n",
    "species1.TP = 273.15+20, 100000 \n",
    "v1=species1.UV[1]\n",
    "print(v1) #units m^3/kg\n",
    "u1=species1.UV[0]\n",
    "print(u1) #units kJ/kg"
   ]
  },
  {
   "cell_type": "markdown",
   "id": "7d14e584-1e95-4673-8751-b700821e4194",
   "metadata": {},
   "source": [
    "> Knowing $v_1$ and the total volume we can solve for the mass, $m$, and then subsequently $U_1$. Then we can directly solve for $U_2$ using the energy equation."
   ]
  },
  {
   "cell_type": "code",
   "execution_count": 47,
   "id": "4ac2a64e-115d-4458-9dbb-3d1ef5ffbbfd",
   "metadata": {
    "tags": []
   },
   "outputs": [
    {
     "name": "stdout",
     "output_type": "stream",
     "text": [
      "-15859292246.05916\n"
     ]
    }
   ],
   "source": [
    "m=1/v1\n",
    "U1 = u1*m\n",
    "U2 = 20+U1\n",
    "print(U2) # units J"
   ]
  },
  {
   "cell_type": "markdown",
   "id": "dd03c83f-4340-40bd-96ac-b57a0fee9735",
   "metadata": {
    "tags": []
   },
   "source": [
    "> Then we can also determine the temperature at State 2, recognizing that the specific volume remains the same and $u_2 = \\frac {U_2}{m}$"
   ]
  },
  {
   "cell_type": "code",
   "execution_count": 48,
   "id": "431aff71-a274-4f00-930b-03032843b654",
   "metadata": {
    "tags": []
   },
   "outputs": [
    {
     "name": "stdout",
     "output_type": "stream",
     "text": [
      "293.15\n"
     ]
    }
   ],
   "source": [
    "species1.UV = U2/m,v1\n",
    "T2=species1.TP[0]\n",
    "print(T2) #units in K"
   ]
  },
  {
   "cell_type": "markdown",
   "id": "83ddfdd4-598a-4e64-a98c-7e75abdc0415",
   "metadata": {
    "tags": []
   },
   "source": [
    "(ConstP)=\n",
    "#### Example - Constant Pressure System"
   ]
  },
  {
   "cell_type": "markdown",
   "id": "a9b3de05-6886-4f42-95fa-6b052c95c89d",
   "metadata": {
    "tags": []
   },
   "source": [
    "Initially, a piston-cylinder filled with nitrogen gas (N<sub>2</sub>) with volume 1m$^3$ is at 20 $^\\circ$C and 100 kPa. Then, heat is added and the piston expands as a result until the temperature reaches 80 $^\\circ$C. Calculate the heat transfer and work for this process. "
   ]
  },
  {
   "cell_type": "markdown",
   "id": "cd86d09d-f90a-40b4-b8ef-0815f3bea7ba",
   "metadata": {
    "tags": []
   },
   "source": [
    "> **Solution** - First we should recognize that this is a stationary, closed system and the volume is not constant. Because it is stationary we can neglect changes in kinetic and potential energies, but we cannot neglect the boundary work because the volume changes. Therefore, the closed system energy conservation equation reduces to: "
   ]
  },
  {
   "cell_type": "markdown",
   "id": "078a5629-dc3c-4a49-ac90-462c16c6e3c2",
   "metadata": {
    "tags": []
   },
   "source": [
    "> $\\Delta U = Q - W$, where $W = p \\Delta V$ or $W = pm(v_2-v_1)$. We can solve for properties at State 1 and State 2 since we know both pressure and temperature at each state. Therefore, we can first solve for the boundary work. Then, knowing the boundary work we can use this to solve for the heat transfer using the energy equation. We can use Cantera to help us find property values at each state. "
   ]
  },
  {
   "cell_type": "code",
   "execution_count": 49,
   "id": "254eb2f8-1fd8-428e-a812-feaa90f6e859",
   "metadata": {
    "tags": []
   },
   "outputs": [
    {
     "name": "stdout",
     "output_type": "stream",
     "text": [
      "0.8698356662951862\n",
      "-92360.7771094957\n"
     ]
    }
   ],
   "source": [
    "import cantera as ct\n",
    "#First State 1\n",
    "species1 = ct.Nitrogen()# define state 1 as nitrogen\n",
    "species1.TP = 273.15+20, 100000 \n",
    "v1=species1.UV[1]\n",
    "print(v1) #units m^3/kg\n",
    "u1=species1.UV[0]\n",
    "print(u1) #units J/kg"
   ]
  },
  {
   "cell_type": "code",
   "execution_count": 50,
   "id": "a45c7355-0748-4626-921d-d1ee4b917160",
   "metadata": {},
   "outputs": [
    {
     "name": "stdout",
     "output_type": "stream",
     "text": [
      "1.0482602451043912\n",
      "-47752.384543076914\n"
     ]
    }
   ],
   "source": [
    "#Now State 2\n",
    "species1.TP = 273.15+80, 100000 #redefine temperature\n",
    "v2=species1.UV[1]\n",
    "print(v2) #units m^3/kg\n",
    "u2=species1.UV[0]\n",
    "print(u2) #units J/kg"
   ]
  },
  {
   "cell_type": "markdown",
   "id": "e3707d0b-deba-44a0-b4c6-50ced9e545b9",
   "metadata": {},
   "source": [
    "> Knowing $v_1$ and the initial total volume we can solve for the mass, $m$, and finally the work"
   ]
  },
  {
   "cell_type": "code",
   "execution_count": 55,
   "id": "2d0d2081-98bb-4570-8c0f-664590e4a7a8",
   "metadata": {
    "tags": []
   },
   "outputs": [
    {
     "name": "stdout",
     "output_type": "stream",
     "text": [
      "1.1496424425307958\n",
      "Boundary Work is  20.512446858974297 kJ\n"
     ]
    }
   ],
   "source": [
    "m=1/v1\n",
    "print(m) # units kg\n",
    "W=100*m*(v2-v1) #notice units. Multiplied by a pressure of 100 kPa, thus units for work are kJ\n",
    "print(\"Boundary Work is \", W, \"kJ\")"
   ]
  },
  {
   "cell_type": "markdown",
   "id": "24c10d29-f127-4765-bfed-98e1b1c80b91",
   "metadata": {
    "tags": []
   },
   "source": [
    "> Then we can solve for the heat transfer during the process using the energy equation, or $\\Delta U = Q - W$. And rearranging to solve for $Q$ we see that $Q = W + m(u_2-u_1)$. Because the work is done by the system we insert the boundary work as a positive value. We need to be sure that our units are consistent. Our work was in kJ and specific internal energies in J/kg, so we will divide the internal energy terms by 1000 so that the units are kJ/kg."
   ]
  },
  {
   "cell_type": "code",
   "execution_count": 56,
   "id": "278e3658-da8d-4ab2-8055-bd02f5df783f",
   "metadata": {
    "tags": []
   },
   "outputs": [
    {
     "name": "stdout",
     "output_type": "stream",
     "text": [
      "The Heat Transfer is  71.79614824640458 kJ\n",
      "or with less significant digits\n",
      "The Heat Transfer is  71.8 kJ\n"
     ]
    }
   ],
   "source": [
    "Q = W + m*(u2/1000-u1/1000)\n",
    "print(\"The Heat Transfer is \", Q, \"kJ\")\n",
    "print(\"or with less significant digits\")\n",
    "print(\"The Heat Transfer is \", round(Q,2), \"kJ\")"
   ]
  },
  {
   "cell_type": "markdown",
   "id": "b9c05f83-3938-4334-b917-e6eef59e18c3",
   "metadata": {},
   "source": [
    "(Enthalpy)=\n",
    "## Enthalpy"
   ]
  },
  {
   "cell_type": "markdown",
   "id": "a4fdd459-6399-47dc-b767-c62439c468f7",
   "metadata": {},
   "source": [
    "```{index} inexcact differential, path dependence\n",
    "```"
   ]
  },
  {
   "cell_type": "markdown",
   "id": "ab62b744-d688-4a68-a931-58b4fac48e4e",
   "metadata": {},
   "source": [
    "You may have noticed if you typed $species1()$ into your jupyter notebook during the prior example that the specific property {ref}`enthalpy <genindex>` ($h$) is shown right above internal energy. See below."
   ]
  },
  {
   "cell_type": "code",
   "execution_count": 54,
   "id": "e8094bd6-6386-458e-a3c8-c9ff6e37e652",
   "metadata": {},
   "outputs": [
    {
     "name": "stdout",
     "output_type": "stream",
     "text": [
      "\n",
      "  nitrogen:\n",
      "\n",
      "       temperature   353.15 K\n",
      "          pressure   1e+05 Pa\n",
      "           density   0.95396 kg/m^3\n",
      "  mean mol. weight   28.013 kg/kmol\n",
      "    vapor fraction   1\n",
      "   phase of matter   supercritical\n",
      "\n",
      "                          1 kg             1 kmol     \n",
      "                     ---------------   ---------------\n",
      "          enthalpy             57074        1.5988e+06  J\n",
      "   internal energy            -47752       -1.3377e+06  J\n",
      "           entropy              7016        1.9654e+05  J/K\n",
      "    Gibbs function       -2.4206e+06        -6.781e+07  J\n",
      " heat capacity c_p            1041.5             29176  J/K\n",
      " heat capacity c_v            743.77             20836  J/K\n",
      "\n"
     ]
    }
   ],
   "source": [
    "species1()"
   ]
  },
  {
   "cell_type": "markdown",
   "id": "a6e4dad3-ab6e-4e0d-b6f8-a995e8374951",
   "metadata": {},
   "source": [
    "Enthalpy ($H$) is an extensive property of a system that is related to the internal energy and boundary work, with units, J. Specific enthalpy is a property that is tabulated primarily for convenience. Whenever a piston-cylinder expands in a constant pressure process, we can re-write the energy equation like below becuase the boundary work reduces to $p \\Delta V$."
   ]
  },
  {
   "cell_type": "markdown",
   "id": "c1dda703-ff22-460f-869a-c8f2cf69ba7b",
   "metadata": {},
   "source": [
    "```{math}\n",
    ":label: eq_s\n",
    "(U_2-U_1) = Q - p(V_2-V_1)\n",
    "```"
   ]
  },
  {
   "cell_type": "markdown",
   "id": "77f42f04-0ba6-49a7-9985-725703e28f4f",
   "metadata": {},
   "source": [
    "Rearranging the above equation, we can solve for the heat transfer as: "
   ]
  },
  {
   "cell_type": "markdown",
   "id": "c2d66ba1-9356-48f0-9e82-2f53d5f3aac1",
   "metadata": {},
   "source": [
    "```{math}\n",
    ":label: eq_t\n",
    "Q = (U_2 + pV_2) -(U_1 + pV_1)\n",
    "```"
   ]
  },
  {
   "cell_type": "markdown",
   "id": "a9be9f61-2e17-40bd-a00c-6030058c27e8",
   "metadata": {},
   "source": [
    "The terms $U + pV$ occur often enough in thermodynamic processes that these have also been tabulated, and we call this enthalpy. Thus,"
   ]
  },
  {
   "cell_type": "markdown",
   "id": "789ff3d4-a346-4388-8929-12dfd62270e6",
   "metadata": {},
   "source": [
    "```{math}\n",
    ":label: eq_u\n",
    "H = U + pV\n",
    "```"
   ]
  },
  {
   "cell_type": "markdown",
   "id": "69633106-3c03-4034-9417-e11f220ca51d",
   "metadata": {},
   "source": [
    "and **for constant pressure processes the heat transfer is therefore the change in enthalpy**."
   ]
  },
  {
   "cell_type": "markdown",
   "id": "cecb4fec-c34a-4216-b457-a3aa889a8164",
   "metadata": {},
   "source": [
    "```{math}\n",
    ":label: eq_v\n",
    "Q = \\Delta H \\hspace{5em}p=\\rm{const.} \n",
    "```"
   ]
  },
  {
   "cell_type": "markdown",
   "id": "bffde01d-6a3f-4574-80bf-931e4c25306b",
   "metadata": {},
   "source": [
    "Thus, the change in enthalpy accounts for the changes in internal energy and boundary work of the system. Recall, that **for constant volume processes the heat transfer is the change in internal energy**, as a result of zero boundary work."
   ]
  },
  {
   "cell_type": "markdown",
   "id": "fdedcb6c-2a7a-432c-a540-9370e4d32e70",
   "metadata": {},
   "source": [
    "```{math}\n",
    ":label: eq_w\n",
    "Q = \\Delta U \\hspace{5em}v=\\rm{const.}  \n",
    "```"
   ]
  },
  {
   "cell_type": "markdown",
   "id": "066dc143-79b8-4fb4-ae2a-c783b5475db9",
   "metadata": {},
   "source": [
    "Let's revisit the constant pressure piston-cylinder example above and see how we could solve this more simply using enthalpy, rather than requiring evaluation of internal energy and volume."
   ]
  },
  {
   "cell_type": "markdown",
   "id": "9667689f-a35d-42ac-a0a3-893c052abf88",
   "metadata": {
    "tags": []
   },
   "source": [
    "#### Example Revisted - Constant Pressure System using Enthalpy"
   ]
  },
  {
   "cell_type": "markdown",
   "id": "2de5edc4-6bff-4c0a-8f11-5aea52996ddf",
   "metadata": {
    "tags": []
   },
   "source": [
    "Initially, a piston-cylinder filled with nitrogen gas (N<sub>2</sub>) with volume 1m$^3$ is at 20 $^\\circ$C and 100 kPa. Then, heat is added and the piston expands as a result until the temperature reaches 80 $^\\circ$C. Calculate the heat transfer for this process. "
   ]
  },
  {
   "cell_type": "markdown",
   "id": "d242d1ca-9558-42de-aaa6-908ca9112d6d",
   "metadata": {
    "tags": []
   },
   "source": [
    "> **Solution** - First we should recognize that this is a stationary, closed system and the volume is not constant. Because it is stationary we can neglect changes in kinetic and potential energies, but we cannot neglect the boundary work because the volume changes. Therefore, the closed system energy conservation equation reduces to: "
   ]
  },
  {
   "cell_type": "markdown",
   "id": "7ed31c1f-b872-4c39-bd98-60e93692eca1",
   "metadata": {
    "tags": []
   },
   "source": [
    "> $\\Delta U = Q - W$, where $W = p \\Delta V$ or $W = pm(v_2-v_1)$. But, because this is a constant pressure process, we also know that the heat transfer is the change in enthalpy, or $Q = \\Delta H = m(h_2-h_1)$. Therefore, we can solve for the heat transfer by evaluating the specific enthalpy at each state, without having to determine anything related to the boundary work.  We can solve for specific enthalpies at State 1 and State 2 since we know both pressure and temperature at each state. Then, we can determine the specific volume at State 1 and knowing that and the initial volume we can solve for the mass of the system. We can use Cantera to help us find property values at each state. "
   ]
  },
  {
   "cell_type": "code",
   "execution_count": 61,
   "id": "30b68eae-fa36-486c-8f90-f71dc7a7fa7b",
   "metadata": {
    "tags": []
   },
   "outputs": [
    {
     "name": "stdout",
     "output_type": "stream",
     "text": [
      "0.8698356662951862\n",
      "-5377.210471401646\n"
     ]
    }
   ],
   "source": [
    "import cantera as ct\n",
    "#First State 1\n",
    "species1 = ct.Nitrogen()# define state 1 as nitrogen\n",
    "species1.TP = 273.15+20, 100000 \n",
    "v1=species1.UV[1]\n",
    "print(v1) #units m^3/kg\n",
    "h1=species1.HP[0] # note that the .HP is used to get or set property values and needed for enthalpy\n",
    "print(h1) #units J/kg"
   ]
  },
  {
   "cell_type": "code",
   "execution_count": 62,
   "id": "d4e3521f-06cd-4d44-9076-b9e27388154e",
   "metadata": {},
   "outputs": [
    {
     "name": "stdout",
     "output_type": "stream",
     "text": [
      "57073.6399838529\n"
     ]
    }
   ],
   "source": [
    "#Now State 2\n",
    "species1.TP = 273.15+80, 100000 #redefine temperature\n",
    "h2=species1.HP[0]\n",
    "print(h2) #units J/kg"
   ]
  },
  {
   "cell_type": "markdown",
   "id": "dc31a0de-f461-4417-99bc-3f99840de638",
   "metadata": {},
   "source": [
    "> Knowing $v_1$ and the initial total volume we can solve for the mass, $m$, and finally the heat transfer."
   ]
  },
  {
   "cell_type": "code",
   "execution_count": 64,
   "id": "e79db8c6-b943-48ea-ba02-a4d978da1727",
   "metadata": {
    "tags": []
   },
   "outputs": [
    {
     "name": "stdout",
     "output_type": "stream",
     "text": [
      "1.1496424425307958\n",
      "The Heat Transfer is  71.7961482555043 kJ\n",
      "or with less significant digits\n",
      "The Heat Transfer is  71.8 kJ\n"
     ]
    }
   ],
   "source": [
    "m=1/v1\n",
    "print(m) # units kg\n",
    "Q=m*(h2-h1)/1000 #notice units. Divided by 1000 to convert from J/kg to kJ/kg.\n",
    "print(\"The Heat Transfer is \", Q, \"kJ\")\n",
    "print(\"or with less significant digits\")\n",
    "print(\"The Heat Transfer is \", round(Q,2), \"kJ\")"
   ]
  },
  {
   "cell_type": "markdown",
   "id": "640bd4b7-5590-4e02-a9b2-32c51852213c",
   "metadata": {
    "tags": []
   },
   "source": [
    "> Notice that the answer is identical to the prior example, when we used both internal energy and boundary work to determine the heat transfer. But in this case there was one fewer step because we did not need to evaluate the boundary work. Of course, we could also determine the boundary work without ever calculating the change in volume by understanding that we can also solve for the internal energies at states 1 and 2. With this and the heat transfer we could solve directly for the boundary work using the energy conservation equation, $W = Q - \\Delta U$."
   ]
  },
  {
   "cell_type": "markdown",
   "id": "ae6eb841-2b72-46ff-8ea5-7d2a5291aae8",
   "metadata": {},
   "source": [
    "(Exercise3)=\n",
    "### Exercise 3"
   ]
  },
  {
   "cell_type": "markdown",
   "id": "de4a6c80-023d-4158-8575-37667e6bdfb9",
   "metadata": {},
   "source": [
    "1. A closed rigid container of 0.5 m<sup>3</sup> is placed on a hot plate. Initially it contains a two phase mixture of saturated liquid and saturated vapor H<sub>2</sub>O at $p_1$ = 1 bar with x = 0.5. After heating $p_2$ = 1.5 bar. Determine T at states 1 and 2. Determine the heat transfer during the process.\n",
    "\n",
    "1. A piston cylinder assembly initially (State 1) contains 10 kg of H<sub>2</sub>O at 1200 kPa. \n",
    "    1. If 8 kg is in the liquid form and the rest vapor, determine the temperature, specific volume and specific enthalpy.\n",
    "    1. The cylinder continues to be heated at constant pressure until the temperature reaches 300 °C (State 2). Determine the final state (compressed liquid, saturated mixture, superheated vapor), specific volume and specific enthalpy.\n",
    "    1. Determine the heat transfer and work for this process.\n",
    "\n",
    "1. Water initially at 200 kPa and 300 °C is contained in a piston-cylinder fitted with stops. The water is allowed to cool at constant pressure until it exists as a saturated vapor and the piston rests on the stops. Then, the water continues to cool until the pressure is 100 kPa. Find:\n",
    "    1. The change in specific internal energy during initial cooling to the stops\n",
    "    1. The change in specific volume during initial cooling to the stops\n",
    "    1. The change in specific enthalpy during initial cooling to the stops\n",
    "    1. The specific heat transfer during initial cooling to the stops, using answers from parts a and b.\n",
    "    1. The specific heat transfer during initial cooling to the stops, using answer from part c.\n",
    "    1. The change in specific internal energy during final cooling while resting on the stops\n",
    "    1. The total specific heat transfer during the entire process\n",
    "\n",
    "1. A piston-cylinder contains 0.005 m3 of liquid water and 0.9 m3 of water vapor at 600 kPa. Heat is transferred at constant presssure until the temperature reaches 200 °C.\n",
    "\n",
    "    1. Determine the heat transfer using enthalpies\n",
    "\n",
    "    1. Determine the heat transfer without using enthalpies\n",
    "\n",
    "1. A 1-m3 tank containing air at 10°C and 350 kPa is connected through a valve to another tank containing 3 kg of air at 35°C and 150 kPa. Now the valve is opened, and the entire system is allowed to reach thermal equilibrium with the surroundings, which are at 20°C. Determine the volume of the second tank and the final equilibrium pressure of air.\n",
    "\n",
    "1. A mass of 0.1 kg of helium fills a 0.2 m3 rigid vessel at 350 kPa. The vessel is heated until the pressure is 700 kPa. Calculate the temperature change of helium as a result of this heating.\n",
    "\n",
    "1. Determine the specific volume of refrigerant-134a vapor at 0.9 MPa and 70°C based on (a) the ideal-gas equation and (b) using Cantera.\n",
    "\n",
    "1. Carbon dioxide gas enters a pipe at 3 MPa and 500 K at a rate of 2 kg/s. CO2 is cooled at constant pressure as it flows in the pipe, and the temperature of the CO2 drops to 450 K at the exit. Determine the volume flow rate and the density of carbon dioxide at the inlet and the volume flow rate at the exit of the pipe using (a) the ideal-gas equation and (b) using Cantera.\n",
    "\n",
    "1. A rigid 10-L vessel initially contains a mixture of liquid water and vapor at 100°C with 12.3 percent quality. The mixture is then heated until its temperature is 180°C. Calculate the heat transfer required for this process.\n",
    "\n",
    "1. Two tanks (Tank A and Tank B) are separated by a partition. Initially Tank A contains 2 kg of steam at 1 MPa and 300°C while Tank B contains 3 kg of saturated liquid–vapor mixture at 150°C with a vapor mass fraction of 50 percent. The partition is now removed and the two sides are allowed to mix until mechanical and thermal equilibrium are established. If the pressure at the final state is 300 kPa, determine (a) the temperature and quality of the steam (if mixture) at the final state and (b) the amount of heat lost from the tanks.\n",
    "\n",
    "1. A 3 m<sup>3</sup> rigid tank contains hydrogen at 250 kPa and 550 K. The gas is now cooled until its temperature drops to 350 K. Determine (a) the final pressure in the tank with and without using the ideal gas law (i.e., Cantera property evaluation) and (b) the amount of heat transfer with and without using specific heats (i.e., Cantera property evaluation).\n",
    "\n",
    "2. A piston is filled with nitrogen at *_T_* = 700 K and *_v_* = 0.4 m<sup>3</sup>/kg. The piston then compresses at a constant pressure until T = 500 K.\n",
    "    1. What is the work (*_W_*) per kg of nitrogen done by the piston, assuming there is no heat transfer?\n",
    "    2. The piston is then held in place and the nitrogen is heated 20°C, what is the pressure (*_P_*) and heat transfer per kg (*_q_*) of the heating?\n",
    "\n",
    "2. A 0.4 kg of water at 800 K fills a 20L tank. It undergoes a constant pressure process, where it cools until the temperature of the water is half of its original value. Find the heat transfer from this process (_*Q*_).\n",
    "\n",
    "3. CO<sub>2</sub> at *_v_* = 0.45 m<sup>3</sup>/kg is heated 100°C in a piston. The piston head has a mass of 10kg and a 1 cm diameter. The piston head is free to move. What is the specific heat transfer (*_q_*) during this process? (_The values for pressure on Cantera is absolute pressure_)\n",
    "\n",
    "4. A rigid tank is filled with 100L of water at ambient conditions. 300 kJ of heat are transferred to the water by a natural gas heater. What is the final pressure (*_P_*) and temperature (*_T_*) in the tank after the heating process?\n",
    "\n",
    "5. A 50L tank of water at ambient conditions is sealed and placed under the sun for five hours. 100 kJ of heat are transfered to the tank. Assume the water does not reach the stagnation temperature. What is the temperature (*_T_*) and pressure (*_P_*) of the water after heating? "
   ]
  },
  {
   "cell_type": "markdown",
   "id": "bff9f690-c716-4178-9070-e1c49bc65cc9",
   "metadata": {},
   "source": [
    "{numref}`Exercise3Solutions` {ref}`Exercise3Solutions`"
   ]
  },
  {
   "cell_type": "code",
   "execution_count": null,
   "id": "833f347a-670e-4c75-ab47-a074759e79ed",
   "metadata": {},
   "outputs": [],
   "source": []
  }
 ],
 "metadata": {
  "kernelspec": {
   "display_name": "Python 3 (ipykernel)",
   "language": "python",
   "name": "python3"
  },
  "language_info": {
   "codemirror_mode": {
    "name": "ipython",
    "version": 3
   },
   "file_extension": ".py",
   "mimetype": "text/x-python",
   "name": "python",
   "nbconvert_exporter": "python",
   "pygments_lexer": "ipython3",
   "version": "3.12.3"
  }
 },
 "nbformat": 4,
 "nbformat_minor": 5
}
