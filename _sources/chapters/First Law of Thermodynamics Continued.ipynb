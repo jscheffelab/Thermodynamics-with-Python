{
 "cells": [
  {
   "cell_type": "markdown",
   "id": "22572c61-73fc-426d-8533-030ddfb024ec",
   "metadata": {},
   "source": [
    "(FirstLawApplications)=\n",
    "# First Law of Thermodynamics - Boundary Work and Specific Heats "
   ]
  },
  {
   "cell_type": "markdown",
   "id": "8626fc9f-352a-4d9b-bf91-e8896b1f0fe7",
   "metadata": {},
   "source": [
    "```{index} energy equation\n",
    "```"
   ]
  },
  {
   "cell_type": "markdown",
   "id": "0689584e-0b82-4c16-9b9b-fc5d04f0a9df",
   "metadata": {},
   "source": [
    "In the previous chapter {numref}`FirstLaw` {ref}`FirstLaw` we learned about various forms of heat transfer and work interactions and used or evaluated these with the help of {ref}`energy conservation equation <genindex>` for closed systems and evaluation of the relevant properties. We learned that for stationary, closed systems undergoing a process, the energy equation reduces to $\\Delta U = Q_{\\rm net} - W_{\\rm net}$ , where the internal energy is the combined microscopic forms of energy of the system (e.g., thermal energy), $Q_{\\rm net}$ is the net heat transfer and $W_{\\rm net}$ is the net work. When the heat transfer and work terms are added to the energy equation in numerical form, the correct sign should be applied to them, depending on the direction of the interaction. I.e., positive for heat transfer to the system and work from the system, and negative for heat transfer from the system and work to the system. Note that if you are solving for either $Q$ or $W$, then the resulting sign is indicitive of the direction of heat transfer and you do not need to apply the correct sign. Refer to the section {numref}`EnergyTransfer` {ref}`EnergyTransfer` from chapter {numref}`FirstLaw` {ref}`FirstLaw` for more discussion."
   ]
  },
  {
   "cell_type": "markdown",
   "id": "1852b42e-b681-4d81-b876-d54f332b2191",
   "metadata": {},
   "source": [
    "For fixed volume systems, boundary work can be ignored, and in the absense of other work interactions the energy equation reduces to $Q_{\\rm net} = \\Delta U$. However, for variable volume systems such as piston-cylinders undergoing compression/expansion, we cannot ignore the boundary work. Refer to the prior examples {numref}`ConstV` {ref}`ConstV` and {numref}`ConstP` {ref}`ConstP` from chapter {numref}`FirstLaw` {ref}`FirstLaw`. For the special case of constant pressure compression/expanion, we also showed that $Q_{\\rm net} = \\Delta H$, where H is the extensive property enthalpy and captures the internal energy and boundary work into a single term ($h = u + pv$). Refer to the section {numref}`Enthalpy` {ref}`Enthalpy` from chapter {numref}`FirstLaw` {ref}`FirstLaw` for more discussion."
   ]
  },
  {
   "cell_type": "markdown",
   "id": "727675df-1bc3-4548-8a8f-9b7f7f4cc536",
   "metadata": {},
   "source": [
    "In this chapter the concept of reversible, polytropic work is introduced which allows us to readily evaluate boundary work when pressure is not constant. Further, specific heats, $c_{\\rm p}$ and $c_{\\rm v}$ are introduced, which are thermodynamic properties that enable evaluation of internal energy and enthalpy changes by measurement of other system properties, such as temperature and pressure, which are readily measurable."
   ]
  },
  {
   "cell_type": "markdown",
   "id": "e4b60339-75f9-4687-8778-6849bc414c93",
   "metadata": {},
   "source": [
    "(Reversibility)=\n",
    "## More on Boundary Work - Reversible Processes"
   ]
  },
  {
   "cell_type": "markdown",
   "id": "60dd21f3-ac2e-4bd6-a237-a261a168d7ed",
   "metadata": {},
   "source": [
    "Reversible processes are those which can occur in the forward and reverse directions without any external input from the surroundings. They are idealized processes that are not possible in nature, but provide reference for the maximum or minimum input that is required to drive a process. For example, the maximum work output acheivable by lowering a weight from a high to low elevation is the change in gravitational potential energy, or $W = mg(h_2-h_1)$.  For a reversible process, the reverse direction (i.e., raising the weight back to its original elevation) should be equally possible without any added external input from the surroundings. The only way this is possible is if the work output gained from dropping the weight were used to raise the weight back to its original height. In reality, the work output will be lower than the change in potential energy because of other external factors that render processes irreversible, such as friction. Further, more work will need to be put into raising the mass than the idealized reversible work in order to overcome the frictional losses. \n",
    "\n",
    "As seen from the above example, friction is one type of irreversibility. Another is any form of heat transfer over a finite temperature gradient. This is because heat transfer can only occur in one direction spontaneously, i.e., from hot to cold. The only way to transfer heat back from a cool body to a warmer one would require an external work input (i.e., a heat pump, which we will learn about following a more in depth disussion of the Second Law of Thermodynamics, in later chapters), thereby rendering the process irreversible. Finally, another irreversibility is the unconstrained release of pressure, which is especially relevant for expansion and compression processes in piston-cylinder devices. \n",
    "\n",
    "To extract the maximum work via a reversible expansion process, expansion should be constrained in such a way that the external force (and thus pressure) that the system is acting against decreases gradually as volume increases. In essence, the internal and external forces are almost equal to each other, but one is infintessimally larger or smaller than the other. You can imagine this as an infinite series of weights or stops, such that as one is removed, the volume increases infinitesimally and the pressure decreases infinitesimally. In the opposite extreme case, or one that is completely irreversible resulting in the minimum work, the pressure is released in an unconstrained manner and the external force that the system works against is a minimum. Examples of unconstrained and constrained piston expansion, and the resulting pressure-volume curve that dictates the work output, is shown in {numref}`Figure %s <first law cont fig a>` below. Starting on the left, the expansion is completly unconstrained - the weights (indicated in red) are all removed simultanesouly and the piston expands until the internal and external pressures are equilibrated. Because all of the weight is removed at once, the external force during the expansion process is a minimum the entire time (indicated by the red area), resulting in minimum work (recall $W_{\\rm mech} = \\int_{1}^{2} F_{\\rm ext}dx$ or $W_{\\rm mech} = \\int_{1}^{2} pdV$). The middle case is partially constrainted and the weight has been removed in two iterations. By leaving part of the mass on the piston during the first expansion, more work was done compared to the unconstrained case because the external force was greater. This can be visualized by the added green area in the pressure-volume curve. Finally, on the right is a more constrined case where the weight has been divided into several pieces and removed one at a time. In this case, even more work is done because the external pressure, or force, is greater during more of the expansion process. This can be visualized by the added blue areas in the pressure-volume curve. The idealized reversible process is shown in the dashed line, where the internal force is only infinitesimally greater than the external force, which would be described by a series of inifinite weights. Of course, to realize the reversible process it would take an infinite period of time, which is why we can only approximate reversible processes but never realize them. "
   ]
  },
  {
   "cell_type": "markdown",
   "id": "bac1a0dc-9d47-41a1-905e-6c7ef00d6a28",
   "metadata": {},
   "source": [
    "```{figure} Figures/reversible_work.png\n",
    "---\n",
    "name: first law cont fig a\n",
    "---\n",
    "Schematic depicting unconstrined expansion (left), partially constrained expansion (middle), and even more constrained expansion (right) which is the closest to a reversible process. The work associated with each of these processes is indicated by the magnitude of the areas under the colored portions. Red is the left unconstrined case, red and green the intermediate case and red, green and blue the most constrained case. The dashed line represents the competely constrained case, in which the internal pressure is only infinitesimally larger than the external pressure during the entire expansion process.\n",
    "```"
   ]
  },
  {
   "cell_type": "markdown",
   "id": "cd3f297b-0808-4b5a-8e2d-f09e102152e8",
   "metadata": {
    "tags": []
   },
   "source": [
    "(Polytropic)=\n",
    "## More on Boundary Work - Polytropic Process"
   ]
  },
  {
   "cell_type": "markdown",
   "id": "37c112cf-4489-41d3-87ae-2e065015f91e",
   "metadata": {},
   "source": [
    "```{index} polytropic process, reversible process\n",
    "```"
   ]
  },
  {
   "cell_type": "markdown",
   "id": "acdbe67d-e3eb-4436-ad28-375dd2beccb2",
   "metadata": {},
   "source": [
    "Constant pressure expansion and compression processes  were discussed in {numref}`MechanicalWork` {ref}`MechanicalWork`. In this scenario, evaluation of the boundary work from $W_{\\rm mech} = \\int_{1}^{2} pdV$ is straightforward and reduces to $W_{\\rm mech} = P\\Delta V$. However, there are an infinite number of paths that could be taken during compression and expansion, and often pressure is not constant during these processes, as seen during the example of reversible expansion discussed above. For the special case of **reversible** compression and expansion processes involving an **ideal gas**, these are called {ref}`polytropic processes <genindex>`. The relationship between pressure and volume during polytropic processes is described mathematically as: "
   ]
  },
  {
   "cell_type": "markdown",
   "id": "86db60f1-30de-447a-8c53-7e66e7063cf3",
   "metadata": {},
   "source": [
    "```{math}\n",
    ":label: eq_a\n",
    "pV^\\rm n = \\rm {const.}\n",
    "```"
   ]
  },
  {
   "cell_type": "markdown",
   "id": "db899aef-4b0c-45ff-9202-db246e906f0b",
   "metadata": {},
   "source": [
    "where $n$ is a constant called the polytropic exponent. Thus, during a polytropic process the product of $pV^{\\rm n}$ remains constant, even as pressure and volume both change. This expression is true using specific volume as well, i.e., $pv^{\\rm n}$ remains constant during a process. An example of different polytropic paths are shown below in {numref}`Figure %s <first law cont fig b>`. "
   ]
  },
  {
   "cell_type": "code",
   "execution_count": 10,
   "id": "14d0f6b0-c272-4086-bf48-70e050a34368",
   "metadata": {
    "tags": [
     "hide-cell"
    ]
   },
   "outputs": [
    {
     "data": {
      "image/png": "[encoded data removed]",
      "text/plain": [
       "<Figure size 640x480 with 1 Axes>"
      ]
     },
     "metadata": {},
     "output_type": "display_data"
    }
   ],
   "source": [
    "import numpy as np\n",
    "import matplotlib.pyplot as plt\n",
    "import numpy as np\n",
    "n=np.arange(0,2,0.5)\n",
    "pi,Vi = 100,.5\n",
    "const = pi*Vi**n\n",
    "V=np.arange(.5*Vi,2*Vi,.25*Vi)\n",
    "p=[]\n",
    "for i in range(len(n)):\n",
    "    p.append(const[i]/(V**n[i]))\n",
    "for i in range(len(n)):\n",
    "    plt.plot(V,p[i])\n",
    "plt.annotate('n = 0', (0.25,110), color='Blue', fontsize=12)\n",
    "plt.annotate('n = .5', (0.25,145), color='Orange', fontsize=12)\n",
    "plt.annotate('n = 1', (0.25,203), color='Green', fontsize=12)\n",
    "plt.annotate('n = 1.5', (0.30,250), color='Red', fontsize=12)\n",
    "plt.annotate('$pV^\\mathrm{n} = const$', (0.5,200), color='Black', fontsize=12)\n",
    "plt.xlabel('$V$ $(\\mathrm{m^3})$',  fontsize=12)\n",
    "plt.ylabel('$p$ $({\\mathrm{kPa})}$',  fontsize=12)\n",
    "plt.savefig('Figures/polytropic_exponent.png')# used to save the figure if you desire\n",
    "plt.show()  "
   ]
  },
  {
   "cell_type": "markdown",
   "id": "f014b930-52e8-4ed3-8b8a-a6fd62c0cdbf",
   "metadata": {},
   "source": [
    "```{figure} Figures/polytropic_exponent.png\n",
    ":name: first law cont fig b\n",
    "\n",
    "Pressure verses volume for reversible processes with different polytropic exponents, $n$. The polytropic exponent dictates the path that is taken and is dependent on the amount of heat transfer during the expansion/compression process. \n",
    "```"
   ]
  },
  {
   "cell_type": "markdown",
   "id": "5d55ac42-3b68-44cd-a6db-20536c3e8dae",
   "metadata": {},
   "source": [
    "In the case of ${\\rm n} = 0$, this is an isobaric process, or $p_1=p_2$. When ${\\rm n} = 1$, or $p_1V_1=p_2V_2$,  this is representative of an isothermal process. We can see this from analysis of the ideal gas law, where "
   ]
  },
  {
   "cell_type": "markdown",
   "id": "b723b9de-7440-4aec-a22c-422f455e1061",
   "metadata": {},
   "source": [
    "```{math}\n",
    ":label: eq_b\n",
    "\\frac{p_1V_1}{m_1T_1}=R=\\frac{p_2V_2}{m_2T_2}\n",
    "``` "
   ]
  },
  {
   "cell_type": "markdown",
   "id": "0323428a-6ad6-44fb-b332-3a0ac5f4db90",
   "metadata": {},
   "source": [
    "If the process is isothermal ($T_1=T_2$) and in a closed system with constant mass ($m_1=m_2$), then equation {eq}`eq_b` reduces to the same as we conclude from a polytropic process with $\\rm n=1$ "
   ]
  },
  {
   "cell_type": "markdown",
   "id": "3aaf9473-063c-4272-ad42-af7fb10a31ac",
   "metadata": {},
   "source": [
    "```{math}\n",
    ":label: eq_c\n",
    "p_1V_1=R=p_2V_2\n",
    "``` "
   ]
  },
  {
   "cell_type": "markdown",
   "id": "2268b8a0-2b80-4dd9-a623-5b869aeb7d83",
   "metadata": {},
   "source": [
    "This is only possible if heat is added or rejected during expansion or compression, respectively.  And as n varies, this is representative of different degrees of heat transfer during during the compression or expansion process."
   ]
  },
  {
   "cell_type": "markdown",
   "id": "dfba6d90-e9e4-4cb3-a598-d73a3dbfb962",
   "metadata": {},
   "source": [
    "### Evaluating Polytropic Process"
   ]
  },
  {
   "cell_type": "markdown",
   "id": "71961ca8-3411-44fc-8090-dc3f81d810e4",
   "metadata": {},
   "source": [
    "Starting from the definition of mechanical work"
   ]
  },
  {
   "cell_type": "markdown",
   "id": "1f1692df-6a13-46e8-ba61-fa88ed4bf93e",
   "metadata": {},
   "source": [
    "```{math}\n",
    ":label: eq_d\n",
    "W_{\\rm mech} = \\int_{1}^{2} pdV\n",
    "``` "
   ]
  },
  {
   "cell_type": "markdown",
   "id": "ece3da4b-e31f-42c0-abe4-48d08e0478b9",
   "metadata": {},
   "source": [
    "and rearranging the polytropic equation to obtain pressure as a function of volume "
   ]
  },
  {
   "cell_type": "markdown",
   "id": "7e92ea48-2e16-44ac-b3ee-c349d34fe4c5",
   "metadata": {},
   "source": [
    "```{math}\n",
    ":label: eq_e\n",
    "p = \\frac{\\rm {const.}}{V^\\rm n}\n",
    "``` "
   ]
  },
  {
   "cell_type": "markdown",
   "id": "f2a118d4-89c2-438f-a187-7c93ade37a92",
   "metadata": {},
   "source": [
    "we can insert this into the work equation and integrate analytically"
   ]
  },
  {
   "cell_type": "markdown",
   "id": "87f8a97d-7225-4366-829a-a0da82737a60",
   "metadata": {},
   "source": [
    "```{math}\n",
    ":label: eq_f\n",
    "W_{\\rm mech} = \\int_{1}^{2} \\frac{\\rm {const.}}{V^\\rm n}dV = {\\rm const.} \\left. \\frac{V^{1-\\rm n}}{1-\\rm n} \\right|_{V_1}^{V_2}\n",
    "``` "
   ]
  },
  {
   "cell_type": "markdown",
   "id": "200816ae-8c05-4ec2-acdb-5fa4b8a552ea",
   "metadata": {},
   "source": [
    "which reduces to the following in the case where n $\\neq$ 1 and const. = $p_1V_1^\\rm n$ or $p_2V_2^\\rm n$."
   ]
  },
  {
   "cell_type": "markdown",
   "id": "b0b9dddc-4b64-4812-96dd-c0188d21ebb4",
   "metadata": {},
   "source": [
    "```{math}\n",
    ":label: eq_g\n",
    "W_{\\rm mech} = \\frac{p_2V_2 - p_1V_1}{1-\\rm n}\n",
    "``` "
   ]
  },
  {
   "cell_type": "markdown",
   "id": "a4f5475d-7b3c-4774-b1a7-2f3c209d5772",
   "metadata": {},
   "source": [
    "In the case where n = 1, then"
   ]
  },
  {
   "cell_type": "markdown",
   "id": "aafce744-25b3-4503-b648-25eec3722c2b",
   "metadata": {},
   "source": [
    "```{math}\n",
    ":label: eq_h\n",
    "W_{\\rm mech} = \\int_{1}^{2} \\frac{\\rm {const.}}{V}dV =  {\\rm (const.)} {\\rm ln} (V)|_{V_1}^{V_2}  \n",
    "``` "
   ]
  },
  {
   "cell_type": "markdown",
   "id": "bdbc0074-22e0-447e-82bf-375020df46f5",
   "metadata": {},
   "source": [
    "and with const. = $p_1V_1$ = $p_2V_2$."
   ]
  },
  {
   "cell_type": "markdown",
   "id": "434a0580-784d-4c6d-8e82-b2cc5ce6446b",
   "metadata": {},
   "source": [
    "```{math}\n",
    ":label: eq_i\n",
    "W_{\\rm mech} = p_1V_1{\\rm ln} \\frac{V_2}{V_1} = p_2V_2{\\rm ln} \\frac{V_2}{V_1}\n",
    "``` "
   ]
  },
  {
   "cell_type": "markdown",
   "id": "a3f8231d-b006-4ff1-aa78-13634c4a7d32",
   "metadata": {},
   "source": [
    "(PolytropicExample1)=\n",
    "#### Example - Evaluating Polytropic Work - Isothermal Process"
   ]
  },
  {
   "cell_type": "markdown",
   "id": "1c5343ce-9af6-4e3d-9b3f-6bfa1dfb230c",
   "metadata": {},
   "source": [
    "2 kg of N<sub>2</sub> at 100 kPa and 15 °C is contained within a piston cylinder. It is compressed to a final pressure of 600 kPa. During compression heat is transferred from the N<sub>2</sub> and the temperature remains constant. Determine the work input required. $M_{\\rm N2}$ = 28 kg kmol<sup>-1</sup>"
   ]
  },
  {
   "cell_type": "markdown",
   "id": "4d790595-d3a9-42cb-ab33-2a41e2d3aa91",
   "metadata": {},
   "source": [
    "> **Solution** - Recall that if polytropic expansion or compression is conducted isothermally then n=1. Therefore, the work equation we can use is from equation {eq}`eq_i`. We will need to use either the ideal gas law or Cantera to solve for the specific volume at State 1 (100 kPa and 15 °C) and State 2 (600 kPa and 15 °C), and then determine the volume at each state by multiplying the specific volume times the mass. Alternatively, we could just use the ideal gas law to directly solve for the volume. Then knowing pressure and volume at states 1 and 2 we can directly solve for the work using {eq}`eq_i`."
   ]
  },
  {
   "cell_type": "code",
   "execution_count": 11,
   "id": "be5dc4f5-8b5c-450e-b07e-82fd5d7d0a76",
   "metadata": {},
   "outputs": [
    {
     "name": "stdout",
     "output_type": "stream",
     "text": [
      "1.7099180898606285 m3, Using Cantera\n",
      "1.711199357142857 m3, Using Ideal Gas Equation\n"
     ]
    }
   ],
   "source": [
    "import cantera as ct\n",
    "#First State 1\n",
    "T1,p1,m = 15, 100000, 2 # celsius, Pa, kg\n",
    "species1 = ct.Nitrogen()# define species1 as nitrogen\n",
    "species1.TP = 273.15+T1, p1 \n",
    "v1=species1.UV[1]\n",
    "V1=m*v1\n",
    "print(V1, \"m3, Using Cantera\") #units m^3\n",
    "def v(p,T): # we could have also used ideal gas\n",
    "    return 8.314/28*(T1+273.15)/(p1/1000) # divide p by 100 because of units for ideal gas constant in kJ\n",
    "print(m*v(p1,T1), \"m3, Using Ideal Gas Equation\") #units m^3"
   ]
  },
  {
   "cell_type": "code",
   "execution_count": 12,
   "id": "037d67fb-ff9c-4459-88a3-e19fbf7a56e2",
   "metadata": {},
   "outputs": [
    {
     "name": "stdout",
     "output_type": "stream",
     "text": [
      "0.2846013748242659 m3, Using Cantera\n"
     ]
    }
   ],
   "source": [
    "import cantera as ct\n",
    "#State 2\n",
    "T2,p2,m = 15, 600000, 2 # celsius, Pa, kg\n",
    "species1 = ct.Nitrogen()# define species1 as nitrogen\n",
    "species1.TP = 273.15+T1, p2 \n",
    "v2=species1.UV[1]\n",
    "V2=m*v2\n",
    "print(V2, \"m3, Using Cantera\") #units m^3"
   ]
  },
  {
   "cell_type": "code",
   "execution_count": 13,
   "id": "af1f9e47-7c4d-4e68-bc6c-5b54b1193bbb",
   "metadata": {},
   "outputs": [
    {
     "name": "stdout",
     "output_type": "stream",
     "text": [
      "-306607.33315565734 J\n",
      "The boundary work is -306.61 kJ\n"
     ]
    }
   ],
   "source": [
    "W=p1*V1*np.log(V2/V1)\n",
    "print(W, \"J\") #units J\n",
    "print(\"The boundary work is\", round(W/1000,2), \"kJ\") #units kJ"
   ]
  },
  {
   "cell_type": "markdown",
   "id": "3fc41916-bd72-4d42-a478-7109d577d4f2",
   "metadata": {},
   "source": [
    "Notice, we could have also used only specific volumes within the logarithm and didn't necessarily need to evaluate $V_2$. Also notice the negatice sign, which is an indication that work was done to the system - since this was a compression process, which requires work, this makes sense."
   ]
  },
  {
   "cell_type": "markdown",
   "id": "5ab4813d-f380-4ea0-baf7-58aa4d0b8b64",
   "metadata": {},
   "source": [
    "(PolytropicExample2)=\n",
    "#### Example - Evaluating Polytropic Work Numerically with Python's scipy Package"
   ]
  },
  {
   "cell_type": "markdown",
   "id": "b47ad12c-008d-4536-bbfb-d1bd8b802161",
   "metadata": {},
   "source": [
    "Repeat above example, but use the Python package scipy.integrate sub-package to evaluate the boundary work integral. This is a numerical integration procedure described here (https://docs.scipy.org/doc/scipy/tutorial/integrate.html)- there are also ways to perform analytical computations using the Sympy package but its use is outside the scope of this text. There is extensive documentation of you would like to learn more - https://docs.sympy.org/latest/modules/integrals/integrals.html. For now, we will leverage the scipy package and import the integrate sub-package as the following line of code $import$ $scipy.integrate$ $as$ $integrate$."
   ]
  },
  {
   "cell_type": "markdown",
   "id": "495db9c1-a1f0-45ba-9f82-a6732e3ffab7",
   "metadata": {},
   "source": [
    "> **Solution** - Recall that if polytropic expansion or compression is conducted isothermally then n=1. We wish  we to evaluate the integral $W_{\\rm mech} = \\int_{1}^{2} pdV$, where $pV = \\rm const.$ and $p_1V_1 = \\rm const.$. Therefore, we can define pressure as a function of volume, and by solving for $V_1$ at State 1 (100 kPa and 15 °C) and $V_2$ at State 2 (600 kPa and 15 °C) using cantera we can evaluate the integral using $scipy.integrate$"
   ]
  },
  {
   "cell_type": "code",
   "execution_count": 14,
   "id": "002bc0b9-16a7-43b8-95a9-d3284a97a4e0",
   "metadata": {},
   "outputs": [
    {
     "name": "stdout",
     "output_type": "stream",
     "text": [
      "1.7099180898606285 and 0.2846013746854079 are V1 and V2 in m^3\n"
     ]
    }
   ],
   "source": [
    "import cantera as ct\n",
    "#State 1\n",
    "T1,p1,m = 15, 100000, 2 # celsius, Pa, kg\n",
    "#State 2\n",
    "T2,p2,m = 15, 600000, 2 # celsius, Pa, kg\n",
    "species1 = ct.Nitrogen()# define species1 as nitrogen\n",
    "species1.TP = 273.15+T1, p1 \n",
    "v1=species1.UV[1]\n",
    "V1=m*v1\n",
    "species1.TP = 273.15+T2, p2 \n",
    "v2=species1.UV[1]\n",
    "V2=m*v2\n",
    "print(V1, \"and\", V2, \"are V1 and V2 in m^3\")"
   ]
  },
  {
   "cell_type": "code",
   "execution_count": 15,
   "id": "9045dcd4-47c8-4acb-a5ba-70d733f00254",
   "metadata": {},
   "outputs": [
    {
     "name": "stdout",
     "output_type": "stream",
     "text": [
      "(-306607.3332390848, 5.80017246903583e-07)\n"
     ]
    }
   ],
   "source": [
    "def p(V):\n",
    "    return p1*V1/V #express pressure as a function of volume\n",
    "import scipy.integrate as integrate\n",
    "work = integrate.quad(p, V1, V2) # quad is used for general purpose integration\n",
    "print(work)"
   ]
  },
  {
   "cell_type": "markdown",
   "id": "67901760-6635-48f0-89e9-937d0f0f151a",
   "metadata": {},
   "source": [
    ">The first value is the value of the integral and the second is the estimated error. We are interested in the value which is $res[0]$."
   ]
  },
  {
   "cell_type": "code",
   "execution_count": 16,
   "id": "ac158f20-acf8-4d41-92b9-66d76c87a126",
   "metadata": {},
   "outputs": [
    {
     "name": "stdout",
     "output_type": "stream",
     "text": [
      "The boundary work is -306.61 kJ\n"
     ]
    }
   ],
   "source": [
    "print(\"The boundary work is\", round(work[0]/1000,2), \"kJ\") # Units kJ. Notice the value is identical to above."
   ]
  },
  {
   "cell_type": "markdown",
   "id": "2ec5826d-8af3-4c16-b6ae-05e3dbbd0dc4",
   "metadata": {},
   "source": [
    "(PolytropicExample3)=\n",
    "#### Example - Evaluating Polytropic Work - Non-Isothermal Process"
   ]
  },
  {
   "cell_type": "markdown",
   "id": "c863fd5b-5e1e-4fdb-b40d-a95a57e33767",
   "metadata": {},
   "source": [
    "2 kg of N<sub>2</sub> at 100 kPa and 15 °C is contained within a piston cylinder. It is compressed to a final pressure of 600 kPa and temperature of 100 °C. Determine the work input required. $M_{\\rm N2}$ = 28 kg kmol<sup>-1</sup>"
   ]
  },
  {
   "cell_type": "markdown",
   "id": "c8b7a248-adec-4e51-a134-93fe44a2f273",
   "metadata": {},
   "source": [
    ">**Solution** - To determine the work, we will have to evaluate the polytopic exponent, n. We have enough information to solve for the volume at State 1 and State 1 using either Cantera or ideal gas law. "
   ]
  },
  {
   "cell_type": "code",
   "execution_count": 17,
   "id": "da861da4-a5ce-4e15-913d-957529d64574",
   "metadata": {},
   "outputs": [
    {
     "name": "stdout",
     "output_type": "stream",
     "text": [
      "1.7099180898606285 and 0.3696353158332322 are V1 and V2 in m^3\n"
     ]
    }
   ],
   "source": [
    "import cantera as ct\n",
    "#State 1\n",
    "T1,p1,m = 15, 100000, 2 # celsius, Pa, kg\n",
    "species1 = ct.Nitrogen()# define species1 as nitrogen\n",
    "species1.TP = 273.15+T1, p1\n",
    "v1=species1.UV[1]\n",
    "V1=m*v1\n",
    "\n",
    "#State 2\n",
    "T2,p2,m = 100, 600000, 2 # celsius, Pa, kg\n",
    "species1 = ct.Nitrogen()# define species1 as nitrogen\n",
    "species1.TP = 273.15+T2, p2 \n",
    "v2=species1.UV[1]\n",
    "V2=m*v2\n",
    "print(V1, \"and\", V2, \"are V1 and V2 in m^3\")"
   ]
  },
  {
   "cell_type": "markdown",
   "id": "5b3cb9f0-a2ae-4b9d-9d4c-c27a0924b84c",
   "metadata": {},
   "source": [
    "Then, knowing $p_1$, $V_1$ and $p_2$, $V_2$, we can solve for n, knowing:"
   ]
  },
  {
   "cell_type": "markdown",
   "id": "a0a0b747-513c-4bf2-93d3-a0e86c88adaf",
   "metadata": {},
   "source": [
    ">$pV^{\\rm n} = \\rm const.$"
   ]
  },
  {
   "cell_type": "markdown",
   "id": "d709f288-5766-41b5-ac3a-705c02e4936c",
   "metadata": {},
   "source": [
    ">thus"
   ]
  },
  {
   "cell_type": "markdown",
   "id": "47fabd5c-a842-4f1b-a6b8-8b9b13147bcf",
   "metadata": {},
   "source": [
    ">$p_1V_1^{\\rm n} = p_2V_2^{\\rm n}$"
   ]
  },
  {
   "cell_type": "markdown",
   "id": "2ed420c3-89ae-427c-9dc6-77ec4dfa1d3a",
   "metadata": {},
   "source": [
    ">${\\rm ln}p_1+{\\rm nln}V_1 = {\\rm ln}p_2+{\\rm nln}V_2$"
   ]
  },
  {
   "cell_type": "markdown",
   "id": "a9e0aae7-0f03-4fae-938b-31d6cb6072ce",
   "metadata": {},
   "source": [
    ">${\\rm nln}\\frac{V_1}{V_2} ={\\rm ln}\\frac{p_2}{p_1}$, and finally"
   ]
  },
  {
   "cell_type": "markdown",
   "id": "2e3463c7-013e-4878-86bb-12aa57978476",
   "metadata": {},
   "source": [
    ">$n=\\frac{{\\rm ln}\\frac{p_2}{p_1}}{{\\rm ln}\\frac{V_1}{V_2}}$"
   ]
  },
  {
   "cell_type": "code",
   "execution_count": 18,
   "id": "e7553902-2429-49c4-bd37-6b2673fd5b46",
   "metadata": {},
   "outputs": [
    {
     "name": "stdout",
     "output_type": "stream",
     "text": [
      "1.17 is the polytropic exponent\n"
     ]
    }
   ],
   "source": [
    "n=np.log(p2/p1)/np.log(V1/V2)\n",
    "print(round(n,3), \"is the polytropic exponent\")"
   ]
  },
  {
   "cell_type": "markdown",
   "id": "e1a41be4-4b24-498c-8fbe-ca29e95138c0",
   "metadata": {},
   "source": [
    "```{index} fsolve\n",
    "```"
   ]
  },
  {
   "cell_type": "markdown",
   "id": "878ce204-d103-4f81-b4df-4088a58295c8",
   "metadata": {},
   "source": [
    "> We could also call the scipy.optimize subpackage in python to use the {ref}`fsolve <genindex>` function to solve for n directly without algebraic simplification as seen below."
   ]
  },
  {
   "cell_type": "code",
   "execution_count": 19,
   "id": "861ebda9-4a53-4eaf-bd91-0670a87f9a75",
   "metadata": {},
   "outputs": [
    {
     "name": "stdout",
     "output_type": "stream",
     "text": [
      "1.17 is the polytropic exponent\n"
     ]
    }
   ],
   "source": [
    "from scipy.optimize import fsolve\n",
    "def poly(n):\n",
    "    return p1*V1**n-p2*V2**n\n",
    "res = fsolve(poly,.8)\n",
    "print(round(res[0],3), \"is the polytropic exponent\")"
   ]
  },
  {
   "cell_type": "markdown",
   "id": "9f741dbc-f797-49dd-b538-38f9aeb58d7b",
   "metadata": {},
   "source": [
    ">Knowing $p_1$, $V_1$, $p_2$, $V_2$, and n we can then solve directly for the work using equation {eq}`eq_g`"
   ]
  },
  {
   "cell_type": "code",
   "execution_count": 20,
   "id": "a22f86fa-40d8-4594-a5ee-c599881f9846",
   "metadata": {},
   "outputs": [
    {
     "name": "stdout",
     "output_type": "stream",
     "text": [
      "The boundary work is -299.12 kJ\n"
     ]
    }
   ],
   "source": [
    "work = (p2*V2-p1*V1)/(1-n)\n",
    "print(\"The boundary work is\", round(work/1000,2), \"kJ\")"
   ]
  },
  {
   "cell_type": "markdown",
   "id": "0f8b0438-5372-4789-b3cb-9d020eadc572",
   "metadata": {},
   "source": [
    "## Specific Heats"
   ]
  },
  {
   "cell_type": "markdown",
   "id": "9eb5475e-8432-440b-88b6-697eca457fc8",
   "metadata": {},
   "source": [
    "```{index} specific heat\n",
    "```"
   ]
  },
  {
   "cell_type": "markdown",
   "id": "44b50088-5dc7-478c-85f3-eead8ddb93b1",
   "metadata": {},
   "source": [
    "Recall the energy equation in differential form, which says $dU = \\delta Q- \\delta W$. While we have just learned how to quantify  work, which is readily determined via evaluation of easily measureable properties (i.e., pressure and volume), it would be equaly beneficial to quantify the heat transfer from some readily measureable properties. However, if we wish to use the energy equation to help us solve for the heat transfer, internal energy, or enthalpy, are not properties that are readily measurable.  Therefore, a property called {ref}`specific heat <genindex>` is defined, which relates either internal energy and enthalpy changes to changes in temperature, which is readily measureable.  The specific heat is defined as the energy required to raise the temperature of a system with mass 1 gram by 1 $^\\circ$C (or 1 K). The amount of energy depends on if the system volume is fixed or allowed to vary (as in a piston-cylinder), and thus there are two specific heats that are definied. For a fixed volume system, the specific heat ($c_\\rm v$) is indicated with a subscript v to indicate constant volume. For a constant pressure system, the specific heat ($c_\\rm p$) is indicated with a subscript p to indicate constant pressure. "
   ]
  },
  {
   "cell_type": "markdown",
   "id": "8efe156e-38c4-48b7-b4aa-dce32d6e8ac9",
   "metadata": {},
   "source": [
    "The difference between $c_\\rm v$ and $c_\\rm p$ is exemplified below in {numref}`Figure %s <first law cont fig c>`. In the fixed volume system on the left there is no work done by the system, and the heat transfer is the change in internal energy. For the fixed pressure system on the right, there is work done because of expansion as heat is added to the system. Because of the extra work associated with raising the temperature of the fixed pressure system,  the required energy change to raise its temperature by 1 K is greater than the fixed volume system."
   ]
  },
  {
   "cell_type": "markdown",
   "id": "65798976-5be4-400b-b148-43fe84446c92",
   "metadata": {},
   "source": [
    "```{figure} Figures/specific_heats.png\n",
    "---\n",
    "name: first law cont fig c\n",
    "---\n",
    "Schematic depicting the difference between specific heat at constant volume ($c_\\rm v$) and specific heat at constant pressure ($c_\\rm p$). Because there is work done in the fixed pressure system on the right as energy is added, due to expansion, the required energy to raise its temperature by 1 K is greater than the fixed volume system.\n",
    "```"
   ]
  },
  {
   "cell_type": "markdown",
   "id": "f74a44ac-e70f-48fd-a3ef-0ad0f9881c90",
   "metadata": {},
   "source": [
    "### Specific Heat at Constant Volume"
   ]
  },
  {
   "cell_type": "markdown",
   "id": "32190b90-ed0f-45ab-b7a7-ea9845a87b3e",
   "metadata": {},
   "source": [
    "Starting from the specific energy equation in differential form, replacing the differential work with $pdv$,"
   ]
  },
  {
   "cell_type": "markdown",
   "id": "288042a1-bdd8-49a6-b947-f7c2cdd4e1b3",
   "metadata": {},
   "source": [
    "```{math}\n",
    ":label: eq_j\n",
    "\\delta q = du + pdv\n",
    "``` "
   ]
  },
  {
   "cell_type": "markdown",
   "id": "0defe2fe-6bd5-4217-8a38-46a2d35f8308",
   "metadata": {},
   "source": [
    "and differentiating with respect to temperature at constant volume"
   ]
  },
  {
   "cell_type": "markdown",
   "id": "56ae7d12-2059-45fe-b8db-82464b423488",
   "metadata": {},
   "source": [
    "```{math}\n",
    ":label: eq_k\n",
    "\\left( \\frac{\\partial q}{\\partial T}\\right)_{\\rm v} = \\left( \\frac{\\partial u}{\\partial T} \\right)_{\\rm v}\n",
    "``` "
   ]
  },
  {
   "cell_type": "markdown",
   "id": "f7776837-4685-4475-9218-a0efe095cf42",
   "metadata": {},
   "source": [
    "The left hand side of the equation, $\\left( \\frac{\\partial q}{\\partial T}\\right)_{\\rm v}$, is by definition the specific heat, $c_\\rm v$. Therefore,"
   ]
  },
  {
   "cell_type": "markdown",
   "id": "8bd19d15-0340-4e07-9b9d-ee9285a98627",
   "metadata": {},
   "source": [
    "```{math}\n",
    ":label: eq_l\n",
    "c_{\\rm v} = \\left( \\frac{\\partial u}{\\partial T} \\right)_{\\rm v}\n",
    "``` "
   ]
  },
  {
   "cell_type": "markdown",
   "id": "a7c9cb79-3776-4280-84f5-7073f6b73d6a",
   "metadata": {},
   "source": [
    "### Specific Heat at Constant Pressure"
   ]
  },
  {
   "cell_type": "markdown",
   "id": "b9361dc6-cc7e-49be-8956-0b7cab219605",
   "metadata": {},
   "source": [
    "Likewise, again starting from the specifc energy equation in differential form"
   ]
  },
  {
   "cell_type": "markdown",
   "id": "a6d90763-cedb-40cb-af9f-c9cb5557a415",
   "metadata": {},
   "source": [
    "```{math}\n",
    ":label: eq_m\n",
    "\\delta q = du + pdv\n",
    "``` "
   ]
  },
  {
   "cell_type": "markdown",
   "id": "f9bc9df9-66a6-4ac6-8360-23dcde3453ca",
   "metadata": {},
   "source": [
    "and differentiating the enthalpy equation ($h=u+pv$) and solving for $du$"
   ]
  },
  {
   "cell_type": "markdown",
   "id": "8d64cbca-b05e-4acd-8ae9-03fdaf3cbaca",
   "metadata": {},
   "source": [
    "```{math}\n",
    ":label: eq_n\n",
    "du = dh - pdv - vdp\n",
    "``` "
   ]
  },
  {
   "cell_type": "markdown",
   "id": "42faa93d-508f-48e7-89f0-f5429df3e02a",
   "metadata": {},
   "source": [
    "we can substitute this back into the energy equation to show that"
   ]
  },
  {
   "cell_type": "markdown",
   "id": "04e7d3ce-4b99-438e-9492-6194117d706b",
   "metadata": {},
   "source": [
    "```{math}\n",
    ":label: eq_o\n",
    "\\delta q = dh - vdp\n",
    "``` "
   ]
  },
  {
   "cell_type": "markdown",
   "id": "09eec23a-9bd3-4899-8766-564b07f5cd64",
   "metadata": {},
   "source": [
    "And differentiating with respect to remperature, keeping pressure constant"
   ]
  },
  {
   "cell_type": "markdown",
   "id": "8c521d5e-c49d-49fa-a7d4-03f8910764ff",
   "metadata": {},
   "source": [
    "```{math}\n",
    ":label: eq_p\n",
    "\\left( \\frac{\\partial q}{\\partial T}\\right)_{\\rm p} = \\left( \\frac{\\partial h}{\\partial T} \\right)_{\\rm p}\n",
    "``` "
   ]
  },
  {
   "cell_type": "markdown",
   "id": "29033651-00c0-448a-a3e2-64a6151ddaeb",
   "metadata": {},
   "source": [
    "The left hand side of the equation, $\\left( \\frac{\\partial q}{\\partial T}\\right)_{\\rm p}$, is also by definition the specific heat, $c_\\rm p$. Therefore,"
   ]
  },
  {
   "cell_type": "markdown",
   "id": "f4c6c205-c162-45c8-92cf-fe37133605d8",
   "metadata": {},
   "source": [
    "```{math}\n",
    ":label: eq_q\n",
    "c_{\\rm p} = \\left( \\frac{\\partial h}{\\partial T} \\right)_{\\rm p}\n",
    "``` "
   ]
  },
  {
   "cell_type": "markdown",
   "id": "9ed0e67b-a7f9-4a94-a4e5-3e4065e3dd8a",
   "metadata": {},
   "source": [
    "#### Molar Specific Heats"
   ]
  },
  {
   "cell_type": "markdown",
   "id": "92969a9e-14b4-430f-8bcd-e70ca031b668",
   "metadata": {},
   "source": [
    "The above equations can also be expressed on a molar basis. That is "
   ]
  },
  {
   "cell_type": "markdown",
   "id": "1f9b8b20-0a12-41cb-a116-9a1cd22016de",
   "metadata": {},
   "source": [
    "```{math}\n",
    ":label: eq_r\n",
    "\\bar c_{\\rm v} = \\left( \\frac{\\partial \\bar u}{\\partial T} \\right)_{\\rm v}\n",
    "``` "
   ]
  },
  {
   "cell_type": "markdown",
   "id": "37968bd7-fd40-495c-a349-6e6fdf4302f1",
   "metadata": {},
   "source": [
    "```{math}\n",
    ":label: eq_s\n",
    "\\bar c_{\\rm p} = \\left( \\frac{\\partial \\bar h}{\\partial T} \\right)_{\\rm p}\n",
    "``` "
   ]
  },
  {
   "cell_type": "markdown",
   "id": "848badde-bc95-48a1-b481-7d810f1dd2e5",
   "metadata": {},
   "source": [
    "Thus, although for the ensuing discussion where specific heats are expressed only on a mass basis, corresponding molar equations may also be assumed."
   ]
  },
  {
   "cell_type": "markdown",
   "id": "6e754da4-b035-4bbd-a68b-3a057cc5fc81",
   "metadata": {},
   "source": [
    "(UsingSpecificHeat)=\n",
    "## Using Specific Heats with Ideal Gases"
   ]
  },
  {
   "cell_type": "markdown",
   "id": "8e63a7b3-b5bb-4923-a8ed-8ab1e98661a1",
   "metadata": {},
   "source": [
    "At this point, two equations have been derived which, at first glance are not entirely useful without further context. This is because of the nature of the partial differentials. If a process of interest were to occur only at constant volume or constant pressure, then we could use these equations to evaulate changes in internal energy or enthalpy, if we knew the specific heat at the pressure or volume of interest and its temperature dependence - e.g., $\\Delta h = \\int_{1}^{2} c_{\\rm p} dT$ . But more often than not, we are interested in processes where both pressure and/or volume are changing. And for real substances, internal energy and enthalpy are not functions of temperature only. "
   ]
  },
  {
   "cell_type": "markdown",
   "id": "3a20594e-a5a0-47ba-a251-585d9480d4eb",
   "metadata": {},
   "source": [
    "Conveniently, for ideal gases, it turns out that internal energy is only a function of temperature, i.e., $u = f(T)$. This was shown by Joule in 1843 via an experiment in which he connected two spheres via a valve, one filled with a gas and the other evacuated. The spheres were placed within a larger system where temperature was carefully monitored. After letting the system and spheres thermally equilibrate, upon opening the valves and letting the pressure and specific volume change within the spheres, the was no observable change in temperature. The conclusion was that there was no energy exchange between the spheres and surrounding system, indicating that the internal energy of the spheres remained constant, even as pressure and volume changed. Therefore, for ideal gases,we can remove the partial derivitives from {eq}`eq_l` and replace them with ordinary derivitives, in which case it reduces to"
   ]
  },
  {
   "cell_type": "markdown",
   "id": "fa9cf2ca-d788-46e1-ac64-99de49ade04a",
   "metadata": {},
   "source": [
    "```{math}\n",
    ":label: eq_t\n",
    "c_{\\rm v} = \\frac{du}{dT}\n",
    "``` "
   ]
  },
  {
   "cell_type": "markdown",
   "id": "9bf53aae-6da8-4c47-b3d8-8033d9ddfb45",
   "metadata": {},
   "source": [
    "Upon rearrangement we can show that"
   ]
  },
  {
   "cell_type": "markdown",
   "id": "c72febdd-2b68-4d76-858f-5aa2a76d970e",
   "metadata": {},
   "source": [
    "```{math}\n",
    ":label: eq_u\n",
    "du = c_{\\rm v} dT\n",
    "``` "
   ]
  },
  {
   "cell_type": "markdown",
   "id": "cdbda878-ff5d-401a-a4db-1b5b3bc6bec1",
   "metadata": {},
   "source": [
    "Understanding that internal energy is only a function of temperature for an ideal gas, we can also show that the enthalpy of an ideal gas is only a function of temperature. Starting from the definition of enthalpy"
   ]
  },
  {
   "cell_type": "markdown",
   "id": "347ded2d-521d-4974-9cf4-ee29ca9042e2",
   "metadata": {},
   "source": [
    "```{math}\n",
    ":label: eq_v\n",
    "h = u + pv\n",
    "``` "
   ]
  },
  {
   "cell_type": "markdown",
   "id": "65b49537-3e72-4908-8453-3429557bf00d",
   "metadata": {},
   "source": [
    "and combining with the ideal gas law, which says $pv = RT$, we can show"
   ]
  },
  {
   "cell_type": "markdown",
   "id": "b2693488-44f8-4937-8e45-ee417fbd9d61",
   "metadata": {},
   "source": [
    "```{math}\n",
    ":label: eq_w\n",
    "h = u + RT\n",
    "``` "
   ]
  },
  {
   "cell_type": "markdown",
   "id": "7e1ea397-ffbf-473e-bcee-56b658ef0e74",
   "metadata": {},
   "source": [
    "Because $u = f(T)$ and the right hand side is also only a function of temperature, we can therefore say $h = f(T)$. **At this point, there is one major implication of this observation - that is, if directly looking up internal energy or enthalpy of any ideal gas, e.g., from tables, Cantera, etc., you only need to know temperature. Not another property such as pressure or volume, as you would need to do for real substances.**"
   ]
  },
  {
   "cell_type": "markdown",
   "id": "de586fb2-018c-4974-9aae-0d9d124c569d",
   "metadata": {},
   "source": [
    "Further, because enthalpy, like internal energy, of ideal gas is a function of temperature only, we can also remove the partial derivitives from {eq}`eq_q` and replace them with ordinary derivities. Thus, {eq}`eq_q` reduces to"
   ]
  },
  {
   "cell_type": "markdown",
   "id": "3887b36a-1f13-4566-a39c-2a146cdd5f9e",
   "metadata": {},
   "source": [
    "```{math}\n",
    ":label: eq_x\n",
    "c_{\\rm p} = \\frac{dh}{dT}\n",
    "``` "
   ]
  },
  {
   "cell_type": "markdown",
   "id": "13d62b6d-f17e-4846-b0d4-b04f2fbc1f75",
   "metadata": {},
   "source": [
    "Upon rearrangement we can show that"
   ]
  },
  {
   "cell_type": "markdown",
   "id": "2c82ea6c-ab4d-45c5-adca-91d5997d052e",
   "metadata": {},
   "source": [
    "```{math}\n",
    ":label: eq_y\n",
    "dh = c_{\\rm p} dT\n",
    "``` "
   ]
  },
  {
   "cell_type": "markdown",
   "id": "49d07664-36e9-4474-b902-a112aa7d1709",
   "metadata": {},
   "source": [
    "Integrating {eq}`eq_t`and {eq}`eq_x` we can show that"
   ]
  },
  {
   "cell_type": "markdown",
   "id": "46da4ef6-2a67-4b4b-85c3-ae8904f736be",
   "metadata": {},
   "source": [
    "```{math}\n",
    ":label: eq_z\n",
    "\\Delta u = \\int_{1}^{2} c_{\\rm v} dT\n",
    "``` "
   ]
  },
  {
   "cell_type": "markdown",
   "id": "9138cfdd-4299-4761-86ad-d1e3f590369d",
   "metadata": {},
   "source": [
    "and"
   ]
  },
  {
   "cell_type": "markdown",
   "id": "f7b737e0-10f7-46ea-b9cd-719222d0c509",
   "metadata": {},
   "source": [
    "```{math}\n",
    ":label: eq_a1\n",
    "\\Delta h = \\int_{1}^{2} c_{\\rm p} dT\n",
    "``` "
   ]
  },
  {
   "cell_type": "markdown",
   "id": "95826425-d888-482c-942f-21f8245c4f45",
   "metadata": {},
   "source": [
    "```{index} Shomate Equation\n",
    "```"
   ]
  },
  {
   "cell_type": "markdown",
   "id": "45c4eb0a-3210-4ef2-84ce-29e39a563a09",
   "metadata": {},
   "source": [
    "Therefore, if we know how specific heats depend on temperature, we could readily evaluate changes in enthalpy and internal energy. There are a variety of assumptions that are typically made at this point, with varying degrees of accuracy. The first and typically least accurate is to assume that specific heat is independent of temperature, in which case it can be removed from the integral and its evaluation then reduces to $c_{\\rm v} \\Delta T$ or $c_{\\rm p} \\Delta T$. The second and more accurate (but not most accurate) is to assume specific heat varies linearly with temperature and use an average value, in which case it can also be removed from the integral and evaluation reduces to reduces to $c_{\\rm v,avg} \\Delta T$ or $c_{\\rm p,avg} \\Delta T$. Finally, analytical integration is performed which is the most accurate (apart from a numerical approach). Analytical fits for ideal gas specific heats are usually documented in the form of the {ref}`Shomate Equation <genindex>`, as seen below"
   ]
  },
  {
   "cell_type": "markdown",
   "id": "04c40b7f-fa3f-4ceb-a0fe-06157a4f5d83",
   "metadata": {},
   "source": [
    "```{math}\n",
    ":label: eq_a2\n",
    "c_{\\rm p} = A + BT + CT^2 + DT^3 + \\frac{E}{T^2}\n",
    "``` "
   ]
  },
  {
   "cell_type": "markdown",
   "id": "2dab03be-81cd-4189-a841-1c670226d7f7",
   "metadata": {},
   "source": [
    "where A,B,C,D and E are empirically determined fitting parameters and $T$ is temperature in K divided by 1000. For example, from NIST's Chemistry webBook (https://webbook.nist.gov/chemistry/) which has thermophysical properties of a number of species, you would find the following when searching for N2 and selecting \"Gas Phase\" thermodynamic data."
   ]
  },
  {
   "cell_type": "markdown",
   "id": "cabd2266-3cb7-48fe-bfe0-97f455fd2f30",
   "metadata": {},
   "source": [
    "```{figure} Figures/shomate_equation.png\n",
    "---\n",
    "name: first law cont fig d\n",
    "---\n",
    "Excerpt from NIST Chemistry WebBook showing fitting parameters to the Shomate Equation for N<sub>2</sub> gas. Here, molar specific heat is shown, with the degree symbol indicating that it is molar specific heat at standard conditions of 1 bar and 298.15 K.\n",
    "```"
   ]
  },
  {
   "cell_type": "markdown",
   "id": "5be50e92-33ac-4866-99a9-e903a004701d",
   "metadata": {},
   "source": [
    "{numref}`Figure %s <first law cont fig d>` shows fitting parameters not only for specific heat, but other thermodynamic properties. Note that although in this figure it is referred to as heat capacity, this is actually molar specific heat, because it is defined per unit mol. Note also the degree symbol, which indicates that this is the molar specific heat capacity at standard conditions, i.e., 1 bar and 298.15 K."
   ]
  },
  {
   "cell_type": "markdown",
   "id": "3ce14886-2af6-4515-bb7b-8fa768d5942a",
   "metadata": {},
   "source": [
    "Specific heats are also documented in many other places, for example NIST-JANAF thermochemical tables (https://janaf.nist.gov/). An exerpt is shown below in {numref}`Figure %s <first law cont fig e>`, again for N<sub>2</sub> gas. Note that these values would be useful if you needed to know the specific heat at a particular temperature, for example if you were assuming it was constant or linear with temperature. Or, from these data you could calculate the Shomate fitting paramaters (or fit your own chosen function), or use to numerically integrate in order to determine changes in enthalpy. Discussion of the other tabulated properties shown here is outside the scope of our discussion for now, but will become relevant later for calculations concerning chemically reacting thermodynamic systems."
   ]
  },
  {
   "cell_type": "markdown",
   "id": "db4d029b-2f6e-468c-9ab0-d3cab4000dd5",
   "metadata": {},
   "source": [
    "```{figure} Figures/nist_janaf.png\n",
    "---\n",
    "name: first law cont fig e\n",
    "---\n",
    "Excerpt from NIST-JANAF Thermochemical Tables showing molar specific heat (and other properties) as a function of temperature. The degree symbol indicates that it is computed at standard conditions of 1 bar and 298.15 K.\n",
    "```"
   ]
  },
  {
   "cell_type": "markdown",
   "id": "5a6c61ad-052f-4056-933a-ed6ceee7132b",
   "metadata": {},
   "source": [
    "## Relationship between $c_{\\rm p}$ and $c_{\\rm v}$ for Ideal Gases"
   ]
  },
  {
   "cell_type": "markdown",
   "id": "5e39a8ae-7299-41d8-8d55-df121f93c8ed",
   "metadata": {},
   "source": [
    "At this point, you may have noticed that only specific heats at constant pressure are shown in the NIST databases. There is a straightforward relationship between $c_{\\rm p}$ and $c_{\\rm v}$ that enables computation between one and the other, in the case of ideal gases."
   ]
  },
  {
   "cell_type": "markdown",
   "id": "46167086-e9e1-4a41-a77b-38a6a934809c",
   "metadata": {},
   "source": [
    "```{math}\n",
    ":label: eq_a3\n",
    "c_{\\rm p} = c_{\\rm v} + R\n",
    "``` "
   ]
  },
  {
   "cell_type": "markdown",
   "id": "2bd9191e-6282-4941-b2e0-a77abe65ae22",
   "metadata": {},
   "source": [
    "Or in the case of molar specific heats."
   ]
  },
  {
   "cell_type": "markdown",
   "id": "6f474d38-ecd1-457b-a89a-e69490afdef5",
   "metadata": {},
   "source": [
    "```{math}\n",
    ":label: eq_a4\n",
    "\\bar{c}_{\\rm p} = \\bar{c}_{\\rm v} + \\bar{R}\n",
    "``` "
   ]
  },
  {
   "cell_type": "markdown",
   "id": "8743247e-2c54-459a-b815-0c8858561a00",
   "metadata": {},
   "source": [
    "This relationship comes from differentiating the equation for enthalpy and subsitutting definitions of $c_{\\rm p}$ and $c_{\\rm v}$, as seen below."
   ]
  },
  {
   "cell_type": "markdown",
   "id": "8618dd45-9cfd-4e7e-b2af-3f5adb9a7f03",
   "metadata": {},
   "source": [
    "$h=u+RT$"
   ]
  },
  {
   "cell_type": "markdown",
   "id": "9a10a8b2-9d09-4b23-bf70-51b4595be92b",
   "metadata": {},
   "source": [
    "$dh = du+RdT$"
   ]
  },
  {
   "cell_type": "markdown",
   "id": "d699cd54-fed0-4d58-bdac-43a6efde457d",
   "metadata": {},
   "source": [
    "$c_{\\rm p}dT = c_{\\rm v}dT+RdT$"
   ]
  },
  {
   "cell_type": "markdown",
   "id": "20bbe9eb-aae1-4ffb-936c-870ebaf3cdba",
   "metadata": {},
   "source": [
    "## Using Cantera to Determine $c_{\\rm p}$ and $c_{\\rm v}$ for Ideal Gases"
   ]
  },
  {
   "cell_type": "markdown",
   "id": "e6e5cbd1-2d0c-4fc4-b8b0-2ae0e0f20ff5",
   "metadata": {},
   "source": [
    "Of course, since we have learned to use the Cantera package to evaluate thermodynamic properties we can take advantage of its database to evaluate specific heats. When assuming ideal gas behavior, it will be important to calculate specific heats at ambient pressure (e.g. 1 bar) or lower where the calculated values are, for the most part, independent of pressure. This is because the values we have so far learned to extract from Cantera are for real gases, not ideal gases. But, as long as the pressure is sufficiently low there is very little deviation between ideal gas and real gas behavior for most monotonic (e.g. Ar, He) and diatomic gases (e.g., N<sub>2</sub>, O<sub>2</sub>)."
   ]
  },
  {
   "cell_type": "markdown",
   "id": "7db7b00a-51ce-4dc0-b4c2-643744a6fe98",
   "metadata": {},
   "source": [
    "Now, lets consider how good our assumptions are regarding pressure (or volume) independence of monotonic gases. For this we can call $c_{\\rm p}$ and $c_{\\rm v}$ by following our defined species, in this case nitrogen, with *.cp* or *.cv*, such as *species1.cp*. The units are $\\frac{\\rm kg}{\\rm J K}$"
   ]
  },
  {
   "cell_type": "code",
   "execution_count": 21,
   "id": "6401a435-012a-4a10-b934-d08d711128e9",
   "metadata": {},
   "outputs": [
    {
     "data": {
      "text/plain": [
       "1040.5742633016914"
      ]
     },
     "execution_count": 21,
     "metadata": {},
     "output_type": "execute_result"
    }
   ],
   "source": [
    "import cantera as ct\n",
    "#State 1\n",
    "T1,p1,m = 15, 100000, 2 # celsius, Pa, kg\n",
    "species1 = ct.Nitrogen()# define species1 as nitrogen\n",
    "species1.TP = 273.15+T1, p1\n",
    "species1.cp"
   ]
  },
  {
   "cell_type": "markdown",
   "id": "5ad1048c-08d5-4017-9750-8ee96197c2e5",
   "metadata": {},
   "source": [
    "Now, lets define a list of pressures, from 10 kPa to 100 Mpa and evaluate $c_{\\rm p}$ at each pressure."
   ]
  },
  {
   "cell_type": "code",
   "execution_count": 22,
   "id": "874ce087-2278-4fec-82a1-0f43e91de0be",
   "metadata": {},
   "outputs": [
    {
     "name": "stdout",
     "output_type": "stream",
     "text": [
      "[1038.784070996967, 1038.7856817302738, 1038.8017891406482, 1038.9628692697945, 1040.574263297144]\n"
     ]
    }
   ],
   "source": [
    "import numpy as np\n",
    "#pressures = 10**np.arange(1,6,1) # alternative approach\n",
    "pressures = [10**i for i in range(1,6,1)]\n",
    "cps=[]\n",
    "for i in pressures:\n",
    "    species1.TP = 273.15+T1, i\n",
    "    cps.append(species1.cp)\n",
    "print(cps)"
   ]
  },
  {
   "cell_type": "markdown",
   "id": "3b87b64b-8cb8-4f98-8da5-0a56f543e5a5",
   "metadata": {},
   "source": [
    "As seen, only at the highest pressure of 100 MPa does the specific heat deviate largely from values at lower pressures. And 100 MPa is well above the practical operating pressure for many typical applications. Thus, we can confidently say that for ideal gases specific heats are independent of pressure - and the same conclusion would be drawn if we were to perform calculations as a function of specific volume."
   ]
  },
  {
   "cell_type": "markdown",
   "id": "b2240633-1363-4d93-91e0-b7a479d6d998",
   "metadata": {},
   "source": [
    "For real gases however, such as water vapor, the pressure (and volume) dependence is greater, as seen below. Although it isn't until 100 MPa that the deviation becomes very large."
   ]
  },
  {
   "cell_type": "code",
   "execution_count": 23,
   "id": "823e6fb9-8725-49b1-88ec-39e31ce716d1",
   "metadata": {},
   "outputs": [
    {
     "name": "stdout",
     "output_type": "stream",
     "text": [
      "[1947.2793028311721, 1947.308009567147, 1947.5804720336023, 1950.3244450337818, 1978.3364173330692]\n"
     ]
    }
   ],
   "source": [
    "import numpy as np\n",
    "species1 = ct.Water()\n",
    "#pressures = 10**np.arange(1,6,1) # alternative approach\n",
    "pressures = [10**i for i in range(1,6,1)]\n",
    "cps=[]\n",
    "for i in pressures:\n",
    "    species1.TP = 473.15+T1, i\n",
    "    cps.append(species1.cp)\n",
    "print(cps)"
   ]
  },
  {
   "cell_type": "markdown",
   "id": "0cd6bc83-bcd1-4917-a751-dac68b53359b",
   "metadata": {},
   "source": [
    "(specific_heats)=\n",
    "## Determining Changes in Internal Energy or Enthalpy of Ideal Gases using Specific Heats"
   ]
  },
  {
   "cell_type": "markdown",
   "id": "b73d2083-c48c-4d06-a94c-36ea715884f9",
   "metadata": {},
   "source": [
    "As mentioned in {numref}`UsingSpecificHeat` {ref}`UsingSpecificHeat`, there are several aproaches, with varying degrees of accuracy for evaluating internal energy or enthalpy using specific heats. These are \n",
    "1. (Least Accurate) Assume specific heat is independent of temperature. In this case $\\Delta u =c_{\\rm v} \\Delta T$ and $\\Delta h=c_{\\rm p} \\Delta T$. Typically the specific heat at ambient conditions (e.g. 300 K) is chosen, but if it is known closer to the temperature range of interest then this would result in better accuracy.\n",
    "1. (More Accurate) Assume specific heat is linear with temperature and use an average specific heat. In this case $\\Delta u =c_{\\rm v,avg} \\Delta T$ and $\\Delta h=c_{\\rm v,avg} \\Delta T$\n",
    "1. (EvenMore Accurate) Determine temperature dependence and integrate analytically using Shomate equation ({eq}`eq_z`)."
   ]
  },
  {
   "cell_type": "markdown",
   "id": "df8b09e5-5cb6-431e-b7a1-6393ae9fffe6",
   "metadata": {},
   "source": [
    "The most accurate approach to determining changes in internal energy or enthalpy is to simply use tabulated values or software such as Cantera, which is the equivilent of numerical integration."
   ]
  },
  {
   "cell_type": "markdown",
   "id": "ec184210-4270-4263-a64d-5e2fbcda3e16",
   "metadata": {},
   "source": [
    "We will go through examples of each of these approaches and discuss their accuracy by comparing results to changes in internal energy or enthalpy that are estimated using Cantera. First, let's take a look at the temperature dependence of $c_{\\rm p}$ of some gases, namely nitrogen, methane and hydrogen. As seen in {numref}`Figure %s <first law cont fig c>`, depending on the type of gas, the variability with temperature can change greatly. For example, nitrogen and methane both increase almost linearly with increasing temperature, but $c_{\\rm p}$ of N<sub>2</sub> changes only by about 10% while for CH<sub>4</sub> it nearly doubles. $c_{\\rm p}$ of H<sub>2</sub> is less dependent on temperature, but is a minimum at an intermediate temperature. "
   ]
  },
  {
   "cell_type": "code",
   "execution_count": 24,
   "id": "cd2db2d1-68f1-4569-a246-3b4584cda345",
   "metadata": {
    "tags": [
     "hide-cell"
    ]
   },
   "outputs": [
    {
     "data": {
      "image/png": "[encoded data removed]",
      "text/plain": [
       "<Figure size 640x480 with 3 Axes>"
      ]
     },
     "metadata": {},
     "output_type": "display_data"
    }
   ],
   "source": [
    "import numpy as np\n",
    "import cantera as ct\n",
    "import matplotlib.pyplot as plt\n",
    "fig=plt.figure()\n",
    "ax1= fig.add_subplot(1,3,1) # add one subplot\n",
    "ax2= fig.add_subplot(1,3,2) # add a second subplot\n",
    "ax3= fig.add_subplot(1,3,3) # add a third subplot\n",
    "species1 = ct.Nitrogen()# define species1 as nitrogen\n",
    "species2 = ct.Solution('gri30.yaml')# define species2. Methane does not exist as a class in Cantera so we need to do things a bit differently to define it. See Cantera documentation for more details\n",
    "species2.X = 'CH4:1' #gri30 is a mixture of gases and here we set the mixture to only be methane\n",
    "species3 = ct.Hydrogen()# define species3 as Hydrogen\n",
    "p1 = 100000 #Pa\n",
    "temperatures = range(300,1000,25) # temperature in degrees C\n",
    "cps1=[]\n",
    "cps2=[]\n",
    "cps3=[]\n",
    "for i in temperatures:\n",
    "    species1.TP = i, p1\n",
    "    cps1.append(species1.cp)\n",
    "    species2.TP = i, p1\n",
    "    cps2.append(species2.cp)\n",
    "    species3.TP = i, p1\n",
    "    cps3.append(species3.cp)\n",
    "\n",
    "ax1.plot(temperatures,cps1, label='Nitrogen')\n",
    "ax2.plot(temperatures,cps2,label='Methane')\n",
    "ax3.plot(temperatures,cps3, label='Hydrogen')\n",
    "   \n",
    "ax1.set_xlabel('Temperature $(\\mathrm{^\\circ C})$',  fontsize=12)\n",
    "ax2.set_xlabel('Temperature $(\\mathrm{^\\circ C})$',  fontsize=12)\n",
    "ax3.set_xlabel('Temperature $(\\mathrm{^\\circ C})$',  fontsize=12)\n",
    "ax1.set_ylabel('$c_{\\mathrm{p}}$ $({\\mathrm{kJ kg^{-1}K^{-1}})}$',  fontsize=12)\n",
    "plt.subplots_adjust(wspace=0.5) # add spacing between subplots\n",
    "ax1.set_title('Nitrogen')\n",
    "ax2.set_title('Methane')\n",
    "ax3.set_title('Hydrogen')\n",
    "plt.savefig('Figures/cp_temp_depend.png')# used to save the figure if you desire\n",
    "plt.show()  "
   ]
  },
  {
   "cell_type": "markdown",
   "id": "914e2877-c05a-47c6-a5e2-2ce2deea4881",
   "metadata": {},
   "source": [
    "```{figure} Figures/cp_temp_depend.png\n",
    ":name: first law cont fig f\n",
    "\n",
    "Specific heats of three different gases at ambient pressure, shown as a function of temperature between 300 and 1000 $^\\circ C$. From left to right, Nitrogen, Methane and Hydrogen.\n",
    "```"
   ]
  },
  {
   "cell_type": "markdown",
   "id": "8c53bd40-b0da-4e05-a155-3e2c4fec10e8",
   "metadata": {},
   "source": [
    "Thus, from simple visual inspection of {numref}`Figure %s <first law cont fig f>` we can infer that assuming constant $c_{\\rm p}$ will be least accurate for methane, followed by nitrogen and then hydrogen. Further, assuming an average value and a dependence that is linear with temperature will likely be more acceptable for nitrogen and methane compared to hydrogen. Lets compare:"
   ]
  },
  {
   "cell_type": "markdown",
   "id": "4e3da341-c948-49e9-9b3f-e77d4b371037",
   "metadata": {},
   "source": [
    "(cpExample1)=\n",
    "#### Example - Evaluating Changes in Enthalpy Assuming Constant, Average and Temperature Dependent $c_{\\rm p}$"
   ]
  },
  {
   "cell_type": "markdown",
   "id": "41b3d015-03bd-4f80-b3b0-a94db18d8c6d",
   "metadata": {},
   "source": [
    "Determine the change in enthalpy of H<sub>2</sub> as it is heated from 500 K to 700 K using the three specific heat approaches discussed above. Compare to changes in enthalpy estimated using Cantera. "
   ]
  },
  {
   "cell_type": "markdown",
   "id": "8133670e-1603-4ae2-b439-8c83a81d6bb1",
   "metadata": {},
   "source": [
    ">**Solution** - First, lets determine the change in enthalpy directly using Cantera. For H<sub>2</sub>:"
   ]
  },
  {
   "cell_type": "code",
   "execution_count": 25,
   "id": "49ada63c-6d4c-4cda-bec0-23a1e7f2c9b6",
   "metadata": {},
   "outputs": [
    {
     "name": "stdout",
     "output_type": "stream",
     "text": [
      "The change in enthalpy is 2908.91 kJ/kg\n"
     ]
    }
   ],
   "source": [
    "import numpy as np\n",
    "import cantera as ct\n",
    "T1,T2,P=500,700,100000\n",
    "species1 = ct.Hydrogen()\n",
    "species1.TP = T1,P\n",
    "h1=species1.h\n",
    "species1.TP = T2,P\n",
    "h2=species1.h\n",
    "print(\"The change in enthalpy is\", round((h2-h1)/1000,2), \"kJ/kg\" )"
   ]
  },
  {
   "cell_type": "markdown",
   "id": "b1a36c23-95d0-41ac-87ab-7abc9b26ab69",
   "metadata": {},
   "source": [
    "> Now, using the least accurate, constant specific heat approach. Lets use $c_{\\rm p}$ at ambient conditions, or the default 300 K in Cantera."
   ]
  },
  {
   "cell_type": "code",
   "execution_count": 26,
   "id": "290001a5-afbd-4cc6-993e-4103bcb92e51",
   "metadata": {},
   "outputs": [
    {
     "name": "stdout",
     "output_type": "stream",
     "text": [
      "The specific heat is 14862.6 J/kg/K\n",
      "The change in enthalpy using constant specific heat is 2972.52 kJ kg-1\n"
     ]
    }
   ],
   "source": [
    "import numpy as np\n",
    "import cantera as ct\n",
    "T1,T2,P=500,700,100000\n",
    "species1 = ct.Hydrogen()\n",
    "cp = species1.cp\n",
    "print(\"The specific heat is\", round(cp,2), \"J/kg/K\" )\n",
    "delta_h=cp*(T2-T1)/1000\n",
    "print(\"The change in enthalpy using constant specific heat is\", round(delta_h,2), \"kJ kg-1\" )"
   ]
  },
  {
   "cell_type": "markdown",
   "id": "e4be2ad2-a3e3-451b-bfbb-8277d751482a",
   "metadata": {},
   "source": [
    "> Now, lets calculate the average specific heat and use this to calculate $\\Delta h$. "
   ]
  },
  {
   "cell_type": "code",
   "execution_count": 27,
   "id": "f4b3099b-765b-44b3-bdb0-f1e677ca47a9",
   "metadata": {},
   "outputs": [
    {
     "name": "stdout",
     "output_type": "stream",
     "text": [
      "The average specific heat is 14563.59 J/kg/K\n",
      "The change in enthalpy using constant specific heat is 2912.72 kJ kg\n"
     ]
    }
   ],
   "source": [
    "import numpy as np\n",
    "import cantera as ct\n",
    "T1,T2,P=500,700,100000\n",
    "species1 = ct.Hydrogen()\n",
    "species1.TP = T1,P\n",
    "cp1=species1.cp\n",
    "species1.TP = T2,P\n",
    "cp2=species1.cp\n",
    "cp_avg = (cp1+cp2)/2\n",
    "print(\"The average specific heat is\", round(cp_avg,2), \"J/kg/K\" )\n",
    "delta_h=cp_avg*(T2-T1)/1000\n",
    "print(\"The change in enthalpy using constant specific heat is\", round(delta_h,2), \"kJ kg\" )"
   ]
  },
  {
   "cell_type": "markdown",
   "id": "70dc8afb-d259-42b1-a6a0-4d2383ff9080",
   "metadata": {},
   "source": [
    "> Finally, lets calculate the change in ethalpy through analytical integration of the Shomate equation. We will find the equation from NIST Chemistry Webbook (https://webbook.nist.gov/chemistry/) but can also determine this ourselves, as will be shown in a following, alternative approach after this example. For H2, the Shomate equation is $c_{\\rm p} = A + BT + CT^2 + DT^3 + \\frac{E}{T^2}$, with A = 33.066178, B = -11.363417, C = 11.432816, D = -2.772874, and E = -0.158558. To integrate this expression, we can either let Python do this for us using built in functions such as *scipy.integrate* or it is straightforward to do by hand as well. Both approaches are discussed. First, we will integrate ourselves, as shown below. "
   ]
  },
  {
   "cell_type": "markdown",
   "id": "21d126b8-45b3-4569-84af-66bad3be9c39",
   "metadata": {},
   "source": [
    "$\\Delta h = \\int_{1}^{2} c_{\\rm p} dT$"
   ]
  },
  {
   "cell_type": "markdown",
   "id": "9456d6b8-ef11-4371-9a3b-ea8a41ad2e1f",
   "metadata": {},
   "source": [
    "$\\Delta h = \\left. AT + \\frac{BT^2}{2} + \\frac{CT^3}{3} + \\frac{DT^4}{4} - \\frac{E}{T^{-1}}  \\right|_{T_1}^{T_2}$"
   ]
  },
  {
   "cell_type": "markdown",
   "id": "1cf8522e-617f-4ec3-bb4a-d929e10873c9",
   "metadata": {},
   "source": [
    "with the corresponding code"
   ]
  },
  {
   "cell_type": "code",
   "execution_count": 28,
   "id": "2955a17a-48c0-4bbd-a7ef-f799112e312d",
   "metadata": {},
   "outputs": [
    {
     "name": "stdout",
     "output_type": "stream",
     "text": [
      "The change in enthalpy using the Shomate Equation is 2933.35 kJ kg\n"
     ]
    }
   ],
   "source": [
    "A,B,C,D,E = 33.066178,-11.363417,11.432816,-2.772874,-0.158558\n",
    "def cp_int(T,A,B,C,D,E): #this is the integrated form of the shomate equation, which we will evaluate at T1 and T2. Units J/mol\n",
    "    return A*T + B*T**2/2 + C*T**3/3 + D*T**4/4 + E*T**(-1)/(-1)\n",
    "delta_h=cp_int(700/1000,A,B,C,D,E)-cp_int(500/1000,A,B,C,D,E) # The units are J/mol, as seen from the NIST website. Thus we need to convert to kJ/kg or J/g to compare to our other calculations\n",
    "M_H2 = 2 # kg/kmol\n",
    "delta_h=delta_h*1000/M_H2\n",
    "print(\"The change in enthalpy using the Shomate Equation is\", round(delta_h,2), \"kJ/kg\" )"
   ]
  },
  {
   "cell_type": "markdown",
   "id": "234b863e-b7ee-4d33-a959-acdb536889f7",
   "metadata": {},
   "source": [
    "To integrate in Python we can also use the *scipy.integrate* package and import the *quad* function, as seen below."
   ]
  },
  {
   "cell_type": "code",
   "execution_count": 29,
   "id": "9f1895a7-5435-4233-a815-b84800e34fe0",
   "metadata": {},
   "outputs": [
    {
     "name": "stdout",
     "output_type": "stream",
     "text": [
      "The change in enthalpy using the Shomate Equation and integrating it with scipy.integrate is 2933.35 kJ kg\n"
     ]
    }
   ],
   "source": [
    "from scipy.integrate import quad\n",
    "def cp(T,A,B,C,D,E):\n",
    "    return A + B*T + C*T**2 + D*T**3 + E/(T**2)\n",
    "delta_h=quad(cp, 500/1000, 700/1000,args=(33.066178,-11.363417,11.432816,-2.772874,-0.158558,)) # Here the args represent our constant. We could have alternatively just let the function cp be dependent on T and inserted these values directly.\n",
    "delta_h=delta_h[0] # The first output value is the integral and the second is the error. Thus we want only the first value in the output list.\n",
    "M_H2 = 2 # kg/kmol\n",
    "delta_h=delta_h*1000/M_H2 # The units were J/mol, as seen from the NIST website. Thus we need to convert to kJ/kg or J/g to compare to our other calculations\n",
    "print(\"The change in enthalpy using the Shomate Equation and integrating it with scipy.integrate is\", round(delta_h,2), \"kJ kg\" )"
   ]
  },
  {
   "cell_type": "code",
   "execution_count": 30,
   "id": "1d9c91fc-433a-4a24-abe2-63d0e15c9b70",
   "metadata": {},
   "outputs": [
    {
     "name": "stdout",
     "output_type": "stream",
     "text": [
      "\n",
      "  hydrogen:\n",
      "\n",
      "       temperature   300 K\n",
      "          pressure   1.0133e+05 Pa\n",
      "           density   0.081843 kg/m^3\n",
      "  mean mol. weight   2.0159 kg/kmol\n",
      "    vapor fraction   1\n",
      "   phase of matter   supercritical\n",
      "\n",
      "                          1 kg             1 kmol     \n",
      "                     ---------------   ---------------\n",
      "          enthalpy             28006             56457  J\n",
      "   internal energy         -1.21e+06       -2.4393e+06  J\n",
      "           entropy             64917        1.3087e+05  J/K\n",
      "    Gibbs function       -1.9447e+07       -3.9204e+07  J\n",
      " heat capacity c_p             14863             29962  J/K\n",
      " heat capacity c_v             10737             21644  J/K\n",
      "\n"
     ]
    }
   ],
   "source": [
    "import numpy as np\n",
    "import cantera as ct\n",
    "T1,T2,P=500,700,100000\n",
    "species1 = ct.Hydrogen()\n",
    "species1()\n"
   ]
  },
  {
   "cell_type": "markdown",
   "id": "3f16e451-6e44-4d64-a7a4-e1323c48a054",
   "metadata": {},
   "source": [
    "(cpExample2)=\n",
    "#### Example - Evaluating Shomate Equation Knowing Specific Heats as a Function of Temperature"
   ]
  },
  {
   "cell_type": "markdown",
   "id": "1d8603ce-680a-41e6-a224-a4d0790724f0",
   "metadata": {},
   "source": [
    "Determine parameters to the Shomate equation for H<sub>2</sub> by using the *scipy* function *curve_fit*"
   ]
  },
  {
   "cell_type": "markdown",
   "id": "a37e5467-de97-4039-b45f-e76b719b18cd",
   "metadata": {},
   "source": [
    ">**Solution** - First, we need to define our objective function, which is the Shomate Equation."
   ]
  },
  {
   "cell_type": "code",
   "execution_count": 31,
   "id": "6723477e-87df-4ddd-af17-81a772db4f25",
   "metadata": {},
   "outputs": [],
   "source": [
    "def shomate(T,A,B,C,D,E):\n",
    "    return A + B*T + C*T**2 + D*T**3 + E/(T**2)"
   ]
  },
  {
   "cell_type": "markdown",
   "id": "408486b8-639d-46c8-aaf7-d466b6cd2c83",
   "metadata": {},
   "source": [
    "> Then, we need to compile a list of specific heats at different temperatures. For this we will again use Cantera. But these could come from other sources such as NIST-JANAF"
   ]
  },
  {
   "cell_type": "code",
   "execution_count": 32,
   "id": "bf9c3916-95fa-4bcb-b689-bebae49fe3ef",
   "metadata": {},
   "outputs": [
    {
     "name": "stdout",
     "output_type": "stream",
     "text": [
      "[300 350 400 450 500 550 600 650 700 750 800 850 900 950]\n",
      "[14862.565558882909, 14647.86803115975, 14562.046680868487, 14523.003193748402, 14508.210386844778, 14513.200426749348, 14535.061244764198, 14571.105664278139, 14618.976750487958, 14676.655338398828, 14742.430564576087, 14814.860151230303, 14892.730062123708, 14975.01827957901]\n"
     ]
    }
   ],
   "source": [
    "import cantera as ct\n",
    "import numpy as np\n",
    "species1 = ct.Hydrogen()\n",
    "temps = np.arange(300,1000,50) #define a temperature list, from 300 K to 100 K every 50 K\n",
    "cps=[] # create an empy list for cps\n",
    "for i in temps:\n",
    "    species1.TP = i,100000 # Everything calculated at 100 kPa\n",
    "    cps.append(species1.cp)\n",
    "print(temps)\n",
    "print (cps)"
   ]
  },
  {
   "cell_type": "markdown",
   "id": "563aed6d-d029-4b67-8bc7-440009801f0d",
   "metadata": {},
   "source": [
    "> Now lets determine the Shomate fitting paramaters by using *curve_fit*"
   ]
  },
  {
   "cell_type": "code",
   "execution_count": 33,
   "id": "abe79f8a-863b-4b2a-861b-e276c0d29a1a",
   "metadata": {},
   "outputs": [
    {
     "name": "stdout",
     "output_type": "stream",
     "text": [
      "Here are the fitted paramaters A,B,C,D and E: [12992.69926627854, 3.2333043028541057, -0.0027790209708608254, 1.530870343016629e-06, 99342322.60517927]\n"
     ]
    }
   ],
   "source": [
    "from scipy.optimize import curve_fit\n",
    "fit_params=curve_fit(shomate, temps, cps)[0] # The fitted paramaters are the first values from the resulting list, thus we add [0] afterwards\n",
    "A,B,C,D,E = fit_params\n",
    "print(\"Here are the fitted paramaters A,B,C,D and E:\", list(fit_params))"
   ]
  },
  {
   "cell_type": "code",
   "execution_count": 34,
   "id": "591dfab5-dabe-4df2-9bd6-98d9a8f8d487",
   "metadata": {},
   "outputs": [
    {
     "name": "stdout",
     "output_type": "stream",
     "text": [
      "[14857.715753520737, 14660.519504856347, 14560.242850317885, 14515.014386860736, 14503.324258288183, 14513.465714730815, 14538.853188698195, 14575.755728541346, 14622.119964097434, 14676.922696790363, 14739.797281906003, 14810.8090460297, 14890.315475231531, 14978.876483816337]\n"
     ]
    }
   ],
   "source": [
    "fittedcps=[]\n",
    "for i in temps:\n",
    "    fittedcps.append(shomate(i,A,B,C,D,E))\n",
    "print(fittedcps) # These are the fitted specific heats at each temperature in temps"
   ]
  },
  {
   "cell_type": "code",
   "execution_count": 35,
   "id": "5ea3b6c8-3ef4-4fe3-95e0-6bd221cda8a1",
   "metadata": {},
   "outputs": [
    {
     "data": {
      "image/png": "[encoded data removed]",
      "text/plain": [
       "<Figure size 640x480 with 1 Axes>"
      ]
     },
     "metadata": {},
     "output_type": "display_data"
    }
   ],
   "source": [
    "import matplotlib.pyplot as plt\n",
    "plt.plot(temps,cps)\n",
    "plt.scatter(temps,fittedcps, color='red')\n",
    "plt.xlabel('$T$ , K',  fontsize=12)\n",
    "plt.ylabel('$c_\\mathrm{p}$, $\\mathrm{kJ}$ $\\mathrm{kg^{-1}}$',  fontsize=12)\n",
    "plt.legend(['Cantera','fitted values from Shomate'])\n",
    "plt.show()"
   ]
  },
  {
   "cell_type": "markdown",
   "id": "006e4888-e8fd-42b6-87d3-8eec1b1b3bb7",
   "metadata": {},
   "source": [
    "(Exercise4)=\n",
    "### Exercise 4"
   ]
  },
  {
   "cell_type": "markdown",
   "id": "fa08de55-e77f-48d7-a153-01aead96f45c",
   "metadata": {},
   "source": [
    "1. Determine the change in enthalpy of O<sub>2</sub> as it is heated from 500 K to 700 K using\n",
    "    1. property evaluation in Cantera\n",
    "    1. polynomial expression for specific heat as a function of temperature\n",
    "    1. average specific heats\n",
    "    1. constant specific heat at 300 K\n",
    "    \n",
    "1. A cylinder is fitted with a piston and has an initial volume of 0.1 m<sup>3</sup> and contains N<sub>2</sub> gas at 150 kPa, 25 °C. The piston is moved, compressing the N<sub>2</sub> until the pressure is 1 MPa and T = 150 °C. During compression, heat is transferred from the N<sub>2</sub>, and the work done on the system is 20 kJ. Determine the amount of heat transfer.\n",
    "\n",
    "1. A cylinder is fitted with a piston contains N<sub>2</sub> gas at 150 kPa, 25 °C. 300 kJ of heat is transferred to the system at constant pressure. Determine the temperature after heat addition using average specific heats. Note that an iterative solution approach is necessary.\n",
    "\n",
    "1. A frictionless piston–cylinder device contains 5 kg of nitrogen at 100 kPa and 250 K. Nitrogen is now compressed slowly according to the relation $PV$<sup>1.4</sup> = constant until it reaches a final temperature of 450 K. Calculate the work input during this process.\n",
    "\n",
    "1. Nitrogen at an initial state of 300 K, 150 kPa, and 0.2 m<sup>3</sup> is compressed slowly in an isothermal process to a final pressure of 800 kPa. Determine the work done during this process.\n",
    "\n",
    "1. Argon is compressed in a polytropic process with n = 1.2 from 120 kPa and 30°C to 1200 kPa in a piston–cylinder device. Determine the final temperature of the argon.\n",
    "\n",
    "1. Determine the change in specific internal energy of hydrogen as it is heated from 200 to 800 K using a) the Shomate specific heat equation as a function of temperature, b) using an average cv value, c) using a room temperature cv value, and d) using Cantera.\n",
    "\n",
    "1. 1 kg of oxygen is heated from 20 to 120°C. Determine the amount of heat transfer required when this is done during both a constant-volume process and an isobaric process. For each use \n",
    "    1. specific heat equation as a function of temperature\n",
    "    1. using an average cv value\n",
    "    1. using a room temperature cv value\n",
    "    1. using Cantera.\n",
    "\n",
    "1. Argon (c<sub>v</sub> = 0.3122 kJ/kg/K) is compressed in a polytropic process with n = 1.2 from 120 kPa and 10°C to 800 kPa in a piston–cylinder device. Determine the work produced and heat transferred during this compression process, in kJ/kg.\n",
    "\n",
    "1. A piston–cylinder device contains 2.2 kg of nitrogen initially at 100 kPa and 25°C. The nitrogen is now compressed slowly in a polytropic process during which $PV$<sup>1.3</sup> = constant until the volume is reduced by one-half. Determine the work done and the heat transfer for this process.\n",
    "\n",
    "2. 1kg of nitrogen undergoes a polytropic process with *_n_* = 2. The nitrogen compresses to one third of its original volume and ends at _*T*_ = 750 K. What is the inital temperature (*_T_*) and work (*_W_*) done in this process?\n",
    "\n",
    "2. Carbon Dioxide is heated from *_T_* = 350 K to *_T_* = 500 K. 115 kJ of heat is added to the gas during this process. What is the molar average specific heat (*_Cv_*) during this heating?\n",
    "\n",
    "4. Nitrogen is heated from *_T_* = 400 K to *_T_* = 750 K in a rigid container. Assume nitrogen is an ideal gas.\n",
    "   1. What is the change in specific internal energy (*_u_*) using average specific heat?\n",
    "   2. What is the change in specific internal energy (*_u_*) using cantera values?\n",
    "\n",
    "5. Carbon dioxide undergoes a polytropic process from *_T_*<sub>2</sub>/*_T_*<sub>1</sub> = 3 and *_V_*<sub>1</sub>/*_V_*<sub>2</sub> = 2. What is the work (*_W_*) done per kg during this process if the intial temperature is *_T_* = 300 K?\n",
    "\n",
    "6. Determine the change in specific internal energy (*_u_*) of hydrogen when it is heated from *_T_* = 400 K to *_T_* = 500 K.\n",
    "    1. Using an average *_c<sub>v</sub>_* value.\n",
    "    2. Using a room temperature *_c<sub>v</sub>_* value.\n",
    "    3. Using cantera."
   ]
  },
  {
   "cell_type": "markdown",
   "id": "7ff85dac-d59b-4959-8e1d-2c3b19fe036c",
   "metadata": {},
   "source": [
    "{numref}`Exercise4Solutions` {ref}`Exercise4Solutions`"
   ]
  },
  {
   "cell_type": "code",
   "execution_count": null,
   "id": "8a70c385-e23a-40a8-9238-d95fe202e851",
   "metadata": {},
   "outputs": [],
   "source": []
  }
 ],
 "metadata": {
  "kernelspec": {
   "display_name": "Python 3 (ipykernel)",
   "language": "python",
   "name": "python3"
  },
  "language_info": {
   "codemirror_mode": {
    "name": "ipython",
    "version": 3
   },
   "file_extension": ".py",
   "mimetype": "text/x-python",
   "name": "python",
   "nbconvert_exporter": "python",
   "pygments_lexer": "ipython3",
   "version": "3.12.3"
  }
 },
 "nbformat": 4,
 "nbformat_minor": 5
}
