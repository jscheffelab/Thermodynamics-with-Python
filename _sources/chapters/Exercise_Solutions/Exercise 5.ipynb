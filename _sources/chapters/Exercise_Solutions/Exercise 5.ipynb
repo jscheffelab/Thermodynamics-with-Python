{
 "cells": [
  {
   "cell_type": "markdown",
   "id": "8dc5d671-c54f-4e7f-8a4a-191ecc863225",
   "metadata": {},
   "source": [
    "(Exercise5Solutions)=\n",
    "# Exercise 5 Solutions"
   ]
  },
  {
   "cell_type": "markdown",
   "id": "16bf3044-6dd9-43c2-8904-b7e7143a8a0f",
   "metadata": {},
   "source": [
    "{numref}`Exercise5` {ref}`Exercise5`"
   ]
  },
  {
   "cell_type": "code",
   "execution_count": null,
   "id": "706ba0e2-e1a3-4920-800c-464a837d23f3",
   "metadata": {},
   "outputs": [
    {
     "name": "stdout",
     "output_type": "stream",
     "text": [
      "The volume flow rate at inlet is 180 m3/s, and the mass flow rate at exit is 213.9 kg/s\n"
     ]
    }
   ],
   "source": [
    "#7.6.3 Exercise 1\n",
    "#Air enters a 1-m2 pipe at 100 kPa and 20°C with a velocity of 180 m/s. Determine the volumetric flow rate, in m3/s, at the inlet and the mass flow rate, in kg/s, at the exit.\n",
    "\n",
    "\n",
    "A = 1 # m2\n",
    "Pi = 100 # Pa\n",
    "Ti = 20 + Kc\n",
    "vel_i = 180 # m/s\n",
    "R = 0.287 # kPa*m^3/kgK\n",
    "\n",
    "# Find: volumetric flow rate at inlet, mass flow rate at exit \n",
    "vdot = vel_i*A \n",
    "\n",
    "# PV = mRT > P*v = RT > rho = P/RT\n",
    "\n",
    "rho = Pi/R/Ti\n",
    "\n",
    "# kg/m^3 * m^3/s = kg/s\n",
    "\n",
    "mdot_i = rho*vdot\n",
    "mdot_e = mdot_i\n",
    "print(f\"The volume flow rate at inlet is {round(vdot,1)} m3/s, and the mass flow rate at exit is {round(mdot_e,1)} kg/s\")"
   ]
  },
  {
   "cell_type": "code",
   "execution_count": 3,
   "id": "92326a2a-7cd1-4f5b-9f2e-18b2bb759b57",
   "metadata": {},
   "outputs": [
    {
     "name": "stdout",
     "output_type": "stream",
     "text": [
      "The mass flow rate through the nozzle is 0.7956 kg/s and the exit area is 0.0058 m2\n"
     ]
    }
   ],
   "source": [
    "#7.6.3 Exercise 2\n",
    "# Air enters a nozzle steadily at 2.21 kg/m3 and 40 m/s and leaves at 0.762 kg/m3 and 180 m/s. \n",
    "#If the inlet area of the nozzle is 90 cm2, determine (a) the mass flow rate through the nozzle, and (b) the exit area of the nozzle.\n",
    "\n",
    "rho_i = 2.21 # kg/m3 \n",
    "vel_i = 40 # m/s\n",
    "rho_e = 0.762 #kg/m3\n",
    "vel_e = 180 # m/s \n",
    "A_i = 90/100e2 # m2\n",
    "\n",
    "# Find: a) mass flow rate through the nozzle, b) exit area\n",
    "# a)\n",
    "vdot_i = vel_i*A_i\n",
    "mdot = rho_i*vdot_i\n",
    "# b)\n",
    "A_e = mdot/rho_e/vel_e\n",
    "\n",
    "print(f\"The mass flow rate through the nozzle is {mdot} kg/s and the exit area is {round(A_e,4)} m2\")"
   ]
  },
  {
   "cell_type": "code",
   "execution_count": 11,
   "id": "326bd495-c102-4d51-9ee5-1201de6d7422",
   "metadata": {},
   "outputs": [
    {
     "name": "stdout",
     "output_type": "stream",
     "text": [
      "The mass flow rate using specific heats is 0.03 kg/s\n",
      "The mass flow rate is 0.03 kg/s\n"
     ]
    }
   ],
   "source": [
    "#7.6.3 Exercise 3\n",
    "# Water is heated in an insulated, constant-diameter tube by a 7-kW electric resistance heater. If the water enters the heater steadily at 20°C and leaves at 75°C, determine the mass flow rate of water.\n",
    "\n",
    "import cantera as ct\n",
    "Kc = 273.15\n",
    "\n",
    "Wdot = -7 # kJ/s \n",
    "T_i = 20 + Kc # K\n",
    "T_e = 75 + Kc # K\n",
    "\n",
    "# Wdot = mdot*cp*deltaT\n",
    "P = 100e3 # assume specific heat independent of pressure and only dependent on temperature\n",
    "state1 = ct.Water()\n",
    "state1.TP = T_i, P\n",
    "cp1 = state1.cp\n",
    "state1.TP = T_e, P\n",
    "cp2 = state1.cp\n",
    "cpavg = (cp1 + cp2)/2/1000\n",
    "mdot = Wdot/(cpavg*(T_i - T_e))\n",
    "print(f\"The mass flow rate using specific heats is {round(mdot,2)} kg/s\")\n",
    "\n",
    "# Wdot = mdot*(h_i-h_e)\n",
    "P = 100e3 # assume enthalpy independent of pressure and only dependent on temperature\n",
    "state1 = ct.Water()\n",
    "state1.TP = T_i, P\n",
    "hi = state1.HP[0]/1000\n",
    "state1.TP = T_e, P\n",
    "he = state1.HP[0]/1000\n",
    "mdot = Wdot/(hi-he)\n",
    "print(f\"The mass flow rate is {round(mdot,3)} kg/s\")"
   ]
  },
  {
   "cell_type": "code",
   "execution_count": 1,
   "id": "d72cc8ac-8486-4982-be77-9838eed9a1fc",
   "metadata": {},
   "outputs": [
    {
     "name": "stdout",
     "output_type": "stream",
     "text": [
      "The rate of heat transfer is 7.97 MJ/s (MW)\n"
     ]
    }
   ],
   "source": [
    "#7.6.3 Exercise 4\n",
    "# Saturated liquid water is heated in a steady-flow steam boiler at a constant pressure of 2 MPa at a rate of 4 kg/s to an outlet temperature of 250°C. Determine the rate of heat transfer in the boiler.\n",
    "\n",
    "import cantera as ct\n",
    "Kc = 273.15\n",
    "\n",
    "Pi = 2e6 # Pa\n",
    "xi = 0\n",
    "Pe = Pi\n",
    "mdot = 4 # kg/s\n",
    "Te = 250 + Kc\n",
    "\n",
    "state1 = ct.Water()\n",
    "state1.PQ = Pi, xi\n",
    "hi = state1.HP[0]\n",
    "\n",
    "state2 = ct.Water()\n",
    "state2.TP = Te, Pe\n",
    "he = state2.HP[0]\n",
    "\n",
    "deltah = he - hi\n",
    "\n",
    "Qdot = mdot*deltah\n",
    "print(f\"The rate of heat transfer is {round(Qdot*10**-6,2)} MJ/s (MW)\")"
   ]
  },
  {
   "cell_type": "code",
   "execution_count": 2,
   "id": "d2e24699-7c0c-43ca-804f-11ba44900e03",
   "metadata": {},
   "outputs": [
    {
     "name": "stdout",
     "output_type": "stream",
     "text": [
      "The exit temperature is 60.11 deg C\n"
     ]
    }
   ],
   "source": [
    "#7.6.3 Exercise 5\n",
    "# Steam enters an adiabatic turbine at 8 MPa and 500°C at a rate of 3 kg/s and leaves at 20 kPa. If the power output of the turbine is 2.5 MW, determine the temperature of the steam at the turbine exit. Neglect kinetic energy changes.\n",
    "\n",
    "import cantera as ct\n",
    "Kc = 273.15\n",
    "\n",
    "Pi = 8e6 # Pa\n",
    "Ti = 500 + Kc # K\n",
    "mdot = 3 # kg/s\n",
    "Pe = 20e3 # Pa\n",
    "Wdot = 2.5e6 # J/s\n",
    "\n",
    "# Find: Te\n",
    "# Wdot = mdot*deltah\n",
    "inlet = ct.Water()\n",
    "inlet.TP = Ti, Pi\n",
    "hi = inlet.HP[0]\n",
    "he = (mdot*hi - Wdot)/mdot\n",
    "exit = ct.Water()\n",
    "exit.HP = he, Pe\n",
    "Te = exit.TV[0] - Kc\n",
    "print(f\"The exit temperature is {round(Te,2)} deg C\")"
   ]
  },
  {
   "cell_type": "code",
   "execution_count": 3,
   "id": "7d75b617-f8ca-4d50-88b2-0b829d164fb3",
   "metadata": {},
   "outputs": [
    {
     "name": "stdout",
     "output_type": "stream",
     "text": [
      "The work required is 287.9 kJ\n",
      "The power required to drive the compressor is 4.1 kJ\n"
     ]
    }
   ],
   "source": [
    "#7.6.3 Exercise 6\n",
    "# An adiabatic air compressor compresses 10 L/s of air at 120 kPa and 20°C to 1000 kPa and 300°C. Determine (a) the work required by the compressor, in kJ/kg, and (b) the power required to drive the air compressor, in kW.\n",
    "\n",
    "import cantera as ct\n",
    "Kc = 273.15\n",
    "\n",
    "vdoti = 10/1000 # m3/s\n",
    "Pi = 120e3 # Pa\n",
    "Ti = 20 + Kc # K\n",
    "Pe = 1000e3 # Pa\n",
    "Te = 300 + Kc # K\n",
    "R = 0.287\n",
    "\n",
    "# w = he - hi\n",
    "inlet = ct.Solution('gri30.yaml')\n",
    "inlet.X = 'N2:0.79 O2: 0.21'\n",
    "inlet.TP = Ti,Pi\n",
    "\n",
    "exit = ct.Solution('gri30.yaml')\n",
    "exit.X = 'N2:0.79 O2: 0.21'\n",
    "exit.TP = Te, Pe\n",
    "\n",
    "hi = inlet.HP[0]\n",
    "he = exit.HP[0]\n",
    "w = (he - hi)/1000\n",
    "print(f\"The work required is {round(w,1)} kJ\")\n",
    "\n",
    "# have vdot, need mdot > use ideal gas law \n",
    "# PVdot = mdotRT\n",
    "mdot = Pi*vdoti/R/Ti\n",
    "\n",
    "Wdot = mdot*w/1000\n",
    "print(f'The power required to drive the compressor is {round(Wdot,1)} kJ')"
   ]
  },
  {
   "cell_type": "code",
   "execution_count": 4,
   "id": "c8a37cb4-1d10-4493-a89d-b7f460774325",
   "metadata": {},
   "outputs": [
    {
     "name": "stdout",
     "output_type": "stream",
     "text": [
      "The power produced by the turbine is 15826.9 kW\n"
     ]
    }
   ],
   "source": [
    "#7.6.3 Exercise 7\n",
    "# A portion of the steam passing through a steam turbine is sometimes removed for the purposes of feedwater heating. Consider an adiabatic steam turbine with 12.5 MPa and 550°C steam entering at a rate of 20 kg/s. Steam is bled from this turbine at 1000 kPa and 200°C with a mass flow rate of 1 kg/s. The remaining steam leaves the turbine at 100 kPa and 100°C. Determine the power produced by this turbine.\n",
    "\n",
    "import cantera as ct\n",
    "Kc = 273.15\n",
    "\n",
    "Pi = 12.5e6 # Pa\n",
    "Ti = 550 + Kc # K\n",
    "mdoti = 20 # kg/s \n",
    "mdotb = 1 # kg/s\n",
    "mdote = mdoti - mdotb # kg/s (mdote = mdoti - the mdot that is bled)\n",
    "Pb = 1000e3 # Pa\n",
    "Tb = 200 + Kc # K\n",
    "Pe = 100e3  # Pa\n",
    "Te = 100 + Kc # K\n",
    "\n",
    "inlet = ct.Water()\n",
    "exit = ct.Water()\n",
    "bled = ct.Water()\n",
    "\n",
    "inlet.TP = Ti,Pi\n",
    "exit.TP = Te, Pe\n",
    "bled.TP = Tb, Pb\n",
    "\n",
    "hi = inlet.HP[0]\n",
    "he = exit.HP[0]\n",
    "hb = bled.HP[0]\n",
    "\n",
    "Wdot = mdoti*hi - mdotb*hb - mdote*he\n",
    "Wdot = Wdot/1000\n",
    "print(f\"The power produced by the turbine is {round(Wdot,1)} kW\")"
   ]
  },
  {
   "cell_type": "code",
   "execution_count": 5,
   "id": "3f5f0c64-e144-4cc9-aaf2-bbbeeb1f8ec6",
   "metadata": {},
   "outputs": [
    {
     "name": "stdout",
     "output_type": "stream",
     "text": [
      "The exit temperature is 284.6 deg C\n"
     ]
    }
   ],
   "source": [
    "#7.6.3 Exercise 8\n",
    "# A well-insulated valve is used to throttle steam from 8 MPa and 350°C to 2 MPa. Determine the final temperature of the steam.\n",
    "\n",
    "import cantera as ct\n",
    "Kc = 273.15\n",
    "\n",
    "Pi = 8e6 # Pa\n",
    "Ti = 350 + Kc # K\n",
    "Pe = 2e6 # Pa\n",
    "\n",
    "# throttle > he = hi \n",
    "\n",
    "inlet = ct.Water()\n",
    "inlet.TP = Ti,Pi\n",
    "hi = inlet.HP[0]\n",
    "hi = hi/1000\n",
    "exit = ct.Water()\n",
    "he = hi*1000\n",
    "exit.HP = he, Pe\n",
    "Te = exit.TP[0] - Kc\n",
    "print(f\"The exit temperature is {round(Te,1)} deg C\")"
   ]
  },
  {
   "cell_type": "code",
   "execution_count": 6,
   "id": "f8c783aa-57f2-4264-9efc-570bc6a1c21c",
   "metadata": {},
   "outputs": [
    {
     "name": "stdout",
     "output_type": "stream",
     "text": [
      "The mass flow rate is therefore 100.65 kg/min\n"
     ]
    }
   ],
   "source": [
    "#7.6.3 Exercise 9\n",
    "# Refrigerant-134a at 1 MPa and 90°C is to be cooled to 1 MPa and 30°C in a condenser by air. The air enters at 100 kPa and 27°C with a volume flow rate of 600 m3/min and leaves at 95 kPa and 60°C. Determine the mass flow rate of the refrigerant.\n",
    "\n",
    "import cantera as ct\n",
    "Kc = 273.15\n",
    "\n",
    "Pir = 1e6 # Pa\n",
    "Tir = 90 + Kc # K\n",
    "Per = Pir\n",
    "Ter = 30 + Kc # K\n",
    "\n",
    "Pia = 100e3 # Pa\n",
    "Tia = 27 + Kc # K\n",
    "vdotair = 600 # m3/s\n",
    "Pea = 95e3 # Pa\n",
    "Tea = 60 + Kc # K\n",
    "\n",
    "# get enthalpy of inlet/exit for both refr and air\n",
    "refri = ct.Hfc134a()\n",
    "refri.TP = Tir, Pir\n",
    "refrex = ct.Hfc134a()\n",
    "refrex.TP = Ter, Per\n",
    "h_ri = refri.HP[0]*1000\n",
    "h_re = refrex.HP[0]*1000\n",
    "\n",
    "airi = ct.Solution('gri30.yaml')\n",
    "airi.X = 'N2:0.79 O2: 0.21'\n",
    "airi.TP = Tia,Pia\n",
    "\n",
    "aire = ct.Solution('gri30.yaml')\n",
    "aire.X = 'N2:0.79 O2: 0.21'\n",
    "aire.TP = Tea, Pea\n",
    "\n",
    "h_ai = airi.HP[0]*1000\n",
    "h_ae = aire.HP[0]*1000\n",
    "\n",
    "# have vdot, need mdot > use ideal gas law \n",
    "# PVdot = mdotRT\n",
    "mdotair = Pia*vdotair/R/Tia\n",
    "\n",
    "# Edotin = Edotout >  mdotair*(h_ai - h_ae) = mdotr*(h_ri - h_re)\n",
    "mdotr = mdotair*(h_ae - h_ai)/(h_ri - h_re)\n",
    "mdotr = mdotr/1000\n",
    "print(f\"The mass flow rate is therefore {round(mdotr,2)} kg/min\")"
   ]
  },
  {
   "cell_type": "code",
   "execution_count": 8,
   "id": "4511c213-aaf0-40b2-b5c8-eb19d2360890",
   "metadata": {},
   "outputs": [
    {
     "name": "stdout",
     "output_type": "stream",
     "text": [
      "The rate of condensation of the steam in the condensor is 1.6 kg/s\n"
     ]
    }
   ],
   "source": [
    "#7.6.3 Exercise 10\n",
    "# Steam is to be condensed in the condenser of a steam power plant at a temperature of\n",
    "#50°C with cooling water from a nearby lake, which enters the tubes of the condenser at\n",
    "#18°C at a rate of 101 kg/s and leaves at 27°C. Determine the rate of condensation of the\n",
    "#steam in the condenser.\n",
    "\n",
    "import cantera as ct\n",
    "Kc = 273.15\n",
    "\n",
    "Ti = 18 + Kc\n",
    "Te = 27 + Kc\n",
    "Tc = 50 + Kc\n",
    "mdot = 101 # kg/s\n",
    "\n",
    "# Qdot = mdot_steam*latent heat of vaporization (hfg) @ Tc - this is the enthalpy change when a substance goes from saturated liquid to saturated vapor\n",
    "\n",
    "state1 = ct.Water()\n",
    "state2 = ct.Water()\n",
    "state1.TP = Ti, 100e3\n",
    "state2.TP = Te, 100e3\n",
    "cpavg = (state1.cv/1000 + state2.cv/1000)/2\n",
    "\n",
    "Qdot = mdot*cpavg*(Te - Ti)\n",
    "\n",
    "# now find hfg = hg - hf\n",
    "state1 = ct.Water()\n",
    "state1.TQ = Tc, 0\n",
    "hf = state1.HP[0]\n",
    "state1.TQ = Tc, 1\n",
    "hg = state1.HP[0]\n",
    "hfg = (hg - hf)/1000\n",
    "\n",
    "mdot_steam = Qdot/hfg\n",
    "print(f\"The rate of condensation of the steam in the condensor is {round(mdot_steam,1)} kg/s\")"
   ]
  },
  {
   "cell_type": "code",
   "execution_count": 9,
   "id": "82dec0b0-53c8-4c4d-be1a-1c717d104b5f",
   "metadata": {},
   "outputs": [
    {
     "name": "stdout",
     "output_type": "stream",
     "text": [
      "The temperature is about 55.21 deg C\n"
     ]
    }
   ],
   "source": [
    "#7.6.3 Exercise 11\n",
    "# Two streams of water are mixed in an insulated container to form a third stream leaving the container. The first stream has a flow rate of 30 kg/s and a temperature of 90°C. The flow rate of the second stream is 200 kg/s, and its temperature is 50°C. What is the temperature of the third stream?\n",
    "\n",
    "import cantera as ct\n",
    "Kc = 273.15\n",
    "\n",
    "mdot1 = 30   # kg/s\n",
    "T1 = 90 + Kc # K\n",
    "mdot2 = 200 #kg/s \n",
    "T2 = 50 + Kc # K\n",
    "mdot3 = mdot1 + mdot2 \n",
    "# mdot1*h1 + mdot2*h2 = mdot3*h3\n",
    "\n",
    "# Find h1 and h2 \n",
    "channel1 = ct.Water()\n",
    "channel1.TQ = T1, 0\n",
    "channel2 = ct.Water()\n",
    "channel2.TQ = T2, 0\n",
    "h1 = channel1.HP[0]\n",
    "h2 = channel2.HP[0]\n",
    "h3 = (mdot1*h1 + mdot2*h2)/(mdot3)\n",
    "\n",
    "P = 100e3\n",
    "channel3 = ct.Water()\n",
    "channel3.HP = h3, P\n",
    "T = channel3.TP[0]\n",
    "print(f'The temperature is about {round(T-Kc,2)} deg C')"
   ]
  },
  {
   "cell_type": "code",
   "execution_count": 10,
   "id": "6211d1be-a403-478a-b5ff-05a69852f619",
   "metadata": {},
   "outputs": [
    {
     "name": "stdout",
     "output_type": "stream",
     "text": [
      "The temperature of the air at the compressor outlet is 108.6 deg C\n",
      "The minimum volume flow rate of ambient air required to avoid knock is 44.9 m3/s\n"
     ]
    }
   ],
   "source": [
    "#7.6.3 Exercise 12\n",
    "# The turbocharger of an internal combustion engine consists of a turbine and a compressor. Hot exhaust gases flow through the turbine to produce work, and the work output from the turbine is used as the work input to the compressor. \n",
    "# The pressure of ambient air is increased as it flows through the compressor before it enters the engine cylinders. Thus, the purpose of a turbocharger is to increase the pressure of air so that more air gets into the cylinder. \n",
    "# Consequently, more fuel can be burned and more power can be produced by the engine. In a turbocharger, exhaust gases enter the turbine at 400°C and 120 kPa at a rate of 0.02 kg/s and leave at 350°C. \n",
    "#Air enters the compressor at 50°C and 100 kPa and leaves at 130 kPa at a rate of 0.018 kg/s. The compressor increases the air pressure with a side effect: It also increases the air temperature, which increases the possibility that a gasoline engine will experience an engine knock. \n",
    "#To avoid this, an aftercooler is placed after the compressor to cool the warm air with cold ambient air before it enters the engine cylinders. It is estimated that the aftercooler must decrease the air temperature below 80°C if knock is to be avoided. \n",
    "#The cold ambient air enters the aftercooler at 30°C and leaves at 40°C. Disregarding any frictional losses in the turbine and the compressor and treating the exhaust gases as air, determine:\n",
    "# a) the temperature of the air at the compressor outlet and\n",
    "# b) the minimum volume flow rate of ambient air required to avoid knock.\n",
    "\n",
    "import cantera as ct\n",
    "Kc = 273.15\n",
    "\n",
    "# turbocharger\n",
    "Ti_t = 400 + Kc\n",
    "Pi_t = 120e3\n",
    "mdoti_t = 0.02 # kg/s\n",
    "Te_t = 350 + Kc\n",
    "# compressor \n",
    "Ti_c = 50 + Kc\n",
    "Pi_c = 100e3\n",
    "Pe_c = 130e3\n",
    "mdot_c = 0.018 #kg/s \n",
    "# aftercooler \n",
    "Ti_a = 30 + Kc\n",
    "Te_a = 40 + Kc\n",
    "Te_a_ka = 80 + Kc\n",
    "\n",
    "inlet = ct.Solution('gri30.yaml')\n",
    "inlet.X = 'N2:0.79 O2: 0.21'\n",
    "inlet.TP = Ti_t,Pi_t\n",
    "cpi = inlet.cp/1000\n",
    "exit = ct.Solution('gri30.yaml')\n",
    "exit.X = 'N2:0.79 O2: 0.21'\n",
    "exit.TP = Te_t,Pi_t\n",
    "cpe = exit.cp/1000\n",
    "cpavg= (cpi+cpe)/2\n",
    "\n",
    "# WdotT = WdotC\n",
    "WdotT = mdoti_t*cpavg*(Ti_t - Te_t)  \n",
    "WdotC = WdotT\n",
    "\n",
    "# assuming eta = 1, WdotT = WdotC (work of turbine = work of compressor)\n",
    "# WdotC = mdota*cpa*(Tae - Tai)\n",
    "air = ct.Solution('gri30.yaml')\n",
    "air.X = 'N2:0.79 O2: 0.21'\n",
    "air.TP = Ti_c, 100e3\n",
    "cpa = air.cp/1000\n",
    "Tae = (WdotC + mdot_c*cpa*Ti_c)/mdot_c/cpa\n",
    "\n",
    "print(f\"The temperature of the air at the compressor outlet is {round(Tae - Kc, 1)} deg C\")\n",
    "\n",
    "air = ct.Solution('gri30.yaml')\n",
    "air.X = 'N2:0.79 O2: 0.21'\n",
    "air.TP = Ti_a, 100e3\n",
    "cp_ca = air.cp/1000\n",
    "P = 100 #kPa\n",
    "mdot = mdot_c*cpa*(Tae-Te_a_ka)/(cp_ca*(Te_a - Ti_a))\n",
    "R = 0.287 # kJ/kgK\n",
    "v = R*Ti_a/P\n",
    "Vdot = v*mdot*1000\n",
    "print(f\"The minimum volume flow rate of ambient air required to avoid knock is {round(Vdot,2)} m3/s\")"
   ]
  },
  {
   "cell_type": "code",
   "execution_count": 11,
   "id": "3f4e1950-1fe9-4587-9c72-8ccc368ae849",
   "metadata": {},
   "outputs": [
    {
     "name": "stdout",
     "output_type": "stream",
     "text": [
      "The mass of steam that enters the tank is 5.7 kg and the pressure of the steam in the line is 2255.0 MPa\n"
     ]
    }
   ],
   "source": [
    "#7.6.3 Exercise 13\n",
    "# A 2 m3 rigid insulated tank initially containing saturated water vapor at 1 MPa is connected through a valve to a supply line that carries steam at 400°C. Now the valve is opened, and steam is allowed to flow slowly into the tank until the pressure in the tank rises to 2 MPa. At this instant the tank temperature is measured to be 300 °C. Determine the mass of the steam that has entered and the pressure of the steam in the supply line.\n",
    "\n",
    "import cantera as ct\n",
    "Kc = 273.15\n",
    "\n",
    "# Given: \n",
    "V_tank = 2 # m3\n",
    "P1 = 1e6\n",
    "x1 = 1\n",
    "P2 = 2e6\n",
    "T2 = 300 + Kc # K\n",
    "\n",
    "# Find: mass of steam that entered, pressure of steam in the supply line \n",
    "# Q = mass*change in specific internal energy\n",
    "# m_entered = m_final - m_initial \n",
    "\n",
    "state1 = ct.Water()\n",
    "state1.PQ = P1, x1\n",
    "v1 = state1.TV[1]\n",
    "u1 = state1.UV[0] #J\n",
    "m_tanki = V_tank/v1 # the mass of H20 that's originally in the tank \n",
    "\n",
    "state2 = ct.Water()\n",
    "state2.TP = T2, P2\n",
    "v2 = state2.TV[1]\n",
    "u2 = state2.UV[0] #J \n",
    "m_tankf = V_tank/v2\n",
    "m_entered = m_tankf - m_tanki\n",
    "\n",
    "# Pressure of the steam in the supply line \n",
    "T_line = 400 + Kc # K\n",
    "\n",
    "hsteam = (m_tankf*u2 - m_tanki*u1)/m_entered\n",
    "line = ct.Water()\n",
    "line.TH = T_line, hsteam\n",
    "P_line = line.TP[1]/10**6\n",
    "x = line.TQ[1]\n",
    "print(f\"The mass of steam that enters the tank is {round(m_entered,1)} kg and the pressure of the steam in the line is {round(P_line,1)} MPa\")"
   ]
  },
  {
   "cell_type": "code",
   "execution_count": 12,
   "id": "dc8e77b5-af3e-421c-b972-0a6b74c89fb6",
   "metadata": {},
   "outputs": [
    {
     "name": "stdout",
     "output_type": "stream",
     "text": [
      "The mass of air that has entered the tank is 9.6 kg\n",
      "The heat transfer is -339.1 kJ\n"
     ]
    }
   ],
   "source": [
    "#7.6.3 Exercise 14\n",
    "# A 2 m3 rigid tank initially contains air at 100 kPa and 22°C. The tank is connected to a supply line through a valve. Air is flowing in the supply line at 600 kPa and 22°C. The valve is opened, and air is allowed to enter the tank until the pressure in the tank reaches the line pressure, at which point the valve is closed. A thermometer placed in the tank indicates that the air temperature at the final state is 77°C. Determine (a) the mass of air that has entered the tank and (b) the amount of heat transfer.\n",
    "\n",
    "import cantera as ct\n",
    "Kc = 273.15\n",
    "\n",
    "V_tank = 2 # m3\n",
    "P1 = 100 # kPa\n",
    "T1 = 22 + Kc # K\n",
    "Pline = 600 # kPa\n",
    "Tline = 22 + Kc # K \n",
    "P2 = Pline \n",
    "T2 = 77 + Kc # K\n",
    "R = 0.287 # kPam3/kgK\n",
    "\n",
    "# air, so we have to use ideal gas law \n",
    "# initial mass\n",
    "m1 = P1*V_tank/R/T1\n",
    "m2 = P2*V_tank/R/T2\n",
    "mt = m2 - m1\n",
    "print(f\"The mass of air that has entered the tank is {round(mt,1)} kg\")\n",
    "\n",
    "state1 = ct.Solution('gri30.yaml')\n",
    "state1.X = 'N2:0.79 O2: 0.21'\n",
    "state1.TP = T1, P1\n",
    "u1 = state1.u/1000 #kJ\n",
    "\n",
    "state2 = ct.Solution('gri30.yaml')\n",
    "state2.X = 'N2:0.79 O2: 0.21'\n",
    "state2.TP = T2, P2\n",
    "u2 = state2.u/1000 #kJ\n",
    "\n",
    "line = ct.Solution('gri30.yaml')\n",
    "line.X = 'N2:0.79 O2: 0.21'\n",
    "line.TP = Tline, Pline\n",
    "ht = line.h/1000 #kJ\n",
    "\n",
    "# find the amount of heat transfer\n",
    "Qin = -mt*ht + m2*u2 - m1*u1\n",
    "print(f\"The heat transfer is {round(Qin,1)} kJ\")"
   ]
  },
  {
   "cell_type": "code",
   "execution_count": 3,
   "id": "53a0fe07-5e17-49b3-bbc5-53906ef0274d",
   "metadata": {},
   "outputs": [
    {
     "name": "stdout",
     "output_type": "stream",
     "text": [
      "The power created by the turbine with the steam is 14.92 MW.\n"
     ]
    }
   ],
   "source": [
    "#7.6.3 Exercise 15\n",
    "\n",
    "#steam enters at Ti = 700 K and Pi = 5 MPa and Pe = 1 MPa at T2 = 400 K. The Vi 4 m/s and d = 1 m. \n",
    "import cantera as ct\n",
    "#state 1\n",
    "species1 = ct.Water()\n",
    "T1 = 600\n",
    "P1 = 5000000\n",
    "V = 2\n",
    "d = 1\n",
    "A = (3.1415/4)*(d**2)\n",
    "#state 2\n",
    "P2 = 1000000\n",
    "T2 = 400\n",
    "species1.TP = T1,P2\n",
    "vi = species1.TV[1]\n",
    "#to find dm = pVA = VA/v\n",
    "dm = (V*A)/vi\n",
    "\n",
    "species2 = ct.Water()\n",
    "species2.TP = T2, P2\n",
    "#the equation Q-W = (me)exit - (me)inlet; Q = 0, me = mi  -> W = m(hi - he)\n",
    "h1 = species1.HP[0]\n",
    "h2 = species2.HP[0]\n",
    "W = dm*(h1-h2)\n",
    "print(f'The power created by the turbine with the steam is {round(W/1000000,2)} MW.')"
   ]
  },
  {
   "cell_type": "code",
   "execution_count": 4,
   "id": "0095b1ca-0152-47ff-af09-5605aed5294e",
   "metadata": {},
   "outputs": [
    {
     "name": "stdout",
     "output_type": "stream",
     "text": [
      "The power necessary for the compressor is 35.7 kW.\n"
     ]
    }
   ],
   "source": [
    "#7.6.3 Exercise 16\n",
    "\n",
    "#refigerant enters at -10C as saturated liquid and leaves at 10C at 500 kPa. What is the work?\n",
    "import cantera as ct\n",
    "#state 1\n",
    "species1 = ct.Hfc134a()\n",
    "T1 = 263\n",
    "x = 0\n",
    "Q = .001\n",
    "species1.TQ = 263, 0\n",
    "#find dm as dm = pQ = Q/v\n",
    "v = species1.TV[1]\n",
    "dm = Q/v\n",
    "#state 2\n",
    "species2 = ct.Hfc134a()\n",
    "T2 = 283\n",
    "P2 = 500000\n",
    "species2.TP = T2,P2\n",
    "#for compressors there is no Q and it is steady state; W = dm(h1 - h2)\n",
    "h1 = species1.HP[0]\n",
    "h2 = species2.HP[0]\n",
    "W = dm*(h1-h2)\n",
    "print(f'The power necessary for the compressor is {round(W/1000,2)*-1} kW.')"
   ]
  },
  {
   "cell_type": "code",
   "execution_count": 5,
   "id": "f1cce05a-0936-47a6-a694-04fcd2703b71",
   "metadata": {},
   "outputs": [
    {
     "name": "stdout",
     "output_type": "stream",
     "text": [
      "The total heat transfer from the fluid is 29.52 MW.\n"
     ]
    }
   ],
   "source": [
    "#7.6.3 Exercise 17\n",
    "\n",
    "#20kg/s of water at 1MPa enters as saturated vapor. At x = 0.5 4 kg/s leaves the exchanger. The rest of the water cools to a saturated liquid.\n",
    "#What is the heat transfer\n",
    "import cantera as ct\n",
    "#state 1\n",
    "species1 = ct.Water()\n",
    "m1 = 20\n",
    "P1 = 5000000\n",
    "x1 = 1\n",
    "species1.PQ = P1,x1\n",
    "#state 2; T from x = 1 to x = 0\n",
    "species2 = ct.Water()\n",
    "m2 = m1 - 4\n",
    "T = species1.TV[0]\n",
    "x2 = 0.5\n",
    "species2.TQ = T, x2\n",
    "#state 3\n",
    "species3 = ct.Water()\n",
    "x3 = 0\n",
    "species3.TQ = T, x3\n",
    "#calculate change in heat\n",
    "h1 = species1.HP[0]\n",
    "h2 = species2.HP[0]\n",
    "h3 = species3.HP[0]\n",
    "#first portion 1 -> 2\n",
    "Q1 = m1*(h2-h1)\n",
    "#second portion 2 -> 3\n",
    "Q2 = m2*(h3-h2)\n",
    "#total change\n",
    "Qtotal = Q1+Q2\n",
    "print(f'The total heat transfer from the fluid is {round(Qtotal/1000000,2)*-1} MW.')"
   ]
  },
  {
   "cell_type": "code",
   "execution_count": 6,
   "id": "ad715d91-2364-48f4-9a2e-39d306c5ba97",
   "metadata": {},
   "outputs": [
    {
     "name": "stdout",
     "output_type": "stream",
     "text": [
      "The pressure change through the throttle is 1.09 MPa.\n"
     ]
    }
   ],
   "source": [
    "#7.6.3 Exercise 18\n",
    "\n",
    "#Water is throttled at 5 MPa as a saturated liquid. If the temperature drops 10°C during this process\n",
    "import cantera as ct\n",
    "#state 1\n",
    "species1 = ct.Water()\n",
    "P1 = 5000000\n",
    "x1 = 0\n",
    "species1.PQ = P1,x1\n",
    "T1 = species1.TP[0]\n",
    "# h2 = h1; throttle\n",
    "h = species1.HP[0]\n",
    "# state 2\n",
    "T2 = T1 - 15\n",
    "species2 = ct.Water()\n",
    "species2.TH = T2, h\n",
    "#what is the pressure change?\n",
    "P2 = species2.TP[1]\n",
    "delta_P = P1 - P2\n",
    "print(f'The pressure change through the throttle is {round(delta_P/1000000,2)} MPa.')"
   ]
  },
  {
   "cell_type": "code",
   "execution_count": 7,
   "id": "a6b83b16-7063-445e-b345-a99a43e6679d",
   "metadata": {},
   "outputs": [
    {
     "name": "stdout",
     "output_type": "stream",
     "text": [
      "The final temperature of the nitrogen leaving the condensor is 357.78 K.\n"
     ]
    }
   ],
   "source": [
    "#7.6.3 Exercise 19\n",
    "\n",
    "#nitrogen at T = 225 K and 1 bar at 50L/s. The water enters at 1L/s as a saturated vapor at 1 MPa and leaves as a saturated fluid. \n",
    "#If the nitrogen stays at a constant pressure, what is the final temperature of the nitrogen leaving the condensor?\n",
    "import cantera as ct\n",
    "#need to find change in energy of water; the sum of the change in energy of water and that of the nitrogen is zero\n",
    "#water\n",
    "Vw = 0.001\n",
    "#state 1\n",
    "species1 = ct.Water()\n",
    "P1 = 1000000\n",
    "x1 = 1\n",
    "species1.PQ = P1, x1\n",
    "T12 = species1.TP[0]\n",
    "v1 = species1.TV[1]\n",
    "#find mass flowrate\n",
    "mw = Vw/v1\n",
    "#state 2\n",
    "species2 = ct.Water()\n",
    "#T is constant \n",
    "x2 = 0\n",
    "species2.TQ = T12, x2\n",
    "#Find difference in energy\n",
    "#for heat exchanger, there is not work or other effects so dq = dh\n",
    "h1 = species1.HP[0]\n",
    "h2 = species2.HP[0]\n",
    "Q = mw*(h2-h1)\n",
    "#Nitrogen\n",
    "#state 1\n",
    "species3 = ct.Nitrogen()\n",
    "Pn = 100000\n",
    "T3 = 225\n",
    "Vn = 0.05\n",
    "species3.TP = T3, Pn\n",
    "v3 = species3.TV[1]\n",
    "h3 = species3.HP[0]\n",
    "#find mass flowrate\n",
    "mn = Vn/v3\n",
    "#state 2\n",
    "species4 = ct.Nitrogen()\n",
    "#change in energy is equal to change in h of nitrogen multiplied by mass flowrate; m(h2-h1) = Q\n",
    "delta_h = (Q/mn)*-1\n",
    "h4 = h3 + delta_h\n",
    "species4.HP = h4, Pn\n",
    "#find temperature\n",
    "T4 = species4.TP[0]\n",
    "print(f'The final temperature of the nitrogen leaving the condensor is {round(T4,2)} K.')"
   ]
  },
  {
   "cell_type": "code",
   "execution_count": null,
   "id": "73385b5e-ec64-4c18-beb5-d1253f45c907",
   "metadata": {},
   "outputs": [],
   "source": []
  }
 ],
 "metadata": {
  "kernelspec": {
   "display_name": "Python 3 (ipykernel)",
   "language": "python",
   "name": "python3"
  },
  "language_info": {
   "codemirror_mode": {
    "name": "ipython",
    "version": 3
   },
   "file_extension": ".py",
   "mimetype": "text/x-python",
   "name": "python",
   "nbconvert_exporter": "python",
   "pygments_lexer": "ipython3",
   "version": "3.12.3"
  }
 },
 "nbformat": 4,
 "nbformat_minor": 5
}
