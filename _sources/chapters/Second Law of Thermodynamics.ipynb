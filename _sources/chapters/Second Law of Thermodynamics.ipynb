{
 "cells": [
  {
   "cell_type": "markdown",
   "id": "7dd5a722-3751-477f-ac01-538fe5b67a65",
   "metadata": {},
   "source": [
    "(SecondLaw)=\n",
    "# Second Law of Thermodynamics - Directionality of Processes, Entropy, Heat Engines and Refrigerators"
   ]
  },
  {
   "cell_type": "markdown",
   "id": "a5568e8d-e337-463b-9a39-cfb2da44c8b4",
   "metadata": {},
   "source": [
    "```{index} second law of thermodynamics, entropy\n",
    "```"
   ]
  },
  {
   "cell_type": "markdown",
   "id": "a939a14b-95d5-4f04-9651-923d87ce2596",
   "metadata": {},
   "source": [
    "So far, we have focused our attention on evaluating properties of substancies (e.g., enthalpy, volume) using various techniques and evaluating processes by applying the First Law of Thermodynamics, or conservation of energy. And we know that if the First Law of Thermodynamics is not satisfied then a process or cycle is not possible. Yet, there are numerous situations where the First Law of Thermodynamics is satisfied but the process is still not possible. For example, consider a closed system with a paddle wheel contained within it. We know from experience that if we do work to the system by rotating the paddle wheel, that the system will heat up, its internal energy will increase, etc. Yet, the reverse will not happen - i.e., we cannot heat up the system and spontanesouly expect the paddle wheel to rotate, resulting in work done by the system. Yet this in no way would violate the first law of thermodynamics. This implies that there is a directionality associated with processes that is important, and it is the directionality of a process that is the realm of the {ref}`Second Law of Thermodynamics <genindex>`. Thus, the Second Law of Thermodynamics adds further constraints to processes on top of the First Law. In fact, we will learn that no real process will happen spontaneously without an increase in a thermodynamic property which we will learn about called {ref}`entropy <genindex>` ($S$). Simply put,  entropy must always be increased for a process to occur (or for a reversible process, which is not possible in reality, entropy remains unchanged). Entropy can be thought of as a driving force for energy exchange - i.e, if it can be increased then energy transfer will occur. It is because of the Second Law that heat always flows from hot reservoirs to cold reservoirs, that pressures tend to equalize and that gases mix. In all of these cases we can show that entropy increases as a result. This is not to say that entropy cannot be decreased locally, but only that the total entropy of the control volume (i.e., the system) and the surroundings must be increased for a process to occur. As a result, the second law of thermodynamics is sometimes referred to as the increase in entropy principle. "
   ]
  },
  {
   "cell_type": "markdown",
   "id": "2b09b0cd-756c-4d89-b911-8da4c469fa53",
   "metadata": {},
   "source": [
    "In the remainder of this chapter will will motivate the idea of process directionality from a qualitative perspective and build on the concept of entropy and increasing entropy (or entropy generation) as a necessary condition for a process to occur. In later chapters we will build a mathematical framework for the description of entropy. "
   ]
  },
  {
   "cell_type": "markdown",
   "id": "cd472811-a5e8-4732-9734-1e00a88a1b8d",
   "metadata": {},
   "source": [
    "## Directionality - Qualitative Motivation through Heat Engine Thermodynamic Cycles"
   ]
  },
  {
   "cell_type": "markdown",
   "id": "026d1107-7098-413d-885c-c56c31299ae9",
   "metadata": {},
   "source": [
    "```{index} second law of thermodynamics, entropy, Kelvin-Plank statement\n",
    "```"
   ]
  },
  {
   "cell_type": "markdown",
   "id": "1e47f07b-a1d8-4167-b7e9-1f7009c2ea2a",
   "metadata": {},
   "source": [
    "As mentioned prior, we are already innately aware that there is a directionality to processes. Energy always flows from hot to cold, which really means from low entropy to high entropy - if the reverse were true then your cup of hot coffee would continue to increase in temperature and the surroundings would cool. Gases that are well mixed such as nitrogen and oxygen do not spontaneously separate, and so on. This directionality has profound influences on thermodynamic processes and cycles and can be exemplified through the introduction of a {ref}`heat engine <genindex>`. A heat engine operates on a thermodynamic cycle and is a device that takes advantage of the flow of heat to produce work. Now, when we mention the production of work within the context of a thermodynamic cycle, which we have learned prior means that we start and end at the same thermodynamic state, what we really mean is the net production of work resulting from the thermodynamic cycle. The entire framework for the Second Law of Thermodynamics was originally conceived by Sadi Carnot, who developed the concept of a heat engine and who at the time had no concept of entropy as a thermodynamic property. Yet, he recognized that it is impossible for any heat engine that operates on a cycle to produce a net amount of work without absorbing heat from the surroundings at a high temperature and rejecting a portion of it back to the surroundings at some lower temperature. That is, it is impossible to convert 100% of heat into work if operating on a cycle, and the direction of heat flow is from hot to cold. A schematic of an impossible process can be seen on the left side of {numref}`Figure %s <heat engine fig a>`, where there is no heat rejection and thus no net work can be produced. Rather, some portion of the heat must be rejected at a lower temperature, as seen on the right side of {numref}`Figure %s <heat engine fig a>`. And Carnot further observed that heat has an innate quality tied to it that is related to the heat engine efficiency, that is, the higher the temperature heat source the more efficient the heat engine can operate - we will learn later that this quality is closely tied to entropy. Carnot's insights eventually formed the framework for one variation of the Second Law which is called the {ref}`Kelvin-Plank statement <genindex>`. The Kelvin-Plank statement states that \"It is impossible to construct a device that will operate in a cycle and produce no effect other than the raising of a weight and the exchange of heat with a single reservoir\"."
   ]
  },
  {
   "cell_type": "markdown",
   "id": "523ad4c6-dca8-4dcb-b9f8-43726097f271",
   "metadata": {},
   "source": [
    "```{figure} Figures/heat_engine.png\n",
    ":name: heat engine fig a\n",
    "\n",
    "An example of an impossible process (left) which violates the second law of thermodynamcs because 100% of thermal energy cannot be converted to work. Rather, some smaller portion of the incident energy must be rejected at a lower temperature, as seen on the right side. \n",
    "```"
   ]
  },
  {
   "cell_type": "markdown",
   "id": "de74dfaf-e41b-4503-abf4-4d6775cf0153",
   "metadata": {},
   "source": [
    "The process of converting heat into work via a heat engine and two thermal reservoirs can be imagined similarly to a turbine producing work from the flow of liquid (e.g. a waterfall). If we wish to extract work from the potential energy of water at a high elevation, we can use a turbine, but we still must release the water at some lower elevation (and lower potential energy). Otherwise, the exiting fluid would quickly rise in elevation, and an equilibrium would be established such that the exit and inlet heights are the same and the turbine ceases to rotate. Thus, just as fluid flow will always spontaneously occur from high elevation to low elevation, but never the reverse, heat flow will always spontaneously travel from high temperature to low temperature. And if we wish to extract work we must still reject some portion of the energy flow at a lower quality than the inlet."
   ]
  },
  {
   "cell_type": "markdown",
   "id": "6a75bc67-1bbf-4141-afad-5e536b9a33bd",
   "metadata": {},
   "source": [
    "Let's conceptualize why this must be true. Imagine a cycle that starts in one state, for example at given temperature, and we aim to extract energy in the form of work by adding heat to the system. For example, we could heat a piston filled with a gas and it will expand, producing work. An example is shown below in {numref}`Figure %s <heat engine fig b>` where in the first 4 iterations we raise a mass (shown in green) to a higher elevation. Yet, to complete the cycle, we will have to get back to our original state. One way to do this would be to follow the same path that we took to extract the work, by replacing the mass and then rejecting heat at the same high temperature (shown in the remaining iterations in {numref}`Figure %s <heat engine fig b>`) but then this would mean that the same amount of energy we got out in the form of work would have to be put back into the process (assuming both were reversible). Thus there would be no net production of work and our heat engine will not operate. "
   ]
  },
  {
   "cell_type": "markdown",
   "id": "6bfac92c-34d1-4a79-a9f5-d943f61c1b82",
   "metadata": {},
   "source": [
    "```{figure} Figures/heat_engine_a.png\n",
    ":name: heat engine fig b\n",
    "\n",
    "An example of an impossible process heat engine.\n",
    "```"
   ]
  },
  {
   "cell_type": "markdown",
   "id": "40fb50bb-b0bd-4958-9ba0-9589be5aca97",
   "metadata": {},
   "source": [
    "This means that we must take a different path back to return to our original state if we want the chance of producing a net amout of work. What the system would have to do, it turns out, is to reject heat, and then compress the piston along a different path to get back to our original state. This is shown in {numref}`Figure %s <heat engine fig c>`, where he piston is lowered first by rejecting heat to a low temperature reservoir. Then, to return to our initial state we can further compress the system by adding the mass back to the top of the piston, but from a lower elevation that before, thus requiring less work. In this way, we can decrease the work requirements to return to our original state, resulting in some net production of work. There are only two ways to impact the state of the system (and internal energy, volume, entropy etc) - through work or heat exchange - and by rejecting heat at a lower temperature instead of doing work following expansion, we can also locally decrease the energy and entropy of the system to help approach its initial value. The inevitable result is that if we return to our original state that the entropy (and energy, volume, etc) remain unchanged within the control volume, and thus the entropy will have to increase in the surroundings (unless we had a completely reversible heat engine). More on this later. "
   ]
  },
  {
   "cell_type": "markdown",
   "id": "3bcf6853-2632-484c-a095-8497b6cd4261",
   "metadata": {},
   "source": [
    "```{figure} Figures/heat_engine_b.png\n",
    ":name: heat engine fig c\n",
    "\n",
    "An example of a simple heat engine that works by rejecting heat at a lower temperature than it is absorbed. \n",
    "```"
   ]
  },
  {
   "cell_type": "markdown",
   "id": "76de4a63-6a12-4515-a83c-64129bc10342",
   "metadata": {},
   "source": [
    "## Directionality - Entropy is Multiplicity Maximization"
   ]
  },
  {
   "cell_type": "markdown",
   "id": "e1f6f9ac-b86e-49eb-b838-5628716057dc",
   "metadata": {},
   "source": [
    "And now the logical questions is, why must heat always flow from hot to cold in a spontaneous process, and not vice versa? Why should gases spontaneously mix and not separate, why do gases expand in closed systems, and why do chemical reactions spontaneously occur in one direction but not the reverse, for example the combustion of hydrocarbons even if energy is conserved in an adiabatic chamber. The reason for this, in all of the above cases and more, is that the entropy is maximized. And whenever there is the potential to increase entropy, a process will spontaneously occur (given sufficient time). Then the next logical question is, what is entropy? Although you may have learned prior it is a measure of disorder of the system (and this analogy can be useful), a better explanation, I think, is that entropy is simply related to the number of possible ways a system can be arranged or configured from a microscopic perspective, referred to as the multiplicity ($W$) of the system. It is purely a statistical phenomenon - the system will always tend towards the state in which it can be arranged the greatest number of ways. For example, lets consider why gases tend to want to disperse. If we have a system of two particles (e.g., gas molecules) which can be distributed in any of 4 different boxes like shown below in {numref}`Figure %s <multiplicity fig a>` (imagine the number of boxes is related to the volume of the system), it is statistically more probable to find them in separate boxes rather than in the same. There are 4 configurations we can envision in which they are the same box (left side) and 6 in which they are separated (right side). And as the number of boxes increases, the chances that they are found in the same box become less probable. For example, if the number of boxes increased to 8, then there are only 8 configurations where they can be in the same box but 28 where they are different. When considered on the scale of real systems, with orders of magnitude more molecules, the probability of finding the molecules in a configuration not well dispursed becomes vanishingly small as the multiplicity increases. And thus from a statistical perspective, there are many more configurations available in which the molecules are well dispersed rather than confined near each other. Interestingly, this approach does not assume that it is impossible that the molecules remain in a clumped together configuration - is only statistically improbable. That is, the most statistically probable configuration is the one which is most likely to occur, and the most statistically probable outcome is the one with the largest number of possible configurations. Entropy is simply a measure of the number of ways we can arrange a system and thus this tends to want to be maximized because it is statistically more probable. Another way to think about multiplicity is that as it increases, our our uncertainty about the location of the molecules decreases. We can decscribe the multiplicity of a system ($W$) mathematically as "
   ]
  },
  {
   "cell_type": "markdown",
   "id": "af587f70-51a1-4a62-9c1e-ffb9300f7ffb",
   "metadata": {},
   "source": [
    "```{math}\n",
    ":label: eq_a\n",
    "W  = \\frac {N!}{n_{\\rm {1}}!n_{\\rm {2}}!...n_{\\rm {i}}!}\n",
    "```"
   ]
  },
  {
   "cell_type": "markdown",
   "id": "dba4c834-c234-4b9d-9f02-e81f8c6b14e1",
   "metadata": {},
   "source": [
    "where $N$ is the number of objects (in this case boxes) with i categories (in this case a box is either empty or not, so two categories). For example, in the case of both particles contained in the same box only 1 is not emtpy, thus,  $N$ = 4, $n_\\rm {1}$ = 1 and $n_\\rm {1} = 3$. For the case of finding both particles in separate boxes, only 2 are empty, and thus,  $N$ = 4, $n_\\rm {1}$ = 2 and $n_\\rm {1} = 2$. "
   ]
  },
  {
   "cell_type": "markdown",
   "id": "55ce496b-2f0a-4d25-b777-7e213ce33d8d",
   "metadata": {},
   "source": [
    "```{figure} Figures/multiplicity_a.png\n",
    ":name: multiplicity fig a\n",
    "\n",
    "Why do gases tend to disperse rather than clump together? There are more ways to arrange the system in the latter case, thus the multiplicity, and entropy are greater. As seen on the left, there are 4 ways to arrange 2 gas molecules both in the same cube, with the remaining 3 empty. But if two are filled and two empty (more dispersed), when we can arrange the system 6 ways. Thus, the multiplicity of the latter is greater, thus also the probability that this outcome will occur. Entropy is simply a measure of the multiplicity - the system will more likely be in the configuration that maximizes multiplicity (because it is statistically more probable). So to will the entropy always be maximized.\n",
    "```"
   ]
  },
  {
   "cell_type": "markdown",
   "id": "07e57eae-b90c-41e1-8ba5-c62a182a0231",
   "metadata": {},
   "source": [
    "A slighty more complex example can be used to show why heat flows from hot to cold - as you may have guessed it is because entropy is maximized. For this example, lets consider two separate and isolated systems, A and B, that are brought into thermal contact and allowed to exchange heat, as illustrated below in {numref}`Figure %s <multiplicity fig b>`. The internal energy of these systems are dictated by 1) the number of particles (e.g., gas molecules) in the system and 2) whether or not those particles are energized ($\\epsilon$). For this example we are considering only very simplified systems with only a limited number of particles and limited energy states equal to only 0 or 1. System A is initially composed of 5 particles ($N_\\rm {A} = 5$) with internal energy ($U_\\rm {A} = 2$) and System B is initially composed of 5 particles ($N_\\rm {A} = 5$) with internal energy ($U_\\rm {A} = 4$), shown schematically on the top of {numref}`Figure %s <multiplicity fig b>`. Note that because the particles can only have energies of 0 or 1, system A must have two energized particles and system B must have 4. We can calculate the multiplicity to see the number of ways in which we can arrange each of these systems, according to {eq}`eq_a`, and we see that for System A, $W$<sub>A</sub> = 10 and for System B, $W$<sub>B</sub> = 5. Now, initially Systems A and B cannot exchange heat but we can consider the total multiplicity of the combined systems by drawing a control volume around both systems, shown in the green dash-dotted line. For the combined number of configurations it is simply the product of each (e.g., 10 configurations of A with the 1st of B, 10 configurations with the 2nd, and so on). So, the total multiplicity for systems A and B is 50. "
   ]
  },
  {
   "cell_type": "markdown",
   "id": "bf2737af-68d5-4c70-b98f-cb3aa613f42e",
   "metadata": {},
   "source": [
    "Now, if the adiabatic barrier between A and B is removed and energy can be exchanged, then the internal energy of each system can change but the total internal energy of the combined systems must remain constant ($U_\\rm A$ + $U_\\rm B$ = 6). We could imagine a scenario where the internal energy of A decreases to 1 and B increases to 5, in which case $W$<sub>A</sub> = 5 and $W$<sub>B</sub> = 1 and thus $W$<sub>total</sub> = 5 which is lower than the initial value. Thus, this is not statistically probable and therefore the energy flow will likely not be from cold to hot. However, consider the reverse case of heat transfer from hot to cold, in which case the internal energy of A could increase to 3 and of B could decrease to 3. This scenario is shown on the bottom of {numref}`Figure %s <multiplicity fig b>`. In this scenario, $W$<sub>A</sub> = 10 and $W$<sub>B</sub> = 10 and thus $W$<sub>total</sub> = 100 which is greater than the initial value of 50. Thus it is statistically more probable that energy will flow from the hotter system B to the lower temperature system A. Although we have only shown a few scenarios, ultimately the energies of each system will be determined by maximizing the multiplicity by considering all possible scenarios - however it turns out that the final condition considered here is where multiplicity is maximized. Thus, we can see that energy tends to want to flow from hot to cold (i.e., in this case higher specific internal energy to lower) and it does so because there are more ways to configure the system. Thus, it is statistically more probable that this occurs. And as mentioned, entropy is a measure of the multiplicity of the system and since this tends to want to increase, the entropy as well can be considered to want to increase."
   ]
  },
  {
   "cell_type": "markdown",
   "id": "65c391ef-1369-452f-a719-b58d848f86df",
   "metadata": {},
   "source": [
    "```{figure} Figures/multiplicity_b.png\n",
    ":name: multiplicity fig b\n",
    "\n",
    "An example showing why energy tends to want to flow from higher temperature to lower. On the top two systems are isolated with different internal energies (i.e., different temperatures) and the total multiplicity of the combined systems is 50. When we allow energy to transfer by removing the adiabatic barrier, as shown on the bottom, the multiplicity is increased when the internal energy of B decreases and A increases. Thus, there are more ways to arrange this system and therefore it is more statistically probably. Thus, we can see the multiplicity and thus entrpoy increase if energy flows from hot to cold. In the reverse case the multiplicity and entropy would decrease below the initial value, which is statistically improbable.\n",
    "```"
   ]
  },
  {
   "cell_type": "markdown",
   "id": "c1ae375a-242e-4053-a6b9-8e02463ec135",
   "metadata": {},
   "source": [
    "```{index} Clausius statement\n",
    "```"
   ]
  },
  {
   "cell_type": "markdown",
   "id": "258b980e-fc2c-430e-b0e3-6c16bf64de16",
   "metadata": {},
   "source": [
    "This insight leads to a different variation of the second law of thermodynamics - i.e., there is no process which results only in the transfer of heat from a cold reservoir to a hot reservoir. For this to be possible, work from an external source would have to be done to the system. This is commonly referred to as a heat pump, or refrigeration cycle. This was first formulated as the {ref}`Clausius Statement <genindex>`. It states that \"It is impossible to construct a device that operates in a cycle and produces no effect other than the transfer of heat from a cooler body to a warmer body.\" And from our statistical example above, we know that the reason for this has to do with multiplicity, or entropy, and its tendancy to be maximized."
   ]
  },
  {
   "cell_type": "markdown",
   "id": "f42e5273-48f8-48b6-b007-12eb9f7a2868",
   "metadata": {},
   "source": [
    "## Thermodynamic Driving Forces"
   ]
  },
  {
   "cell_type": "markdown",
   "id": "9cfe6e6e-b4be-4524-a1ef-8062252a862d",
   "metadata": {},
   "source": [
    "Now, at this point we have shown that multiplicity tends to increase for spontaneous processes - i.e. as processes go towards equilibrium their multiplicity increases. Further, we have said that multiplicity is a measure of entropy - but this has not been proven. Specifically, for now let's postulate the following since as of yet entropy has not been definied explicitly."
   ]
  },
  {
   "cell_type": "markdown",
   "id": "3512acdb-af25-466b-bf7e-c7adea74adcf",
   "metadata": {},
   "source": [
    "```{math}\n",
    ":label: eq_b\n",
    "S \\propto W\n",
    "```"
   ]
  },
  {
   "cell_type": "markdown",
   "id": "1117cea3-b922-40bd-b07f-0a7236570708",
   "metadata": {},
   "source": [
    "We have shown that $W$ depends on volume ($V$) and internal energy ($U$). For example, W increases as N (e.g., the number of boxes in {numref}`Figure %s <multiplicity fig a>`, or volume) increases, keeping the number of particles constant. Further, W decreases as the internal energy decreases, also keeping the number of particles constant, as was shown in {numref}`Figure %s <multiplicity fig b>`. We can also shown that $W$ is a function of the number of particles in the system. For example, imagine in {numref}`Figure %s <multiplicity fig b>` that System A was initially composed of 6 particles instead of 5, with the same total internal energy. With 6 particles the multiplicity is 120 versus only 10 in the case of 5 particles. Thus, we can  say the the multiplicty is a function of $U$, $V$ and the number of particles $N$<sub>a</sub>, or"
   ]
  },
  {
   "cell_type": "markdown",
   "id": "8345faa1-1394-47db-b644-422b074ee161",
   "metadata": {},
   "source": [
    "```{math}\n",
    ":label: eq_c\n",
    "W = f(U,V,N_{\\rm a})\n",
    "```"
   ]
  },
  {
   "cell_type": "markdown",
   "id": "142ddbbe-4ec1-4809-a8ed-a15e62cd59a5",
   "metadata": {},
   "source": [
    "and because $S \\propto W$"
   ]
  },
  {
   "cell_type": "markdown",
   "id": "9417d0f7-84f4-479a-9e73-3be683d9e4a0",
   "metadata": {},
   "source": [
    "```{math}\n",
    ":label: eq_d\n",
    "S = f(U,V,N_{\\rm a})\n",
    "```"
   ]
  },
  {
   "cell_type": "markdown",
   "id": "63a59e7b-232a-4e3e-a758-6ad3127fa562",
   "metadata": {},
   "source": [
    "For the time being we will consider only systems where the number of particles remains constant to simplify analysis. Further, all of our prior examples of thermodynamic systems were such that $N$<sub>a</sub> = constant. I.e., they were constant mass and there were no chemical reactions considered that could change the number of moles. Thus we can say the following for $N$<sub>a</sub> = constant."
   ]
  },
  {
   "cell_type": "markdown",
   "id": "d31e3571-371e-4945-9d87-0d02f351bd4f",
   "metadata": {},
   "source": [
    "```{math}\n",
    ":label: eq_e\n",
    "S = f(U,V)\n",
    "```"
   ]
  },
  {
   "cell_type": "markdown",
   "id": "2e1b5cfe-8706-4203-b136-7571a578e6f5",
   "metadata": {},
   "source": [
    "Taking the derivitive we can see how this depends on variations of the independent properties $U$ and $V$."
   ]
  },
  {
   "cell_type": "markdown",
   "id": "487fe1fc-8e49-4525-8605-79f4f501feed",
   "metadata": {},
   "source": [
    "```{math}\n",
    ":label: eq_f\n",
    "dS = \\left( \\frac{\\partial S}{\\partial U} \\right)_{\\rm V} dU + \\left( \\frac{\\partial S}{\\partial V} \\right)_{\\rm U} dV\n",
    "```"
   ]
  },
  {
   "cell_type": "markdown",
   "id": "085ca15b-d7ca-4e09-bc0f-e5b076c0c58e",
   "metadata": {},
   "source": [
    "With this as a starting framework, lets evaluate two different  processes as they approach equilibrium. For this we will make one important assumption, of which we can later test the validity. This assumption is that the entropy is an extensive thermodynamic property of the system, and therefore dependent on the system size, just like internal energy and volume. We know that extensive thermodynamic properties are additive."
   ]
  },
  {
   "cell_type": "markdown",
   "id": "5479e7f8-2fca-4cde-96e4-d0cf0a486442",
   "metadata": {},
   "source": [
    "### Process 1 - Constant Volume Equilibration"
   ]
  },
  {
   "cell_type": "markdown",
   "id": "60fdb55f-c2fd-4621-9a2d-c788694f459a",
   "metadata": {},
   "source": [
    "Consider two separate systems, A and B, as shown in {numref}`Figure %s <equilibration fig a>` initially at different temperatures and internal energies, both with fixed volumes, separated by an adiabatic barrier. Then, the barrier is now diathermal and allowed to transfer heat until the total combined system (A + B) is equilibrated. We know from our prior example that at equilibrium, entropy is maximized and thus we can say that at the final state $dS = 0$. Further, because each of the subsystem volumes are constant, then the total system volume must also be constant, or $dV = 0$. "
   ]
  },
  {
   "cell_type": "markdown",
   "id": "135a6c19-55b0-47db-8387-6b8902366fa2",
   "metadata": {},
   "source": [
    "```{figure} Figures/temperature_equilibration.png\n",
    ":name: equilibration fig a\n",
    "\n",
    "For two fixed volume systems that are initially isolated and then allowed to exchange heat, it is equilibration of temperatures that dictates equilibrium.\n",
    "```"
   ]
  },
  {
   "cell_type": "markdown",
   "id": "17d25c95-f8d0-4007-9377-ca540f5efadd",
   "metadata": {},
   "source": [
    "Conservation of energy states that the total internal energy of A and B must remain constant, and that the energy gained in one is lost in the other, i.e. \n"
   ]
  },
  {
   "cell_type": "markdown",
   "id": "e4085170-f79b-412b-b7a8-cc685d71827d",
   "metadata": {},
   "source": [
    "```{math}\n",
    ":label: eq_g\n",
    "(U_{\\rm A,i} + U_{\\rm B,i} = U_{\\rm A,f} + U_{\\rm B,f} = const.)\n",
    "```"
   ]
  },
  {
   "cell_type": "markdown",
   "id": "c34bb4e7-1280-40de-a558-910c9da77687",
   "metadata": {},
   "source": [
    "```{math}\n",
    ":label: eq_h\n",
    "U_{\\rm A,i} - U_{\\rm A,f} = U_{\\rm B,f} - U_{\\rm B,i}\n",
    "```"
   ]
  },
  {
   "cell_type": "markdown",
   "id": "60c0092f-791b-4b29-9610-e5d195dc4457",
   "metadata": {},
   "source": [
    "```{math}\n",
    ":label: eq_i\n",
    "\\Delta U_{\\rm A} = -\\Delta U_{\\rm B}\n",
    "```"
   ]
  },
  {
   "cell_type": "markdown",
   "id": "973ddba1-61ec-4965-b91a-567f68ad5ec5",
   "metadata": {},
   "source": [
    "and "
   ]
  },
  {
   "cell_type": "markdown",
   "id": "fd473488-bbc8-478a-9475-aee4f6865aae",
   "metadata": {},
   "source": [
    "```{math}\n",
    ":label: eq_j\n",
    "d U_{\\rm A} = -d U_{\\rm B}\n",
    "```"
   ]
  },
  {
   "cell_type": "markdown",
   "id": "a3a029a6-592b-4c3c-b09b-479758a188a6",
   "metadata": {},
   "source": [
    "Starting from {eq}`eq_f`, recognizing $dV = 0$ for each sub-system, as we approach equilibrium we can say for each of our two systems that"
   ]
  },
  {
   "cell_type": "markdown",
   "id": "8fff5b51-4992-4796-bf62-7b8fc94e4178",
   "metadata": {},
   "source": [
    "```{math}\n",
    ":label: eq_k\n",
    "dS_{\\rm A} = \\left( \\frac{\\partial S_{\\rm A}}{\\partial U_{\\rm A}} \\right)_{\\rm V} dU_{\\rm A}\n",
    "```"
   ]
  },
  {
   "cell_type": "markdown",
   "id": "be06bea0-9255-46f0-a445-2c6d54bca586",
   "metadata": {},
   "source": [
    "```{math}\n",
    ":label: eq_l\n",
    "dS_{\\rm B} = \\left( \\frac{\\partial S_{\\rm B}}{\\partial U_{\\rm B}} \\right)_{\\rm V} dU_{\\rm B}\n",
    "```"
   ]
  },
  {
   "cell_type": "markdown",
   "id": "8b3bf7e1-0b8f-48b7-9e58-6baf5dbd1199",
   "metadata": {},
   "source": [
    "And because of our assumption that entropy is an extensive thermodynamic property, the total system entropy at equilibrium is "
   ]
  },
  {
   "cell_type": "markdown",
   "id": "7d7cf225-5225-4487-b531-645dcb544cb8",
   "metadata": {},
   "source": [
    "```{math}\n",
    ":label: eq_m\n",
    "dS = dS_{\\rm A} + dS_{\\rm B} = 0\n",
    "```"
   ]
  },
  {
   "cell_type": "markdown",
   "id": "3973f938-025b-4817-807a-1d93c4730d02",
   "metadata": {},
   "source": [
    "Substituting from above"
   ]
  },
  {
   "cell_type": "markdown",
   "id": "3674a15e-e7b9-4a03-a8f0-740226b6c5bc",
   "metadata": {},
   "source": [
    "```{math}\n",
    ":label: eq_n\n",
    "\\left( \\frac{\\partial S_{\\rm A}}{\\partial U_{\\rm A}} \\right)_{\\rm V} dU_{\\rm A} + \\left( \\frac{\\partial S_{\\rm B}}{\\partial U_{\\rm B}} \\right)_{\\rm V} dU_{\\rm B} = 0\n",
    "```"
   ]
  },
  {
   "cell_type": "markdown",
   "id": "d91f0405-61e3-462d-8069-02b279954f48",
   "metadata": {},
   "source": [
    "and substituting {eq}`eq_j`"
   ]
  },
  {
   "cell_type": "markdown",
   "id": "eb280ed7-67ee-468f-82f8-ca920dd5e1d2",
   "metadata": {},
   "source": [
    "```{math}\n",
    ":label: eq_o\n",
    "\\left( \\frac{\\partial S_{\\rm A}}{\\partial U_{\\rm A}} \\right)_{\\rm V} dU_{\\rm A} - \\left( \\frac{\\partial S_{\\rm B}}{\\partial U_{\\rm B}} \\right)_{\\rm V} dU_{\\rm A} = 0\n",
    "```"
   ]
  },
  {
   "cell_type": "markdown",
   "id": "09eb03ce-c1ac-48e5-9488-c7a75b485804",
   "metadata": {},
   "source": [
    "This can be rearranged to show"
   ]
  },
  {
   "cell_type": "markdown",
   "id": "f00a7bf2-9b73-4138-8498-342fb1cd047d",
   "metadata": {},
   "source": [
    "```{math}\n",
    ":label: eq_p\n",
    "dU_{\\rm A} \\left [ \\left( \\frac{\\partial S_{\\rm A}}{\\partial U_{\\rm A}} \\right)_{\\rm V}  - \\left( \\frac{\\partial S_{\\rm B}}{\\partial U_{\\rm B}} \\right)_{\\rm V} \\right] = 0\n",
    "```"
   ]
  },
  {
   "cell_type": "markdown",
   "id": "36c10d5a-af63-49fa-a946-89fc8f52f5d2",
   "metadata": {},
   "source": [
    "In other words, at equilibrium"
   ]
  },
  {
   "cell_type": "markdown",
   "id": "66854f57-ea34-41ae-b9a2-80bd4ad1cb26",
   "metadata": {},
   "source": [
    "```{math}\n",
    ":label: eq_q\n",
    "\\left( \\frac{\\partial S_{\\rm A}}{\\partial U_{\\rm A}} \\right)_{\\rm V}  = \\left( \\frac{\\partial S_{\\rm B}}{\\partial U_{\\rm B}} \\right)_{\\rm V}\n",
    "```"
   ]
  },
  {
   "cell_type": "markdown",
   "id": "911c1231-3039-4974-b7b7-a0306c53dc0a",
   "metadata": {},
   "source": [
    "Now, this begs the question - what thermodynamic property of system A and system B are equal to each other at equilibrium that could represent the partial differentials that must be equal? The answer is intuitive - temperature! The thermodynamic property that is a driving force for energy exchange is temperature, not internal energy, volume, etc. Therefore, we can say that "
   ]
  },
  {
   "cell_type": "markdown",
   "id": "29ce356e-3a4c-4c0b-9e0e-bcddd6edbe2e",
   "metadata": {},
   "source": [
    "```{math}\n",
    ":label: eq_r\n",
    "\\frac{1}{T}=\\left( \\frac{\\partial S}{\\partial U} \\right)_{\\rm V}\n",
    "```"
   ]
  },
  {
   "cell_type": "markdown",
   "id": "3b4d537c-bb29-4dae-91dc-a6623b505ac4",
   "metadata": {},
   "source": [
    "or more generally"
   ]
  },
  {
   "cell_type": "markdown",
   "id": "9f66f637-4db6-4ddb-b634-de0b74aaa711",
   "metadata": {},
   "source": [
    "```{math}\n",
    ":label: eq_s\n",
    "\\frac{1}{T}=\\left( \\frac{\\partial S}{\\partial U} \\right)_{\\rm V, N_a}\n",
    "```"
   ]
  },
  {
   "cell_type": "markdown",
   "id": "25d4e3c9-d985-40ab-91df-ff001b91cb26",
   "metadata": {},
   "source": [
    "The reason that temperature is inverted has to do with the fact that we know enrgy flow must be from hot to cold and the entropy maximized. If instead we said $T=\\left( \\frac{\\partial S}{\\partial U} \\right)_{\\rm V, N_a}$, the entropy change towards equilirium dS would be negative unless the energy flow were from cold to hot. You can convince yourselve with a quick calculation. Thus, we can say for fixed volume systems, temperature is the driving force for heat exchange and that it is equalized when the system reaches equilibrium. "
   ]
  },
  {
   "cell_type": "markdown",
   "id": "f010a7aa-f85d-4ae6-a69e-aa6b99dbb474",
   "metadata": {},
   "source": [
    "### Process 2 - Variable Volume Equilibration"
   ]
  },
  {
   "cell_type": "markdown",
   "id": "0a7b5716-2f77-44aa-82de-619ebc1297e4",
   "metadata": {},
   "source": [
    "Consider two separate systems, A and B, as shown in {numref}`Figure %s <equilibration fig b>` initially at different temperatures and internal energies, separated by an adiabatic fixed barrier. Then, the barrier is allowed to conduct heat and move, enabling system A and B to exchange heat and work (but not with the surroundings) until the total combined system (A + B) is equilibrated. Again, we know from our prior example that at equilibrium entropy is maximized and thus we can say that at the final state $dS = 0$."
   ]
  },
  {
   "cell_type": "markdown",
   "id": "421812f1-90d8-4793-b6b1-bdb7a020da31",
   "metadata": {},
   "source": [
    "```{figure} Figures/temperature_pressure_equilibration.png\n",
    ":name: equilibration fig b\n",
    "\n",
    "For two systems that are initially isolated and then allowed to exchange heat and work via a diathermal and movable membrane, equilibrium occures when the temperature and pressure of each side are equaized.\n",
    "```"
   ]
  },
  {
   "cell_type": "markdown",
   "id": "db838f67-3a2c-43a4-98b1-12d06c55f730",
   "metadata": {},
   "source": [
    "Conservation of energy states that the total internal energy of A and B must remain constant, and that the energy gained in one is lost in the other, i.e. "
   ]
  },
  {
   "cell_type": "markdown",
   "id": "7592f7a4-79e1-4677-b171-df55a80d914c",
   "metadata": {},
   "source": [
    "```{math}\n",
    ":label: eq_t\n",
    "(U_{\\rm A,i} + U_{\\rm B,i} = U_{\\rm A,f} + U_{\\rm B,f} = const.)\n",
    "```"
   ]
  },
  {
   "cell_type": "markdown",
   "id": "0283e177-c0a1-43ce-ad8d-c02bd0ad4772",
   "metadata": {},
   "source": [
    "```{math}\n",
    ":label: eq_u\n",
    "U_{\\rm A,i} - U_{\\rm A,f} = U_{\\rm B,f} - U_{\\rm B,i}\n",
    "```"
   ]
  },
  {
   "cell_type": "markdown",
   "id": "fd026dc1-cd34-40c8-abae-5fa7d07dc208",
   "metadata": {},
   "source": [
    "```{math}\n",
    ":label: eq_v\n",
    "\\Delta U_{\\rm A} = -\\Delta U_{\\rm B}\n",
    "```"
   ]
  },
  {
   "cell_type": "markdown",
   "id": "58c7d15c-4402-4103-96cb-122855844c3c",
   "metadata": {},
   "source": [
    ", and "
   ]
  },
  {
   "cell_type": "markdown",
   "id": "a9da212c-b84c-49fd-8a5c-02e5018f2079",
   "metadata": {},
   "source": [
    "```{math}\n",
    ":label: eq_w\n",
    "d U_{\\rm A} = -d U_{\\rm B}\n",
    "```"
   ]
  },
  {
   "cell_type": "markdown",
   "id": "d45472d6-22da-4d72-9c03-0ff36f75ec4d",
   "metadata": {},
   "source": [
    "Because the total volume of the combined systems is constant we can also say that"
   ]
  },
  {
   "cell_type": "markdown",
   "id": "4613d21b-f187-43c1-aefa-f9a5a9bd8d7c",
   "metadata": {},
   "source": [
    "```{math}\n",
    ":label: eq_w1\n",
    "d V_{\\rm A} = -d V_{\\rm B}\n",
    "```"
   ]
  },
  {
   "cell_type": "markdown",
   "id": "fea39534-0465-4ed9-98fa-532c7a3ed06e",
   "metadata": {},
   "source": [
    "Thus, starting from {eq}`eq_f`, as we approach equilibrium we can say for each of our two systems that"
   ]
  },
  {
   "cell_type": "markdown",
   "id": "653fcfac-dcf8-469a-b719-e404361adb01",
   "metadata": {},
   "source": [
    "```{math}\n",
    ":label: eq_x\n",
    "dS_{\\rm A} = \\left( \\frac{\\partial S_{\\rm A}}{\\partial U_{\\rm A}} \\right)_{\\rm V_A} dU_{\\rm A} + \\left( \\frac{\\partial S_{\\rm A}}{\\partial V_{\\rm A}} \\right)_{\\rm U_A} dV_{\\rm A}\n",
    "```"
   ]
  },
  {
   "cell_type": "markdown",
   "id": "3321bc26-8aea-4d38-a2c9-d29750db357c",
   "metadata": {},
   "source": [
    "```{math}\n",
    ":label: eq_y\n",
    "dS_{\\rm B} = \\left( \\frac{\\partial S_{\\rm B}}{\\partial U_{\\rm B}} \\right)_{\\rm V_A} dU_{\\rm B} + \\left( \\frac{\\partial S_{\\rm B}}{\\partial V_{\\rm B}} \\right)_{\\rm U_B} dV_{\\rm B}\n",
    "```"
   ]
  },
  {
   "cell_type": "markdown",
   "id": "de09a382-89e4-441f-bf63-dc731281b85b",
   "metadata": {},
   "source": [
    "And because of our assumption that entropy is an extensive thermodynamic property, the total system entropy at equilibrium is "
   ]
  },
  {
   "cell_type": "markdown",
   "id": "e90db01e-a5cb-4720-a7c1-ff86a5f2a483",
   "metadata": {},
   "source": [
    "```{math}\n",
    ":label: eq_z\n",
    "dS = dS_{\\rm A} + dS_{\\rm B} = 0\n",
    "```"
   ]
  },
  {
   "cell_type": "markdown",
   "id": "125db80d-20ee-46d5-b1b8-cd0a59a6f140",
   "metadata": {},
   "source": [
    "Substituting {eq}`eq_x` and {eq}`eq_y` into {eq}`eq_z`, then substituting {eq}`eq_w` and {eq}`eq_w1` and rearranging we can see that"
   ]
  },
  {
   "cell_type": "markdown",
   "id": "6c4353e9-7d55-473e-ad18-f2627a13fa3a",
   "metadata": {},
   "source": [
    "```{math}\n",
    ":label: eq_a1\n",
    "\\left[ \\left( \\frac{\\partial S_{\\rm A}}{\\partial U_{\\rm A}} \\right)_{\\rm V_A} - \\left( \\frac{\\partial S_{\\rm B}}{\\partial U_{\\rm B}} \\right)_{\\rm V_A} \\right]dU_{\\rm A} + \\left[\\left( \\frac{\\partial S_{\\rm A}}{\\partial V_{\\rm A}} \\right)_{\\rm U_A} -\\left( \\frac{\\partial S_{\\rm B}}{\\partial V_{\\rm B}} \\right)_{\\rm U_B} \\right]dV_{\\rm A} =0 \n",
    "```"
   ]
  },
  {
   "cell_type": "markdown",
   "id": "3e96bdcf-1470-4552-8d2c-b4f868895c2a",
   "metadata": {},
   "source": [
    "We know that at equilibrium the left hand terms equal zero because $T_{\\rm a}$ = $T_{\\rm b}$ and $\\frac{1}{T}=\\left( \\frac{\\partial S}{\\partial U} \\right)_{\\rm V}$. Therefore the terms $\\left( \\frac{\\partial S}{\\partial V} \\right)_{\\rm U}$ for systems A and B must also be equal. Does this partial differential also equal some measurable property like in the prior example where $\\frac{1}{T}=\\left( \\frac{\\partial S}{\\partial U} \\right)_{\\rm V}$? To see, let's first consider the units of entropy. We know that $\\frac{1}{T}=\\left( \\frac{\\partial S}{\\partial U} \\right)_{\\rm V}$, and thus S has units kJ/K. Thus entropy per unit volume should have units kJ/K/m<sup>3</sup>. This can be rearranged as kN/m<sup>2</sup>/K which is the same units as we would expect for the ratio of properties, $p/T$. And therefore, not surprisingly it turns out that $\\left( \\frac{\\partial S}{\\partial V} \\right)_{\\rm U} = \\frac{p}{T}$. That is, equilibration between systems with a diathermal and movable barrier results in the equality of the ratio of temperature to pressure. Physically, this make sense, as we intuitively know that the system at equilibrium should have equal temperatures and pressures.  "
   ]
  },
  {
   "cell_type": "markdown",
   "id": "55457bf6-bd78-463f-9441-56cec3bb5903",
   "metadata": {},
   "source": [
    "(ThermodynamicEntropy)=\n",
    "## Thermodynamic Definition of Entropy"
   ]
  },
  {
   "cell_type": "markdown",
   "id": "1d3a5fb9-b3bb-41ad-a57c-5e7704c51834",
   "metadata": {},
   "source": [
    "Recall that we started with the discussion above with the assumption that entropy is proportional to multiplicity, and thus a function of energy and volume, or"
   ]
  },
  {
   "cell_type": "markdown",
   "id": "efd36683-2725-445e-ab25-9adf7760fc11",
   "metadata": {},
   "source": [
    "```{math}\n",
    ":label: eq_a2\n",
    "S = f(U,V)\n",
    "```"
   ]
  },
  {
   "cell_type": "markdown",
   "id": "fbae06d8-62cc-4b8b-b452-4e39d0659267",
   "metadata": {},
   "source": [
    "We then took the derivitive of this function and saw that"
   ]
  },
  {
   "cell_type": "markdown",
   "id": "1ce03448-9cf6-4d2a-b5cb-8ead8e95b417",
   "metadata": {},
   "source": [
    "```{math}\n",
    ":label: eq_a3\n",
    "dS = \\left( \\frac{\\partial S}{\\partial U} \\right)_{\\rm V} dU + \\left( \\frac{\\partial S}{\\partial V} \\right)_{\\rm U} dV\n",
    "```"
   ]
  },
  {
   "cell_type": "markdown",
   "id": "9b997af0-bc28-4f71-ab2d-d9e694b798a8",
   "metadata": {},
   "source": [
    "Which reduces to the following because $\\left( \\frac{\\partial S}{\\partial U} \\right)_{\\rm V} = \\frac{1}{T}$ and $\\left( \\frac{\\partial S}{\\partial V} \\right)_{\\rm U} = \\frac{p}{T}$."
   ]
  },
  {
   "cell_type": "markdown",
   "id": "b3e7f8dc-8999-4938-9969-8885a6491cf5",
   "metadata": {},
   "source": [
    "```{math}\n",
    ":label: eq_a4\n",
    "dS = \\frac{1}{T} dU + \\frac{p}{T} dV\n",
    "```"
   ]
  },
  {
   "cell_type": "markdown",
   "id": "18093d08-f966-4d0e-a954-c2988af6edec",
   "metadata": {},
   "source": [
    "Now, consider a reversible expansion or compression process of an ideal gas. Recall from {numref}`Reversibility` {ref}`Reversibility` that a reversible process is one in which occurs very slowly and is not possible in reality - but it represents an ideal process. We can relate the reversible boundary work ($\\delta W_{\\rm rev}$) to $pdV$, or "
   ]
  },
  {
   "cell_type": "markdown",
   "id": "36fc8c47-45db-4d4e-9da9-bcf158a10c80",
   "metadata": {},
   "source": [
    "```{math}\n",
    ":label: eq_a5\n",
    "\\delta W_{\\rm rev} = pdV\n",
    "```"
   ]
  },
  {
   "cell_type": "markdown",
   "id": "3fd97d3a-43cf-4f31-afaf-11e8266fb10b",
   "metadata": {},
   "source": [
    "We also know from the First Law of Thermodynamics that "
   ]
  },
  {
   "cell_type": "markdown",
   "id": "f39078bf-d53c-44a2-a5ba-57e14554fd4e",
   "metadata": {},
   "source": [
    "```{math}\n",
    ":label: eq_a6\n",
    "dU = \\delta Q_{\\rm rev} - \\delta W_{\\rm rev}\n",
    "```"
   ]
  },
  {
   "cell_type": "markdown",
   "id": "77fe0020-f65d-41c5-89c4-f1bc8ae78704",
   "metadata": {},
   "source": [
    "Thus, we we can substitute {eq}`eq_a5` and {eq}`eq_a6` into {eq}`eq_a4` to show that "
   ]
  },
  {
   "cell_type": "markdown",
   "id": "96f0a209-e856-4920-9da7-c4a3ad20277a",
   "metadata": {},
   "source": [
    "```{math}\n",
    ":label: eq_a7\n",
    "dS = \\frac{1}{T} (\\delta Q_{\\rm rev} - \\delta W_{\\rm rev}) + \\frac{\\delta W_{\\rm rev}}{T}\n",
    "```"
   ]
  },
  {
   "cell_type": "markdown",
   "id": "10d5b743-3f79-401c-ba60-d33a4d628671",
   "metadata": {},
   "source": [
    "or "
   ]
  },
  {
   "cell_type": "markdown",
   "id": "85e75420-9666-453c-bb21-70afb8af3e0a",
   "metadata": {},
   "source": [
    "```{math}\n",
    ":label: eq_a8\n",
    "dS = \\frac{1}{T} \\delta Q_{\\rm rev}\n",
    "```"
   ]
  },
  {
   "cell_type": "markdown",
   "id": "45ebb872-fbb6-435c-8242-5409f2b73de4",
   "metadata": {},
   "source": [
    "and also"
   ]
  },
  {
   "cell_type": "markdown",
   "id": "2d42baed-c789-4470-8e9b-407936047731",
   "metadata": {},
   "source": [
    "```{math}\n",
    ":label: eq_a9\n",
    "\\delta Q_{\\rm rev} = TdS \n",
    "```"
   ]
  },
  {
   "cell_type": "markdown",
   "id": "06be63a6-3c78-48bb-b327-f9e702b12755",
   "metadata": {},
   "source": [
    "Now, although there are infinite number of pressure volume temperature paths that we could take to go from State 1 to State 2 (and thus varying degrees of reversible work), the change in entropy is only dependent on the heat transfer to or from the system. This is significant because it ties the entropy change of the system to a measureable quantity, namely the heat transfer, rather than relating it to probabiities or multiplicity which is not readily measurable. Also, significantly, it shows that the entropy of the system can be increased or decreased, depending on the direction of heat transfer, lending credence to the idea that entropy can be decreased locally at a system level, which partly explains how order can rise from apparant disorder."
   ]
  },
  {
   "cell_type": "markdown",
   "id": "9f7e8d82-2d15-4c0e-9e48-7dedf5d94b12",
   "metadata": {},
   "source": [
    "(EntropyChangeExample1)=\n",
    "#### Example - Evaluating Reversible Heat Transfer Using Entropy"
   ]
  },
  {
   "cell_type": "markdown",
   "id": "65550e26-35ec-48d7-b831-49fce132b529",
   "metadata": {},
   "source": [
    "A piston cylinder maintaining constant pressure contains 0.1 kg saturated liquid water at 100°C. It is now boiled to become saturated vapor in a reversible process. Find the work term and then the heat transfer from the energy equation. Find the heat transfer from the entropy equation, is it the same?"
   ]
  },
  {
   "cell_type": "markdown",
   "id": "98e501c2-3b8b-42fd-a3e0-a048518f2682",
   "metadata": {},
   "source": [
    "> **Solution** - If using the energy equation, for a closed system like this, $\\Delta U = Q_{\\rm net}- W_{\\rm net}$, and because this is a constant pressure process $W_{\\rm net}=P \\Delta V$. Thus, the heat transfer can be solved knowing internal energy and volume at the initial and final states. Or, more simply we can also say $Q_{\\rm net}=\\Delta H$ because the process is constant pressure. We can use Cantera to solve.\n",
    "\n",
    "> If using the entropy equation from above {eq}`eq_a9`, $\\delta Q_{\\rm rev} = TdS$, this can be readily integrated because the process occurs at constant temperature. Thus $Q_{\\rm rev} = T \\Delta S$. Thus, we need only the entropy at the initial and final states. We can use Cantera to solve."
   ]
  },
  {
   "cell_type": "code",
   "execution_count": 5,
   "id": "568ee36c-7531-4ee2-a430-195a7524bc08",
   "metadata": {},
   "outputs": [
    {
     "name": "stdout",
     "output_type": "stream",
     "text": [
      "22570.44 J, is Q using the Energy Equation\n",
      "22570.44 J, is Q using the Entropy Equation\n"
     ]
    }
   ],
   "source": [
    "import cantera as ct\n",
    "#State 1\n",
    "m= 0.01 #kg\n",
    "T1 = 100 + 273.15 #K\n",
    "x1 = 0 # Sat. Liquid\n",
    "\n",
    "species1 = ct.Water()# define state 1\n",
    "species1.TQ = T1, x1\n",
    "\n",
    "#State 2\n",
    "T2=T1 #K\n",
    "x2 = 1 # Sat. Liquid\n",
    "\n",
    "species2 = ct.Water()# define state 2\n",
    "species2.TQ = T2, x2\n",
    "\n",
    "dh=species2.HP[0]-species1.HP[0]\n",
    "ds=species2.SP[0]-species1.SP[0]\n",
    "\n",
    "print(round(dh*m,2), \"J, is Q using the Energy Equation\")\n",
    "print(round(ds*m*T1,2), \"J, is Q using the Entropy Equation\")"
   ]
  },
  {
   "cell_type": "markdown",
   "id": "feffad0c-cc00-4dab-b5c2-689ea1f862c7",
   "metadata": {},
   "source": [
    "## Entropy Generation"
   ]
  },
  {
   "cell_type": "markdown",
   "id": "c3514931-7f04-4751-b3f7-6c7d263c8d76",
   "metadata": {},
   "source": [
    "We have just stated that entropy can decrease locally, but this is seemingly at odds with the fact that the second law of thermodynamics earlier in this chapter was motivated by saying that any spontaneous process that tends toward equilibrium must result in an increase in entropy. At this point, it is important to consider the distinction between the system and surroundings, and that when we say entropy must always increase, this refers to the total, or combined, entropy of the system and surroundings. Thus, if the entropy of a system decreases (for example by rejecting heat), then the entropy of the surroundings must increase by at least as much, and even more unless the process were reversible. We can see why entropy must always be increased (or generated) in a real process by comparing it to a reversible one. Lets first consider the reversible and adiabatic expansion process between states 1 and 2, as shown on the left of {numref}`Figure %s <entropy_generation>`. Because it is adiabatic there is no heat transfer and so the change in entropy according to {eq}`eq_a8` is zero. If the expansion process is real (i.e., irreversible) and to the same pressure, then the path taken is different and the work is less. According to the conservation of energy equation, if the work is less, the change in internal energy is less and thus, the temperature change should also be less compared to the reversible process. Thus, $T$<sub>3</sub> > $T$<sub>2</sub>. Now, the only way to get to State 3 from State 2 is to reject heat from the system. Considering entropy is a state property and doesn't depend on the path, then $S$<sub>2</sub>-$S$<sub>1</sub> = $S$<sub>2</sub>-$S$<sub>3</sub> + $S$<sub>3</sub>-$S$<sub>1</sub>. Since $S$<sub>2</sub>-$S$<sub>1</sub> = 0 (reversible and adiabatic) and $S$<sub>2</sub>-$S$<sub>3</sub> < 0 because of {eq}`eq_a8` and the heat transfer is negative (i.e. heat rejection), then $S$<sub>3</sub>-$S$<sub>1</sub> must be positive and thus $S$<sub>3</sub> > $S$<sub>1</sub>. Entropy was generated during the irreversible and adiabatic expansion process!"
   ]
  },
  {
   "cell_type": "markdown",
   "id": "c895423c-1865-4b8b-a0db-26a3d2b7f64d",
   "metadata": {},
   "source": [
    "```{figure} Figures/entropy_generation.png\n",
    ":name: entropy_generation\n",
    "\n",
    "Entropy is generated for both expansion and compression processes that are irreversible. All irreversible processes result in entropy generation.\n",
    "```"
   ]
  },
  {
   "cell_type": "markdown",
   "id": "d7cdf5c4-a86d-413d-8507-9b084a7992bc",
   "metadata": {},
   "source": [
    "Now, lets consider the reverse case. I.e., reversible and adiabatic compression versus irreversible and adiabatic compression, as shown on the right of {numref}`Figure %s <entropy_generation>`. In this case the temperature following irreversible compression will be greater than the reversible case because the work requirement will be greater and according to the first law the internal energy change must be greater. This compression process is shown going from State 2 to State 3a. Then, the only way to return back to State 1 is to again reject heat from the system. Again considering entropy is a state property and doesn't depend on the path, then $S$<sub>1</sub>-$S$<sub>2</sub> = $S$<sub>3a</sub>-$S$<sub>2</sub> + $S$<sub>1</sub>-$S$<sub>3a</sub>. Since $S$<sub>1</sub>-$S$<sub>2</sub> = 0 (reversible and adiabatic) and $S$<sub>1</sub>-$S$<sub>3a</sub> < 0 because of {eq}`eq_a8` and the heat transfer is negative (i.e. heat rejection), then $S$<sub>3a</sub>-$S$<sub>2</sub> must be positive and thus $S$<sub>3a</sub> > $S$<sub>2</sub>. Entropy was also generated during the irreversible and adiabatic compression process! And in fact, the entropy change must always increase for an irreversible process."
   ]
  },
  {
   "cell_type": "markdown",
   "id": "f4e58a55-d8e7-46ff-a9a7-6bdfd0a308f3",
   "metadata": {},
   "source": [
    "Mathematically, because entropy generation is always equal to or greater than zero,  the entropy change for a real process must be the entropy change due to heat transfer (from {eq}`eq_a8`) plus the entropy generation, or"
   ]
  },
  {
   "cell_type": "markdown",
   "id": "ee578a4e-e84d-42bf-96d8-5d501cfb1af3",
   "metadata": {},
   "source": [
    "```{math}\n",
    ":label: eq_a9\n",
    "\\Delta S = \\int \\frac {\\delta Q}{T} + S_{\\rm gen}\n",
    "```"
   ]
  },
  {
   "cell_type": "markdown",
   "id": "024ac145-c3d4-4b13-ba90-f4fd1b41281d",
   "metadata": {},
   "source": [
    "Notice now that the heat transfer term is no longer necessarily reversible because of the added entropy generation term ($S$<sub>gen</sub>). Of course in the absence of entropy generation the heat transfer would have to be reversible and thus the equations are consistent. Put another way, because the entropy generation is always positive, the entropy change of a real process must always be greater than or equal to the entropy change due to heat transfer, or"
   ]
  },
  {
   "cell_type": "markdown",
   "id": "d7cc735b-7c3f-4f61-8933-24b2ff36bb3b",
   "metadata": {},
   "source": [
    "```{math}\n",
    ":label: eq_a10\n",
    "\\Delta S \\geq \\int \\frac {\\delta Q}{T}\n",
    "```"
   ]
  },
  {
   "cell_type": "markdown",
   "id": "a00de3db-350e-4663-bdd2-89da43469e61",
   "metadata": {},
   "source": [
    "## Statistical Definition of Entropy"
   ]
  },
  {
   "cell_type": "markdown",
   "id": "2efeee12-bf55-4e63-b336-b177a4a17fc4",
   "metadata": {},
   "source": [
    "To this point, we have used a statistical argument (i.e., increase in multiplicity), to derive the classical thermodynamic definition of entropy, assuming only that entropy is proportional to multiplicity and that it is an extensive property of the system. But we have not mathematically connnected the statistical interpretation of entropy to the classical, yet. It would be tempting to think that $W$ and $S$ are related only by a proportionality constant, but this cannot be true because entropy is an extensive thermodynamic property, and thus additive, and multiplicity is multiplicitive - i.e., the multiplicity of two  combined sub-systems is the product of each individual. How to reconcile this? In fact, the link between entropy and mltiplicity then must be a logarithm, and the statistical definition, first derived by Boltzmann, is  "
   ]
  },
  {
   "cell_type": "markdown",
   "id": "88e45b4b-6f3a-47e4-8b9d-3d74a5f2f66a",
   "metadata": {},
   "source": [
    "```{math}\n",
    ":label: eq_a11\n",
    "S =  k \\rm{ln} W\n",
    "```"
   ]
  },
  {
   "cell_type": "markdown",
   "id": "cc3949f3-5d4d-45ff-8070-5e47e8c23d7e",
   "metadata": {},
   "source": [
    "where $k$ is Boltzmanns constant, which is a proportionality factor to connect the statistical definition to the classical thermodynamic definition. The natural logarithm helps resolve the difference between the additive extensive entropy and multiplicative property, multiplicity. For example, two systems with individual multiplicity 5 and 10 have a total multiplicity of 50 but  entropy of $k$ln(5) + $k$ln(10)."
   ]
  },
  {
   "cell_type": "markdown",
   "id": "744fa59c-0dea-4ce9-835d-45cab916ccf1",
   "metadata": {},
   "source": [
    "## Carnot Heat Engines"
   ]
  },
  {
   "cell_type": "markdown",
   "id": "5cae9994-112d-4c74-8e39-a61c6f39827a",
   "metadata": {},
   "source": [
    "## Carnot Heat Pumps"
   ]
  },
  {
   "cell_type": "code",
   "execution_count": null,
   "id": "39c527f1-1d87-48eb-89be-346aa136a0f3",
   "metadata": {},
   "outputs": [],
   "source": []
  }
 ],
 "metadata": {
  "kernelspec": {
   "display_name": "Python 3 (ipykernel)",
   "language": "python",
   "name": "python3"
  },
  "language_info": {
   "codemirror_mode": {
    "name": "ipython",
    "version": 3
   },
   "file_extension": ".py",
   "mimetype": "text/x-python",
   "name": "python",
   "nbconvert_exporter": "python",
   "pygments_lexer": "ipython3",
   "version": "3.12.3"
  }
 },
 "nbformat": 4,
 "nbformat_minor": 5
}
