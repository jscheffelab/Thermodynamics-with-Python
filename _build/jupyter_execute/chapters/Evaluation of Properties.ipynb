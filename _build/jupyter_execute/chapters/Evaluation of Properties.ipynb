{
 "cells": [
  {
   "cell_type": "markdown",
   "id": "2b10540b-c324-48e3-bd64-0a194ed95fb2",
   "metadata": {
    "tags": []
   },
   "source": [
    "(EvaluationofProperties)=\n",
    "# Evaluation of Properties"
   ]
  },
  {
   "cell_type": "markdown",
   "id": "9ba7e2a4-6c02-4d5f-8794-7819d63d09e8",
   "metadata": {},
   "source": [
    "## Pure Substances"
   ]
  },
  {
   "cell_type": "markdown",
   "id": "5b13a4b2-e55f-47c8-8aa3-8828ca9d6aff",
   "metadata": {},
   "source": [
    "```{index} equation of state, pure substance, phase, state property\n",
    "```"
   ]
  },
  {
   "cell_type": "markdown",
   "id": "d06a262d-5843-4084-b718-d5f1a94f42aa",
   "metadata": {},
   "source": [
    "An {ref}`equation of state <genindex>` (EOS) is a mathematical representation describing the relationship between {ref}`state properties <genindex>` of pure substances, such as pressure ($p$), temperature ($T$), specific volume ($v$) and specific internal energy ($u$). State properties, or state variables, are the independent variables that fully describe the state of a system, or the state function. Equations of state can range from very simplistic relationships, such as the ideal gas law, to more complex consisting of hundreds of equations, the results of which are usually tabulated for convenience. Knowing information about any two independent variables fixes the state of the system and the remaining proerties, which can be determined readily with an appropriate equation of state."
   ]
  },
  {
   "cell_type": "markdown",
   "id": "c5833970-2226-4b4a-acd4-b24e021b89e3",
   "metadata": {},
   "source": [
    "A {ref}`pure substance <genindex>` is a substance that has a fixed composition throughout, for example H<sub>2</sub>O or CO<sub>2</sub>. However, it can also be composed of multiple compositions, or chemical elements, as long as they are distributed homogeneously. An example of the latter is air, which is primarily N<sub>2</sub> and O<sub>2</sub> with other trace gases such as CO<sub>2</sub>, Ar, etc. A pure substance can consist of multiple phases, for example boiling H<sub>2</sub>O which is composed of both liquid and vapor."
   ]
  },
  {
   "cell_type": "markdown",
   "id": "c3ff2ced-acd0-43e7-8bfe-57858ac09517",
   "metadata": {},
   "source": [
    "{ref}`Phase <genindex>` is defined as a pure substance that has a homogeneous physical structure. Physical structure referes to solids, liquids and gases. Note that a fluid is representative of both liquid and gas phases. There are many applications where substances undergo phase transitions and where two or more phases exist in equilibrium."
   ]
  },
  {
   "cell_type": "markdown",
   "id": "39e9fdbc-bcc6-4872-857c-3b3bf3ec431d",
   "metadata": {},
   "source": [
    "## Ideal Gas Equation of State"
   ]
  },
  {
   "cell_type": "markdown",
   "id": "cbf7a3b4-1a6e-4301-9060-46fa58b02cc6",
   "metadata": {},
   "source": [
    "```{index} ideal gas\n",
    "```"
   ]
  },
  {
   "cell_type": "markdown",
   "id": "a2068cdd-42f1-4c6a-97c0-aa587bf9b6fc",
   "metadata": {},
   "source": [
    "Perhaps the simplist and best known EOS is the {ref}`ideal gas <genindex>` EOS and thus we will use this to introduce evaluation of properties. The ideal gas EOS, or relationship between $T$, $p$ and $v$ (or  $\\bar{v}$) of an ideal gas is shown below."
   ]
  },
  {
   "cell_type": "markdown",
   "id": "4e85c7a9-f540-4e6f-ba34-813a5c46150a",
   "metadata": {},
   "source": [
    "```{math}\n",
    ":label: eq_a\n",
    "p\\bar{v} = \\bar{R}T\n",
    "```"
   ]
  },
  {
   "cell_type": "markdown",
   "id": "dbb47155-f468-4dfe-b8d4-5e23b88c0c2a",
   "metadata": {},
   "source": [
    "```{index} universal gas constant\n",
    "```"
   ]
  },
  {
   "cell_type": "markdown",
   "id": "7e35f369-d39d-4113-9318-14c3bf00612f",
   "metadata": {},
   "source": [
    "This equation of state can be derived from the kinetic theory of gases and assumes zero molecular interaction (e.g. Van der Waals) with molecules that are point center of masses and do not occupy a meaningful volume compared to the total volume of gas. Here, $\\bar{R}$ is the {ref}`universal gas constant <genindex>` and is equal to 8.314 $\\frac{\\rm kJ}{\\rm kmol K}$. Keep in mind that the ideal gas law is a very good approximation for many gases, especially at elevated temperatures and volumes, or low pressures, but as temperature and pressure approach their saturation values (discussed later) where molecules tend to become closer together and interact more, other equations of state are more appropriate."
   ]
  },
  {
   "cell_type": "markdown",
   "id": "d62ab52a-da61-4dbe-9d3b-92951dfe9bcc",
   "metadata": {},
   "source": [
    "The molar specific volume may be related to the specific volume, $v$, and molecular mass, $M$, with the relationship below."
   ]
  },
  {
   "cell_type": "markdown",
   "id": "aebed3c1-5935-458a-afaa-b9ef97eb4a2c",
   "metadata": {},
   "source": [
    "```{math}\n",
    ":label: eq_b\n",
    "\\bar{v} =vM\n",
    "```"
   ]
  },
  {
   "cell_type": "markdown",
   "id": "9179db44-9636-4fd5-aba2-4353de5307b9",
   "metadata": {},
   "source": [
    "```{index} gas constant\n",
    "```"
   ]
  },
  {
   "cell_type": "markdown",
   "id": "0e1d5d8c-bb7a-4a45-9f18-ccc9c4bf10a6",
   "metadata": {},
   "source": [
    "Also, the {ref}`gas constant <genindex>`, $R$, is defined as."
   ]
  },
  {
   "cell_type": "markdown",
   "id": "d332bc26-271b-4d25-8868-9034f14d3c7a",
   "metadata": {},
   "source": [
    "```{math}\n",
    ":label: eq_c\n",
    "R = \\frac{\\bar{R}}{M}\n",
    "```"
   ]
  },
  {
   "cell_type": "markdown",
   "id": "d19393af-5157-4977-b0c0-51145f2ab9c4",
   "metadata": {},
   "source": [
    "Then, by combining equation {eq}`eq_a` with equations {eq}`eq_b` and {eq}`eq_c`, the ideal gas equation can be rearranged as a function of mass specific variables, $v$ as shown in equation {eq}`eq_d`. "
   ]
  },
  {
   "cell_type": "markdown",
   "id": "c2cb226d-52f1-43b9-a15c-0e3076a8e1e4",
   "metadata": {},
   "source": [
    "```{math}\n",
    ":label: eq_d\n",
    "Pv = RT = \\frac{\\bar{R}}{M} T\n",
    "```"
   ]
  },
  {
   "cell_type": "markdown",
   "id": "394406e4-7e6b-4008-9c7e-f1d705f440ca",
   "metadata": {},
   "source": [
    "### Using Python to Solve the Ideal Gas EOS"
   ]
  },
  {
   "cell_type": "markdown",
   "id": "1945bff5-4141-48c2-8508-3b8676524c04",
   "metadata": {},
   "source": [
    "```{index} function\n",
    "```"
   ]
  },
  {
   "cell_type": "markdown",
   "id": "cfa9b3c7-2a24-4f45-ad7e-7c8314f6ad9f",
   "metadata": {},
   "source": [
    "Now, we will use Python try and solve for properties ($p$, $v$ (or  $\\bar{v}$), or $T$) using the ideal gas EOS. We could simply equate a variable, such as $v$, to $\\frac{\\bar{R}T}{Mp}$ in a single line of code, like below, assuming $T$, $p$, $M$ and $v$ are defined."
   ]
  },
  {
   "cell_type": "code",
   "execution_count": 1,
   "id": "1665e023-9d41-48d1-86b4-d33d9ab31695",
   "metadata": {},
   "outputs": [
    {
     "name": "stdout",
     "output_type": "stream",
     "text": [
      "specific volume is  5.19625  m^3/kg\n"
     ]
    }
   ],
   "source": [
    "T = 1000 # Temperature in K\n",
    "M = 16 # Molecular mass of oxygen\n",
    "p = 100 # pressure in kPa\n",
    "v = 8.314*T/M/p\n",
    "print(\"specific volume is \",v, \" m^3/kg\")"
   ]
  },
  {
   "cell_type": "markdown",
   "id": "644eab3f-b062-49be-aa06-f14f524797fe",
   "metadata": {},
   "source": [
    "However, it will prove to be more convenient to use functions when we are plotting or doing more complex calculations, so we will focus on this method. For this we will define {ref}`functions <genindex>` and rearrange the ideal gas EOS to solve explicitly for the property of interest. For example, to solve for pressure we can define pressure as a function of independent variables $T$, $v$ and $M$. Let's define the function *P_ideal* using $def$ and indicate the independent variables in parenthesis. Then, for the function to output the pressure we rearrange equation {eq}`eq_d` to get everything in terms of $p$, and use $return$"
   ]
  },
  {
   "cell_type": "code",
   "execution_count": 2,
   "id": "713f6c5f-a5e5-48d2-a652-2167a2d5de3f",
   "metadata": {},
   "outputs": [],
   "source": [
    "def p_ideal(T,v,M):\n",
    "    return 8.314*T/M/v"
   ]
  },
  {
   "cell_type": "markdown",
   "id": "d6c10c67-2811-4d6f-a4de-fbff117f312d",
   "metadata": {},
   "source": [
    "#### Example"
   ]
  },
  {
   "cell_type": "markdown",
   "id": "985a6e1d-c2b1-42fe-9723-99b347a3ba73",
   "metadata": {},
   "source": [
    " Solve for the pressure of Nitrogen (N<sub>2</sub>) gas ($M$ = 28 kg kmol<sup>-1</sup>), knowing the temperature is 500 K and $v$ is .01 m<sup>3</sup> kg<sup>-1</sup>. "
   ]
  },
  {
   "cell_type": "markdown",
   "id": "e3f33891-5241-4248-804b-106b3064e642",
   "metadata": {},
   "source": [
    "**Solution:** Simply call the function p_ideal and input values  $T$, $v$ and $M$. To display the result the function should be contained within $print$ To change the number of significant digits that are displayed used the  $round$ command. The units are kPa because $\\frac{\\rm kJ}{\\rm kmol K} \\frac{\\rm kmol}{\\rm kg} \\frac{\\rm K}{\\rm m^3}$ reduces to $\\frac{\\rm kN m}{\\rm kg} \\frac{1}{\\rm m^3}$ which reduces to $\\frac{\\rm kN}{\\rm m^2}$"
   ]
  },
  {
   "cell_type": "code",
   "execution_count": 3,
   "id": "7e0a2188-fe63-42ea-a05c-59e809f0260d",
   "metadata": {},
   "outputs": [
    {
     "name": "stdout",
     "output_type": "stream",
     "text": [
      "14846.428571428572\n",
      "14846.43\n"
     ]
    }
   ],
   "source": [
    "print(p_ideal(500, .01, 28))\n",
    "print(round(p_ideal(500, .01, 28),2))"
   ]
  },
  {
   "cell_type": "markdown",
   "id": "86a6739e-0ba4-4068-ac60-a2306fc694ae",
   "metadata": {},
   "source": [
    "#### Example"
   ]
  },
  {
   "cell_type": "markdown",
   "id": "4885b1e4-dcb9-458f-a758-d01c8e5f53d6",
   "metadata": {},
   "source": [
    "Now, let's solve for the pressure of N<sub>2</sub> gas ($M$ = 28 kg kmol<sup>-1</sup>), knowing the temperature is 500 K and $V$ is .01 m<sup>3</sup> with mass, $m$ equal to 2 kg. "
   ]
  },
  {
   "cell_type": "markdown",
   "id": "941ab520-5ad6-446c-9312-bc1325ae1a09",
   "metadata": {},
   "source": [
    "**Solution:** Simply call the function and input $T$, $v$ and $M$, undestanding that now we should insert the specific volume as $V/m$"
   ]
  },
  {
   "cell_type": "code",
   "execution_count": 4,
   "id": "758d3ab0-cd49-4348-90a8-df558cfd4ea6",
   "metadata": {},
   "outputs": [
    {
     "name": "stdout",
     "output_type": "stream",
     "text": [
      "29692.857142857145\n",
      "29692.86\n"
     ]
    }
   ],
   "source": [
    "print(p_ideal(500, .01/2, 28))\n",
    "print(round(p_ideal(500, .01/2, 28),2))"
   ]
  },
  {
   "cell_type": "markdown",
   "id": "86b9bef0-2d2b-4f4c-b0fc-4044cccdf398",
   "metadata": {
    "tags": []
   },
   "source": [
    "### **Optional** - Learning to use Minimize"
   ]
  },
  {
   "cell_type": "markdown",
   "id": "23b6e75e-0c93-4aa0-8aa1-016a5ec042cd",
   "metadata": {
    "tags": []
   },
   "source": [
    "```{index} minimize\n",
    "```"
   ]
  },
  {
   "cell_type": "markdown",
   "id": "a832f7ad-b376-4013-be88-46bea80637b7",
   "metadata": {
    "tags": []
   },
   "source": [
    "The function $p_{\\rm ideal}$ is nice if the goal is to solve for pressure, but it is not useful if solving for a different state property, such as $v$ or $T$. To solve for these other properties it would be necessary to define a second function, for example v_ideal, which is a function of $p$, $T$ and $M$. However, this would quickly become tedius if we were to take this approach for solving all problems of interest. Thus, to make the ideal gas EOS more universal in a Python script, a nice approach would be to create a function that takes the known and unknown variables, and solves for those that are unknown. "
   ]
  },
  {
   "cell_type": "markdown",
   "id": "a77f6fd5-03f1-48a5-aefa-3ebe1f46cbb8",
   "metadata": {},
   "source": [
    "To do this will require a bit more work on the front end because it will be more general than the prior functions. In order to solve for an unknown state variable we will arrange the ideal gas EOS so that everything is equal to zero. Then, knowing two of the three variables we will iterate to solve for the unknown by utilizing a minimizing function. We will write all of our variables into an array, $t$, such that the first index of $t$ is $t[0]$ which is representative of $p$, the second index of $t$ is $t[1]$ which represents $v$, the third index is $t[2]$ which is $T$ and the fourth index is $t[3]$ which is $M$. In Python, the first index of a list is called by referencing 0, the second by 1, and so on. We will also define $R$ by entering it as a function that depends on $M$."
   ]
  },
  {
   "cell_type": "code",
   "execution_count": 5,
   "id": "cd4ddece-20a4-4045-aeb0-8cde1efd3177",
   "metadata": {},
   "outputs": [],
   "source": [
    "def R(M):\n",
    "        return 8.314/M"
   ]
  },
  {
   "cell_type": "code",
   "execution_count": 6,
   "id": "5c2dbc4e-51ce-4522-aa9a-ba68a22d1e6b",
   "metadata": {},
   "outputs": [],
   "source": [
    "def idealEOS(t):\n",
    "    return abs(t[0]*t[1]-R(t[3])*t[2]) "
   ]
  },
  {
   "cell_type": "markdown",
   "id": "a0209090-50cd-43f0-9c1b-cdc47d505058",
   "metadata": {},
   "source": [
    "The reason for the $abs$ around the result is that we are going to {ref}`minimize <genindex>` the function idealEOS, where the correct result is equal to zero. However, without the $abs$ the minimize function would try to find a value much less than zero. Don't worry to much right now if you don't quite understand. Now, let's assign values for $p$, $v$ and $M$ for a situation where we are trying to solve for $T$. "
   ]
  },
  {
   "cell_type": "code",
   "execution_count": 7,
   "id": "f008b82f-c86e-457d-ac95-f869cecdf11e",
   "metadata": {},
   "outputs": [],
   "source": [
    "p,v,M = 14500,.01,28"
   ]
  },
  {
   "cell_type": "markdown",
   "id": "6997266b-178e-4dea-afad-8fa86c0b89a2",
   "metadata": {},
   "source": [
    "To evaluate the function idealEOS we need to input a list of 4 values, but we don't know temperature. We could guess a value for $T$ and see what the value of the function is, knowing that if we have guessed correctly if the function value approaches zero. For example, if we guess that $T$ = 600 K, our list t would look like the following. "
   ]
  },
  {
   "cell_type": "code",
   "execution_count": 8,
   "id": "f299a7c4-49f2-47cd-a4b7-ce5e1655dba4",
   "metadata": {},
   "outputs": [],
   "source": [
    "t = [p,v,600,M]"
   ]
  },
  {
   "cell_type": "markdown",
   "id": "94fcb78e-112a-4df3-9144-d046dd5191fe",
   "metadata": {},
   "source": [
    "We can see the value of the function by calling the list t inside the function idealEOS"
   ]
  },
  {
   "cell_type": "code",
   "execution_count": 9,
   "id": "92928596-7b9e-4b70-83ad-19cc2faf8965",
   "metadata": {},
   "outputs": [
    {
     "data": {
      "text/plain": [
       "33.157142857142844"
      ]
     },
     "execution_count": 9,
     "metadata": {},
     "output_type": "execute_result"
    }
   ],
   "source": [
    "idealEOS(t)"
   ]
  },
  {
   "cell_type": "markdown",
   "id": "3ee522c0-1f6e-4599-b19a-cf833225ef8b",
   "metadata": {},
   "source": [
    "We know that the function should be zero when the value of $T$ is correct. Therefore, 600K is not the correct temperature. At this point we could guess and check $T$ a few times until we converge on the correct value, or plot the function as a function of $T$ . For example, lets observe how the function varies as we change the value of T using $matplotlib$."
   ]
  },
  {
   "cell_type": "code",
   "execution_count": 10,
   "id": "0416a111-5ea2-468b-90d1-e0bd3ca383cc",
   "metadata": {},
   "outputs": [
    {
     "data": {
      "image/png": "[encoded data removed]",
      "text/plain": [
       "<Figure size 640x480 with 1 Axes>"
      ]
     },
     "metadata": {},
     "output_type": "display_data"
    }
   ],
   "source": [
    "import numpy as np # numpy is a powerful computing package\n",
    "temps=np.arange(400,600,10) # creates an array of values, from 400 to 600 with a spacing of 10\n",
    "t=[p,v,temps,M] \n",
    "import matplotlib.pyplot as plt # this package allows us to plot functions\n",
    "plt.plot(temps,idealEOS(t))\n",
    "plt.xlabel('Temperature, K')\n",
    "plt.ylabel('IdealEOS')\n",
    "plt.show()#needed to display plot"
   ]
  },
  {
   "cell_type": "markdown",
   "id": "71693c12-abb9-406b-8a31-1851f568495e",
   "metadata": {},
   "source": [
    "Here we can see that the minimum value of the function is near 480 K, which is the correct answer. "
   ]
  },
  {
   "cell_type": "markdown",
   "id": "2b65186f-4781-4041-8131-56eb5311ad0f",
   "metadata": {},
   "source": [
    "Our goal now is to utilize a minimize function that will iteratively vary the value of $T$ such that the function idealEOS is minimized, to arrive at the same result. In order to use the $minimize$ function in Python we will need to take a few steps. First, we need to define constraints. The constraints will be the known values for $p$,$v$,$T$ and $M$ (you will know 3 of the 4 values, where the fourth is the state variable you are solving for).  We write these as functions called $con1$, $con2$, $con3$ and $con4$. For the constraint $t[0]$ = $p$, in Python this is written as  $p-t[0]$, where $p$ was defined eariler, and so on..."
   ]
  },
  {
   "cell_type": "code",
   "execution_count": 11,
   "id": "01d44289-a495-4def-8537-c5624966a595",
   "metadata": {},
   "outputs": [],
   "source": [
    "def con1(t):\n",
    "    return p-t[0]\n",
    "def con2(t):\n",
    "    return v-t[1]\n",
    "def con3(t):\n",
    "    return T-t[2]\n",
    "def con4(t):\n",
    "    return M-t[3]"
   ]
  },
  {
   "cell_type": "markdown",
   "id": "1808ea84-94aa-46b4-8cdc-0712eb778513",
   "metadata": {},
   "source": [
    "We also need to give an initial guess for temperature. Lets keep it as 600 K. Thus,"
   ]
  },
  {
   "cell_type": "code",
   "execution_count": 12,
   "id": "40e9b3c9-cdbe-4b80-bdc9-3dbc675dd6c1",
   "metadata": {},
   "outputs": [],
   "source": [
    "t = [p,v,600,M] # These are our initial guesses"
   ]
  },
  {
   "cell_type": "markdown",
   "id": "09639471-e416-439e-a537-f3b36b14c7f8",
   "metadata": {},
   "source": [
    "To use the $minimize$ function we will have to import it and then define the constraints that we wish to apply. In this case if we are solving for $T$, our constraints ar $p$, $v$ and $M$, or $con1$, $con2$ and $con4$. These are the first two lines in the coded cell below. Constraints can be equalities or inequalities and we have to indicate they are equalities by defining the 'type' to be 'eq' and then indicating which functions we are using as the constraints. Then, inside the $minimize$ function in the third line we indicate the function we are minimzing ($idealEOS$), the initial guesses ($t$), and the constraints. We  equate the output of the $minimize$ function to $res$. The output we are interested in can be accessed by calling 'x', which gives the value of the array that minmizies the function, under the constraints provided. To see this we type $res.x$ as shown in the fourth line."
   ]
  },
  {
   "cell_type": "code",
   "execution_count": 13,
   "id": "92a234c8-f9cc-4684-997b-36a2864cb895",
   "metadata": {},
   "outputs": [
    {
     "data": {
      "text/plain": [
       "array([1.45000000e+04, 1.00000000e-02, 4.88332932e+02, 2.80000000e+01])"
      ]
     },
     "execution_count": 13,
     "metadata": {},
     "output_type": "execute_result"
    }
   ],
   "source": [
    "from scipy.optimize import minimize # scipy is a powerful scientific computing package\n",
    "cons = ({'type':'eq', 'fun': con1},{'type':'eq', 'fun': con2},{'type':'eq', 'fun': con4})# Here we formally indicate constraints for minimize function\n",
    "res=minimize(idealEOS,t,constraints=cons)\n",
    "res.x"
   ]
  },
  {
   "cell_type": "markdown",
   "id": "c2606b6b-3f56-4a74-a615-0beaa22250cc",
   "metadata": {},
   "source": [
    "Since we know $T$ is the third value in the list we could have also called $res.x[2]$ on the last line."
   ]
  },
  {
   "cell_type": "code",
   "execution_count": 14,
   "id": "ba3ec7e3-75f5-4256-b2b7-8ffc5fdb7476",
   "metadata": {},
   "outputs": [
    {
     "data": {
      "text/plain": [
       "np.float64(488.3329324097054)"
      ]
     },
     "execution_count": 14,
     "metadata": {},
     "output_type": "execute_result"
    }
   ],
   "source": [
    "res.x[2]"
   ]
  },
  {
   "cell_type": "markdown",
   "id": "bf07c210-de76-4f2e-a5c1-dac1a973905d",
   "metadata": {},
   "source": [
    "Now, lets see what this would look like putting everything together. Lets assume we know $T$ = 500 K, $v$ = 0.01 m<sup>3</sup> kg<sup>-1</sup> for Nitrogen ($M$ = 28 kg kmol<sup>-1</sup>), and we want to solve for pressure, $p$, in $\\frac{\\rm kN}{\\rm m^2}$ or kPa. All we need to do is define our new state variables and $M$, change the initial guess list, t, and change the constraints. We will guess $P$ is equal to 10000 kPa."
   ]
  },
  {
   "cell_type": "code",
   "execution_count": 15,
   "id": "f7631b7b-e0b1-499f-b3b0-6d47e4970d93",
   "metadata": {},
   "outputs": [
    {
     "data": {
      "text/plain": [
       "array([1.48464286e+04, 1.00000000e-02, 5.00000000e+02, 2.80000000e+01])"
      ]
     },
     "execution_count": 15,
     "metadata": {},
     "output_type": "execute_result"
    }
   ],
   "source": [
    "#p,v,M = 14500,.01,28\n",
    "T,v,M = 500,.01,28\n",
    "\n",
    "t = [10000,v,T,M] # These are our initial guesses\n",
    "\n",
    "cons = ({'type':'eq', 'fun': con2},{'type':'eq', 'fun': con3},{'type':'eq', 'fun': con4})# Here we formally indicate constraints for minimize function\n",
    "res=minimize(idealEOS,t,constraints=cons)\n",
    "res.x"
   ]
  },
  {
   "cell_type": "markdown",
   "id": "1b7c5e6a-54b6-4ca8-b585-e4ed4396c3d7",
   "metadata": {},
   "source": [
    "(Matplotlib)=\n",
    "### Visualizing Results using Matplotlib"
   ]
  },
  {
   "cell_type": "markdown",
   "id": "fb70fc0a-9cab-4e9d-96f9-3178c0f661e8",
   "metadata": {},
   "source": [
    "```{index} plotting, Matplotlib, arange\n",
    "```"
   ]
  },
  {
   "cell_type": "markdown",
   "id": "e2e51e5b-6bce-4cfe-b6a8-f8c7c5d00015",
   "metadata": {},
   "source": [
    "It can often be beneficial to display results graphically, for example, if you want to visualize how pressure changes with temperature. We saw above a brief example that plotted results of our minimization function using a function called {ref}`Matplotlib <genindex>`. In this section we will discuss in more detail to show how to {ref}`plot <genindex>` functions. To do so we will define pressure as a function of independent variables $T$, $v$ and $M$."
   ]
  },
  {
   "cell_type": "code",
   "execution_count": 16,
   "id": "d642762c-bbfe-4e66-b8fe-42bcaee1e8c3",
   "metadata": {},
   "outputs": [],
   "source": [
    "def p_ideal(T,v,M):\n",
    "    return 8.314*T/M/v"
   ]
  },
  {
   "cell_type": "markdown",
   "id": "7da2926f-6f70-43d6-a626-81682d505d65",
   "metadata": {},
   "source": [
    "Remember, we can insert arrays of values for $T$,$v$ or $M$, in addition to scalar values. For example, if we want to see how $p$ changes as temperatures varies from 700 K to 900 K, we can create an array for temperatures using the $np.arange$ function, and then insert this array into our function *P_ideal*. Lets assume $v$ = 0.01 m<sup>3</sup> kg<sup>-1</sup> and the gas is Nitrogen ($M$ = 28 kg kmol<sup>-1</sup>)"
   ]
  },
  {
   "cell_type": "code",
   "execution_count": 17,
   "id": "d985937d-adcd-4714-8391-c3803a8fb6c5",
   "metadata": {},
   "outputs": [
    {
     "name": "stdout",
     "output_type": "stream",
     "text": [
      "[20785.         21527.32142857 22269.64285714 23011.96428571\n",
      " 23754.28571429 24496.60714286 25238.92857143 25981.25      ]\n"
     ]
    }
   ],
   "source": [
    "temps = np.arange(700,900,25)\n",
    "print(p_ideal(temps,.01,28))"
   ]
  },
  {
   "cell_type": "markdown",
   "id": "f71453fb-4ef3-46de-be02-dfcf1ea8e738",
   "metadata": {},
   "source": [
    "As discussed in {numref}`Plotting` {ref}`Plotting`, to plot values using $matplotlib$ it is as simple importing the function $matplotlib.pyplot$, creating lists or arrays of x and y values to be plotted and inserting the lists we wish to plot into the function. For example, lets import $matplotlib$, create a list of x and y values and plot them. "
   ]
  },
  {
   "cell_type": "code",
   "execution_count": 18,
   "id": "1378e12d-be7e-4943-a165-c139e26e5d79",
   "metadata": {},
   "outputs": [
    {
     "data": {
      "image/png": "[encoded data removed]",
      "text/plain": [
       "<Figure size 640x480 with 1 Axes>"
      ]
     },
     "metadata": {},
     "output_type": "display_data"
    }
   ],
   "source": [
    "import matplotlib.pyplot as plt\n",
    "xvals = temps\n",
    "yvals = p_ideal(temps,.01,28)\n",
    "plt.plot(xvals,yvals)\n",
    "plt.show()"
   ]
  },
  {
   "cell_type": "markdown",
   "id": "e5e35a17-9cae-4b2e-9266-4315e69f1f01",
   "metadata": {},
   "source": [
    "There are numerous ways to make the plots look more customized, by changing the font type, size, colors, aspect ratios, tick marks, etc. But, this is outside the scope of this exercise. For now let's just label the x and y axis by using the functions $xlabel$ and $ylabel$."
   ]
  },
  {
   "cell_type": "code",
   "execution_count": 19,
   "id": "53faae65-222e-4ce5-93f0-e3981d4b7277",
   "metadata": {},
   "outputs": [
    {
     "data": {
      "image/png": "[encoded data removed]",
      "text/plain": [
       "<Figure size 640x480 with 1 Axes>"
      ]
     },
     "metadata": {},
     "output_type": "display_data"
    }
   ],
   "source": [
    "plt.plot(xvals,yvals)\n",
    "plt.xlabel('Temperature, K')\n",
    "plt.ylabel('Pressure, kPa')\n",
    "plt.show()"
   ]
  },
  {
   "cell_type": "markdown",
   "id": "6e01f989-26e5-438a-bed0-599a0ee105ac",
   "metadata": {},
   "source": [
    "### **Optional** - Lists and Plotting Using Output From Minimize"
   ]
  },
  {
   "cell_type": "markdown",
   "id": "1d9bbd57-ace6-4c00-b3f5-40d8afbecb27",
   "metadata": {},
   "source": [
    "As seen, inputting an array of values into a function generates a resulting array of values. However, it is not possible to input a list or array of values into the $minimize$ function. Thus, if we want to solve for multiple state variables using minimize, we would need to loop over the mimimize function and append the output to a list. For example, if we wanted to use the same array of temps and solve for pressure we could do the following."
   ]
  },
  {
   "cell_type": "code",
   "execution_count": 20,
   "id": "513c16aa-257d-4112-9c72-cc0e0cb03023",
   "metadata": {},
   "outputs": [
    {
     "name": "stdout",
     "output_type": "stream",
     "text": [
      "[np.float64(20785.000000529493), np.float64(21527.32142816202), np.float64(22269.642857129387), np.float64(23011.964284286223), np.float64(23754.285713875357), np.float64(24496.607139730266), np.float64(25238.928575756574), np.float64(25981.250000011623)]\n"
     ]
    }
   ],
   "source": [
    "cons = ({'type':'eq', 'fun': con2},{'type':'eq', 'fun': con3},{'type':'eq', 'fun': con4})# Here we formally indicate constraints for minimize function\n",
    "\n",
    "pres=[] #here we define an empty list for pressures that we will append results to during each loop\n",
    "for i in temps: #this loops from temp[0] to temp[1], etc\n",
    "    T,v,M = i,.01,28\n",
    "    t = [10000,v,i,M] # These are our initial guesses\n",
    "    res=minimize(idealEOS,t,constraints=cons)\n",
    "    pres.append(res.x[0])\n",
    "print(pres)"
   ]
  },
  {
   "cell_type": "markdown",
   "id": "4529e8d8-3846-40fd-aaf9-680d36101b7f",
   "metadata": {},
   "source": [
    "Then we can plot the same way as above."
   ]
  },
  {
   "cell_type": "code",
   "execution_count": 21,
   "id": "455311ff-ff99-4f66-944a-b007f0c58b7e",
   "metadata": {},
   "outputs": [
    {
     "data": {
      "image/png": "[encoded data removed]",
      "text/plain": [
       "<Figure size 640x480 with 1 Axes>"
      ]
     },
     "metadata": {},
     "output_type": "display_data"
    }
   ],
   "source": [
    "xvals = temps\n",
    "yvals = pres\n",
    "plt.plot(xvals,yvals)\n",
    "plt.xlabel('Temperature, K')\n",
    "plt.ylabel('Pressure, kPa')\n",
    "plt.show()"
   ]
  },
  {
   "cell_type": "markdown",
   "id": "5a6002fb-abb8-41dc-a341-677bbdf2c5dd",
   "metadata": {},
   "source": [
    "(Exercise1)=\n",
    "### Exercise 1"
   ]
  },
  {
   "cell_type": "markdown",
   "id": "facef826-aa8b-4370-bbd3-eb8187126492",
   "metadata": {},
   "source": [
    "1. A mass of 0.1 kg of helium (He, $M$<sub>He</sub> = 4 $\\frac{\\rm kg}{\\rm kmol}$) at 500 kPa is contained within a 0.4 m<sup>3</sup> rigid tank. The tank is\n",
    "heated until the pressure is 700 kPa. Calculate the temperature change of helium (in K) as a result of this heating.\n",
    "\n",
    "1. A rigid tank contains 3 kg of nitrogen (N<sub>2</sub>) at 35°C and 150 kPa. \n",
    "\n",
    "    1. Determine the specific volume ($v$) and absolute volume ($V$) using the ideal gas law. For this calculation define a function their function through rearrangement of \n",
    "\n",
    "    1. Determine the specific volume ($v$) and absolute volume ($V$) using the ideal gas law and a minimizing function.\n",
    "\n",
    "    1. Does the specific volume of the nitrogen change with temperature or pressure?\n",
    "\n",
    "    1. Plot the pressure as a function of temperature between 0°C and 500°C with and without using a minimizing function.\n",
    "\n",
    "    1. Now imagine it is connected to a second tank through a valve with volume 1m<sup>3</sup> also containing N<sub>2</sub> at 10°C and 450 kPa. The valve is opened, and\n",
    "        the entire system is allowed to reach thermal equilibrium with the surroundings, which are at 25°C. Determine the final equilibrium pressure of N<sub>2</sub>.\n",
    "\n",
    "1. A frictionless piston–cylinder contain 5 kg of nitrogen at 100 kPa and 250 K. The system is compressed until it reaches a final temperature of 450 K.  Assume the compression occurs according to to the relation $pV^2$ = constant. \n",
    "\n",
    "    1. Calculate the volume and pressure after compression.\n",
    "\n",
    "    1. Plot the pressure as a function of volume during the compression process.\n"
   ]
  },
  {
   "cell_type": "markdown",
   "id": "18baaa26-5d8c-4e0d-ad44-42dce7a65ad9",
   "metadata": {},
   "source": [
    "{numref}`Exercise1Solutions` {ref}`Exercise1Solutions`"
   ]
  },
  {
   "cell_type": "markdown",
   "id": "89bf45c2-4db4-40a7-8c9c-33e147c20bc1",
   "metadata": {},
   "source": [
    "## Phase Transitions, Other Equations of State and Cantera "
   ]
  },
  {
   "cell_type": "markdown",
   "id": "decf8dd3-bb93-4287-a0d8-ad61a3232f05",
   "metadata": {},
   "source": [
    "There are several other, relatively simple, equations of state that can more accurately describe the $P$,$v$,$T$ relationship of pure substances by, for example, taking into account intermolectular interactions that become important at higher $P$, lower $T$ or lower $v$. In general, the approach to solving for state properties with these other EOS is conceptually similar to using the ideal gas EOS described above. These relatively simple equations can usually work well for gases but should not be used for two phase substances (e.g., liquid-vapor mixtures), or substances that are near the phase transition points or critical points. In these situtations, more complicated equations of state must be used that are computationally difficult to solve, and typically software have been developed to perform these computations, or values are tabulated. To solve for properties of pure substances that are not ideal we will take advantage of the Cantera package in Python that has complex equations of state for many pure substances - thus,  reaching into the appendices of your thermodynamics textbook and interpolating or extrapolating values from tables will not be necessary! But before we get there, a bit more background on phase changes will be discussed."
   ]
  },
  {
   "cell_type": "markdown",
   "id": "4d76a66e-c911-433f-953a-494b3221eadb",
   "metadata": {},
   "source": [
    "```{index} phase transition, compressed liquid, saturated liquid, saturated mixture, saturated vapor, superheated vapor, saturated temperature\n",
    "```"
   ]
  },
  {
   "cell_type": "markdown",
   "id": "f5776ed7-38df-4a17-9052-0208eb2ba245",
   "metadata": {},
   "source": [
    "There are many situations where pure substances undergo a {ref}`phase transition <genindex>`, where two or more phases can co-exist in equilibrium. For example, H<sub>2</sub>O is a well known molecule that we have experience with as either solid, liquid, vapor, or a mixture of these depending on its temperature and pressure. Imagine heating liquid H<sub>2</sub>O contained in a vertically oriented piston-cylinder device, where the piston is free to move, as shown in {numref}`Figure %s <eval fig a>`. Initially, at the temperature where heating begins (State 1), if we were to add an incremental amount of heat and it were remain a liquid (State 2), it is called a {ref}`compressed liquid <genindex>`. Thus, the compressed liquid region is where a liquid is not about to vaporize. During this heat addition, the temperature will increase but there is very little change in the specific volume. If heat is added until the point where the addition of any more heat would cause it to vaporize, or boil, this is referred to as a {ref}`saturated liquid <genindex>` (State 3).  For H<sub>2</sub>O, at ambient pressure of 1 bar, this occurs near 100 °C. After this point, as heat continues to be added to the system, H<sub>2</sub>O begins to vaporize and change phase and forms a {ref}`saturated mixture <genindex>`, composed of both liquid and vapor (State 4). During this phase transition, the temperature remains constant, but the specific volume increases as the fraction of vapor increases. If more heat is added just until the last fraction of liquid has vaporized (or the point where vapor is about to condense), it is referred to as a {ref}`saturated vapor <genindex>` (State 5). Then, as more heat is added, the specific volume continues to increase along with temperature and in this region is referred to as a {ref}`superheated vapor <genindex>` (State 6). The temperature at which a fluid transitions from liquid to vapor, or vapor to liquid, at a specified pressure is referred to as the {ref}`saturated temperature <genindex>` ($T_{\\rm sat}$).The pressure at which a fluid transitions from liquid to vapor, or vapor to liquid at a specified temperature is referred to as the {ref}`saturated pressure <genindex>` ($P_{\\rm sat}$)."
   ]
  },
  {
   "cell_type": "markdown",
   "id": "82e7cdff-542b-4615-9fb2-72d452351909",
   "metadata": {},
   "source": [
    "```{figure} Figures/phase_transition.png\n",
    "---\n",
    "name: eval fig a\n",
    "---\n",
    "From left to right - the phase transition of H<sub>2</sub>O from a compressed liquid to superheated vapor in a piston cylinder that is free to move.\n",
    "```"
   ]
  },
  {
   "cell_type": "markdown",
   "id": "b19508eb-5e3d-4ec3-9e73-5240f2025510",
   "metadata": {},
   "source": [
    "During the entire heating process described above, if the mass of the piston is constant and the external pressure is constant, then the pressure contained within the cyclinder can be assumed to remain constant as it rises during heating. This is an idealized approximation but a good one as long as the expansion (or contraction) occurs very slowly, or reversibly, as we will learn about in later chapters. We can see this from a force balance on the piston ({numref}`Figure %s <eval fig b>`), where:"
   ]
  },
  {
   "cell_type": "markdown",
   "id": "0e9c87e3-0fb1-45c4-8c83-bf8538bece7b",
   "metadata": {},
   "source": [
    "$\\sum F = 0$"
   ]
  },
  {
   "cell_type": "markdown",
   "id": "4f0fd974-13a4-4498-8522-a938d28c8143",
   "metadata": {},
   "source": [
    "thus, $\\sum F_{\\rm up} = \\sum F_{\\rm down}$"
   ]
  },
  {
   "cell_type": "markdown",
   "id": "3ff7a350-9559-4fd8-a2e1-97e4e8e82662",
   "metadata": {},
   "source": [
    "thus, $p_{\\rm ext}A_{\\rm piston} + m_{\\rm piston}g = p_{\\rm int}A_{\\rm piston}$, where $p_{\\rm ext}$ is the pressure external to the piston, typically atmospheric and assumed constant, $A_{\\rm piston}$ is the cross-sectional area of the piston which is constant, $m_{\\rm piston}$ is the piston mass which is constant, $g$ is the acceleration due to gravity which is constant and $p_{\\rm int}$ is the pressure inside the piston-cylinder."
   ]
  },
  {
   "cell_type": "markdown",
   "id": "40dc22f9-b0f5-411b-99bc-240c4a63fd17",
   "metadata": {},
   "source": [
    "thus, $p_{\\rm int} =  {\\rm Constant}$"
   ]
  },
  {
   "cell_type": "markdown",
   "id": "90b580e4-9ab9-4a65-bbbd-662a14db360d",
   "metadata": {},
   "source": [
    "```{figure} Figures/piston_force_balance.png\n",
    "---\n",
    "name: eval fig b\n",
    "---\n",
    "A simplified view of the internal and external forces acting on a piston during expansion or compression. The downwards acting forces are due to the external pressure and mass of the piston, while the upwards acting forces are a result of the internal pressure in the cylinder.\n",
    "```"
   ]
  },
  {
   "cell_type": "markdown",
   "id": "ecc0e616-c5a9-463e-a7c9-9956c8fecd0c",
   "metadata": {},
   "source": [
    "### Using Cantera to Evaluate Properties"
   ]
  },
  {
   "cell_type": "markdown",
   "id": "609bcd04-880b-4f09-bbef-22a93e9f68a6",
   "metadata": {},
   "source": [
    "```{index} Cantera\n",
    "```"
   ]
  },
  {
   "cell_type": "markdown",
   "id": "431766e8-2093-489e-a518-f0483dfb9b44",
   "metadata": {},
   "source": [
    "As mentioned, it would not be suitable to use the ideal gas EOS to determine property values during the aforementioned heating process, except in the superheated region far away from the saturated vapor points - see further discussion below in {numref}`IdealGasCompare` {ref}`IdealGasCompare`. Typically, tabulated values calculated from more complex equations of state would be used, coupled with interpolation and extrapolation which can be both tedius and introduce error. To avoid this and to enable evaluation easily within our Python scripts, we will use {ref}`Cantera <genindex>` (As mentioned in {numref}`Cantera` {ref}`Cantera`), a Python package useful for evaluating properties of pure substances that can evaluate EOS's with relative ease. "
   ]
  },
  {
   "cell_type": "markdown",
   "id": "0039223b-7706-43ce-8ff5-d752d6b4a32e",
   "metadata": {},
   "source": [
    "Let's use Cantera to show how the specific volume and temperature change during the phase transition of H<sub>2</sub>O at constant pressure, as exemplified by the piston-cylinder example above in {numref}`Figure %s <eval fig a>`. At this point, you should have already installed the Cantera package. Be sure to navigate to the correct environment in anaconda - refer to {numref}`Cantera` {ref}`Cantera`). Import cantera and define a species as H<sub>2</sub>O, like below."
   ]
  },
  {
   "cell_type": "code",
   "execution_count": 22,
   "id": "ec53d77b-3746-42c5-99a5-e33843cdd29c",
   "metadata": {},
   "outputs": [],
   "source": [
    "import cantera as ct\n",
    "species1 = ct.Water()# define species1 as water"
   ]
  },
  {
   "cell_type": "markdown",
   "id": "a10a32c9-e91d-4411-8a40-6f7b70c2af98",
   "metadata": {},
   "source": [
    "We will start by assuming the process begins at ambient pressure (100 kPa) and temperature (298.15 K), and that the entire heating process occurs at constant pressure. To calculate property values, we will need to know any two independent properties (more on this later) and this will fully define the state of our system. For example, we can define the temperature and pressure as follows to fix the state of our system."
   ]
  },
  {
   "cell_type": "code",
   "execution_count": 23,
   "id": "75217d50-35eb-4a7f-8593-3406f4ef6f5a",
   "metadata": {},
   "outputs": [],
   "source": [
    "species1.TP = 273.15+25, 100000 #Redefine Temperature in K and Pressure in Pa at State 1"
   ]
  },
  {
   "cell_type": "markdown",
   "id": "316ae553-1cf2-40a2-8488-df0e3bed6dee",
   "metadata": {},
   "source": [
    "And after the state is fixed, we can determine the specific volume by calling $species1$ preceded by $.PV[1]$. Without the addition of $[1]$ both the pressure and specific volume would be displayed, as shown in the first line of code below. The $[1]$ ensures that we only select the second value in the list, or specific volume, as shown in the second line of code below."
   ]
  },
  {
   "cell_type": "code",
   "execution_count": 24,
   "id": "8360b615-f0da-47f9-ba3c-c4a1e6c1fc2b",
   "metadata": {},
   "outputs": [
    {
     "data": {
      "text/plain": [
       "(99999.99997029465, 0.0010028874407073288)"
      ]
     },
     "execution_count": 24,
     "metadata": {},
     "output_type": "execute_result"
    }
   ],
   "source": [
    "species1.PV # will output a list of the pressure in Pa and specific volume in m^3 per kg"
   ]
  },
  {
   "cell_type": "code",
   "execution_count": 25,
   "id": "e49d313f-0c30-4b08-9563-a724ab84228b",
   "metadata": {},
   "outputs": [
    {
     "data": {
      "text/plain": [
       "0.0010028874407073288"
      ]
     },
     "execution_count": 25,
     "metadata": {},
     "output_type": "execute_result"
    }
   ],
   "source": [
    "species1.PV[1] #will output only specific volume in m^3 per kg"
   ]
  },
  {
   "cell_type": "markdown",
   "id": "639def06-638b-4d91-b777-a5bda7bedd4c",
   "metadata": {},
   "source": [
    "If you are unsure of the units you can always type the species name followed by parenthesis in an empty cell, like below. As seen, units for density are shown as $\\frac{\\rm kg}{\\rm m^3}$, and specific volume therefore has the inverse of this, or $\\frac{\\rm m^3}{\\rm kg}$"
   ]
  },
  {
   "cell_type": "code",
   "execution_count": 26,
   "id": "45042edf-ea54-4843-8fa5-c7c727fdedeb",
   "metadata": {},
   "outputs": [
    {
     "name": "stdout",
     "output_type": "stream",
     "text": [
      "\n",
      "  water:\n",
      "\n",
      "       temperature   298.15 K\n",
      "          pressure   1e+05 Pa\n",
      "           density   997.12 kg/m^3\n",
      "  mean mol. weight   18.016 kg/kmol\n",
      "    vapor fraction   0\n",
      "   phase of matter   liquid\n",
      "\n",
      "                          1 kg             1 kmol     \n",
      "                     ---------------   ---------------\n",
      "          enthalpy       -1.5866e+07       -2.8584e+08  J\n",
      "   internal energy       -1.5866e+07       -2.8584e+08  J\n",
      "           entropy            3887.3             70034  J/K\n",
      "    Gibbs function       -1.7025e+07       -3.0672e+08  J\n",
      " heat capacity c_p            4182.4             75350  J/K\n",
      " heat capacity c_v            4139.6             74579  J/K\n",
      "\n"
     ]
    }
   ],
   "source": [
    "species1()"
   ]
  },
  {
   "cell_type": "markdown",
   "id": "b658c8d3-9c01-46fd-b9a6-fa82f516ded4",
   "metadata": {},
   "source": [
    "As mentioned, we need to provide two independent properties to fully define the state of our system and determine other state properties. However, temperature and pressure are not always independent, for example in the phase change region. This is because during a phase change temperature and pressure remain constant, while specific volume increases. Therefore, constraining only $T$ and $P$ in the region where the phase is changing does not provide enough information to determine specific volume or other state properties. Therefore, rather than defining temperature and pressure, we can alternatively define pressure and specific volume to calculate the corresponding temperature, like below. "
   ]
  },
  {
   "cell_type": "code",
   "execution_count": 27,
   "id": "6dcbacba-6aa8-4eab-830d-108495236f43",
   "metadata": {},
   "outputs": [],
   "source": [
    "species1.PV = 100000,.001003 # Redefine pressure in Pa at State 1 and specific volume"
   ]
  },
  {
   "cell_type": "code",
   "execution_count": 28,
   "id": "cc684a86-2bb9-4080-aaa4-edf4ca43b258",
   "metadata": {},
   "outputs": [
    {
     "data": {
      "text/plain": [
       "(298.5856144896108, 0.001003)"
      ]
     },
     "execution_count": 28,
     "metadata": {},
     "output_type": "execute_result"
    }
   ],
   "source": [
    "species1.TV # we can see the temperature is nearly 298.15, but not exactly, with differences due to rounding"
   ]
  },
  {
   "cell_type": "markdown",
   "id": "c6562b3c-0b6c-453c-bdf5-3ce00da14a32",
   "metadata": {},
   "source": [
    "Now, lets calculate a range of temperatures during the heating process in the piston-cylinder by defining a range of volumes where it is to be calculated. To do this, we can create a list of specific volumes, ranging from .001003 to 2, like below."
   ]
  },
  {
   "cell_type": "code",
   "execution_count": 29,
   "id": "4c4fe754-738d-4977-b478-e14441a1ffe6",
   "metadata": {},
   "outputs": [],
   "source": [
    "vols = np.arange(0.001003,2,.00001)"
   ]
  },
  {
   "cell_type": "markdown",
   "id": "2aa5ffa9-8ab0-4ed5-b88f-cb476966d019",
   "metadata": {},
   "source": [
    "Then, we can determine temperature at each of these volumes by iterating through the list of volumes, setting the pressure and volume at each iteration and appending the resulting temperature to a new list."
   ]
  },
  {
   "cell_type": "code",
   "execution_count": 30,
   "id": "c619fb01-104a-40c5-9db1-e4a8333d103f",
   "metadata": {},
   "outputs": [],
   "source": [
    "temps=[] # create an empty list called temps\n",
    "for i in vols: # iterate over each value in vols, i.e. .001003,.0010013,.0010023, etc\n",
    "    species1.PV = 100000,i # set the pressure and ith volume\n",
    "    temps.append(species1.TV[0]) # append the temperature value (species1.TV[0]) at the specified pressure and volume to the temps list   "
   ]
  },
  {
   "cell_type": "markdown",
   "id": "82914860-d308-4ac7-a6b7-000f74df3693",
   "metadata": {},
   "source": [
    "```{index} vectorize\n",
    "```"
   ]
  },
  {
   "cell_type": "markdown",
   "id": "bffd92aa-ede7-4969-95e6-f6cfa9346b64",
   "metadata": {},
   "source": [
    "The reason we needed to iterate is that we can only evaluate temperature with a single volume, not a list or array of values. Cantera will not accept anything but scalar inputs, unlike functions which can also accept a list of values. Understandably, if iterating using loops at this point is a bit intimidating, we can alternatively take advantage of a function called {ref}`vectorize <genindex>` within the numpy package. By using the vectorize function we can input a list of values, or volumes in this case, rather than only one at a time. To do this we first need to define a function that we call $temps$ below. Right now this would only accept a single scalar value as it's input"
   ]
  },
  {
   "cell_type": "code",
   "execution_count": 31,
   "id": "70d5a652-8a4f-4fea-920e-24603ea29013",
   "metadata": {},
   "outputs": [],
   "source": [
    "def temp(vol):\n",
    "    species1.PV = 100000,vol\n",
    "    return species1.TV[0]"
   ]
  },
  {
   "cell_type": "markdown",
   "id": "099a2e03-2657-415a-a961-8bebabb5e9d1",
   "metadata": {},
   "source": [
    "However, to enable this function to accept an array of values, we then $vectorize$ it by including the function $temps$ in the function $np.vectorize$, and calling this $tempsvector$."
   ]
  },
  {
   "cell_type": "code",
   "execution_count": 32,
   "id": "fa0f2c81-5c2e-4eb1-b36f-6af146d60e4d",
   "metadata": {},
   "outputs": [],
   "source": [
    "tempsvector=np.vectorize(temp)"
   ]
  },
  {
   "cell_type": "markdown",
   "id": "9e544be9-7659-4807-a290-a3150ad4fa4a",
   "metadata": {},
   "source": [
    "The result is the same as using the iterative approach above. Try for yourself by inputing  an array of volumes into tempsvector. See below."
   ]
  },
  {
   "cell_type": "code",
   "execution_count": 33,
   "id": "bdaff9d7-6f57-49f1-b876-4ea02242b1c4",
   "metadata": {},
   "outputs": [
    {
     "data": {
      "text/plain": [
       "array([372.80884382, 372.80884382, 372.80884382, 372.80884382])"
      ]
     },
     "execution_count": 33,
     "metadata": {},
     "output_type": "execute_result"
    }
   ],
   "source": [
    "test_vols = np.arange(0.01,.05,.01)\n",
    "tempsvector(test_vols)"
   ]
  },
  {
   "cell_type": "markdown",
   "id": "1da8992f-0ead-4594-b91b-ae8945af4e4f",
   "metadata": {},
   "source": [
    "```{index} plotting, Matplotlib\n",
    "```"
   ]
  },
  {
   "cell_type": "markdown",
   "id": "78e6662c-5fde-49f8-80f0-59a81cfd0c22",
   "metadata": {},
   "source": [
    "Now, we can plot the resulting $temps$ list as a function of $vols$ list, like below and as we did above in {numref}`Matplotlib` {ref}`Matplotlib`. The basic plotting is the same but we have added some annotations, which you can see by calling the \".annotate\" function."
   ]
  },
  {
   "cell_type": "code",
   "execution_count": 34,
   "id": "59c5bda6-e34e-45b8-a121-b2cecd33eb3b",
   "metadata": {
    "tags": [
     "hide-cell"
    ]
   },
   "outputs": [
    {
     "name": "stderr",
     "output_type": "stream",
     "text": [
      "<>:4: SyntaxWarning: invalid escape sequence '\\m'\n",
      "<>:5: SyntaxWarning: invalid escape sequence '\\m'\n",
      "<>:6: SyntaxWarning: invalid escape sequence '\\m'\n",
      "<>:7: SyntaxWarning: invalid escape sequence '\\m'\n",
      "<>:4: SyntaxWarning: invalid escape sequence '\\m'\n",
      "<>:5: SyntaxWarning: invalid escape sequence '\\m'\n",
      "<>:6: SyntaxWarning: invalid escape sequence '\\m'\n",
      "<>:7: SyntaxWarning: invalid escape sequence '\\m'\n",
      "/tmp/ipykernel_15723/3770111974.py:4: SyntaxWarning: invalid escape sequence '\\m'\n",
      "  plt.xlabel('$v$ $(\\mathrm{m^3} \\mathrm{kg^{-1}})$',  fontsize=12)\n",
      "/tmp/ipykernel_15723/3770111974.py:5: SyntaxWarning: invalid escape sequence '\\m'\n",
      "  plt.ylabel('$T$ $({\\mathrm{K})}$',  fontsize=12)\n",
      "/tmp/ipykernel_15723/3770111974.py:6: SyntaxWarning: invalid escape sequence '\\m'\n",
      "  plt.annotate('Saturated Liquid Point, $v_\\mathrm{f}$', (0,375), (0.15,400), arrowprops=dict(color='orange', shrink=0.05), fontsize=12)\n",
      "/tmp/ipykernel_15723/3770111974.py:7: SyntaxWarning: invalid escape sequence '\\m'\n",
      "  plt.annotate('Saturated Vapor Point, $v_\\mathrm{g}$', (1.70,370), (1.05,345), arrowprops=dict(color='orange', shrink=0.05), fontsize=12)\n"
     ]
    },
    {
     "data": {
      "image/png": "[encoded data removed]",
      "text/plain": [
       "<Figure size 640x480 with 1 Axes>"
      ]
     },
     "metadata": {},
     "output_type": "display_data"
    }
   ],
   "source": [
    "import numpy as np\n",
    "import matplotlib.pyplot as plt\n",
    "plt.plot(vols,temps,color='blue')\n",
    "plt.xlabel('$v$ $(\\mathrm{m^3} \\mathrm{kg^{-1}})$',  fontsize=12)\n",
    "plt.ylabel('$T$ $({\\mathrm{K})}$',  fontsize=12)\n",
    "plt.annotate('Saturated Liquid Point, $v_\\mathrm{f}$', (0,375), (0.15,400), arrowprops=dict(color='orange', shrink=0.05), fontsize=12)\n",
    "plt.annotate('Saturated Vapor Point, $v_\\mathrm{g}$', (1.70,370), (1.05,345), arrowprops=dict(color='orange', shrink=0.05), fontsize=12)\n",
    "plt.annotate('$p$ = 100 kPa', (0.5,377), color='Blue', fontsize=12)\n",
    "plt.savefig('Figures/sat_liquid_vapor.png')# used to save the figure if you desire\n",
    "plt.show()"
   ]
  },
  {
   "cell_type": "markdown",
   "id": "556f9088-4cbf-4647-8425-630fafd21dd2",
   "metadata": {},
   "source": [
    "```{figure} Figures/sat_liquid_vapor.png\n",
    ":name: properties fig a\n",
    "\n",
    "Temperature versus specific volume at constant pressure of 100 kPa. Notice how temperature remains constant during the phase transition, between the saturated liquid point and saturated vapor point.\n",
    "```"
   ]
  },
  {
   "cell_type": "markdown",
   "id": "944313d4-bc6e-4326-ac03-aafecf660e7b",
   "metadata": {},
   "source": [
    "The saturated liquid and saturated vapor points, where the phase transition begins and ends, can be seen above and as mentioned prior, temperature remains constant in this region. We can see that ($T_{\\rm sat}$) is about 373 K (it is exactly 372.76 K) at 100 kPa. Thus, ($P_{\\rm sat}$) is 100 kPa at a temperature of 372.76 K. The specific volume of a saturated liquid, denoted by the symbol $v_\\rm f$, and the specific volume of a saturated vapor by $v_\\rm g$. Notice that the specific volume in the compressed liquid region is for the most part independent of temperature."
   ]
  },
  {
   "cell_type": "markdown",
   "id": "64a0c9df-3243-4377-aa6b-b44286499808",
   "metadata": {},
   "source": [
    "### Quality"
   ]
  },
  {
   "cell_type": "markdown",
   "id": "86b18a51-f6df-4b7c-bb36-452a08fad385",
   "metadata": {},
   "source": [
    "```{index} quality\n",
    "```"
   ]
  },
  {
   "cell_type": "markdown",
   "id": "6f4f4f83-e951-45d9-b20f-897af6886a8c",
   "metadata": {},
   "source": [
    "At this point, it makes sense to introduce a new, intensive thermodynamic property called {ref}`quality <genindex>` ($x$), which is a measure of the fraction of vapor in the system. Thus, quality can range from 0 at the saturated liquid point to 1 at the saturated vapor point. Mathematically, quality is defined as the mass of vapor ($m_\\rm {vapor}$) relative to the total mass($m$), or:"
   ]
  },
  {
   "cell_type": "markdown",
   "id": "8948b055-5763-4f31-94d3-a0f97e57c53c",
   "metadata": {},
   "source": [
    "```{math}\n",
    ":label: eq_e\n",
    "x = \\frac{m_\\rm {vapor}}{m_\\rm {total}}\n",
    "```"
   ]
  },
  {
   "cell_type": "markdown",
   "id": "bfc72041-3cf9-4ac3-962d-8b02b7a16183",
   "metadata": {},
   "source": [
    "Quality is related to $v$, $v_\\rm f$ and $v_\\rm g$. This can be derived by understanding that the total volume of the system ($V$) is composed of liquid and vapor, or $V_\\rm f$ and $V_\\rm g$. Therefore:"
   ]
  },
  {
   "cell_type": "markdown",
   "id": "fce313e3-92ff-4677-895b-1b2370573023",
   "metadata": {},
   "source": [
    "```{math}\n",
    ":label: eq_e\n",
    "V = V_\\rm f + V_\\rm g\n",
    "```"
   ]
  },
  {
   "cell_type": "markdown",
   "id": "2fb686a5-22b4-425c-bc7d-75fc8f9225b5",
   "metadata": {},
   "source": [
    "```{math}\n",
    ":label: eq_f\n",
    "m v = m_\\rm f v_\\rm f + m_\\rm g v_\\rm g\n",
    "```"
   ]
  },
  {
   "cell_type": "markdown",
   "id": "88d2902b-9ed8-49dd-8ea3-e132ca3a3eac",
   "metadata": {},
   "source": [
    "```{math}\n",
    ":label: eq_g\n",
    "v = (1-x)v_\\rm f + xv_\\rm g\n",
    "```"
   ]
  },
  {
   "cell_type": "markdown",
   "id": "68be9192-5198-438c-9178-8796ea18184a",
   "metadata": {},
   "source": [
    "```{math}\n",
    ":label: eq_h\n",
    "v = x(v_\\rm g-v_\\rm f)+v_\\rm f\n",
    "```"
   ]
  },
  {
   "cell_type": "markdown",
   "id": "e9551c22-180b-4c89-b46e-409f743362ec",
   "metadata": {},
   "source": [
    "In Cantera, we can set or call the quality of a species in the two phase region by following the $species1$ with $.PQ$ or $.TQ$ where $Q$ is the quality, or vapor fraction. For example, lets set the quality to 0 and 1 at a pressure of 100 kPa and read out temperature and specific volume. "
   ]
  },
  {
   "cell_type": "code",
   "execution_count": 35,
   "id": "ffaf4415-0a2d-410e-a99d-9da042b7e13f",
   "metadata": {},
   "outputs": [
    {
     "data": {
      "text/plain": [
       "(372.8088438181153, 0.0010432439474862992)"
      ]
     },
     "execution_count": 35,
     "metadata": {},
     "output_type": "execute_result"
    }
   ],
   "source": [
    "species1.PQ = 100000,0\n",
    "species1.TV"
   ]
  },
  {
   "cell_type": "code",
   "execution_count": 36,
   "id": "961398be-9a58-428b-bcde-ab1ab9cffda8",
   "metadata": {},
   "outputs": [
    {
     "data": {
      "text/plain": [
       "(372.8088438181153, 1.694166798232878)"
      ]
     },
     "execution_count": 36,
     "metadata": {},
     "output_type": "execute_result"
    }
   ],
   "source": [
    "species1.PQ = 100000,1\n",
    "species1.TV"
   ]
  },
  {
   "cell_type": "markdown",
   "id": "9a4ef068-1924-466c-b8e8-d8615b827190",
   "metadata": {},
   "source": [
    "```{index} critical pressure, critical temperature, supercritical fluid, saturation dome\n",
    "```"
   ]
  },
  {
   "cell_type": "markdown",
   "id": "fe2ea04c-9ddb-4a66-81b3-91e057746005",
   "metadata": {},
   "source": [
    "As seen, the outputs compare well with the $T-v$ diagram above. Now lets construct a series of saturation points at different pressures using this new tool. We will vary our calculations from 10 kPa to 22.06 MPa. The reason for selecting 22.06 MPa is that this is right below the {ref}`critical pressure <genindex>` ($P_{\\rm crit}$) for H<sub>2</sub>O. The critical pressure is the point at which, when the pressure is increased beyond it, the substance becomes a {ref}`supercritical fluid <genindex>`. Likewise, the {ref}`critical temperature <genindex>` ($T_{\\rm crit}$), which occurs at $P_{\\rm crit}$ (and vice versa) is the point at which, when the temperature is increased beyond it, the substance becomes a {ref}`supercritical fluid <genindex>`.  A supercritical fluid is one in that is neither liquid or vapor, and in this higher pressure range there is no phase change that occurs. Lets construct the list of pressures like below."
   ]
  },
  {
   "cell_type": "code",
   "execution_count": 37,
   "id": "16d8fc77-fc95-4191-af32-6ef1e9e719d1",
   "metadata": {},
   "outputs": [],
   "source": [
    "pres = np.arange(10000,22060000,10000) # pressure in Pa"
   ]
  },
  {
   "cell_type": "markdown",
   "id": "e28afd85-20a8-4989-aef1-69ae5edf8e07",
   "metadata": {},
   "source": [
    "Then, lets calulate the associated saturated fluid specific volumes ($v_{\\rm f}$ and $v_{\\rm g}$) and saturated temperatures ($T_{\\rm sat}$) at each pressure. To do this we will again iterate over each pressure and set the quality to 0 when we calculate $v_{\\rm f}$ and 1 when we calculate $v_{\\rm g}$. To determine the saturated temperature we can use either quality (or anything in between), since this is constant in the saturated region. We will break these calculations down into three separate cells for visualization purposes below, but of course they could all be done within the same loop. Lets first calculate the $v_{\\rm f}$ values."
   ]
  },
  {
   "cell_type": "code",
   "execution_count": 38,
   "id": "663580f2-0158-4c9d-a84a-cbca40c58739",
   "metadata": {},
   "outputs": [],
   "source": [
    "vfs=[] # create an empty list called vfs that will store our saturated fluid volumes at the different pressures\n",
    "for i in pres: # iterate over each value in pres, i.e. 10000,20000,30000, etc\n",
    "    species1.PQ = i,0 # set the ith pressure and quality of 0 to get saturated fluid values\n",
    "    vfs.append(species1.TV[1]) # append the vf value (species1.TV[1]) at the specified pressure and quality to the vfs list"
   ]
  },
  {
   "cell_type": "markdown",
   "id": "158887b7-357d-43bd-bdd5-1579981b10a2",
   "metadata": {},
   "source": [
    "Then lets calculate $v_{\\rm g}$ values."
   ]
  },
  {
   "cell_type": "code",
   "execution_count": 39,
   "id": "5bfecf8e-89a8-406d-851b-b8cd052d10cc",
   "metadata": {},
   "outputs": [],
   "source": [
    "vgs=[] # create an empty list called vgs that will store our saturated vapor volumes at the different pressures\n",
    "for i in pres: # iterate over each value in pres, i.e. 10000,20000,30000, etc\n",
    "    species1.PQ = i,1 # set the ith pressure and quality of 1 so we can get saturated vapor values\n",
    "    vgs.append(species1.TV[1]) # append the vg value (species1.TV[1]) at the specified pressure and quality to the vgs list"
   ]
  },
  {
   "cell_type": "markdown",
   "id": "4dad7ef5-ec8a-4603-b390-ce140309eff6",
   "metadata": {},
   "source": [
    "Then lets calculate $T_{\\rm sat}$ values. Remember, we can use any quality between 0 and 1 - we will use 0."
   ]
  },
  {
   "cell_type": "code",
   "execution_count": 40,
   "id": "8d2602d7-f7a0-4e2a-b62a-01acb18de15c",
   "metadata": {},
   "outputs": [],
   "source": [
    "sattemps = [] # create an empty list called sattemps that will store our saturated temperatures the different pressures\n",
    "for i in pres: # iterate over each value in pres, i.e. 10000,20000,30000, etc\n",
    "    species1.PQ = i,0 # set the ith pressure and quality of 0 to get saturated values\n",
    "    sattemps.append(species1.TV[0]) # append the saturated temperature value (species1.TV[0]) at the specified pressure and quality. The quality could have been anything between 0 and 1 because T_sat remains constant"
   ]
  },
  {
   "cell_type": "markdown",
   "id": "0bd9490d-5fba-4f6f-951e-449b8cd2939f",
   "metadata": {},
   "source": [
    "Then, we can plot the resulting $sattemps$ list as a function of the $vfs$ and $vgs$ lists, like below. The basic plotting is the same as before but instead of calling $plt.plot()$ we have used $plt.semilogx()$ in order to show the x-values in log scale."
   ]
  },
  {
   "cell_type": "code",
   "execution_count": 41,
   "id": "edc9be8d-7113-4a6a-80a5-a8a9a8620286",
   "metadata": {
    "tags": [
     "hide-cell"
    ]
   },
   "outputs": [
    {
     "name": "stderr",
     "output_type": "stream",
     "text": [
      "<>:6: SyntaxWarning: invalid escape sequence '\\m'\n",
      "<>:7: SyntaxWarning: invalid escape sequence '\\m'\n",
      "<>:8: SyntaxWarning: invalid escape sequence '\\m'\n",
      "<>:9: SyntaxWarning: invalid escape sequence '\\m'\n",
      "<>:11: SyntaxWarning: invalid escape sequence '\\m'\n",
      "<>:6: SyntaxWarning: invalid escape sequence '\\m'\n",
      "<>:7: SyntaxWarning: invalid escape sequence '\\m'\n",
      "<>:8: SyntaxWarning: invalid escape sequence '\\m'\n",
      "<>:9: SyntaxWarning: invalid escape sequence '\\m'\n",
      "<>:11: SyntaxWarning: invalid escape sequence '\\m'\n",
      "/tmp/ipykernel_15723/1448736236.py:6: SyntaxWarning: invalid escape sequence '\\m'\n",
      "  plt.xlabel('$v$ $(\\mathrm{m^3} \\mathrm{kg^{-1}})$',  fontsize=12)\n",
      "/tmp/ipykernel_15723/1448736236.py:7: SyntaxWarning: invalid escape sequence '\\m'\n",
      "  plt.ylabel('$T$ $({\\mathrm{K})}$',  fontsize=12)\n",
      "/tmp/ipykernel_15723/1448736236.py:8: SyntaxWarning: invalid escape sequence '\\m'\n",
      "  plt.annotate('Saturated Fluid Volumes, $v_\\mathrm{f}$', (0.0011,400), (0.002,350),color='blue', arrowprops=dict(color='blue', shrink=0.05), fontsize=12)\n",
      "/tmp/ipykernel_15723/1448736236.py:9: SyntaxWarning: invalid escape sequence '\\m'\n",
      "  plt.annotate('Saturated Vapor Volumes, $v_\\mathrm{g}$', (.05,540), (0.05,600), color='orange', arrowprops=dict(color='orange', shrink=0.05), fontsize=12)\n",
      "/tmp/ipykernel_15723/1448736236.py:11: SyntaxWarning: invalid escape sequence '\\m'\n",
      "  plt.annotate('$T_{\\mathrm{crit}}$', (0.0021,655),  color='green', fontsize=12)\n"
     ]
    },
    {
     "data": {
      "image/png": "[encoded data removed]",
      "text/plain": [
       "<Figure size 640x480 with 1 Axes>"
      ]
     },
     "metadata": {},
     "output_type": "display_data"
    }
   ],
   "source": [
    "import numpy as np\n",
    "import matplotlib.pyplot as plt\n",
    "plt.semilogx(vfs,sattemps,color='blue')\n",
    "plt.semilogx(vgs,sattemps,color='orange')\n",
    "plt.ylim([300, 700])\n",
    "plt.xlabel('$v$ $(\\mathrm{m^3} \\mathrm{kg^{-1}})$',  fontsize=12)\n",
    "plt.ylabel('$T$ $({\\mathrm{K})}$',  fontsize=12)\n",
    "plt.annotate('Saturated Fluid Volumes, $v_\\mathrm{f}$', (0.0011,400), (0.002,350),color='blue', arrowprops=dict(color='blue', shrink=0.05), fontsize=12)\n",
    "plt.annotate('Saturated Vapor Volumes, $v_\\mathrm{g}$', (.05,540), (0.05,600), color='orange', arrowprops=dict(color='orange', shrink=0.05), fontsize=12)\n",
    "plt.annotate('Saturation Dome', (0.002,475), fontsize=12)\n",
    "plt.annotate('$T_{\\mathrm{crit}}$', (0.0021,655),  color='green', fontsize=12)\n",
    "# plt.annotate('$T_{\\mathrm{crit}}$', (0.0031,650), (0.0007,675), color='green', arrowprops=dict(color='green', shrink=0.005), fontsize=12)\n",
    "plt.savefig('Figures/sat_dome.png')# used to save the figure if you desire\n",
    "plt.show()"
   ]
  },
  {
   "cell_type": "markdown",
   "id": "024bb171-f07a-48fc-ba70-3e5b53ac0a71",
   "metadata": {},
   "source": [
    "```{figure} Figures/sat_dome.png\n",
    ":name: properties fig b\n",
    "\n",
    "Temperature versus specific volume along the saturation dome. On the left in blue are saturated fluid points and on the right in orange are saturated vapor points. The formation of the points represents the saturation dome, beneath which everything is a saturated liquid-vapor mixture. On top of the dome is the critical point.\n",
    "```"
   ]
  },
  {
   "cell_type": "markdown",
   "id": "19321c86-f3f8-42f8-baf7-89b1f288da03",
   "metadata": {},
   "source": [
    "Everything inside of the {ref}`saturation dome <genindex>` is a saturated mixture. To the left, the fluid is a compressed fluid, to the right a superheated fluid, and above a supercritical fluid. At the critical pressure ($P_{\\rm crit}$) of 22.06 (top of the dome), $T$  = $T_{\\rm crit}$ = 644 K. In general, as pressure increases $T_{\\rm sat}$ increases, as shown in the green constant pressure lines of 100 kPa, 1 MPa and 10 MPa on the $T-v$ diagram in {numref}`Figure %s <properties fig c>` below. "
   ]
  },
  {
   "cell_type": "code",
   "execution_count": 42,
   "id": "d86aadf2-ce90-43a0-8e2f-3e2c8e3cceb3",
   "metadata": {
    "tags": [
     "hide-cell"
    ]
   },
   "outputs": [
    {
     "name": "stderr",
     "output_type": "stream",
     "text": [
      "<>:46: SyntaxWarning: invalid escape sequence '\\m'\n",
      "<>:47: SyntaxWarning: invalid escape sequence '\\m'\n",
      "<>:46: SyntaxWarning: invalid escape sequence '\\m'\n",
      "<>:47: SyntaxWarning: invalid escape sequence '\\m'\n",
      "/tmp/ipykernel_15723/3324521175.py:46: SyntaxWarning: invalid escape sequence '\\m'\n",
      "  plt.xlabel('$v$ $(\\mathrm{m^3} \\mathrm{kg^{-1}})$',  fontsize=12)\n",
      "/tmp/ipykernel_15723/3324521175.py:47: SyntaxWarning: invalid escape sequence '\\m'\n",
      "  plt.ylabel('$T$ $({\\mathrm{K})}$',  fontsize=12)\n"
     ]
    },
    {
     "data": {
      "image/png": "[encoded data removed]",
      "text/plain": [
       "<Figure size 640x480 with 1 Axes>"
      ]
     },
     "metadata": {},
     "output_type": "display_data"
    }
   ],
   "source": [
    "pres = [100000*10**x for x in range(3)]\n",
    "vf=[] # create an empty list called vf that will store our saturated fluid volumes at the different pressures\n",
    "sattemp=[] # create an empty list called sattemp that will store our saturated temperatures at the different pressures\n",
    "for i in pres: # iterate over each value in pres, i.e. 100000,1000000,etc\n",
    "    species1.PQ = i,0 # set the ith pressure and quality of 0 to get saturated fluid values\n",
    "    vf.append(species1.TV[1]) # append the vf value (species1.TV[1]) at the specified pressure and quality to the vfs list\n",
    "    sattemp.append(species1.TV[0]) # append the sat. temp value (species1.TV[0]) at the specified pressure\n",
    "vg=[] # create an empty list called vg that will store our saturated fluid volumes at the different pressures\n",
    "for i in pres: # iterate over each value in pres, i.e. 10000,100000,etc\n",
    "    species1.PQ = i,1 # set the ith pressure and quality of 1 to get saturated vapor values\n",
    "    vg.append(species1.TV[1]) # append the vg value (species1.TV[1]) at the specified pressure and quality to the vgs list\n",
    "\n",
    "vols=[] # create an empty list called vols\n",
    "for i in pres:\n",
    "    vols.append([]) # create a list of lists within vols to hold volumes at each pressure\n",
    "for i in range(len(pres)):\n",
    "    vols[i]=np.arange(0.001003,vf[i],.00001)\n",
    "    \n",
    "for i in range(len(vols)):\n",
    "    vols[i] = list(vols[i])+list(np.arange(vf[i],vg[i],.001))\n",
    "    \n",
    "for i in range(len(vols)):\n",
    "    vols[i] = list(vols[i])+list(np.arange(vg[i],1.5*vg[i],.001))\n",
    "    \n",
    "temps=[] # create an empty list called temps\n",
    "for i in pres:\n",
    "    temps.append([]) # create a list of lists within temps to hold temperatures at each pressure\n",
    "\n",
    "k=0\n",
    "for i in pres:\n",
    "    for j in vols[k]: # iterate over each value in vols\n",
    "        species1.PV = i,j # set the pressure and ith volume\n",
    "        temps[k].append(species1.TV[0]) # append the temperature value (species1.TV[0]) at the specified pressure and volume to the temps list\n",
    "    k=k+1\n",
    "    \n",
    "import numpy as np\n",
    "import matplotlib.pyplot as plt\n",
    "plt.semilogx(vfs,sattemps,color='blue')\n",
    "plt.semilogx(vgs,sattemps,color='orange')\n",
    "for i in range(len(vols)):\n",
    "    plt.semilogx(vols[i],temps[i],color='green')\n",
    "\n",
    "plt.annotate('100 kPa', (0.002,377), color='Green', fontsize=12)\n",
    "plt.annotate('1 MPa', (0.002,460), color='Green', fontsize=12)\n",
    "plt.annotate('10 MPa', (0.002,590), color='Green', fontsize=12)\n",
    "plt.xlabel('$v$ $(\\mathrm{m^3} \\mathrm{kg^{-1}})$',  fontsize=12)\n",
    "plt.ylabel('$T$ $({\\mathrm{K})}$',  fontsize=12)\n",
    "plt.savefig('Figures/sat_dome_pressures.png')# used to save the figure if you desire\n",
    "plt.show()"
   ]
  },
  {
   "cell_type": "markdown",
   "id": "dcaf3ad9-cfaa-479c-9453-b101979118c4",
   "metadata": {},
   "source": [
    "```{figure} Figures/sat_dome_pressures.png\n",
    ":name: properties fig c\n",
    "\n",
    "Temperature versus specific volume with multiple constant pressure lines shown. As pressure increases the saruration temperature also increases, until the critical point is reached. In the compressed liquid region, specific volume is largely independent of pressure and assumed to be incompressible.\n",
    "```"
   ]
  },
  {
   "cell_type": "markdown",
   "id": "764f1f9e-fd9b-4f61-8b7f-f271bb6119ba",
   "metadata": {},
   "source": [
    "(LiquidApproximation)=\n",
    "### Liquid Approximation and Incompressibility"
   ]
  },
  {
   "cell_type": "markdown",
   "id": "b276b337-cbaa-4c58-8778-cb3656a5ae8a",
   "metadata": {},
   "source": [
    "```{index} incompressible fluid, liquid approximation\n",
    "```"
   ]
  },
  {
   "cell_type": "markdown",
   "id": "898894a2-65b9-4fec-9288-4b71526be6a2",
   "metadata": {},
   "source": [
    "Notice that in the compressed liquid region on the left hand side of the saturation dome, the specific saturated fluid volumes ($v_{\\rm f}$) in blue are nearly indistinguishable from the compressed liquid specific volumes that are green at all at different pressures - indeed they all appear to overlap. While there are very small differences, they are not observable at this scale. Because of the very small differences in $v$ as pressure changes in the compressed liquid region, we can often assume that specific volume is a function of temperature only - i.e. $v$ at some given $P$,$T$ = $v$ at the same $T$ but different pressure. In this region it is referred to as an {ref}`incompressible fluid <genindex>`. In addition to specific volume, we can also assume that specific internal energy ($u$, discussed next chapter in {numref}`FirstLaw` {ref}`FirstLaw`)  is a function of temperature only - i.e. $u$ at some given $P$,$T$ = $u$ at the same $T$ but different pressure. We can verify with some simple calculations."
   ]
  },
  {
   "cell_type": "code",
   "execution_count": 43,
   "id": "5832b3f2-ee19-4e29-a18a-e9dd2b7b8b35",
   "metadata": {},
   "outputs": [
    {
     "data": {
      "text/plain": [
       "0.001002849132867957"
      ]
     },
     "execution_count": 43,
     "metadata": {},
     "output_type": "execute_result"
    }
   ],
   "source": [
    "import cantera as ct\n",
    "species1 = ct.Water()# define species1 as water\n",
    "species1.TP = 298,100000\n",
    "species1.PV[1] # specific volume"
   ]
  },
  {
   "cell_type": "code",
   "execution_count": 44,
   "id": "074b6730-442b-42b5-8375-bfc03ab082cd",
   "metadata": {},
   "outputs": [
    {
     "data": {
      "text/plain": [
       "0.001002438215634586"
      ]
     },
     "execution_count": 44,
     "metadata": {},
     "output_type": "execute_result"
    }
   ],
   "source": [
    "species1.TP = 298,1000000 # increasing the pressure by 1 order of magnitude\n",
    "species1.PV[1] # specific volume, nearly identical to above"
   ]
  },
  {
   "cell_type": "markdown",
   "id": "ee94fa74-8eac-4ce3-b70f-01802c9cdaf9",
   "metadata": {},
   "source": [
    "This is especially useful in regions where compressed liquid data is not available, often at lower pressures."
   ]
  },
  {
   "cell_type": "markdown",
   "id": "de48d41d-a878-414b-a18b-19bd2476cfee",
   "metadata": {},
   "source": [
    "Also, if we only know saturated properties we can use this to help us determine properties in the compressed region, i.e., $v$ at some given $P$,$T$ = $v_{\\rm g}$ at the same $T$. For example:"
   ]
  },
  {
   "cell_type": "code",
   "execution_count": 45,
   "id": "e1720285-c745-4ddb-9751-50bea8fee1ab",
   "metadata": {},
   "outputs": [
    {
     "data": {
      "text/plain": [
       "0.001002438215634586"
      ]
     },
     "execution_count": 45,
     "metadata": {},
     "output_type": "execute_result"
    }
   ],
   "source": [
    "species1.TP = 298,1000000 # P = 1 MPa\n",
    "species1.PV[1] # specific volume"
   ]
  },
  {
   "cell_type": "code",
   "execution_count": 46,
   "id": "53b46b03-a669-4438-a6f9-4cdd0a0f8617",
   "metadata": {},
   "outputs": [
    {
     "data": {
      "text/plain": [
       "(3134.055266591048, 0.001002893444924276)"
      ]
     },
     "execution_count": 46,
     "metadata": {},
     "output_type": "execute_result"
    }
   ],
   "source": [
    "species1.TQ = 298,0 # Set quality to be 0 at the same temperature of 298 K\n",
    "species1.PV # pressure and specific volume"
   ]
  },
  {
   "cell_type": "markdown",
   "id": "bc3ad15a-a886-48ce-b743-be9889068a79",
   "metadata": {},
   "source": [
    "As seen, at 298 K and $x$ = 0, $v_{\\rm g}$ = 0.001, which is nearly the same as at 1MPa but at a much lower pressure of $P_{\\rm sat}$  =  3.134 kPa."
   ]
  },
  {
   "cell_type": "markdown",
   "id": "891b1e65-aa6f-490f-a232-2be19e6e29cd",
   "metadata": {},
   "source": [
    "(IdealGasCompare)=\n",
    "### Ideal Gas Law Comparison"
   ]
  },
  {
   "cell_type": "markdown",
   "id": "47828429-ee31-420a-889d-738676a5ba6d",
   "metadata": {},
   "source": [
    "Now that we have learned how to evaluate properties of real substances using Cantera, and properties assuming gas ideality, lets explore the superheated vapor region of some candidate gases (H<sub>2</sub>O, CO<sub>2</sub>, N<sub>2</sub>, etc.) to see how well the ideal gas law describes their $p-v-T$ dependence. Lets start with H<sub>2</sub>O. We will use Cantera to help us determine the specific volume of H<sub>2</sub>O at 100 kPa as a function of temperature, starting from the saturated vapor point."
   ]
  },
  {
   "cell_type": "code",
   "execution_count": 47,
   "id": "a5c53afe-4ced-47e2-94f7-7f14c644a604",
   "metadata": {},
   "outputs": [],
   "source": [
    "species1.PQ = 100000,1 # Set quality to be 1 at 100000 kPa\n",
    "vg=species1.PV[1] # v_g at 100\n",
    "v=np.arange(vg, 3*vg,.3) # generate list of specific volumes at which to calculate temperatures\n",
    "T=[] # define a blank list that will hold temperature values\n",
    "for i in v: # iterate over volumes\n",
    "    species1.PV = 100000,i # set pressure and volume, at each iteration of volume\n",
    "    T.append(species1.TP[0]) #solve for temperature at set pressure and volume"
   ]
  },
  {
   "cell_type": "markdown",
   "id": "8532f7ff-3fd3-4d9f-b79d-bfdbbb11367e",
   "metadata": {},
   "source": [
    "Now lets also calculate the associated temperatures using ideal gas law EOS."
   ]
  },
  {
   "cell_type": "code",
   "execution_count": 48,
   "id": "fd4a6768-ec7e-4756-a83f-1ddfd1d77348",
   "metadata": {},
   "outputs": [],
   "source": [
    "P=100 #set pressure to be 100 kPa\n",
    "M = 18 # molecular weight of H2O\n",
    "def T_ideal(P,v,M):\n",
    "    return (P*v)/(8.314/M)\n",
    "Tideal=T_ideal(P,v,M) #calculated at 100 kPa and each volume, \"v\" from cell above"
   ]
  },
  {
   "cell_type": "markdown",
   "id": "4e4a0e82-0dbe-440d-a188-80f1a460869a",
   "metadata": {},
   "source": [
    "Now lets plot the difference in temperatures between values calculated using Cantera and the ideal gas law EOS, shown in {numref}`Figure %s <properties fig d>`."
   ]
  },
  {
   "cell_type": "code",
   "execution_count": 49,
   "id": "d1170111-61bf-42b0-9ea5-1bf214e0a246",
   "metadata": {
    "tags": [
     "hide-cell"
    ]
   },
   "outputs": [
    {
     "name": "stderr",
     "output_type": "stream",
     "text": [
      "<>:4: SyntaxWarning: invalid escape sequence '\\m'\n",
      "<>:5: SyntaxWarning: invalid escape sequence '\\m'\n",
      "<>:6: SyntaxWarning: invalid escape sequence '\\D'\n",
      "<>:4: SyntaxWarning: invalid escape sequence '\\m'\n",
      "<>:5: SyntaxWarning: invalid escape sequence '\\m'\n",
      "<>:6: SyntaxWarning: invalid escape sequence '\\D'\n",
      "/tmp/ipykernel_15723/1468324816.py:4: SyntaxWarning: invalid escape sequence '\\m'\n",
      "  plt.annotate('$v_{\\mathrm{g}} $ @ 100 kPa', (1.71,6),(2,5.6), color='Green', arrowprops=dict(color='green', shrink=0.05), fontsize=12)\n",
      "/tmp/ipykernel_15723/1468324816.py:5: SyntaxWarning: invalid escape sequence '\\m'\n",
      "  plt.xlabel('$v$ $(\\mathrm{m^3} \\mathrm{kg^{-1}})$',  fontsize=12)\n",
      "/tmp/ipykernel_15723/1468324816.py:6: SyntaxWarning: invalid escape sequence '\\D'\n",
      "  plt.ylabel('$\\Delta T$ $({\\mathrm{K})}$',  fontsize=12)\n"
     ]
    },
    {
     "data": {
      "image/png": "[encoded data removed]",
      "text/plain": [
       "<Figure size 640x480 with 1 Axes>"
      ]
     },
     "metadata": {},
     "output_type": "display_data"
    }
   ],
   "source": [
    "import matplotlib.pyplot as plt\n",
    "plt.plot(v,T-Tideal,color='blue')\n",
    "\n",
    "plt.annotate('$v_{\\mathrm{g}} $ @ 100 kPa', (1.71,6),(2,5.6), color='Green', arrowprops=dict(color='green', shrink=0.05), fontsize=12)\n",
    "plt.xlabel('$v$ $(\\mathrm{m^3} \\mathrm{kg^{-1}})$',  fontsize=12)\n",
    "plt.ylabel('$\\Delta T$ $({\\mathrm{K})}$',  fontsize=12)\n",
    "plt.savefig('Figures/dT_ideal.png')# used to save the figure if you desire\n",
    "plt.show()"
   ]
  },
  {
   "cell_type": "markdown",
   "id": "9f50c6dd-b154-4ba3-8f3e-1ed3d1e2f1b4",
   "metadata": {},
   "source": [
    "```{figure} Figures/dT_ideal.png\n",
    ":name: properties fig d\n",
    "\n",
    "Temperature difference ($T_{\\rm real}$-$T_{\\rm ideal}$) versus specific volume calculated at 100 kPa for H<sub>2</sub>O. As the volume approaches $v_{\\rm g}$ the ideal gas EOS becomes less appropriate to use.\n",
    "```"
   ]
  },
  {
   "cell_type": "markdown",
   "id": "8d2a3a11-0ac2-4006-8127-3348773affbe",
   "metadata": {},
   "source": [
    "The difference increases as the saturation point is approached. In addition, the difference becomes magnified for calculations at higher pressures. For example, {numref}`Figure %s <properties fig e>` below compares $T$ verses $v$ in the superheated region of H<sub>2</sub>O at 100 l kPa, 1 MPa, and 10 MPa. Green lines are computed using Cantera and blue lines using ideal gas law EOS. As seen, at high pressure and low specific volume, temperature estimates are as much as 200 K different. Thus, as can be seen from these results, it is NOT recomended to assume ideal gas behavior for H<sub>2</sub>O unless there is a high degree of confidence that the pressure is low enough, or volume/temperature are large enough. For other gases, such as N<sub>2</sub>, O<sub>2</sub>, Ar, He, etc that all have very low saturation temperatures, it is typical to assume ideal gas behavior under most $T-p-v$. CO<sub>2</sub>, like H<sub>2</sub>O, has regions where it behaves non-ideally and others where ideal gas assumptions are usually fine. We will see in the excercises below some examples of this."
   ]
  },
  {
   "cell_type": "code",
   "execution_count": 50,
   "id": "d05c2126-2bec-4ca5-aba6-78c49e2791ca",
   "metadata": {
    "tags": [
     "hide-cell"
    ]
   },
   "outputs": [
    {
     "name": "stderr",
     "output_type": "stream",
     "text": [
      "<>:46: SyntaxWarning: invalid escape sequence '\\m'\n",
      "<>:47: SyntaxWarning: invalid escape sequence '\\m'\n",
      "<>:46: SyntaxWarning: invalid escape sequence '\\m'\n",
      "<>:47: SyntaxWarning: invalid escape sequence '\\m'\n",
      "/tmp/ipykernel_15723/2195804014.py:46: SyntaxWarning: invalid escape sequence '\\m'\n",
      "  plt.xlabel('$v$ $(\\mathrm{m^3} \\mathrm{kg^{-1}})$',  fontsize=12)\n",
      "/tmp/ipykernel_15723/2195804014.py:47: SyntaxWarning: invalid escape sequence '\\m'\n",
      "  plt.ylabel('$T$ $({\\mathrm{K})}$',  fontsize=12)\n"
     ]
    },
    {
     "data": {
      "image/png": "[encoded data removed]",
      "text/plain": [
       "<Figure size 640x480 with 1 Axes>"
      ]
     },
     "metadata": {},
     "output_type": "display_data"
    }
   ],
   "source": [
    "pres = [100000*10**x for x in range(3)]\n",
    "vg=[] # create an empty list called vg that will store our saturated vapor specific volumes at the different pressures\n",
    "for i in pres: # iterate over each value in pres, i.e. 10000,100000,etc\n",
    "    species1.PQ = i,1 # set the ith pressure and quality of 1 to get saturated vapor values\n",
    "    vg.append(species1.TV[1]) # append the vg value (species1.TV[1]) at the specified pressure and quality to the vgs list\n",
    "\n",
    "\n",
    "vols=[] # create an empty list called vols\n",
    "for i in pres:\n",
    "    vols.append([]) # create a list of lists within vols to hold volumes at each pressure\n",
    "    \n",
    "for i in range(len(pres)):\n",
    "    vols[i]=np.arange(vg[i], 3*vg[i],(3*vg[i]-vg[i])/10) # create a list of lists of vols\n",
    "    \n",
    "temps=[] # create an empty list called temps\n",
    "for i in pres:\n",
    "    temps.append([]) # create a list of lists within temps to hold temperatures at each pressure\n",
    "\n",
    "k=0\n",
    "for i in pres:\n",
    "    for j in vols[k]: # iterate over each value in vols\n",
    "        species1.PV = i,j # set the pressure and ith volume\n",
    "        temps[k].append(species1.TV[0]) # append the temperature value (species1.TV[0]) at the specified pressure and volume to the temps list\n",
    "    k=k+1\n",
    "    \n",
    "    \n",
    "tempsideal=[] # create an empty list called temps\n",
    "M = 18 # molecular weight of H2O\n",
    "def T_ideal(P,v,M):\n",
    "    return (P/1000*v)/(8.314/M)\n",
    "k=0\n",
    "for i in pres:\n",
    "    tempsideal.append(T_ideal(i,vols[k],M))\n",
    "    k=k+1\n",
    "    \n",
    "fig=plt.figure()\n",
    "ax1=fig.add_subplot(1,1,1)\n",
    "for i in range(len(vols)):\n",
    "    ax1.semilogx(vols[i],temps[i],color='green')\n",
    "    ax1.semilogx(vols[i],tempsideal[i],color='blue')\n",
    "plt.annotate('100 kPa', (2,800), color='Gray', rotation = 75,fontsize=12)\n",
    "plt.annotate('1 MPa', (.2,800), color='Gray', rotation = 75,fontsize=12)\n",
    "plt.annotate('10 MPa', (.02,800), color='Gray', rotation = 75,fontsize=12)\n",
    "plt.annotate('More Ideal', (.06,500), (1.9,1100), arrowprops=dict(color='orange', shrink=0.05),color='orange', fontsize=12)\n",
    "plt.annotate('Less Ideal', (.03,450), color='orange', fontsize=12)\n",
    "plt.xlabel('$v$ $(\\mathrm{m^3} \\mathrm{kg^{-1}})$',  fontsize=12)\n",
    "plt.ylabel('$T$ $({\\mathrm{K})}$',  fontsize=12)\n",
    "plt.savefig('Figures/T_ideal_multiple_P.png')# used to save the figure if you desire\n",
    "plt.show()"
   ]
  },
  {
   "cell_type": "markdown",
   "id": "bc67e68f-690c-4568-8cc6-eaae54a99507",
   "metadata": {},
   "source": [
    "```{figure} Figures/T_ideal_multiple_P.png\n",
    ":name: properties fig e\n",
    "\n",
    "Temperature of real ($T_{\\rm real}$) and ideal ($T_{\\rm ideal}$) H<sub>2</sub> shown in green and blue, respectively, at  100 kPa,  1 MPa  and  10 MPa. As pressure increases and volume decreases, the ideal gas EOS becomes less appropriate to use.\n",
    "```"
   ]
  },
  {
   "cell_type": "markdown",
   "id": "a890e36e-355d-456d-b54a-a574a1e7929a",
   "metadata": {},
   "source": [
    "(Exercise2)=\n",
    "### Exercise 2"
   ]
  },
  {
   "cell_type": "markdown",
   "id": "1cfb5333-ea81-47b3-b384-5765e760b949",
   "metadata": {},
   "source": [
    "1. Using Cantera, determine the specific volume ($v$) of water vapor where $p$ = 8 bar and $T$ = 200 $^\\circ$C. What about $T$ = 220 $^\\circ$C? \n",
    "\n",
    "1. What is the composition (compressed, saturated, superheated) and pressure of H<sub>2</sub>O with $v$ =  65 m<sup>3</sup> kg<sup>-1</sup> and T = 15 $^\\circ$C? What is the quality, x (if applicable)? Use Cantera to solve.\n",
    "\n",
    "1. What is the composition (compressed, saturated, superheated) and temperature of H<sub>2</sub>O with $v$ =  1 m<sup>3</sup> kg<sup>-1</sup> and $p$ = 0.5 MPa? What is the quality, x (if applicable)? Use Cantera to solve.\n",
    "\n",
    "1. What is the composition (compressed, saturated, superheated) and pressure of H<sub>2</sub>O with $v$ =  1 m<sup>3</sup> kg<sup>-1</sup> and T =  150 $^\\circ$C? What is the quality, x (if applicable)? Use Cantera to solve.\n",
    "\n",
    "1. A rigid tank contains 50 kg of saturated liquid water at 90 $^\\circ$C. Determine the pressure in the tank and the tank volume.\n",
    "\n",
    "1. Compare the specific volume of nitrogen (N<sub>2</sub>) at 35°C and 150 kPa using the ideal gas law and Cantera. In Cantera us ct.Nitrogen() rather than ct.Water() as we have been for H<sub>2</sub>O.\n",
    "\n",
    "1. The critical pressure of CO<sub>2</sub> is 7.38 MPa. Although it is often okay to assume CO<sub>2</sub> is an ideal gas at near ambient conditions, it is not okay to assume so at higher pressures.\n",
    "    1. Determine $v_{\\rm f}$ and $v_{\\rm g}$ of CO<sub>2</sub> at 5 MPa.\n",
    "    \n",
    "    1. What is the saturated temperature of CO<sub>2</sub> at 5 MPa?\n",
    "    \n",
    "    1. Compare the specific volume of CO<sub>2</sub> at 5 MPa at saturated vapor conditions using Cantera and the ideal gas law at the same $T_{\\rm sat}$ and $P_{\\rm sat}$. In Cantera us ct.CarbonDioxide() rather than ct.Water() like we did for H<sub>2</sub>O.\n",
    "    \n",
    "    1. Plot specific volume  from the saturated vapor point at 5 MPa to 5 times $v_{\\rm g}$ at the same pressure.  Use both Cantera and the ideal gas EOS.\n",
    "\n",
    "1. A 2.1 m<sup>3</sup> rigid tank contains steam at 230°C. One-half of the volume is in the liquid phase and the rest is in the vapor form. Using Cantera, determine:\n",
    "\n",
    "    1. the pressure of the steam,\n",
    "    \n",
    "    1. the quality of the saturated mixture, and \n",
    "    \n",
    "    1. the density of the mixture.\n",
    "\n",
    "1. What is the specific volume of water at 5 MPa and 100°C? What would it be if the incompressible liquid approximation were used? Use Cantera to solve.\n",
    "\n",
    "1. Water initially at 200 kPa and 300°C is contained in a piston–cylinder device fitted with stops, State 1. \n",
    "\n",
    "    1. The water is allowed to cool at constant pressure until it exists as a saturated vapor and the piston rests on the stops, State 2. Determine the change in specific volume during the process. Use Cantera to solve.\n",
    "    \n",
    "    1. Then the water continues to cool at constant volume until the pressure is 100 kPa, State 3. What is the temperature at State 3? Use Cantera to solve.\n",
    "    \n",
    "1. One kilogram of water fills a 150-L rigid container at an initial pressure of 2 MPa. The container is then cooled to 40°C. Determine the initial temperature and the final pressure of the water. Use Cantera to solve.\n",
    "\n",
    "1. A piston–cylinder device contains 0.6 kg of steam at 300°C and 0.5 MPa. Steam is cooled at constant pressure until one-half of the mass condenses. \n",
    "\n",
    "    1. Determine the final temperature. Use Cantera to solve.\n",
    "    \n",
    "    2. Determine the change in volume. Use Cantera to solve.\n",
    "    \n",
    "1. 10 kg of R-134a fill a 1.115-m3 rigid container at an initial temperature of –30°C. The container is then heated until the pressure is 200 kPa. Determine the final temperature and the initial pressure.\n",
    "\n",
    "1. 1 kg of R-134a fills a 0.14 m3 weighted piston cylinder device at -26.4 °C. The container is now heated until the temperature is 100 °C. Determine the final volume of the R-134a."
   ]
  },
  {
   "cell_type": "markdown",
   "id": "4773babe-c67d-440c-8577-bf59a008b458",
   "metadata": {},
   "source": [
    "{numref}`Exercise2Solutions` {ref}`Exercise2Solutions`"
   ]
  },
  {
   "cell_type": "code",
   "execution_count": null,
   "id": "eba8a825-945f-4e64-9941-21ec4f96b9fa",
   "metadata": {},
   "outputs": [],
   "source": []
  }
 ],
 "metadata": {
  "kernelspec": {
   "display_name": "Python 3 (ipykernel)",
   "language": "python",
   "name": "python3"
  },
  "language_info": {
   "codemirror_mode": {
    "name": "ipython",
    "version": 3
   },
   "file_extension": ".py",
   "mimetype": "text/x-python",
   "name": "python",
   "nbconvert_exporter": "python",
   "pygments_lexer": "ipython3",
   "version": "3.12.3"
  }
 },
 "nbformat": 4,
 "nbformat_minor": 5
}