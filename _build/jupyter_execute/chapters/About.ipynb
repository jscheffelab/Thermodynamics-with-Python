{
 "cells": [
  {
   "cell_type": "markdown",
   "id": "be64b9e7-3706-4b85-b777-e2833aca4126",
   "metadata": {},
   "source": [
    "# Preface"
   ]
  },
  {
   "cell_type": "markdown",
   "id": "398dc14e-fa28-4096-bcda-4ccc4dba7616",
   "metadata": {
    "tags": []
   },
   "source": [
    "## About This Book"
   ]
  },
  {
   "cell_type": "markdown",
   "id": "165badeb-f0c1-45eb-9dc7-72c1f036626e",
   "metadata": {},
   "source": [
    "In contrast to traditional thermodynamics textbooks that rely on pencil and paper solutions, and tabulated methods to obtain thermodynamic properties, this book is intented to be used to help solve problems using more modern computational tools, specifically Python. The entire text is written in Jupyter Notebooks, where Python code can be readily understood, evaluated, edited and built upon to help solve problems more efficently, in a manner that is scalable and translatable outside the classroom. This book is designed to compliment undergraduate thermodynamics textbooks as they are traditionally structured, with the exception of discussing property evaluation prior to thorough discussion of the First Law of Thermodynamics and energy conservation. Although this book can be used as a stand-alone resource, it is not as thorough or designed to be as comprehensive as traditional texts on this subject. There are several fantastic resources already, and one more addition would be, in my opinion, superfluous. At the undergraduate level I recommend and have taken inspriation from {cite}`borgnakke_sonntag,cengel,moran,vanness_textbook`. At the graduate level I recommend {cite}`callen` and {cite}`dill_bromberg`. {cite}`callen` is presented from both a classical and statistical perspective and {cite}`dill_bromberg` primarily from a statistical perspective and in a straightforward, intuitive and easy to understand manner. For those who desire a qualitiave perspective of the 1<sup>st</sup> and 2<sup>nd</sup> Laws of Thermodynamics I also highly recommend {cite}`vanness`. I suggest referring to these resources for more in depth discussions of the topical areas covered throughout this textbook."
   ]
  },
  {
   "cell_type": "markdown",
   "id": "06fa2b9b-56bc-466e-b16e-99d7cc7247fa",
   "metadata": {},
   "source": [
    "## About the Author"
   ]
  },
  {
   "cell_type": "markdown",
   "id": "9507093f-d3c2-4299-9282-15c84ca1f5a8",
   "metadata": {},
   "source": [
    "Jonathan R. Scheffe, Ph.D., is an Associate Professor in the Mechanical and Aerospace Engineering Department at the University of Florida (UF) - https://mae.ufl.edu/people/profiles/jonathan-scheffe/. Prof. Scheffe has taught undergraduate and graduate Thermodynamics since his arrival at UF in 2014, along with Radiation Heat Transfer and undergraduate/graduate Solar Energy Utilization. In addition to his teaching interests, Prof. Scheffe has an active research lab focused on solar thermal energy conversion to chemical commodoties, such as H<sub>2</sub> and synthetic fuels, with funding by the US Department of Energy's Hydrogen and Fuel Cell Technology and Solar Energy Technology Offices, Duke Energy, Synhelion SA, and more. Prior to his arrival at the University of Florida, Prof. Scheffe was a postdoctoral researcher at ETH Zurich from 2010-2014, graduating with a Ph.D. in Chemical Engineering at the University of Colorado, Boulder in 2010, and a B.S. in Biomedical Engineering from North Carolina State University in 2005.  "
   ]
  },
  {
   "cell_type": "markdown",
   "id": "be7bcb14-645d-4b16-91bd-0d1fcd4d7d24",
   "metadata": {},
   "source": [
    "## Inquiries, Comments and Referencing"
   ]
  },
  {
   "cell_type": "markdown",
   "id": "36e023fd-4314-46aa-b558-165eec1d36e2",
   "metadata": {},
   "source": [
    "For inquiries or comments please email the author at jscheffe@ufl.edu. Please be sure to reference as *J.R. Scheffe, \"Thermodyanmics With Python\", Copyright 2022, http://www.scheffelab.com*."
   ]
  },
  {
   "cell_type": "markdown",
   "id": "4c8c69f2-9b37-4141-b293-e8ece7651285",
   "metadata": {},
   "source": [
    "## Updates"
   ]
  },
  {
   "cell_type": "markdown",
   "id": "b029d24e-8867-4bf3-9e50-a6f620b0cc54",
   "metadata": {},
   "source": [
    "Please note that the content presented here is updated on a continuous basis. As new content is created, major updates and their corresponding dates will be documented below.\n",
    " * Feb 3<sup>rd</sup>, 2023 - content updated through Closed System Energy Conservation analysis. \n",
    " * April 16<sup>rd</sup>, 2024 - content updated through First Law of Thermodynamics - Open Systems.\n",
    " * April 16<sup>rd</sup>, 2024 - chapters on Second Law of Thermodynamics and Entropy Change of Real and Idealized Processes are only partially completed. \n",
    " * August 14<sup>rd</sup>, 2024 - updated chapters on Second Law of Thermodynamics and Entropy Change of Real and Idealized Processes. Some content is still only partially completed. \n",
    " * August 14<sup>rd</sup>, 2024 - updated exercises 1 through 5 with new questions.\n",
    " * Test"
   ]
  },
  {
   "cell_type": "code",
   "execution_count": null,
   "id": "b9d87727-3e2c-4cc3-9886-7c0884439f96",
   "metadata": {},
   "outputs": [],
   "source": []
  }
 ],
 "metadata": {
  "kernelspec": {
   "display_name": "Python 3 (ipykernel)",
   "language": "python",
   "name": "python3"
  },
  "language_info": {
   "codemirror_mode": {
    "name": "ipython",
    "version": 3
   },
   "file_extension": ".py",
   "mimetype": "text/x-python",
   "name": "python",
   "nbconvert_exporter": "python",
   "pygments_lexer": "ipython3",
   "version": "3.12.3"
  }
 },
 "nbformat": 4,
 "nbformat_minor": 5
}