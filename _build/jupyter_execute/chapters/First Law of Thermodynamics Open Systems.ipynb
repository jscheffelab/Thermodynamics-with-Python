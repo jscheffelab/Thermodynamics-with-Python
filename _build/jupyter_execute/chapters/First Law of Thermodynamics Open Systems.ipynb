{
 "cells": [
  {
   "cell_type": "markdown",
   "id": "467ea56c-295b-48fe-a72e-800e041489c9",
   "metadata": {},
   "source": [
    "(FirstLawOpen)=\n",
    "# First Law of Thermodynamics - Open Systems"
   ]
  },
  {
   "cell_type": "markdown",
   "id": "238cbfe0-1f8c-4b08-ae46-e3657d2e2820",
   "metadata": {},
   "source": [
    "```{index} open systems, flow work, mass flowrate, volumetric flowrate\n",
    "```"
   ]
  },
  {
   "cell_type": "markdown",
   "id": "5d4ceefc-486e-42a6-83a3-1e07e1ea824d",
   "metadata": {},
   "source": [
    "In the previous two chapter's {numref}`FirstLaw` {ref}`FirstLaw` and {numref}`FirstLawApplications` {ref}`FirstLawApplications`, we were focused on applying the energy conservation equation to closed systems, where there was no mass exchange with the surroundings. However, there are many thermodynamic systems where accounting for the mass transfer and energy transfer is critical, such as  turbines, mixing chambers, and so on. Recall that these are considered {ref}`open systems <genindex>`. To evaluate open systems, the energy conservation equation for a closed system is modified to account for the energy content of the mass entering and/or leaving the system. Further, a new concept called {ref}`flow work <genindex>` will have to be acocunted for, which is related to the work done by or to the fluid entering or leaving the system, and is the force behind it's movement. "
   ]
  },
  {
   "cell_type": "markdown",
   "id": "4125a560-d712-4151-b8f5-7ec4a75b05e5",
   "metadata": {},
   "source": [
    "## Flow Work"
   ]
  },
  {
   "cell_type": "markdown",
   "id": "10461663-b173-4c6c-939f-f1d02645743d",
   "metadata": {},
   "source": [
    "Flow work is the work required to push a fluid into the control volume (recall, a control volume is an open system), and work done by the system in the form of flow work to push fluid out. Consider the control volume below in {numref}`Figure %s <first law open fig a>` - the work required to push fluid into and out of the control volume can be evaluated by imagining a piston cylinder that the fluid is acting against.  "
   ]
  },
  {
   "cell_type": "markdown",
   "id": "b210f4d8-48c5-4ba2-bbb5-b5d40462790a",
   "metadata": {},
   "source": [
    "```{figure} Figures/flow_work.png\n",
    ":name: first law open fig a\n",
    "\n",
    "Exemplary open system with 1 inlet and 1 exit. The flow work is represented at the inlet side as an imaginary piston-cylinder. The flow work is the work required to push the fluid into the system and the work required to push the fluid out of the system. \n",
    "```"
   ]
  },
  {
   "cell_type": "markdown",
   "id": "2fea9d65-b0ec-46d9-8423-86aabbb7ddf6",
   "metadata": {},
   "source": [
    "Recall, that the force ($F$) acting over an area ($A$) is pressure ($p$) and if the force is constant, the flow work ($W$<sub>flow</sub>) is equal to the force times distance, or "
   ]
  },
  {
   "cell_type": "markdown",
   "id": "0c0d61d6-7f83-4781-a010-28f040294053",
   "metadata": {},
   "source": [
    "```{math}\n",
    ":label: eq_a\n",
    "W_{\\rm flow} = F \\Delta x\n",
    "``` "
   ]
  },
  {
   "cell_type": "markdown",
   "id": "2933033e-25a8-40e7-a633-abe73bc4ba56",
   "metadata": {},
   "source": [
    "Thus, for a piston with area $A$,  $W$<sub>flow</sub> is related to the pressure and volume ($V$) by,"
   ]
  },
  {
   "cell_type": "markdown",
   "id": "55e36973-e4a4-499b-87dc-0144fc0feb0a",
   "metadata": {},
   "source": [
    "```{math}\n",
    ":label: eq_b\n",
    "W_{\\rm flow} = pA \\Delta x = pV\n",
    "``` "
   ]
  },
  {
   "cell_type": "markdown",
   "id": "f65830da-8f1c-41ce-9894-ded255015ed0",
   "metadata": {},
   "source": [
    "and in terms of mass specific properties"
   ]
  },
  {
   "cell_type": "markdown",
   "id": "fbd79a15-af7e-45d7-aac8-ac35f4094ff8",
   "metadata": {},
   "source": [
    "```{math}\n",
    ":label: eq_c\n",
    "w_{\\rm flow} = pv\n",
    "``` "
   ]
  },
  {
   "cell_type": "markdown",
   "id": "fd6fc41f-b6c7-4c18-9423-4c01af4dc747",
   "metadata": {},
   "source": [
    "The rate of flow work ($\\dot W_{\\rm flow}$) is the pressure times the {ref}`volumetric flowrate <genindex>`  ($\\dot V$), or"
   ]
  },
  {
   "cell_type": "markdown",
   "id": "749d45a4-c2ae-4824-96d5-39501cf8df5c",
   "metadata": {},
   "source": [
    "```{math}\n",
    ":label: eq_d\n",
    "\\dot W_{\\rm flow} = p \\dot V\n",
    "``` "
   ]
  },
  {
   "cell_type": "markdown",
   "id": "386470e1-9887-47f1-ab1c-dc35d9edf4c3",
   "metadata": {},
   "source": [
    "where the volumetric flowrate is the {ref}`mass flowrate <genindex>`  times the specific volume."
   ]
  },
  {
   "cell_type": "markdown",
   "id": "1baed6bb-adaf-4587-abfe-6268c9b132f1",
   "metadata": {},
   "source": [
    "```{math}\n",
    ":label: eq_e\n",
    "\\dot V = \\dot m v\n",
    "``` "
   ]
  },
  {
   "cell_type": "markdown",
   "id": "44dd19d9-9ffe-43eb-a37a-d9e653c1efee",
   "metadata": {},
   "source": [
    "## More on Mass Flowrate"
   ]
  },
  {
   "cell_type": "markdown",
   "id": "226c409a-b1f4-47e0-8b16-848d8983be2d",
   "metadata": {},
   "source": [
    "```{index} mass flowrate, velocity\n",
    "```"
   ]
  },
  {
   "cell_type": "markdown",
   "id": "d199c6ea-6c16-4e3b-bcac-d5e00765f5fc",
   "metadata": {},
   "source": [
    "Mass flowrate is another new term that was not introdced in prior sections. It is defined as the amount of mass flowing through a cross section per unit time. In differential form, the mass flowrate ($\\delta \\dot m$) crossing a differential cross sectional area ($dA_{\\rm c}$) is related to the density ($\\rho$) and velocity normal to the cross sectional area ($\\rm{V}_{\\rm n}$)."
   ]
  },
  {
   "cell_type": "markdown",
   "id": "e5fd2a6a-ccec-4da1-98cb-7fa4e9c165ed",
   "metadata": {},
   "source": [
    "```{math}\n",
    ":label: eq_e1\n",
    "\\delta \\dot m = \\rho {\\rm V_n} dA_{\\rm c}\n",
    "``` "
   ]
  },
  {
   "cell_type": "markdown",
   "id": "5b3a93dd-7fbd-45bb-aa37-7a6bf3fb57aa",
   "metadata": {},
   "source": [
    "To determine the mass flowrate over a finite cross-sectional area ($A_{\\rm c}$), the differential mass flowrate should be integrated over $A_{\\rm c}$ - note the inexact differential that was discussed earlier in {numref}`FirstLaw` {ref}`FirstLaw`."
   ]
  },
  {
   "cell_type": "markdown",
   "id": "d18ca0d6-5138-4562-b3f8-aa01a3ca6ad2",
   "metadata": {},
   "source": [
    "```{math}\n",
    ":label: eq_e2\n",
    "\\dot m = \\int_{A_{\\rm c}} \\delta \\dot m\n",
    "``` "
   ]
  },
  {
   "cell_type": "markdown",
   "id": "5b4ca2a1-07df-4073-89c7-6c6e24d56ffc",
   "metadata": {},
   "source": [
    "Therefore,"
   ]
  },
  {
   "cell_type": "markdown",
   "id": "6fe4c67d-fdb5-472c-bc9c-1704ab875881",
   "metadata": {},
   "source": [
    "```{math}\n",
    ":label: eq_e3\n",
    "\\dot m = \\int_{A_{\\rm c}} \\rho \\rm {V_n} dA_{\\rm c}\n",
    "``` "
   ]
  },
  {
   "cell_type": "markdown",
   "id": "a1596c08-bebf-4f3b-8bc7-3f7fd0527def",
   "metadata": {},
   "source": [
    "For real systems, whether the flow is laminar or turbulent, the velocity over the inlet or exit diamater is not constant. In laminar flow systems, such as plug flow in a pipe, there is a velocity profile such that the maximum velocity occurs at the center and at the walls the velocity is equal to zero. This is depicted in {numref}`Figure %s <first law open fig b>`. Typically, an average velocity ($\\rm {V_{avg}}$)  is used to enable straightforward evaluation of $\\dot m$. $\\rm {V_{avg}}$ is related to the velocity profile through the following equation. "
   ]
  },
  {
   "cell_type": "markdown",
   "id": "e489cabd-63a0-4a8a-811d-35d4fee2aeef",
   "metadata": {},
   "source": [
    "```{math}\n",
    ":label: eq_e4\n",
    "{\\rm V_{avg}} = \\frac{1}{A_{\\rm c}} \\int_{A_{\\rm c}} {\\rm V} (y)dA_{\\rm c}\n",
    "``` "
   ]
  },
  {
   "cell_type": "markdown",
   "id": "d09503af-7336-48b2-8d0a-62b12f2f4862",
   "metadata": {},
   "source": [
    "$\\delta \\dot m = \\rho \\rm {V_n} dA_{\\rm c}$"
   ]
  },
  {
   "cell_type": "markdown",
   "id": "29fbbe22-c657-48a1-b441-f853ac61482d",
   "metadata": {},
   "source": [
    "Therefore, assuming constant density over the cross-sectional area, the mass flowrate can be related to the average velocity."
   ]
  },
  {
   "cell_type": "markdown",
   "id": "ed9817ca-4140-435b-aa7c-4aa3182f926f",
   "metadata": {},
   "source": [
    "```{math}\n",
    ":label: eq_e5\n",
    "\\dot m = \\rho {\\rm V_{avg}} A_{\\rm c}\n",
    "``` "
   ]
  },
  {
   "cell_type": "markdown",
   "id": "f6008b93-cd8b-4f03-a90e-663641da9c12",
   "metadata": {},
   "source": [
    "And combining with {eq}`eq_e`"
   ]
  },
  {
   "cell_type": "markdown",
   "id": "9452c946-6609-4e9b-9d1c-a517a9acb405",
   "metadata": {},
   "source": [
    "```{math}\n",
    ":label: eq_e6\n",
    "\\dot V = {\\rm V_{avg}} A_{\\rm c}\n",
    "``` "
   ]
  },
  {
   "cell_type": "markdown",
   "id": "a0a22967-81d4-4957-91dd-ef6d3a99e38c",
   "metadata": {},
   "source": [
    "```{figure} Figures/velocity_profile.png\n",
    ":name: first law open fig b\n",
    "\n",
    "Exemplary velocity profile representative of simple plug flow, with maximum velocity at the center and velocity of zero at the walls. The velocity used in the energy equation is the average of this profile.\n",
    "```"
   ]
  },
  {
   "cell_type": "markdown",
   "id": "14de8fa4-1c67-483e-b7a8-8b423f8e46e1",
   "metadata": {},
   "source": [
    "In the ensuing discussions, the velocity terms are all average velocity but the subscript is removed for brevity."
   ]
  },
  {
   "cell_type": "markdown",
   "id": "091b8241-53e6-4924-a88c-f332fe61070d",
   "metadata": {},
   "source": [
    "(MassFlowrate)=\n",
    "#### Example - Calculating Mass Flowrates"
   ]
  },
  {
   "cell_type": "markdown",
   "id": "1815a373-0bfe-49c0-ae34-887bf0bfa7a5",
   "metadata": {},
   "source": [
    "N<sub>2</sub> gas flows in a 0.2 m diameter pipe at a uniform velocity of 0.1 $\\frac{m}{s}$. $T$ = 25 °C and $p$ = 150 kPa. Determine $ṁ$, assuming steady state and ideal gas behavior. $M$<sub>N2</sub> = 28 kg \n",
    "kmol-1\n"
   ]
  },
  {
   "cell_type": "markdown",
   "id": "b2d4cca2-2cb5-4724-83ab-723aeaafabfa",
   "metadata": {},
   "source": [
    "> **Solution** First, we should recognize that we are provided temperature and pressure and thus have enough information to determine specific volume (i.e. density) at the given conditions. We also know the diameter, thus the area, and also are given the velocity> Therefore, we also have enough information to solve for the volumetric flowrate using {eq}`eq_e6`, or $\\dot V = {\\rm V_{avg}} A_{\\rm c}$. Knowing volumetric flowrate and the specific volume we can then use {eq}`eq_e`, or $\\dot V = \\dot m v$, to solve for the mass flowrate."
   ]
  },
  {
   "cell_type": "markdown",
   "id": "c0e7b8cc-49c7-419c-988d-cd764445ccdf",
   "metadata": {},
   "source": [
    "> To determine specific volume we can either use the ideal gas equation or Cantera. For the sake of practice and to refresh your memory, lets do it both ways."
   ]
  },
  {
   "cell_type": "code",
   "execution_count": 1,
   "id": "238dac8a-dca3-4173-b192-9808fba18a73",
   "metadata": {},
   "outputs": [
    {
     "name": "stdout",
     "output_type": "stream",
     "text": [
      "Specific volume using Cantera is  0.5898 m^3/kg\n",
      "Specific volume using ideal gas law is  0.5902 m^3/kg\n"
     ]
    }
   ],
   "source": [
    "import cantera as ct\n",
    "species1 = ct.Nitrogen()\n",
    "species1.TP = 25+273.15,150000\n",
    "spec_vol = round(species1.TV[1],4)\n",
    "print(\"Specific volume using Cantera is \", spec_vol, \"m^3/kg\")\n",
    "\n",
    "def vol(T,p,M):\n",
    "    return 8.314/M*T/p\n",
    "spec_vol=round(vol(298.15,150,28),4)\n",
    "print(\"Specific volume using ideal gas law is \", spec_vol, \"m^3/kg\")"
   ]
  },
  {
   "cell_type": "markdown",
   "id": "f6c6f75c-d2c5-41a9-85a2-56458e17662b",
   "metadata": {},
   "source": [
    "> Lets write {eq}`eq_e6` as a function to solve for $\\dot V$"
   ]
  },
  {
   "cell_type": "code",
   "execution_count": 2,
   "id": "625d7bc9-3d8f-4836-ac2d-02ec9e02eb1e",
   "metadata": {},
   "outputs": [
    {
     "name": "stdout",
     "output_type": "stream",
     "text": [
      "The volumetric flowrate is  0.0031 m^3/s\n"
     ]
    }
   ],
   "source": [
    "import numpy as np\n",
    "def V_dot(vel,A):\n",
    "    return vel*A\n",
    "vol_rate = round(V_dot(0.1,np.pi*(.2/2)**2),4) # Note we needed to input the area in terms of our known diameter\n",
    "print(\"The volumetric flowrate is \", vol_rate, \"m^3/s\") "
   ]
  },
  {
   "cell_type": "markdown",
   "id": "947a4ac6-3deb-4300-8f95-da2ce0d0fb78",
   "metadata": {},
   "source": [
    "> Finally we can solve for $\\dot m$ using {eq}`eq_e` $\\dot V = \\dot m v$"
   ]
  },
  {
   "cell_type": "code",
   "execution_count": 3,
   "id": "9d23bca8-fdaf-41d4-93a3-561a04b68253",
   "metadata": {},
   "outputs": [
    {
     "name": "stdout",
     "output_type": "stream",
     "text": [
      "The mass flowrate is  0.0018 kg/s\n"
     ]
    }
   ],
   "source": [
    "mass_flow = spec_vol*vol_rate\n",
    "print(\"The mass flowrate is \", round(mass_flow,4), \"kg/s\") "
   ]
  },
  {
   "cell_type": "markdown",
   "id": "b833b804-306b-40d9-9afd-fef037f36949",
   "metadata": {},
   "source": [
    "Notice that we could have also used the ideal gas law in the form, which is $p \\dot V = \\dot m RT$, and omitted solving for the specific volume explicitly."
   ]
  },
  {
   "cell_type": "markdown",
   "id": "2e43f365-7bcc-4ec1-8cdf-1b842e519b45",
   "metadata": {
    "tags": []
   },
   "source": [
    "## Conservation of Mass"
   ]
  },
  {
   "cell_type": "markdown",
   "id": "52536a94-88be-42a9-9801-09f1f54601bb",
   "metadata": {},
   "source": [
    "```{index} mass conservation, steady state\n",
    "```"
   ]
  },
  {
   "cell_type": "markdown",
   "id": "2cc8a4fd-301d-4ebb-b44b-5409a68cc2f7",
   "metadata": {},
   "source": [
    "{ref}`Conservation of mass <genindex>` says that the difference between the mass that enters ($m_{\\rm i})$ a system and leaves the system ($m_{\\rm i})$ must be equal to the change in mass of the system ($\\Delta m_{\\rm sys}$)."
   ]
  },
  {
   "cell_type": "markdown",
   "id": "03ef784f-7155-4900-86b8-54dd5db09849",
   "metadata": {
    "tags": []
   },
   "source": [
    "```{math}\n",
    ":label: eq_p\n",
    "\\Delta m_{\\rm sys} = m_{\\rm i}-m_{\\rm e}\n",
    "```"
   ]
  },
  {
   "cell_type": "markdown",
   "id": "2eccda69-b409-4ab6-b45a-5536b0583512",
   "metadata": {},
   "source": [
    "Conservation of mass in rate form analagously says that the rate of change of a system mass is equal to the difference in the inlet and exit mass flowrates. For multiple inlets and exits this is"
   ]
  },
  {
   "cell_type": "markdown",
   "id": "231e690a-1515-479e-a035-278c8de10ffb",
   "metadata": {},
   "source": [
    "```{math}\n",
    ":label: eq_q\n",
    "\\frac {dm_{\\rm sys}}{dt} = \\sum \\dot m_{\\rm i} - \\sum \\dot m_{\\rm e}\n",
    "```"
   ]
  },
  {
   "cell_type": "markdown",
   "id": "0a01c0ce-cf55-432e-8100-dad7dc8b3cd4",
   "metadata": {
    "tags": []
   },
   "source": [
    "where the summation represents one or more inlets or exits. Any time the properties of a system do not change with time, the system is said to operate at {ref}`steady state <genindex>`. For example, a turbine which  produces power from an inlet stream of gas typically operates at steady state and the power output is constant with time. At any point in time the system properties (such as temperature, pressure, mass, internal energy, etc.) remain unchanged. That is not to say the inlet and exit properties cannot be different from each other - only that their properties with respect to their positions do not vary with time.  This implies that during steady state operation the system mass remains unchanged and thus the left hand side of equation {eq}`eq_q` is zero. Therefore, for a system at steady state the sum of the inlet flowrates should equal the sum of the exit flowrates."
   ]
  },
  {
   "cell_type": "markdown",
   "id": "5bb7c1cf-f362-41bd-9658-42019834859d",
   "metadata": {},
   "source": [
    "```{math}\n",
    ":label: eq_r\n",
    "\\sum \\dot m_{\\rm i} = \\sum \\dot m_{\\rm e}\n",
    "```"
   ]
  },
  {
   "cell_type": "markdown",
   "id": "0505804f-01ca-4f6e-b3d6-00e3a7967f89",
   "metadata": {},
   "source": [
    "And for a single inlet, single outlet, control volume the mass flowrates entering and exiting are equal."
   ]
  },
  {
   "cell_type": "markdown",
   "id": "f4c56f54-2f4e-4051-88c8-44cb2be47483",
   "metadata": {},
   "source": [
    "```{math}\n",
    ":label: eq_s\n",
    "\\dot m_{\\rm i} = \\dot m_{\\rm e} = \\dot m\n",
    "```"
   ]
  },
  {
   "cell_type": "code",
   "execution_count": null,
   "id": "6ebfed30-297d-4a74-b4fe-15fbd7765287",
   "metadata": {},
   "outputs": [],
   "source": []
  },
  {
   "cell_type": "markdown",
   "id": "6d88b584-0e8d-45d9-8143-b01961c6dc8b",
   "metadata": {},
   "source": [
    "## Energy Conservation for Open Systems"
   ]
  },
  {
   "cell_type": "markdown",
   "id": "998a4456-4fbd-4991-b575-f06903a4ccce",
   "metadata": {},
   "source": [
    "In addition to heat transfer and boundary work interactions that were considered in the closed system energy conservation equation, flow work and energy content of the mass entering or leaving the system need to also be accounted for in open systems. We have already defined the flow work above. The energy $E$ of the mass that enters is it's specific energy content, $e$, scaled by the mass, $m$, or $E = em$. And further, this can be broken down into the individual components, internal energy ($U$), kinetic energy ($KE$) and potential energy ($PE$). These terms should not be confused with the system's energy which can also be broken down similarly. Thus, we can say the energy content that entered ($E$<sub>i</sub>) or exited ($E$<sub>e</sub>) the control volume is the following."
   ]
  },
  {
   "cell_type": "markdown",
   "id": "407e90ec-f77e-4c9d-9bc3-f14404f2cf89",
   "metadata": {},
   "source": [
    "```{math}\n",
    ":label: eq_g\n",
    "E_{\\rm i} = U_{\\rm i} + KE_{\\rm i} + PE_{\\rm i}\n",
    "``` "
   ]
  },
  {
   "cell_type": "markdown",
   "id": "02d80da6-d8e4-4594-836c-64269f6b6b6e",
   "metadata": {},
   "source": [
    "```{math}\n",
    ":label: eq_h\n",
    "E_{\\rm e} = U_{\\rm e} + KE_{\\rm e} + PE_{\\rm e}\n",
    "``` "
   ]
  },
  {
   "cell_type": "markdown",
   "id": "750867bf-1bf1-4918-bb58-a096c4b2c092",
   "metadata": {},
   "source": [
    "Now, we can add these terms to the closed system energy conservation equation. Recall, for a stationary system this was $\\Delta U = Q_{\\rm net}-W_{\\rm net}$, where $W_{\\rm net}$ does not include the flow work and is typically represented by boundary work, electrical work, etc. For a system with one inlet and one exit, adding the inlet and exit flow work and energy of the entering and exiting masses, the energy equation becomes the following."
   ]
  },
  {
   "cell_type": "markdown",
   "id": "5a3e773c-a07a-4d98-b6be-a8feedae460e",
   "metadata": {},
   "source": [
    "```{math}\n",
    ":label: eq_i\n",
    "\\Delta U = Q_{\\rm net}-W_{\\rm net} + W_{\\rm flow,i}-W_{\\rm flow,e} + E_{\\rm i} - E_{\\rm e}\n",
    "``` "
   ]
  },
  {
   "cell_type": "markdown",
   "id": "473ca927-b86e-4c96-ae95-3fd9aa21cf4f",
   "metadata": {},
   "source": [
    "And"
   ]
  },
  {
   "cell_type": "markdown",
   "id": "42412bd3-7bf2-4651-afe0-568b797f8be0",
   "metadata": {},
   "source": [
    "```{math}\n",
    ":label: eq_j\n",
    "\\Delta U = Q_{\\rm net}-W_{\\rm net} + p_{\\rm i}V_{\\rm i}-p_{\\rm e}V_{\\rm e} + (U_{\\rm i}+\\frac{1}{2}m_{\\rm i}{\\rm V_i}^2+m_{\\rm i}gz_{\\rm i}) - (U_{\\rm e}+\\frac{1}{2}m_{\\rm e}{\\rm V_e}^2+m_{\\rm e}gz_{\\rm e})\n",
    "``` "
   ]
  },
  {
   "cell_type": "markdown",
   "id": "8c59748c-94e6-4861-bc8a-14e5e331665a",
   "metadata": {},
   "source": [
    "Recall that $H = U + pV$. Using this relationship, we can group the inlet and exit flow work terms with the inlet and exit internal energies, respectively, and simply call this the inlet and exit enthalpy. Below is the resulting generalized form of the energy conservation equation for open systems with a single inlet and exit."
   ]
  },
  {
   "cell_type": "markdown",
   "id": "de8bcd9c-1753-4e9d-b316-08c38184f9f5",
   "metadata": {},
   "source": [
    "```{math}\n",
    ":label: eq_k\n",
    "\\Delta U = Q_{\\rm net}-W_{\\rm net} + (H_{\\rm i}+\\frac{1}{2}m_{\\rm i}{\\rm V_i}^2+m_{\\rm i}gz_{\\rm i}) - (H_{\\rm e}+\\frac{1}{2}m_{\\rm e}{\\rm V_e}^2+m_{\\rm e}gz_{\\rm e})\n",
    "``` "
   ]
  },
  {
   "cell_type": "markdown",
   "id": "c098f30c-2679-43f6-bffd-53abcb245f58",
   "metadata": {},
   "source": [
    "The rate form of the open system energy conservation equation, with one inlet and one exit, becomes."
   ]
  },
  {
   "cell_type": "markdown",
   "id": "33f8776d-951a-43aa-a7ff-4d003e742935",
   "metadata": {},
   "source": [
    "```{math}\n",
    ":label: eq_m\n",
    "\\frac {dU}{dt} = \\dot Q_{\\rm net} - \\dot W_{\\rm net} + \\dot m_{\\rm i} (h_{\\rm i}+\\frac{{\\rm V_i}^2}{2}+gz_{\\rm i}) - \\dot m_{\\rm e} (h_{\\rm e}+\\frac{{\\rm V_e}^2}{2}+gz_{\\rm e})\n",
    "``` "
   ]
  },
  {
   "cell_type": "markdown",
   "id": "1f6bfb72-75d2-49a4-b72b-f916565ba262",
   "metadata": {},
   "source": [
    "A more generalized form can be easily derived which is valid for an open system with multiple inlets and exits."
   ]
  },
  {
   "cell_type": "markdown",
   "id": "3dc8a6b0-7f6e-4d77-8d03-b1a779e066ff",
   "metadata": {},
   "source": [
    "```{math}\n",
    ":label: eq_n\n",
    "\\frac {dU}{dt} = \\dot Q_{\\rm net} - \\dot W_{\\rm net} + \\sum \\dot m_{\\rm i} (h_{\\rm i}+\\frac{{\\rm V_i}^2}{2}+gz_{\\rm i}) -\\sum \\dot m_{\\rm e} (h_{\\rm e}+\\frac{{\\rm V_e}^2}{2}+gz_{\\rm e})\n",
    "``` "
   ]
  },
  {
   "cell_type": "markdown",
   "id": "71c6a6f9-923f-435d-b5fc-423351a9d267",
   "metadata": {},
   "source": [
    "For systems opreating at steady state left hand side of the energy conservation equation becomes zero, as shown below. "
   ]
  },
  {
   "cell_type": "markdown",
   "id": "fe029816-1918-497b-822f-3bfe0bec1a62",
   "metadata": {},
   "source": [
    "```{math}\n",
    ":label: eq_t\n",
    "0 = \\dot Q_{\\rm net} - \\dot W_{\\rm net} + \\sum \\dot m_{\\rm i} (h_{\\rm i}+\\frac{{\\rm V_i}^2}{2}+gz_{\\rm i}) -\\sum \\dot m_{\\rm e} (h_{\\rm e}+\\frac{{\\rm V_e}^2}{2}+gz_{\\rm e})\n",
    "``` "
   ]
  },
  {
   "cell_type": "markdown",
   "id": "3832dca2-c74b-4619-9f52-951ac53a14fc",
   "metadata": {},
   "source": [
    "And finally, the simplified steady state energy conservation equation for a control volume with a single inlet and exit is the following."
   ]
  },
  {
   "cell_type": "markdown",
   "id": "7bb2a501-09f4-40fe-879b-10735993bc77",
   "metadata": {},
   "source": [
    "```{math}\n",
    ":label: eq_u \n",
    "0 = \\dot Q_{\\rm net} - \\dot W_{\\rm net} + \\dot m(h_{\\rm i}-h_{\\rm e}) + \\dot m(\\frac{{\\rm V_i}^2}{2}-\\frac{{\\rm V_e}^2}{2}) +\\dot m g(z_{\\rm i} -z_{\\rm e})\n",
    "``` "
   ]
  },
  {
   "cell_type": "markdown",
   "id": "a2350142-eb87-4720-8c0b-b2605ca73b5a",
   "metadata": {},
   "source": [
    "(OpenSystem)=\n",
    "#### Example - Applying Open System Energy Equation"
   ]
  },
  {
   "cell_type": "markdown",
   "id": "c742975a-7d64-42f2-be33-6542f666030b",
   "metadata": {},
   "source": [
    "Nitrogen enters a horizontal 28 cm diameter pipe at 200 kPa and 20 °C with a velocity of 5 $\\frac{\\rm m}{\\rm s}$. The nitrogen is heated as it flows through the pipe and exits at 180 kPa and 40 °C. Determine $\\rm V_{\\rm e}$ and $\\dot V$<sub>e</sub> at the exit. Determine the rate of heat transfer to the nitrogen. Assume the system is at steady state. $M$<sub>N2</sub> = 28 $\\frac {\\rm kg} {\\rm kmol}$."
   ]
  },
  {
   "cell_type": "markdown",
   "id": "5cd0c2d7-ec1f-429b-8970-38e6df79fb6c",
   "metadata": {},
   "source": [
    "> **Solution** In this example, the system is operating at steady state and there is only a single inlet and exit. Therefore, the open system energy conservation equation reduces to {eq}`eq_u`\n",
    "$0 = \\dot Q_{\\rm net} - \\dot W_{\\rm net} + \\dot m(h_{\\rm i}-h_{\\rm e}) + \\dot m(\\frac{{\\rm V_i}^2}{2}-\\frac{{\\rm V_e}^2}{2}) +\\dot m g(z_{\\rm i} -z_{\\rm e})$"
   ]
  },
  {
   "cell_type": "markdown",
   "id": "1103c1ea-ab69-4420-9239-d2d11eaca7da",
   "metadata": {},
   "source": [
    "> Because the pipe is horizontal there is no change in elevation and therefore the height terms cancel and can be disregarded. Further, there is no mention of boundary work and we can assume this to be negligable and can also be disregarded. Therefore, {eq}`eq_u` reduces further to.\n",
    "$0 = \\dot Q_{\\rm net} + \\dot m(h_{\\rm i}-h_{\\rm e}) + \\dot m(\\frac{{\\rm V_i}^2}{2}-\\frac{{\\rm V_e}^2}{2})$"
   ]
  },
  {
   "cell_type": "markdown",
   "id": "7cfc1570-39be-43ab-a7aa-405d8b88e25a",
   "metadata": {},
   "source": [
    "> We are provided the inlet temperatures and pressures and therefore have enough information to determine the enthalpies. We also know the inlet velocity. The remaining unknown terms are $\\dot Q_{\\rm net}$, $\\dot m$, and ${\\rm V_e}$. To help solve for $\\dot m$ and ${\\rm V_e}$ we can use the mass conservation equation {eq}`eq_s` and relationship between mass flowrate, velocity and area {eq}`eq_e5`. I.e."
   ]
  },
  {
   "cell_type": "markdown",
   "id": "4d13824e-bb8e-4056-b83e-cc6cfc611744",
   "metadata": {},
   "source": [
    "> $\\dot m_{\\rm i} = \\dot m_{\\rm e}$"
   ]
  },
  {
   "cell_type": "markdown",
   "id": "1c0a1166-2e95-44fc-8a87-91e62806e1c0",
   "metadata": {},
   "source": [
    "> $\\rho_{\\rm i} {\\rm V_i} A_{\\rm i} = \\rho_{\\rm e} {\\rm V_e} A_{\\rm e}$"
   ]
  },
  {
   "cell_type": "markdown",
   "id": "d21837d6-b5dd-4a87-9e50-4edb00bde24b",
   "metadata": {},
   "source": [
    "> Finally, representing the density as inverse specific volume and assuming that the inlet and exit areas are equal, we find."
   ]
  },
  {
   "cell_type": "markdown",
   "id": "6b4b6d9c-41bf-4060-ab8d-cecb49ccb865",
   "metadata": {},
   "source": [
    "> $\\frac {\\rm V_i}{v_{\\rm i}}  = \\frac {\\rm V_e}{v_{\\rm e}}$, or\n",
    "> ${\\rm V_e} = {\\rm V_i} \\frac {v_{\\rm e}}{v_{\\rm i}}$"
   ]
  },
  {
   "cell_type": "markdown",
   "id": "ee25b07d-9dbe-4f0d-aedf-b44e857ab734",
   "metadata": {},
   "source": [
    "> Therefore, knowing the specific volumes at the inlet and exit, we can solve for the exit velocity. Since we know both temperature and pressure at both inlet and exit we can either use ideal gas law  or Cantera to solve for specific volumes. Solution using Cantera is below."
   ]
  },
  {
   "cell_type": "code",
   "execution_count": 4,
   "id": "de66b731-abba-455c-8d0f-ba58cc5edde5",
   "metadata": {},
   "outputs": [
    {
     "name": "stdout",
     "output_type": "stream",
     "text": [
      "Inlet Specific Volume =  0.435 m^3\n",
      "Exit Specific Volume =  0.516 m^3\n",
      "Exit Velocity =  5.937 m/s\n"
     ]
    }
   ],
   "source": [
    "import cantera as ct\n",
    "species1 = ct.Nitrogen()\n",
    "Ti = 20 +273.15 # Define inlet T in K\n",
    "Pi = 200000 # Define inlet P in Pa\n",
    "Te = 40 + 273.15 # Define exit T in K\n",
    "Pe = 180000 # Define exit P in Pa\n",
    "species1.TP = Ti,Pi # set inlet T and P\n",
    "vi = species1.TV[1] # determine inlet specific volume\n",
    "print(\"Inlet Specific Volume = \", round(vi,3),\"m^3\")\n",
    "species1.TP = Te,Pe # set exit T and P\n",
    "ve = species1.TV[1]\n",
    "print(\"Exit Specific Volume = \", round(ve,3), \"m^3\")\n",
    "Vi = 5 # m/s, inlet velocity\n",
    "Ve = Vi*ve/vi\n",
    "print(\"Exit Velocity = \", round(Ve,3), \"m/s\")"
   ]
  },
  {
   "cell_type": "markdown",
   "id": "f29f893c-9808-4d44-9505-8f9fa9b646a5",
   "metadata": {},
   "source": [
    "> We can solve for the massflowrate at either the inlet or exit, knowing $\\dot m = \\rho {\\rm V} A = \\frac{1}{v} {\\rm V} A$"
   ]
  },
  {
   "cell_type": "code",
   "execution_count": 5,
   "id": "8cbcc7eb-0186-426c-a0fa-d43a62142b7c",
   "metadata": {},
   "outputs": [
    {
     "name": "stdout",
     "output_type": "stream",
     "text": [
      "Mass Flowrate =  0.708 kg/s\n"
     ]
    }
   ],
   "source": [
    "import numpy as np\n",
    "Ai = np.pi*(28/2/100)**2 # Solve for the inlet/exit area\n",
    "m_dot = (1/vi)*Vi*Ai\n",
    "print(\"Mass Flowrate = \", round(m_dot,3), \"kg/s\")"
   ]
  },
  {
   "cell_type": "markdown",
   "id": "ca4eaf73-b3b8-42cb-8a86-03bbff793fa0",
   "metadata": {},
   "source": [
    "> Finally we can solve for the heat transfer using our simpliefied form of the energy equation, i.e. $0 = \\dot Q_{\\rm net} + \\dot m(h_{\\rm i}-h_{\\rm e}) + \\dot m(\\frac{{\\rm V_i}^2}{2}-\\frac{{\\rm V_e}^2}{2})$, but first we need to determine the inlet and exit enthalpies. We will use Cantera just like we did for the specific volumes."
   ]
  },
  {
   "cell_type": "code",
   "execution_count": 6,
   "id": "3b49913d-e940-473d-bb33-351c30a0f800",
   "metadata": {},
   "outputs": [
    {
     "name": "stdout",
     "output_type": "stream",
     "text": [
      "Inlet Specific Enthalpy =  -5610.681 J/kg\n",
      "Exit Specific Enthalpy =  15273.079 J/kg\n",
      "The Net Heat Transfer Rate is =  14790.564 W or  14.791 kW\n"
     ]
    }
   ],
   "source": [
    "import cantera as ct\n",
    "species1 = ct.Nitrogen()\n",
    "Ti = 20 +273.15 # Define inlet T in K\n",
    "Pi = 200000 # Define inlet P in Pa\n",
    "Te = 40 + 273.15 # Define exit T in K\n",
    "Pe = 180000 # Define exit P in Pa\n",
    "species1.TP = Ti,Pi # set inlet T and P\n",
    "hi = species1.TH[1] # determine inlet specific volume\n",
    "print(\"Inlet Specific Enthalpy = \", round(hi,3),\"J/kg\")\n",
    "species1.TP = Te,Pe # set exit T and P\n",
    "he = species1.TH[1]\n",
    "print(\"Exit Specific Enthalpy = \", round(he,3), \"J/kg\")\n",
    "Q = -m_dot*(hi-he)-m_dot*(Vi**2/2-Ve**2/2)\n",
    "print(\"The Net Heat Transfer Rate is = \", round(Q,3), \"W or \", round(Q/1000,3), \"kW\")"
   ]
  },
  {
   "cell_type": "markdown",
   "id": "0bf23c1f-3095-4c19-b896-bce7f470d479",
   "metadata": {},
   "source": [
    ">Notice that the resulting heat transfer is positive, indicating that heat had to be transferred to the system. Which, given the fact that the temperature of the fluid increased going from the inlet to the exit, makes logical sense."
   ]
  },
  {
   "cell_type": "markdown",
   "id": "dda35019-c8fd-4d54-b43a-e0d2c24e644f",
   "metadata": {},
   "source": [
    "### Aside - Using Cantera for Other Pure Substances and Gas Mixtures Such as Air"
   ]
  },
  {
   "cell_type": "markdown",
   "id": "d896d2a7-359d-412c-a4ff-e1e6d50d2918",
   "metadata": {},
   "source": [
    "You may have noticed that Cantera is limited to calling on a certain limited number of pure substances. These include such as Carbon Dioxide, Water, Nitrogen, Hydrogen, Oxygen and Helium (https://www.cantera.org/documentation/docs-2.6/sphinx/html/cython/importing.html). However, there are many situations where other pure substances (e.g. argon or methane) or gas mixtures, such as air (primarily N<sub>2</sub> and O<sub>2</sub>), are the working fluids of interest. Understanding gas mixtures is a more advanced topic that will be discussed in later sections, but for now we will introduce how to implement other pure substances and gas mixtures such as air using Cantera."
   ]
  },
  {
   "cell_type": "markdown",
   "id": "1ca69d84-85b8-4d47-8c23-88e053c327ae",
   "metadata": {},
   "source": [
    "For this, we will have to rely on databases of gas mixtures that have been created and call them within the $Solution$ function that is contained within the Cantera package. We will rely primarly in the gri30 database. We can define a species like we did prior for pure substances (e.g. species1 = ct.Water()), but rather we call $Solution$ and within this function input 'gri30.yaml' which is our gas mixture database. Like below:  "
   ]
  },
  {
   "cell_type": "code",
   "execution_count": 7,
   "id": "164297e1-e998-4f4c-9285-eab511eb0500",
   "metadata": {},
   "outputs": [],
   "source": [
    "import cantera as ct\n",
    "species1 = ct.Solution('gri30.yaml')# define species1 as a mixture of gases defined in the gri30 database. "
   ]
  },
  {
   "cell_type": "markdown",
   "id": "21654c7d-731d-4dcc-badf-70f7507d7d9b",
   "metadata": {},
   "source": [
    "If no mole or mass fractions are defined (which we have not done yet), by default the gas mixutre is composed of H<sub>2</sub>, as we can see below when we call species1."
   ]
  },
  {
   "cell_type": "code",
   "execution_count": 8,
   "id": "a2ac674c-09db-4280-9a37-a038a41377df",
   "metadata": {},
   "outputs": [
    {
     "name": "stdout",
     "output_type": "stream",
     "text": [
      "\n",
      "  gri30:\n",
      "\n",
      "       temperature   300 K\n",
      "          pressure   1.0133e+05 Pa\n",
      "           density   0.081894 kg/m^3\n",
      "  mean mol. weight   2.016 kg/kmol\n",
      "   phase of matter   gas\n",
      "\n",
      "                          1 kg             1 kmol     \n",
      "                     ---------------   ---------------\n",
      "          enthalpy             26469             53361  J\n",
      "   internal energy       -1.2108e+06        -2.441e+06  J\n",
      "           entropy             64910        1.3086e+05  J/K\n",
      "    Gibbs function       -1.9447e+07       -3.9204e+07  J\n",
      " heat capacity c_p             14311             28851  J/K\n",
      " heat capacity c_v             10187             20536  J/K\n",
      "\n",
      "                      mass frac. Y      mole frac. X     chem. pot. / RT\n",
      "                     ---------------   ---------------   ---------------\n",
      "                H2                 1                 1           -15.717\n",
      "     [  +52 minor]                 0                 0  \n",
      "\n"
     ]
    }
   ],
   "source": [
    "species1()"
   ]
  },
  {
   "cell_type": "markdown",
   "id": "de30344b-bd35-461e-94c4-f384b68b7839",
   "metadata": {},
   "source": [
    "If we would rather define species1 to be 100% methane, this is done by defining the mole fraction $X$ as follows"
   ]
  },
  {
   "cell_type": "code",
   "execution_count": 9,
   "id": "26730d2c-6b95-4012-a585-34fe8089b641",
   "metadata": {},
   "outputs": [],
   "source": [
    "species1.X = 'CH4:1' #Here we set the mixture to only be methane. I.e. CH4 mole fraction = 1."
   ]
  },
  {
   "cell_type": "markdown",
   "id": "facc896e-f99a-4a5c-9170-285c0d044bdd",
   "metadata": {},
   "source": [
    "Now when we call species1 we can see it is composed of only $\\rm{CH}_4$."
   ]
  },
  {
   "cell_type": "code",
   "execution_count": 10,
   "id": "ad26890c-ce47-4630-9e69-9cf84224a760",
   "metadata": {},
   "outputs": [
    {
     "name": "stdout",
     "output_type": "stream",
     "text": [
      "\n",
      "  gri30:\n",
      "\n",
      "       temperature   300 K\n",
      "          pressure   12733 Pa\n",
      "           density   0.081894 kg/m^3\n",
      "  mean mol. weight   16.043 kg/kmol\n",
      "   phase of matter   gas\n",
      "\n",
      "                          1 kg             1 kmol     \n",
      "                     ---------------   ---------------\n",
      "          enthalpy       -4.6459e+06       -7.4533e+07  J\n",
      "   internal energy       -4.8013e+06       -7.7028e+07  J\n",
      "           entropy             12706        2.0384e+05  J/K\n",
      "    Gibbs function       -8.4576e+06       -1.3568e+08  J\n",
      " heat capacity c_p              2229             35761  J/K\n",
      " heat capacity c_v            1710.8             27446  J/K\n",
      "\n",
      "                      mass frac. Y      mole frac. X     chem. pot. / RT\n",
      "                     ---------------   ---------------   ---------------\n",
      "               CH4                 1                 1           -54.397\n",
      "     [  +52 minor]                 0                 0  \n",
      "\n"
     ]
    }
   ],
   "source": [
    "species1()"
   ]
  },
  {
   "cell_type": "markdown",
   "id": "a9359de6-02f9-442c-8e31-f79b5ca3148d",
   "metadata": {},
   "source": [
    "Then, defining temperature, pressure or other extensive properties remains as we have learned for pure substances. For example, to set the temperature to 1000 K and pressure to 100 kPa you can type the following."
   ]
  },
  {
   "cell_type": "code",
   "execution_count": 11,
   "id": "e1f0b66b-1e8b-48df-95d5-0f7ac5b6dbe0",
   "metadata": {},
   "outputs": [],
   "source": [
    "species1.TP = 1000,100000 # define the temperature to be 100 K and pressure to be 100 kPa or 100000 Pa"
   ]
  },
  {
   "cell_type": "markdown",
   "id": "a393bf1a-5938-4624-9f3a-e707054f2063",
   "metadata": {},
   "source": [
    "To define gas mixtures such as air that are about 0.8 mole fraction N<sub>2</sub> and 0.2 mole fraction O<sub>2</sub>, we can simply define more species and their corresponding mole fractions when calling the mole fraction function $X$, like below."
   ]
  },
  {
   "cell_type": "code",
   "execution_count": 12,
   "id": "58603536-4563-4883-88e6-5bba96ecfd25",
   "metadata": {},
   "outputs": [
    {
     "name": "stdout",
     "output_type": "stream",
     "text": [
      "\n",
      "  gri30:\n",
      "\n",
      "       temperature   1000 K\n",
      "          pressure   55684 Pa\n",
      "           density   0.19295 kg/m^3\n",
      "  mean mol. weight   28.811 kg/kmol\n",
      "   phase of matter   gas\n",
      "\n",
      "                          1 kg             1 kmol     \n",
      "                     ---------------   ---------------\n",
      "          enthalpy        7.5379e+05        2.1717e+07  J\n",
      "   internal energy         4.652e+05        1.3403e+07  J\n",
      "           entropy            8341.5        2.4033e+05  J/K\n",
      "    Gibbs function       -7.5877e+06       -2.1861e+08  J\n",
      " heat capacity c_p            1151.9             33186  J/K\n",
      " heat capacity c_v            863.28             24872  J/K\n",
      "\n",
      "                      mass frac. Y      mole frac. X     chem. pot. / RT\n",
      "                     ---------------   ---------------   ---------------\n",
      "                O2           0.22213               0.2           -28.774\n",
      "                N2           0.77787               0.8           -25.672\n",
      "     [  +51 minor]                 0                 0  \n",
      "\n"
     ]
    }
   ],
   "source": [
    "species1.X = 'N2:0.8 O2:0.2' #Here we set the mixture to only be x= 0.8 N2 and x=0.2 O2.\n",
    "species1()"
   ]
  },
  {
   "cell_type": "markdown",
   "id": "a8a3a1f2-10f9-4d8b-ad1f-b107b5bc9898",
   "metadata": {},
   "source": [
    "## Some Typical Steady State Devices"
   ]
  },
  {
   "cell_type": "markdown",
   "id": "abf29a4c-ed54-47b0-97f0-ff0cc325a416",
   "metadata": {},
   "source": [
    "```{index} steady state devices\n",
    "```"
   ]
  },
  {
   "cell_type": "markdown",
   "id": "2896bc43-2951-4201-a08f-df85c7b3c5b6",
   "metadata": {},
   "source": [
    "Our discussion of the open system energy conservation equation ended with a consideration of steady state operation where the left hand side of the energy equation is set to zero because the internal energy of the system is constant with time. The general form with multiple inlets and exits is below and was discussed in {eq}`eq_t`.\n",
    "\n",
    "$0 = \\dot Q_{\\rm net} - \\dot W_{\\rm net} + \\sum \\dot m_{\\rm i} (h_{\\rm i}+\\frac{{\\rm V_i}^2}{2}+gz_{\\rm i}) -\\sum \\dot m_{\\rm e} (h_{\\rm e}+\\frac{{\\rm V_e}^2}{2}+gz_{\\rm e})$"
   ]
  },
  {
   "cell_type": "markdown",
   "id": "db21984f-8e5c-4923-b4f3-8b93895f900d",
   "metadata": {},
   "source": [
    "Although there are potentially many terms to consider in this equation, in practice there are usually many that can be neglected, either because they are not pertinant or because they are insignificant relative to the other terms. Some typical examples include the following below. Note that we will go through examples later that will provide more context if the significance is not evident yet.\n",
    "1. Single inlet and exit systems. In this case,  the mass flowrate entering and exiting should be equal, as discussed prior. \n",
    "1. Inlets and exits that are at the same elevation (e.g. horizontal pipe flow). In this case then there is no change in height and the potential energy terms can be neglected. Further, there are several cases where the inlets and exits may be at different heights, but the potential energy change is still small relative to the other energy terms and can thus be neglected. For example in turbines (discussed later in this chapter), the inlet and exit heights are often neglected because the overall change in potential energy is often more than an order or magnitude lower than the shaft work terms.\n",
    "1. Inlets and exits that are similar in area. In this case the kinetic energy terms can usually (but not always) be neglected because the change in kinetic energy is often small relative to the other energy terms.\n",
    "1. Adiabatic systems. In this case, the system is assumed to be perfectly insulated and there is no heat transfer. This is often applied for turbines, compressors and other shaft work devices (discussed later in this chapter).\n",
    "1. No shaft work. For devices such as nozzles and throttling devices (also discussed later in this chapter), there is no work done by or to the system and thus the work term can be negelected. Also, these devices are often adiabatic."
   ]
  },
  {
   "cell_type": "markdown",
   "id": "3c3e3b66-1b2f-490d-a7c2-8250536306ff",
   "metadata": {},
   "source": [
    "### Single Inlet and Exit Steady State Control Volumes"
   ]
  },
  {
   "cell_type": "markdown",
   "id": "d2427fc5-5889-4b78-90c4-f79e2012d9db",
   "metadata": {},
   "source": [
    "#### Pipes"
   ]
  },
  {
   "cell_type": "markdown",
   "id": "5cb18152-70cd-4e78-a926-a95ca3b74312",
   "metadata": {},
   "source": [
    "```{index} pipe flow\n",
    "```"
   ]
  },
  {
   "cell_type": "markdown",
   "id": "c2c53bf6-c7a1-4746-ac43-b2b46da70a25",
   "metadata": {},
   "source": [
    "A simple horizontal {ref}`pipe flow <genindex>` system is shown below in {numref}`Figure %s <first law fig c>` in which a fluid enters and exits the device through equal cross sectional areas and elevations.  Because there is a single inlet and exit, inlet and exit mass flowrates are idential because of mass conservation. Typically, there is no shaft work in pipe flow applications and this is indicated to be equal to zero. Depending on the application, tere may be energy transfer to or from the system in the form of heat transfer. In this example, the system is not adiabatic because heat transfer is indicated in the direction of the control volume. As mentioned above, we can often neglect changes in kinetic energy for systems like this with constant cross sectional area. "
   ]
  },
  {
   "cell_type": "markdown",
   "id": "151cb97b-1ded-4702-a6b5-2c524da7f3a7",
   "metadata": {},
   "source": [
    "```{figure} Figures/pipe_flow.png\n",
    ":name: first law fig c\n",
    "\n",
    "Exemplary pipe-flow open system with 1 inlet and 1 exit. \n",
    "```"
   ]
  },
  {
   "cell_type": "markdown",
   "id": "cf65e5d5-0f0f-4d26-8704-d011353df722",
   "metadata": {},
   "source": [
    "As mentioned above, we can often neglect changes in kinetic energy for systems like this with constant cross sectional area. This is not to say that the velocity change is negligible - rather for kinetic energy changes to be considered the velocity change typically has to be large, for example by an order or magnitude. And because of the relationship shown in {eq}`eq_e5`, i.e., $\\dot m = \\rho {\\rm V} A$, recognizing that $\\dot m_{\\rm i} = \\dot m_{\\rm e}$ and $A_{\\rm i} = A_{\\rm e}$, then the density change is propotional to the change in velocity. Thus, unless the change in density is very large, for example because the temperature change due to heat transfer is very large, we can usually neglect. Lets see why with a follow up to example {ref}`OpenSystem` above."
   ]
  },
  {
   "cell_type": "markdown",
   "id": "d0d4bbf8-a7fb-485a-abf2-05e08f282e25",
   "metadata": {},
   "source": [
    "(Pipe_Flow)=\n",
    "##### Example - Understanding Assumptions about Neglecting KE"
   ]
  },
  {
   "cell_type": "markdown",
   "id": "a531fc25-b7c9-42ac-9dee-77ba9842a54e",
   "metadata": {},
   "source": [
    "From the example {ref}`OpenSystem` above, compare the change in enthalpy to the change in kinetic energy. "
   ]
  },
  {
   "cell_type": "markdown",
   "id": "b812f30f-46a6-42fb-a561-547ba563dc4a",
   "metadata": {},
   "source": [
    "> Recall the prior question from before: Nitrogen enters a horizontal 28 cm diameter pipe at 200 kPa and 20 °C with a velocity of 5 $\\frac{\\rm m}{\\rm s}$. The nitrogen is heated as it flows through the pipe and exits at 180 kPa and 40 °C. Determine $\\rm V_{\\rm e}$ and $\\dot V$<sub>e</sub> at the exit. Determine the rate of heat transfer to the nitrogen. Assume the system is at steady state. $M$<sub>N2</sub> = 28 $\\frac {\\rm kg} {\\rm kmol}$. "
   ]
  },
  {
   "cell_type": "markdown",
   "id": "2b9da4b1-e6c8-4e0a-a597-d07c560ed660",
   "metadata": {},
   "source": [
    "> This could be done one of a few ways. One way, for example, would be to calculate the change in kinetic energy with the simplified form of the energy equation that results after simplification. $0 = \\dot Q_{\\rm net} + \\dot m(h_{\\rm i}-h_{\\rm e}) + \\dot m(\\frac{{\\rm V_i}^2}{2}-\\frac{{\\rm V_e}^2}{2})$"
   ]
  },
  {
   "cell_type": "markdown",
   "id": "ec1debd5-4cdc-4267-af63-9ed3af2819e4",
   "metadata": {},
   "source": [
    "> We determined that $Q$ = 14790.6 W, $h_{\\rm i}$ = -5610.681 J/kg, $h_{\\rm e}$ =  15273.079 J/kg and $\\dot m$ = 0.708 kg/s. Therefore we can readily calculate $\\Delta \\rm KE$ by "
   ]
  },
  {
   "cell_type": "markdown",
   "id": "6eccd1ea-6ab7-4be4-be0d-42a6d37f327c",
   "metadata": {},
   "source": [
    "> $\\Delta \\rm KE = -\\dot Q_{\\rm net} - \\dot m(h_{\\rm i}-h_{\\rm e})$"
   ]
  },
  {
   "cell_type": "code",
   "execution_count": 13,
   "id": "d85fd394-7b23-4098-a70e-e6e6efda6aea",
   "metadata": {},
   "outputs": [
    {
     "name": "stdout",
     "output_type": "stream",
     "text": [
      "The change in kinetic energy is  -4.9 J/s\n"
     ]
    }
   ],
   "source": [
    "Delta_KE = -14790.6 - .708*(-5610.681-15273.079)\n",
    "print(\"The change in kinetic energy is \" , round(Delta_KE,2), \"J/s\")"
   ]
  },
  {
   "cell_type": "markdown",
   "id": "00f74877-5c99-40e0-9218-c3222c0b9abb",
   "metadata": {},
   "source": [
    "> Of course we could have calculated the  $\\Delta \\rm KE$, since we calculated that the exit velocity was $\\rm V_{\\rm e}$ = 5.937 m/s and we were given the inlet which was $\\rm V_{\\rm i}$ = 5.937 m/s"
   ]
  },
  {
   "cell_type": "code",
   "execution_count": 14,
   "id": "832498d2-fd1b-4bca-99b5-9c392ef7976f",
   "metadata": {},
   "outputs": [
    {
     "name": "stdout",
     "output_type": "stream",
     "text": [
      "The change in kinetic energy is  -3.63 J/s\n"
     ]
    }
   ],
   "source": [
    "Delta_KE = 0.5*0.708*(5**2-5.937**2)\n",
    "print(\"The change in kinetic energy is \" , round(Delta_KE,2), \"J/s\")"
   ]
  },
  {
   "cell_type": "markdown",
   "id": "075873ef-68d8-4bb1-9cfc-d4ad4b7fb011",
   "metadata": {},
   "source": [
    "The differences between the two approaches are presumably due to rounding differences. Regardless, it is nearly negligable compared to the change in enthalpy, which is "
   ]
  },
  {
   "cell_type": "code",
   "execution_count": 15,
   "id": "33d77f72-886a-499c-a074-3e7ff84ed69a",
   "metadata": {},
   "outputs": [
    {
     "name": "stdout",
     "output_type": "stream",
     "text": [
      "The change in enthalpy is  -14785.7 J/s\n"
     ]
    }
   ],
   "source": [
    "Delta_h = .708*(-5610.681-15273.079)\n",
    "print(\"The change in enthalpy is \" , round(Delta_h,2), \"J/s\")"
   ]
  },
  {
   "cell_type": "markdown",
   "id": "acf3c5e3-47af-41d0-8982-5ca6b569587e",
   "metadata": {},
   "source": [
    "> One common error regarding units is when $\\rm \\Delta KE$ is compared to heat transfer or enthalpy in units kJ or kW. This is because when calculating KE, the units are $\\rm kg \\frac {\\rm m^2}{\\rm s^2}$, or $\\rm J$ (recall that $\\rm J=Nm$, or $\\rm kg \\frac {\\rm m^2}{\\rm s^2}$). Therefore, the units are off by a factor of 1000 if the velocity used is in m/s."
   ]
  },
  {
   "cell_type": "markdown",
   "id": "cee5ca79-4879-4bab-8c25-c4fa5876c176",
   "metadata": {},
   "source": [
    "#### Nozzles and Diffusers"
   ]
  },
  {
   "cell_type": "markdown",
   "id": "9041979b-fa96-4ca4-aca1-160143c4d4c5",
   "metadata": {},
   "source": [
    "```{index} nozzle, diffuser\n",
    "```"
   ]
  },
  {
   "cell_type": "markdown",
   "id": "07b1f5ff-ae37-4cc4-b000-60a1a46e1356",
   "metadata": {},
   "source": [
    "{ref}`Nozzles <genindex>` and {ref}`diffusers <genindex>` are two types of steady state devices that have different cross-sectional areas at the inlets and exits, and are designed to accelerate (in the case of a nozzle) or decelerate (in the case of a diffuser) the velocity of a fluid. These are shown below in {numref}`Figure %s <first law fig d>`. "
   ]
  },
  {
   "cell_type": "markdown",
   "id": "510a8ae4-88d0-46e6-a600-fe88d9eeadf9",
   "metadata": {},
   "source": [
    "```{figure} Figures/nozzle_diffuser.png\n",
    ":name: first law fig d\n",
    "\n",
    "Exemplary nozzle (left) and diffuser (right) steady state control volumes. \n",
    "```"
   ]
  },
  {
   "cell_type": "markdown",
   "id": "10efbb9d-5c99-4ffc-bd69-f84b5d8a4a00",
   "metadata": {},
   "source": [
    "Similar to pipes, there is typically no shaft work to consider, and the inlets and exits are at the same elevation and therefore potential energy changes can be disregarded. These systems are usually adiabatic and the inlet and exit mass flowrates are equal because of mass conservation. Therefore, our steady state open system energy conservation equation, with a single inlet and exit, as shown below, can be greatly simplified from"
   ]
  },
  {
   "cell_type": "markdown",
   "id": "aa4faa8f-7265-4758-9e32-5cd8e7aee80f",
   "metadata": {},
   "source": [
    "$0 = \\dot Q_{\\rm net} - \\dot W_{\\rm net} + \\dot m(h_{\\rm i}-h_{\\rm e}) + \\dot m(\\frac{{\\rm V_i}^2}{2}-\\frac{{\\rm V_e}^2}{2}) +\\dot m g(z_{\\rm i} -z_{\\rm e})$"
   ]
  },
  {
   "cell_type": "markdown",
   "id": "3713d732-75ec-4a54-898f-1a35b64c47c2",
   "metadata": {},
   "source": [
    "to "
   ]
  },
  {
   "cell_type": "markdown",
   "id": "e75e3b9a-2214-4a38-b2f4-f6f318cf594b",
   "metadata": {},
   "source": [
    "$\\frac{{\\rm V_e}^2}{2}-\\frac{{\\rm V_i}^2}{2} = h_{\\rm i}-h_{\\rm e}$"
   ]
  },
  {
   "cell_type": "markdown",
   "id": "dce77b69-0979-497f-921c-b5f61f92d900",
   "metadata": {},
   "source": [
    "#### Throttles"
   ]
  },
  {
   "cell_type": "markdown",
   "id": "476de3a7-f27f-485f-bee0-ad8a2fd3635b",
   "metadata": {},
   "source": [
    "```{index} throttle\n",
    "```"
   ]
  },
  {
   "cell_type": "markdown",
   "id": "d52a27a9-610c-461f-bd6e-7d9edb041d09",
   "metadata": {},
   "source": [
    "{ref}`Throttling valves <genindex>` are devices designed to decrease the pressure of a fluid without any resulting energy interactions with the surroundings; i.e., they are usually adiabatic and there is no shaft work. This is typically acheived by restricting the flow by means of a valve or porous plug, as seen below in {numref}`Figure %s <first law fig e>`. "
   ]
  },
  {
   "cell_type": "markdown",
   "id": "e1ce1f86-03f8-455a-878a-be1bfe4c867d",
   "metadata": {},
   "source": [
    "```{figure} Figures/throttle.png\n",
    ":name: first law fig e\n",
    "\n",
    "Exemplary throttle, represented here as a porous plug. A throttle is a steady state control volume designed to decrease the pressure of a fluid. \n",
    "```"
   ]
  },
  {
   "cell_type": "markdown",
   "id": "80d89133-1e4f-4c62-9b99-c78300db6702",
   "metadata": {},
   "source": [
    "In many cases, there is a phase change that occurs during the throttling process, from a liquid-vapor mixture to vapor. The inlet and exit areas are the same and therefore, like pipe flow, we can usually disregard changes in kinetic energy. Further, changes in potential energy can be disregarded and inlet and exit flowrates are identical because of mass conservation. Appling these assumptions to the steady state open system energy conservation equation with a single inlet and exit, shown below,"
   ]
  },
  {
   "cell_type": "markdown",
   "id": "3b23e580-aeae-498c-82a4-3cd6bc2081f5",
   "metadata": {},
   "source": [
    "$0 = \\dot Q_{\\rm net} - \\dot W_{\\rm net} + \\dot m(h_{\\rm i}-h_{\\rm e}) + \\dot m(\\frac{{\\rm V_i}^2}{2}-\\frac{{\\rm V_e}^2}{2}) +\\dot m g(z_{\\rm i} -z_{\\rm e})$"
   ]
  },
  {
   "cell_type": "raw",
   "id": "d8d5bdf9-3b80-46f0-869c-f908a0644c8a",
   "metadata": {},
   "source": [
    "reduces it to "
   ]
  },
  {
   "cell_type": "markdown",
   "id": "6376434a-d161-4415-8c9d-4a0ee6e60824",
   "metadata": {},
   "source": [
    " $h_{\\rm i} = h_{\\rm e}$. "
   ]
  },
  {
   "cell_type": "markdown",
   "id": "06f12eb2-aec4-498d-b270-55a021f59a7e",
   "metadata": {},
   "source": [
    "Simply put, the enthalpies at the inlet and exit are equivilent. For ideal gases then this means that the temperature remains unchanged, but for real gases there is a corresponding increase in exit temperature as the pressure decreases. Lets see why this is the case. Imagine a liquid vapor mixutre of H<sub>2</sub>O enters a throttle at 1 MPa with a quality of 0.5 and exits at 10 kPa. "
   ]
  },
  {
   "cell_type": "code",
   "execution_count": 16,
   "id": "dadd8fbc-8b94-4dd2-9971-8df4293165a9",
   "metadata": {},
   "outputs": [
    {
     "name": "stdout",
     "output_type": "stream",
     "text": [
      "At 1 MPa and x = 0.5, the temperature is  584.24 K and the enthalpy is  -13904.53 kJ\n"
     ]
    }
   ],
   "source": [
    "import cantera as ct\n",
    "species1 = ct.Water()\n",
    "species1.PQ = 100*10**5,0.5\n",
    "print(\"At 1 MPa and x = 0.5, the temperature is \", round(species1.TH[0],2), \"K and the enthalpy is \", round(species1.TH[1]/1000,2), \"kJ\")"
   ]
  },
  {
   "cell_type": "markdown",
   "id": "59fab519-d1a6-40f4-90ba-e2906be0654a",
   "metadata": {},
   "source": [
    "Now that we know the enthalpy at state 2, as well as the pressure, which was given, this state is fully defined and thus we can calculate the temperature (or any other state property)."
   ]
  },
  {
   "cell_type": "code",
   "execution_count": 17,
   "id": "8225bfbf-f80e-4150-9472-4dd9f4bf2acc",
   "metadata": {},
   "outputs": [
    {
     "name": "stdout",
     "output_type": "stream",
     "text": [
      "For an exit pressure of 10 kPa, the temperature is  319.0 K\n"
     ]
    }
   ],
   "source": [
    "import cantera as ct\n",
    "species1 = ct.Water()\n",
    "species1.HP = -13904.53*1000, 10*1000 #multiply both by 1000 to get units J and Pa\n",
    "print(\"For an exit pressure of 10 kPa, the temperature is \", round(species1.TH[0],2), \"K\")"
   ]
  },
  {
   "cell_type": "markdown",
   "id": "cb610c67-fb8e-4739-8011-01e01452fb30",
   "metadata": {},
   "source": [
    "#### Turbines and Compressors"
   ]
  },
  {
   "cell_type": "markdown",
   "id": "560b5f7c-7865-4393-8b84-7085a795d592",
   "metadata": {},
   "source": [
    "```{index} turbine, compressor\n",
    "```"
   ]
  },
  {
   "cell_type": "markdown",
   "id": "fab79c13-f770-49ab-b85d-9b85c0ec9536",
   "metadata": {},
   "source": [
    "{ref}`Turbines <genindex>` are steady-state, adiabatic devices that produce shaft work through the expansion of a gas or fluid across a series of blades connected to the rotating shaft. As a result of the expansion and corresponding net output in shaft work, there is a corresponding decrease in temperature and pressure of the working fluid. A schematic of a turbine is shown in {numref}`Figure %s <first law fig f>`  on the left. Notice that the inlet area is smaller than the exit area as a result of expansion. Often, the change in kinetic energy and potential energy is negligable compared to the change in enthalpy of the fluid, especially in gas and vapor turbines, but not always. For example, changes in potential energy do need to be considered for liquid turbines, such as those operating in pumped-hydro facilties. {ref}`Compressors <genindex>`, on the other hand, which are seen on the right side of {numref}`Figure %s <first law fig f>`, are adiabatic steady state devices designed to increase the pressure of the working fluid by applying shaft work to a gas. In contrast to a turbine, in which the working fluid can be gas, vapor or liquid, compressors are only used to increase the pressure of gases. The inlet area is larger than the exit area, and there is also an accompanying increase in temperature of the working fluid. Often, the change in kinetic energy and potential energy is negligable compared to the change in enthalpy of the fluid.  "
   ]
  },
  {
   "cell_type": "markdown",
   "id": "a4e92138-ff7a-4d1f-82ad-6c41ffc5e351",
   "metadata": {},
   "source": [
    "```{figure} Figures/turbine_compressor.png\n",
    ":name: first law fig f\n",
    "\n",
    "Exemplary turbine (left) and compressor (right). These are both adiabatic steady state devices that incorporate shaft work and result in a large change in pressure and enthalpy of the working fluid. \n",
    "```"
   ]
  },
  {
   "cell_type": "markdown",
   "id": "4c073b91-f0b2-4299-a5e1-564cb6a757a1",
   "metadata": {},
   "source": [
    "For both turbines and compressors, the single inlet/exit steady state energy equation, shown below"
   ]
  },
  {
   "cell_type": "markdown",
   "id": "dd227a5e-c11b-46f0-8254-5fa2dba6ce39",
   "metadata": {},
   "source": [
    "$0 = \\dot Q_{\\rm net} - \\dot W_{\\rm net} + \\dot m(h_{\\rm i}-h_{\\rm e}) + \\dot m(\\frac{{\\rm V_i}^2}{2}-\\frac{{\\rm V_e}^2}{2}) +\\dot m g(z_{\\rm i} -z_{\\rm e})$"
   ]
  },
  {
   "cell_type": "markdown",
   "id": "515995a4-5642-4d6d-9f17-f44719bedb40",
   "metadata": {},
   "source": [
    "can be reduced assuming they are adiabatic and that changes in kinetic energy and potential energy are negligable compared to changes in enthalpy. Under these assumptions the energy equation becomes the following."
   ]
  },
  {
   "cell_type": "markdown",
   "id": "e581fc86-64cc-427b-8c69-e0c2a8ae7bcb",
   "metadata": {},
   "source": [
    "$\\dot W_{\\rm net} = \\dot m(h_{\\rm i}-h_{\\rm e})$"
   ]
  },
  {
   "cell_type": "markdown",
   "id": "93caacbe-c834-455c-8632-5b3226526cef",
   "metadata": {},
   "source": [
    "Lets consider an example that compares the magnitude of the change in kinetic energy terms to the change in enthalpy to see why we can often negelect changes in velocity."
   ]
  },
  {
   "cell_type": "markdown",
   "id": "6d25b696-3878-4833-99c1-27765d6acc82",
   "metadata": {},
   "source": [
    "(turbines)=\n",
    "#### Example - Understanding Assumptions about Neglecting KE and PE changes in Turbines and Compressors"
   ]
  },
  {
   "cell_type": "markdown",
   "id": "7682b641-4b86-4758-a935-582142cea625",
   "metadata": {},
   "source": [
    "A steam turbine inlet conditions are 5 MPa, 500 <sup>o</sup>C, and 80 m/s. The exit conditions are 30 kPa, 90 % quality, and 50 m/s. The mass flowrate of the steam is 12 kg/s. Determine a) change in kinetic energy, b) the change in enthalpy, c) the power output and d) the turbine inlet area"
   ]
  },
  {
   "cell_type": "markdown",
   "id": "f76e9970-8329-423a-9a17-d154beccaa14",
   "metadata": {},
   "source": [
    "> a) We can readily calculate the change in kinetic enery knowing the mass flowrate and inlet/exit velocities. "
   ]
  },
  {
   "cell_type": "code",
   "execution_count": 18,
   "id": "0064a091-991f-4653-824a-bc092551f087",
   "metadata": {},
   "outputs": [
    {
     "name": "stdout",
     "output_type": "stream",
     "text": [
      "The change in kinetic energy is  23400.0 J/s\n"
     ]
    }
   ],
   "source": [
    "delta_KE = 0.5*12*(80**2-50**2)\n",
    "print(\"The change in kinetic energy is \", delta_KE, \"J/s\")"
   ]
  },
  {
   "cell_type": "markdown",
   "id": "437dcd25-82fa-4eb5-a681-1b57ab4729b8",
   "metadata": {},
   "source": [
    "> b) We know two independent properties at the inlet and exit of the turbine, thus these states are fully defined and we can therefore use Cantera to determine the specific enthalpy at the inlet and exit."
   ]
  },
  {
   "cell_type": "code",
   "execution_count": 19,
   "id": "52f07cf3-1d7f-48ee-8ff9-574613855506",
   "metadata": {},
   "outputs": [
    {
     "name": "stdout",
     "output_type": "stream",
     "text": [
      "Specific enthalpy at the inlet is  -12537.03 kJ\n",
      "Specific enthalpy at the exit is  -13579.04 kJ\n"
     ]
    }
   ],
   "source": [
    "import cantera as ct\n",
    "species1 = ct.Water()\n",
    "Ti = 500+273.15 # K, temperature at inlet\n",
    "Pi = 5*1000*1000 # Pa, pressure at inlet\n",
    "Pe = 30*1000 # Pa, pressure at exit\n",
    "xe = 0.9 # quality at exit\n",
    "species1.TP = Ti,Pi\n",
    "hi=species1.TH[1] # specific enthalpy at inlet, kJ/kg\n",
    "print(\"Specific enthalpy at the inlet is \", round(hi/1000,2), \"kJ\")\n",
    "species1.PQ = Pe,xe\n",
    "he=species1.TH[1] # specific enthalpy at exit, kJ/kg\n",
    "print(\"Specific enthalpy at the exit is \", round(he/1000,2), \"kJ\")"
   ]
  },
  {
   "cell_type": "markdown",
   "id": "afa05909-d753-4375-94b3-af22754a9ec5",
   "metadata": {},
   "source": [
    "> Knowing the specific enthalpies, we can determine the change in enthalpy by multiplying their difference times the mass flowrate of steam."
   ]
  },
  {
   "cell_type": "code",
   "execution_count": 20,
   "id": "395171e0-36ce-492c-8db0-f35092f3b62b",
   "metadata": {},
   "outputs": [
    {
     "name": "stdout",
     "output_type": "stream",
     "text": [
      "The change in enthalpy is  12504141.43 J/s, or  12.5 MJ/s\n"
     ]
    }
   ],
   "source": [
    "delta_H = 12*(hi-he)\n",
    "print(\"The change in enthalpy is \", round(delta_H,2), \"J/s, or \", round(delta_H/1000/1000,2), \"MJ/s\")"
   ]
  },
  {
   "cell_type": "markdown",
   "id": "8dc73152-9bbc-48df-b2e5-bf12b34be3f2",
   "metadata": {},
   "source": [
    "> Therefore, we can see that the change in enthalpy is about one order of magnitude larger than the change in kinetic energy"
   ]
  },
  {
   "cell_type": "markdown",
   "id": "9200d113-d047-43a4-b09f-d259292eef0b",
   "metadata": {},
   "source": [
    "> c) If we assume we can neglect changes in kinetic energy, based off of our results from parts a and b, then the power output is simply $\\dot W_{\\rm net} = \\dot m(h_{\\rm i}-h_{\\rm e})$, which we have determined already in part b."
   ]
  },
  {
   "cell_type": "code",
   "execution_count": 21,
   "id": "ab9df25d-470f-4fb1-b999-0238d836b593",
   "metadata": {},
   "outputs": [
    {
     "name": "stdout",
     "output_type": "stream",
     "text": [
      "The power output is  12504141.43 J/s, or  12.5 MJ/s or MW\n"
     ]
    }
   ],
   "source": [
    "work = 12*(hi-he)\n",
    "print(\"The power output is \", round(work,2), \"J/s, or \", round(work/1000/1000,2), \"MJ/s or MW\")"
   ]
  },
  {
   "cell_type": "markdown",
   "id": "16c2a617-2d68-4b07-a0eb-de1f87393987",
   "metadata": {},
   "source": [
    "> d) To calculate the inlet turbine area we can recall the equation {eq}`eq_e5` which says $\\dot m = \\rho {\\rm V} A$. Thus, knowing the density, or specific volume of the steam at the inlet, we can solve for the area. And since we already determined that the inlet state is fully defined, we can also use cantera to help us solve for the inlet specific volume."
   ]
  },
  {
   "cell_type": "code",
   "execution_count": 22,
   "id": "f92ef439-f101-402f-b650-80d1d45b3f0d",
   "metadata": {},
   "outputs": [
    {
     "name": "stdout",
     "output_type": "stream",
     "text": [
      "Specific volume at the inlet is  0.069 m^3/kg\n",
      "The inlet area is  0.01 m^2\n"
     ]
    }
   ],
   "source": [
    "import cantera as ct\n",
    "species1 = ct.Water()\n",
    "Ti = 500+273.15 # K, temperature at inlet\n",
    "Pi = 5*1000*1000 # Pa, pressure at inlet\n",
    "mi = 12 # kg/s, mass flowrate at inlet/exit\n",
    "Vi = 80 # m/s, inlet velocity\n",
    "species1.TP = Ti,Pi\n",
    "vi=species1.TV[1] # specific volume at inlet, m^3/kg\n",
    "print(\"Specific volume at the inlet is \", round(vi,3), \"m^3/kg\")\n",
    "A = mi*vi/Vi\n",
    "print(\"The inlet area is \", round(A,3), \"m^2\")"
   ]
  },
  {
   "cell_type": "markdown",
   "id": "7f3e4828-de42-45f5-be7c-2f9b40020b71",
   "metadata": {},
   "source": [
    "#### Pumps"
   ]
  },
  {
   "cell_type": "markdown",
   "id": "c4486da2-f67a-475e-990e-58b04757e954",
   "metadata": {},
   "source": [
    "```{index} pump\n",
    "```"
   ]
  },
  {
   "cell_type": "markdown",
   "id": "9c57ada1-a42d-4b48-a754-b4e465482201",
   "metadata": {},
   "source": [
    "{ref}`Pumps <genindex>`, shown below in {numref}`Figure %s <first law fig g>` are single inlet single exit steady state devices with a purpose similar to compressors; i.e., they are designed to increase the pressure of a fluid. However, in contract to compressors which increase the pressure of a gas, pumps can move both gases and liquids. For the purposes of this text, we will evaluate pumps almost exclusively with liquids, and thus can make liquid approxomations because of incompressibility. Pumps are typically treated as adiabatic systems, like compressors, and the velocity change contributing to changes in kinetic energy are usually negligable. The change in potential energy is often neglected because it is much smaller than the enthalpy change of the fluid, but this assumption is not good in cases of large elevation changes, for example in pump-hydro applications. "
   ]
  },
  {
   "cell_type": "markdown",
   "id": "ebb15053-12c5-44be-915d-762421fbeb60",
   "metadata": {},
   "source": [
    "```{figure} Figures/pump.png\n",
    ":name: first law fig g\n",
    "\n",
    "Exemplary pump, which is treated as a steady state, adiabatic device designed to increase the pressure of the working fluid. \n",
    "```"
   ]
  },
  {
   "cell_type": "markdown",
   "id": "3fa3df13-8085-49d4-8bff-b22aa1e3a678",
   "metadata": {},
   "source": [
    "Neglecting both kinetic energy and potential energy terms, our energy equation becomes the same as for turbines and compressors, i.e."
   ]
  },
  {
   "cell_type": "markdown",
   "id": "09d539c4-9011-47f6-99ae-97bc4ae70abd",
   "metadata": {},
   "source": [
    "$\\dot W_{\\rm net} = \\dot m(h_{\\rm i}-h_{\\rm e})$"
   ]
  },
  {
   "cell_type": "markdown",
   "id": "04bafa7b-23f1-4afc-bcdf-ce531a935214",
   "metadata": {},
   "source": [
    "Notice in {numref}`Figure %s <first law fig g>` that the inlet and exit temperatures are shown to be close to each other. In fact, compared to compressors, there is usually only a very small increase in temperature as pressure increases. And although the exit temperature will be higher, it is often assumed to be equal to the inlet because of limited compressed liquid data available in tabulated form. Since we will be using Cantera this is not an issue for this text, but it is worth taking some time to discuss the implications of these assumptions. We discussed prior in {numref}`LiquidApproximation` {ref}`LiquidApproximation`, that $v$ and $u$ are functions of temperature only and independent of pressure for incomressible substances. Assuming liquid incompressibility can help us evaluate pumping work in the absense of some compressed liquid data. First, recalling the definition of enthalpy and differentiating, we see the following."
   ]
  },
  {
   "cell_type": "markdown",
   "id": "f1919e10-478f-455a-b34a-7f379ee5fbe4",
   "metadata": {},
   "source": [
    "$h = u + pv$"
   ]
  },
  {
   "cell_type": "markdown",
   "id": "3f7d7520-b3c3-4c72-be4f-8272f8c82fe2",
   "metadata": {},
   "source": [
    "$dh = du + pdv + vdp$"
   ]
  },
  {
   "cell_type": "markdown",
   "id": "13afaa53-e3e6-4950-93e1-d3930e429ce8",
   "metadata": {},
   "source": [
    "Becuase of our liquid approximations for incompressible substances, we can equate $du$ and $dv$ terms to zero. Therefore,"
   ]
  },
  {
   "cell_type": "markdown",
   "id": "21b4d7b5-0913-4aa7-b74f-73a3901ea720",
   "metadata": {},
   "source": [
    "$dh = vdp$"
   ]
  },
  {
   "cell_type": "markdown",
   "id": "dc5ba6a5-3199-4e90-8b57-f16e36e1d422",
   "metadata": {},
   "source": [
    "and upon integration, recognizing that  $v$ is a function of temperature only for incompressible substances we see that"
   ]
  },
  {
   "cell_type": "markdown",
   "id": "cfa01acc-ba07-4fba-8f3b-8c157baca2d9",
   "metadata": {},
   "source": [
    "```{math}\n",
    ":label: eq_u\n",
    "\\Delta h = v \\Delta p\n",
    "``` "
   ]
  },
  {
   "cell_type": "markdown",
   "id": "63275c67-7722-4df0-9b67-dbb829e60ec6",
   "metadata": {},
   "source": [
    "We can use either the temperature at the inlet or exit to determine specific volume because the difference is usually negligable. Therefore, for pumps, when assuming incompressibility, we can also relate the work to the change in pressure of the fluid."
   ]
  },
  {
   "cell_type": "markdown",
   "id": "1fbfeb4e-f5c2-4737-8465-495b956a8a87",
   "metadata": {},
   "source": [
    "$\\dot W_{\\rm net} = \\dot m v(p_{\\rm i}-p_{\\rm e})$"
   ]
  },
  {
   "cell_type": "markdown",
   "id": "3ec17a0a-d7e7-421f-9a4d-84dc9f6fcc7b",
   "metadata": {},
   "source": [
    "Lets consider an example to see how this assumption will affect the pumping work."
   ]
  },
  {
   "cell_type": "markdown",
   "id": "033287c2-eba9-459c-be1f-0b85ca71e1fb",
   "metadata": {},
   "source": [
    "(pumps)=\n",
    "#### Example - Assuming Incompressibility Versus a Real Fluid"
   ]
  },
  {
   "cell_type": "markdown",
   "id": "d7358c58-5fac-4bec-9f6f-f410b4c0f32f",
   "metadata": {},
   "source": [
    "Determine the specific work of a pump that increases the pressure of water from 1 bar, 25 <sup>o</sup>C, to 10 MPa, with negligable temperature change. Assume the water is a) incompressible and b) a real substance"
   ]
  },
  {
   "cell_type": "markdown",
   "id": "4bd73aff-87bc-4520-b763-afc8cd878d2d",
   "metadata": {},
   "source": [
    "> a) We can readily calculate the speicifc work assuming incompressibility using our equation above in specific work form, $w_{\\rm net} = v(p_{\\rm i}-p_{\\rm e})$. We just need to be careful of using correct units"
   ]
  },
  {
   "cell_type": "code",
   "execution_count": 23,
   "id": "26ed65ca-c9c0-49e3-8a80-63d60d31fb35",
   "metadata": {},
   "outputs": [
    {
     "name": "stdout",
     "output_type": "stream",
     "text": [
      "The specific volume of the incompressible fluid is  0.001 m^3/kg\n",
      "The specific work of the pump is -9.93 kJ/kg\n"
     ]
    }
   ],
   "source": [
    "import cantera as ct\n",
    "pi = 100 #kPa, i.e. 1 bar  = 100 kPa\n",
    "pe = 10*1000 #kPa\n",
    "Ti = 25+273.15 # K\n",
    "species1 = ct.Water()\n",
    "species1.TP = Ti,pi*1000 # here we can set the pressure to be either the inlet or exit since we are assuming incompressibility\n",
    "vi = species1.TV[1] # specific volume in m^3/kg\n",
    "print(\"The specific volume of the incompressible fluid is \", round(vi,3), \"m^3/kg\")\n",
    "w = vi*(pi-pe)\n",
    "print(\"The specific work of the pump is\", round(w,2), \"kJ/kg\")"
   ]
  },
  {
   "cell_type": "markdown",
   "id": "e609c78a-07a9-42ab-b2b4-201c2da053e5",
   "metadata": {},
   "source": [
    "> b) If we cannot assume incompressibility, we need to determine enthaly at the inlet and exit to determine the specific work. Because we know two properties at each state, we have enough information. The relevant equation in specific work form is $w_{\\rm net} = (h_{\\rm i}-h_{\\rm e})$."
   ]
  },
  {
   "cell_type": "code",
   "execution_count": 24,
   "id": "a31e14ed-5b02-45a0-97ab-b9ac10c3a71c",
   "metadata": {},
   "outputs": [
    {
     "name": "stdout",
     "output_type": "stream",
     "text": [
      "The specific enthalpy at the inlet is  -15865848.172 J/kg\n",
      "The specific enthalpy at the exit is  -15856713.991 J/kg\n",
      "The specific work of the pump is -9.13 kJ/kg\n"
     ]
    }
   ],
   "source": [
    "import cantera as ct\n",
    "pi = 100 #kPa, i.e. 1 bar  = 100 kPa\n",
    "pe = 10*1000 #kPa\n",
    "Ti = 25+273.15 # K\n",
    "Te = Ti\n",
    "species1 = ct.Water()\n",
    "species1.TP = Ti,pi*1000 # here we have to set the pressure to be the inlet pressure because we are not assuming incompressibility\n",
    "hi = species1.TH[1] # specific enthalpy in J/kg\n",
    "print(\"The specific enthalpy at the inlet is \", round(hi,3), \"J/kg\")\n",
    "species1.TP = Te,pe*1000 # here we have to set the pressure to be the exit pressure because we are not assuming incompressibility\n",
    "he = species1.TH[1] # specific enthalpy in J/kg\n",
    "print(\"The specific enthalpy at the exit is \", round(he,3), \"J/kg\")\n",
    "w = hi-he\n",
    "print(\"The specific work of the pump is\", round(w/1000,2), \"kJ/kg\")"
   ]
  },
  {
   "cell_type": "markdown",
   "id": "013a7d19-2e8f-49b3-bfc4-3765ff1cfdff",
   "metadata": {},
   "source": [
    "> We can see that the specific work of the pump assuming H<sub>2</sub>O is a real substance is about 10% less than for the case of incompressibility. While this is not negligable, when we begin to evaluate larger processes where the pump is only a small component, this term is usually relatively small compared to other more energy intensive components such as boilers and turbines."
   ]
  },
  {
   "cell_type": "markdown",
   "id": "8fb5ccc8-e321-4ef1-91e1-079c30b12d69",
   "metadata": {},
   "source": [
    "### Multiple Inlet and Exit Steady State Control Volumes"
   ]
  },
  {
   "cell_type": "markdown",
   "id": "39724269-1165-4d1f-a078-d1566ce51e43",
   "metadata": {},
   "source": [
    "```{index} heat exchanger, mixing chamber\n",
    "```"
   ]
  },
  {
   "cell_type": "markdown",
   "id": "85c767d2-7627-494c-b544-aea6766db42b",
   "metadata": {},
   "source": [
    "There are several examples of steady state devices with multiple inlets and/or exits. Common examples include {ref}`heat exchangers <genindex>` and {ref}`mixing chambers <genindex>` which are discussed in more detail below."
   ]
  },
  {
   "cell_type": "markdown",
   "id": "6299772d-8c41-40ce-b821-378187295c7d",
   "metadata": {},
   "source": [
    "#### Heat Exchangers"
   ]
  },
  {
   "cell_type": "markdown",
   "id": "48fe8727-dbc0-446a-bf75-e14ff31065d3",
   "metadata": {},
   "source": [
    "```{index} heat exchanger\n",
    "```"
   ]
  },
  {
   "cell_type": "markdown",
   "id": "374a04fd-adfe-4692-addc-d2d618f45d20",
   "metadata": {},
   "source": [
    "A {ref}`heat exchanger<genindex>` is a steady state flow device design to heat or cool a fluid through heat transfer. The fluid can be a gas, liquid, liquid-vapor mixture and undergo phase change during the heating or cooling process. Often, heat exchangers are designed with two separate fluid streams each with an inlet and exit, such that there is thermal contact (i.e., heat transfer) from one fluid (hot side) to another (cold side). The fluid flows can be counter to each other, in a so-called counter-flow heat exchanger, or parallel to each other, and with various configurations. The design and configuration of heat exchangers is beyond the scope of this text and we will consider them only from a control-volume perspective. For counter-flow heat exchangers, they are often assumed adiabatic, meaning there is no net-heat transfer to or from the system at large. But, as mentioned, there is internal heat transfer from one fluid to another, and if the control volume were drawn around the specific fluid of interest then heat transfer would need to be considered. An exemplary heat exchanger is shown below in {numref}`Figure %s <first law fig h>`. In this example, the flows are counter to each other and there are two total inlets and exits to consider in the control volume. And although the heat exchanger is typically drawn this way, heat exchangers can also have only a single inlet and exit and include external heat transfer."
   ]
  },
  {
   "cell_type": "markdown",
   "id": "9b69f0f2-82b9-473b-bd09-b1c310a4f69b",
   "metadata": {},
   "source": [
    "```{figure} Figures/heat_exchanger.png\n",
    ":name: first law fig h\n",
    "\n",
    "Exemplary counter flow heat exchanger, which is treated as a steady state, adiabatic device, with two separate fluid streams in thermal contact, each with their own inlet and exit. \n",
    "```"
   ]
  },
  {
   "cell_type": "markdown",
   "id": "af0707ab-3a53-47e9-9cf2-fc5dfa5a56e6",
   "metadata": {},
   "source": [
    "Typical assumptions used to simplify the open system energy conservation equation are no boundary/shaft work, and negligable changes in kinetic and potential energies of each fluid stream. Starting with {eq}`eq_t`, the form of the steady state, open system energy equation with multiple inlets and exits, shown below"
   ]
  },
  {
   "cell_type": "markdown",
   "id": "f8e32ec2-1695-4374-9850-2f9fc3f8eecb",
   "metadata": {},
   "source": [
    "$0 = \\dot Q_{\\rm net} - \\dot W_{\\rm net} + \\sum \\dot m_{\\rm i} (h_{\\rm i}+\\frac{{\\rm V_i}^2}{2}+gz_{\\rm i}) -\\sum \\dot m_{\\rm e} (h_{\\rm e}+\\frac{{\\rm V_e}^2}{2}+gz_{\\rm e})$"
   ]
  },
  {
   "cell_type": "markdown",
   "id": "663dcb22-9684-471d-b166-9929346b4c80",
   "metadata": {},
   "source": [
    "this can be reduced to the simplified form below, in the case of counter flow heat exchangers like {numref}`Figure %s <first law fig h>`."
   ]
  },
  {
   "cell_type": "markdown",
   "id": "dd499161-0473-443c-95c2-fb0341ae7f92",
   "metadata": {},
   "source": [
    "$\\dot m_{\\rm 1} (h_{\\rm 1}-h_{\\rm 2}) = \\dot m_{\\rm 2} (h_{\\rm 4}-h_{\\rm 3})$"
   ]
  },
  {
   "cell_type": "markdown",
   "id": "fe10ebcd-f2f9-4f18-a681-c4c3cb608114",
   "metadata": {},
   "source": [
    "Also, if the control volume were to be drawn around only a single fluid element, for example the top in red, we could also show the following. "
   ]
  },
  {
   "cell_type": "markdown",
   "id": "683688f2-5011-4ba3-a06d-9580a7c4c878",
   "metadata": {},
   "source": [
    "$\\dot Q_{\\rm net} =  \\dot m_{\\rm 1} (h_{\\rm 1}-h_{\\rm 2})$ "
   ]
  },
  {
   "cell_type": "markdown",
   "id": "058f7a50-b161-4695-a826-d952a1913310",
   "metadata": {},
   "source": [
    "#### Mixing Chambers and Separators"
   ]
  },
  {
   "cell_type": "markdown",
   "id": "c2cbe475-c698-4994-9ea5-218ffced3af6",
   "metadata": {},
   "source": [
    "```{index} mixing chamber, separator\n",
    "```"
   ]
  },
  {
   "cell_type": "markdown",
   "id": "fb5edf4d-2094-4c15-8139-3c238b77c6fa",
   "metadata": {},
   "source": [
    "A {ref}`mixing chamber<genindex>` is a steady state flow device design to bring two or more streams into thermal equilibrium with one another by combining their fluid flows. This is in contrast to heat exchangers where the fluids are only in thermal contact with one another, but there is no mixing of substances. The fluids can be gas, liquid, liquid-vapor mixture and leave as any of these. An exemplary mixing chamber is shown below in {numref}`Figure %s <first law fig i>`. In this example, two streams enter and combine into a single exit stream. As a result of mass conservation, the two inlet mass flowrates must be equal to the exit mass flowrate. Typical assumptions used to simplify the open system energy conservation equation are no boundary/shaft work, adiabatic (i.e. only internal heat transfer) and negligable changes in kinetic and potential energies of each fluid stream. Similar to mixing chambers are {ref}`separation devices<genindex>`, that often have a single inlet and multiple outlets. These are useful in cases where saturated liquid-vapor mixtures are to be separated by supplying an outlet at the bottom for condensate and at the top for the vapor fraction."
   ]
  },
  {
   "cell_type": "markdown",
   "id": "7205d991-bc73-4367-a060-6fbc8d06cb1b",
   "metadata": {},
   "source": [
    "```{figure} Figures/mixing_chamber.png\n",
    ":name: first law fig i\n",
    "\n",
    "Exemplary mixing chamber, which is treated as a steady state, adiabatic device. Here, it is shown with two separate fluid inlets and a single exit. \n",
    "```"
   ]
  },
  {
   "cell_type": "markdown",
   "id": "5a634dc0-4f00-499b-a083-711ec8f39452",
   "metadata": {},
   "source": [
    " Starting with {eq}`eq_t`, the form of the steady state, open system energy equation with multiple inlets and exits, shown below"
   ]
  },
  {
   "cell_type": "markdown",
   "id": "4e463c8d-acd3-411f-8bbe-8d4fdb5fe3ac",
   "metadata": {},
   "source": [
    "$0 = \\dot Q_{\\rm net} - \\dot W_{\\rm net} + \\sum \\dot m_{\\rm i} (h_{\\rm i}+\\frac{{\\rm V_i}^2}{2}+gz_{\\rm i}) -\\sum \\dot m_{\\rm e} (h_{\\rm e}+\\frac{{\\rm V_e}^2}{2}+gz_{\\rm e})$"
   ]
  },
  {
   "cell_type": "markdown",
   "id": "0ca159e9-ea2d-447f-ba3a-170e96485efa",
   "metadata": {},
   "source": [
    "this can be reduced to the simplified form below, in the case of two inlets and one exit mixing chambers, like shown in {numref}`Figure %s <first law fig h>`."
   ]
  },
  {
   "cell_type": "markdown",
   "id": "c1b635a3-5702-40c9-a4db-1ee05d04dc3a",
   "metadata": {},
   "source": [
    "$\\dot m_{\\rm 1} h_{\\rm 1} + \\dot m_{\\rm 2} h_{\\rm 2} = \\dot m_{\\rm 3} h_{\\rm 3}$, where"
   ]
  },
  {
   "cell_type": "markdown",
   "id": "760a68e8-2363-43d9-9964-ff5cfd344411",
   "metadata": {},
   "source": [
    "$\\dot m_{\\rm 1} + \\dot m_{\\rm 2} = \\dot m_{\\rm 3} $"
   ]
  },
  {
   "cell_type": "markdown",
   "id": "10e18b32-1c39-4ecf-8587-026b7b856913",
   "metadata": {},
   "source": [
    "## Transient Considerations"
   ]
  },
  {
   "cell_type": "markdown",
   "id": "8412937d-c302-404c-8d36-b6bc45c3c68b",
   "metadata": {},
   "source": [
    "Until this point we have only considered steady state devices where the fluid properties are not changing with time. Unsteady flow devices are considerably more difficult to analyze because the properties at the inlet and exit may be changing with time, in addition to the system as a whole. In order to simplify calculations, which is generally a reasonable approach, we will assume that fluid properties at the inlet and exit do not change with time or position over the cross section, or in cases where they do, averaged properties will be used. We can start with either the rate or non-rate form of the open system energy equation, which were described in {eq}`eq_k` or {eq}`eq_m`. Starting from the non-rate form, shown again below"
   ]
  },
  {
   "cell_type": "markdown",
   "id": "3c3968ec-e3b6-40f0-8bcb-372b11dbb04c",
   "metadata": {},
   "source": [
    "$\\Delta U = Q_{\\rm net}-W_{\\rm net} + (H_{\\rm i}+\\frac{1}{2}m_{\\rm i}{\\rm V_i}^2+m_{\\rm i}gz_{\\rm i}) - (H_{\\rm e}+\\frac{1}{2}m_{\\rm e}{\\rm V_e}^2+m_{\\rm e}gz_{\\rm e})$"
   ]
  },
  {
   "cell_type": "markdown",
   "id": "4dc2d327-399a-45e7-96d0-b3c0bda152bc",
   "metadata": {},
   "source": [
    "and ignoring kinetic and potential energy effect, we can see this reduces to the following."
   ]
  },
  {
   "cell_type": "markdown",
   "id": "8989cf91-3057-4ce8-9138-67bbeca31e54",
   "metadata": {},
   "source": [
    "$U_{\\rm 2}-U_{\\rm 1} = Q_{\\rm net}-W_{\\rm net} + H_{\\rm i} - H_{\\rm e}$"
   ]
  },
  {
   "cell_type": "markdown",
   "id": "96fb65b8-905f-4ea5-8f28-4e15d7a279db",
   "metadata": {},
   "source": [
    "where the change in internal energy terms represent the change in system internal energy, and the i and e subscripts represent the property terms that entered or exited. For multiple inlet and exit devices we can therefore show a more general form."
   ]
  },
  {
   "cell_type": "markdown",
   "id": "328b88b2-8857-4b57-b98a-a9c800295dfd",
   "metadata": {},
   "source": [
    "```{math}\n",
    ":label: eq_v\n",
    "m_{\\rm 2} u_{\\rm 2}-m_{\\rm 1} u_{\\rm 1} = Q_{\\rm net}-W_{\\rm net} + \\sum m_{\\rm i} h_{\\rm i} - \\sum m_{\\rm e} h_{\\rm e}\n",
    "``` "
   ]
  },
  {
   "cell_type": "markdown",
   "id": "06eb6a09-13d8-40f0-8730-27a049a08633",
   "metadata": {},
   "source": [
    "Notice that the masses at state 2 and state 1 are different. If provided information in rate form, then to determine the non-rate forms here they would need to be integrated over time. Or, another way to approach this is to start with the rate form of the energy equation shown prior in {eq}`eq_n`."
   ]
  },
  {
   "cell_type": "markdown",
   "id": "83a78f28-8e14-4f2e-82d5-a7e06bb6739a",
   "metadata": {},
   "source": [
    "$\\frac {dU}{dt} = \\dot Q_{\\rm net} - \\dot W_{\\rm net} + \\sum \\dot m_{\\rm i} (h_{\\rm i}+\\frac{{\\rm V_i}^2}{2}+gz_{\\rm i}) -\\sum \\dot m_{\\rm e} (h_{\\rm e}+\\frac{{\\rm V_e}^2}{2}+gz_{\\rm e})$"
   ]
  },
  {
   "cell_type": "markdown",
   "id": "48867590-32c6-436b-a6ea-51bd5036480c",
   "metadata": {},
   "source": [
    "Again, ignoring kinetic and potential energy terms and integrating from state 1 to state 2."
   ]
  },
  {
   "cell_type": "markdown",
   "id": "e43b65c6-cffe-4ccc-b98a-4e960b0900c7",
   "metadata": {},
   "source": [
    "```{math}\n",
    ":label: eq_w\n",
    "\\int {dU} = \\int \\dot Q_{\\rm net} dt - \\int \\dot W_{\\rm net} dt + \\int \\sum \\dot m_{\\rm i} h_{\\rm i} dt -\\int \\sum \\dot m_{\\rm e} h_{\\rm e} dt\n",
    "``` "
   ]
  },
  {
   "cell_type": "markdown",
   "id": "ad06df64-e4bb-4c5c-8c07-237bf134fbfa",
   "metadata": {},
   "source": [
    "which is mathematically equivilent to the above derived equation {eq}`eq_v` assuming the flows and energy terms are uniform with time."
   ]
  },
  {
   "cell_type": "markdown",
   "id": "fae32fec-66e0-4716-9c74-1cb720732a5f",
   "metadata": {},
   "source": [
    "$\\int {dU} = \\int \\dot Q_{\\rm net} dt - \\int \\dot W_{\\rm net} dt + \\int \\sum \\dot m_{\\rm i} h_{\\rm i} dt -\\int \\sum \\dot m_{\\rm e} h_{\\rm e} dt$"
   ]
  },
  {
   "cell_type": "markdown",
   "id": "50f90a41-e350-4c47-8913-c37226792f66",
   "metadata": {},
   "source": [
    "If property values are changing with time, for example fluid flow temperature entering or exiting is changing, then assuming an average value is considered a resonable approach. But note that this is a simplifying assumption that can be more accurately solved through numerical integration techniques."
   ]
  },
  {
   "cell_type": "markdown",
   "id": "b828371a-28f2-482b-9219-9f4e0d265cdd",
   "metadata": {},
   "source": [
    "#### Example - Open System Analysis of a Turbine and Plotting"
   ]
  },
  {
   "cell_type": "markdown",
   "id": "215c7e71-f014-436c-92e2-c584b13973a7",
   "metadata": {},
   "source": [
    "> Imagine a steady state steam turbine with an inlet temperature of 250 <sup>o</sup>C, and inlet pressure of 1.1 MPa. If the turbine should produce 1.1 MW and the exit vapor should be saturated with a quality of 1, plot the exhaust pressure as a function of mass flowrate in kg s<sup>-1</sup>."
   ]
  },
  {
   "cell_type": "markdown",
   "id": "24f18703-84f5-44b4-90b7-f8ec132db565",
   "metadata": {},
   "source": [
    "> We should first make some assumptions. Although not explicitly stated, we will assume steady state operation and that the turbine is adiabatic. Further, we will assume that the change in kinetic and potential energies are negligable compared to the change in enthalpy. Therefore, our open system energy equation reduces to the following simplified form."
   ]
  },
  {
   "cell_type": "markdown",
   "id": "12a2532d-291a-4c3d-bb10-4f0b4137f2e3",
   "metadata": {},
   "source": [
    "> $\\dot W_{\\rm net} = \\dot m (h_{\\rm i}-h_{\\rm e})$"
   ]
  },
  {
   "cell_type": "markdown",
   "id": "e8dd7095-125e-4720-ac23-e561fb97ce96",
   "metadata": {},
   "source": [
    "> At first glance, we know $\\dot W_{\\rm net}$ because it is provided directly and we also have enough information to determine $h_{\\rm i}$ because we are provided with inlet temperature and pressure. Importantly, because H<sub>2</sub>O exits as a saturated vapor, the exit enthalpy is constrained knowing exit pressure. Thus, setting the pressure constrains the enthalpy which in turn constrains the mass flowrate. Thus we can solve for it directly knowing an exit pressure."
   ]
  },
  {
   "cell_type": "markdown",
   "id": "dd361fc5-77dc-4ea4-bfdc-793781be538f",
   "metadata": {},
   "source": [
    "> First, we can generate a list of  saturated vapor enthalpies between saturated pressures of 10 kPa and 1.1 MPa. 10 kPa is chosen an an arbitary lower limit but typically pressures will not be lower than this. 1.1. MPa is the upper bound because the exit pressure must be lower than the inlet pressure. Then we will determine the staurated vapor enthalpy at each pressure and calculate the corresponding mass flowrate."
   ]
  },
  {
   "cell_type": "code",
   "execution_count": 25,
   "id": "7ba19e8c-0352-48bb-89e7-3f6bd3c4b281",
   "metadata": {},
   "outputs": [
    {
     "name": "stdout",
     "output_type": "stream",
     "text": [
      "The exit saturated vapor enthalpies, in J kg-1, are  [-13386087.233977845, -13291069.311920043, -13261858.638301643, -13243912.725391736, -13231055.595396863, -13221148.414583094, -13213182.799353473, -13206598.909831911, -13201052.067371612, -13196314.2499662, -13192226.394429432]\n"
     ]
    }
   ],
   "source": [
    "import cantera as ct\n",
    "import numpy as np\n",
    "species1=ct.Water()\n",
    "exit_pres = np.arange(10,1100,100) #list of pressures from 10 kPa to 1.1 MPa\n",
    "x=1\n",
    "enthalpy = [] #here we create an array to append our enthalpy values\n",
    "for i in exit_pres:\n",
    "    species1.PQ = i*1000,x # set state to pressure i, in Pa\n",
    "    enthalpy.append(species1.TH[1])\n",
    "print(\"The exit saturated vapor enthalpies, in J kg-1, are \", enthalpy)"
   ]
  },
  {
   "cell_type": "markdown",
   "id": "376509d5-2a20-4159-ae94-4c809de5bdb9",
   "metadata": {},
   "source": [
    "> Instead of using a for loop, we could have alternatively created a function and vectorized it, like below. The result is now an array rather than a list."
   ]
  },
  {
   "cell_type": "code",
   "execution_count": 26,
   "id": "de6bd42a-f9a9-4d01-ba7f-4a764a8d8d99",
   "metadata": {},
   "outputs": [
    {
     "name": "stdout",
     "output_type": "stream",
     "text": [
      "The exit saturated vapor enthalpies, in J kg-1, are  [-13386087.23397784 -13291069.31192004 -13261858.63830164\n",
      " -13243912.72539174 -13231055.59539686 -13221148.41458309\n",
      " -13213182.79935347 -13206598.90983191 -13201052.06737161\n",
      " -13196314.2499662  -13192226.39442943]\n"
     ]
    }
   ],
   "source": [
    "def enthalpy(i):\n",
    "    species1.PQ = i*1000,x\n",
    "    return species1.TH[1]\n",
    "enthalpy = np.vectorize(enthalpy)\n",
    "enthalpy=enthalpy(exit_pres)\n",
    "print(\"The exit saturated vapor enthalpies, in J kg-1, are \", enthalpy)"
   ]
  },
  {
   "cell_type": "markdown",
   "id": "6106d562-6dc8-4d1b-ace4-fb40c4b38d4c",
   "metadata": {},
   "source": [
    "> Finally, we can calulate mass flowrate by rearranging our energy conservation equation. We will create a function m_flow that is a function of enthalpy. We also need to determine our inlet enthalpy."
   ]
  },
  {
   "cell_type": "code",
   "execution_count": 27,
   "id": "3bc4d25c-57f3-473b-bc22-5a7ee2ca5f63",
   "metadata": {},
   "outputs": [
    {
     "name": "stdout",
     "output_type": "stream",
     "text": [
      "The mass flowrates, in kg s-1, are  [3.10631335 4.24547156 4.78491938 5.19007426 5.52525351 5.81460788\n",
      " 6.07020161 6.29906102 6.50570528 6.69325543 6.86398816]\n"
     ]
    }
   ],
   "source": [
    "W_net = 1.1*1000*1000 # J/s\n",
    "T_in = 250+273.15 # inlet temperature in K\n",
    "p_in = 1.1*1000*1000 # inlet pressure in Pa\n",
    "species1.TP = T_in,p_in\n",
    "h_in = species1.TH[1] # inlet enthalpy in J/kg\n",
    "def m_flow(x): #x will be our list/array of exit enthalpies\n",
    "    return W_net/(h_in-x)\n",
    "flowrates=m_flow(enthalpy)\n",
    "print(\"The mass flowrates, in kg s-1, are \", flowrates)"
   ]
  },
  {
   "cell_type": "markdown",
   "id": "77dbf735-1bfb-4a09-9adf-708c0db7f8e7",
   "metadata": {},
   "source": [
    "> Now we can plot our results using **matplotlib**"
   ]
  },
  {
   "cell_type": "code",
   "execution_count": 28,
   "id": "081907fa-ee90-4c51-9715-597bff744243",
   "metadata": {},
   "outputs": [
    {
     "data": {
      "image/png": "[encoded data removed]",
      "text/plain": [
       "<Figure size 640x480 with 1 Axes>"
      ]
     },
     "metadata": {},
     "output_type": "display_data"
    }
   ],
   "source": [
    "import matplotlib.pyplot as plt\n",
    "plt.scatter(flowrates,exit_pres, color='red')\n",
    "plt.xlabel(r'$\\dot m$, $\\frac{\\mathrm{kg}}{\\mathrm{s}}$',  fontsize=12)\n",
    "plt.ylabel(r' Exit Pressure, kPa',  fontsize=12)\n",
    "plt.show()"
   ]
  },
  {
   "cell_type": "markdown",
   "id": "7acc1eb5-f021-4ea2-a100-86d2be527754",
   "metadata": {},
   "source": [
    "> As can be seen,  he required mass flowrate increases as exit pressure increases. This is because the exit enthlpy also increases with increasing pressure, resulting in a smaller difference in specific enthalpy between the inlet and exit. Thus, to compensate for the smaller different, a larger mass flowrate is required."
   ]
  },
  {
   "cell_type": "markdown",
   "id": "110c3cde-5ec1-412f-8807-e965a5ed282e",
   "metadata": {},
   "source": [
    "### Open System Analysis with Variable Specific Heats"
   ]
  },
  {
   "cell_type": "markdown",
   "id": "0cba9fad-6b14-4931-851e-f6275023bcc0",
   "metadata": {},
   "source": [
    "```{index} shomate, variable specific heat\n",
    "```"
   ]
  },
  {
   "cell_type": "markdown",
   "id": "d0ed599a-e310-49e7-b87e-5fe2086397d3",
   "metadata": {},
   "source": [
    "Without readily available equations of state (such as those in Cantera) it is typical to evaluate thermodynamic processes with ideal gases using specific heats. However, if there is a large change in temperature during the process (e.g., in a turbine), then assuming constant specific heats may not be a good approxomation. But often, we may not know a priori what the inlet or exit temperature is, and thus the question of what temperature range should be used to evaluate specific heat arises. Recall, for an ideal gas that "
   ]
  },
  {
   "cell_type": "markdown",
   "id": "7e44e13c-ea91-4ca4-a6de-ad04df789c05",
   "metadata": {},
   "source": [
    "$\\Delta h = \\int_{1}^{2} c_{\\rm p} dT$"
   ]
  },
  {
   "cell_type": "markdown",
   "id": "7c6c7906-8446-467d-bd3e-4617b66a8173",
   "metadata": {},
   "source": [
    "We discussed prior in section {numref}`specific_heats` {ref}`specific_heats` that to use variable specific heats and intrgrate over a temperature range we can use the {ref}`Shomate Equation<genindex>` - an example was discussed in {numref}`cpExample2` {ref}`cpExample2`. The Shomate equation is"
   ]
  },
  {
   "cell_type": "markdown",
   "id": "53cc8099-830c-4a40-a6cd-c5d4c072029a",
   "metadata": {},
   "source": [
    "$c_{\\rm p} = A + BT + CT^2 + DT^3 + \\frac{E}{T^2}$"
   ]
  },
  {
   "cell_type": "markdown",
   "id": "376e4440-b4b6-4545-b47b-4433c659b3fa",
   "metadata": {},
   "source": [
    "and thus the integrated form to determine change in enthalpy is"
   ]
  },
  {
   "cell_type": "markdown",
   "id": "e43fb78b-a2a7-43e5-8ffd-1e4d450bf16f",
   "metadata": {},
   "source": [
    "$\\Delta h = \\left. AT + \\frac{BT^2}{2} + \\frac{CT^3}{3} + \\frac{DT^4}{4} - \\frac{E}{T}  \\right|_{T_1}^{T_2}$"
   ]
  },
  {
   "cell_type": "markdown",
   "id": "b7794ff9-c9bf-4e88-8bbe-8161927a2a88",
   "metadata": {},
   "source": [
    "Using a pencil and paper approach to solve a problem this way would be tedious and require trial and error, guessing the appropriate temperature until the energy equation is satisfied. However, since we are working with Python, we can take advantage of its built in solvers and/or minimization routines to help solve problems like this more easily. For example, lets assume we know the power output of an nitrogen-based gas turbine is 500 MW and the inlet temperature and pressure are 500 <sup>o</sup>C and 1.1 MPa. We also know that the mass flowrate is 50 kg/s and wish to know the exit temperature. The simplified open system energy conservation equation in this case is:"
   ]
  },
  {
   "cell_type": "markdown",
   "id": "e5ebd265-e748-4f87-bab1-a5b20e3439a6",
   "metadata": {},
   "source": [
    "$\\dot W_{\\rm net} = \\dot m (h_{\\rm i}-h_{\\rm e}) = \\dot m \\Delta h$"
   ]
  },
  {
   "cell_type": "markdown",
   "id": "f991017a-ce50-4585-9209-24601bedf474",
   "metadata": {},
   "source": [
    "Becuase this is a gas turbine and we are assuming ideal gas behavior, the pressure is actually superfluous information. Let's define a function for the enthalpy, i.e.:"
   ]
  },
  {
   "cell_type": "code",
   "execution_count": 29,
   "id": "1eeb7507-2d94-4603-b80b-a2eabb015d9f",
   "metadata": {},
   "outputs": [],
   "source": [
    "def h(T):\n",
    "    return (A*(T/1000)+B*(T/1000)**2/2+C*(T/1000)**3/3+D*(T/1000)**4/4-E/(T/1000)) #kJ/mol"
   ]
  },
  {
   "cell_type": "markdown",
   "id": "3b379b2b-a2ee-46de-bf6a-17aefde6ae0d",
   "metadata": {},
   "source": [
    "We can find the parameters A,B,C, etc. from the NIST Chemistry Webook (https://webbook.nist.gov/chemistry/name-ser/). What you will notice for N<sub>2</sub> is that there are different fitting parameters for different temperatures, as seen below."
   ]
  },
  {
   "cell_type": "markdown",
   "id": "c5b1e5ec-a02a-45e2-b3b9-acbfed1cd889",
   "metadata": {},
   "source": [
    "```{figure} Figures/shomate_equation_2.png\n",
    ":name: first law open fig b\n",
    "\n",
    "Shomate equation and fitting parameters for nitrogen, obtained from NIST Chemistry WebBook (https://webbook.nist.gov/chemistry/)\n",
    "```"
   ]
  },
  {
   "cell_type": "markdown",
   "id": "60982d51-ba01-49ef-924f-bf6ae1e69565",
   "metadata": {},
   "source": [
    "For the purposes of this example, we will also only use the fit for the temperature range 500-2000 K to limit the computational complexity. Also, notice the units of enthalpy after integration are in kJ/mol. To be consistent with our example we will need to convert from mol to kg - thus we will divide our change in enthalpy by 28 g/mol and multiply by 1000 to convert from g to kg. Before using more elaborate solution solutions, lets just try a guess and check approach. To do this we can define a function $func$ which should equal zero if our exit temperature is correct. I.e.:"
   ]
  },
  {
   "cell_type": "code",
   "execution_count": 30,
   "id": "8b038878-26d5-4d63-868f-5120a06ffc67",
   "metadata": {},
   "outputs": [],
   "source": [
    "A,B,C,D,E = 28.99,1.85,-9.65,16.64,.00012\n",
    "W_net,m_dot,Ti = 500*10*3, 50, 773.15 # Work in kW, T in K\n",
    "def func(T):\n",
    "    return W_net - m_dot*(h(Ti)-h(T))*1000/28 # divided by 28 because of the mole to g conversion. Multiplied by 1000 to convert from g to kg"
   ]
  },
  {
   "cell_type": "markdown",
   "id": "6be89a90-ac29-4a4d-8ea0-b7e62a0e9ba4",
   "metadata": {},
   "source": [
    "We can guess $T$<sub>e</sub>, for example 600 K. "
   ]
  },
  {
   "cell_type": "code",
   "execution_count": 31,
   "id": "a02f7f7d-e96b-4ef7-addd-0f6625f87846",
   "metadata": {},
   "outputs": [
    {
     "data": {
      "text/plain": [
       "5365.913331265707"
      ]
     },
     "execution_count": 31,
     "metadata": {},
     "output_type": "execute_result"
    }
   ],
   "source": [
    "func(600)"
   ]
  },
  {
   "cell_type": "markdown",
   "id": "471a40b0-5d84-48b6-9543-e88670c2c674",
   "metadata": {},
   "source": [
    "then 400K"
   ]
  },
  {
   "cell_type": "code",
   "execution_count": 32,
   "id": "ab9cf0e8-3190-4b32-b07b-c9a0a183855c",
   "metadata": {},
   "outputs": [
    {
     "data": {
      "text/plain": [
       "-5217.670002067618"
      ]
     },
     "execution_count": 32,
     "metadata": {},
     "output_type": "execute_result"
    }
   ],
   "source": [
    "func(400)"
   ]
  },
  {
   "cell_type": "markdown",
   "id": "888231ec-8d18-4a41-bb65-48d873eb1b01",
   "metadata": {},
   "source": [
    "and finally 500 K where we see it is approaching zero."
   ]
  },
  {
   "cell_type": "code",
   "execution_count": 33,
   "id": "d0d78973-426a-4153-a89e-2a12b61ea9b4",
   "metadata": {},
   "outputs": [
    {
     "data": {
      "text/plain": [
       "31.61095031333025"
      ]
     },
     "execution_count": 33,
     "metadata": {},
     "output_type": "execute_result"
    }
   ],
   "source": [
    "func(500)"
   ]
  },
  {
   "cell_type": "markdown",
   "id": "a015f748-8465-4144-b291-91cfc160ef96",
   "metadata": {},
   "source": [
    "Of course, we could also plot our function versus temperature to see exactly where it approaches zero, like below."
   ]
  },
  {
   "cell_type": "code",
   "execution_count": 34,
   "id": "2a10ca34-4951-46f9-96e5-de86f242d4aa",
   "metadata": {},
   "outputs": [
    {
     "data": {
      "image/png": "[encoded data removed]",
      "text/plain": [
       "<Figure size 640x480 with 1 Axes>"
      ]
     },
     "metadata": {},
     "output_type": "display_data"
    }
   ],
   "source": [
    "import matplotlib.pyplot as plt\n",
    "import numpy as np\n",
    "temps = np.arange(300,700,10)\n",
    "plt.plot(temps,func(temps), color='red')\n",
    "plt.xlabel(r'Temperature, K',  fontsize=12)\n",
    "plt.ylabel(r' func, kW',  fontsize=12)\n",
    "plt.show()"
   ]
  },
  {
   "cell_type": "markdown",
   "id": "553f330d-92e4-406e-a749-f7b888d0113e",
   "metadata": {},
   "source": [
    "We can also solve directly for the exit temperature using the *fsolve* function within *scipy.optimize* package, like below. We just need to give an initial guess."
   ]
  },
  {
   "cell_type": "code",
   "execution_count": 35,
   "id": "feb6ea27-c594-4f6b-ae32-98b1f954e48e",
   "metadata": {},
   "outputs": [
    {
     "name": "stdout",
     "output_type": "stream",
     "text": [
      "The exit temperature is  499.4  K.\n"
     ]
    }
   ],
   "source": [
    "import numpy as np\n",
    "from scipy.optimize import fsolve\n",
    "A,B,C,D,E = 28.99,1.85,-9.65,16.64,.00012\n",
    "W_net,m_dot,Ti = 500*10*3, 50, 773.15 # Work in kW, T in K\n",
    "def func(T):\n",
    "    return W_net - m_dot*(h(Ti)-h(T))*1000/28 # divided by 28 because of the mole to g conversion. Multiplied by 1000 to convert from g to kg\n",
    "root = fsolve(func, 300)\n",
    "print(\"The exit temperature is \", round(root[0],2), \" K.\")\n"
   ]
  },
  {
   "cell_type": "markdown",
   "id": "142ea061-ce4c-4278-bb41-f2b9bfeb695b",
   "metadata": {},
   "source": [
    "Let's see how this compares to using Cantera to solve for exit enthalpy directly, and subsequently exit temperature."
   ]
  },
  {
   "cell_type": "code",
   "execution_count": 36,
   "id": "7da393b6-e56b-4598-95a1-e3d903929d14",
   "metadata": {},
   "outputs": [
    {
     "name": "stdout",
     "output_type": "stream",
     "text": [
      "The exit temperature is  495.94  K.\n"
     ]
    }
   ],
   "source": [
    "import cantera as ct\n",
    "import numpy as np\n",
    "species1 = ct.Nitrogen()\n",
    "W_net,m_dot,Ti = 500*10*3, 50, 773.15 # Work in kW, T in K\n",
    "species1.TP = Ti,100000 # K and kPa, inlet conditions\n",
    "hi = species1.TH[1] # inlet enthalpy in J/kg\n",
    "he = hi/1000-W_net/m_dot# from W_net = m_dot*(hi-he)\n",
    "species1.HP = he*1000,100000\n",
    "print(\"The exit temperature is \", round(species1.TP[0],2), \" K.\")"
   ]
  },
  {
   "cell_type": "markdown",
   "id": "589b5efb-19e0-4e05-adad-59ce61b28a0d",
   "metadata": {},
   "source": [
    "As seen, the answer is slightly less than what we calculated using the Shomate equation. However, lets also compare to the assumption of constant specific heat. We can get the value of $c_{\\rm p}$ at 300K from Cantera"
   ]
  },
  {
   "cell_type": "code",
   "execution_count": 37,
   "id": "680a6705-01bc-4e46-b933-022c0f18f6bc",
   "metadata": {},
   "outputs": [
    {
     "name": "stdout",
     "output_type": "stream",
     "text": [
      "The exit temperature is  484.85  K.\n"
     ]
    }
   ],
   "source": [
    "import cantera as ct\n",
    "import numpy as np\n",
    "W_net,m_dot,Ti = 500*10*3, 50, 773.15 # Work in kW, T in K\n",
    "species1 = ct.Nitrogen()\n",
    "cp = species1.cp/1000 # kJ/kg/K\n",
    "Te = Ti-W_net/m_dot/cp\n",
    "print(\"The exit temperature is \", round(Te,2), \" K.\")"
   ]
  },
  {
   "cell_type": "markdown",
   "id": "ace683ea-3cbe-415d-8c81-e3e59be7c813",
   "metadata": {},
   "source": [
    "(Exercise5)=\n",
    "### Exercise 5"
   ]
  },
  {
   "cell_type": "markdown",
   "id": "c022caa3-e7a1-48e2-a658-4ca0988c75a6",
   "metadata": {},
   "source": [
    "1. Air enters a 1-m<sup>2</sup> pipe at 100 kPa and 20°C with a velocity of 180 m/s. Determine the volumetric flow rate, in m3/s, at the  inlet and the mass flow rate, in kg/s, at the exit.\n",
    "1. Air enters a nozzle steadily at 2.21 kg/m3 and 40 m/s and leaves at 0.762 kg/m3 and 180 m/s. If the inlet area of the nozzle is 90 cm2, determine (a) the mass flow rate through the nozzle, and (b) the exit area of the nozzle.\n",
    "1. Water is heated in an insulated, constant-diameter tube by a 7-kW electric resistance heater. If the water enters the heater steadily at 20°C and leaves at 75°C, determine the mass flow rate of water.\n",
    "1. Saturated liquid water is heated in a steady-flow steam boiler at a constant pressure of 2 MPa at a rate of 4 kg/s to an outlet temperature of 250°C. Determine the rate of heat transfer in the boiler.\n",
    "1. Steam enters an adiabatic turbine at 8 MPa and 500°C at a rate of 3 kg/s and leaves at 20 kPa. If the power output of the turbine is 2.5 MW, determine the temperature of the steam at the turbine exit. Neglect kinetic energy changes.\n",
    "1. An adiabatic air compressor compresses 10 L/s of air at 120 kPa and 20°C to 1000 kPa and 300°C. Determine (a) the work required by the compressor, in kJ/kg, and (b) the power required to drive the air compressor, in kW.\n",
    "1. A portion of the steam passing through a steam turbine is sometimes removed for the purposes of feedwater heating. Consider an adiabatic steam turbine with 12.5 MPa and 550°C steam entering at a rate of 20 kg/s. Steam is bled from this turbine at 1000 kPa and 200°C with a mass flow rate of 1 kg/s. The remaining steam leaves the turbine at 100 kPa and 100°C. Determine the power produced by this turbine.\n",
    "1. A well-insulated valve is used to throttle steam from 8 MPa and 350°C to 2 MPa. Determine the final temperature of the steam.\n",
    "1. Refrigerant-134a at 1 MPa and 90°C is to be cooled to 1 MPa and 30°C in a condenser by air. The air enters at 100 kPa and 27°C with a volume flow rate of 600 m3/min and leaves at 95 kPa and 60°C. Determine the mass flow rate of the refrigerant.\n",
    "1. Steam is to be condensed in the condenser of a steam power plant at a temperature of\n",
    "50°C with cooling water from a nearby lake, which enters the tubes of the condenser at\n",
    "18°C at a rate of 101 kg/s and leaves at 27°C. Determine the rate of condensation of the\n",
    "steam in the condenser.\n",
    "1.Two streams of water are mixed in an insulated container to form a third stream leaving\n",
    "the container. The first stream has a flow rate of 30 kg/s and a temperature of 90°C. The\n",
    "flow rate of the second stream is 200 kg/s, and its temperature is 50°C. What is the\n",
    "temperature of the third stream?\n",
    "1. The turbocharger of an internal combustion engine consists of a turbine and a compressor. Hot exhaust gases flow through the turbine to produce work, and the work output from the turbine is used as the work input to the compressor. The pressure of ambient air is increased as it flows through the compressor before it enters the engine cylinders. Thus, the purpose of a turbocharger is to increase the pressure of air so that more air gets into the cylinder. Consequently, more fuel can be burned and more power can be produced by the engine. In a turbocharger, exhaust gases enter the turbine at 400°C and 120 kPa at a rate of 0.02 kg/s and leave at 350°C. Air enters the compressor at 50°C and 100 kPa and leaves at 130 kPa at a rate of 0.018 kg/s. The compressor increases the air pressure with a side effect: It also increases the air temperature, which increases the possibility that a gasoline engine will experience an engine knock. To avoid this, an aftercooler is placed after the compressor to cool the warm air with cold ambient air before it enters the engine cylinders. It is estimated that the aftercooler must decrease the air temperature below 80°C if knock is to be avoided. The cold ambient air enters the aftercooler at 30°C and leaves at 40°C. Disregarding any frictional losses in the turbine and the compressor and treating the exhaust gases as air, determine:\n",
    "    1. the temperature of the air at the compressor outlet and\n",
    "    1. the minimum volume flow rate of ambient air required to avoid knock.\n",
    "1. A 2 m3 rigid insulated tank initially containing saturated water vapor at 1 MPa is connected through a valve to a supply line that carries steam at 400°C. Now the valve is opened, and steam is allowed to flow slowly into the tank until the pressure in the tank rises to 2 MPa. At this instant the tank temperature is measured to be 300 °C. Determine the mass of the steam that has entered and the pressure of the steam in the supply line.\n",
    "1. A 2 m3 rigid tank initially contains air at 100 kPa and 22°C. The tank is connected to a supply line through a valve. Air is flowing in the supply line at 600 kPa and 22°C. The valve is opened, and air is allowed to enter the tank until the pressure in the tank reaches the line pressure, at which point the valve is closed. A thermometer placed in the tank indicates that the air temperature at the final state is 77°C. Determine (a) the mass of air that has entered the tank and (b) the amount of heat transfer.\n",
    "2. 1. Steam enters a turbine through a 1 m diameter pipe at *_V_* = 2 m/s. The steam is at *_T_* = 700 K and *_P_* = 5 MPa and it leaves at 1 MPa at *_T_* = 400 K . Assume no heat is lost during this process, the system is steady-state, and gravitational effects are negligible. What is the power (*_P_*) created by the steam on the turbine?\n",
    "2. A compressor in a refrigerator uses the refrigerant r-134a. The refrigerant enters the compressor at 1 L/s. the refrigerant is a saturated liquid at *_T_* = -10°C when it enters. The refrigerant leaves the compressor at *_P_* = 500 kPa and *_T_* = 10°C. Assume no heat is lost during this process, the system is steady-state, and gravitational effects are negligible. What is the power (*_P_*) required for the compressor?\n",
    "3. Water enters a heat exchanger at a rate of 20 kg/s as a saturated water vapor at *_P_* = 1 MPa. The water cools until is has a vapor mass fraction of 50%. At this point water is rerouted from the heat exchanger at a rate of 4 kg/s. The remaining fluid continues in the heat exchanger until the water is a saturated liquid. What is the heat transfer (*_Q_*) from the water to the heat exchanger?\n",
    "4. Water is throttled at 5 MPa as a saturated liquid. If the temperature (*_T_*) drops 15°C during this process, what is the pressure (*_P_*) change?\n",
    "5. A condensor uses a steady flow of nitrogen at *_T_* = 225 K and 1 bar at 50L/s to cool water in a tube passing through it. The water enters at 1L/s as a saturated vapor at 1 MPa and leaves as a saturated fluid. If the nitrogen stays at a constant pressure, what is the final temperature of the nitrogen leaving the condensor?"
   ]
  },
  {
   "cell_type": "markdown",
   "id": "8eadecd3-4392-45cd-9dd5-01646016a510",
   "metadata": {},
   "source": [
    "{numref}`Exercise5Solutions` {ref}`Exercise5Solutions`"
   ]
  }
 ],
 "metadata": {
  "kernelspec": {
   "display_name": "Python 3 (ipykernel)",
   "language": "python",
   "name": "python3"
  },
  "language_info": {
   "codemirror_mode": {
    "name": "ipython",
    "version": 3
   },
   "file_extension": ".py",
   "mimetype": "text/x-python",
   "name": "python",
   "nbconvert_exporter": "python",
   "pygments_lexer": "ipython3",
   "version": "3.12.3"
  }
 },
 "nbformat": 4,
 "nbformat_minor": 5
}