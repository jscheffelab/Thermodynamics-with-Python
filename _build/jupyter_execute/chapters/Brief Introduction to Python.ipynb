{
 "cells": [
  {
   "cell_type": "markdown",
   "id": "3d58907f-fc26-4332-85a3-dce91ebb4af6",
   "metadata": {
    "tags": []
   },
   "source": [
    "# Brief Introduction to Python"
   ]
  },
  {
   "cell_type": "markdown",
   "id": "0bdfa761-9f0d-4c45-8c64-75f48c909755",
   "metadata": {},
   "source": [
    "As mentioned, this book is designed to help understand and solve thermodynamics problems using Python, and for this a small introduction to Python is necessary. This introduction will cover the basics in terms of it's installation, writing some basic code, evaluation, and creating figures. No prior Python experience is necessary and this textbook will take a hands-on approach - you will learn more advanced skills as we progress throughout the chapters. This is not intended to be a comprehensive Python course however, and for a more thorough overview of Python I recommend other, more dedicated resources. Specifically for data analysis I reccommend the book \"Python for Data Analysis\" by Wes McKinney {cite}`mckinney`."
   ]
  },
  {
   "cell_type": "markdown",
   "id": "d66bf3fc-e585-4799-a30a-9a1b6fcdc401",
   "metadata": {},
   "source": [
    "## Installing Python"
   ]
  },
  {
   "cell_type": "markdown",
   "id": "cd78fac7-d8f3-4bf6-b612-4afe4c566418",
   "metadata": {},
   "source": [
    "```{index} Python, Jupyter, Jupyterlab\n",
    "```"
   ]
  },
  {
   "cell_type": "markdown",
   "id": "6bc9c376-3b2e-45f5-ba75-56cf5fcc6cd9",
   "metadata": {},
   "source": [
    "Download {ref}`Python <genindex>` from https://www.anaconda.com/ (“Anaconda Distribution”). This distribution includes many useful applications but most commonly we will use JupyterLab, which is a notebook style Python editor that allows you to evaluate Python code line by line or cell by cell, rather than an entire file. This is useful for a variety of reasons, as we will see shortly. In fact, this entire textbook is written in a Jupyter Notebook! You can format text in cells in a markdown language if markdown is selected or edit Python code if the cell is indicated as code. These indicators are options in a drop down menu at the top of the notebook."
   ]
  },
  {
   "cell_type": "markdown",
   "id": "fe905d00-5ed9-4084-9fd2-f3c014597981",
   "metadata": {},
   "source": [
    "## Opening a Notebook"
   ]
  },
  {
   "cell_type": "markdown",
   "id": "f399d779-c3cf-4975-a8db-11c549990cc4",
   "metadata": {},
   "source": [
    "Jupyter notebook files have a .ipny extension. To open a Jupyter Notebook, first locate the Anadonda Navigator that was installed on your computer. Then on the Home screen, locate the {ref}`JupyterLab <genindex>` application and click \"Launch\". This will open JupyterLab in your preferred browser. Click the + icon on the top left and select the notebook option - this will open a Jupyter Notbook as a new tab within JupyterLab. You should see a blank cell at the top which is where you can enter your Python code or markdown content.  Pressing shift-enter (or the play icon) will evaluate the contents in that cell and only that cell, whether it is Python code or markdown. You can add a new cell with the + icon within the notebook (not the one originally clicked on the far left of the screen that creates a new file). It is up to you when you create new cells versus adding content to an existing cell in a new line, but in general I find it is good practice to break content into small chunks, similar to writing paragraphs. The nice thing about individual cells is that only the content in that cell is updated when you evaluate it, and therefore you can update variables or other content without having to compile the rest of your code, which can result in more efficient evaluation. Don't worry if this is overwhelming at this point, we will try some simple examples below!"
   ]
  },
  {
   "cell_type": "markdown",
   "id": "da17ddfa-5e75-4b26-9182-8e2b51c1b49e",
   "metadata": {},
   "source": [
    "## Simple Examples Demonstrating Cell Evaluation"
   ]
  },
  {
   "cell_type": "markdown",
   "id": "f45dced7-beac-4ed6-9c91-202dd0d43987",
   "metadata": {},
   "source": [
    "Go ahead and open a new notebook and type the content below from the first line (the second line is output that is generated) into your notebook and press shift-enter. You should see the same output of 4 generated in your notebook."
   ]
  },
  {
   "cell_type": "code",
   "execution_count": 1,
   "id": "683be526-99a2-486b-935d-417db8def07f",
   "metadata": {},
   "outputs": [
    {
     "data": {
      "text/plain": [
       "4"
      ]
     },
     "execution_count": 1,
     "metadata": {},
     "output_type": "execute_result"
    }
   ],
   "source": [
    "2+2"
   ]
  },
  {
   "cell_type": "markdown",
   "id": "061403c2-0060-4f35-ae96-3850c86a0c5e",
   "metadata": {},
   "source": [
    "Now, lets define a variable x, as x = 5. Enter this into your own notebook in a new cell and press shift-enter."
   ]
  },
  {
   "cell_type": "code",
   "execution_count": 2,
   "id": "eefb15b7-0c95-4685-9340-6d2bac79c679",
   "metadata": {},
   "outputs": [],
   "source": [
    "x=5"
   ]
  },
  {
   "cell_type": "markdown",
   "id": "bea27650-ecd2-4a30-b000-e949bc46a183",
   "metadata": {},
   "source": [
    "Then lets add another cell that calculates the value of 10 times x. Enter as below and press shift-enter. The result of 50 as below should appear in the output."
   ]
  },
  {
   "cell_type": "code",
   "execution_count": 3,
   "id": "2b254f35-ccdf-40cb-b912-f44fe264ad54",
   "metadata": {},
   "outputs": [
    {
     "data": {
      "text/plain": [
       "50"
      ]
     },
     "execution_count": 3,
     "metadata": {},
     "output_type": "execute_result"
    }
   ],
   "source": [
    "10*x"
   ]
  },
  {
   "cell_type": "markdown",
   "id": "5746fceb-ae5c-4d07-99cf-9c11a83f25d7",
   "metadata": {},
   "source": [
    "Now, go back to the second cell where x is defined and change the value from 5 to 10, or whatever you would like. Evaluate the cell and notice that the output below the cell with 10 times x didn't change. To update its output you would need to evaluate that cell again by pressing shift-enter. It should be apparant that the tradiational top-down heirarchy of coding doesn't apply here when working with notebooks - it is the evaluation order of cells that matters."
   ]
  },
  {
   "cell_type": "markdown",
   "id": "d3b0223c-6940-4f65-9670-cad645e3baf6",
   "metadata": {},
   "source": [
    "## Importing Packages and Calling Functions"
   ]
  },
  {
   "cell_type": "markdown",
   "id": "09fa8ebe-1406-4626-959d-3d019c89c455",
   "metadata": {},
   "source": [
    "```{index} numpy, scipy, matplotlib, pandas\n",
    "```"
   ]
  },
  {
   "cell_type": "markdown",
   "id": "1cffac43-ea5a-460d-bfd8-608973482e89",
   "metadata": {},
   "source": [
    "In Python, there are several powerful computing packages commonly used that should be declared within your code in order to use their functions. For example, some of the more popular computational packages useful for engineering include {ref}`numpy <genindex>`, {ref}`scipy <genindex>`, {ref}`matplotlib <genindex>` and {ref}`pandas <genindex>`, among others. These must be installed on your computer, either manually using a package installer (e.g. pip installer https://pip.pypa.io/en/stable/), or are installed by default with many Python distributions, including the Anaconda Distribution that we have used. For example, if we want to utilize the numpy package we can use the import function and say"
   ]
  },
  {
   "cell_type": "code",
   "execution_count": 4,
   "id": "c21ec7a7-ca2c-479b-8666-80fe7cab0901",
   "metadata": {},
   "outputs": [],
   "source": [
    "import numpy as np"
   ]
  },
  {
   "cell_type": "markdown",
   "id": "b51aa384-dcae-4358-a4e3-dc53675f7bb3",
   "metadata": {},
   "source": [
    "which allows us to call the numpy package simply by typing np. We don't need to install anything because the numpy package comes by default with Anaconda. If we wish to use numpy package to calculate the cosine of an angle, for example we would first need to call it by typing np followed by a period and then the function contained within the package we wish to utilize, in this case cos, and the value within it (in this case the numerical value pi which is also called using the numpy package as $np.pi$) contained within parenthesis. For example,"
   ]
  },
  {
   "cell_type": "code",
   "execution_count": 5,
   "id": "abfd1eb7-ca56-485f-89b9-f918505dfa35",
   "metadata": {},
   "outputs": [
    {
     "data": {
      "text/plain": [
       "np.float64(-1.0)"
      ]
     },
     "execution_count": 5,
     "metadata": {},
     "output_type": "execute_result"
    }
   ],
   "source": [
    "np.cos(np.pi) "
   ]
  },
  {
   "cell_type": "markdown",
   "id": "e164a9f9-719f-4cab-a319-244187a89dd0",
   "metadata": {},
   "source": [
    "## Declaring Functions"
   ]
  },
  {
   "cell_type": "markdown",
   "id": "0bcb17e2-7303-4ace-9bdf-7062da618b43",
   "metadata": {},
   "source": [
    "```{index} functions\n",
    "```"
   ]
  },
  {
   "cell_type": "markdown",
   "id": "9965b9b7-3c48-41cd-9276-385bee2f219f",
   "metadata": {},
   "source": [
    "{ref}`Functions <genindex>` are declared (i.e., created) in Python by defining them using $def$ followed by the proposed function name, and parenthesis that include any variables the function is dependent on, followed by a colon.  The body of the function is then started on a new, indented line and the value that is returned by the function must be declared at the end using $return$ For example, if we wish to define a function y that depends on x and is a linear line with slope m and intercept y we would write"
   ]
  },
  {
   "cell_type": "code",
   "execution_count": 6,
   "id": "a274f63c-0b8e-489b-9a5f-20fa78e254ff",
   "metadata": {},
   "outputs": [],
   "source": [
    "def y(x):\n",
    "    return m*x+b"
   ]
  },
  {
   "cell_type": "markdown",
   "id": "e68e5fea-3a1d-4fa0-870f-4e937372276e",
   "metadata": {},
   "source": [
    "and to evaluate the function, for example at x=3, we would simply call it by defining m and b to equal some arbitrary constants and typing the following."
   ]
  },
  {
   "cell_type": "code",
   "execution_count": 7,
   "id": "a9998a28-03a4-42f6-b044-380f4408a015",
   "metadata": {},
   "outputs": [
    {
     "data": {
      "text/plain": [
       "11"
      ]
     },
     "execution_count": 7,
     "metadata": {},
     "output_type": "execute_result"
    }
   ],
   "source": [
    "m,b = 2,5\n",
    "y(3)"
   ]
  },
  {
   "cell_type": "markdown",
   "id": "ddda3ab1-2314-4e19-a34e-06e824d91cee",
   "metadata": {},
   "source": [
    "(ListsArraysIndexing)=\n",
    "## Lists, Arrays and Indexing"
   ]
  },
  {
   "cell_type": "markdown",
   "id": "14e93a46-1441-450d-b3db-47a541ca1dbc",
   "metadata": {},
   "source": [
    "```{index} lists, arrays\n",
    "```"
   ]
  },
  {
   "cell_type": "markdown",
   "id": "a6315483-6045-4424-a2a3-5257f4a94c45",
   "metadata": {},
   "source": [
    "{ref}`Lists <genindex>` and {ref}`Arrays <genindex>` in Python are both data structures that allow indexing and iterating, and they can be sometimes used interchangeably but in other cases one is preferred. A list is a built-in data structure native to Python, while an array is a data structure that is part of the numpy computing package. In general arrays are more suited for numerical operations compared to lists. We can create a list and convert it to an array, or vice versa. To create a list you insert the values separated by a comma, all contained within brackets. For example,"
   ]
  },
  {
   "cell_type": "code",
   "execution_count": 8,
   "id": "0353e8e1-f630-4cf7-86cd-306193dd391e",
   "metadata": {},
   "outputs": [
    {
     "name": "stdout",
     "output_type": "stream",
     "text": [
      "[1, 2, 3]\n"
     ]
    }
   ],
   "source": [
    "testlist = [1,2,3]\n",
    "print(testlist)"
   ]
  },
  {
   "cell_type": "markdown",
   "id": "60a47281-ebf8-4afe-be0b-0271ea2cefd3",
   "metadata": {},
   "source": [
    "To convert it to an array we call the $numpy$ package and include the list name inside parenthesis of the function $np.array$. "
   ]
  },
  {
   "cell_type": "code",
   "execution_count": 9,
   "id": "d08d5254-7883-4eae-909d-293f35839605",
   "metadata": {},
   "outputs": [
    {
     "name": "stdout",
     "output_type": "stream",
     "text": [
      "[1 2 3]\n"
     ]
    }
   ],
   "source": [
    "import numpy as np\n",
    "testarray = np.array(testlist)\n",
    "print(testarray)"
   ]
  },
  {
   "cell_type": "markdown",
   "id": "76eb87ed-093f-47e0-b454-112ba9a07da9",
   "metadata": {},
   "source": [
    "We can then convert from an array back to a list by using the function, $list$."
   ]
  },
  {
   "cell_type": "code",
   "execution_count": 10,
   "id": "5951d963-a1bd-49bd-9bc4-1aa6033ff817",
   "metadata": {},
   "outputs": [
    {
     "name": "stdout",
     "output_type": "stream",
     "text": [
      "[np.int64(1), np.int64(2), np.int64(3)]\n"
     ]
    }
   ],
   "source": [
    "testlist = list(testarray)\n",
    "print(testlist)"
   ]
  },
  {
   "cell_type": "markdown",
   "id": "bc11379a-b925-4783-bb6b-501d2ca70ab2",
   "metadata": {},
   "source": [
    "```{index} arange\n",
    "```"
   ]
  },
  {
   "cell_type": "markdown",
   "id": "8a31a366-e8a9-448b-b820-79ea9a772a6e",
   "metadata": {},
   "source": [
    "If an array is inserted as a parameter within a function, it will be evaluated at each index of the array. This will not work if a list is inserted however and would need to be done in an iterative manner, for example using a for loop.  "
   ]
  },
  {
   "cell_type": "markdown",
   "id": "20252e64-2001-4af8-b34a-a1cae1165cc2",
   "metadata": {},
   "source": [
    "To conveniently create an array of x values to be evaluated within a function we can use the numpy function {ref}`arange <genindex>`. To use this we will have to call the numpy package and arange by $np.arange$ and within this function we include the starting value, ending value and spacing, all separated by commas. For example, to create an array called x_vals from 1 to 10 with a spacing of 1 we type."
   ]
  },
  {
   "cell_type": "code",
   "execution_count": 11,
   "id": "12feee1d-7317-468d-a8c4-d66f74d67910",
   "metadata": {},
   "outputs": [
    {
     "name": "stdout",
     "output_type": "stream",
     "text": [
      "[ 1  2  3  4  5  6  7  8  9 10]\n"
     ]
    }
   ],
   "source": [
    "x_vals=np.arange(1,11,1)\n",
    "print(x_vals)"
   ]
  },
  {
   "cell_type": "markdown",
   "id": "93d7f119-6e93-411f-b095-0c024779734e",
   "metadata": {},
   "source": [
    "Then we can evaluate the function $y$ we defined above at each index of the array *x_vals* by inserting this array into the function, like below."
   ]
  },
  {
   "cell_type": "code",
   "execution_count": 12,
   "id": "36af3494-2141-4d51-a108-9e03fbbe8750",
   "metadata": {},
   "outputs": [
    {
     "name": "stdout",
     "output_type": "stream",
     "text": [
      "[ 7  9 11 13 15 17 19 21 23 25]\n"
     ]
    }
   ],
   "source": [
    "print(y(x_vals))"
   ]
  },
  {
   "cell_type": "markdown",
   "id": "a54e3530-d04d-48e9-9067-618f54c77d96",
   "metadata": {},
   "source": [
    "Indexing of lists and arrays in Python is straightforward. However, it is important to note that the first index starts with 0, the second 1, and so on. To recall an indexed part of a list or array we follow the name of the list or array with $[index]$. An example using a list is below."
   ]
  },
  {
   "cell_type": "code",
   "execution_count": 13,
   "id": "2dd0cd94-62f6-499b-87e9-e9a7f104e1c8",
   "metadata": {},
   "outputs": [
    {
     "data": {
      "text/plain": [
       "23"
      ]
     },
     "execution_count": 13,
     "metadata": {},
     "output_type": "execute_result"
    }
   ],
   "source": [
    "testlist = [10,23,43]\n",
    "testlist[1]"
   ]
  },
  {
   "cell_type": "markdown",
   "id": "66c3bf3a-f1ad-42ef-abff-9b028964c4d2",
   "metadata": {},
   "source": [
    "And below is an example using an array."
   ]
  },
  {
   "cell_type": "code",
   "execution_count": 14,
   "id": "e5d63db0-bb94-4ade-848d-3d572c9fe6ff",
   "metadata": {},
   "outputs": [
    {
     "data": {
      "text/plain": [
       "np.int64(23)"
      ]
     },
     "execution_count": 14,
     "metadata": {},
     "output_type": "execute_result"
    }
   ],
   "source": [
    "testlist = [10,23,43]\n",
    "testarray = np.array(testlist)\n",
    "testarray[1]"
   ]
  },
  {
   "cell_type": "markdown",
   "id": "ad63690b-db93-4b53-822d-a2874c72181b",
   "metadata": {},
   "source": [
    "Finally, a range of indexes can be selected by following the list or array with $[index1:index2]$. See below"
   ]
  },
  {
   "cell_type": "code",
   "execution_count": 15,
   "id": "de626ecb-8743-4ef7-afb7-c67732fb87bc",
   "metadata": {},
   "outputs": [
    {
     "data": {
      "text/plain": [
       "array([3, 4, 5, 6, 7])"
      ]
     },
     "execution_count": 15,
     "metadata": {},
     "output_type": "execute_result"
    }
   ],
   "source": [
    "testarray=np.arange(1,11,1)\n",
    "testarray[2:7]"
   ]
  },
  {
   "cell_type": "markdown",
   "id": "65b298fe-ecdf-4463-a45b-abf82b077eb5",
   "metadata": {},
   "source": [
    "(Plotting)=\n",
    "## Plotting Using Matplotlib"
   ]
  },
  {
   "cell_type": "markdown",
   "id": "94466eee-d92c-433f-915e-abb870b64abc",
   "metadata": {},
   "source": [
    "```{index} plotting, Matplotlib\n",
    "```"
   ]
  },
  {
   "cell_type": "markdown",
   "id": "7d328c71-793d-46d9-b511-583869d4bae8",
   "metadata": {},
   "source": [
    "To {ref}`plot <genindex>` functions or lists/arrays of data, we can use the package {ref}`Matplotlib <genindex>`. To use this package, it is as simple importing the function $matplotlib.pyplot$ and creating lists or arrays of x and y values to be plotted."
   ]
  },
  {
   "cell_type": "markdown",
   "id": "496c0bdc-9e73-45a1-9ba6-9e461f947ed5",
   "metadata": {},
   "source": [
    "For example, lets import $matplotlib$ and plot the function $y$ we have defined above between x = 0 and 5, keeping m and b equal to 2 and 5, respectively."
   ]
  },
  {
   "cell_type": "code",
   "execution_count": 16,
   "id": "acfc89f9-a6e8-4559-bd37-4d77bd25099c",
   "metadata": {
    "tags": []
   },
   "outputs": [
    {
     "data": {
      "image/png": "[encoded data removed]",
      "text/plain": [
       "<Figure size 640x480 with 1 Axes>"
      ]
     },
     "metadata": {},
     "output_type": "display_data"
    }
   ],
   "source": [
    "import matplotlib.pyplot as plt # this package allows us to plot functions\n",
    "plt.plot(x_vals,y(x_vals))\n",
    "plt.xlabel('x')\n",
    "plt.ylabel('y(x)')\n",
    "plt.show()#needed to display plot"
   ]
  },
  {
   "cell_type": "markdown",
   "id": "17942f95-3c8b-40fb-965c-e26d2e614831",
   "metadata": {},
   "source": [
    "Notice that the definitions from prior cells still apply in new cells. For example, we didn't need to redefine *x_vals* since it was already created above. If we update a definition in a different cell, for example, *x_vals*, and then evaluate any cells afterwards that contain it they will be updated - regardless if they appear above or below. For example, to update the plot to vary from x = 1 to 100 we could  redefine $x_vals=np.arange(1,101,1)$ anywhere, and then evaluate the above plotting cell again to update it. This is one advantage of notebook style evaluation compared to traditional compilers that evaluate all lines of code sequentially."
   ]
  },
  {
   "cell_type": "markdown",
   "id": "435e94b6-35c6-4c88-9bde-21ee7b4c040d",
   "metadata": {},
   "source": [
    "(Cantera)=\n",
    "## Cantera Package"
   ]
  },
  {
   "cell_type": "markdown",
   "id": "d63c9ef1-d639-4987-8bf8-41476435980c",
   "metadata": {},
   "source": [
    "```{index} Cantera\n",
    "```"
   ]
  },
  {
   "cell_type": "markdown",
   "id": "b06f8e4d-9053-4870-8b9d-6a0edfc069f2",
   "metadata": {},
   "source": [
    "{ref}`Cantera <genindex>` is a Python package that we will use extensively to evaluate properties of real substances. This will be discussed throughout several sections later, but for now we just need to get the package installed. As mentionened, the anaconda distribution that we downloaded comes with many useful data analysis and computation packages but it does not come with Cantera. Using this link https://cantera.org/install/conda-install.html, install the Cantera module using instructions under Option 1: Create a new environment for Cantera. Copy and paste the instructions in the cmd .exe prompt found on your Anaconda Navigator home screen. Once installed you will have to work from the environment you created, called ct-env, if you want to use Cantera. To operate from this environment click the “Application on” tab at the top of your Anaconda Navigator home screen and then install Jupyter Notebook in this environment. "
   ]
  },
  {
   "cell_type": "markdown",
   "id": "2c27fd46-e0aa-453f-91dc-8ad6e4ac0287",
   "metadata": {},
   "source": [
    "Now we are ready to use Python and Cantera using  Jupyter! We are going to evaluate a few simple properties of H<sub>2</sub>O just to confirm this is working as expected."
   ]
  },
  {
   "cell_type": "code",
   "execution_count": 17,
   "id": "adac743f-9826-4f6a-9676-9d3f57c07d59",
   "metadata": {},
   "outputs": [
    {
     "name": "stdout",
     "output_type": "stream",
     "text": [
      "\n",
      "  water:\n",
      "\n",
      "       temperature   300 K\n",
      "          pressure   1.0132e+05 Pa\n",
      "           density   996.63 kg/m^3\n",
      "  mean mol. weight   18.016 kg/kmol\n",
      "    vapor fraction   0\n",
      "   phase of matter   liquid\n",
      "\n",
      "                          1 kg             1 kmol     \n",
      "                     ---------------   ---------------\n",
      "          enthalpy       -1.5858e+07        -2.857e+08  J\n",
      "   internal energy       -1.5858e+07        -2.857e+08  J\n",
      "           entropy            3913.2             70500  J/K\n",
      "    Gibbs function       -1.7032e+07       -3.0685e+08  J\n",
      " heat capacity c_p            4180.8             75321  J/K\n",
      " heat capacity c_v              4131             74424  J/K\n",
      "\n"
     ]
    }
   ],
   "source": [
    "import cantera as ct\n",
    "species1 = ct.Water()# define species1 as water\n",
    "species1() #show properties of species 1"
   ]
  },
  {
   "cell_type": "markdown",
   "id": "2e340034-436d-4594-8517-bdf776e389ab",
   "metadata": {},
   "source": [
    "```{index} enthalpy, internal energy, entropy, Gibbs, heat capacity\n",
    "```"
   ]
  },
  {
   "cell_type": "markdown",
   "id": "7d2781e1-5fe8-4d8d-8dc3-f96a27b26a07",
   "metadata": {},
   "source": [
    "The output should show the default temperature and pressure which are 300 K and 1.0132e+05 Pa, the corresponding density, molecular weight, vapor fraction and phase. Details of these properties will all be discussed in {numref}`EvaluationofProperties` {ref}`EvaluationofProperties`. Below that are listed even more properties including {ref}`enthalpy <genindex>`, {ref}`internal energy <genindex>`, {ref}`entropy <genindex>`, {ref}`Gibbs function <genindex>`, and two forms of {ref}`heat capacity <genindex>` - again, the meaning of these properties is not important at this point and will be dicussed in later sections. These properties are shown on a per kg or per kmol basis."
   ]
  },
  {
   "cell_type": "markdown",
   "id": "ad7292c8-ca3c-45bc-be79-88063724155d",
   "metadata": {},
   "source": [
    "We can change the temperature and pressure at which corresponding properties are evaluated by calling $species1$, followed by $TP$. For example, "
   ]
  },
  {
   "cell_type": "code",
   "execution_count": 18,
   "id": "5174e7ea-cf6d-41d2-8b7f-d73e6ddac271",
   "metadata": {},
   "outputs": [
    {
     "name": "stdout",
     "output_type": "stream",
     "text": [
      "\n",
      "  water:\n",
      "\n",
      "       temperature   303.15 K\n",
      "          pressure   1e+05 Pa\n",
      "           density   995.73 kg/m^3\n",
      "  mean mol. weight   18.016 kg/kmol\n",
      "    vapor fraction   0\n",
      "   phase of matter   liquid\n",
      "\n",
      "                          1 kg             1 kmol     \n",
      "                     ---------------   ---------------\n",
      "          enthalpy       -1.5845e+07       -2.8546e+08  J\n",
      "   internal energy       -1.5845e+07       -2.8546e+08  J\n",
      "           entropy            3956.8             71286  J/K\n",
      "    Gibbs function       -1.7044e+07       -3.0707e+08  J\n",
      " heat capacity c_p            4178.6             75282  J/K\n",
      " heat capacity c_v            4116.1             74156  J/K\n",
      "\n"
     ]
    }
   ],
   "source": [
    "species1.TP = 273.15+30, 100000 #Redefine Temperature in K and Pressure in Pa at State 1\n",
    "species1() #show properties of species 1"
   ]
  },
  {
   "cell_type": "markdown",
   "id": "21bd33d6-00f6-4488-9a0d-3ded42e974b1",
   "metadata": {
    "tags": []
   },
   "source": [
    "Similar strategies can be used to set other combinations of properties as discussed later when we formally introduce Cantera to evaluate properties of real substances in {numref}`EvaluationofProperties` {ref}`EvaluationofProperties`."
   ]
  }
 ],
 "metadata": {
  "kernelspec": {
   "display_name": "Python 3 (ipykernel)",
   "language": "python",
   "name": "python3"
  },
  "language_info": {
   "codemirror_mode": {
    "name": "ipython",
    "version": 3
   },
   "file_extension": ".py",
   "mimetype": "text/x-python",
   "name": "python",
   "nbconvert_exporter": "python",
   "pygments_lexer": "ipython3",
   "version": "3.12.3"
  }
 },
 "nbformat": 4,
 "nbformat_minor": 5
}