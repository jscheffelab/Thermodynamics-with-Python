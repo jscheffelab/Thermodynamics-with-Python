{
 "cells": [
  {
   "cell_type": "markdown",
   "id": "8dc5d671-c54f-4e7f-8a4a-191ecc863225",
   "metadata": {},
   "source": [
    "(Exercise6Solutions)=\n",
    "# Exercise 6 Solutions"
   ]
  },
  {
   "cell_type": "markdown",
   "id": "16bf3044-6dd9-43c2-8904-b7e7143a8a0f",
   "metadata": {},
   "source": [
    "{numref}`Exercise6` {ref}`Exercise6`"
   ]
  },
  {
   "cell_type": "code",
   "execution_count": 1,
   "id": "706ba0e2-e1a3-4920-800c-464a837d23f3",
   "metadata": {},
   "outputs": [
    {
     "name": "stdout",
     "output_type": "stream",
     "text": [
      "The energy released outside is 5.25 kJ and the coefficient of performance is 2.0\n"
     ]
    }
   ],
   "source": [
    "#1\n",
    "# A window-mounted air conditioner removes 3.5 kJ from the inside of a home using 1.75 kJ work input. How much energy is released outside and what is its coefficient of performance?\n",
    "\n",
    "Ql = 3.5 #kJ\n",
    "Wnet = 1.75 #kJ\n",
    "# air conditioner (refr) W = Qh - Ql\n",
    "# W = deltaU - Qout \n",
    "deltaU = Wnet + Ql\n",
    "# coeff = Ql/W \n",
    "coeff = Ql/Wnet\n",
    "print(f\"The energy released outside is {deltaU} kJ and the coefficient of performance is {coeff}\")"
   ]
  },
  {
   "cell_type": "code",
   "execution_count": 2,
   "id": "92326a2a-7cd1-4f5b-9f2e-18b2bb759b57",
   "metadata": {},
   "outputs": [
    {
     "name": "stdout",
     "output_type": "stream",
     "text": [
      "900.0 W of power can be saved\n"
     ]
    }
   ],
   "source": [
    "#2\n",
    "# A room is heated with a 1500-W electric heater. How much power can be saved if a heat pump with a COP of 2.5 is used instead?\n",
    "\n",
    "Qdoth = 1500 # = Wdot\n",
    "COP = 2.5 # = Qh/(Qh - Ql) = Qh/Wnet\n",
    "Wdotnet = Qdoth/COP\n",
    "Wdot_save = Qdoth - Wdotnet\n",
    "print(f\"{Wdot_save} W of power can be saved\")"
   ]
  },
  {
   "cell_type": "code",
   "execution_count": 3,
   "id": "73385b5e-ec64-4c18-beb5-d1253f45c907",
   "metadata": {},
   "outputs": [
    {
     "name": "stdout",
     "output_type": "stream",
     "text": [
      "480000.0 kg/s of coal is used per hour\n",
      "The heat rejection is 1833.3 MW\n"
     ]
    }
   ],
   "source": [
    "#3\n",
    "# A large coal fired power plant has an efficiency of 45% and produces net 1,500 MW of electricity. Coal releases 25 000 kJ/kg as it burns so how much coal is used per hour and what is the heat rejection?\n",
    "\n",
    "eta = 0.45\n",
    "Wnet = 1500e3 # J/s (W)\n",
    "heat_comb_CO2 = 25e3 # J/kg \n",
    "# how much coal is used per hour\n",
    "mass = 3600*Wnet/heat_comb_CO2/eta\n",
    "print(f\"{mass} kg/s of coal is used per hour\")\n",
    "Qdoth = Wnet/eta\n",
    "Qdotl = Qdoth - Wnet\n",
    "print(f\"The heat rejection is {round(Qdotl/1000,1)} MW\")"
   ]
  },
  {
   "cell_type": "code",
   "execution_count": 4,
   "id": "029467e3-0e00-45eb-8881-9994842b8ca7",
   "metadata": {},
   "outputs": [
    {
     "name": "stdout",
     "output_type": "stream",
     "text": [
      "The power output is 2.9 kW and the low T heat rejection rate is 4.1 kW\n"
     ]
    }
   ],
   "source": [
    "#4\n",
    "# Find the power output and the low T heat rejection rate for a Carnot cycle heat engine that receives 7 kW at 250°C and rejects heat at 30°C.\n",
    "\n",
    "Kc = 273.15 #correction from C to K\n",
    "QdotH = 7 # kW\n",
    "TL = 30 + Kc\n",
    "TH = 250 + Kc\n",
    "eta = 1 - TL/TH\n",
    "\n",
    "Wdotnet = eta*QdotH\n",
    "QdotL = QdotH - Wdotnet\n",
    "print(f\"The power output is {round(Wdotnet,1)} kW and the low T heat rejection rate is {round(QdotL,1)} kW\")"
   ]
  },
  {
   "cell_type": "code",
   "execution_count": 5,
   "id": "b691dc2f-8ba1-4c00-b1f2-857295644bd0",
   "metadata": {},
   "outputs": [
    {
     "name": "stdout",
     "output_type": "stream",
     "text": [
      "The minimum electrical power required to drive the heat pump is 2.6 kW\n"
     ]
    }
   ],
   "source": [
    "#5\n",
    "# A heat pump is used to heat a house during the winter. The house is to be maintained at 20°C at all times. When the ambient temperature outside drops to −10°C, the rate at which heat is lost from the house is estimated to be 25 kW. What is the minimum electrical power required to drive the heat pump?\n",
    "\n",
    "QdotH = 25 # kW\n",
    "TH = 20 + Kc\n",
    "TL = -10 + Kc\n",
    "COP = TH/(TH - TL)\n",
    "Wdot = QdotH/COP\n",
    "print(f\"The minimum electrical power required to drive the heat pump is {round(Wdot,1)} kW\")"
   ]
  },
  {
   "cell_type": "code",
   "execution_count": 6,
   "id": "caff98df-adca-41b2-b3e7-845c4d89929c",
   "metadata": {},
   "outputs": [
    {
     "name": "stdout",
     "output_type": "stream",
     "text": [
      "The actual thermal efficiency, 0.4286, is higher than the max theoretical thermal efficiency, 0.42, so this is not possible\n"
     ]
    }
   ],
   "source": [
    "#6\n",
    "# An inventor claims to have developed a heat engine that receives 700 kJ of heat from a source at 500 K and produces 300 kJ of net work while rejecting the waste heat to a sink at 290 K. Is this a reasonable claim? Why? \n",
    "\n",
    "TH = 500 # K\n",
    "TL = 290 # K \n",
    "Wnet = 300 # kJ\n",
    "QdotH = 700 # kJ\n",
    "\n",
    "etamax = 1 - TL/TH \n",
    "eta_actual = Wnet/QdotH\n",
    "print(f\"The actual thermal efficiency, {round(eta_actual,4)}, is higher than the max theoretical thermal efficiency, {round(etamax,4)}, so this is not possible\")"
   ]
  },
  {
   "cell_type": "code",
   "execution_count": 7,
   "id": "ea2cdb73-8b3c-452c-bd8a-fb3b68324036",
   "metadata": {},
   "outputs": [
    {
     "name": "stdout",
     "output_type": "stream",
     "text": [
      "a) The heat pump was on for 5.89 hrs\n",
      "b) The cost of heating is 3.11 dollars\n",
      "c) The cost of heating using a resistance heater would be 40.33 dollars\n"
     ]
    }
   ],
   "source": [
    "#7 \n",
    "# A Carnot heat pump is to be used to heat a house and maintain it at 25 ºC in the winter. On a day when the average outdoor temperature is about 2 ºC, the house is estimated to lose heat at a rate of 55,000 kJ/hr. If the heat pump consumes 4.8 kW of power while operating, determine (a) how long the heat pump ran for that day, (b) the total heating costs, assuming average price of $0.11/kWh for electricity, and (c) the heating cost for the same day if resistance heating is used instead of a heat pump.\n",
    "\n",
    "TH = 25 + Kc\n",
    "TL = 2 + Kc\n",
    "QdotH = 55e3 # kJ/hr\n",
    "Wdotnet = 4.8 # kJ/s\n",
    "\n",
    "COP = TH/(TH - TL)\n",
    "QH = QdotH*24 \n",
    "Wnet = QH/COP\n",
    "time = Wnet/Wdotnet/3600\n",
    "print(f\"a) The heat pump was on for {round(time,2)} hrs\")\n",
    "\n",
    "price_electricity = 0.11 #dollars/kWh\n",
    "cost = Wdotnet*time*price_electricity\n",
    "print(f\"b) The cost of heating is {round(cost,2)} dollars\")\n",
    "new_cost = QH/3600*price_electricity\n",
    "print(f\"c) The cost of heating using a resistance heater would be {round(new_cost,2)} dollars\")"
   ]
  },
  {
   "cell_type": "code",
   "execution_count": 8,
   "id": "bdbd1715-165c-4a7d-b9aa-9730cac7467f",
   "metadata": {},
   "outputs": [
    {
     "name": "stdout",
     "output_type": "stream",
     "text": [
      "The mass flow rate of the refrigerant is 0.034 kg/s\n",
      "The heat load is 7.03 kW\n",
      "The COP is 4.39\n",
      "The minimum power input to the compressor for the same rate of heat supply is 0.57 kW\n"
     ]
    }
   ],
   "source": [
    "#8\n",
    "# A heat pump with R-134a as the working fluid is used to keep a space at 25 ºC by absorbing heat from geothermal water that enters the evaporator at 60 ºC at a rate of 0.065 kg/s and leaves at 40 ºC. Refrigerant enters the evaporator at 12 ºC with a quality of 15 percent and leaves at the same pressure as saturated vapor. If the compressor consumes 1.6 kW of power, determine\n",
    "#(a) the mass flow rate of the refrigerant\n",
    "\n",
    "#(b) the rate of heat supply\n",
    "\n",
    "#(c) the COP\n",
    "\n",
    "#(d) the minimum power input to the compressor for the same rate of heat supply\n",
    "\n",
    "import cantera as ct\n",
    "T1 = 60 + Kc\n",
    "T2 = 40 + Kc\n",
    "x1 = 0 \n",
    "x2 = 0\n",
    "Win = 1.6 #kW\n",
    "mdot_w = 0.065 # kg/s\n",
    "state1 = ct.Water()\n",
    "state1.TQ = T1, x1\n",
    "state2 = ct.Water()\n",
    "state2.TQ = T2, x2\n",
    "hw1 = state1.HP[0]/1000\n",
    "hw2 = state2.HP[0]/1000\n",
    "\n",
    "Qf = mdot_w*(hw1 - hw2)\n",
    "\n",
    "# water\n",
    "T1 = 12 + Kc\n",
    "x1 = 0.15\n",
    "state1 = ct.Hfc134a()\n",
    "state1.TQ = T1, x1\n",
    "P1 = state1.PQ[0]\n",
    "\n",
    "P2 = P1\n",
    "x2 = 1\n",
    "state2 = ct.Hfc134a()\n",
    "state2.PQ = P2, x2\n",
    "h1 = state1.HP[0]/1000\n",
    "h2 = state2.HP[0]/1000\n",
    "mdot_r = Qf/(h2 - h1)\n",
    "print(f\"The mass flow rate of the refrigerant is {round(mdot_r,3)} kg/s\")\n",
    "\n",
    "QdotH = Qf + Win\n",
    "print(f\"The heat load is {round(QdotH,2)} kW\")\n",
    "\n",
    "COP = QdotH/Win\n",
    "print(f\"The COP is {round(COP,2)}\")\n",
    "\n",
    "TH = 60 + Kc\n",
    "TL = 25 + Kc\n",
    "COPmax = TH/(TH-TL)\n",
    "\n",
    "Wmin = Qf/COPmax\n",
    "print(f\"The minimum power input to the compressor for the same rate of heat supply is {round(Wmin,2)} kW\")"
   ]
  },
  {
   "cell_type": "code",
   "execution_count": 9,
   "id": "54379593-39ec-472c-9a6c-3a7221f20920",
   "metadata": {},
   "outputs": [
    {
     "name": "stdout",
     "output_type": "stream",
     "text": [
      "The rate of heat supplied to the water is 55.56 kW\n",
      "The minimum power supplied to the heat pump is 5.5 kW\n"
     ]
    }
   ],
   "source": [
    "#9\n",
    "# Cold water at 10 ºC  enters a water heater at the rate of 0.02 m3/min and leaves the water heater at 50 ºC. The water heater receives heat from a heat pump that receives heat from a heat source at 0 ºC \n",
    "\n",
    "# a)\tAssuming water to be incompressible liquid that does not change phase during heat addition, determine the rate of heat supplied to the water in kJ/s.\n",
    "\n",
    "# b)\tAssuming the water heater acts as a heat sink having an average temperature of 30 ºC, determine the minimum power supplied to the heat pump in kW\n",
    "\n",
    "Vdot = 0.02 #m3/min\n",
    "Ti = 10 + Kc\n",
    "Te = 50 + Kc\n",
    "TL = 0 + Kc\n",
    "T_amb = 300 #K \n",
    "P_amb = 100e3\n",
    "water = ct.Water()\n",
    "water.TP = T_amb, P_amb\n",
    "cp = water.cp/1000\n",
    "v = water.TV[1]\n",
    "mdot = Vdot/60/v\n",
    "QdotH = mdot*cp*(Te - Ti)\n",
    "print(f\"The rate of heat supplied to the water is {round(QdotH,2)} kW\")\n",
    "TH = 30 + Kc\n",
    "COPmax = TH/(TH -TL)\n",
    "Wnet = QdotH/COPmax\n",
    "print(f\"The minimum power supplied to the heat pump is {round(Wnet,2)} kW\")"
   ]
  },
  {
   "cell_type": "code",
   "execution_count": null,
   "id": "0c264d36-98c6-42fb-a36e-ec952bfa2afd",
   "metadata": {},
   "outputs": [],
   "source": []
  }
 ],
 "metadata": {
  "kernelspec": {
   "display_name": "Python 3 (ipykernel)",
   "language": "python",
   "name": "python3"
  },
  "language_info": {
   "codemirror_mode": {
    "name": "ipython",
    "version": 3
   },
   "file_extension": ".py",
   "mimetype": "text/x-python",
   "name": "python",
   "nbconvert_exporter": "python",
   "pygments_lexer": "ipython3",
   "version": "3.12.3"
  }
 },
 "nbformat": 4,
 "nbformat_minor": 5
}