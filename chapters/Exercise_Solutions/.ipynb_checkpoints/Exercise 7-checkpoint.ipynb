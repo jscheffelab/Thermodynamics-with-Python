{
 "cells": [
  {
   "cell_type": "markdown",
   "id": "8dc5d671-c54f-4e7f-8a4a-191ecc863225",
   "metadata": {},
   "source": [
    "(Exercise7Solutions)=\n",
    "# Exercise 7 Solutions"
   ]
  },
  {
   "cell_type": "markdown",
   "id": "16bf3044-6dd9-43c2-8904-b7e7143a8a0f",
   "metadata": {},
   "source": [
    "{numref}`Exercise7` {ref}`Exercise7`"
   ]
  },
  {
   "cell_type": "code",
   "execution_count": 3,
   "id": "706ba0e2-e1a3-4920-800c-464a837d23f3",
   "metadata": {},
   "outputs": [
    {
     "name": "stdout",
     "output_type": "stream",
     "text": [
      "The final temperature is 398.77 K\n"
     ]
    }
   ],
   "source": [
    "#1\n",
    "# Determine the final temperature when air is expanded isentropically from 1000 kPa and 477°C to 100 kPa in a piston–cylinder device.\n",
    "\n",
    "import cantera as ct\n",
    "Kc = 273.15 # Correction from C to K\n",
    "P1 = 1000e3 # Pa\n",
    "T1 = 477 + Kc #K\n",
    "air = ct.Solution('gri30.yaml')\n",
    "air.X = 'N2:0.79 O2: 0.21'\n",
    "air.TP = T1, P1\n",
    "s1 = air.s\n",
    "P2 = 100e3 # Pa\n",
    "s2 = s1\n",
    "air.SP = s2, P2\n",
    "T2 = air.T\n",
    "print(f\"The final temperature is {round(T2, 2)} K\")"
   ]
  },
  {
   "cell_type": "code",
   "execution_count": 5,
   "id": "92326a2a-7cd1-4f5b-9f2e-18b2bb759b57",
   "metadata": {},
   "outputs": [
    {
     "name": "stdout",
     "output_type": "stream",
     "text": [
      "The entropy change is 0.71 kJ/kg\n"
     ]
    }
   ],
   "source": [
    "#2\n",
    "# A 1.5-m3 insulated rigid tank contains 2.7 kg of carbon dioxide at 100 kPa. Now paddle-wheel work is done on the system until the pressure in the tank rises to 150 kPa. Determine the entropy change of carbon dioxide during this process. Assume constant specific heats.\n",
    "\n",
    "import numpy as np\n",
    "V = 1.5 # m3\n",
    "m = 2.7 # kg\n",
    "P1 = 100e3 # Pa\n",
    "P2 = 150e3 # kPa\n",
    "v1 = V/m\n",
    "v2 = v1\n",
    "\n",
    "state1 = ct.CarbonDioxide()\n",
    "state1.PV = P1, v1\n",
    "T1 = state1.TV[0]\n",
    "cv = state1.cv/1000\n",
    "state2 = ct.CarbonDioxide()\n",
    "state2.PV = P2, v2\n",
    "T2 = state2.TV[0]\n",
    "\n",
    "\n",
    "# find delta s \n",
    "deltas = m*cv*np.log(T2/T1)\n",
    "print(f\"The entropy change is {round(deltas,2)} kJ/kg\")"
   ]
  },
  {
   "cell_type": "code",
   "execution_count": 6,
   "id": "73385b5e-ec64-4c18-beb5-d1253f45c907",
   "metadata": {},
   "outputs": [
    {
     "name": "stdout",
     "output_type": "stream",
     "text": [
      "The entropy change of nitrogen during this process is -0.03847 kJ/K\n"
     ]
    }
   ],
   "source": [
    "#3\n",
    "# A piston–cylinder device contains 0.75 kg of nitrogen gas at 140 kPa and 37°C. The gas is now compressed slowly in a polytropic process during which PV1.3 = constant. The process ends when the volume is reduced by one-half. Determine the entropy change of nitrogen during this process. \n",
    "\n",
    "m = 0.75 # kg\n",
    "P1 = 140e3 # Pa\n",
    "T1 = 37 + Kc # K\n",
    "n = 1.3\n",
    "v1 = 1 # just assume a random value, will cancel out\n",
    "v2 = 0.5*v1 \n",
    "T2 = T1*(v1/v2)**(n-1)\n",
    "R = 0.2968 # kJ/kgK\n",
    "state1 = ct.Nitrogen()\n",
    "state1.TP = T1,P1\n",
    "cv = state1.cv/1000\n",
    "deltaS = m*(cv*np.log(T2/T1) + R*np.log(v2/v1))\n",
    "print(f\"The entropy change of nitrogen during this process is {round(deltaS,5)} kJ/K\")"
   ]
  },
  {
   "cell_type": "code",
   "execution_count": 7,
   "id": "029467e3-0e00-45eb-8881-9994842b8ca7",
   "metadata": {},
   "outputs": [
    {
     "name": "stdout",
     "output_type": "stream",
     "text": [
      "The mass of air in the device is 6.94 kg\n"
     ]
    }
   ],
   "source": [
    "#4\n",
    "# Air at 27°C and 100 kPa is contained in a piston– cylinder device. When the air is compressed adiabatically, a minimum work input of 1000 kJ will increase the pressure to 600 kPa. Assuming air has constant specific heats evaluated at 300 K, determine the mass of air in the device.\n",
    "\n",
    "T1 = 27 + Kc\n",
    "P1 = 100\n",
    "W = 1000 # kJ\n",
    "P2 = 600 #kPa\n",
    "air = ct.Solution('gri30.yaml')\n",
    "air.X = 'N2:0.79 O2: 0.21'\n",
    "air.TP = 300, P1\n",
    "cv = air.cv/1000\n",
    "cv = 0.718\n",
    "k = 1.4\n",
    "T2 = T1*(P2/P1)**((k-1)/k)\n",
    "m = W/(-cv*(T1-T2))\n",
    "print(f\"The mass of air in the device is {round(m,2)} kg\")"
   ]
  },
  {
   "cell_type": "code",
   "execution_count": 8,
   "id": "0c264d36-98c6-42fb-a36e-ec952bfa2afd",
   "metadata": {},
   "outputs": [
    {
     "name": "stdout",
     "output_type": "stream",
     "text": [
      "497723.81724979595 54191.879711951435\n",
      "Wmax is 443.5 kJ/kg\n"
     ]
    }
   ],
   "source": [
    "#5\n",
    "# Air at 3.5 MPa and 500°C is expanded in an adiabatic gas turbine to 0.2 MPa. Calculate the maximum work that this turbine can produce in kJ/kg.\n",
    "\n",
    "# Given: \n",
    "P1 = 3.5e6 #Pa\n",
    "T1 = 500 + Kc #K\n",
    "P2 = 0.2e6 #Pa\n",
    "\n",
    "state1 = ct.Solution('gri30.yaml')\n",
    "state1.X = 'N2:0.79 O2:0.21'\n",
    "state1.TP = T1,P1\n",
    "h1 = state1.HP[0]\n",
    "s1 = state1.SP[0]\n",
    "s2s = s1\n",
    "state2 = ct.Solution('gri30.yaml')\n",
    "state2.X = 'N2:0.79 O2:0.21'\n",
    "state2.SP = s2s,P2\n",
    "h2s = state2.HP[0]\n",
    "Wnet = h1 - h2s\n",
    "print(h1,h2s)\n",
    "print(f\"Wmax is {round(Wnet/1000,1)} kJ/kg\")"
   ]
  },
  {
   "cell_type": "code",
   "execution_count": 9,
   "id": "f87b6b0e-a593-4dcf-bcd5-3bac93bd0e64",
   "metadata": {},
   "outputs": [
    {
     "name": "stdout",
     "output_type": "stream",
     "text": [
      "The isentropic efficiency of the turbine is 0.8987\n"
     ]
    }
   ],
   "source": [
    "#6\n",
    "# Argon gas enters an adiabatic turbine at 800°C and 1.5 MPa at a rate of 80 kg/min and exhausts at 200 kPa. If the power output of the turbine is 370 kW, determine the isentropic efficiency of the turbine.\n",
    "\n",
    "# Given:\n",
    "T1 = 800 + Kc #K\n",
    "P1 = 1.5e6 #Pa\n",
    "P2 = 200e3 #Pa\n",
    "Wout = 370 #kW\n",
    "mflow = 80 # kg/min\n",
    "\n",
    "mflow = mflow/60 # kg/s\n",
    "cp = 0.520 #kJ/kgK\n",
    "cv = 0.312 #kJ/kgK\n",
    "k = cp/cv\n",
    "T2s = T1*(P2/P1)**((k-1)/k)\n",
    "Ws = mflow*cp*(T1-T2s)\n",
    "n = Wout/Ws\n",
    "print(f\"The isentropic efficiency of the turbine is {round(n,4)}\")"
   ]
  },
  {
   "cell_type": "code",
   "execution_count": 10,
   "id": "10dd80a4-d1ef-4fd0-8358-ef17c164e35a",
   "metadata": {},
   "outputs": [
    {
     "name": "stdout",
     "output_type": "stream",
     "text": [
      "The isentropic efficiency of the turbine is 0.6016\n"
     ]
    }
   ],
   "source": [
    "#7\n",
    "# Steam at 4 MPa and 350°C is expanded in an adiabatic turbine to 120 kPa. What is the isentropic efficiency of this turbine if the steam is exhausted as a saturated vapor?\\n'\n",
    "\n",
    "# Given:\n",
    "P1 = 4e6 #Pa\n",
    "T1 = 350 + Kc #K\n",
    "P2 = 120e3 #Pa\n",
    "\n",
    "state1 = ct.Water()\n",
    "state1.TP = T1,P1\n",
    "h1 = state1.HP[0]\n",
    "s1 = state1.ST[0]\n",
    "s2s = s1 \n",
    "state2s = ct.Water()\n",
    "state2s.SP = s2s,P2\n",
    "h2s = state2s.HP[0]\n",
    "state2 = ct.Water()\n",
    "state2.PQ = P2,1\n",
    "h2 = state2.HP[0]\n",
    "nth = (h1 - h2)/(h1 - h2s)\n",
    "print(f\"The isentropic efficiency of the turbine is {round(nth,4)}\")"
   ]
  },
  {
   "cell_type": "code",
   "execution_count": 11,
   "id": "45bf1345-c242-4a33-8a9f-960f6b2214da",
   "metadata": {},
   "outputs": [
    {
     "name": "stdout",
     "output_type": "stream",
     "text": [
      "The power produced by the turbine is 1647.9 kW\n"
     ]
    }
   ],
   "source": [
    "#8\n",
    "# Steam at 3 MPa and 400°C is expanded to 30 kPa in an adiabatic turbine with an isentropic efficiency of 92 percent. Determine the power produced by this turbine, in kW, when the mass flow rate is 2 kg/s\n",
    "\n",
    "# Given:\n",
    "T1 = 400 + Kc #K\n",
    "P1 = 3e6 #Pa\n",
    "P2 = 30e3 #Pa\n",
    "eta_th = 0.92\n",
    "mdot = 2 #kg/s\n",
    "\n",
    "state1 = ct.Water()\n",
    "state1.TP = T1,P1\n",
    "s1 = state1.ST[0]\n",
    "h1 = state1.HP[0]\n",
    "s2 = s1\n",
    "state2s = ct.Water()\n",
    "state2s.SP = s2,P2\n",
    "h2s = state2s.HP[0]\n",
    "Ws = mdot*(h1-h2s)\n",
    "Wnet = eta_th*Ws\n",
    "print(f\"The power produced by the turbine is {round(Wnet/1000,1)} kW\")"
   ]
  },
  {
   "cell_type": "code",
   "execution_count": 12,
   "id": "7fa017cd-4399-4942-9445-a48d3917cee3",
   "metadata": {},
   "outputs": [
    {
     "name": "stdout",
     "output_type": "stream",
     "text": [
      "a) The isentropic efficiency is 0.82\n",
      "b) The exit temperature is 504.8 K\n"
     ]
    }
   ],
   "source": [
    "#9\n",
    "# Air is compressed by an adiabatic compressor from 95 kPa and 27°C to 600 kPa and 277°C. Assuming variable specific heats (i.e. use Cantera to evaluate entropy) and neglecting the changes in kinetic and potential energies, determine (a) the isentropic efficiency of the compressor and (b) the exit temperature of air if the process were reversible\n",
    "\n",
    "# Given:\n",
    "P1 = 95e3 #Pa\n",
    "P2 = 600e3 #Pa\n",
    "T1 = 27 + Kc #K\n",
    "T2 = 277 + Kc #K\n",
    "\n",
    "state1,state2,state2s = ct.Solution('gri30.yaml'),ct.Solution('gri30.yaml'),ct.Solution('gri30.yaml')\n",
    "state1.X, state2.X, state2s.X = 'N2:0.79 O2:0.21','N2:0.79 O2:0.21','N2:0.79 O2:0.21'\n",
    "\n",
    "state1.TP = T1,P1\n",
    "s1 = state1.SP[0]\n",
    "h1 = state1.HP[0]\n",
    "s2s = s1\n",
    "state2s.SP = s2s,P2\n",
    "h2s = state2s.HP[0]\n",
    "\n",
    "T2s = state2s.TP[0]\n",
    "state2.TP = T2,P2\n",
    "h2 = state2.HP[0]\n",
    "\n",
    "nth = (h1 - h2s)/(h1 - h2)\n",
    "print(f\"a) The isentropic efficiency is {round(nth,2)}\")\n",
    "print(f\"b) The exit temperature is {round(T2s,1)} K\")"
   ]
  },
  {
   "cell_type": "code",
   "execution_count": 22,
   "id": "a6ccb221-3d0f-4d07-91fb-d65b2377256b",
   "metadata": {},
   "outputs": [
    {
     "name": "stdout",
     "output_type": "stream",
     "text": [
      "a) The isentropic efficiency is 83.07%\n",
      "b) The exit temperature is 507.821 K\n"
     ]
    }
   ],
   "source": [
    "#10\n",
    "# Air is compressed by an adiabatic compressor from 95 kPa and 27°C to 600 kPa and 277°C. Using specific heats and neglecting the changes in kinetic and potential energies, determine (a) the isentropic efficiency of the compressor and (b) the exit temperature of air if the process were reversible. using specific heats.\n",
    "\n",
    "P1 = 95e3 #Pa\n",
    "P2 = 600e3 #Pa\n",
    "T1 = 27 + Kc #K\n",
    "T2 = 277 + Kc #K\n",
    "state1= ct.Solution('gri30.yaml')\n",
    "state1.X = 'N2:0.79 O2:0.21'\n",
    "state1.TP = T1,P1\n",
    "k = state1.cp/state1.cv\n",
    "T2s = T1*(P2/P1)**((k-1)/k)\n",
    "nth = (T1-T2s)/(T1-T2)\n",
    "print(f\"a) The isentropic efficiency is {round(nth*100,2)}%\")\n",
    "print(f\"b) The exit temperature is {round(T2s,3)} K\")"
   ]
  },
  {
   "cell_type": "code",
   "execution_count": 23,
   "id": "0d673a9a-5498-401c-8def-e42797792e23",
   "metadata": {},
   "outputs": [
    {
     "name": "stdout",
     "output_type": "stream",
     "text": [
      "The specific work is -4.46 kJ/kg\n"
     ]
    }
   ],
   "source": [
    "# 11\n",
    "# From Example #2 from Isentropic Efficiencies and Pump Work. For this do not assume incompressible or Cantera and rather use data provided in link below to help calculate – “Calculate the work per kg to pump water isentropically from 100 kPa, 30 °C to 5 MPa. Assume steady state, reversible and adiabatic. Use https://webbook.nist.gov/chemistry/fluid/ \n",
    "\n",
    "P1 = 100e3 #Pa\n",
    "T1 = 30 + Kc #K\n",
    "P2 = 5e6 #K\n",
    "h1 = 125.82 #kJ/kg\n",
    "s1 = 0.43673 #J/gK\n",
    "h2s = 130.28 #kJ/kg\n",
    "w = h1 - h2s\n",
    "print(f\"The specific work is {round(w,2)} kJ/kg\")"
   ]
  },
  {
   "cell_type": "code",
   "execution_count": null,
   "id": "b02a21da-dd15-47ee-b33f-9c2177432ef8",
   "metadata": {},
   "outputs": [],
   "source": []
  }
 ],
 "metadata": {
  "kernelspec": {
   "display_name": "Python 3 (ipykernel)",
   "language": "python",
   "name": "python3"
  },
  "language_info": {
   "codemirror_mode": {
    "name": "ipython",
    "version": 3
   },
   "file_extension": ".py",
   "mimetype": "text/x-python",
   "name": "python",
   "nbconvert_exporter": "python",
   "pygments_lexer": "ipython3",
   "version": "3.12.3"
  }
 },
 "nbformat": 4,
 "nbformat_minor": 5
}
