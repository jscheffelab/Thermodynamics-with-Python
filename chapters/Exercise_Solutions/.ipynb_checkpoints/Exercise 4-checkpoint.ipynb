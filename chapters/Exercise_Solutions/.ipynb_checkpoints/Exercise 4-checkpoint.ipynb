{
 "cells": [
  {
   "cell_type": "markdown",
   "id": "8dc5d671-c54f-4e7f-8a4a-191ecc863225",
   "metadata": {},
   "source": [
    "(Exercise4Solutions)=\n",
    "# Exercise 4 Solutions"
   ]
  },
  {
   "cell_type": "markdown",
   "id": "16bf3044-6dd9-43c2-8904-b7e7143a8a0f",
   "metadata": {},
   "source": [
    "{numref}`Exercise4` {ref}`Exercise4`"
   ]
  },
  {
   "cell_type": "code",
   "execution_count": 5,
   "id": "706ba0e2-e1a3-4920-800c-464a837d23f3",
   "metadata": {},
   "outputs": [],
   "source": [
    "#6.7.3 Exercise 1\n",
    "#Determine the change in specific enthalpy of O<sub>2</sub> as it is heated from 500 K \n",
    "#to 700 K using\n",
    "    # a) property evaluation in Cantera\n",
    "    # b) polynomial expression for specific heat as a function of temperature\n",
    "    # c) average specific heats\n",
    "    # d) constant specific heat at 300 K.\n",
    "\n",
    "import cantera as ct\n",
    "species1=ct.Oxygen()\n",
    "species2=ct.Oxygen()\n",
    "T1=500 #K\n",
    "T2=700 #K\n",
    "P = 100000 # Pressure not specificed and not necessary because ideal gas. Use 1 bar\n"
   ]
  },
  {
   "cell_type": "code",
   "execution_count": 9,
   "id": "3940ce4b-b9c1-46a1-8d7a-4faf1329238a",
   "metadata": {},
   "outputs": [
    {
     "name": "stdout",
     "output_type": "stream",
     "text": [
      "Change in specific enthalpy using Cantera property evaluation is  200.537 kJ/kg\n"
     ]
    }
   ],
   "source": [
    "#a)\n",
    "species1.TP = T1,P\n",
    "species2.TP = T2,P\n",
    "h1=species1.TH[1] #J/kg\n",
    "h2=species2.TH[1] #J/kg\n",
    "print(\"Change in specific enthalpy using Cantera property evaluation is \", round((h2-h1)/1000,3), \"kJ/kg\") "
   ]
  },
  {
   "cell_type": "code",
   "execution_count": 11,
   "id": "e7d4a12c-7462-453c-ac47-3fbe8c1c0529",
   "metadata": {},
   "outputs": [
    {
     "name": "stdout",
     "output_type": "stream",
     "text": [
      "The change in enthalpy using the Shomate Equation is 200.503 kJ/kg\n"
     ]
    }
   ],
   "source": [
    "#b)\n",
    "A,B,C,D,E = 31.32234,-20.23531,57.86644,-36.50624,-0.007374 # from NIST Webbook\n",
    "def cp_int(T,A,B,C,D,E): #this is the integrated form of the shomate equation, which we will evaluate at T1 and T2. Units J/mol\n",
    "    return A*T + B*T**2/2 + C*T**3/3 + D*T**4/4 + E*T**(-1)/(-1)\n",
    "delta_h=cp_int(T2/1000,A,B,C,D,E)-cp_int(T1/1000,A,B,C,D,E) # The Cp units are J/mol, as seen from the NIST website, but when integrating with T/1000 become kJ/mol. To convert to kJ/kg we need to multiply by 1000.\n",
    "M_O2 = 32 # kg/kmol\n",
    "delta_h=delta_h*1000/M_O2\n",
    "print(\"The change in enthalpy using the Shomate Equation is\", round(delta_h,3), \"kJ/kg\" )"
   ]
  },
  {
   "cell_type": "code",
   "execution_count": 13,
   "id": "6fc51225-5aa6-4c95-ba38-3bf0da48433e",
   "metadata": {},
   "outputs": [
    {
     "name": "stdout",
     "output_type": "stream",
     "text": [
      "Change in specific enthalpy using Cantera property evaluation is  200.318 kJ/kg\n"
     ]
    }
   ],
   "source": [
    "#c)\n",
    "species1.TP = T1,P\n",
    "species2.TP = T2,P\n",
    "cp1=species1.cp #J/kg\n",
    "cp2=species2.cp #J/kg\n",
    "cp_avg=(cp1+cp2)/2\n",
    "print(\"Change in specific enthalpy using Cantera property evaluation is \", round(cp_avg*(T2-T1)/1000,3), \"kJ/kg\") "
   ]
  },
  {
   "cell_type": "code",
   "execution_count": 14,
   "id": "cabab761-f01f-40b9-a008-85ccfc4da17f",
   "metadata": {},
   "outputs": [
    {
     "name": "stdout",
     "output_type": "stream",
     "text": [
      "Change in specific enthalpy using Cantera property evaluation is  183.987 kJ/kg\n"
     ]
    }
   ],
   "source": [
    "#d)\n",
    "species1.TP = 300,P\n",
    "cp=species1.cp #J/kg\n",
    "print(\"Change in specific enthalpy using Cantera property evaluation is \", round(cp*(T2-T1)/1000,3), \"kJ/kg\") "
   ]
  },
  {
   "cell_type": "code",
   "execution_count": 23,
   "id": "f590d668-900c-495f-981e-ca453b04fb1e",
   "metadata": {},
   "outputs": [
    {
     "name": "stdout",
     "output_type": "stream",
     "text": [
      "Heat transferred from the system is  -4.199 kJ/kg\n"
     ]
    }
   ],
   "source": [
    "#6.7.3 Exercise 2\n",
    "#A cylinder is fitted with a piston and has an initial volume of 0.1 m3 and contains\n",
    "#N2 gas at 150 kPa, 25 °C. The piston is moved, compressing the N2 until the \n",
    "#pressure is 1 MPa and T = 150 °C. During compression, heat is transferred from the N2, \n",
    "#and the work done on the system is 20 kJ. Determine the amount of heat transfer using average specific heats.\n",
    "\n",
    "import cantera as ct\n",
    "species1=ct.Nitrogen()\n",
    "species2=ct.Nitrogen()\n",
    "V1=0.1 # m3\n",
    "T1=25+273.15 #K\n",
    "T2=150+273.15 #K\n",
    "P1 = 150000 # Although pressure changes, not necessary to account for because ideal gas. Use 1.5 bar.\n",
    "species1.TP = T1,P1\n",
    "species2.TP = T2,P1\n",
    "cv_avg = (species1.cv+species2.cv)/2 # J/kg\n",
    "# delta_U = Q-W, from first law\n",
    "W = -20 #kJ\n",
    "v1=species1.TV[1] #m3/kg\n",
    "m=V1/v1 #kg\n",
    "Q=cv_avg*(T2-T1)/1000*m+W #kJ\n",
    "print(\"Heat transferred from the system is \", round(Q,3), \"kJ/kg\") "
   ]
  },
  {
   "cell_type": "code",
   "execution_count": 38,
   "id": "55b2778c-e175-4ec1-9d42-6f636066726f",
   "metadata": {},
   "outputs": [
    {
     "name": "stdout",
     "output_type": "stream",
     "text": [
      "Q using Tguess 300.76 kJ/kg. T2 is  583 K\n",
      "T2 using fsolve 582.3 K\n"
     ]
    }
   ],
   "source": [
    "#6.7.3 Exercise 3\n",
    "#A cylinder is fitted with a piston contains N2 gas at 150 kPa, 25 °C. 300 kJ/kg of heat is transferred \n",
    "#to the system at constant pressure. Determine the temperature after heat addition using average specific \n",
    "#heats. Note that an iterative solution approach is necessary.\n",
    "\n",
    "import cantera as ct\n",
    "species1=ct.Nitrogen()\n",
    "species2=ct.Nitrogen()\n",
    "T1=25+273.15 #K\n",
    "P1 = 150000 # Although pressure changes, not necessary to account for because ideal gas. Use 1.5 bar.\n",
    "\n",
    "species1.TP = T1,P1\n",
    "cp1=species1.cp\n",
    "def cp2(Tguess):\n",
    "    species2.TP = Tguess,P1\n",
    "    return species2.cp\n",
    "def cv_avg(Tguess):\n",
    "    return (cp1+cp2(Tguess))/2 # J/kg\n",
    "# guess T until cv_avg*(Tguess-T1) = 300 kJ/kg\n",
    "def Q(Tguess):\n",
    "    return cv_avg(Tguess)*(Tguess-T1)/1000\n",
    "Tguess=583 #K\n",
    "print(\"Q using Tguess\", round(Q(Tguess),2), \"kJ/kg. T2 is \", Tguess, \"K\")\n",
    "\n",
    "# use fsolve to determine T2\n",
    "import numpy as np\n",
    "from scipy.optimize import fsolve\n",
    "def T2(Tguess):\n",
    "    return Q(Tguess)-300\n",
    "root = fsolve(T2, 500)\n",
    "print\n",
    "print(\"T2 using fsolve\", round(root[0],2), \"K\")"
   ]
  },
  {
   "cell_type": "code",
   "execution_count": 1,
   "id": "177ea50e-cdfd-4424-8dc5-8f44aeffedd4",
   "metadata": {},
   "outputs": [
    {
     "name": "stdout",
     "output_type": "stream",
     "text": [
      "The work input is -742.25 kJ\n"
     ]
    }
   ],
   "source": [
    "#6.7.3 Exercise 4\n",
    "#A  frictionless piston–cylinder device contains 5 kg of nitrogen at 100 kPa and 250 K. Nitrogen is now compressed slowly according to the relation \n",
    "#𝑃𝑉^1.4 = constant until it reaches a final temperature of 450 K. Calculate the work input during this process.\n",
    "\n",
    "m = 5 # kg\n",
    "P1 = 100 # kPa\n",
    "T1 = 250 # K\n",
    "T2 = 450 # K\n",
    "n = 1.4 # polytropic process\n",
    "R = 0.2969 # kJ/kgK = M_bar/M_N2\n",
    "\n",
    "# polytropic proces, n =/= 1, > W = (P2V2 - P1V1)/(1-n)\n",
    "# need P2, v2, v1. Put in terms of temperatures using ideal gas law\n",
    " \n",
    "W = (m*R*T2 - m*R*T1)/(1-n)\n",
    "print(f\"The work input is {round(W,3)} kJ\")"
   ]
  },
  {
   "cell_type": "code",
   "execution_count": 3,
   "id": "4e0e97a2-b554-4ff0-a7c6-fbd9acf30890",
   "metadata": {},
   "outputs": [
    {
     "name": "stdout",
     "output_type": "stream",
     "text": [
      "The work is -50.22 kJ\n"
     ]
    }
   ],
   "source": [
    "#6.7.3 Exercise 5\n",
    "# Nitrogen at an initial state of 300 K, 150 kPa, and 0.2 m3 is compressed slowly in an isothermal process to \n",
    "#a final pressure of 800 kPa. Determine the work done during this process.\n",
    "\n",
    "import numpy as np\n",
    "# Given: \n",
    "T1 = 300 # K\n",
    "T2 = T1\n",
    "n = 1\n",
    "P1 = 150 # kPa\n",
    "V1 = 0.2 # m3\n",
    "P2 = 800 # kPa\n",
    "\n",
    "# Find: work done \n",
    "# isothermal so W = P1V1ln(V2/V1) , V2/V1 = P2/P1\n",
    "\n",
    "W = P1*V1*np.log(P2/P1)\n",
    "print(f\"The work is -{round(W,2)} kJ\")"
   ]
  },
  {
   "cell_type": "code",
   "execution_count": 9,
   "id": "8a7047f7-b8fa-424f-8e51-f0189322cf10",
   "metadata": {},
   "outputs": [
    {
     "name": "stdout",
     "output_type": "stream",
     "text": [
      "The temperature at state 2 is 171.81 C\n"
     ]
    }
   ],
   "source": [
    "#6.7.3 Exercise 6\n",
    "# Argon is compressed in a polytropic process with n = 1.2 from 120 kPa and 30°C to 1200 kPa in a piston–cylinder device. \n",
    "#Determine the final temperature of the argon.\n",
    "\n",
    "import cantera as ct\n",
    "import numpy as np\n",
    "Kc = 273.15\n",
    "\n",
    "# Given: \n",
    "n = 1.2\n",
    "P1 = 120 # kPa\n",
    "T1 = 30 + Kc # K\n",
    "P2 = 1200 # kPa\n",
    "R_bar = 8.314 #kJ/kmol/K\n",
    "M_Ar = 40 # kg/kmol\n",
    "R=R_bar/M_Ar\n",
    "\n",
    "v1=R*T1/P1\n",
    "\n",
    "#P1v1^n = P2v2^n\n",
    "#P1/P2=(v2/v1)^n\n",
    "#v2/v1=(P1/P2)^(1/n)\n",
    "\n",
    "v2=v1*(P1/P2)**(1/n)\n",
    "T2=P2*v2/R\n",
    "\n",
    "# or we could show from algebra that\n",
    "\n",
    "#T2 = T1*(P2/P1)**((n-1)/n)\n",
    "print(f\"The temperature at state 2 is {round(T2-Kc,2)} C\")"
   ]
  },
  {
   "cell_type": "code",
   "execution_count": 10,
   "id": "a307fa0b-6dca-48dc-8492-a8af2ab72715",
   "metadata": {},
   "outputs": [
    {
     "name": "stdout",
     "output_type": "stream",
     "text": [
      "Change in internal energy using the Shomate Equation is 6193.24 kJ/kg\n",
      "Change in internal energy using average cv is  6773.47 kJ/kg\n",
      "Change in specific enthalpy using cv at room temp is  6469.82 kJ/kg\n",
      "Change in specific internal energy using Cantera property evaluation is  6359.89 kJ/kg\n"
     ]
    }
   ],
   "source": [
    "#6.7.3 Exercise 7\n",
    "#Determine the change in specific internal energy of hydrogen as it is heated from 200 to 800 K using \n",
    "#a) the Shomate specific heat equation as a function of temperature, b) using an average cv value, \n",
    "#c) using a room temperature cv value, and d) using Cantera.\n",
    "\n",
    "# Hydrogen\n",
    "T1 = 200 # K\n",
    "T2 = 800 # K\n",
    "P = 100e3 # Pa\n",
    "species1=ct.Hydrogen()\n",
    "species2=ct.Hydrogen()\n",
    "T_amb = 293 # K \n",
    "R = 8.314\n",
    "\n",
    "# Part A \n",
    "A,B,C,D,E = 33.066178, -11.363417, 11.432816, -2.772874, -0.158558\n",
    "def cv_int(T,A,B,C,D,E,R): #this is the integrated form of the shomate equation, which we will evaluate at T1 and T2. Units J/mol\n",
    "    return (A-R)*T + B*T**2/2 + C*T**3/3 + D*T**4/4 + E*T**(-1)/(-1)\n",
    "delta_u=cv_int(T2/1000,A,B,C,D,E,R)-cv_int(T1/1000,A,B,C,D,E,R) # The units are J/mol\n",
    "delta_u=delta_u*1000/2.016\n",
    "print(\"Change in internal energy using the Shomate Equation is\", round(delta_u,2), \"kJ/kg\" )\n",
    "\n",
    "# Part B \n",
    "species1.TP = T1,P\n",
    "species2.TP = T2,P\n",
    "cv1=species1.cv #J/kg\n",
    "cv2=species2.cv #J/kg\n",
    "cv_avg=(cv1+cv2)/2\n",
    "print(\"Change in internal energy using average cv is \", round(cv_avg*(T2-T1)/1000,2), \"kJ/kg\") \n",
    "\n",
    "# Part C\n",
    "species1.TP = T_amb,P\n",
    "cv=species1.cv #J/kg\n",
    "print(\"Change in specific enthalpy using cv at room temp is \", round(cv*(T2-T1)/1000,2), \"kJ/kg\") \n",
    "\n",
    "# Part D \n",
    "species1.TP = T1,P\n",
    "species2.TP = T2,P\n",
    "u1=species1.UP[0] #J/kg\n",
    "u2=species2.UP[0] #J/kg\n",
    "print(\"Change in specific internal energy using Cantera property evaluation is \",round((u2 - u1)/1000,2), \"kJ/kg\") "
   ]
  },
  {
   "cell_type": "code",
   "execution_count": 12,
   "id": "4efba082-dccd-46a0-a084-7edf869a6ad4",
   "metadata": {},
   "outputs": [
    {
     "name": "stdout",
     "output_type": "stream",
     "text": [
      "Specific heat Eqn:\n",
      "Constant-volume: The heat transfer required is 65.77 kJ\n",
      "Isobaric:The heat transfer required is 92.72 kJ/kg\n",
      "Average cv:\n",
      "Constant-volume: The heat transfer required is 66.85 kJ\n",
      "Isobaric: The heat transfer required is 92.94 kJ\n",
      "Room temp cv:\n",
      "Constant-volume: The heat transfer required is 65.77 kJ\n",
      "Isobaric: The heat transfer required is 91.9 kJ\n",
      "Cantera:\n",
      "Constant-volume: The heat transfer required is 66.75 kJ\n",
      "Isobaric: The heat transfer required is 92.82 kJ\n"
     ]
    }
   ],
   "source": [
    "#6.7.3 Exercise 8\n",
    "#1 kg of oxygen is heated from 20 to 120°C. Determine the amount of heat transfer required when this is done during both  \n",
    "#a constant-volume process and an isobaric process. For each use  a) specific heat equation as a function of temperature, b) using an average cv value, c) using a room temperature cv value, and d) using Cantera.\n",
    "\n",
    "import cantera as ct\n",
    "import numpy as np\n",
    "Kc = 273.15\n",
    "\n",
    "m = 1 # kg\n",
    "T1 = 20 + Kc\n",
    "T2 = 120 + Kc\n",
    "deltaT = T2 - T1\n",
    "P = 100e3 # Pa\n",
    "R = 8.314\n",
    "\n",
    "\n",
    "# Constant volume process\n",
    "print(\"Specific heat Eqn:\")\n",
    "#a \n",
    "A,B,C,D,E = 31.32234, -20.23531, 57.86644, -36.50624, -0.007374\n",
    "def cv_int(T,A,B,C,D,E,R): #this is the integrated form of the shomate equation, which we will evaluate at T1 and T2. Units J/mol\n",
    "    return (A-R)*T + B*T**2/2 + C*T**3/3 + D*T**4/4 + E*T**(-1)/(-1)\n",
    "delta_u=cv_int(T2/1000,A,B,C,D,E,R)-cv_int(T1/1000,A,B,C,D,E,R) # The units are J/mol\n",
    "delta_u=delta_u*1000/32\n",
    "deltaU = cv*deltaT\n",
    "Q12 = m*deltaU/1000\n",
    "print(f\"Constant-volume: The heat transfer required is {round(Q12,2)} kJ\")\n",
    "\n",
    "# Constant pressure process\n",
    "#a)\n",
    "A,B,C,D,E = 31.32234,-20.23531,57.86644,-36.50624,-0.007374 \n",
    "def cp_int(T,A,B,C,D,E): \n",
    "    return A*T + B*T**2/2 + C*T**3/3 + D*T**4/4 + E*T**(-1)/(-1)\n",
    "delta_h=cp_int(T2/1000,A,B,C,D,E)-cp_int(T1/1000,A,B,C,D,E) \n",
    "M_O2 = 32\n",
    "delta_h=delta_h*1000/M_O2\n",
    "print(\"Isobaric:The heat transfer required is\", round(delta_h,3), \"kJ/kg\" )\n",
    "\n",
    "# Constant volume process\n",
    "#b)\n",
    "print(\"Average cv:\")\n",
    "species1 = ct.Oxygen()\n",
    "species2 = ct.Oxygen()\n",
    "species1.TP = T1,P\n",
    "species2.TP = T2,P\n",
    "cv1=species1.cv #J/kg\n",
    "cv2=species2.cv #J/kg\n",
    "cv_avg=(cv1+cv2)/2\n",
    "deltaU = cv_avg*deltaT\n",
    "Q12 = m*deltaU/1000\n",
    "print(f\"Constant-volume: The heat transfer required is {round(Q12,2)} kJ\")\n",
    "\n",
    "#Constant pressure process\n",
    "#b)\n",
    "cp1=species1.cp #J/kg\n",
    "cp2=species2.cp #J/kg\n",
    "cp_avg=(cp1+cp2)/2\n",
    "deltaH = cp_avg*deltaT\n",
    "Q12 = m*deltaH/1000\n",
    "print(f\"Isobaric: The heat transfer required is {round(Q12,2)} kJ\")\n",
    "\n",
    "# Constant volume process\n",
    "# c)\n",
    "print(\"Room temp cv:\")\n",
    "species1.TP = T_amb,P\n",
    "cv=species1.cv #J/kg\n",
    "cp=species1.cp\n",
    "\n",
    "deltaU = cv*deltaT\n",
    "Q12 = m*deltaU/1000\n",
    "print(f\"Constant-volume: The heat transfer required is {round(Q12,2)} kJ\")\n",
    "\n",
    "\n",
    "#Constant pressure process\n",
    "#c)\n",
    "deltaH = cp*deltaT\n",
    "Q12 = m*deltaH/1000\n",
    "print(f\"Isobaric: The heat transfer required is {round(Q12,2)} kJ\")\n",
    "\n",
    "\n",
    "#Using Cantera\n",
    "print(\"Cantera:\")\n",
    "state1 = ct.Oxygen()\n",
    "state2 = ct.Oxygen()\n",
    "# constant volume\n",
    "# d)\n",
    "state1.TP = T1,P\n",
    "v1 = state1.TV[1]\n",
    "v2 = v1\n",
    "state2.TV = T2, v2\n",
    "u1 = state1.UP[0]\n",
    "u2 = state2.UP[0]\n",
    "deltaU = u2 - u1 \n",
    "Q12 = m*deltaU/1000\n",
    "print(f\"Constant-volume: The heat transfer required is {round(Q12,2)} kJ\")\n",
    "\n",
    "# constant pressure\n",
    "# d)\n",
    "state1.TP = T1,P\n",
    "state2.TP = T2,P\n",
    "h1 = state1.HP[0]\n",
    "h2 = state2.HP[0]\n",
    "deltaH = h2 - h1 \n",
    "Q12 = m*deltaH/1000\n",
    "print(f\"Isobaric: The heat transfer required is {round(Q12,2)} kJ\")"
   ]
  },
  {
   "cell_type": "code",
   "execution_count": 13,
   "id": "e340a028-9337-496f-889a-01694ab8da4e",
   "metadata": {},
   "outputs": [
    {
     "name": "stdout",
     "output_type": "stream",
     "text": [
      "The work is -109.43 kJ/kg and the heat transfer is 76.56 kJ/kg\n"
     ]
    }
   ],
   "source": [
    "#6.7.3 Exercise 9\n",
    "# Argon (cv = 0.3122 kJ/kg/K) is compressed in a polytropic process with n = 1.2 from 120 kPa and 10°C to 800 kPa in a piston–cylinder device. \n",
    "#Determine the work produced and heat transferred during this compression process, in kJ/kg.\n",
    "\n",
    "n = 1.2 \n",
    "P1 = 120e3 # Pa\n",
    "T1 = 10 + Kc\n",
    "P2 = 800e3 # Pa\n",
    "R_bar = 8.314 #kJ/kmol/K\n",
    "M_Ar = 40 # kg/kmol\n",
    "R=R_bar/M_Ar\n",
    "T2 = T1*(P2/P1)**((n-1)/n)\n",
    "deltaT = T2 - T1\n",
    "w = R*deltaT/(1-n)\n",
    "cv = 0.3122 # kJ/kgK\n",
    "deltau = -1*cv*deltaT\n",
    "q = deltau - w\n",
    "print(f\"The work is {round(w,2)} kJ/kg and the heat transfer is {round(q,2)} kJ/kg\")"
   ]
  },
  {
   "cell_type": "code",
   "execution_count": 16,
   "id": "05909a57-ccde-46aa-b4a4-a27472c2c25b",
   "metadata": {},
   "outputs": [
    {
     "name": "stdout",
     "output_type": "stream",
     "text": [
      "The work done is -150.1 kJ, and the heat transfer for the process is -37.4 kJ\n"
     ]
    }
   ],
   "source": [
    "#6.7.3 Exercise 10\n",
    "# A piston–cylinder device contains 2.2 kg of nitrogen initially at 100 kPa and 25°C. The nitrogen is now compressed slowly in a polytropic process during which\n",
    "#𝑃𝑉^1.3 = constant until the volume is reduced by one-half. Determine the work done and the heat transfer for this process.\n",
    "\n",
    "import cantera as ct\n",
    "import numpy as np\n",
    "Kc = 273.15\n",
    "\n",
    "m = 2.2 # kg\n",
    "P1 = 100 # kPa\n",
    "T1 = 25 + Kc\n",
    "n = 1.3\n",
    "V1 = 1 # will cancel\n",
    "V2 = 0.5*V1\n",
    "P2 = P1*(V1/V2)**n\n",
    "T2 = (P2*V2*T1)/(P1*V1)\n",
    "\n",
    "species1 = ct.Nitrogen()\n",
    "species2 = ct.Nitrogen()\n",
    "species1.TP = T1,P1\n",
    "species2.TP = T2,P1\n",
    "cv1=species1.cv \n",
    "cv2=species2.cv \n",
    "cv=(cv1+cv2)/2/1000\n",
    "\n",
    "deltaT = T2 - T1\n",
    "R_bar = 8.314 #kJ/kmol/K\n",
    "M_N2 = 28 # kg/kmol\n",
    "R=R_bar/M_N2\n",
    "\n",
    "W = m*R*deltaT/(1-n) # from (P2V2-P1V1)/(1-n), V2=mRT2/P2 and V1=mRT1/P1\n",
    "deltaU = m*cv*deltaT\n",
    "Q = deltaU+W\n",
    "print(f\"The work done is {round(W,1)} kJ, and the heat transfer for the process is {round(Q,1)} kJ\")"
   ]
  },
  {
   "cell_type": "code",
   "execution_count": null,
   "id": "92326a2a-7cd1-4f5b-9f2e-18b2bb759b57",
   "metadata": {},
   "outputs": [],
   "source": []
  }
 ],
 "metadata": {
  "kernelspec": {
   "display_name": "Python 3 (ipykernel)",
   "language": "python",
   "name": "python3"
  },
  "language_info": {
   "codemirror_mode": {
    "name": "ipython",
    "version": 3
   },
   "file_extension": ".py",
   "mimetype": "text/x-python",
   "name": "python",
   "nbconvert_exporter": "python",
   "pygments_lexer": "ipython3",
   "version": "3.9.13"
  }
 },
 "nbformat": 4,
 "nbformat_minor": 5
}
