{
 "cells": [
  {
   "cell_type": "markdown",
   "id": "8dc5d671-c54f-4e7f-8a4a-191ecc863225",
   "metadata": {},
   "source": [
    "(Exercise3Solutions)=\n",
    "# Exercise 3 Solutions"
   ]
  },
  {
   "cell_type": "markdown",
   "id": "16bf3044-6dd9-43c2-8904-b7e7143a8a0f",
   "metadata": {},
   "source": [
    "{numref}`Exercise3` {ref}`Exercise3`"
   ]
  },
  {
   "cell_type": "code",
   "execution_count": 8,
   "id": "706ba0e2-e1a3-4920-800c-464a837d23f3",
   "metadata": {},
   "outputs": [
    {
     "name": "stdout",
     "output_type": "stream",
     "text": [
      "Initial temperature:  372.81 K\n",
      "Final temperature:  384.55 K\n",
      "Heat Transfer:  298.1 kJ\n"
     ]
    }
   ],
   "source": [
    "#5.3.2 Exercise 1\n",
    "#A closed rigid container of 0.5 m3 is placed on a hot plate. Initially it contains a two phase mixture of saturated liquid and saturated vapor H2O at  𝑝1 = 1 bar with x = 0.5. After heating  𝑝2 = 1.5 bar. \n",
    "#Determine T at states 1 and 2. Determine the heat transfer during the process.\n",
    "\n",
    "V1 = 0.5 #m3\n",
    "Q1 = 0.5\n",
    "P1 = 100*1000 #Pa\n",
    "P2 = 150*1000 #Pa\n",
    "\n",
    "#Using Cantera:\n",
    "import cantera as ct\n",
    "#define state 1\n",
    "species1=ct.Water()\n",
    "\n",
    "species1.PQ=P1,Q1\n",
    "\n",
    "print(f\"Initial temperature:  {round(species1.TQ[0],2)} K\")\n",
    "\n",
    "v1 = v2 = species1.TV[1] # Initial and final specific volume since it is a rigid container\n",
    "\n",
    "#define state 2\n",
    "species2=ct.Water()\n",
    "\n",
    "species2.PV=P2,v2\n",
    "\n",
    "print(f\"Final temperature:  {round(species2.TQ[0],2)} K\")\n",
    "\n",
    "m = V1/v1 # kg\n",
    "u1 = species1.UV[0]\n",
    "u2 = species2.UV[0]\n",
    "Q = m*(u2-u1) # From Delta_U = Q-W, work is zero because volume is fixed\n",
    "\n",
    "print(f\"Heat Transfer:  {round(Q/1000,2)} kJ\")\n"
   ]
  },
  {
   "cell_type": "code",
   "execution_count": 16,
   "id": "d39f0a4d-b031-42e1-9484-621276ee25d8",
   "metadata": {},
   "outputs": [
    {
     "name": "stdout",
     "output_type": "stream",
     "text": [
      "Initial temperature:  461.18 K\n",
      "Initial specific volume:  0.033582 K\n",
      "Initial specific enthalpy:  -14774746.42 K\n",
      "Final state of matter:  gas\n",
      "Final specific volume:  0.213816 K\n",
      "Final specific enthalpy:  -12925000.32 K\n",
      "Work:  216.28 kJ\n",
      "Heat Transfer:  18497.46 kJ\n"
     ]
    }
   ],
   "source": [
    "#5.3.2 Exercise 2\n",
    "#A piston cylinder assembly initially (State 1) contains 10 kg of H2O at 1200 kPa.\n",
    "# a) If 8 kg is in the liquid form and the rest vapor, determine the temperature, specific volume and specific enthalpy.\n",
    "# b) The cylinder continues to be heated at constant pressure until the temperature reaches 300 °C (State 2). Determine the final state (compressed liquid, saturated mixture, superheated vapor), specific volume and specific enthalpy.\n",
    "# c) Determine the heat transfer and work for this process.\n",
    "\n",
    "# part a\n",
    "m=10 #kg\n",
    "P1 = 1200*1000 #Pa\n",
    "mg = 2 #kg\n",
    "Q1 = mg/m\n",
    "\n",
    "#Using Cantera:\n",
    "import cantera as ct\n",
    "#define state 1\n",
    "species1=ct.Water()\n",
    "\n",
    "species1.PQ=P1,Q1\n",
    "T1 = species1.TV[0]\n",
    "v1 = species1.TV[1]\n",
    "h1 = species1.HP[0]\n",
    "\n",
    "print(f\"Initial temperature:  {round(T1,2)} K\")\n",
    "print(f\"Initial specific volume:  {round(v1,6)} K\")\n",
    "print(f\"Initial specific enthalpy:  {round(h1,2)} K\")\n",
    "\n",
    "# part b\n",
    "T2 = 300+273.15 # K\n",
    "P2=P1\n",
    "\n",
    "#define state 2\n",
    "species2=ct.Water()\n",
    "\n",
    "species2.TP=T2,P2\n",
    "v2 = species2.TV[1]\n",
    "phase = species2.phase_of_matter\n",
    "h2 = species2.HP[0]\n",
    "\n",
    "print(f\"Final state of matter:  {phase}\")\n",
    "print(f\"Final specific volume:  {round(v2,6)} K\")\n",
    "print(f\"Final specific enthalpy:  {round(h2,2)} K\")\n",
    "\n",
    "# part c\n",
    "\n",
    "Q = m*(h2-h1) # J, constant pressure process\n",
    "W = P2*(v2-v1) # J,constant volume process\n",
    "\n",
    "print(f\"Work:  {round(W/1000,2)} kJ\")\n",
    "print(f\"Heat Transfer:  {round(Q/1000,2)} kJ\")"
   ]
  },
  {
   "cell_type": "code",
   "execution_count": 4,
   "id": "92549f29-1a55-418f-b6e9-33b01db205bd",
   "metadata": {},
   "outputs": [
    {
     "name": "stdout",
     "output_type": "stream",
     "text": [
      "A) : The change in internal energy between states 1 and 2 is -279.015197695978 kJ/kg\n"
     ]
    }
   ],
   "source": [
    "#5.3.2 Exercise 3\n",
    "#Water initially at 200 kPa and 300C is contained in a piston-cylinder device fitted with stops. The water is allowed to cool at constant pressure until it exists as a saturated vapor and the piston rests on its stops. Then the water continues to cool until the pressure is 100 kPa.\n",
    "import cantera as ct\n",
    "P1 = 200e3 #Pa\n",
    "T1 = 300 + 273.15 #K\n",
    "P2 = P1\n",
    "P3 = 100e3 #Pa\n",
    "Q2 = 1\n",
    "\n",
    "state1 = ct.Water()\n",
    "state1.TP = T1, P1\n",
    "\n",
    "state2 = ct.Water()\n",
    "state2.PQ = P2, Q2\n",
    "v2 = state2.TV[1]\n",
    "v3 = v2\n",
    "\n",
    "state3 = ct.Water()\n",
    "state3.PV = P3, v3\n",
    "\n",
    "# Part A\n",
    "\n",
    "# Find internal energy change between states 1 and 3\n",
    "state1 = ct.Water()\n",
    "state1.TP = T1, P1\n",
    "u1 = state1.UP[0]\n",
    "\n",
    "# P2 = P1, Q2 = 1\n",
    "state2 = ct.Water()\n",
    "state2.PQ = P2, Q2\n",
    "u2 = state2.UP[0]\n",
    "\n",
    "deltau21 = u2 - u1 \n",
    "print(f\"A) : The change in internal energy between states 1 and 2 is {deltau21/1000} kJ/kg\")"
   ]
  },
  {
   "cell_type": "code",
   "execution_count": 5,
   "id": "72650b65-30ee-480d-87b1-d44a8d9425d2",
   "metadata": {},
   "outputs": [
    {
     "name": "stdout",
     "output_type": "stream",
     "text": [
      "B) : The change in specific volume between states 1 and 2 is -0.00043035589952211537 kJ/kg\n"
     ]
    }
   ],
   "source": [
    "# Part B \n",
    "v1 = state1.TV[1]\n",
    "v2 = state2.TV[1]\n",
    "print(f\"B) : The change in specific volume between states 1 and 2 is {(v2 -v1)/1000} kJ/kg\")"
   ]
  },
  {
   "cell_type": "code",
   "execution_count": 6,
   "id": "97686fde-2066-4e18-b230-b8ff4cc15ac0",
   "metadata": {},
   "outputs": [
    {
     "name": "stdout",
     "output_type": "stream",
     "text": [
      "C): The change in specific enthalpy between states 1 and 2 is -365.09 kJ/kg\n"
     ]
    }
   ],
   "source": [
    "# Part C\n",
    "h1 = state1.HP[0]\n",
    "h2 = state2.HP[0]\n",
    "print(f\"C): The change in specific enthalpy between states 1 and 2 is {round((h2 - h1)/1000,2)} kJ/kg\") "
   ]
  },
  {
   "cell_type": "code",
   "execution_count": 7,
   "id": "39a2fde7-bedc-4343-b45a-3acd0074b1f9",
   "metadata": {},
   "outputs": [
    {
     "name": "stdout",
     "output_type": "stream",
     "text": [
      "D) : The heat transfer between states 1 and 2 is -365.09 kJ/kg\n"
     ]
    }
   ],
   "source": [
    "# Part D\n",
    "Q = (u2 - u1) + (P1*(v2 - v1))\n",
    "print(f\"D) : The heat transfer between states 1 and 2 is {round(Q/1000,2)} kJ/kg\")"
   ]
  },
  {
   "cell_type": "code",
   "execution_count": 8,
   "id": "b49404a2-5fcb-4917-b194-d3f5adbe3fc9",
   "metadata": {},
   "outputs": [
    {
     "name": "stdout",
     "output_type": "stream",
     "text": [
      "E) : The heat transfer between states 1 and 2 is -365.09 kJ/kg\n"
     ]
    }
   ],
   "source": [
    "# Part E\n",
    "# specific heat transfer from cooling to stops\n",
    "print(f\"E) : The heat transfer between states 1 and 2 is {round((h2 - h1)/1000,2)} kJ/kg\") "
   ]
  },
  {
   "cell_type": "code",
   "execution_count": 9,
   "id": "1bfb0776-a43d-431c-805f-d9b78bb68c21",
   "metadata": {},
   "outputs": [
    {
     "name": "stdout",
     "output_type": "stream",
     "text": [
      "F) : The change in internal energy between states 2 and 3 is -1020.621570467569 kJ/kg\n"
     ]
    }
   ],
   "source": [
    "# Part F\n",
    "state3 = ct.Water()\n",
    "state3.PV = P3, v3\n",
    "u3 = state3.UP[0]\n",
    "deltau32 = u3 - u2\n",
    "print(f\"F) : The change in internal energy between states 2 and 3 is {deltau32/1000} kJ/kg\")"
   ]
  },
  {
   "cell_type": "code",
   "execution_count": 10,
   "id": "2601b58b-a111-49e7-a5ae-da176e048c9b",
   "metadata": {},
   "outputs": [
    {
     "name": "stdout",
     "output_type": "stream",
     "text": [
      "G) : The total specific heat transfer is -1385.71 kJ/kg\n"
     ]
    }
   ],
   "source": [
    "# Part G  (total specific heat transfer)\n",
    "q12 = h2 - h1 \n",
    "q23 = u3 - u2 \n",
    "qtotal = q12 + q23 \n",
    "print(f\"G) : The total specific heat transfer is {round(qtotal/1000, 2)} kJ/kg\")"
   ]
  },
  {
   "cell_type": "code",
   "execution_count": 2,
   "id": "3940ce4b-b9c1-46a1-8d7a-4faf1329238a",
   "metadata": {},
   "outputs": [
    {
     "name": "stdout",
     "output_type": "stream",
     "text": [
      "q12 = 10166.229 kJ\n",
      "q12 = 10166.229 kJ\n"
     ]
    }
   ],
   "source": [
    "#5.3.2 Exercise 4\n",
    "#A piston-cylinder contains 0.005 m3 of liquid water and 0.9 m3 of water vapor at \n",
    "#600 kPa. Heat is transferred at constant presssure until the temperature reaches \n",
    "#200 °C.\n",
    "import cantera as ct\n",
    "import numpy as np\n",
    "Kc = 273.15\n",
    "\n",
    "Vf = 0.005 # m^3\n",
    "Vg = 0.9   # m^3\n",
    "P1 = 600e3 # kPa\n",
    "P2 = P1      \n",
    "T2 = 200 + Kc \n",
    "\n",
    "# Find: \n",
    "# a) Q using enthalpies \n",
    "# we already can define state 2 because we know two independent properties - P,T \n",
    "state2 = ct.Water()\n",
    "state2.TP = T2, P2\n",
    "h2 = state2.HP[0]\n",
    "# now find h1\n",
    "# how do we do this? we need to solve for a third independent property \n",
    "# we have Vg and Vf, so we can solve for quality (which is the ratio of mass of vapor to total mass of mixture)\n",
    "\n",
    "state1_liq = ct.Water()\n",
    "state1_liq.PQ = P1, 0 # 0 percent of the mixture is gas \n",
    "vf = state1_liq.PV[1]\n",
    "state1_gas = ct.Water()\n",
    "state1_gas.PQ = P1, 1 # 100 percent of the mixture is gas \n",
    "vg = state1_gas.PV[1]\n",
    "\n",
    "# now get the mass vapor, mass mixture\n",
    "mf = Vf/vf \n",
    "mg = Vg/vg\n",
    "mtotal = mf + mg\n",
    "x1 = mg/(mg+mf)\n",
    "state1 = ct.Water()\n",
    "state1.PQ = P1,x1 # now we can set the state\n",
    "h1 = state1.HP[0]\n",
    "\n",
    "q12 = h2 - h1\n",
    "q12 = q12*mtotal\n",
    "print(f'q12 = {round(q12/1000,3)} kJ')\n",
    "\n",
    "# b) Q without using enthalpies \n",
    "# Q = W - change in internal energy\n",
    "# first find work\n",
    "\n",
    "#W = PdeltaV\n",
    "# find v1, v2\n",
    "v1 = state1.PV[1]\n",
    "v2 = state2.PV[1]\n",
    "W = P1*(v2-v1)\n",
    "\n",
    "# find u1,u2\n",
    "u1 = state1.UV[0]\n",
    "u2 = state2.UV[0]\n",
    "\n",
    "q12 = W - (u1-u2)\n",
    "q12 = q12*mtotal\n",
    "print(f'q12 = {round(q12/1000,3)} kJ')"
   ]
  },
  {
   "cell_type": "code",
   "execution_count": 3,
   "id": "9851b82f-656b-4c68-9cc9-d411436fd34f",
   "metadata": {},
   "outputs": [
    {
     "name": "stdout",
     "output_type": "stream",
     "text": [
      "Volume of tank 2: 1.769 m^3\n",
      "The final pressure is 222.03 kPa\n"
     ]
    }
   ],
   "source": [
    "#5.3.2 Exercise 5\n",
    "#A 1-m3 tank containing air at 10°C and 350 kPa is connected through a valve to \n",
    "#another tank containing 3 kg of air at 35°C and 150 kPa. Now the valve is opened, \n",
    "#and the entire system is allowed to reach thermal equilibrium with the surroundings,\n",
    "#which are at 20°C. Determine the volume of the second tank and the final \n",
    "#equilibrium pressure of air.\n",
    "\n",
    "V1 = 1 # m3\n",
    "T_t1 = 10 + 273.15 # K\n",
    "P_t1 = 350  # kPa\n",
    "m_air_t2 = 3 # kg\n",
    "T_t2 = 35 + 273.15 # K\n",
    "P_t2 = 150   # kPa\n",
    "T_atm = 20 +273.15 # K\n",
    "\n",
    "# Find:\n",
    "# a) Volume of tank 2 \n",
    "# use ideal gas law PV = mRT\n",
    "R = 0.287 # kJ/kgK, R_bar/M_air, where M_air = 28.97 kg/kmol\n",
    "V2 = m_air_t2*R*T_t2/P_t2\n",
    "print(f'Volume of tank 2: {round(V2,3)} m^3')\n",
    "\n",
    "# b) final equilibrium pressure \n",
    "# again use ideal gas law \n",
    "V_total = V1 + V2\n",
    "# need to find m tank 1\n",
    "m_air_t1 = P_t1*V1/(R*T_t1)\n",
    "m_total = m_air_t1 + m_air_t2\n",
    "# the final temp is T_atm\n",
    "P_final = m_total*R*T_atm/V_total\n",
    "print(f'The final pressure is {round(P_final,2)} kPa')"
   ]
  },
  {
   "cell_type": "code",
   "execution_count": 4,
   "id": "05669dcf-4e90-4cef-a66d-52f1d31bcd92",
   "metadata": {},
   "outputs": [
    {
     "name": "stdout",
     "output_type": "stream",
     "text": [
      "The temperature change is 337.041 K\n"
     ]
    }
   ],
   "source": [
    "#5.3.2 Exercise 6\n",
    "#A mass of 0.1 kg of helium fills a 0.2 m3 rigid vessel at 350 kPa. \n",
    "#The vessel is heated until the pressure is 700 kPa. Calculate the temperature \n",
    "#change of helium as a result of this heating.\n",
    "\n",
    "m = 0.1 # kg \n",
    "V1 = 0.2 # m^3\n",
    "V2 = V1 # rigid vessel\n",
    "P1 = 350 # kPa \n",
    "P2 = 700 # kPa\n",
    "R = 2.0769 # kJ/kgK\n",
    "# find T1, T2\n",
    "T1 = P1*V1/(m*R)\n",
    "T2 = P2*V2/(m*R)\n",
    "deltaT = T2-T1\n",
    "print(f'The temperature change is {round(deltaT,3)} K')"
   ]
  },
  {
   "cell_type": "code",
   "execution_count": 5,
   "id": "53becf8a-8eae-453d-8c7b-65a6da4f8c88",
   "metadata": {},
   "outputs": [
    {
     "name": "stdout",
     "output_type": "stream",
     "text": [
      "Based on ideal gas law, v = 0.031051 kJ/kg\n",
      "Using Cantera, v = 0.027414 kJ/kg\n"
     ]
    }
   ],
   "source": [
    "#5.3.2 Exercise 7\n",
    "#Determine the specific volume of refrigerant-134a vapor at 0.9 MPa and 70°C \n",
    "#based on (a) the ideal-gas equation and (b) using Cantera.\n",
    "\n",
    "import cantera as ct\n",
    "import numpy as np\n",
    "Kc = 273.15\n",
    "\n",
    "# substance is R-134a\n",
    "P = 0.9E3\n",
    "T = 70 + 273.15\n",
    "R = 0.08144 # kJ/kgK\n",
    "\n",
    "# ideal gas equation \n",
    "# PV = mRT so Pv = RT, v = RT/P\n",
    "v = R*T/P\n",
    "print(f'Based on ideal gas law, v = {round(v,6)} kJ/kg')\n",
    "\n",
    "\n",
    "# part b\n",
    "state = ct.Hfc134a()\n",
    "P = 0.9E6\n",
    "state.TP = T,P\n",
    "v = state.PV[1]\n",
    "print(f'Using Cantera, v = {round(v,6)} kJ/kg')"
   ]
  },
  {
   "cell_type": "code",
   "execution_count": 11,
   "id": "33af24a9-c6a1-498b-8218-673e6eb97b05",
   "metadata": {},
   "outputs": [
    {
     "name": "stdout",
     "output_type": "stream",
     "text": [
      "The density of CO2 is approximately 31.763 kg/m^3 at the inlet\n",
      "The vdot of the inlet is 0.062967 m^3/s and exit is 0.057 m^3/s\n",
      "The density of CO2 is approximately 32.458 kg/m^3 at the inlet\n",
      "The vdot of the inlet is 0.061618 m^3/s and exit is 0.055 m^3/s\n"
     ]
    }
   ],
   "source": [
    "#5.3.2 Exercise 8\n",
    "#Carbon dioxide gas enters a pipe at 3 MPa and 500 K at a rate of 2 kg/s. \n",
    "#CO2 is cooled at constant pressure as it flows in the pipe, and the temperature \n",
    "#of the CO2 drops to 450 K at the exit. Determine the volume flow rate and the \n",
    "#density of carbon dioxide at the inlet and the volume flow rate at the exit of the \n",
    "#pipe using (a) the ideal-gas equation and (b) using Cantera.\n",
    "\n",
    "import cantera as ct\n",
    "import numpy as np\n",
    "Kc = 273.15\n",
    "\n",
    "P1 = 3e6 # Pa\n",
    "T1 = 500 # K\n",
    "mdot = 2 # kg/s \n",
    "P2 = P1\n",
    "T2 = 450 # K\n",
    "R = 0.1889 # kJ/kgK\n",
    "\n",
    "# Find: \n",
    "# volume flow rate (Vdot) of entrance and exit, density of CO2 using:\n",
    "\n",
    "# a) ideal gas equation\n",
    "# recall, Pv = RT, v is the reciprocal of density, therefore P/RT = rho\n",
    "rho = P2/1000/(R*T1)\n",
    "print(f'The density of CO2 is approximately {round(rho,3)} kg/m^3 at the inlet') \n",
    "# P*Vdot = mdot*R*T\n",
    "\n",
    "def vdot(mdot,R,T,P):\n",
    "    return (mdot*R*T)/P\n",
    "Vdot_i = vdot(mdot,R,T1,P1/10**3)\n",
    "Vdot_e = vdot(mdot,R,T2,P2/10**3)\n",
    "print(f'The vdot of the inlet is {round(Vdot_i,6)} m^3/s and exit is {round(Vdot_e,3)} m^3/s')\n",
    "\n",
    "# b) using cantera\n",
    "\n",
    "species1,species2=ct.CarbonDioxide(),ct.CarbonDioxide()\n",
    "species1.TP=T1,P1\n",
    "species2.TP=T2,P2\n",
    "# recall, Pv = RT, v is the reciprocal of density, therefore P/RT = rho\n",
    "rho = 1/species1.TV[1]\n",
    "print(f'The density of CO2 is approximately {round(rho,3)} kg/m^3 at the inlet') \n",
    "\n",
    "Vdot_i = species1.TV[1]*mdot\n",
    "Vdot_e = species2.TV[1]*mdot\n",
    "print(f'The vdot of the inlet is {round(Vdot_i,6)} m^3/s and exit is {round(Vdot_e,3)} m^3/s')\n"
   ]
  },
  {
   "cell_type": "code",
   "execution_count": 14,
   "id": "b8139da5-1166-4f98-9426-f77e8928a828",
   "metadata": {},
   "outputs": [
    {
     "name": "stdout",
     "output_type": "stream",
     "text": [
      "The heat transfer required for this process is therefore 92.4 kJ\n"
     ]
    }
   ],
   "source": [
    "#5.3.2 Exercise 9\n",
    "#A rigid 10-L vessel initially contains a mixture of liquid water and vapor at 100°C with 12.3 percent quality. \n",
    "#The mixture is then heated until its temperature is 180°C. Calculate the heat transfer required for this process.\n",
    "\n",
    "import cantera as ct\n",
    "import numpy as np\n",
    "Kc = 273.15\n",
    "\n",
    "# Given: \n",
    "V = 0.01 # m3\n",
    "x1 = .123\n",
    "T1 = 100 + Kc\n",
    "T2 = 180 + Kc\n",
    "\n",
    "# Find: Q \n",
    "# Q = m(u2 - u1)\n",
    "state1 = ct.Water()\n",
    "state1.TQ = T1, x1\n",
    "u1 = state1.UP[0]\n",
    "v1 = state1.TV[1]\n",
    "v2 = v1\n",
    "state2 = ct.Water()\n",
    "state2.TV = T2, v2\n",
    "u2 = state2.UP[0]\n",
    "\n",
    "m = V/v1\n",
    "\n",
    "print(f\"The heat transfer required for this process is therefore {round(m*(u2-u1)/1000,1)} kJ\")"
   ]
  },
  {
   "cell_type": "code",
   "execution_count": 13,
   "id": "d85f5867-60c8-4293-951a-cf95c39f2b9e",
   "metadata": {},
   "outputs": [
    {
     "name": "stdout",
     "output_type": "stream",
     "text": [
      "The final temperature is 133.58 C and the quality is 0.36\n",
      "The heat loss is -3955.2 kJ\n"
     ]
    }
   ],
   "source": [
    "#5.3.2 Exercise 10\n",
    "#Two tanks (Tank A and Tank B) are separated by a partition. Initially Tank A contains 2 kg of steam at 1 MPa and 300°C \n",
    "#while Tank B contains 3 kg of saturated liquid–vapor mixture at 150°C with a vapor mass fraction of 50 percent. \n",
    "#The partition is now removed and the two sides are allowed to mix until mechanical and thermal equilibrium are established. \n",
    "#If the pressure at the final state is 300 kPa, determine (a) the temperature and quality of the steam (if mixture) at the final state and \n",
    "#(b) the amount of heat lost from the tanks.\n",
    "\n",
    "import cantera as ct\n",
    "import numpy as np\n",
    "Kc = 273.15\n",
    "\n",
    "# Given: \n",
    "# Tank A\n",
    "m_a = 2 # kg\n",
    "P_a = 1e6 # Pa\n",
    "T_a = 300 + Kc # K\n",
    "# Tank B\n",
    "m_b = 3 # kg\n",
    "T_b = 150 + Kc # K\n",
    "x_b = 0.5 \n",
    "# state2 \n",
    "P2 = 300e3 # Pa\n",
    "\n",
    "# Find: a) T2, x2 b) Qout\n",
    "mtotal = m_a + m_b\n",
    "tanka = ct.Water()\n",
    "tanka.TP = T_a,P_a\n",
    "tankb = ct.Water()\n",
    "tankb.TQ = T_b, x_b\n",
    "v_a = tanka.PV[1]\n",
    "v_b = tankb.PV[1]\n",
    "u1a = tanka.UV[0]\n",
    "u1b = tankb.UV[0]\n",
    "V = v_a*m_a + v_b*m_b\n",
    "v_total = V/mtotal\n",
    "\n",
    "state_final = ct.Water()\n",
    "state_final.PV = P2,v_total\n",
    "T = state_final.TP[0]\n",
    "x = state_final.TQ[1]\n",
    "u2 = state_final.UV[0]\n",
    "print(f\"The final temperature is {round(T-Kc,2)} C and the quality is {round(x,2)}\")\n",
    "\n",
    "deltaU_a = u2 - u1a\n",
    "\n",
    "deltaU_b = u2 - u1b\n",
    "\n",
    "Qloss = m_a*deltaU_a + m_b*deltaU_b\n",
    "\n",
    "print(f\"The heat loss is {round(Qloss/1000,1)} kJ\")"
   ]
  },
  {
   "cell_type": "code",
   "execution_count": 21,
   "id": "b1a0276c-9816-4497-8436-0bdd2d761b59",
   "metadata": {},
   "outputs": [
    {
     "name": "stdout",
     "output_type": "stream",
     "text": [
      "The pressure using Cantera is 159.08 kPa\n",
      "The heat transfer using Cantera is -688.19 kJ\n",
      "The pressure using ideal gas law is 159.09 kPa\n",
      "The heat transfer using Cantera is -681.63 kJ\n"
     ]
    }
   ],
   "source": [
    "#5.3.2 Exercise 11\n",
    "# A 3 m3 rigid tank contains hydrogen at 250 kPa and 550 K. The gas is now cooled until its temperature drops to 350 K. \n",
    "# Determine (a) the final pressure in the tank with and without using the ideal gas law (i.e., Cantera property evaluation) and\n",
    "# (b) the amount of heat transfer with and without using specific heats (i.e., Cantera property evaluation).\n",
    "\n",
    "\n",
    "import cantera as ct\n",
    "import numpy as np\n",
    "Kc = 273.15\n",
    "\n",
    "# Given: \n",
    "V = 3 # m3\n",
    "P1 = 250e3 # Pa\n",
    "T1 = 550 # K\n",
    "T2 = 350 # K\n",
    "\n",
    "# Find: P2,Q using Cantera \n",
    "state1 = ct.Hydrogen()\n",
    "state2 = ct.Hydrogen()\n",
    "state1.TP = T1, P1\n",
    "v1 = state1.TV[1]\n",
    "v2 = v1\n",
    "state2.TV = T2, v2\n",
    "P2 = state2.TP[1]\n",
    "print(f\"The pressure using Cantera is {round(P2/1000,2)} kPa\")\n",
    "\n",
    "m = V/v2\n",
    "u1 = state1.UP[0]\n",
    "u2 = state2.UP[0]\n",
    "deltaU = u2 - u1 \n",
    "Q = m*deltaU/1000\n",
    "print(f\"The heat transfer using Cantera is {round(Q,2)} kJ\")\n",
    "\n",
    "# Find: P2,Q using ideal gas law and constant specific heats \n",
    "R_bar = 8.314 #kJ/kmol/K\n",
    "M_H2 = 2 # kg/kmol\n",
    "R=R_bar/M_H2\n",
    "v1 = R*T1/(P1/1000)\n",
    "v2 = v1\n",
    "P2 = R*T2/v2\n",
    "print(f\"The pressure using ideal gas law is {round(P2,2)} kPa\")\n",
    "\n",
    "state1 = ct.Hydrogen()\n",
    "state1.TP = T1, P1\n",
    "cv = state1.cv #set cv to be constant at initial temperature\n",
    "m = V/v2\n",
    "deltaU = cv*(T2 - T1) \n",
    "Q = m*deltaU/1000\n",
    "print(f\"The heat transfer using Cantera is {round(Q,2)} kJ\")"
   ]
  },
  {
   "cell_type": "code",
   "execution_count": null,
   "id": "c629bf33-95b1-4dc1-a25d-a05b0e97260a",
   "metadata": {},
   "outputs": [],
   "source": [
    "#5.3.2 Exercise 12\n",
    "# A piston of nitrogen with v = 0.4 undergoes a constant temperature process from T = 500 K to T = 700 K. find the work done in this process and specific volume after compression\n",
    "# The piston is then held in place and heated 30 degrees. Find the pressure after heating.\n",
    "import cantera as ct\n",
    "species1 = ct.Nitrogen()\n",
    "#state 1\n",
    "T1 = 700\n",
    "v1 = 0.4\n",
    "#state 2\n",
    "T2 = 500\n",
    "#state 3\n",
    "delta_T = 20\n",
    "#solve for pressure ar state one\n",
    "species1.TV = T1, v1\n",
    "P1 = species1.TP[1]\n",
    "#solve for work \n",
    "#state 2\n",
    "species2 = ct.Nitrogen()\n",
    "species2.TP = T2, P1\n",
    "v2 = species2.TV[1]\n",
    "W = P1*(v2-v1)\n",
    "print(f'The work done on the system is {round(W/1000,2)*-1} kJ/kg.')\n",
    "print(f'The specific volume after compression is {round(v2,4)} kg/m\\u00b3.')\n",
    "#state 3\n",
    "T3 = T2 + delta_T\n",
    "species3 = ct.Nitrogen()\n",
    "species3.TV = T3, v2\n",
    "P3 = species3.TP[1]\n",
    "print(f'The pressure after heating is {round(P3/1000,2)} kPa.')\n",
    "#heat transfer for constant volume dQ = dU + pdV; dV = 0 -> dQ = dU\n",
    "U1 = species2.UP[0]\n",
    "U2 = species3.UP[0]\n",
    "dQ = U2 - U1\n",
    "print(f'The heat transfer during the heating process is {round(dQ/1000,2)} kJ/kg.')"
   ]
  },
  {
   "cell_type": "code",
   "execution_count": null,
   "id": "e5aa5cf1-3b54-4ca0-9c15-8ac12ae868e0",
   "metadata": {},
   "outputs": [],
   "source": [
    "#5.3.2 Exercise 13\n",
    "\n",
    "# 0.4 kg fills a 20L tank at T = 700 K. Find the heat transfer if the water cools until T is half of its original value at constant pressure.\n",
    "import cantera as ct\n",
    "species1 = ct.Water()\n",
    "#state 1\n",
    "T1 = 800\n",
    "V = 0.020\n",
    "m = 0.4\n",
    "v = V/m\n",
    "species1.TV = T1, v\n",
    "#find P at state 1\n",
    "P1 = species1.TP[1]\n",
    "#state 2\n",
    "species2 = ct.Water()\n",
    "T2 = T1/2\n",
    "species2.TP = T2,P1\n",
    "# use u = q - w -> dq = du + Pdv -> dq = dh to find heat transfer\n",
    "h1 = species1.HP[0]\n",
    "h2 = species2.HP[0]\n",
    "Q = m*(h2-h1)\n",
    "print(f'The heat transfer during the cooling process is {round(Q/1000,2)} kJ/kg.') "
   ]
  },
  {
   "cell_type": "code",
   "execution_count": null,
   "id": "75f0a5e4-9b72-4f93-bf3e-d6c4681e787d",
   "metadata": {},
   "outputs": [],
   "source": [
    "#5.3.2 Exercise 14\n",
    "\n",
    "#The piston is heated at a constant pressure with v = 0.45 m^3/kg\n",
    "#The pressure is equal to the F/A where the force is mg and the area is (pi/4)*d^2\n",
    "#find the change in q by using the equations dq = du + Pdv and h = u + Pdv so constant p -> dq = dh\n",
    "#state 1\n",
    "import cantera as ct\n",
    "species1 = ct.CarbonDioxide()\n",
    "v1 = 0.45\n",
    "m = 10\n",
    "d = 0.1\n",
    "Fg = 9.81*m\n",
    "A = (3.1415/4)*(d**2)\n",
    "#find gauge pressure -> P = F/A\n",
    "P = Fg/A\n",
    "#pressure is gauge plus atmospheric\n",
    "P = P + 101000\n",
    "species1.PV = P, v1\n",
    "#find temperature \n",
    "T1 = species1.TP[0]\n",
    "#state 2\n",
    "species2 = ct.CarbonDioxide()\n",
    "delta_T = 100\n",
    "T2 = T1 + delta_T\n",
    "species2.TP = T2,P1\n",
    "#Find the heat transfer from this process; dq = dh\n",
    "h1 = species1.HP[0]\n",
    "h2 = species2.HP[0]\n",
    "dq = h2 - h1\n",
    "print(f'The heat transfer during this process per kg of carbon dioxide is {round(dq/1000,2)} kJ/kg.')"
   ]
  },
  {
   "cell_type": "code",
   "execution_count": null,
   "id": "270e308f-e3a7-47f8-832b-9a65992ebe7e",
   "metadata": {},
   "outputs": [],
   "source": [
    "#5.3.2 Exercise 15\n",
    "\n",
    "# A 100l tank is filled with water. The water starts at ambient conditions P = 100 kPa and T = 300 K. 300 kJ of heat is transferred to the water\n",
    "#state 1\n",
    "import cantera as ct\n",
    "species1 = ct.Water()\n",
    "P1 = 100000\n",
    "T1 = 300\n",
    "V = .1\n",
    "species1.TP = T1, P1\n",
    "v = species1.TV[1]\n",
    "m = V/v\n",
    "#to find state two dq = du when dV = 0\n",
    "u1 = species1.UP[0]\n",
    "delta_q = 300000/m\n",
    "u2 = u1 + delta_q\n",
    "#state 2\n",
    "species2 = ct.Water()\n",
    "species2.UV = u2, v\n",
    "P2 = species2.TP[1]\n",
    "T2 = species2.TP[0]\n",
    "print(f'The temperature of the water after heating is {round(T2,2)} K.')\n",
    "print(f'The pressure of the water after heating is {round(P2/1000,2)} kPa.')"
   ]
  },
  {
   "cell_type": "code",
   "execution_count": null,
   "id": "795a8bdd-f3b0-4b55-84bb-68c3a7563866",
   "metadata": {},
   "outputs": [],
   "source": [
    "#5.3.2 Exercise 16\n",
    "\n",
    "# V = 50L at ambient temperatures. Heat transfer is 100 kJ. What is the pressure and temp after heating. v1 = v2 -0> dv = 0\n",
    "import cantera as ct\n",
    "#state 1\n",
    "species1 = ct.Water()\n",
    "T1 = 300\n",
    "P1 = 100000\n",
    "V = 0.050\n",
    "species1.TP = T1,P1\n",
    "v = species1.TV[1]\n",
    "m = V/v\n",
    "u1 = species1.UP[0]\n",
    "#state 2\n",
    "species2 = ct.Water()\n",
    "#Q = dU for constant v\n",
    "u2 = u1 + 100000/m\n",
    "species2.UV = u2, v\n",
    "P2 = species2.TP[1]\n",
    "T2 = species2.TP[0]\n",
    "print(f'The pressure in the tank after heating is {round(P2/1000,2)} kPa.')\n",
    "print(f'The temperature in the tank after heating is {round(T2,2)} K.')"
   ]
  }
 ],
 "metadata": {
  "kernelspec": {
   "display_name": "Python 3 (ipykernel)",
   "language": "python",
   "name": "python3"
  },
  "language_info": {
   "codemirror_mode": {
    "name": "ipython",
    "version": 3
   },
   "file_extension": ".py",
   "mimetype": "text/x-python",
   "name": "python",
   "nbconvert_exporter": "python",
   "pygments_lexer": "ipython3",
   "version": "3.12.3"
  }
 },
 "nbformat": 4,
 "nbformat_minor": 5
}
