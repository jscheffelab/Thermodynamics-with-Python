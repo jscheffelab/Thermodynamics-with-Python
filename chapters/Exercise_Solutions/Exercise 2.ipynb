{
 "cells": [
  {
   "cell_type": "markdown",
   "id": "8dc5d671-c54f-4e7f-8a4a-191ecc863225",
   "metadata": {
    "tags": []
   },
   "source": [
    "(Exercise2Solutions)=\n",
    "# Exercise 2 Solutions"
   ]
  },
  {
   "cell_type": "markdown",
   "id": "16bf3044-6dd9-43c2-8904-b7e7143a8a0f",
   "metadata": {},
   "source": [
    "{numref}`Exercise2` {ref}`Exercise2`"
   ]
  },
  {
   "cell_type": "code",
   "execution_count": 2,
   "id": "706ba0e2-e1a3-4920-800c-464a837d23f3",
   "metadata": {},
   "outputs": [
    {
     "name": "stdout",
     "output_type": "stream",
     "text": [
      "Specific volume using Cantera:  0.26 m^3/kg\n",
      "At 220 °C, specific volume using Cantera:  0.27 m^3/kg\n"
     ]
    }
   ],
   "source": [
    "#4.3.5 Exercise 1\n",
    "#Using Cantera, determine the specific volume (𝑣) of water vapor where  𝑝  = 8 bar and  𝑇  = 200  ∘ C. What about  𝑇  = 220  ∘ C?\n",
    "#Using Cantera:\n",
    "import cantera as ct\n",
    "#define state 1 as water \n",
    "species1=ct.Water()\n",
    "#define pressure in Pa\n",
    "P1=800*1000\n",
    "#define temperature in K\n",
    "T1=200+273.15\n",
    "species1.TP=T1,P1\n",
    "print(f\"Specific volume using Cantera:  {round(species1.PV[1],2)} m^3/kg\")\n",
    "T2=220+273.15 #redefine T to be 220 C\n",
    "species1.TP=T2,P1\n",
    "print(f\"At 220 \\N{DEGREE SIGN}C, specific volume using Cantera:  {round(species1.PV[1],2)} m^3/kg\")"
   ]
  },
  {
   "cell_type": "code",
   "execution_count": 4,
   "id": "d39f0a4d-b031-42e1-9484-621276ee25d8",
   "metadata": {},
   "outputs": [
    {
     "name": "stdout",
     "output_type": "stream",
     "text": [
      "\n",
      "  water:\n",
      "\n",
      "       temperature   288.15 K\n",
      "          pressure   1701.6 Pa\n",
      "           density   0.015385 kg/m^3\n",
      "  mean mol. weight   18.016 kg/kmol\n",
      "    vapor fraction   0.83244\n",
      "   phase of matter   liquid-gas-mix\n",
      "\n",
      "                          1 kg             1 kmol     \n",
      "                     ---------------   ---------------\n",
      "          enthalpy       -1.3855e+07       -2.4961e+08  J\n",
      "   internal energy       -1.3966e+07       -2.5161e+08  J\n",
      "           entropy             10868         1.958e+05  J/K\n",
      "    Gibbs function       -1.6987e+07       -3.0603e+08  J\n",
      " heat capacity c_p   inf               inf              J/K\n",
      " heat capacity c_v   nan               nan              J/K\n",
      "\n",
      "None\n",
      "Pressure using Cantera:  1701.64 Pa\n",
      "Phase:  liquid-gas-mix Pa\n",
      "Phase is saturated with a quality of:  0.83\n"
     ]
    }
   ],
   "source": [
    "#4.3.5 Exercise 2\n",
    "# What is the composition (compressed, saturated, superheated) and pressure of H2O with  𝑣  = 65 m3 kg-1 and T = 15  ∘ C? What is the quality, x (if applicable)? Use Cantera to solve.\n",
    "#Using Cantera:\n",
    "import cantera as ct\n",
    "#define state 1 as water \n",
    "species1=ct.Water()\n",
    "#define specific volume in m3/kg\n",
    "v=65 #m3/kg\n",
    "#define temperature in K\n",
    "T=15+273.15\n",
    "species1.TV=T,v\n",
    "print(species1())\n",
    "print(f\"Pressure using Cantera:  {round(species1.PQ[0],2)} Pa\")\n",
    "print(f\"Phase:  {species1.phase_of_matter}\")\n",
    "print(f\"Phase is saturated with a quality of:  {round(species1.PQ[1],2)}\")"
   ]
  },
  {
   "cell_type": "code",
   "execution_count": 7,
   "id": "2669e1e2-0b65-49d2-88cd-f6245e0c8970",
   "metadata": {},
   "outputs": [
    {
     "name": "stdout",
     "output_type": "stream",
     "text": [
      "\n",
      "  water:\n",
      "\n",
      "       temperature   1084.4 K\n",
      "          pressure   5e+05 Pa\n",
      "           density   1 kg/m^3\n",
      "  mean mol. weight   18.016 kg/kmol\n",
      "    vapor fraction   1\n",
      "   phase of matter   supercritical\n",
      "\n",
      "                          1 kg             1 kmol     \n",
      "                     ---------------   ---------------\n",
      "          enthalpy       -1.1787e+07       -2.1236e+08  J\n",
      "   internal energy       -1.2287e+07       -2.2137e+08  J\n",
      "           entropy             12366        2.2278e+05  J/K\n",
      "    Gibbs function       -2.5197e+07       -4.5394e+08  J\n",
      " heat capacity c_p            2351.4             42363  J/K\n",
      " heat capacity c_v            1886.8             33993  J/K\n",
      "\n",
      "None\n",
      "Temperature using Cantera:  1084.4 K\n",
      "Phase:  supercritical\n"
     ]
    }
   ],
   "source": [
    "#4.3.5 Exercise 3\n",
    "# What is the composition (compressed, saturated, superheated) and temperature of H2O with  𝑣  = 1 m3 kg-1 and  𝑝  = 0.5 MPa? What is the quality, x (if applicable)? Use Cantera to solve.\n",
    "#Using Cantera:\n",
    "import cantera as ct\n",
    "#define state 1 as water \n",
    "species1=ct.Water()\n",
    "#define specific volume in m3/kg\n",
    "v=1 #m3/kg\n",
    "#define pressure in Pa\n",
    "P=0.5*1000*1000\n",
    "species1.PV=P,v\n",
    "print(species1())\n",
    "print(f\"Temperature using Cantera:  {round(species1.TQ[0],2)} K\")\n",
    "print(f\"Phase:  {species1.phase_of_matter}\")"
   ]
  },
  {
   "cell_type": "code",
   "execution_count": 8,
   "id": "a83f4067-797e-4595-a86d-27c9040104a7",
   "metadata": {},
   "outputs": [
    {
     "name": "stdout",
     "output_type": "stream",
     "text": [
      "\n",
      "  water:\n",
      "\n",
      "       temperature   423.15 K\n",
      "          pressure   1.9207e+05 Pa\n",
      "           density   1 kg/m^3\n",
      "  mean mol. weight   18.016 kg/kmol\n",
      "    vapor fraction   1\n",
      "   phase of matter   gas\n",
      "\n",
      "                          1 kg             1 kmol     \n",
      "                     ---------------   ---------------\n",
      "          enthalpy       -1.3201e+07       -2.3784e+08  J\n",
      "   internal energy       -1.3393e+07        -2.413e+08  J\n",
      "           entropy             10819        1.9492e+05  J/K\n",
      "    Gibbs function        -1.778e+07       -3.2032e+08  J\n",
      " heat capacity c_p            2054.2             37008  J/K\n",
      " heat capacity c_v            1536.7             27686  J/K\n",
      "\n",
      "None\n",
      "Pressure using Cantera:  192066.2 Pa\n",
      "Phase:  gas\n"
     ]
    }
   ],
   "source": [
    "#4.3.5 Exercise 4\n",
    "# What is the composition (compressed, saturated, superheated) and pressure of H2O with  𝑣  = 1 m3 kg-1 and T = 150  ∘ C? What is the quality, x (if applicable)? Use Cantera to solve.\n",
    "#Using Cantera:\n",
    "import cantera as ct\n",
    "#define state 1 as water \n",
    "species1=ct.Water()\n",
    "#define specific volume in m3/kg\n",
    "v=1 #m3/kg\n",
    "#define temperature in K\n",
    "T=150+273.15\n",
    "species1.TV=T,v\n",
    "print(species1())\n",
    "print(f\"Pressure using Cantera:  {round(species1.PQ[0],2)} Pa\")\n",
    "print(f\"Phase:  {species1.phase_of_matter}\")"
   ]
  },
  {
   "cell_type": "code",
   "execution_count": 9,
   "id": "b8f30a5e-927a-47ae-a28a-bdbf49c27e7e",
   "metadata": {},
   "outputs": [
    {
     "name": "stdout",
     "output_type": "stream",
     "text": [
      "Pressure using Cantera:  70042.36 Pa\n",
      "Volume is 0.052 m^3\n"
     ]
    }
   ],
   "source": [
    "#4.3.5 Exercise 5\n",
    "#A rigid tank contains 50 kg of saturated liquid water at 90  ∘ C. Determine the pressure in the tank and the tank volume.\n",
    "\n",
    "m = 50 # kg\n",
    "T = 90+273.15 # K\n",
    "x=0# saturated liquid\n",
    "#Using Cantera:\n",
    "import cantera as ct\n",
    "#define state 1 as water \n",
    "species1=ct.Water()\n",
    "\n",
    "species1.TQ=T,x\n",
    "#print(species1())\n",
    "print(f\"Pressure using Cantera:  {round(species1.PQ[0],2)} Pa\")\n",
    "V = species1.PV[1]*m #m3\n",
    "print(f\"Volume is {round(V,3)} m^3\")"
   ]
  },
  {
   "cell_type": "code",
   "execution_count": 10,
   "id": "8d29e94f-4be9-4de0-ab55-4323451ec605",
   "metadata": {
    "tags": []
   },
   "outputs": [
    {
     "name": "stdout",
     "output_type": "stream",
     "text": [
      "Specific volume using Ideal Gas Law:  0.6099902619047619 m^3/kg\n",
      "Specific volume using Cantera:  0.6096046212951401 m^3/kg\n"
     ]
    }
   ],
   "source": [
    "#4.3.5 Exercise 6\n",
    "\n",
    "#Compare the specific volume of nitrogen (N2) at 35°C and 150 kPa using the ideal gas law and Cantera. \n",
    "#In Cantera use ct.Nitrogen() rather than ct.Water() as we have been for H2O.\n",
    "\n",
    "#Using the ideal gas law:\n",
    "#define known values\n",
    "#convert temperature to kelvin\n",
    "T=35+273.15\n",
    "P=150\n",
    "M=28\n",
    "def v_ideal(T,P,M):\n",
    "    return 8.314*T/(M*P)\n",
    "print(f\"Specific volume using Ideal Gas Law:  {v_ideal(T,P,M)} m^3/kg\")\n",
    "\n",
    "#Using Cantera:\n",
    "import cantera as ct\n",
    "#define state 1 as nitrogen \n",
    "species1=ct.Nitrogen()\n",
    "#redefine pressure in Pa\n",
    "P=150*1000\n",
    "species1.TP=T,P\n",
    "print(f\"Specific volume using Cantera:  {species1.PV[1]} m^3/kg\")"
   ]
  },
  {
   "cell_type": "code",
   "execution_count": 11,
   "id": "de9e2865",
   "metadata": {},
   "outputs": [
    {
     "name": "stdout",
     "output_type": "stream",
     "text": [
      "Saturated liquid value:   0.0012052903896509952 m^3/kg\n",
      "Saturated vapor value: 0.006414524448873753 m^3/kg\n"
     ]
    }
   ],
   "source": [
    "#4.3.5 Exercise 7\n",
    "#given: CO2, pressure is 5 MPa, near the critical pressure (7.38 MPa), therefore cannot assume ideal gas behavior\n",
    "\n",
    "#2a\n",
    "#determine vf and vg of CO2 at 5MPa\n",
    "species1=ct.CarbonDioxide()\n",
    "#get saturated liquid (vf) values (quality=0)\n",
    "species1.PQ=5000000,0\n",
    "print(f\"Saturated liquid value:   {species1.PV[1]} m^3/kg\")\n",
    "#get saturated vapor (vg) values (quality=1)\n",
    "species1.PQ=5000000,1\n",
    "print(f\"Saturated vapor value: {species1.PV[1]} m^3/kg\")"
   ]
  },
  {
   "cell_type": "code",
   "execution_count": 12,
   "id": "23c3b9e4",
   "metadata": {},
   "outputs": [
    {
     "name": "stdout",
     "output_type": "stream",
     "text": [
      "Saturated temperature of CO2 at 5 MPa:  287.4532698240636 K\n"
     ]
    }
   ],
   "source": [
    "#7b\n",
    "#What is the saturated temperature of CO2 at 5 MPa?\n",
    "#can use either 1 or 0 for the quality- either one will yield the saturation temperature \n",
    "species1.PQ=5000000,1\n",
    "#print the saturation temperature \n",
    "print(f\"Saturated temperature of CO2 at 5 MPa:  {species1.TV[0]} K\")"
   ]
  },
  {
   "cell_type": "code",
   "execution_count": 13,
   "id": "c0f4ee51",
   "metadata": {},
   "outputs": [
    {
     "name": "stdout",
     "output_type": "stream",
     "text": [
      "Saturated vapor value: 0.006414524448873753 m^3/kg\n",
      "Specific volume using ideal gas law: 0.1086312038780575 m^3/kg\n"
     ]
    }
   ],
   "source": [
    "#7c\n",
    "#Compare the specific volume of CO2 at 5 MPa at saturated vapor conditions using Cantera and the ideal gas law \n",
    "#at the same Tsat and Psat.\n",
    "\n",
    "#intuitively we know these should differ because CO2 does not exhibit ideal gas behavior at high pressures\n",
    "\n",
    "#using Cantera \n",
    "#saturated vapor, quality=1\n",
    "species1.PQ=5000000,1\n",
    "print(f\"Saturated vapor value: {species1.PV[1]} m^3/kg\")\n",
    "satvap=species1.PV[1]\n",
    "Tsat=species1.TV[0]\n",
    "#using the Ideal Gas Law \n",
    "#molar mass for CO2\n",
    "M=44\n",
    "#convert pressure to kPa\n",
    "P=500\n",
    "T=Tsat\n",
    "def v_ideal(T,P,M):\n",
    "    return 8.314*T/(M*P)\n",
    "print(f\"Specific volume using ideal gas law: {v_ideal(T,P,M)} m^3/kg\")\n",
    "\n",
    "#as expected, these values differ by several orders of magnitude "
   ]
  },
  {
   "cell_type": "code",
   "execution_count": 14,
   "id": "24b0b98c",
   "metadata": {},
   "outputs": [
    {
     "data": {
      "image/png": "[encoded data removed]",
      "text/plain": [
       "<Figure size 432x288 with 1 Axes>"
      ]
     },
     "metadata": {
      "needs_background": "light"
     },
     "output_type": "display_data"
    }
   ],
   "source": [
    "#7d\n",
    "#Plot specific volume from the saturated vapor point at 5 MPa to 5 times vg at the same pressure. \n",
    "#Use both Cantera and the ideal gas EOS.\n",
    "\n",
    "#import relevant libraries \n",
    "import numpy as np\n",
    "import matplotlib.pyplot as plt\n",
    "#using previously calculated vg\n",
    "satvap=0.006414524448873753\n",
    "P=5000000\n",
    "species1.PQ=P,1\n",
    "#create an array of specific volume values from vg @ 5 MPa to 5 times that \n",
    "sv=np.arange(satvap,5*satvap,.003)\n",
    "#create an empty array in which to hold the temperature values \n",
    "T=[]\n",
    "for i in sv: \n",
    "    species1.PV=[P,i]\n",
    "    T.append(species1.TP[0])\n",
    "P=5000 #convert pressure to kPa\n",
    "M = 44 # molecular weight of CO2\n",
    "def T_ideal(P,sv,M):\n",
    "    return (P*sv)/(8.314/M)\n",
    "Tideal=T_ideal(P,sv,M) \n",
    "\n",
    "plt.plot(sv,T,color='blue')\n",
    "plt.plot(sv,Tideal,color='green')\n",
    "plt.xlabel('$v$ $(\\mathrm{m^3} \\mathrm{kg^{-1}})$',  fontsize=12)\n",
    "plt.ylabel('$T$ $({\\mathrm{K})}$',  fontsize=12)\n",
    "plt.annotate('Cantera', (.008,400), color='Blue', rotation = 0,fontsize=12)\n",
    "plt.annotate('Ideal Gas Law', (.0125,250), color='Green', rotation = 0,fontsize=12)\n",
    "plt.show()"
   ]
  },
  {
   "cell_type": "code",
   "execution_count": 15,
   "id": "96753476-eb6a-4b0c-a41e-cb6fea0b660b",
   "metadata": {},
   "outputs": [
    {
     "name": "stdout",
     "output_type": "stream",
     "text": [
      "The quality is 0.017\n",
      "Pressure:  2792630.52 Pa\n",
      "Density:  420.62 kg/m3\n"
     ]
    }
   ],
   "source": [
    "#4.3.5 Exercise 8\n",
    "#A 2.1 m3 rigid tank contains liquid-vapor mixture of H2O at 230°C. One-half of the volume is in the liquid phase and the rest is in the vapor form. Using Cantera, determine:\n",
    "# a) the pressure of the steam,\n",
    "# b) the quality of the saturated mixture, and\n",
    "# c) the density of the mixture.\n",
    "\n",
    "V = 2.1 # m3\n",
    "T = 230+273.15 # K\n",
    "Vf = 0.5*V\n",
    "Vg = 0.5*V\n",
    "#need to know mass of liquid and gas to determine quality. For this we can use vf and vg, recognizing V=m*v \n",
    "#Using Cantera:\n",
    "import cantera as ct\n",
    "#define state 1 as water \n",
    "species1=ct.Water()\n",
    "\n",
    "species1.TQ=T,0\n",
    "vf=species1.TV[1]\n",
    "\n",
    "species1.TQ=T,1\n",
    "vg=species1.TV[1]\n",
    "\n",
    "mg=Vg/vg\n",
    "mf = Vf/vf\n",
    "x=mg/(mf+mg)\n",
    "print(\"The quality is\", round(x,3))\n",
    "\n",
    "species1.TQ=T,x\n",
    "print(f\"Pressure:  {round(species1.PQ[0],2)} Pa\")\n",
    "print(f\"Density:  {round(species1.DPQ[0],2)} kg/m3\")"
   ]
  },
  {
   "cell_type": "code",
   "execution_count": 16,
   "id": "2507aff8-d70b-49a0-a908-f642335bca31",
   "metadata": {},
   "outputs": [
    {
     "name": "stdout",
     "output_type": "stream",
     "text": [
      "Real specific volume:  0.001041 m3/kg\n",
      "Incompressible assumption specific volume:  0.001044 m3/kg\n"
     ]
    }
   ],
   "source": [
    "#4.3.5 Exercise 9\n",
    "#What is the specific volume of water at 5 MPa and 100°C? What would it be if the incompressible liquid approximation were used? Use Cantera to solve.\n",
    "P = 5*1000*1000 # Pa\n",
    "T = 100+273.15 # K\n",
    "#Using Cantera:\n",
    "import cantera as ct\n",
    "#define state 1 as water \n",
    "species1=ct.Water()\n",
    "\n",
    "species1.TP=T,P\n",
    "\n",
    "print(f\"Real specific volume:  {round(species1.TV[1],6)} m3/kg\")\n",
    "\n",
    "species1.TQ=T,0 #set quality to be zero at temperature of interest - different pressure\n",
    "\n",
    "print(f\"Incompressible assumption specific volume:  {round(species1.TV[1],6)} m3/kg\")"
   ]
  },
  {
   "cell_type": "code",
   "execution_count": 17,
   "id": "6de9adcb-1538-4c58-a9e1-afad82080123",
   "metadata": {
    "tags": []
   },
   "outputs": [
    {
     "name": "stdout",
     "output_type": "stream",
     "text": [
      "Specific volume state 1:  1.316165 m3/kg\n",
      "Specific volume state 2:  0.885809 m3/kg\n",
      "Change in specific volume:  -0.430356 m3/kg\n",
      "Temperature state 3:  372.81 K\n"
     ]
    }
   ],
   "source": [
    "#4.3.5 Exercise 10\n",
    "#Water initially at 200 kPa and 300°C is contained in a piston–cylinder device fitted with stops, State 1.\n",
    "#a) The water is allowed to cool at constant pressure until it exists as a saturated vapor and the piston rests on the stops, State 2. Determine the change in specific volume during the process. Use Cantera to solve.\n",
    "#b) Then the water continues to cool at constant volume until the pressure is 100 kPa, State 3. What is the temperature at State 3? Use Cantera to solve.\n",
    "\n",
    "#part a\n",
    "P1=P2 = 200*1000 # Pa, initial and final pressures in part a\n",
    "T1 = 300+273.15 # K, initial temperature in part a\n",
    "Q2 = 1 # Quality after it reaches the stops in part a\n",
    "#Using Cantera:\n",
    "import cantera as ct\n",
    "#define state 1 as water at conditions of state 1\n",
    "species1=ct.Water()\n",
    "species1.TP=T1,P1\n",
    "\n",
    "#and define state 2\n",
    "species2=ct.Water()\n",
    "species2.PQ=P2,Q2\n",
    "\n",
    "print(f\"Specific volume state 1:  {round(species1.TV[1],6)} m3/kg\")\n",
    "print(f\"Specific volume state 2:  {round(species2.TV[1],6)} m3/kg\")\n",
    "print(f\"Change in specific volume:  {round(species2.TV[1]-species1.TV[1],6)} m3/kg\")\n",
    "\n",
    "#part b\n",
    "P3 = 100*1000 # Pa, final pressure\n",
    "v3=v2=species2.TV[1]\n",
    "\n",
    "#and define state 3\n",
    "species3=ct.Water()\n",
    "species3.PV=P3,v3\n",
    "print(f\"Temperature state 3:  {round(species3.TV[0],2)} K\")\n"
   ]
  },
  {
   "cell_type": "code",
   "execution_count": 2,
   "id": "27193145-5f63-48c0-bc32-36d2fdac2c6e",
   "metadata": {},
   "outputs": [
    {
     "name": "stdout",
     "output_type": "stream",
     "text": [
      "Initial temperature:  668.36 K\n",
      "Final pressure:  7.37 kPa\n"
     ]
    }
   ],
   "source": [
    "#4.3.5 Exercise 11\n",
    "# One kilogram of water fills a 150-L rigid container at an initial pressure of 2 MPa. The container is then cooled to 40°C. \n",
    "# Determine the initial temperature and the final pressure of the water. Use Cantera to solve.\n",
    "\n",
    "m1= 1 #kg, system mass\n",
    "V1=150*.001 # m3, initial volume\n",
    "v1 = v2= V1/m1 #m3/kg, initial an final specific volume because it is rigid and fixed mass\n",
    "P1 = 2*1000*1000 # Pa, initial pressure\n",
    "T2 = 40+273.15 # K, final temperature\n",
    "#Using Cantera:\n",
    "import cantera as ct\n",
    "#define state 1\n",
    "species1=ct.Water()\n",
    "species1.PV=P1,v1\n",
    "\n",
    "print(f\"Initial temperature:  {round(species1.TV[0],2)} K\")\n",
    "\n",
    "#define state 2\n",
    "species2=ct.Water()\n",
    "species2.TV=T2,v2\n",
    "\n",
    "print(f\"Final pressure:  {round(species2.TP[1]/1000,2)} kPa\")"
   ]
  },
  {
   "cell_type": "code",
   "execution_count": 4,
   "id": "047f5432-1ff8-4fc0-b2c4-6f1e183aed5d",
   "metadata": {},
   "outputs": [
    {
     "name": "stdout",
     "output_type": "stream",
     "text": [
      "Initial specific volume:  0.52 m3/kg\n",
      "Final temperature:  425.04 K\n",
      "Final specific volume:  0.19 m3/kg\n",
      "Change in volume:  -0.198 m3/kg\n"
     ]
    }
   ],
   "source": [
    "#4.3.5 Exercise 12\n",
    "\n",
    "#A piston–cylinder device contains 0.6 kg of steam at 300°C and 0.5 MPa. Steam is cooled at constant pressure until one-half of the mass condenses.\n",
    "# a) Determine the final temperature. Use Cantera to solve.\n",
    "# b) Determine the change in volume. Use Cantera to solve\n",
    "\n",
    "m = 0.6 # kg\n",
    "mg = mf = 0.5*m # half of the mass condenses\n",
    "T1 = 300+273.15 # K, initial temperature\n",
    "P1 = P2 = 0.5*1000*1000 # Pa, initial pressure\n",
    "Q2 = mg/m #quality after condensation\n",
    "\n",
    "import cantera as ct\n",
    "#define state 1\n",
    "species1=ct.Water()\n",
    "species1.TP=T1,P1\n",
    "\n",
    "print(f\"Initial specific volume:  {round(species1.TV[1],2)} m3/kg\")\n",
    "\n",
    "#define state 2\n",
    "species2=ct.Water()\n",
    "species2.PQ=P2,Q2\n",
    "\n",
    "print(f\"Final temperature:  {round(species2.TP[0],2)} K\")\n",
    "print(f\"Final specific volume:  {round(species2.TV[1],2)} m3/kg\")\n",
    "print(f\"Change in volume:  {m*round(species2.TV[1]-species1.TV[1],2)} m3/kg\") #make sure to multiply by the mass\n"
   ]
  },
  {
   "cell_type": "code",
   "execution_count": 1,
   "id": "d79f4b00-da76-4c7d-8884-290dc953a7f8",
   "metadata": {},
   "outputs": [
    {
     "name": "stdout",
     "output_type": "stream",
     "text": [
      "The intial pressure is 84.38 kPa, and final temperature is 14.18 C\n"
     ]
    }
   ],
   "source": [
    "#4.3.5 Exercise 13\n",
    "\n",
    "#10 kg of R-134a fill a 1.115-m3 rigid container at an initial temperature of –30°C.\n",
    "#The container is then heated until the pressure is 200 kPa. \n",
    "#Determine the final temperature and the initial pressure.\n",
    "\n",
    "import cantera as ct\n",
    "import numpy as np\n",
    "Kc = 273.15\n",
    "\n",
    "# Given: \n",
    "M = 10 # kg\n",
    "V = 1.115 # m3\n",
    "T1 = -30 + Kc \n",
    "P2 = 200e3\n",
    "\n",
    "# Find: T2, P1\n",
    "\n",
    "v1 = V/M \n",
    "v2 = v1\n",
    "state1 = ct.Hfc134a()\n",
    "state1.TV = T1, v1\n",
    "state2 = ct.Hfc134a()\n",
    "state2.PV = P2, v2\n",
    "\n",
    "# final temperature\n",
    "T2 = state2.TV[0]\n",
    "# initial pressure\n",
    "P1 = state1.PV[0]\n",
    "\n",
    "print(f\"The intial pressure is {round(P1/1000,2)} kPa, and final temperature is {round(T2-Kc,2)} C\")"
   ]
  },
  {
   "cell_type": "code",
   "execution_count": 2,
   "id": "87ccc592-0bc7-46b0-976c-a1f614482be6",
   "metadata": {},
   "outputs": [
    {
     "name": "stdout",
     "output_type": "stream",
     "text": [
      "The final volume is 0.302 m3\n"
     ]
    }
   ],
   "source": [
    "#4.3.5 Exercise 14\n",
    "\n",
    "#1 kg of R-134a fills a 0.14 m3 weighted piston cylinder device at -26.4 °C. \n",
    "#The container is now heated until the temperature is 100 °C. \n",
    "#Determine the final volume of the R-134a.\n",
    "\n",
    "import cantera as ct\n",
    "import numpy as np\n",
    "Kc = 273.15\n",
    "\n",
    "# Given:\n",
    "M = 1 # kg\n",
    "V1 = 0.14 # m3\n",
    "T1 = -26.4 + Kc\n",
    "T2 = 100 + Kc\n",
    "\n",
    "state1 = ct.Hfc134a()\n",
    "v1 = V1/M # get specific volume\n",
    "state1.TV = T1,V1\n",
    "P1 = state1.PV[0]\n",
    "P2 = P1\n",
    "\n",
    "state2 = ct.Hfc134a()\n",
    "state2.TP = T2, P2\n",
    "v2 = state2.TV[1]\n",
    "print(f\"The final volume is {round(v2,3)} m3\")"
   ]
  },
  {
   "cell_type": "code",
   "execution_count": null,
   "id": "83213ea0-90d9-407f-9e22-9219d19f3097",
   "metadata": {},
   "outputs": [],
   "source": []
  }
 ],
 "metadata": {
  "kernelspec": {
   "display_name": "Python 3 (ipykernel)",
   "language": "python",
   "name": "python3"
  },
  "language_info": {
   "codemirror_mode": {
    "name": "ipython",
    "version": 3
   },
   "file_extension": ".py",
   "mimetype": "text/x-python",
   "name": "python",
   "nbconvert_exporter": "python",
   "pygments_lexer": "ipython3",
   "version": "3.9.13"
  }
 },
 "nbformat": 4,
 "nbformat_minor": 5
}
