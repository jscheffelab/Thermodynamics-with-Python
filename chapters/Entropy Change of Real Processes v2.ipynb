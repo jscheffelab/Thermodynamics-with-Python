{
 "cells": [
  {
   "cell_type": "markdown",
   "id": "2ce05f7e-ceed-4c13-9b0a-984126745771",
   "metadata": {},
   "source": [
    "(Entropy)=\n",
    "# Entropy Change of Real and Idealized Processes"
   ]
  },
  {
   "cell_type": "markdown",
   "id": "135eded2-261f-49df-987c-9872a40da2d9",
   "metadata": {},
   "source": [
    "During the last chapter we motivated the idea of entropy from a statistical perspective and showed that for any real process the entropy (and multiplicity) is always maximized. This explains why there is a directionality to processes, such as the transfer of heat from hot to cold. And for any real process, there is always entropy generation and thus the entropy of the universe is increasing. Using our statistical interpreation with an assumption that entropy is an extensive thermodynamic property, we were able to derive a thermodynamic definition of entropy that relates the entropy change to the heat transfer divided by temperature. For a reversible process, these quantities are equal, and for an irreversible, or real, process we must also account for the entropy generation. In this chapter, we will build off of our concept of the thermodynamic definition of entropy to help analyze processes, similar to how we used internal energy and enthalpy to analyze processes in earlier chapters."
   ]
  },
  {
   "cell_type": "markdown",
   "id": "9219f459-5caa-4e30-886e-1cda5a6df709",
   "metadata": {},
   "source": [
    "Recall from last chapter in the thermodynamic discussion of entropy ({numref}`ThermodynamicEntropy` {ref}`ThermodynamicEntropy`), the following equation"
   ]
  },
  {
   "cell_type": "markdown",
   "id": "7c1b1435-d187-4640-9383-31e651490d73",
   "metadata": {},
   "source": [
    "```{math}\n",
    ":label: eq_a\n",
    "dS = \\frac{1}{T} dU + \\frac{p}{T} dV\n",
    "```"
   ]
  },
  {
   "cell_type": "markdown",
   "id": "2e11e6ad-3cf8-49dc-bf29-59ad0e7aa7ff",
   "metadata": {},
   "source": [
    "or in terms of specific properties "
   ]
  },
  {
   "cell_type": "markdown",
   "id": "62606671-5b99-4843-ba83-8838da3ad1b1",
   "metadata": {},
   "source": [
    "```{math}\n",
    ":label: eq_b\n",
    "ds = \\frac{1}{T} du + \\frac{p}{T} dv\n",
    "```"
   ]
  },
  {
   "cell_type": "markdown",
   "id": "ae622dee-ee55-4654-826b-b65e0dff94a3",
   "metadata": {},
   "source": [
    "And upon rearrangement we see that"
   ]
  },
  {
   "cell_type": "markdown",
   "id": "120d2264-44e6-4f3d-b31e-d687f9e18864",
   "metadata": {},
   "source": [
    "```{math}\n",
    ":label: eq_c\n",
    "Tds = du + pdv\n",
    "```"
   ]
  },
  {
   "cell_type": "markdown",
   "id": "fcd2f7af-74c2-4a4a-82b5-b99eab0ee098",
   "metadata": {},
   "source": [
    "Also, recall that "
   ]
  },
  {
   "cell_type": "markdown",
   "id": "cb47ce30-10a7-45d6-96a4-4a04017f8406",
   "metadata": {},
   "source": [
    "```{math}\n",
    ":label: eq_d\n",
    "h = u + pv\n",
    "```"
   ]
  },
  {
   "cell_type": "markdown",
   "id": "f6dd3804-cf22-4834-bcf0-e583af7fb91e",
   "metadata": {},
   "source": [
    "which becomes the following after differentiation"
   ]
  },
  {
   "cell_type": "markdown",
   "id": "5dffbc92-fc04-4c14-841d-b29748df93c3",
   "metadata": {},
   "source": [
    "```{math}\n",
    ":label: eq_e\n",
    "dh = du + pdv + vdp\n",
    "```"
   ]
  },
  {
   "cell_type": "markdown",
   "id": "ea8af419-d64f-4509-bc2d-5c3690d2891f",
   "metadata": {},
   "source": [
    "And substituting {eq}`eq_c` into this we also get"
   ]
  },
  {
   "cell_type": "markdown",
   "id": "ba4e57e2-effd-473e-8871-8e73db9154da",
   "metadata": {},
   "source": [
    "```{math}\n",
    ":label: eq_f\n",
    "Tds = dh - vdp\n",
    "```"
   ]
  },
  {
   "cell_type": "markdown",
   "id": "701d0576-a115-4aff-9ac0-cea4825f520d",
   "metadata": {},
   "source": [
    "And therefore, in addition to {eq}`eq_b` we get another expression for entropy in terms of enthalpy"
   ]
  },
  {
   "cell_type": "markdown",
   "id": "9db9dbaa-475c-4e60-8610-3728494d1102",
   "metadata": {},
   "source": [
    "```{math}\n",
    ":label: eq_g\n",
    "ds = \\frac{1}{T} dh - \\frac{v}{T} dp\n",
    "```"
   ]
  },
  {
   "cell_type": "markdown",
   "id": "d0cf8f06-11bb-45b2-a6c8-c9822d5f6498",
   "metadata": {},
   "source": [
    "## Entropy Change of Ideal Gases"
   ]
  },
  {
   "cell_type": "markdown",
   "id": "f6194073-d170-417e-a368-fc18d333623d",
   "metadata": {},
   "source": [
    "From {eq}`eq_b` and {eq}`eq_g` we have two equations that can be used to determine entropy via integration with the appropriate equation of state. Perhaps the simplest is the ideal gas equation of state, from which we also prior derived relationships for enthalpy and entropy in terms of temperature only. See {numref}`UsingSpecificHeat` {ref}`UsingSpecificHeat`, where we showed that "
   ]
  },
  {
   "cell_type": "markdown",
   "id": "bffe55af-49ef-4a54-abe9-6d06c87932c6",
   "metadata": {},
   "source": [
    "```{math}\n",
    ":label: eq_h\n",
    "du = c_{\\rm v} dT\n",
    "``` "
   ]
  },
  {
   "cell_type": "markdown",
   "id": "91737510-faf9-45a9-b92b-29815cdc6656",
   "metadata": {},
   "source": [
    "and "
   ]
  },
  {
   "cell_type": "markdown",
   "id": "a38245c7-11e1-4069-88e7-2e673a9ba195",
   "metadata": {},
   "source": [
    "```{math}\n",
    ":label: eq_i\n",
    "dh = c_{\\rm p} dT\n",
    "``` "
   ]
  },
  {
   "cell_type": "markdown",
   "id": "3f0eda97-2627-4f87-8fb7-63cb2a5b67a4",
   "metadata": {},
   "source": [
    "Using these two equations and the ideal gas law (i.e., $pv=RT$), we can rearrange {eq}`eq_b` and {eq}`eq_g` to show that "
   ]
  },
  {
   "cell_type": "markdown",
   "id": "f76d4d8e-2f81-4ed5-8bcd-bc6c205b11df",
   "metadata": {},
   "source": [
    "```{math}\n",
    ":label: eq_j\n",
    "ds = \\frac{c_{\\rm v}}{T} dT + \\frac{R}{v} dv\n",
    "```"
   ]
  },
  {
   "cell_type": "markdown",
   "id": "f89804a0-cc84-45d5-b1aa-019fb0435eb9",
   "metadata": {},
   "source": [
    "and"
   ]
  },
  {
   "cell_type": "markdown",
   "id": "5cd16ed4-b82b-48bd-bbf0-a3c0cf548e71",
   "metadata": {},
   "source": [
    "```{math}\n",
    ":label: eq_k\n",
    "ds = \\frac{c_{\\rm p}}{T} dT - \\frac{R}{p} dp\n",
    "```"
   ]
  },
  {
   "cell_type": "markdown",
   "id": "3dd9474a-65c5-4026-ad83-1159147d04a9",
   "metadata": {},
   "source": [
    "which are now expressions that can be readily integrated because $c_{\\rm v}$ and $c_{\\rm p}$ are functions of temperature only for an ideal gas. Therefore"
   ]
  },
  {
   "cell_type": "markdown",
   "id": "1e914cb1-d5a9-4553-94d7-ce2691354eda",
   "metadata": {},
   "source": [
    "```{math}\n",
    ":label: eq_k\n",
    "s_2-s_1 = \\int_{1}^{2} \\frac{c_{\\rm v} }{T} dT + R ln \\frac{v_2}{v_1}\n",
    "```"
   ]
  },
  {
   "cell_type": "markdown",
   "id": "0af80a86-039c-4c8f-8e8b-8a01f63a27aa",
   "metadata": {},
   "source": [
    "```{math}\n",
    ":label: eq_l\n",
    "s_2-s_1 = \\int_{1}^{2} \\frac{c_{\\rm p} }{T} dT - R ln \\frac{p_2}{p_1}\n",
    "```"
   ]
  },
  {
   "cell_type": "markdown",
   "id": "d5f0b2c5-aee8-4cc4-9d69-1dc6041eeb68",
   "metadata": {},
   "source": [
    "If it is assumed that specific heat is independent of temperature or linear with temperature, then {eq}`eq_k` and {eq}`eq_l` become"
   ]
  },
  {
   "cell_type": "markdown",
   "id": "7e424d34-a483-443a-b9eb-3e26b506e9fc",
   "metadata": {
    "tags": []
   },
   "source": [
    "```{math}\n",
    ":label: eq_m\n",
    "s_2-s_1 = c_{\\rm v} ln \\frac{T_2}{T_1} + R ln \\frac{v_2}{v_1}\n",
    "```"
   ]
  },
  {
   "cell_type": "markdown",
   "id": "1faf0b45-18bb-48ca-b537-ed0b472a31b3",
   "metadata": {},
   "source": [
    "```{math}\n",
    ":label: eq_n\n",
    "s_2-s_1 = c_{\\rm p} ln \\frac{T_2}{T_1} - R ln \\frac{p_2}{p_1}\n",
    "```"
   ]
  },
  {
   "cell_type": "markdown",
   "id": "a878f2a7-6ec3-414a-ac43-7715fc8d85c5",
   "metadata": {},
   "source": [
    "where $c_{\\rm v}$ or $c_{\\rm p}$ are the average values if it is assumed they are linear with temerature and not constant. Exact values for the integral are often tabulated in textbooks as a function of temperature in various forms, understanding that "
   ]
  },
  {
   "cell_type": "markdown",
   "id": "a1e5ac92-a83c-4cb6-a2af-255eeeed9693",
   "metadata": {},
   "source": [
    "```{math}\n",
    ":label: eq_o\n",
    "\\int_{T_1}^{T_2} \\frac{c_{\\rm p} }{T} dT = \\int_{0}^{T_2} \\frac{c_{\\rm p} }{T} dT - \\int_{0}^{T_1} \\frac{c_{\\rm p} }{T} dT\n",
    "```"
   ]
  },
  {
   "cell_type": "markdown",
   "id": "0d8180cc-bd69-4671-9ab3-ea634e67a2b6",
   "metadata": {},
   "source": [
    "where the two right hand terms are now functions of a single temperature only and can be readily tabulated. Since we will be using Cantera to solve for property values this is not necessary to discuss in further detail, but in the case where only tables are avalable this is the approach often used. This is necessary because as can be seen from the equations above, entropy is not only a function of temperature, like enthalpy and internal energy and cannot therefore themselves be easily tabulated in a similar manner. Lets see how we can evaluate entropy changes of an ideal gas using specific heats and compare it to the output directly from Cantera."
   ]
  },
  {
   "cell_type": "markdown",
   "id": "8c056d95-1c19-4d3b-84d8-ef70bc015f0e",
   "metadata": {},
   "source": [
    "(EntropyChangeIdealGasExample1)=\n",
    "#### Example - Evaluating Entropy Change of an Ideal Gas With and Without Specific Heats"
   ]
  },
  {
   "cell_type": "markdown",
   "id": "f8385d0f-bc4d-4639-b35c-0165715a3ab2",
   "metadata": {},
   "source": [
    "Consider oxygen that is heated from 300 K to 1500 K. Assume that during this process the pressure is decreased from 200 to 150 kPa and that oxygen behaves ideally. Calculate the change in specific entropy, s, using Cantera and with specific heats."
   ]
  },
  {
   "cell_type": "markdown",
   "id": "7aebc39b-f1e0-424f-a5f9-3cf805820ece",
   "metadata": {},
   "source": [
    "> **Solution** - We know the initial temperature and pressure, so solving with Cantera should be straightforward. Using these two properties we can also solve directly using {eq}`eq_o`. We will obtain the specific heat from Cantera, assuming it is contstant and at 300 K."
   ]
  },
  {
   "cell_type": "code",
   "execution_count": 1,
   "id": "a7060cf5-24fa-43a4-a3b2-d85c1aaf8417",
   "metadata": {},
   "outputs": [
    {
     "name": "stdout",
     "output_type": "stream",
     "text": [
      "1724.55 J/kg using Cantera\n"
     ]
    }
   ],
   "source": [
    "import cantera as ct\n",
    "#State 1\n",
    "T1 = 300 #K\n",
    "P1 = 200*1000 # Pa\n",
    "\n",
    "species1 = ct.Oxygen()# define state 1\n",
    "species1.TP = T1, P1\n",
    "\n",
    "#State 2\n",
    "T2= 1500 #K\n",
    "P2 = 150*1000 # Pa\n",
    "\n",
    "species2 = ct.Oxygen()# define state 2\n",
    "species2.TP = T2, P2\n",
    "\n",
    "#Using Cantera directly\n",
    "\n",
    "ds=species2.SP[0]-species1.SP[0]\n",
    "\n",
    "print(round(ds, 2), \"J/kg using Cantera\")"
   ]
  },
  {
   "cell_type": "code",
   "execution_count": 2,
   "id": "ca9ed387-3eae-4d5a-83ef-260c01d1e60a",
   "metadata": {},
   "outputs": [
    {
     "name": "stdout",
     "output_type": "stream",
     "text": [
      "1480.69 J/kg using specific heat equation\n"
     ]
    }
   ],
   "source": [
    "import numpy as np\n",
    "species1 = ct.Oxygen()\n",
    "cp = species1.cp # cp at 300 K, the default temperature\n",
    "ds = cp*np.log(T2/T1)-8.314/32*np.log(P2/P1)\n",
    "print(round(ds, 2), \"J/kg using specific heat equation\")"
   ]
  },
  {
   "cell_type": "markdown",
   "id": "32b5a9ba-c4b1-4e5c-ae22-3595b6435824",
   "metadata": {
    "tags": []
   },
   "source": [
    "## Isentropic Processes of Ideal Gases"
   ]
  },
  {
   "cell_type": "markdown",
   "id": "0cc6617e-5439-462d-ac30-5d2c227d4712",
   "metadata": {
    "tags": []
   },
   "source": [
    "```{index} isentropic process\n",
    "```"
   ]
  },
  {
   "cell_type": "markdown",
   "id": "efc43e17-c832-4c3f-9da8-1d6bd0b90b79",
   "metadata": {},
   "source": [
    "When the entropy change during a process remains unchanged, this is referred to as an  {ref}`isentropic process <genindex>`. When compression or expansion processes occur reversibly and adiabatically, then they are also by definition isentropic. This can be seen readily from our equation relating entropy to heat transfer discussed in {numref}`ThermodynamicEntropy` {ref}`ThermodynamicEntropy`, which is $dS = \\frac{1}{T} \\delta Q_{\\rm rev}$. As seen, if the process is adiabatic then the magnitude of heat transfer is zero. And, if the process is reversible, then there is no entropy generation, and as a result, an adiabatic and reversible process MUST be isentropic."
   ]
  },
  {
   "cell_type": "markdown",
   "id": "843e1eda-6697-4cf6-bbed-0e296ab37352",
   "metadata": {},
   "source": [
    "In the special case of an isentropic expansion or compression process of an ideal gas, the left hand sides of {eq}`eq_m` and {eq}`eq_n` are zero and become"
   ]
  },
  {
   "cell_type": "markdown",
   "id": "8fabd72e-5a69-4f97-867b-af3c81e3aee2",
   "metadata": {
    "tags": []
   },
   "source": [
    "```{math}\n",
    ":label: eq_p\n",
    "0 = c_{\\rm v} ln \\frac{T_2}{T_1} + R ln \\frac{v_2}{v_1}\n",
    "```"
   ]
  },
  {
   "cell_type": "markdown",
   "id": "75fa8d87-3ea6-4b9a-b0f2-45a7061e8d7a",
   "metadata": {},
   "source": [
    "```{math}\n",
    ":label: eq_q\n",
    "0 = c_{\\rm p} ln \\frac{T_2}{T_1} - R ln \\frac{p_2}{p_1}\n",
    "```"
   ]
  },
  {
   "cell_type": "markdown",
   "id": "bcc53236-9b0f-49f4-b713-6d2e54a38a54",
   "metadata": {},
   "source": [
    "These then can be simplified to the following"
   ]
  },
  {
   "cell_type": "markdown",
   "id": "fdace51d-ade8-4cf0-b0db-df0010410e83",
   "metadata": {
    "tags": []
   },
   "source": [
    "```{math}\n",
    ":label: eq_r\n",
    "\\frac{T_2}{T_1} = (\\frac{v_1}{v_2})^{\\frac{R}{c_{\\rm v}}}\n",
    "```"
   ]
  },
  {
   "cell_type": "markdown",
   "id": "43912df3-8bf1-4560-be0b-0f81fee8c5a7",
   "metadata": {},
   "source": [
    "```{math}\n",
    ":label: eq_s\n",
    "\\frac{T_2}{T_1} = (\\frac{p_2}{p_1})^{\\frac{R}{c_{\\rm p}}}\n",
    "```"
   ]
  },
  {
   "cell_type": "markdown",
   "id": "deee0f5a-8463-4bb7-a9ce-82cbb2818771",
   "metadata": {},
   "source": [
    "Then, recalling the relationship between the gas constant and specific heats which is "
   ]
  },
  {
   "cell_type": "markdown",
   "id": "ee582272-d615-471e-982a-ca3c1cf880f5",
   "metadata": {},
   "source": [
    "```{math}\n",
    ":label: eq_t\n",
    "R = c_{\\rm p} - c_{\\rm v}\n",
    "```"
   ]
  },
  {
   "cell_type": "markdown",
   "id": "d595da91-7b1f-43c8-97e5-4c4ba65ea27a",
   "metadata": {},
   "source": [
    "and the specific heat ratio, $k$, which is defined below,"
   ]
  },
  {
   "cell_type": "markdown",
   "id": "c13b82a1-cdc3-40a2-b4de-7069d617f8ee",
   "metadata": {},
   "source": [
    "```{math}\n",
    ":label: eq_u\n",
    "k = \\frac{c_{\\rm p}}{c_{\\rm v}}\n",
    "```"
   ]
  },
  {
   "cell_type": "markdown",
   "id": "f2d8fd84-a5c6-4998-996d-aef6a35639e5",
   "metadata": {},
   "source": [
    "we can combine with {eq}`eq_r` and {eq}`eq_s` to rearrange them to show that"
   ]
  },
  {
   "cell_type": "markdown",
   "id": "94e5e661-5aee-4fc5-9e14-4753ac2ea0cf",
   "metadata": {
    "tags": []
   },
   "source": [
    "```{math}\n",
    ":label: eq_v\n",
    "\\frac{T_2}{T_1} = (\\frac{v_1}{v_2})^{k-1}\n",
    "```"
   ]
  },
  {
   "cell_type": "markdown",
   "id": "78da31a7-820b-4a5e-a8f7-0d1e6477273f",
   "metadata": {},
   "source": [
    "```{math}\n",
    ":label: eq_w\n",
    "\\frac{T_2}{T_1} = (\\frac{p_2}{p_1})^{\\frac{k}{k-1}}\n",
    "```"
   ]
  },
  {
   "cell_type": "markdown",
   "id": "d9381761-5c01-4f01-9a62-a19e6a85eeec",
   "metadata": {},
   "source": [
    "And finally, combining {eq}`eq_v` and {eq}`eq_w` we can also show that"
   ]
  },
  {
   "cell_type": "markdown",
   "id": "23c3cb16-d434-4abd-9f41-a4aced7fd334",
   "metadata": {},
   "source": [
    "```{math}\n",
    ":label: eq_x\n",
    "\\frac{p_2}{p_1} = (\\frac{v_1}{v_2})^{k}\n",
    "```"
   ]
  },
  {
   "cell_type": "markdown",
   "id": "f5b860ae-2b34-494e-ade8-afaddd89797e",
   "metadata": {},
   "source": [
    "## Reversible Steady State Work"
   ]
  },
  {
   "cell_type": "markdown",
   "id": "81c15386-f061-48fc-b68f-415524cb56b2",
   "metadata": {},
   "source": [
    "```{index} reversible work\n",
    "```"
   ]
  },
  {
   "cell_type": "markdown",
   "id": "a5c260a8-c39a-460d-8695-d6458a73afa1",
   "metadata": {},
   "source": [
    "Interestingly, for steady state open systems such as compressors, the isentropic case does not correspond to the minimum shaft work required. Rather, less work is required heat transfer occurs during compressions. In the case of a compressor, this is because cooling during compression decreases the specific volume relative to an isentropic processes. At first, it may be tempting to think that the minimum work is related to the reversible boundary work equation discussed in {numref}`Reversibility` {ref}`Reversibility`, which says that $W_{\\rm rev} = \\int_{1}^{2} pdV$. However, compressors are steady state devices with one inlet and one exit, and are governed by the first law of thermodynamics for open systems ({numref}`FirstLawOpen` {ref}`FirstLawOpen`). Thus, the open system energy conservation equation reduces to the following."
   ]
  },
  {
   "cell_type": "markdown",
   "id": "dd6cf13a-fd7e-4d71-b1e1-b0d353425d1b",
   "metadata": {},
   "source": [
    "```{math}\n",
    ":label: eq_y \n",
    "0 = \\dot Q_{\\rm rev} - \\dot W_{\\rm rev} + \\dot m(h_{\\rm i}-h_{\\rm e}) + \\dot m(\\frac{{\\rm V_i}^2}{2}-\\frac{{\\rm V_e}^2}{2}) +\\dot m g(z_{\\rm i} -z_{\\rm e})\n",
    "``` "
   ]
  },
  {
   "cell_type": "markdown",
   "id": "a5135899-a5fe-4b88-a9c9-c9549a810936",
   "metadata": {},
   "source": [
    "Dividing by the mass flowrate, the specific form of this equation is"
   ]
  },
  {
   "cell_type": "markdown",
   "id": "113d31d7-1acf-423f-b9ea-52b075eb663f",
   "metadata": {},
   "source": [
    "```{math}\n",
    ":label: eq_z \n",
    "0 = q_{\\rm rev} - w_{\\rm rev} - \\Delta h - \\Delta ke - \\Delta pe\n",
    "``` "
   ]
  },
  {
   "cell_type": "markdown",
   "id": "f352a032-32ad-4022-925f-08d277e14a28",
   "metadata": {},
   "source": [
    "and in differential form can be expressed as "
   ]
  },
  {
   "cell_type": "markdown",
   "id": "5a4fe509-3b1c-4a19-9a33-125e9dead545",
   "metadata": {},
   "source": [
    "```{math}\n",
    ":label: eq_aa \n",
    "\\delta w_{\\rm rev} = \\delta q_{\\rm rev} - dh - dke - dpe\n",
    "``` "
   ]
  },
  {
   "cell_type": "markdown",
   "id": "ea7b5b80-f840-4cc8-b24b-518418aaf698",
   "metadata": {},
   "source": [
    "Recalling that $ds = \\frac{1}{T} \\delta q_{\\rm rev}$, and from the T-ds relation shown above in {eq}`eq_h` that $Tds = dh - vdp$, we can substitute these into {eq}`eq_aa` to show that"
   ]
  },
  {
   "cell_type": "markdown",
   "id": "aa13ce9b-d559-4514-9135-f8558a7a6f47",
   "metadata": {},
   "source": [
    "```{math}\n",
    ":label: eq_bb \n",
    "\\delta w_{\\rm rev} =  - vdp - dke - dpe\n",
    "``` "
   ]
  },
  {
   "cell_type": "markdown",
   "id": "cf70ed4c-6b71-43e3-a410-4df12f5d7527",
   "metadata": {},
   "source": [
    "Upon integration {eq}`eq_bb` becomes"
   ]
  },
  {
   "cell_type": "markdown",
   "id": "2c79f842-4398-4807-837f-02e1ffd02307",
   "metadata": {},
   "source": [
    "```{math}\n",
    ":label: eq_cc \n",
    "w_{\\rm rev} =  - \\int_{1}^{2} vdp - \\Delta ke - \\Delta pe\n",
    "``` "
   ]
  },
  {
   "cell_type": "markdown",
   "id": "6e8407fb-896a-46c3-a9f3-745ad8ba24d2",
   "metadata": {},
   "source": [
    "And finally, neglecting kinetic and potential energy changes"
   ]
  },
  {
   "cell_type": "markdown",
   "id": "8b4e6718-302e-42f3-95fb-468cc04d18e5",
   "metadata": {},
   "source": [
    "```{math}\n",
    ":label: eq_dd \n",
    "w_{\\rm rev} =  - \\int_{1}^{2} vdp\n",
    "``` "
   ]
  },
  {
   "cell_type": "markdown",
   "id": "f924ab7d-018f-4259-bc58-46bddba029c1",
   "metadata": {},
   "source": [
    "Notice that we did not neglect heat transfer when deriving this equation. In the case of reversible compression that is not adiabatic, the heat transfer should occur isothermally if it is to be considered reversible. In the case of an incompressible substance, such as compressed water, the specific volume is a function of temperature only, not pressure, and the above {eq}`eq_dd` simplifies to  "
   ]
  },
  {
   "cell_type": "markdown",
   "id": "78ca469f-8d1f-4c81-a988-50f3885184e1",
   "metadata": {},
   "source": [
    "```{math}\n",
    ":label: eq_ddd \n",
    "w_{\\rm rev} =  - v(p_2-p_1)\n",
    "``` "
   ]
  },
  {
   "cell_type": "markdown",
   "id": "0425a06f-fac9-488a-97cb-0bf630384439",
   "metadata": {},
   "source": [
    "For an ideal gas, isothermal means $pv = const$. Solving for volume and substituting into the above equation we find that."
   ]
  },
  {
   "cell_type": "markdown",
   "id": "530dad5a-0022-4c90-a716-2395b2ff419f",
   "metadata": {},
   "source": [
    "```{math}\n",
    ":label: eq_ee \n",
    "w_{\\rm rev} = -pv ln \\frac{p_2}{p_1}\n",
    "``` "
   ]
  },
  {
   "cell_type": "markdown",
   "id": "25326a66-5dbf-4acb-a711-b193d504fc66",
   "metadata": {},
   "source": [
    "In the case of isentropic compression of an ideal gas, from {eq}`eq_x` we can show that"
   ]
  },
  {
   "cell_type": "markdown",
   "id": "bdf1af61-f621-4406-9b38-d1659f1cc6fe",
   "metadata": {},
   "source": [
    "```{math}\n",
    ":label: eq_ff \n",
    "pv^k = const\n",
    "``` "
   ]
  },
  {
   "cell_type": "markdown",
   "id": "a5757d64-65ad-4ac9-8ed7-923c3d3fadff",
   "metadata": {},
   "source": [
    "Solving for volume and substituting into {eq}`eq_dd` we find that."
   ]
  },
  {
   "cell_type": "markdown",
   "id": "487dccef-2001-4298-b6ca-2f9d809e5469",
   "metadata": {},
   "source": [
    "```{math}\n",
    ":label: eq_gg \n",
    "w_{\\rm rev} = \\frac{p_1v_1-p_2v_2}{1-\\frac{1}{k}}\n",
    "``` "
   ]
  },
  {
   "cell_type": "markdown",
   "id": "19c436b0-aaca-42a5-94aa-fd89ea6e606e",
   "metadata": {},
   "source": [
    "Now, lets imagine we wish to compress N<sub>2</sub> gas from 100 kPa to 10 Mpa. If we begin compressing at 20 $^ \\circ$C and do so isentropically, then we can use {eq}`eq_gg` to solve for the work. The strategy is to set the intial state, determine the initial entropy, and set the final state knowing the entropy remains constant and the final temperature. This will enable determination of the final specific volume. See below:"
   ]
  },
  {
   "cell_type": "code",
   "execution_count": 3,
   "id": "e1763cf0-9d89-4caa-9d9a-a30fefa8f44d",
   "metadata": {},
   "outputs": [
    {
     "name": "stdout",
     "output_type": "stream",
     "text": [
      "The isentropic reversible work is  -811.333 kJ/kg\n"
     ]
    }
   ],
   "source": [
    "import cantera as ct\n",
    "import numpy as np\n",
    "species1,species2=ct.Nitrogen(),ct.Nitrogen()\n",
    "P1,P2 = 100*1000, 10*1000*1000 #Pa\n",
    "T1 = 20 +273.15 #K\n",
    "species1.TP=T1,P1\n",
    "s1=species1.ST[0]\n",
    "s2=s1\n",
    "v1=species1.TV[1]\n",
    "species2.SP=s2,P2\n",
    "v2=species2.TV[1]\n",
    "k=species1.cp/species1.cv #assuming constant specific heats\n",
    "work = (P1*v1-P2*v2)/(1-1/k)\n",
    "print(\"The isentropic reversible work is \", round(work/1000,3), \"kJ/kg\")"
   ]
  },
  {
   "cell_type": "markdown",
   "id": "156a043f-67fe-467d-8b1b-d05632d2066a",
   "metadata": {},
   "source": [
    "If we wish to compare to reversible and isothermal compression work then we should use {eq}`eq_ee`. In this case the intial and final temperatures are the same and thus both states are fully defined and we can use cantera again to determine the initial and final specific volumes, like below: "
   ]
  },
  {
   "cell_type": "code",
   "execution_count": 4,
   "id": "e102b3a8-3a07-42a9-80a3-f6bf7a96a89c",
   "metadata": {},
   "outputs": [
    {
     "name": "stdout",
     "output_type": "stream",
     "text": [
      "The isothermal and reversible work is  -400.574 kJ/kg\n"
     ]
    }
   ],
   "source": [
    "import cantera as ct\n",
    "species1,species2=ct.Nitrogen(),ct.Nitrogen()\n",
    "P1,P2 = 100*1000, 10*1000*1000 #Pa\n",
    "T1 = 20 +273.15 #K\n",
    "T2=T1\n",
    "species1.TP=T1,P1\n",
    "v1=species1.TV[1]\n",
    "species2.TP=T2,P2\n",
    "v2=species2.TV[1]\n",
    "k=species1.cp/species1.cv #assuming constant specific heats\n",
    "work = -(P1*v1)*np.log(P2/P1)\n",
    "print(\"The isothermal and reversible work is \", round(work/1000,3), \"kJ/kg\")"
   ]
  },
  {
   "cell_type": "markdown",
   "id": "eba9366e-899b-4083-91d8-d16345d7f2c0",
   "metadata": {},
   "source": [
    "We can visualize the decrease in compression work associated with isothermal compression by plotting pressure versus specific volume for each of the two cases - i.e., isentropic and isothermal. Lets start by defining the initial temperature and pressure of nitrogen to be 20 $^ \\circ$C and 1 bar. And also, we can define a list of pressures, ranging from 1 bar to 10 bar."
   ]
  },
  {
   "cell_type": "code",
   "execution_count": 5,
   "id": "246d82f5-27c8-482e-a352-66cc654eb5fa",
   "metadata": {},
   "outputs": [],
   "source": [
    "import cantera as ct\n",
    "import numpy as np\n",
    "species1=ct.Nitrogen()\n",
    "P1,T1 = 100*1000, 20 +273.15 #Pa,K\n",
    "species1.TP=T1,P1\n",
    "pressures=np.arange(P1,1*1000*1000,100)"
   ]
  },
  {
   "cell_type": "markdown",
   "id": "ef4a8a09-202e-4827-8f94-443f9c0f0fa6",
   "metadata": {},
   "source": [
    "In the isentropic, or reversible and adiabatic case, the entropy is constant during the entire process. Therefore, we can determine the entropy at the first state and set this entropy with each of our corresponding pressures to determine the specific volume at each state."
   ]
  },
  {
   "cell_type": "code",
   "execution_count": 6,
   "id": "d53b14f2-6c7f-42af-8e86-d447e8123eb3",
   "metadata": {},
   "outputs": [],
   "source": [
    "#isentropic case, or reversible and adiabatic\n",
    "s1=species1.ST[0]\n",
    "v_isentropic=[]\n",
    "for i in pressures:\n",
    "    species1.SP=s1,i\n",
    "    v_isentropic.append(species1.TV[1])"
   ]
  },
  {
   "cell_type": "markdown",
   "id": "c82c35b8-bc71-492a-96fc-33ec9044816c",
   "metadata": {},
   "source": [
    "And for the case of reversible and isothermal compression with cooling, the temperature remains constant throughout and we can set this with each of our corresponding pressures to determine the specific volumes at each state for this process."
   ]
  },
  {
   "cell_type": "code",
   "execution_count": 7,
   "id": "0a23e139-ef93-48d7-96d7-0d35ceeca62c",
   "metadata": {},
   "outputs": [],
   "source": [
    "#isothermal and reversible case\n",
    "v_isothermal=[]\n",
    "for i in pressures:\n",
    "    species1.TP=T1,i\n",
    "    v_isothermal.append(species1.TV[1])"
   ]
  },
  {
   "cell_type": "markdown",
   "id": "59e66fee-e828-4e54-97c2-a7369c4cf61a",
   "metadata": {},
   "source": [
    "Plotting the results we see that isothermal cooling results in compression of the gas at smaller specific volumes, resulting in less work, consistent with {eq}`eq_ee`, or $w_{\\rm rev} =  - \\int_{1}^{2} vdp$."
   ]
  },
  {
   "cell_type": "code",
   "execution_count": 8,
   "id": "11fa898f-73f8-4afc-bbbf-17bf04dd8e74",
   "metadata": {
    "tags": [
     "hide-cell"
    ]
   },
   "outputs": [
    {
     "data": {
      "image/png": "[encoded data removed]",
      "text/plain": [
       "<Figure size 432x288 with 1 Axes>"
      ]
     },
     "metadata": {
      "needs_background": "light"
     },
     "output_type": "display_data"
    }
   ],
   "source": [
    "import matplotlib.pyplot as plt\n",
    "#plt.annotate('n = 0', (0.25,110), color='Blue', fontsize=12)\n",
    "#plt.annotate('n = .5', (0.25,145), color='Orange', fontsize=12)\n",
    "#plt.annotate('n = 1', (0.25,203), color='Green', fontsize=12)\n",
    "plt.annotate('isothermal,', (0.11,400000), color='Orange', fontsize=12)\n",
    "plt.annotate('with cooling', (0.11,330000), color='Orange', fontsize=12)\n",
    "plt.annotate('isentropic', (0.22,800000), color='Blue', fontsize=12)\n",
    "plt.annotate('$pv^\\mathrm{k} = const$', (0.22,730000), color='Blue', fontsize=12)\n",
    "\n",
    "plt.semilogx(v_isentropic,pressures,color='blue')\n",
    "plt.semilogx(v_isothermal,pressures,color='orange')\n",
    "plt.xlabel('$v$ $(\\mathrm{m^3 kg^{-1}})$',  fontsize=12)\n",
    "plt.ylabel('$p$ $({\\mathrm{Pa})}$',  fontsize=12)\n",
    "plt.savefig('Figures/isothermal_compression.png')# used to save the figure if you desire\n",
    "plt.show()  "
   ]
  },
  {
   "cell_type": "markdown",
   "id": "e1b0cddf-6074-4b17-9bbd-c309b4dc65da",
   "metadata": {},
   "source": [
    "```{figure} Figures/isothermal_compression.png\n",
    ":name: isothermal compression fig a\n",
    "\n",
    "Pressure verses volume for reversible processes with different polytropic exponents, $n$. The polytropic exponent dictates the path that is taken and is dependent on the amount of heat transfer during the expansion/compression process. \n",
    "```"
   ]
  },
  {
   "cell_type": "markdown",
   "id": "ccdc2563-3f84-4776-bd5f-49084491edf5",
   "metadata": {},
   "source": [
    "(IsentropicPumpingExample)=\n",
    "#### Example - Isentropic Pumping"
   ]
  },
  {
   "cell_type": "markdown",
   "id": "623fca78-a915-4a43-a556-5e081a52e71b",
   "metadata": {},
   "source": [
    "Calculate the work per kg to pump water isentropically from 100 kPa, 30 °C to 5 MPa. Assume steady state, reversible and adiabatic and that the compressed water is incompressible. Compare the specific work to the reversible and non-adiabatic case. KE and PE can be neglected. Solve using cantera and afterwards attempt to solve using NIST Webook data https://webbook.nist.gov/chemistry/fluid/."
   ]
  },
  {
   "cell_type": "markdown",
   "id": "77fa3046-c819-4099-97e8-1123a70ea342",
   "metadata": {},
   "source": [
    "> **Solution** - We have two different strategies depending on if it is isothermal and reversible or adiabatic and reversible (i.e. isentropic). If isothermal, then we can use {eq}`eq_ddd` and we need only determine the specific volume. If isentropic, then we can calculate the inlet specific entropy (knowing temperature and pressure), and equate to the exit entropy. This will help set state 2s because we also know the exit pressure is 5 MPa."
   ]
  },
  {
   "cell_type": "code",
   "execution_count": 12,
   "id": "7bd0b398-2ac2-4a62-9bef-709a0fb72a13",
   "metadata": {},
   "outputs": [],
   "source": [
    "import cantera as ct\n",
    "#State 1\n",
    "T1 = 30+273.15 #K\n",
    "P1 = 100*1000 # Pa\n",
    "\n",
    "species1 = ct.Water()# define state 1\n",
    "species1.TP = T1, P1\n",
    "s1=species1.ST[0] #J/kg/K\n",
    "h1=species1.HP[0] #J/kg"
   ]
  },
  {
   "cell_type": "code",
   "execution_count": 18,
   "id": "70d40f8e-1967-4244-8b86-e5806ba295dc",
   "metadata": {},
   "outputs": [
    {
     "name": "stdout",
     "output_type": "stream",
     "text": [
      "The reversible and isothermal specific pump work is  -115.62  kJ/kg\n"
     ]
    }
   ],
   "source": [
    "#State 2, if isothermal\n",
    "T2 = T1 # if isentropic\n",
    "P2 =5*1000*1000 # Pa \n",
    "\n",
    "species2 = ct.Water()# define state 2\n",
    "species2.TP = T2, P2\n",
    "v=species2.TV[1] #m^3/kg\n",
    "iso_specific_work = -v*(P2-P1)\n",
    "print(\"The reversible and isothermal specific pump work is \", round(iso_specific_work/1000, 2), \" kJ/kg\")"
   ]
  },
  {
   "cell_type": "code",
   "execution_count": 19,
   "id": "bf506359-0685-48e5-9685-ef3464a8bfdf",
   "metadata": {},
   "outputs": [
    {
     "name": "stdout",
     "output_type": "stream",
     "text": [
      "The isentropic specific pump work is  -161.19  kJ/kg\n"
     ]
    }
   ],
   "source": [
    "#State 2s, if isentropic\n",
    "s2s=s1 # if isentropic\n",
    "P2s =5*1000**1000 # Pa \n",
    "\n",
    "species2s = ct.Water()# define state 2\n",
    "species2s.SP = s2s, P2\n",
    "h2s=species2s.HP[0] #J/kg\n",
    "isen_specific_work = -(h2s-h1)\n",
    "print(\"The isentropic specific pump work is \", round(isen_specific_work/1000, 2), \" kJ/kg\")"
   ]
  },
  {
   "cell_type": "markdown",
   "id": "fb9992fc-c643-4bbd-9746-a9533025495c",
   "metadata": {},
   "source": [
    "## Isentropic Efficiency"
   ]
  },
  {
   "cell_type": "markdown",
   "id": "08eef378-8830-4bc2-8228-e2f45c8dc77b",
   "metadata": {},
   "source": [
    "```{index} isentropic efficiency\n",
    "```"
   ]
  },
  {
   "cell_type": "markdown",
   "id": "a0594976-2781-42c6-982c-4b5fba350c1f",
   "metadata": {},
   "source": [
    "The {ref}`isentropic efficiency <genindex>` is a measure of the work input or output of a real process (i.e., irreversible) relative to the idealized or isentropic process. The comparison is always made for adiabatic systems between the same two pressures and for identical mass flowrates. As it is an efficiency, it is always a value that is constrained to be between 0 and 1. And thus, in the case of a turbine where the real work output will always be less than the reversible work output, the isentropic efficiency ($\\eta_t$) is the ratio of the real work output relative to the isentropic work output, as seen below."
   ]
  },
  {
   "cell_type": "markdown",
   "id": "288062c5-081a-4930-ae86-684e2123c555",
   "metadata": {},
   "source": [
    "```{math}\n",
    ":label: eq_hh \n",
    "\\eta_{\\rm t} = \\frac{\\dot W}{(\\dot W)_{\\rm s}} = \\frac{h_1-h_2}{h_1-h_{2s}}\n",
    "``` "
   ]
  },
  {
   "cell_type": "markdown",
   "id": "faccc6dc-bb95-4d23-8821-19385d2175f0",
   "metadata": {},
   "source": [
    "Here, the subscript s refers to the isentropic state after expansion, state 1 refers to the inlet and state 2 to the exit.  This process can be seen below in {numref}`Figure %s <isentropic efficiency turbine fig b>` on a $T-s$ diagram that uses air as the working fluid between 2 MPa to 500 kPa. Notice that the real expansion is associated with an increase in entropy because of the irreversibilities. "
   ]
  },
  {
   "cell_type": "code",
   "execution_count": 42,
   "id": "8032b022-3987-4426-bff3-c7b6a4dfe988",
   "metadata": {
    "tags": [
     "hide-cell"
    ]
   },
   "outputs": [
    {
     "data": {
      "image/png": "[encoded data removed]",
      "text/plain": [
       "<Figure size 432x288 with 1 Axes>"
      ]
     },
     "metadata": {
      "needs_background": "light"
     },
     "output_type": "display_data"
    }
   ],
   "source": [
    "import cantera as ct\n",
    "import numpy as np\n",
    "from scipy.optimize import fsolve\n",
    "import matplotlib.patches as mpatches\n",
    "species1,species2s,species2=ct.Solution('gri30.yaml'),ct.Solution('gri30.yaml'),ct.Solution('gri30.yaml')\n",
    "species_i,species_e=ct.Solution('gri30.yaml'),ct.Solution('gri30.yaml') # for constant inlet pressures and exit pressures\n",
    "pi=2*1000*1000 #pa, inlet pressure of the turbine\n",
    "pe=500*1000 #pa, exit pressure of the turbine\n",
    "T_list=np.arange(900,1500,10) #Range of temperatures to consider, in K\n",
    "s_i=[] #entropies at high P\n",
    "s_e=[] # entropies at low P\n",
    "for i in T_list:\n",
    "    species_i.TP=i,pi\n",
    "    species_e.TP=i,pe\n",
    "    s_i.append(species_i.SP[0])\n",
    "    s_e.append(species_e.SP[0])\n",
    "    \n",
    "T1 = T_list[-5] #inlet temperature of turbine\n",
    "species1.TP=T1,pi\n",
    "s1=species1.SP[0]\n",
    "s2s=s1\n",
    "species2s.SP=s2s,pe\n",
    "T2s=species2s.TP[0]\n",
    "T_isen=[T1,T2s]\n",
    "s_isen=[s1,s2s]\n",
    "\n",
    "T2=T2s/0.9\n",
    "species2.TP=T2,pe\n",
    "s2=species2.SP[0]\n",
    "T_real=[T1,T2]\n",
    "s_real=[s1,s2]\n",
    "\n",
    "import matplotlib.pyplot as plt\n",
    "fig,ax= plt.subplots(1,1)\n",
    "#plt.annotate('n = 0', (0.25,110), color='Blue', fontsize=12)\n",
    "#plt.annotate('n = .5', (0.25,145), color='Orange', fontsize=12)\n",
    "#plt.annotate('n = 1', (0.25,203), color='Green', fontsize=12)\n",
    "#plt.annotate('isothermal,', (0.11,400000), color='Orange', fontsize=12)\n",
    "#plt.annotate('with cooling', (0.11,330000), color='Orange', fontsize=12)\n",
    "ax.text(74000,1470,'state 1', color='black', fontsize=12)\n",
    "ax.text(78000,1100,'state 2', color='black', fontsize=12)\n",
    "ax.text(76000,950,'state 2s', color='black', fontsize=12)\n",
    "ax.text(72000,1275,'2 MPa', color='gray', fontsize=12)\n",
    "ax.text(80000,1275,'500 kPa', color='gray', fontsize=12)\n",
    "\n",
    "ax.text(73000,1100,'isentropic', color='green', fontsize=12)\n",
    "ax.text(72000,1050,r'$(\\dot W)_{\\rm s}=h_1-h_{2s}$', color='green', fontsize=12)\n",
    "ax.text(76500,1400,'real', color='Blue', fontsize=12)\n",
    "ax.text(76500,1350,r'$(\\dot W)=h_1-h_2$', color='blue', fontsize=12)\n",
    "\n",
    "\n",
    "ax.plot(s_i,T_list,color='gray')\n",
    "ax.plot(s_e,T_list,color='gray')\n",
    "ax.plot(s_isen,T_isen,color='green')\n",
    "ax.plot(s_real,T_real,color='blue',linestyle='dashed')\n",
    "def T(s):\n",
    "    return (T1-T2)/(s1-s2)*s+(T1-((T1-T2)/(s1-s2))*s1)\n",
    "def s(T):\n",
    "    return (T-(T1-((T1-T2)/(s1-s2))*s1))/((T1-T2)/(s1-s2))\n",
    "m=(T1-T2)/(s1-s2)\n",
    "def dS(dT):\n",
    "    return dT/m\n",
    "def magnitude(dT):\n",
    "    return (dT**2+dS(dT)**2)**0.5\n",
    "\n",
    "   \n",
    "length=-100\n",
    "\n",
    "def func(dT):\n",
    "    return length+magnitude(dT)\n",
    "root = fsolve(func, -100)\n",
    "\n",
    "offset_T=150\n",
    "\n",
    "arrow1 = mpatches.FancyArrowPatch((s1, T1-offset_T), (s1, T1-offset_T+length),\n",
    "                                 mutation_scale=20,color='green')\n",
    "arrow2 = mpatches.FancyArrowPatch((s(T1-offset_T), T1-offset_T), (s(T1-offset_T)+4*root[0]/m,T1-offset_T+4*root[0]),\n",
    "                                 mutation_scale=20,color='blue')\n",
    "ax.add_patch(arrow1)\n",
    "ax.add_patch(arrow2)\n",
    "#plt.arrow(s1, T1-offset_T, 0, length, width = 100, head_width=300,head_length=50,color='r')\n",
    "\n",
    "#plt.arrow(s(T1-offset_T), T1-offset_T, root[0]/m,root[0],head_width=300,head_length=500,color='r')\n",
    "\n",
    "\n",
    "ax.set_xlabel('$s$ $(\\mathrm{J kg^{-1} K^{-1}})$',  fontsize=12)\n",
    "ax.set_ylabel('$T$ $({\\mathrm{K})}$',  fontsize=12)\n",
    "plt.savefig('Figures/isentropic_efficiency_turbine.png')# used to save the figure if you desire\n",
    "plt.show()  "
   ]
  },
  {
   "cell_type": "markdown",
   "id": "e7087079-2568-4336-9a57-51fd7a2a7fa4",
   "metadata": {},
   "source": [
    "```{figure} Figures/isentropic_efficiency_turbine.png\n",
    ":name: isentropic efficiency turbine fig b\n",
    "\n",
    "Isentropic expansion of air from 2 MPa to 500 kPa is shown in green. The real and irreversible expansion of air between the same pressures is shown in blue. As seen, the real change in temperature (and therefore change in specific enthalpy) is always less than or equal to the isentropic case.\n",
    "```"
   ]
  },
  {
   "cell_type": "markdown",
   "id": "108a9314-8044-4fe6-b078-c4e2980439d9",
   "metadata": {},
   "source": [
    "In the case of a compressor or pump, the isentropic work is always less than the real work. Therefore, the isentropic efficiency ($\\eta_c$) is the ratio of the isentropic work input relative to the real work input, as seen below."
   ]
  },
  {
   "cell_type": "markdown",
   "id": "1ed1ab5d-0179-4594-b0d3-eeb97f9132b4",
   "metadata": {},
   "source": [
    "```{math}\n",
    ":label: eq_ii \n",
    "\\eta_{\\rm c} = \\frac{(\\dot W)_{\\rm s}}{\\dot W} = \\frac{h_1-h_{2s}}{h_1-h_2}\n",
    "``` "
   ]
  },
  {
   "cell_type": "markdown",
   "id": "d1e7f47a-f7ac-4cd9-a377-83f44c05ed08",
   "metadata": {},
   "source": [
    "Like the turbine, the subscript s refers to the isentropic state after expansion, state 1 refers to the inlet and state 2 to the exit. A comparison of  isentropic and real compression is shown below in {numref}`Figure %s <isentropic efficiency compressor fig c>` on a $T-s$ diagram, again with air as the working fluid, being compressed between 500 kPa and 2 MPa."
   ]
  },
  {
   "cell_type": "code",
   "execution_count": 6,
   "id": "8034b7cc-8b64-453e-8cd5-40886746dc48",
   "metadata": {
    "tags": [
     "hide-cell"
    ]
   },
   "outputs": [
    {
     "data": {
      "image/png": "[encoded data removed]",
      "text/plain": [
       "<Figure size 432x288 with 1 Axes>"
      ]
     },
     "metadata": {
      "needs_background": "light"
     },
     "output_type": "display_data"
    }
   ],
   "source": [
    "import cantera as ct\n",
    "import numpy as np\n",
    "from scipy.optimize import fsolve\n",
    "import matplotlib.patches as mpatches\n",
    "species1,species2s,species2=ct.Solution('gri30.yaml'),ct.Solution('gri30.yaml'),ct.Solution('gri30.yaml')\n",
    "species_i,species_e=ct.Solution('gri30.yaml'),ct.Solution('gri30.yaml') # for constant inlet pressures and exit pressures\n",
    "pe=2*1000*1000 #pa, inlet pressure of the turbine\n",
    "pi=500*1000 #pa, exit pressure of the turbine\n",
    "T_list=np.arange(500,1000,10) #Range of temperatures to consider, in K\n",
    "s_i=[] #entropies at high P\n",
    "s_e=[] # entropies at low P\n",
    "for i in T_list:\n",
    "    species_i.TP=i,pi\n",
    "    species_e.TP=i,pe\n",
    "    s_i.append(species_i.SP[0])\n",
    "    s_e.append(species_e.SP[0])\n",
    "    \n",
    "T1 = T_list[5] #inlet temperature of turbine\n",
    "species1.TP=T1,pi\n",
    "s1=species1.SP[0]\n",
    "s2s=s1\n",
    "species2s.SP=s2s,pe\n",
    "T2s=species2s.TP[0]\n",
    "T_isen=[T1,T2s]\n",
    "s_isen=[s1,s2s]\n",
    "\n",
    "T2=T2s/0.9\n",
    "species2.TP=T2,pe\n",
    "s2=species2.SP[0]\n",
    "T_real=[T1,T2]\n",
    "s_real=[s1,s2]\n",
    "\n",
    "import matplotlib.pyplot as plt\n",
    "fig,ax= plt.subplots(1,1)\n",
    "#plt.annotate('n = 0', (0.25,110), color='Blue', fontsize=12)\n",
    "#plt.annotate('n = .5', (0.25,145), color='Orange', fontsize=12)\n",
    "#plt.annotate('n = 1', (0.25,203), color='Green', fontsize=12)\n",
    "#plt.annotate('isothermal,', (0.11,400000), color='Orange', fontsize=12)\n",
    "#plt.annotate('with cooling', (0.11,330000), color='Orange', fontsize=12)\n",
    "ax.text(67000,520,'state 1', color='black', fontsize=12)\n",
    "ax.text(64700,825,'state 2s', color='black', fontsize=12)\n",
    "ax.text(66500,910,'state 2', color='black', fontsize=12)\n",
    "ax.text(70000,950,'2 MPa', color='gray', fontsize=12)\n",
    "ax.text(70500,650,'500 kPa', color='gray', fontsize=12)\n",
    "\n",
    "ax.text(62500,600,'isentropic', color='green', fontsize=12)\n",
    "ax.text(62500,550,r'$(\\dot W)_{\\rm s}=h_1-h_{2s}$', color='green', fontsize=12)\n",
    "ax.text(68500,800,'real', color='Blue', fontsize=12)\n",
    "ax.text(68500,750,r'$(\\dot W)=h_1-h_2$', color='blue', fontsize=12)\n",
    "\n",
    "\n",
    "ax.plot(s_i,T_list,color='gray')\n",
    "ax.plot(s_e,T_list,color='gray')\n",
    "ax.plot(s_isen,T_isen,color='green')\n",
    "ax.plot(s_real,T_real,color='blue',linestyle='dashed')\n",
    "def T(s):\n",
    "    return (T1-T2)/(s1-s2)*s+(T1-((T1-T2)/(s1-s2))*s1)\n",
    "def s(T):\n",
    "    return (T-(T1-((T1-T2)/(s1-s2))*s1))/((T1-T2)/(s1-s2))\n",
    "m=(T1-T2)/(s1-s2)\n",
    "def dS(dT):\n",
    "    return dT/m\n",
    "def magnitude(dT):\n",
    "    return (dT**2+dS(dT)**2)**0.5\n",
    "\n",
    "   \n",
    "length=100\n",
    "\n",
    "def func(dT):\n",
    "    return length-magnitude(dT)\n",
    "root = fsolve(func, 100)\n",
    "\n",
    "offset_T=-100\n",
    "\n",
    "arrow1 = mpatches.FancyArrowPatch((s1, T1-offset_T), (s1, T1-offset_T+length),\n",
    "                                 mutation_scale=20,color='green')\n",
    "arrow2 = mpatches.FancyArrowPatch((s(T1-offset_T), T1-offset_T), (s(T1-offset_T)+4*root[0]/m,T1-offset_T+4*root[0]),\n",
    "                                 mutation_scale=20,color='blue')\n",
    "ax.add_patch(arrow1)\n",
    "ax.add_patch(arrow2)\n",
    "#plt.arrow(s1, T1-offset_T, 0, length, width = 100, head_width=300,head_length=50,color='r')\n",
    "\n",
    "#plt.arrow(s(T1-offset_T), T1-offset_T, root[0]/m,root[0],head_width=300,head_length=500,color='r')\n",
    "\n",
    "\n",
    "ax.set_xlabel('$s$ $(\\mathrm{J kg^{-1} K^{-1}})$',  fontsize=12)\n",
    "ax.set_ylabel('$T$ $({\\mathrm{K})}$',  fontsize=12)\n",
    "plt.savefig('Figures/isentropic_efficiency_compressor.png')# used to save the figure if you desire\n",
    "plt.show()  "
   ]
  },
  {
   "cell_type": "markdown",
   "id": "69c9ca24-baba-4740-92dc-f871015f3244",
   "metadata": {},
   "source": [
    "```{figure} Figures/isentropic_efficiency_compressor.png\n",
    ":name: isentropic efficiency compressor fig c\n",
    "\n",
    "Isentropic compression of air from 500 kPa to 2 MPa is shown in green. The real and irreversible compresion of air between the same pressures is shown in blue. As seen, the real change in temperature (and therefore change in specific enthalpy) is always greater than or equal to the isentropic case.\n",
    "```"
   ]
  },
  {
   "cell_type": "markdown",
   "id": "d88c3405-5bd6-4986-9445-54aa44f4d820",
   "metadata": {},
   "source": [
    "(IsentropicEfficiencyExample1)=\n",
    "### Example - Isentropic Efficiency"
   ]
  },
  {
   "cell_type": "markdown",
   "id": "52bc5311-d56d-4a64-a202-038144596cab",
   "metadata": {},
   "source": [
    "Consider an adiabatic steam turbine that is NOT reversible. Steam enters at 3 MPa and 400 °C and exits at 50 kPa and 100 °C. Determine the isentropic efficiency, $\\eta_{\\rm T}$, and the mass flowrate. The power output from the steam turbine is 2 MW."
   ]
  },
  {
   "cell_type": "markdown",
   "id": "ab668f17-4cb5-4e6e-b83c-865af03c8dbc",
   "metadata": {},
   "source": [
    "> **Solution** - We know the initial temperature and pressure, and the exit pressure. To determine state 2s we can use this pressure and the entropy at state 1. To determine state 2 we know the exit pressure and real temperature. Thus, each state can be defined and therefore the enthalpies at each state. Knowing the enthalpies we can solve for the isentropic turbine efficiency using {eq}`eq_hh`. To determine the mass flowrate we will draw a control volume around the turbine and use the open system energy conservation equation which reduces to $\\dot W_{\\rm net} = \\dot m(h_{\\rm 1}-h_{\\rm 2})$."
   ]
  },
  {
   "cell_type": "code",
   "execution_count": 12,
   "id": "7ee40ccb-ff56-4b23-a2fc-7cd4a7ab576c",
   "metadata": {},
   "outputs": [],
   "source": [
    "import cantera as ct\n",
    "#State 1\n",
    "T1 = 400+273.15 #K\n",
    "P1 = 3*1000*1000 # Pa\n",
    "\n",
    "species1 = ct.Water()# define state 1\n",
    "species1.TP = T1, P1\n",
    "s1=species1.ST[0] #J/kg/K\n",
    "h1=species1.HP[0] #J/kg\n",
    "\n",
    "#State 2\n",
    "T2= 100+273.15 #K\n",
    "P2 = 50*1000 # Pa\n",
    "\n",
    "species2 = ct.Water()# define state 2\n",
    "species2.TP = T2, P2\n",
    "h2=species2.HP[0] #J/kg\n",
    "\n",
    "#State 2s\n",
    "s2s=s1 # isentropic\n",
    "P2 = 50*1000 # Pa # same as state 2\n",
    "\n",
    "species2s = ct.Water()# define state 2\n",
    "species2s.SP = s2s, P2\n",
    "h2s=species2s.HP[0] #J/kg"
   ]
  },
  {
   "cell_type": "code",
   "execution_count": 13,
   "id": "9b1cc526-1c03-4eb1-9e8d-0c091c2cbfb4",
   "metadata": {},
   "outputs": [
    {
     "name": "stdout",
     "output_type": "stream",
     "text": [
      "The isentropic efficiency is  0.67\n"
     ]
    }
   ],
   "source": [
    "# part 1\n",
    "\n",
    "eta_T=(h1-h2)/(h1-h2s) #definition of isentropic efficiency for a turbine\n",
    "print(\"The isentropic efficiency is \", round(eta_T, 2))"
   ]
  },
  {
   "cell_type": "code",
   "execution_count": 14,
   "id": "69b9ca86-358b-42ba-af60-26e10acb8075",
   "metadata": {},
   "outputs": [
    {
     "name": "stdout",
     "output_type": "stream",
     "text": [
      "The mass flowrate is  3.65  kg/s\n"
     ]
    }
   ],
   "source": [
    "# part 2\n",
    "\n",
    "power = 2*1000*1000 # W, power output of the real turbine\n",
    "m_dot=power/(h1-h2) #open system energy conservation equation for an adiabatic turbine, ignoring changes in kinetic and potential energies\n",
    "print(\"The mass flowrate is \", round(m_dot, 2), \" kg/s\")"
   ]
  },
  {
   "cell_type": "markdown",
   "id": "335356ad-ac54-4826-adda-f6f62abd50ed",
   "metadata": {},
   "source": [
    "(IsentropicEfficiencyExample2)=\n",
    "### Example - Isentropic Efficiency Iterative Solution Approach"
   ]
  },
  {
   "cell_type": "markdown",
   "id": "231fa65e-7039-4e3c-8642-887f26613e75",
   "metadata": {},
   "source": [
    "Steam enters a vapor turbine with isentropic efficiency of 90%. If it enters at 2 MPa, 300 °C, and leaves as a saturated mixture with quality equal to 0.9, what is the exit pressure? "
   ]
  },
  {
   "cell_type": "markdown",
   "id": "f6d4d8f8-a524-4a81-9146-afa2fde5b3cb",
   "metadata": {},
   "source": [
    "> **Solution** - This problem requires more careful analysis compared to the prior example {numref}`IsentropicEfficiencyExample1` {ref}`IsentropicEfficiencyExample1`. This is because we now are asked to solve for the exit pressure. Recall that in the isentropic efficiency equation ({eq}`eq_hh`), enthalpies at state 2 and 2s are required to solve for efficiency. And if we know the isentropic efficiency and one of these states then we can solve for the enthalpy of the other. In this problem, we know the efficiency, but both state 2 and state 2s depend on the same pressure and they cannot therefore be solved independently. Therefore, we will have to \"guess\" an exit pressure, calulate the enthalpy at state 2s, use this to solve for the enthalpy at state 2 with {eq}`eq_hh`, and then knowing enthalpy and pressure at state 2, we can calculate the quality and compare to the known quality. Alternatively we can set state 2 and 2s using a guessed pressure, s2s and the known x2, to determine the enthalpies at state 2 and 2s to calculate the isentropic efficiency and compare to the known efficiency of 90%. If incorrect, then we will have to try again until we converge on the solution. This is called an iterative solution approach (or guess and check approach) because we can not solve for the solution analytically. Lets see what this looks like when we use the first approach of checking to see if the quality is the same as the known quality of 0.9. Then we will follow up with a graphical and then numerical strategy to help us solve for the exact pressure rather than iterating ourselves."
   ]
  },
  {
   "cell_type": "code",
   "execution_count": 46,
   "id": "2ddfc770-4a1c-467e-9e52-050862cd639f",
   "metadata": {},
   "outputs": [],
   "source": [
    "import cantera as ct\n",
    "state1,state2s,state2=ct.Water(),ct.Water(),ct.Water()\n",
    "\n",
    "eta_T = 0.9\n",
    "T1,P1 = 300+273.15,2*1000*1000 #K,Pa\n",
    "x2=0.9\n",
    "state1.TP=T1,P1\n",
    "s1=state1.ST[0] #J/kg/K\n",
    "h1=state1.HP[0] #J/kg\n",
    "s2s=s1"
   ]
  },
  {
   "cell_type": "code",
   "execution_count": 47,
   "id": "7b69827b-6bce-4b38-bf36-1869ac670fdf",
   "metadata": {},
   "outputs": [
    {
     "data": {
      "text/plain": [
       "0.902"
      ]
     },
     "execution_count": 47,
     "metadata": {},
     "output_type": "execute_result"
    }
   ],
   "source": [
    "pguess = 50*1000 #Pa # try inputting different values, e.g. 100 kPa, 20 kPa and 50 kPa\n",
    "state2s.SP=s2s,pguess\n",
    "h2s=state2s.HP[0]\n",
    "h2=h1-eta_T*(h1-h2s) #solve for h2\n",
    "state2.HP=h2,pguess\n",
    "round(state2.PQ[1],3) # determine the quality at state 2 using the guessed pressure. As seen, when the guess is 50 kPa the quality approaches the known quality of 0.9"
   ]
  },
  {
   "cell_type": "markdown",
   "id": "f52f6290-2f64-4d61-bb44-311e0a3863ed",
   "metadata": {},
   "source": [
    "> **Solution - graphical approach** - Below is a graphical strategy to help solve for the exact pressure without having to iterate iterating ourselves."
   ]
  },
  {
   "cell_type": "code",
   "execution_count": 49,
   "id": "f6620ad9-cfec-48c1-84b8-4a0e4d788230",
   "metadata": {},
   "outputs": [],
   "source": [
    "import cantera as ct\n",
    "pguess=np.arange(1,100,1) #kPa, list pressure guesses\n",
    "T1,P1 = 300+273.15,2*1000*1000 #K,Pa\n",
    "quality=[] # set empty array of qualities - we will solve for qualities at each pguess and compare to the known quality of 0.9\n",
    "for i in pguess: #use a for loop to iterate\n",
    "    species1.TP=T1,P1\n",
    "    s1=species1.SP[0]\n",
    "    h1=species1.HP[0]\n",
    "    s2s=s1\n",
    "    species2s.SP=s2s,i*1000 # multiply by 1000 to ensure pressure in untis Pa\n",
    "    h2s=species2s.HP[0]\n",
    "    h2=h1-0.9*(h1-h2s)\n",
    "    species2.HP=h2,i*1000\n",
    "    quality.append(species2.PQ[1]) #calulate quality at pguess and append to list of qualities"
   ]
  },
  {
   "cell_type": "code",
   "execution_count": 51,
   "id": "de828cd3-f725-478c-9e00-3177bf72b2c0",
   "metadata": {},
   "outputs": [
    {
     "data": {
      "image/png": "[encoded data removed]",
      "text/plain": [
       "<Figure size 432x288 with 1 Axes>"
      ]
     },
     "metadata": {
      "needs_background": "light"
     },
     "output_type": "display_data"
    }
   ],
   "source": [
    "import matplotlib.pyplot as plt\n",
    "#plt.plot(quality,pguess)\n",
    "fig,ax= plt.subplots(1,1)\n",
    "\n",
    "ax.text(0.9,49,'o', color='Blue', fontsize=12)\n",
    "\n",
    "\n",
    "\n",
    "ax.plot(quality,pguess,color='gray')\n",
    "\n",
    "ax.set_xlabel('quality ($x$)',  fontsize=12)\n",
    "ax.set_ylabel('pressure $({\\mathrm{kPa})}$',  fontsize=12)\n",
    "\n",
    "plt.show()"
   ]
  },
  {
   "cell_type": "markdown",
   "id": "2a08c8ab-ffec-47fb-8cfa-04621216bc40",
   "metadata": {},
   "source": [
    "> **Solution - numerical approach** - Below is a numerical strategy that uses the fsolve function in python to help solve for the exact pressure without having to iterate iterating ourselves. Note, we could also use a minimize function."
   ]
  },
  {
   "cell_type": "code",
   "execution_count": 55,
   "id": "0dec7015-d600-4c4d-bbcc-69badc857c60",
   "metadata": {},
   "outputs": [
    {
     "name": "stdout",
     "output_type": "stream",
     "text": [
      "The exact pressure, determined using the fsolve function is 47.43 kPa\n"
     ]
    }
   ],
   "source": [
    "import cantera as ct\n",
    "import numpy as np\n",
    "from scipy.optimize import fsolve\n",
    "\n",
    "state1,state2s,state2=ct.Water(),ct.Water(),ct.Water()\n",
    "\n",
    "eta_T = 0.9\n",
    "T1,P1 = 300+273.15,2*1000*1000 #K,Pa\n",
    "x2=0.9\n",
    "state1.TP=T1,P1\n",
    "s1=state1.ST[0] #J/kg/K\n",
    "h1=state1.HP[0] #J/kg\n",
    "s2s=s1\n",
    "\n",
    "def quality(p2):\n",
    "    state2s.SP=s2s,p2\n",
    "    h2s=state2s.HP[0]\n",
    "    h2=h1-eta_T*(h1-h2s) #solve for h2\n",
    "    state2.HP=h2,p2\n",
    "    return state2.PQ[1]\n",
    "\n",
    "def func(p2):\n",
    "    return x2-quality(p2)\n",
    "root = fsolve(func, 80*1000) # the initial guess for pressure is 80 kPa\n",
    "print(\"The exact pressure, determined using the fsolve function is\", round(root[0]/1000, 2), \"kPa\")"
   ]
  },
  {
   "cell_type": "code",
   "execution_count": null,
   "id": "3ba9a5ef-b1b6-437d-be15-9e19f264a33f",
   "metadata": {},
   "outputs": [],
   "source": []
  }
 ],
 "metadata": {
  "kernelspec": {
   "display_name": "Python 3 (ipykernel)",
   "language": "python",
   "name": "python3"
  },
  "language_info": {
   "codemirror_mode": {
    "name": "ipython",
    "version": 3
   },
   "file_extension": ".py",
   "mimetype": "text/x-python",
   "name": "python",
   "nbconvert_exporter": "python",
   "pygments_lexer": "ipython3",
   "version": "3.9.13"
  }
 },
 "nbformat": 4,
 "nbformat_minor": 5
}
