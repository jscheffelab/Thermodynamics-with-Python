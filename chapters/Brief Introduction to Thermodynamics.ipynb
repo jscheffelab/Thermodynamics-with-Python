{
 "cells": [
  {
   "cell_type": "markdown",
   "id": "fce5fbc3-01f3-4360-825f-c38547d7c7cc",
   "metadata": {
    "tags": []
   },
   "source": [
    "# Brief Introduction to Thermodynamics: Systems , Processes, States and Properties"
   ]
  },
  {
   "cell_type": "markdown",
   "id": "b7f83ecc-2b46-4d6d-a54b-c32b131dd6c0",
   "metadata": {},
   "source": [
    "(ThermodynamicSystems)=\n",
    "## Thermodynamic Systems"
   ]
  },
  {
   "cell_type": "markdown",
   "id": "1a3b6e36-aab3-45e1-b5fe-2b7ab838c528",
   "metadata": {},
   "source": [
    "```{index} process, system, state, surroundings, boundary, properties, temperature, mass, volume, pressure, viscosity, heat capacity\n",
    "```"
   ]
  },
  {
   "cell_type": "markdown",
   "id": "f50c99e7-3d28-488f-a045-d3ab94ab3c2f",
   "metadata": {},
   "source": [
    "Thermodynamics is a broad field of study that is concerned with {ref}`systems <genindex>` undergoing {ref}`processes <genindex>` from one {ref}`state <genindex>` to another. A system is very generally defined as anything we want to study that contains a quantity of matter, for example a gas turbine, chemical reactor, boiler, photovoltaic panel, ourselves, a house, commercial building or even our planet earth. Everything external to the system is considered the {ref}`surroundings <genindex>`. The system is distinguished from its surroundings by its {ref}`boundary <genindex>`. A system is characterized by its {ref}`properties <genindex>`, where properties are macroscopically averaged physical characteristics such as {ref}`temperature <genindex>` ($T$), {ref}`mass <genindex>` ($m$), {ref}`volume <genindex>` ($V$) and {ref}`pressure <genindex>` ($p$), or perhaps less familiar {ref}`viscosity <genindex>` ($\\mu$), {ref}`thermal conductivity <genindex>` ($k$), and {ref}`heat capacity <genindex>` ($c_{\\rm p}$ or $c_{\\rm v}$). In the classical view of thermodynamics,  we are concerned only with systems large enough such that properties are measureable. Thus, the classical, or macroscopic, view of thermodynamics is not concerned events occuring at the molecular level. Events occuring at the molecular level, when averaged over a large number of molecules, describes the macroscopic behavior and this is typically modeled through statistical means since the number of molecules required to describe macroscopic behavior is very large and computaitonally intensive. "
   ]
  },
  {
   "cell_type": "markdown",
   "id": "1fb34a49-cc8b-40c7-8915-41ed60c0ebf0",
   "metadata": {},
   "source": [
    "```{index} process, path, path function, state function, heat, work, mechanical work\n",
    "```"
   ]
  },
  {
   "cell_type": "markdown",
   "id": "fa97f056-5bc4-42a7-9d38-7b63712567a7",
   "metadata": {},
   "source": [
    "When the properties of a system change, its state changes and the system is said to undergo a {ref}`process <genindex>`. The {ref}`path <genindex>` that the process takes, for example the pressure dependency as volume changes, are important when evaluating {ref}`heat <genindex>` ($Q$) or {ref}`work <genindex>` ($W$) interactions, as their magnitude depends on the path that was taken to go from one state to another. Therefore, heat and work are referred to as {ref}`path functions <genindex>`. For example, we will show in later chapters that {ref}`mechanical work <genindex>` ($W_{\\rm mech}$) = $\\int pdV$, and thus evaluation of $W_{\\rm mech}$ depends on the functional dependence, or path of $p$ on $V$ (i.e., $p = f(V)$). "
   ]
  },
  {
   "cell_type": "markdown",
   "id": "0fd41642-0f10-462f-b26a-27b7b83e7a42",
   "metadata": {},
   "source": [
    "{ref}`State functions <genindex>` on the other hand, such as volume, do not depend on the path but only the initial and final states. That is, $\\Delta V = \\int dV$. As such, path functions in differential form are inexact differentials and state functions are exact differentials. We distinguish between inexact and exact differentials with the symbols $\\delta$ and $d$, respectively, for example $\\delta W_{\\rm mech}$ and $d V$. "
   ]
  },
  {
   "cell_type": "markdown",
   "id": "9c7b761a-a66f-4153-8baa-5e1b7e31344a",
   "metadata": {},
   "source": [
    "Consider {numref}`Figure %s <intro fig a>` below that shows $p$ verses $V$ for two hypotetical processes. The orange curve represents a path going from $V_1=1$ at State 1 to $V_2=3$ at State 2, where $p=2V^2$, and the blue curve represents a path going from $V_1=1$ at State 1 to $V_2=3$ at State 2, where $p=2V$. $\\Delta V$ for both processes is equal to 2 and is independent of the path. $W_{\\rm mech}$ however, which equals $\\int pdV$, is represented by the area under its curve, or the path, as indicated by the light shaded orange area in the case of the first process. A differential amount of mechanical work, $\\delta W_{\\rm mech}$, is indicated by the hashed orange area."
   ]
  },
  {
   "cell_type": "code",
   "execution_count": 13,
   "id": "8a8c49fd-876e-40fc-94ff-638c34a933d4",
   "metadata": {
    "tags": [
     "hide-cell"
    ]
   },
   "outputs": [
    {
     "data": {
      "image/png": "[encoded data removed]",
      "text/plain": [
       "<Figure size 432x288 with 1 Axes>"
      ]
     },
     "metadata": {
      "needs_background": "light"
     },
     "output_type": "display_data"
    }
   ],
   "source": [
    "import numpy as np\n",
    "import matplotlib.patches as mpatches\n",
    "import matplotlib.pyplot as plt\n",
    "import warnings\n",
    "warnings.filterwarnings('ignore')\n",
    "warnings.simplefilter('ignore')\n",
    "x_tail = 2\n",
    "y_tail = 2*2**2\n",
    "y_tail2 = 2*2\n",
    "x_head = 2.1\n",
    "x_head2 = 2.12\n",
    "y_head = 2*2.1**2\n",
    "y_head2 = 2*2.12\n",
    "#dx = x_head - x_tail\n",
    "#dy = y_head - y_tail\n",
    "\n",
    "fig,ax= plt.subplots(1,1)\n",
    "vol=np.arange(0.1,3.1,0.01)\n",
    "ax.plot(vol,2*vol,color='blue')\n",
    "ax.plot(vol,2*vol**2,color='orange')\n",
    "ax.scatter(vol[0],2*vol[0]**2,color='blue')\n",
    "ax.scatter(vol[-1],2*vol[-1]**2,color='orange')\n",
    "ax.scatter(vol[-1],2*vol[-1], color='blue')\n",
    "\n",
    "arrow1 = mpatches.FancyArrowPatch((x_tail, y_tail), (x_head, y_head),\n",
    "                                 mutation_scale=20,color='orange')\n",
    "arrow2 = mpatches.FancyArrowPatch((x_tail, y_tail2), (x_head2, y_head2),\n",
    "                                 mutation_scale=20,color='blue')\n",
    "ax.add_patch(arrow1)\n",
    "ax.add_patch(arrow2)\n",
    "#ax.text(0,2.5, \"State 1\", fontname=\"Arial\")\n",
    "ax.text(0,2.5, \"State 1\")\n",
    "ax.text(2.5,18, \"State 2\")\n",
    "ax.text(1.5,7.5, \"$P=2V^2$\",color='orange')\n",
    "ax.text(1.5,2, \"$P=2V$\",color='blue')\n",
    "ax.set_xlabel('$V$ (-)', fontsize=12)\n",
    "ax.set_ylabel('$p$ (-)', fontsize=12)\n",
    "ax.annotate('$\\delta W_{\\mathrm{mech}}$', (2.25,11), (1.5,14.5), arrowprops=dict(color='orange', shrink=0.05), fontsize=12)\n",
    "ax.fill_between(vol,2*vol**2, where= (vol >= 2.25) & (vol <= 2.35),facecolor = \"orange\",hatch='\\\\\\\\')\n",
    "ax.fill_between(vol,2*vol**2, where= (vol >= 2.35) ,facecolor = \"orange\", alpha=0.5)\n",
    "ax.fill_between(vol,2*vol**2, where= (vol <= 2.25) ,facecolor = \"orange\", alpha=0.5)\n",
    "#plt.xlabel('$V$ (-)')\n",
    "#plt.ylabel('$P$ (-)')\n",
    "plt.savefig('Figures/pv_work.png')# used to save the figure if you desire\n",
    "plt.show()"
   ]
  },
  {
   "cell_type": "markdown",
   "id": "80433664-bf0a-4947-9ea1-d98b7b3eaf01",
   "metadata": {},
   "source": [
    "```{figure} Figures/pv_work.png\n",
    ":name: intro fig a\n",
    "\n",
    "Pressure verses volume for two different procecess going from State 1 to State 2. The work associated with each process is indicated by the areas under each curve. A exemplary amount of differential work is indicated by the dashed region.\n",
    "```"
   ]
  },
  {
   "cell_type": "markdown",
   "id": "507d29d9-7139-4bb4-a81a-1f67ef5719df",
   "metadata": {},
   "source": [
    "Thermodynamic processes are all bound by the First and Second Laws of Thermodynamics {cite}`bayer_heat`. The {ref}`First Law of Thermodynamics <genindex>` traces it's roots back to Count Rumford's experiments in the 18th century while boring a cannon {cite}`rumford_1798`. He showed that the production of heat was essentially inexastiable, as long as mechanical work was applied to the cannon by rotating a cannon borer. This led to Count Rumford's claim that \"heat is work\", from which the name thermodynamics was born. When coupled with James Prescott Joules more precise measurements that quantified the equivilency of heat and work, the First Law of Thermodynamics was conceived, which at its core states that energy is always conserved, and when it is destroyed in one form, it reappears as another {cite}`joule_1850`. The {ref}`Second Law of Thermodynamics <genindex>` is more subtle than the first, and puts contraints on the directionality of processes {cite}`vanness`. For example, we know that mechanical work is readily transformed to thermal energy, such as when a paddle wheel does work to a system it will heat up. However, the reverse scenario, converting heat to mechanical work, does not happen spontaneously - i.e., if we heat up a system it will not necessarily cause a paddle wheel to rotate, even though we have not violated the First Law. The Second Law says that if heat is to be converted to mechanical work, then not all of it is available, and some will have to be rejected from the system at a lower temperature {cite}`borgnakke_sonntag`. This is the basis of a heat engine. The fraction of the heat that is not converted to work is intimately tied to the temperature at which the heat is delivered, and thus the second law also gives a quality to energy. That is, energy at a higher temperature has a greater capacity to do work than at a lower temperature, leading to higher efficiency. The second law also puts constraints on the direction of energy transfer, and says that heat will always flow from hot to cool in the absense of any other effects. The microscopic view nicely explains things such as the second law of thermodyanmics, and the limited directionality of processes {cite}`dill_bromberg`. We will touch on microscopic aspects of thermodynamics in this book in later chapters, but the focus is on the macroscopic view. "
   ]
  },
  {
   "cell_type": "markdown",
   "id": "8b4b7b7a-607f-4e9f-a61b-86557125f1d8",
   "metadata": {},
   "source": [
    "```{index} moving boundary, fixed boundary, real boundary, imaginary boundary\n",
    "```"
   ]
  },
  {
   "cell_type": "markdown",
   "id": "8594b2e1-5680-482b-a60b-fefe95a92333",
   "metadata": {},
   "source": [
    "As mentioned, the system can be anything we wish to study and it is distinguised form its surroundings by its boundary. The system boundary can be {ref}`fixed <genindex>` or {ref}`moving <genindex>`, {ref}`real <genindex>` or {ref}`imaginary <genindex>`. For example, a piston-cylinder as shown below in {numref}`Figure %s <intro fig b>` on the left has a moving boundary that expands and contracts as the piston moves. A gas turbine, also shown in {numref}`Figure %s <intro fig b>` on the right which has an inlet and exit for a working fluid to enter and leave has imaginary boundaries drawn around these points and real boundaries elsewhere, and the entire system boundary is fixed. "
   ]
  },
  {
   "cell_type": "markdown",
   "id": "80dea361-33fd-4aef-b2aa-5bf4a16ed3af",
   "metadata": {},
   "source": [
    "```{index} closed system, control mass, open system, control volume\n",
    "```"
   ]
  },
  {
   "cell_type": "markdown",
   "id": "f42a2afd-3233-4d04-9c02-5c1c501906dd",
   "metadata": {},
   "source": [
    "Thermodynamic systems can be categorized one of two ways, either as a {ref}`closed system <genindex>` (or {ref}`control mass <genindex>`) or an {ref}`open system <genindex>` (or {ref}`control volume <genindex>`). As the names imply, a closed system always contains a fixed quantity of matter, but energy may flow into and out of the system. An open system is one in which energy and matter may flow into and out of the system. The only way energy may be transferred to or from a system is through heat ($Q$) or work ($W$) interactions, which we will expand on later when we formally introduce the First Law of Thermodynamics and the concept of Energy Conservation. Because the mass is fixed in the case of the piston-cylinder, but mechanical work ($W_{\\rm mech}$) can be done to or by the system (i.e. energy is transferred), or heat can be transferred to or from it, it is considered a closed system. In the case of the turbine, matter enters and exits and there is also energy transfer in the form of shaft work ($W_{\\rm shaft}$), and thus this is considered an open system."
   ]
  },
  {
   "cell_type": "markdown",
   "id": "e11c7fb0-bf0c-4af2-a039-08e6ace0251b",
   "metadata": {},
   "source": [
    "```{figure} Figures/open_closed_systems.png\n",
    "---\n",
    "name: intro fig b\n",
    "---\n",
    "Left) A piston-cylinder shcematic which is exemplary of a closed system with a moving boundary. As the piston moves up or down in the cylinder the system boundary also moves accordingly. Right) A turbine schematic, which is an open system with a fixed system boundary.The turbine produces shaft work as a result of gases entering at high pressure and high temperature, expanding across turbine blades causing the shaft to rotate, and then exiting at reduced temperature and pressure.\n",
    "```"
   ]
  },
  {
   "cell_type": "markdown",
   "id": "626f0855-31f0-4779-9926-0a395a43497f",
   "metadata": {},
   "source": [
    "(PropertiesandProcesses)=\n",
    "## Properties and Processes"
   ]
  },
  {
   "cell_type": "markdown",
   "id": "85afcb46-f891-4fdd-b137-15cd262ff91a",
   "metadata": {},
   "source": [
    "```{index} equilibrium, isothermal, isobaric, isochoric, isentropic\n",
    "```"
   ]
  },
  {
   "cell_type": "markdown",
   "id": "a8d794c3-23cd-47af-a5f7-11edf511a9c8",
   "metadata": {},
   "source": [
    "A thermodynamic system is at {ref}`equilibrium <genindex>` when none of its properties are changing with time. There are several types of equilibrium, including thermal, mechanical, phase and chemical, and a system is not in thermodynamic equilibrium unless all equilibrium types are satisfied. For many processes a particular property will remain constant, indicated by the prefix, iso. For example, processes at constant temperature are referred to as {ref}`isothermal <genindex>`, constant pressure as {ref}`isobaric <genindex>`, constant volume as {ref}`isochoric <genindex>` (or isometric), and constant entropy (a property that will be discussed in later sections) as {ref}`isentropic <genindex>`."
   ]
  },
  {
   "cell_type": "markdown",
   "id": "bbbce02e-6be7-4a36-9bf9-ce1ec8ebc5a8",
   "metadata": {},
   "source": [
    "```{index} extensive property, intensive property, energy, temperature, density\n",
    "```"
   ]
  },
  {
   "cell_type": "markdown",
   "id": "fd1df59e-6f7b-467e-95e0-b577904f4e81",
   "metadata": {},
   "source": [
    "Properties can be placed into two general categories, namely {ref}`extensive <genindex>` or {ref}`intensive <genindex>`. A property is extensive if its value for an overall system is dependent on the sum of its parts, for example volume ($V$), mass ($m$) or {ref}`energy <genindex>` ($E$). Intensive properties are those which have a value that is independent on the size of the system, for example {ref}`temperature <genindex>` ($T$) or {ref}`density <genindex>` ($\\rho$). Density is defined as the ratio of mass divided by volume, or: "
   ]
  },
  {
   "cell_type": "markdown",
   "id": "258ef1a2-4873-45a0-9bb6-73a0148d10d9",
   "metadata": {},
   "source": [
    "```{math}\n",
    ":label: eq_a\n",
    "{\\rm density}(\\rho) = \\lim_{V \\to V' \\\\~\\\\} \\frac{m}{V}\n",
    "```"
   ]
  },
  {
   "cell_type": "markdown",
   "id": "418c8a5a-574b-43e4-94c1-612c937eb5f4",
   "metadata": {},
   "source": [
    "```{index} specific, mass specific, specific volume\n",
    "```"
   ]
  },
  {
   "cell_type": "markdown",
   "id": "6a1391c9-45e7-4515-bc9d-f76556c42831",
   "metadata": {},
   "source": [
    "where $V' \\\\~\\\\$ is the smallest volume for which a definite value exists. When extensive properties are normalized per unit mass they are referred to as {ref}`specific <genindex>` (or {ref}`mass specific <genindex>`) properties and indicated with a lower case character (e.g., $e = \\frac{E}{m}$). They thus become intensive properties. The reciprocal of density is {ref}`specific volume <genindex>` ($v$) with SI units $\\frac{\\rm m^3}{\\rm kg}$."
   ]
  },
  {
   "cell_type": "markdown",
   "id": "848b4007-f50f-4dea-be73-a08bb972bbea",
   "metadata": {},
   "source": [
    "```{math}\n",
    ":label: eq_b\n",
    "\\textrm{specific volume} (v) = \\lim_{V \\to V' \\\\~\\\\} \\frac{V}{m}= \\frac{1}{\\rho}\n",
    "```"
   ]
  },
  {
   "cell_type": "markdown",
   "id": "3c5e477e-867e-4a69-8d96-82826559890a",
   "metadata": {},
   "source": [
    "```{index} molar specific\n",
    "```"
   ]
  },
  {
   "cell_type": "markdown",
   "id": "3cd255bf-4521-44c2-a42e-50dfd9b1b207",
   "metadata": {},
   "source": [
    "When extensive properties are normalized per unit mole they are referred to as {ref}`molar specific <genindex>` properties and indicated with a lower case character with an overhead bar. They thus also become intensive properties. For example, molar specific volume ($\\bar{v}$) has SI units $\\frac{\\rm m^3}{\\rm kmol}$. Molar specific properties are related to their mass specific counterparts by multiplying the molecular weight ($M$) of the substance by the mass specific property:"
   ]
  },
  {
   "cell_type": "markdown",
   "id": "aa12f340-81a2-4874-b64c-2c968bd73c2a",
   "metadata": {},
   "source": [
    "```{math}\n",
    ":label: eq_c\n",
    "\\bar{v} =vM\n",
    "```"
   ]
  },
  {
   "cell_type": "markdown",
   "id": "1d410f0a-8c58-4613-bfc0-54ed7f8995b3",
   "metadata": {},
   "source": [
    "which we can readily see from observation of the units, or unit analysis. I.e., $\\frac{{\\rm m}^3}{{\\rm kmol}} = \\frac{{\\rm m}^3}{{\\rm kg}} \\frac{{\\rm kg}}{{\\rm kmol}}$"
   ]
  },
  {
   "cell_type": "markdown",
   "id": "a1d2e273-9e2c-4bc3-be31-09150f2887da",
   "metadata": {},
   "source": [
    "(Units)=\n",
    "## Units and Dimensional Homogeneity"
   ]
  },
  {
   "cell_type": "markdown",
   "id": "9f400b1d-3df7-494a-b85c-6c0a3cb0e81c",
   "metadata": {},
   "source": [
    "```{index} unit analysis, dimensional homogeneity\n",
    "```"
   ]
  },
  {
   "cell_type": "markdown",
   "id": "0909974f-5670-4714-a4ef-50bf89a5afef",
   "metadata": {},
   "source": [
    "SI units and prefixes will be used consitently throughout this textbook and a good understanding of {ref}`unit analysis <genindex>`, or {ref}`dimensional homogenity <genindex>` is critial for success, as seen in the simple example above. Primary and secondary SI units, as well as common SI prefixes are shown below in {numref}`my-table-ref`."
   ]
  },
  {
   "cell_type": "markdown",
   "id": "6974c2ba-4030-4b66-9a83-73a6047e42ad",
   "metadata": {},
   "source": [
    "```{table} :SI Units and Prefixes\n",
    ":name: my-table-ref\n",
    "| Primary SI Units | Secondary SI Units | SI Prefixes |\n",
    "| --- | --- | --- |\n",
    "| mass (*m*) - kg | force (*F*) - N ($\\frac{{\\rm kg m}}{{\\rm s}^2}$) | ${10^{12}}$ - tera, T |\n",
    "| length (*l*) - m | pressure (*p*) - Pa ($\\frac{{\\rm N}}{{\\rm m}^2}$) | ${10^{9}}$ - giga, G |\n",
    "| time (*t*) - s | energy (*E*) - J (${{\\rm N  m}}$) | ${10^{6}}$ - mega, M |\n",
    "| temperature (*T*) - K | power (*P*) - W ($\\frac{{\\rm J}}{{\\rm s}}$) | ${10^{3}}$ - kilo, k |\n",
    "| amount of matter (*n*) - mol   | ---  | ${10^{-3}}$ - milli, m |\n",
    "```"
   ]
  },
  {
   "cell_type": "markdown",
   "id": "cd0315e7-4fb0-4488-ae0b-5daa34054de7",
   "metadata": {},
   "source": [
    "A typical unit for electrical energy is kWh, which can be related to the SI unit for energy, J, on the basis of understanding dimensional homogeneity. For example, "
   ]
  },
  {
   "cell_type": "markdown",
   "id": "2a8cfeee-cffa-4f5a-9403-1f539dd51569",
   "metadata": {},
   "source": [
    "${1\\rm kWh} = 1 \\frac{{\\rm kJ}}{{\\rm s}} {\\rm h} = 1 \\frac{{\\rm kJ}}{{\\rm s}} \\frac{{\\rm 3600s}}{{\\rm h}} = 3600 {\\rm kJ}$"
   ]
  },
  {
   "cell_type": "markdown",
   "id": "1b1c584b-98dc-4f2f-8504-b3df6a653aa5",
   "metadata": {},
   "source": [
    "There are many where cases you can infer the solution to a problem only by analyzing the units, without understanding what all of the properties mean. More complex examples are shown below. "
   ]
  },
  {
   "cell_type": "markdown",
   "id": "73ca73a9-2ba7-4075-95a4-bb40f58d3c4b",
   "metadata": {},
   "source": [
    "> ### Example"
   ]
  },
  {
   "cell_type": "markdown",
   "id": "fa83ed05-a75f-4e2c-a434-df475d463141",
   "metadata": {},
   "source": [
    "The specific heat of water is roughly 4.2 $\\frac{{\\rm kJ}}{{\\rm kg°C}}$ and its density is 1 $\\frac{{\\rm g}}{{\\rm mL}}$. How much energy, in kJ, is required to heat 10 gallons of water to 50 °C? (Note: there are roughly 3.8 L per gallon)"
   ]
  },
  {
   "cell_type": "code",
   "execution_count": 1,
   "id": "f98139e5-9c92-4d80-9890-7b93155182c3",
   "metadata": {},
   "outputs": [
    {
     "name": "stdout",
     "output_type": "stream",
     "text": [
      "7980.0 kJ\n"
     ]
    }
   ],
   "source": [
    "#Solution:\n",
    "# 10 gallons * 3.8 L/gallon * 1000 mL/1L * 1g/mL * 1kg/1000 g * 4.2kJ/kg°C * 50°C\n",
    "ans=str((10*3.8*1000*4.2*50)/1000)\n",
    "print(ans +\" kJ\")"
   ]
  },
  {
   "cell_type": "markdown",
   "id": "8f96646d-39fc-4ec9-95dd-e3d563d8d072",
   "metadata": {},
   "source": [
    "> ### Example"
   ]
  },
  {
   "cell_type": "markdown",
   "id": "83f369fd-154f-415e-a413-9bba22862743",
   "metadata": {},
   "source": [
    "The average electric utility rate in Gainesville, FL is $\\frac{\\$ 0.10}{{\\rm kWh}}$. If your electric bill per month, on average, is \\$150 determine your total electrical energy consumption over the course of a year, in GJ. "
   ]
  },
  {
   "cell_type": "code",
   "execution_count": 2,
   "id": "dcf3011c-68cd-41c9-95a9-62db87365e1d",
   "metadata": {},
   "outputs": [
    {
     "name": "stdout",
     "output_type": "stream",
     "text": [
      "64.8 GJ/year\n"
     ]
    }
   ],
   "source": [
    "#Solution:\n",
    "# $150/month * 1kWh/$0.10 * 1000Wh/1kWh * 3600J/1Wh * 1GJ/10^9J * 12months/1yr\n",
    "ans=str((150*1000*3600*12)/(.1*10**9))\n",
    "print(ans +\" GJ/year\")"
   ]
  },
  {
   "cell_type": "markdown",
   "id": "e30fee0f-8f27-4e2b-ad76-7c5d66bc0403",
   "metadata": {},
   "source": [
    "> ### Example"
   ]
  },
  {
   "cell_type": "markdown",
   "id": "d5f3dab6-fedc-49ee-8894-67d81ca94fa2",
   "metadata": {},
   "source": [
    "Imagine you  installed a solar panel on your home that produces power 8 hours per day with a rated power of 5 kW. The lifetime of the panels is 30 years and they cost $10,000 to install. Will these panels save you money over this time period?"
   ]
  },
  {
   "cell_type": "code",
   "execution_count": 3,
   "id": "72b7c7fb-4fa5-4537-a20d-61680368c052",
   "metadata": {},
   "outputs": [
    {
     "name": "stdout",
     "output_type": "stream",
     "text": [
      "Energy produced by panels/year: 14600 kWh/year\n",
      "Cost savings/year: $1460.0/year\n",
      "Total savings amounts to: $33800.0\n",
      "Therefore, the solar panel will save you money over a 30 year period.\n"
     ]
    }
   ],
   "source": [
    "#Solution:\n",
    "#Energy Produced by Solar Panels/Year: 5kW (wattage) * 8hr/day * 365days/year \n",
    "energyprod=(5*8*365)\n",
    "#Cost savings/year: energy produced/year * average electric utility rate: 14600 kWh/year * $0.10/kWh\n",
    "savings=(energyprod*0.1)\n",
    "print(\"Energy produced by panels/year: \" + str(energyprod) + \" kWh/year\")\n",
    "print(\"Cost savings/year: $\" + str(savings) +\"/year\" )\n",
    "#Cost savings over 30 year period: cost savings/year * 30 years - initial investment of $10,000\n",
    "totalsavings= str(savings*30 -10000)\n",
    "print(\"Total savings amounts to: $\" + totalsavings)\n",
    "print(\"Therefore, the solar panel will save you money over a 30 year period.\")"
   ]
  },
  {
   "cell_type": "markdown",
   "id": "8e4356a9-173e-49da-8fcd-e8f1509a1a29",
   "metadata": {},
   "source": [
    "## Temperature and the Zeroth Law of Thermodynamics"
   ]
  },
  {
   "cell_type": "markdown",
   "id": "6b4bb0cd-9cbc-4253-abba-20a9d8bc8943",
   "metadata": {},
   "source": [
    "```{index} Zeroth Law of Thermodynamics, temperature, Celsius, Kelvin, Fahrenheit, Rankine\n",
    "```"
   ]
  },
  {
   "cell_type": "markdown",
   "id": "bbd256f9-df87-42e3-b82b-434ddc2c2fb9",
   "metadata": {},
   "source": [
    "{ref}`Temperature <genindex>` ($T$) is an intensive thermodynamic property related to the kinetic energy of molecules in a system. In fact, it is an indicator of the internal energy (which is introduced later in {numref}`FirstLaw` {ref}`FirstLaw`) of a system and has important implications for the directionality of processes - i.e. heat will flow spontaneously from hot to cold systems in the absense of an adiabatic barrier, until thermal equilibrium between the systems is reached, or the point at which their temperatures are identical.  The {ref}`Zeroth Law of Thermodynamics <genindex>` says that when two objects are in thermal equilibrium with a third object, that they are in thermal equilibrium with each other. The third object is usually a thermometer. The Zeroth Law states that the quantity that is the same for two systems in thermal equilibrium with each other is temperature, and thus this essentially defines temperature.  Although this may seem intuitive, it actually forms the basis of the first and second laws, but was discovered afterwards, thus the name Zeroth. "
   ]
  },
  {
   "cell_type": "markdown",
   "id": "a36fece8-6f56-4eb9-8e28-c20f0b5f1e8f",
   "metadata": {},
   "source": [
    "The thermodynamic temperature scale in SI units is the {ref}`Kelvin <genindex>` ($K$) scale, where the lowest temperature is absolute zero (i.e., the point at which the molecules in the system have zero kinetic energy). This is related to the {ref}`Celsius <genindex>` scale by the following relationship."
   ]
  },
  {
   "cell_type": "markdown",
   "id": "0f0a29a2-d492-4169-8d4b-1efa6e6224a0",
   "metadata": {},
   "source": [
    "```{math}\n",
    ":label: eq_d\n",
    "T(\\rm K) = T(\\rm °C)+273.15\n",
    "```"
   ]
  },
  {
   "cell_type": "markdown",
   "id": "864863b6-ce4d-4523-8928-24d8d16d4925",
   "metadata": {},
   "source": [
    "Thus, whenever we are interested in changes in temperature, we can use either the Kelvin or Celsius scale and will arrive at equivilent answers. Although differences in temperature will be common to see throughout calculations in this book, we will usually err on the side of safety and convert to the Kelvin scale for problems in this textbook. The Celsius scale is related to the Fahrenheit scale by the following relationship."
   ]
  },
  {
   "cell_type": "markdown",
   "id": "2457f4c5-1168-4c8e-a705-1a116f7a58ce",
   "metadata": {},
   "source": [
    "```{math}\n",
    ":label: eq_e\n",
    "T(\\rm °F) = 1.8T(\\rm °C)+32\n",
    "```"
   ]
  },
  {
   "cell_type": "markdown",
   "id": "a34df171-ed96-4fad-ab15-d7596a420449",
   "metadata": {},
   "source": [
    "The {ref}`Fahrenheit <genindex>` scale is related to the thermodynamic temperature scale in the English unit system, {ref}`Rankine <genindex>` ($R$)."
   ]
  },
  {
   "cell_type": "markdown",
   "id": "53442b19-aafd-4e9d-a869-169190406436",
   "metadata": {},
   "source": [
    "```{math}\n",
    ":label: eq_f\n",
    "T(\\rm R) = T(\\rm °F)+459.67\n",
    "```"
   ]
  },
  {
   "cell_type": "markdown",
   "id": "a3c951bc-09fe-4edb-86eb-abe3c9da72a8",
   "metadata": {},
   "source": [
    "```{math}\n",
    ":label: eq_g\n",
    "T(\\rm R) = 1.8T(\\rm K)\n",
    "```"
   ]
  },
  {
   "cell_type": "markdown",
   "id": "3eca08fe-0c5b-4557-a80c-b3a3136e6a5f",
   "metadata": {},
   "source": [
    "## Pressure"
   ]
  },
  {
   "cell_type": "markdown",
   "id": "867c9aff-cf1c-40a7-9413-e648a6231801",
   "metadata": {},
   "source": [
    "```{index} pressure\n",
    "```"
   ]
  },
  {
   "cell_type": "markdown",
   "id": "c8686d1e-63af-400c-8f12-07b6f047b9c9",
   "metadata": {},
   "source": [
    "{ref}`Pressure <genindex>` ($P$) is an intensive property that is, by definition, a normal force exerted by a fluid per unit area, or:"
   ]
  },
  {
   "cell_type": "markdown",
   "id": "1cc3800e-db21-40d1-b479-4621da241895",
   "metadata": {},
   "source": [
    "```{math}\n",
    ":label: eq_h\n",
    "\\textrm{pressure} (P) = \\lim_{A \\to A' \\\\~\\\\} \\frac{F_{normal}}{A}\n",
    "```"
   ]
  },
  {
   "cell_type": "markdown",
   "id": "2d77414a-5106-4aee-b6df-a8e723687987",
   "metadata": {},
   "source": [
    "where A` is the smallest measurable area for which a definitive value exists. SI unites for pressure are Pascal (Pa), where 1 Pa = 1 $\\frac{\\rm N}{\\rm m^2}$. More commonly, kPa or MPa are used simply because atmospheric pressure, which is 100 kPa, is large when expressed in Pa. It is also common to see SI units bar.  "
   ]
  },
  {
   "cell_type": "markdown",
   "id": "66afb5fe-4eba-4af5-9751-836ea307185b",
   "metadata": {},
   "source": [
    "1 bar = 10<sup>5</sup> Pa = 0.1 MPa = 100 kPa."
   ]
  },
  {
   "cell_type": "markdown",
   "id": "02f1a252-43d2-42b8-b1d9-bf0367f92ca4",
   "metadata": {},
   "source": [
    "Atmospheric units are also common to see and related to SI units by the following."
   ]
  },
  {
   "cell_type": "markdown",
   "id": "38024de1-66a1-4022-81af-42c65bb90db2",
   "metadata": {},
   "source": [
    "1 atm = 1.01325 bar"
   ]
  },
  {
   "cell_type": "markdown",
   "id": "9f1bd610-a8fd-4eac-80b6-cbcef208c65c",
   "metadata": {},
   "source": [
    "The English unit pounds per square inch, or psi, is also a common unit of pressure but not used often in this textbook."
   ]
  },
  {
   "cell_type": "markdown",
   "id": "627aeef0-29cc-4294-aa85-16209264672c",
   "metadata": {},
   "source": [
    "1 atm = 14.696 psi, where psi = $\\frac{\\rm lbf}{\\rm in^2}$"
   ]
  },
  {
   "cell_type": "markdown",
   "id": "9549d733-759f-42ad-adcc-fb0484340315",
   "metadata": {},
   "source": [
    "Finally, mmHg or Torr, is another common pressure unit and is related to atmospheric pressure by the following"
   ]
  },
  {
   "cell_type": "markdown",
   "id": "87315dc4-50ce-4f89-9281-2d0b0cdd743e",
   "metadata": {},
   "source": [
    "1 atm = 760 mmHg (or Torr)"
   ]
  },
  {
   "cell_type": "markdown",
   "id": "bc6e0907-2db1-4bab-81ce-11e3096f35c2",
   "metadata": {},
   "source": [
    "```{index} absolute pressure, gage pressure\n",
    "```"
   ]
  },
  {
   "cell_type": "markdown",
   "id": "23cb7c30-633e-43ec-b9f7-ab04bb6119a7",
   "metadata": {},
   "source": [
    "Pressure is usually represented either as absolute or Gage {ref}`Absolute pressure <genindex>` is measured with repect to absolute valcuum and {ref}`gage pressure <genindex>` with respect to the surrounding pressure. For the most part, absolute pressure will be used throughout this textbook, unless otherwise indicated."
   ]
  }
 ],
 "metadata": {
  "kernelspec": {
   "display_name": "Python 3 (ipykernel)",
   "language": "python",
   "name": "python3"
  },
  "language_info": {
   "codemirror_mode": {
    "name": "ipython",
    "version": 3
   },
   "file_extension": ".py",
   "mimetype": "text/x-python",
   "name": "python",
   "nbconvert_exporter": "python",
   "pygments_lexer": "ipython3",
   "version": "3.9.13"
  }
 },
 "nbformat": 4,
 "nbformat_minor": 5
}
