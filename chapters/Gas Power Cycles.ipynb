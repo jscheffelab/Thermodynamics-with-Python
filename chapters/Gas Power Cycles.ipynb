{
 "cells": [
  {
   "cell_type": "markdown",
   "id": "7d9040a1-d000-49eb-b134-f239153453a9",
   "metadata": {},
   "source": [
    "(GasPower)=\n",
    "# Gas Power Cycles - Brayton, Otto and Diesel Cycles"
   ]
  },
  {
   "cell_type": "markdown",
   "id": "2d18c5ac-a75e-4db4-a3a9-5669b9f3a260",
   "metadata": {},
   "source": [
    "```{index} Gas power cycle, Brayton power cycle, Otto cycle, diesel cycle\n",
    "```"
   ]
  },
  {
   "cell_type": "markdown",
   "id": "fd371d10-64d2-43f8-ad4a-fc4601ee64e0",
   "metadata": {},
   "source": [
    "In the last two chapters, the concepts of heat engines ({numref}`HeatEngine` {ref}`HeatEngine`), thermal efficiency ({numref}`Efficiency` {ref}`Efficiency`), isentropic efficiency ({numref}`IsentropicEfficiency` {ref}`IsentropicEfficiency`) were introduced in a relatively general way. The Carnot heat engine was introduced as the idealized and reversible heat engine with the maximum theoretical efficiency operating between two thermal reservoirs. In this chapter and the next, a variety of operational strategies for real heat engines will be discussed, some based on open system components that produce shaft work with a turbine and some as a series of piston expansion/compression processes."
   ]
  },
  {
   "cell_type": "markdown",
   "id": "7e5412da-dcf2-4416-9dcb-490c18df9202",
   "metadata": {},
   "source": [
    "Heat engines, or power cycles, can be generally categorized as either {ref}`gas power cycles <genindex>` or vapor power cycles. The distinction between the two is the working fluid. In the case of gas power cycles, the working fluid is a gas, typically air, which does not undergo a change in phase. Vapor power cycles, on the other hand, utilize a working fluid such as H<sub>2</sub>O that undergoes phases change during the cycle. In this chapter the focus is gas power cycles, and next chapter will focus on vapor power cycles."
   ]
  },
  {
   "cell_type": "markdown",
   "id": "2bdecfcf-9f5b-4938-b6db-6bc087a61941",
   "metadata": {},
   "source": [
    "The gas power cycles to be discussed in this chapter are the Brayton Cycle, Otto Cycle, Diesel Cycle, Striling Cycle and Ericsson Cycles. The former is the gas power cycle that utlizes turbine and compressor technology and is the heart of many power plants and jet engines. The latter are all based on piston cylinder designs where the Otto and Diesel are the main internal combustion engine technologies and the Stirling and Ericcson Cycles integrate heat recuperation for high theoretical efficiencies and are externally heated."
   ]
  },
  {
   "cell_type": "markdown",
   "id": "ffcb2e1e-54b0-4089-9f45-ff2a31c2c4cd",
   "metadata": {},
   "source": [
    "(Brayton)=\n",
    "## Brayton Power Cycle"
   ]
  },
  {
   "cell_type": "markdown",
   "id": "c88ac031-e3f6-48dc-af69-790899533a3e",
   "metadata": {},
   "source": [
    "```{index} Brayton power cycle\n",
    "```"
   ]
  },
  {
   "cell_type": "markdown",
   "id": "63e4949c-191d-43b3-88e3-310e4adb1f59",
   "metadata": {},
   "source": [
    "The {ref}`Brayton Power Cycle <genindex>` is  at the heart of many power plants and jet engines and utilizes turbomachinery, such as gas turbines and compressors, to perform mechanical shaft work. The real and open-system Brayton power cycle is composed of a compressor, combustor and gas turbine, as seen below in {numref}`Figure %s <real brayton>`. Fresh air enters the compressor, is compressed  (process 1-2), combusted at high pressure (process 2-3) with a fuel to produce heat, resulting in combusion products that are expanded in a gas turbine to produce shaft work (process 3-4). The surrounding air serves as a heat sink for the thermal energy disspated from the combusion products. As drawn, this Brayton cycle may be considered an open system when taken as a whole, with fresh air enetering the control volume and combustion products leaving."
   ]
  },
  {
   "cell_type": "markdown",
   "id": "e325c562-4cca-4b3a-94d8-2202e5d3a5ba",
   "metadata": {},
   "source": [
    "```{figure} Figures/realbrayton.png\n",
    ":name: real brayton\n",
    "\n",
    "A schematic of an open and real Brayton Power Cycle. Fresh air is fed to the system, compressed, combusted with a fuel, followed by expansion of the combustion products in a turbine to produce shaft work.\n",
    "```"
   ]
  },
  {
   "cell_type": "markdown",
   "id": "ff38bbab-0968-4fbc-946b-3e775ecc4bae",
   "metadata": {},
   "source": [
    "(IdealBrayton)=\n",
    "### Ideal Brayton Power Cycle"
   ]
  },
  {
   "cell_type": "markdown",
   "id": "e6c307db-9f2f-4acc-b513-42fdd9180bdc",
   "metadata": {},
   "source": [
    "```{index} air-standard assumption, Ideal Brayton Cycle\n",
    "```"
   ]
  },
  {
   "cell_type": "markdown",
   "id": "4bafc0dc-b813-4410-a015-5375d8755aa5",
   "metadata": {},
   "source": [
    "There are several simplifying assumptions that are typically made to decrease the complexity of the Brayton cycle without sacrificing greatly the accuracy. The first and main assumption is referred to as the {ref}`air-standard assumption <genindex>`. In this case, the working fluid is approximated as air as an ideal gas that flows in a closed-loop cycle, where it is compressed, heated externally with a high temperature heat exchanger, expanded in a turbine and cooled in a heat exchanger to complete the cycle. Another assumption is that both the compression and expansion processes are reversible and adiabatic (i.e. isentropic). A thired assumption is that the heat addition and rejection in the high and low temperature heat exchangers occurs at constant pressure. And finally, the entire process is assumed to operate at steady state. This {ref}`Ideal Brayton Cycle <genindex>` is shown below in  {numref}`Figure %s <ideal brayton>`. To simplify analysis further, sometimes a {ref}`cold-air approximation <genindex>` may be used which assumes constant specific heats, both *c*<sub>p</sub> and *c*<sub>v</sub> of air at ambient conditions, and all prior equations that assume constant specific heats may be applied, such as those from {numref}`IsentropicIdealGas` {ref}`IsentropicIdealGas`. Finally, real turbines and compressors may be analyzed within the framework of this cycle by accounting for their isentropic efficiencies, as discussed in {numref}`IsentropicEfficiency` {ref}`IsentropicEfficiency`."
   ]
  },
  {
   "cell_type": "markdown",
   "id": "09fe279e-0753-4b60-a558-5b1cdb0cecac",
   "metadata": {},
   "source": [
    "```{figure} Figures/idealbrayton.png\n",
    ":name: ideal brayton\n",
    "\n",
    "An example of a closed and ideal Brayton Cycle. Air is circulated in a closed loop, where it is first compressed isentropically, heated at constant pressure in a heat exchanger, expanded isentropically to produce shaft work, and finally cooled at constant pressure in a low temperature heat exchanger.\n",
    "```"
   ]
  },
  {
   "cell_type": "markdown",
   "id": "8159c106-ca63-4c1e-8287-e7b9262d6437",
   "metadata": {},
   "source": [
    "With an appropriate system boundary around every component, this can be treated as a closed system, and analyzed with the closed system energy balance equation, in rate form, discussed in {numref}`EnergyTransfer` {ref}`EnergyTransfer`. "
   ]
  },
  {
   "cell_type": "markdown",
   "id": "7cf9b878-7cca-446a-8ad2-d845f1f14e5e",
   "metadata": {},
   "source": [
    "```{math}\n",
    ":label: eq_aa1\n",
    "\\frac{dU}{dt} = \\dot Q_{\\rm net} - \\dot W_{\\rm net}\n",
    "```"
   ]
  },
  {
   "cell_type": "markdown",
   "id": "cafdb1e6-d309-42b4-a0ef-4eb774e2bb7f",
   "metadata": {},
   "source": [
    "Because the process operates at steady state, $\\frac{dU}{dt} = 0$, and "
   ]
  },
  {
   "cell_type": "markdown",
   "id": "cb331ccf-8d07-4fbc-80b9-e23e3bd7123a",
   "metadata": {},
   "source": [
    "```{math}\n",
    ":label: eq_aa2\n",
    "\\dot Q_{\\rm H}+\\dot Q_{\\rm L}=\\dot W_{\\rm 12}+\\dot W_{\\rm 34}\n",
    "```"
   ]
  },
  {
   "cell_type": "markdown",
   "id": "17f82277-0e6b-4e1b-8eff-dee037118aaf",
   "metadata": {},
   "source": [
    "The thermal efficiency is then "
   ]
  },
  {
   "cell_type": "markdown",
   "id": "73f809fd-e295-45ff-84e9-e396227d7924",
   "metadata": {},
   "source": [
    "```{math}\n",
    ":label: eq_aa3\n",
    "\\eta_{\\rm th} = \\frac{\\dot W_{\\rm net}}{\\dot Q_{\\rm H}} = 1- \\frac{\\dot Q_{\\rm L}}{\\dot Q_{\\rm H}}\n",
    "```"
   ]
  },
  {
   "cell_type": "markdown",
   "id": "2a057796-2a0b-4af5-80e3-734303486771",
   "metadata": {},
   "source": [
    "When an appropriate boundary is drawn around a component of interest within the cycle, it should be analyzed with the steady state open system energy balance discussed in {numref}`FirstLawOpen` {ref}`FirstLawOpen`. Using this form of the energy equation enables determination of either desired heat transfer rates and work terms, or it can be used to evaluate appropriate state properties at the inlets or exits. For example, taking the turbine as the control volume and assuming steady state, adiabatic, negligible change in kinetic and potential energies, the energy equation becomes the following."
   ]
  },
  {
   "cell_type": "markdown",
   "id": "7d59053b-7c57-4d0c-b0e3-bdd83a3fcc4d",
   "metadata": {},
   "source": [
    "```{math}\n",
    ":label: eq_aa4\n",
    "\\dot W_{\\rm 34} = \\dot m_{\\rm air} (h_{\\rm i}-h_{\\rm e})\n",
    "```"
   ]
  },
  {
   "cell_type": "markdown",
   "id": "e0834c6f-7891-49cc-9656-4b434c1e8db8",
   "metadata": {},
   "source": [
    "Recognizing that state 3 is the inlet and state 4 is the exit it can also be written as below. "
   ]
  },
  {
   "cell_type": "markdown",
   "id": "11d735d4-dac3-4c88-b1ce-9cf5739acfc8",
   "metadata": {},
   "source": [
    "```{math}\n",
    ":label: eq_aa5\n",
    "\\dot W_{\\rm 34} = \\dot m_{\\rm air} (h_{\\rm 3}-h_{\\rm 4})\n",
    "```"
   ]
  },
  {
   "cell_type": "markdown",
   "id": "77e95c95-bbfd-43d4-862b-14a8d4048594",
   "metadata": {},
   "source": [
    "And if specific heats are used, then either average specific heat or using cold-air approximation may be used, understanding the assumptions inherent to each approach."
   ]
  },
  {
   "cell_type": "markdown",
   "id": "296fdd00-24ed-4044-b81d-f7f5cc4cfe42",
   "metadata": {},
   "source": [
    "```{math}\n",
    ":label: eq_aa6\n",
    "\\dot W_{\\rm 34} = c_{\\rm p} (T_{\\rm 3}-T_{\\rm 4})\n",
    "```"
   ]
  },
  {
   "cell_type": "markdown",
   "id": "1c92fb42-4916-4ecc-aa33-1226b6832bbb",
   "metadata": {},
   "source": [
    "Note that if average values for specific heats are used and one of the temperatures are not known, then an iterative, or guess and check solution approach would be required. Refer to {numref}`IsentropicEfficiencyExample2` {ref}`IsentropicEfficiencyExample2` as an example. "
   ]
  },
  {
   "cell_type": "markdown",
   "id": "0f22e2b1-c5bf-4f35-b094-dfb6f434584a",
   "metadata": {},
   "source": [
    "#### Example - Analysis of an Ideal Brayton Cycle"
   ]
  },
  {
   "cell_type": "markdown",
   "id": "092b4590-56a8-44f3-9f8b-a43806ae6b73",
   "metadata": {},
   "source": [
    "In a Brayton cycle, air enters the compressor at 0.1 MPa and 298 K. The pressure leaving the compressor is 1.0 MPa and the maximum temperature is 1240 K. Assume an isentropic efficiency of 80% for the compressor and 85% for the turbine. Determine the compressor specific work, turbine specific work and cycle efficiency. Use property values from Cantera (i.e. variable specific heats) rather than constant specific heat equations. Understand how to solve using constant specific heat equations."
   ]
  },
  {
   "cell_type": "markdown",
   "id": "6c8cfbc7-9c20-45b0-a361-f618afdff273",
   "metadata": {},
   "source": [
    "> **Solution** There are only two pressures in this simple Brayton cycle, and thus all pressures are known. The maximum temperature occurs after external heat addition, and therefore the only properties not given are the temperatures following compression and expansion. We can use the provided isentropic efficiencies to determine enthalpies at each of these states. For this we will need to recognize that the entropy at the inlet and exit of the compressor and turbine are equal in the isentropic case."
   ]
  },
  {
   "cell_type": "code",
   "execution_count": 9,
   "id": "290174bd-5ea9-46e4-99b0-68995c99f03d",
   "metadata": {},
   "outputs": [
    {
     "name": "stdout",
     "output_type": "stream",
     "text": [
      "specific enthalpies at states 1 and 2 are  -112.33 and 348170.44 kJ kg-1\n"
     ]
    }
   ],
   "source": [
    "import cantera as ct\n",
    "#we have 6 total states including the isentropic states, thus we will set each of these to be air\n",
    "\n",
    "state1,state2s,state2,state3,state4s,state4 = ct.Solution('gri30.yaml'),ct.Solution('gri30.yaml'),ct.Solution('gri30.yaml'),ct.Solution('gri30.yaml'),ct.Solution('gri30.yaml'),ct.Solution('gri30.yaml')\n",
    "state1.X,state2s.X,state2.X,state3.X,state4s.X,state4.X = 'N2:0.79 O2: 0.21','N2:0.79 O2: 0.21','N2:0.79 O2: 0.21','N2:0.79 O2: 0.21','N2:0.79 O2: 0.21','N2:0.79 O2: 0.21'\n",
    "\n",
    "#given or inferred properties\n",
    "p1 = 0.1*10**6 #Pa\n",
    "p4=p1 #constant pressure heat rejection\n",
    "T1 = 298 #K\n",
    "p2 = 1*10**6 #Pa\n",
    "p3=p2 #constant pressure heat addition\n",
    "T3 = 1240 #K\n",
    "eta_comp = 0.8\n",
    "eta_turb = 0.85\n",
    "\n",
    "#determine s1 and equate to s2s\n",
    "state1.TP = T1,p1\n",
    "s1 = state1.SP[0]\n",
    "s2s=s1\n",
    "#also we can get h1\n",
    "h1 = state1.HP[0]\n",
    "\n",
    "#knowing s2s and p2, determine h2s\n",
    "state2s.SP = s2s,p2\n",
    "h2s = state2s.HP[0]\n",
    "\n",
    "#solve for h2 using isentropic efficiency of the compressor\n",
    "h2 = (h2s-h1)/eta_comp+h1\n",
    "\n",
    "print (\"specific enthalpies at states 1 and 2 are \", round(h1,2), \"and\", round(h2,2), \"kJ kg-1\")"
   ]
  },
  {
   "cell_type": "code",
   "execution_count": 10,
   "id": "3c07cef1-3776-43e6-a53d-f91c9090e960",
   "metadata": {},
   "outputs": [
    {
     "name": "stdout",
     "output_type": "stream",
     "text": [
      "specific enthalpies at states 3 and 4 are  1034042.51 and 533284.7 kJ kg-1\n"
     ]
    }
   ],
   "source": [
    "#determine s3 and equate to s4s\n",
    "state3.TP = T3,p3\n",
    "s3 = state3.SP[0]\n",
    "s4s=s3\n",
    "#also we can get h3\n",
    "h3 = state3.HP[0]\n",
    "\n",
    "#knowing s4s and p4, determine h4s\n",
    "state4s.SP = s4s,p4\n",
    "h4s = state4s.HP[0]\n",
    "\n",
    "#solve for h4 using isentropic efficiency of the turbine\n",
    "h4 = h3-(h3-h4s)*eta_comp\n",
    "\n",
    "print (\"specific enthalpies at states 3 and 4 are \", round(h3,2), \"and\", round(h4,2), \"J kg-1\")"
   ]
  },
  {
   "cell_type": "markdown",
   "id": "04e0c61e-f94f-477b-8ae3-1c5ab510c61f",
   "metadata": {},
   "source": [
    "> Now it is a matter of performing energy balances for the compressor, turbine and high temperature heat exchanger. Assuming steady state operation, adiabatic, negligable kinetic and potential energies, the open system energy conservation equation reduces to the follwoing specific work terms for each."
   ]
  },
  {
   "cell_type": "markdown",
   "id": "1ba87548-a70e-49f1-be94-3e7ff0562c85",
   "metadata": {},
   "source": [
    "> $ w_{\\rm 12} = (h_{\\rm 1}-h_{\\rm 2})$"
   ]
  },
  {
   "cell_type": "markdown",
   "id": "96fdfbb9-65e5-43a2-9cd2-c4b9f13a24a2",
   "metadata": {},
   "source": [
    "> $ w_{\\rm 34} = (h_{\\rm 3}-h_{\\rm 4})$"
   ]
  },
  {
   "cell_type": "markdown",
   "id": "94aabc68-8fa4-4d45-b9cd-5b045647fd5a",
   "metadata": {},
   "source": [
    "> Assuming steady state operation, constant pressure, negligable kinetic and potential energies, the open system energy conservation equation reduces to the following specific heat transfer term."
   ]
  },
  {
   "cell_type": "markdown",
   "id": "6ede6adc-b1c3-4889-a1be-539540f055c7",
   "metadata": {},
   "source": [
    "> $ q_{\\rm 23} = (h_{\\rm 3}-h_{\\rm 2})$"
   ]
  },
  {
   "cell_type": "markdown",
   "id": "1c845ff8-698d-4951-a46c-6fcb85d6eef5",
   "metadata": {},
   "source": [
    "> Each of the specific enthalpy terms has already been determined, so we can solve for each directly."
   ]
  },
  {
   "cell_type": "code",
   "execution_count": 17,
   "id": "39745df5-7b42-485d-8642-37dcd0ca7097",
   "metadata": {},
   "outputs": [
    {
     "name": "stdout",
     "output_type": "stream",
     "text": [
      "specific compressor work is -348.28 kJ kg-1\n",
      "specific turbine work is 500.76 kJ kg-1\n",
      "specific heat transfer is 685.87 kJ kg-1\n"
     ]
    }
   ],
   "source": [
    "w_comp = h1-h2\n",
    "w_turb = h3-h4\n",
    "q_23 = h3-h2\n",
    "\n",
    "print(\"specific compressor work is\", round(w_comp/1000,2), \"kJ kg-1\")\n",
    "print(\"specific turbine work is\", round(w_turb/1000,2), \"kJ kg-1\")\n",
    "print(\"specific heat transfer is\", round(q_23/1000,2), \"kJ kg-1\")"
   ]
  },
  {
   "cell_type": "markdown",
   "id": "3c2da4fe-c634-4e29-8355-08a37d8282fd",
   "metadata": {},
   "source": [
    "> Understanding that the thermal efficiency is the net work divided by the heat addition it can be solved directly."
   ]
  },
  {
   "cell_type": "code",
   "execution_count": 19,
   "id": "f4be9cb0-8a5f-4984-a968-8c8da75d35ac",
   "metadata": {},
   "outputs": [
    {
     "name": "stdout",
     "output_type": "stream",
     "text": [
      "The thermal efficiency of the Brayton cycle is 22.23 %\n"
     ]
    }
   ],
   "source": [
    "eta_th = (w_comp+w_turb)/q_23\n",
    "\n",
    "print(\"The thermal efficiency of the Brayton cycle is\", round(eta_th*100,2), \"%\")"
   ]
  },
  {
   "cell_type": "markdown",
   "id": "669dc674-de97-4c15-8624-f655226993da",
   "metadata": {},
   "source": [
    "(Brayton2)=\n",
    "## Brayton Power Cycle with Intercooling, Reheating and Regeneration"
   ]
  },
  {
   "cell_type": "markdown",
   "id": "3a689c64-31cd-4f8d-a34c-669b52150816",
   "metadata": {},
   "source": [
    "```{index} intercooling, reheating, regeneration\n",
    "```"
   ]
  },
  {
   "cell_type": "markdown",
   "id": "73034096-8e75-4810-804f-d7650db915ec",
   "metadata": {},
   "source": [
    "There are several strategies empolyed to increase the efficiency of the idealized Brayton cycle. These include integrating {ref}`intercooling <genindex>`, {ref}`reheating <genindex>` and {ref}`regeneration <genindex>` strategies. These strategies serve to 1) decrease compression work by integrating cooling during compression, 2) increase turbine work by integrating heat addition during expansion and 3) decrease the amount of external heat transfer required to the system by recuperating heat internally between the exits of the turbine and compressors."
   ]
  },
  {
   "cell_type": "markdown",
   "id": "4b061166-b8ba-4e19-8216-4ebaebcc65c1",
   "metadata": {},
   "source": [
    "(Intercooling)=\n",
    "### Intercooling"
   ]
  },
  {
   "cell_type": "markdown",
   "id": "17fde910-3796-41ea-924c-c7818029ec94",
   "metadata": {},
   "source": [
    "```{index} intercooler\n",
    "```"
   ]
  },
  {
   "cell_type": "markdown",
   "id": "8447e837-4e75-4ab8-be26-548e60bab3dc",
   "metadata": {},
   "source": [
    "Last chapter in the section on reversible work, {numref}`ReversibleWork` {ref}`ReversibleWork`,  we saw that isentropic compression/expansion does not result in the minimum/maximum shaft work associated with compressors and turbines. Instead, it was shown that isothermal compression and isothermal expansion enable the minimum/maximum work. Thus, compression should be integrated with cooling and expansion with heating, both of which minimuze/maximize volume-pressure relationship correlated with reversible shaft work, shown again below for reference."
   ]
  },
  {
   "cell_type": "markdown",
   "id": "411ecf00-0980-4d03-93cf-7c1f1ed34b06",
   "metadata": {},
   "source": [
    "```{math}\n",
    ":label: eq_aa7\n",
    "w_{\\rm rev} =  - \\int_{1}^{2} vdp\n",
    "``` "
   ]
  },
  {
   "cell_type": "markdown",
   "id": "64fe7f70-5d06-4bb5-a8f6-cde959b2b4d1",
   "metadata": {},
   "source": [
    "In practice, rather than simultaneously cooling during comprssion, {ref}`intercoolers <genindex>` are utilized between stages of adiabatic compression to intermittantly cool the compresssed gas. The intercooler is simply a gas heat exchanger that rejects heat from the compressed gas at constant pressure. In theory, given a large enough number of compression, intercooling stages, the compression process would approximiate an isothermal process and approach the theoretical minimum work limit. However, for practical considerations, usually no more than a few intercoolers are integrated with the compression process, and there are diminishing returns for each additional intercooler integrated. A schematic of an intercooler integrated between two stages of adiabatic compression, alongside the corresponsing T-s diagram, are shown below in {numref}`Figure %s <intercooler>`. As seen, the first compression stage to an intermediate pressure increases temperature and specific volume (not shown). Cooling the gas in an intercooler back to a lower temperature (usually the same as state 1), enables compression to the final pressure at smaller specific volumes compared to the compression process without intercooling, thus reducing  $w_{\\rm rev} =  - \\int vdp$. Also, note that the final temperature is equal to the intermediate temperature(*T*<sub>4</sub> = *T*<sub>2</sub>) and is lower than it would be when compared to the compression process without intercooling (*T*<sub>4</sub> > *T*<sub>2</sub>), thus better approximating an isothermal compression process."
   ]
  },
  {
   "cell_type": "markdown",
   "id": "0fa38fcd-26ff-4572-b797-be48f03b483f",
   "metadata": {},
   "source": [
    "```{figure} Figures/intercooler.png\n",
    ":name: intercooler\n",
    "\n",
    "An intercooler integrated between two stages of adiabatic compression. The intercooler rejects heat from the compressed gas, thereby reducing the amount of compression work required to operate between two pressures.\n",
    "```"
   ]
  },
  {
   "cell_type": "markdown",
   "id": "2ab82196-4ff4-49e0-8381-d6b068f421b2",
   "metadata": {},
   "source": [
    "(Reheating)=\n",
    "### Reheating"
   ]
  },
  {
   "cell_type": "markdown",
   "id": "35047192-3e61-4f36-992c-838dcb1c5921",
   "metadata": {},
   "source": [
    "```{index} reheater\n",
    "```"
   ]
  },
  {
   "cell_type": "markdown",
   "id": "6483e9df-db2a-4e30-a773-d7e39e010e54",
   "metadata": {},
   "source": [
    "Similar to intercooling, {ref}`reheaters <genindex>` are integrated bewteen stages of adiabatic expansion to approximate isothermal expansion, rather than heating simultaneously during gas expansion. Reheaters are simply gas heat exchangers that supply heat at constant pressure. A schematic of a reheater integrated between two stages of adiabatic expansion, alongside the corresponsing T-s diagram, are shown below in {numref}`Figure %s <reheater>`. As seen, the first expansion stage to an intermediate pressure decreases temperature and specific volume (not shown). Reheating the gas in a reheater back to a higher temperature (usually the same as state 1), enables expansion to the final pressure at larger specific volumes compared to the expansion process without reheating, thus increasing $w_{\\rm rev} =  \\int vdp$. Also, note that the final temperature is equal to the intermediate temperature(T4 = T2) and is higher than it would be when compared to the compression process without reheating (*T*<sub>4</sub>  < *T*<sub>2</sub>), thus better approximating an isothermal expansion process. "
   ]
  },
  {
   "cell_type": "markdown",
   "id": "56783f49-6701-4193-b17e-9e4b8e263c39",
   "metadata": {},
   "source": [
    "```{figure} Figures/reheater.png\n",
    ":name: reheater\n",
    "\n",
    "A reheater integrated between two stages of adiabatic expansion. The reheater supplies heat to the gas at intermediate pressure, thereby increasing the amount of expansion work extracted between high and low pressures.\n",
    "```"
   ]
  },
  {
   "cell_type": "markdown",
   "id": "47e2aa11-ec37-424b-8907-4b1691560a2e",
   "metadata": {},
   "source": [
    "An idealized Brayton cycle with intercooling and reheating is shown below in {numref}`Figure %s <intercooler reheater>`, alongside a corresponding T-s diagram. As seen, there are three total pressures in this configuration, because intercooling and reheating are typically performed at the same intermediate pressure. The gray dashed line is included only for visualization purposes."
   ]
  },
  {
   "cell_type": "markdown",
   "id": "c980ce98-6847-4eab-979a-063c20c663d5",
   "metadata": {},
   "source": [
    "```{figure} Figures/intercoolreheat.png\n",
    ":name: intercooler reheater\n",
    "\n",
    "A Brayton cycle with both intercooling and reheating. There are three unique pressures in the cycle because typically intercooling and reheating are performed at the same intermediate pressure.\n",
    "```"
   ]
  },
  {
   "cell_type": "markdown",
   "id": "9f09857f-4beb-4fb9-a549-db80d121d0b5",
   "metadata": {},
   "source": [
    "(Regeneration)=\n",
    "### Regeneration"
   ]
  },
  {
   "cell_type": "markdown",
   "id": "126e62f4-8bcd-433c-a0ef-a40cdf3ebd63",
   "metadata": {},
   "source": [
    "```{index} regenerator\n",
    "```"
   ]
  },
  {
   "cell_type": "markdown",
   "id": "8d83e222-d4a7-4c00-a21e-b4521a8e2d9d",
   "metadata": {},
   "source": [
    "As seen in {numref}`Figure %s <intercooler reheater>`, the temperature leaving the low pressure turbine prior to heat rejection (state 8), is greater than the temperature leaving the high pressure compressor prior to external heat addition (state 4). This presents an opportunity to integrate internal heat recupertation between these two different temperature streams, in order to reduce the external heat addition requirement and thus boost efficiency. The heat exchanger responsible for this internal heat recuperation is called a {ref}`regenerator <genindex>`. An example of a Brayton cycle incorporating an intercooler, reheater and regenerator is shown below in {numref}`Figure %s <regenerator>`. The regenerator is a counterflow heat exchanger that operates at constant pressure and is designed to transfer the relatively high temperature heat leaving the low pressure turbine to the exit of the high temperature compressor. "
   ]
  },
  {
   "cell_type": "markdown",
   "id": "b2f5abcb-d7bb-4425-b5de-13c9778a2968",
   "metadata": {},
   "source": [
    "```{figure} Figures/regenerator.png\n",
    ":name: regenerator\n",
    "\n",
    "A Brayton cycle with both intercooling, reheating and regeneration. There are three unique pressures in the cycle because typically intercooling and reheating are performed at the same intermediate pressure. The maximim temperature leaving the cold stream is the temperature entering on the hot side, at state 8.\n",
    "```"
   ]
  },
  {
   "cell_type": "markdown",
   "id": "398c6954-d008-48d4-8a6a-d99aa84509fb",
   "metadata": {},
   "source": [
    "The resulting state following heat addition to the cold temperature side is labled state a, and from the high temperature side, state b. As seen, because both the hot and cold gases in the heat exchanger exchange heat at constant pressure, there is no change in the T-s diagram compared to a process without the regenerator, with the exception of the added states a and b.  The regenerator may be analyzed as an open system and adiabatic heat exchanger with two inlets and two exits operating at steady state. Ignoring changes in kinetic and potential energies of the fluids and disregarding any work terms, the energy conservation equation reduces to the form below."
   ]
  },
  {
   "cell_type": "markdown",
   "id": "5bda0492-3d65-4048-b2a1-d272168427a3",
   "metadata": {},
   "source": [
    "```{math}\n",
    ":label: eq_aa8\n",
    "0 =  h_{\\rm 8} + h_{\\rm 4} - h_{\\rm b} - h_{\\rm a}\n",
    "``` "
   ]
  },
  {
   "cell_type": "markdown",
   "id": "9b8dec45-a533-4e65-a230-052ed2a9cabf",
   "metadata": {},
   "source": [
    "Thus, the change in enthalpy of the hot stream leaving the turbine is equal to the enthalpy gain in the cold stream."
   ]
  },
  {
   "cell_type": "markdown",
   "id": "d97bf2f6-375d-4807-9d51-855f24ca1cd2",
   "metadata": {},
   "source": [
    "```{math}\n",
    ":label: eq_aa9\n",
    "h_{\\rm 8} - h_{\\rm b} = h_{\\rm a} -  h_{\\rm 4}\n",
    "``` "
   ]
  },
  {
   "cell_type": "markdown",
   "id": "97ab58d0-b67a-4538-9dcd-a93a98240f5c",
   "metadata": {},
   "source": [
    "The enthalpy change of each stream is also the amount of heat internally recuperated, $\\dot Q_{\\rm int}$. This amount of heat recuperation directly reduces the amount of external heat required to heat to the inlet temperature of the high pressure turbine, state 5, which in specific temrms is equal to $h_{\\rm 5}-h_{\\rm a}$."
   ]
  },
  {
   "cell_type": "markdown",
   "id": "adcba0f7-8075-4213-bd8a-1f3e8a694314",
   "metadata": {},
   "source": [
    "```{index} effectiveness, heat exchanger effectiveness factor\n",
    "```"
   ]
  },
  {
   "cell_type": "markdown",
   "id": "5e11807f-e567-46e9-b2bc-b95604d4f78d",
   "metadata": {},
   "source": [
    "To determine state properties exiting the regenerator, it is not sufficient to only apply an open system energy balance around the heat exchanger because both temperatures are usually unknown. To resolve this, the {red}`effectiveness <genindex>` of the heat exchanger is required. Effectivness ($\\epsilon_{\\rm reg}$), or {ref}`heat exchanger effectiveness factor <genindex>`, is a measure of the real heat exchanger performance relative to the maximum possible, and. The maximum possible performance is determined by recognizing that the maximum temperature that the cold fluid could be heated to is the the exit temperature of the low pressure turbine at state 8. This can be imagined by a counterflow heat exchanger where there is an infintesimally small temperature difference between hot and cold streams at each position within the heat exchanger. If it were any higher then this would violate the second law of thermodynamics because heat cannot be transferred from low to high temperature spontaneously. Mathematically, $\\epsilon_{\\rm reg}$ is described as below and is always a value between 0 and 1."
   ]
  },
  {
   "cell_type": "markdown",
   "id": "6f2f7567-d39f-4978-8de3-976682c3bdb5",
   "metadata": {},
   "source": [
    "```{math}\n",
    ":label: eq_aa10\n",
    "\\epsilon_{\\rm reg} = \\frac{T_{\\rm a} -  T_{\\rm 4}}{T_{\\rm a,max} -  T_{\\rm 4}}=\\frac{T_{\\rm a} -  T_{\\rm 4}}{T_{\\rm 8} -  T_{\\rm 4}}\n",
    "``` "
   ]
  },
  {
   "cell_type": "markdown",
   "id": "5e80987b-15e0-47d7-b309-7026c877a528",
   "metadata": {},
   "source": [
    "#### Example - Analysis of an Intercooling, Reheating and Regeneration Brayton Cycle"
   ]
  },
  {
   "cell_type": "markdown",
   "id": "79e4a34d-ee50-4d2e-8de6-5d1fd556dcdd",
   "metadata": {},
   "source": [
    "Consider an ideal gas turbine cycle using air with two stages of isentropic compression and two stages of isentropic expansion. The pressure ratio across each compressor and turbine is 8. Pressure entering the first compressor is 100 kPa, the temperature entering each compressor is 20 °C, and the temperature entering each turbine is 1100 °C. A regenerator is also incorporated with an efficiency of 70%. Determine the specific compressor power input, the specific power output from the turbine and the overall thermal efficiency. Use constant specific heats at @ 300 K – understand how to solve without using specific heats."
   ]
  },
  {
   "cell_type": "markdown",
   "id": "70249533-6bc6-44cb-8062-d04335d0fbb4",
   "metadata": {},
   "source": [
    "> **Solution** For this problem we can take advantage of the isentropic equations to evaluate the compressors and turbines, introduced in {numref}`IsentropicIdealGas` {ref}`IsentropicIdealGas`. We can use these because we are assuming constant specific heats. Since we know inlet and exit temperatures and pressure ratios the form $\\frac{T_2}{T_1} = (\\frac{p_2}{p_1})^{\\frac{k-1}{k}}$ will be most useful."
   ]
  },
  {
   "cell_type": "code",
   "execution_count": 23,
   "id": "958b5b82-98c6-460f-ac10-6b27d3803f4f",
   "metadata": {},
   "outputs": [
    {
     "name": "stdout",
     "output_type": "stream",
     "text": [
      "cp is 1010.07 kJ kg-1 K-1 and k is 1.4\n"
     ]
    }
   ],
   "source": [
    "import cantera as ct\n",
    "\n",
    "# first, lets determine k and cp for air at 300 K. We will use 1 bar pressure\n",
    "#but since air is an ideal gas where specific heats are functions of tmeperature only\n",
    "#our choice of pressure is irrelevant\n",
    "\n",
    "state1 = ct.Solution('gri30.yaml')\n",
    "state1.X = 'N2:0.79 O2: 0.21'\n",
    "state1.TP = 300,100*10**3 # K,Pa\n",
    "cp=state1.cp\n",
    "cv=state1.cv\n",
    "k = cp/cv\n",
    "print(\"cp is\", round(cp,2), \"kJ kg-1 K-1 and k is\", round(k,2))\n"
   ]
  },
  {
   "cell_type": "code",
   "execution_count": 24,
   "id": "a4437e0f-396a-4d9b-b5ac-a68d5bd84323",
   "metadata": {},
   "outputs": [],
   "source": [
    "# below is the information given in the problem statement\n",
    "\n",
    "p_ratio = 8\n",
    "T1 = 20 +273.15 #K\n",
    "T3=T1\n",
    "T5 = 1100+273.15 #K\n",
    "T7 = T5\n",
    "eta_reg = 0.7"
   ]
  },
  {
   "cell_type": "code",
   "execution_count": 26,
   "id": "bd3db293-b23a-4ddc-b00d-b0bb7e42aa07",
   "metadata": {},
   "outputs": [
    {
     "name": "stdout",
     "output_type": "stream",
     "text": [
      "The compressor exit temperatures are both 530.59 K\n"
     ]
    }
   ],
   "source": [
    "# analyzing the first compressor we can solve for the exit temperature\n",
    "\n",
    "T2 = T1*p_ratio**((k-1)/k)\n",
    "\n",
    "# since the pressure ratio is the same and air is cooled back to 20 C, T4 must be equivilent to T2\n",
    "\n",
    "T4=T2\n",
    "\n",
    "print(\"The compressor exit temperatures are both\", round(T2,2), \"K\")"
   ]
  },
  {
   "cell_type": "code",
   "execution_count": 27,
   "id": "25f55d9f-7d51-4c02-8de0-8204178bcaae",
   "metadata": {},
   "outputs": [
    {
     "name": "stdout",
     "output_type": "stream",
     "text": [
      "The turbine exit temperatures are both 758.67 K\n"
     ]
    }
   ],
   "source": [
    "# analyzing the first turbine we can solve for the exit temperature\n",
    "\n",
    "T6 = T5*(1/p_ratio)**((k-1)/k)\n",
    "\n",
    "# since the pressure ratio is the same and air is heated back to 1100 C, T8 must be equivilent to T6\n",
    "\n",
    "T8=T6\n",
    "\n",
    "print(\"The turbine exit temperatures are both\", round(T6,2), \"K\")"
   ]
  },
  {
   "cell_type": "code",
   "execution_count": 28,
   "id": "b69e87b8-6053-40ae-b824-7f6fbbfa6316",
   "metadata": {},
   "outputs": [
    {
     "name": "stdout",
     "output_type": "stream",
     "text": [
      "The regenerator exit temperatures on the cold side is 690.24 K\n"
     ]
    }
   ],
   "source": [
    "# analyzing the regenerator, the max temperature exiting the cold stream is T8\n",
    "\n",
    "Tmax = T8\n",
    "Ta = T4+eta_reg*(Tmax-T4)\n",
    "print(\"The regenerator exit temperatures on the cold side is\", round(Ta,2), \"K\")"
   ]
  },
  {
   "cell_type": "code",
   "execution_count": 29,
   "id": "50a0dbea-73ab-4d6b-933f-c490460f8e16",
   "metadata": {},
   "outputs": [
    {
     "name": "stdout",
     "output_type": "stream",
     "text": [
      "The compressor specific work input is -479656.17 kJ kg-1\n"
     ]
    }
   ],
   "source": [
    "# specific compressor power input\n",
    "\n",
    "w_12 = cp*(T1-T2)\n",
    "w_34 = cp*(T3-T4)\n",
    "w_comp = w_12+w_34\n",
    "print(\"The compressor specific work input is\", round(w_comp,2), \"kJ kg-1\")"
   ]
  },
  {
   "cell_type": "code",
   "execution_count": 30,
   "id": "36d58b5c-fa7f-46ed-943e-84dfadc79182",
   "metadata": {},
   "outputs": [
    {
     "name": "stdout",
     "output_type": "stream",
     "text": [
      "The turbine specific work output is 1241340.91 kJ kg-1\n"
     ]
    }
   ],
   "source": [
    "# specific turbine power output\n",
    "\n",
    "w_56 = cp*(T5-T6)\n",
    "w_78 = cp*(T7-T8)\n",
    "w_turb = w_56+w_78\n",
    "print(\"The turbine specific work output is\", round(w_turb,2), \"kJ kg-1\")"
   ]
  },
  {
   "cell_type": "code",
   "execution_count": 33,
   "id": "7b52f63f-2680-463f-b90e-b40669f9da6c",
   "metadata": {},
   "outputs": [
    {
     "name": "stdout",
     "output_type": "stream",
     "text": [
      "The specific heat input is 1310453.58 kJ kg-1\n"
     ]
    }
   ],
   "source": [
    "# To determine efficiency we need to know the external heat addition, heating from \n",
    "# state a to state 5 and from state 6 to state 7\n",
    "\n",
    "q_a5 = cp*(T5-Ta)\n",
    "q_67 = cp*(T7-T6)\n",
    "q_in = q_a5+q_67\n",
    "print(\"The specific heat input is\", round(q_in,2), \"kJ kg-1\")"
   ]
  },
  {
   "cell_type": "code",
   "execution_count": 34,
   "id": "24cbbdda-86ba-47e7-a9e3-3810ff0ef685",
   "metadata": {},
   "outputs": [
    {
     "name": "stdout",
     "output_type": "stream",
     "text": [
      "The thermal efficiency is 58.12 %\n"
     ]
    }
   ],
   "source": [
    "# And using the definition of thermal efficiency we can calculate it directly\n",
    "\n",
    "eta_th = (w_comp+w_turb)/q_in\n",
    "print(\"The thermal efficiency is\", round(eta_th*100,2), \"%\")"
   ]
  },
  {
   "cell_type": "markdown",
   "id": "731d5a58-845c-4092-9ede-124a1a633953",
   "metadata": {},
   "source": [
    "> Note how much higher this efficiency is compared to the prior example that didn't incorporate intercooling, reheating and regeneration. We can also see how the efficiency would compare if we were to remove the regenerator by re-calculating the external heat addition from state 4 to 5 and 6 to 7."
   ]
  },
  {
   "cell_type": "code",
   "execution_count": 36,
   "id": "49fef51c-8499-4b62-a0f2-20b187caf269",
   "metadata": {},
   "outputs": [
    {
     "name": "stdout",
     "output_type": "stream",
     "text": [
      "The thermal efficiency without regeneration is 51.75 %\n"
     ]
    }
   ],
   "source": [
    "q_45 = cp*(T5-T4)\n",
    "q_67 = cp*(T7-T6)\n",
    "q_in = q_45+q_67\n",
    "eta_th = (w_comp+w_turb)/q_in\n",
    "print(\"The thermal efficiency without regeneration is\", round(eta_th*100,2), \"%\")"
   ]
  },
  {
   "cell_type": "markdown",
   "id": "a5744a1f-cd09-4479-bb5e-e1c2f511914a",
   "metadata": {},
   "source": [
    "## Closed-System Power Cycles"
   ]
  },
  {
   "cell_type": "markdown",
   "id": "0bf41fca-7fa1-4b1f-ae43-3e380e2b4059",
   "metadata": {},
   "source": [
    "```{index} Otto cycle, Diesel cycle, Stirling cycle, Ericsson cycle\n",
    "```"
   ]
  },
  {
   "cell_type": "markdown",
   "id": "458a5c81-863e-48d8-8c3d-900c5833adf7",
   "metadata": {},
   "source": [
    "Several gas power cycles  can be modeled as a series of piston-cylinder expansion/compression processes. Like with the Brayton cycle, air-standard assumptions are often utilized and used exclusively here, rather than accounting for variation in gas species due to combusion processes. These cycles include internal combustion engines, namely the {ref}`Otto <genindex>` and {ref}`Diesel <genindex>` cycles, and external combusion engines that incorporate internal heat recuperation to improve efficiency, namely the {ref}`Stirling <genindex>` and {ref}`Ericcson <genindex>` cycles."
   ]
  },
  {
   "cell_type": "markdown",
   "id": "a910203f-9603-442d-b792-306831fa0fec",
   "metadata": {},
   "source": [
    "### Otto Cycle"
   ]
  },
  {
   "cell_type": "markdown",
   "id": "35723d58-337c-4105-b21b-65418ef24a83",
   "metadata": {},
   "source": [
    "```{index} Otto cycle\n",
    "```"
   ]
  },
  {
   "cell_type": "markdown",
   "id": "ae00ccd4-9d38-4049-a25c-23e736e00292",
   "metadata": {},
   "source": [
    "The {ref}`Otto cycle <genindex>`, also known as the ideal cycle for spark ignition engines, is typically composed of four complete strokes of a piston within a cylinder. The first two are related to compression and expansion and are closely related to the net work output, whereas the last two are necessary to exhaust combustion products and intake fresh air. The complete analysis, taking into account all four strokes and variation in gas composition, is beyond the scope of this textbook. Nevertheless, a brief explanation and description of the real process is presented. The first stroke consists of compression of air-fuel mixture to a pressure below the auto ignition point, to prevent spontaneous and uncontrolled combustion. This is referred to as the compression stroke. Once sufficiently compressed, the combustion reaction is initiated with a spark (i.e. spark plug), generating heat and increasing pressure. The resulting high pressure combustion gases force the piston down to complte the second stroke, producing useful work output. This is referred to as the power, or expansion stroke. This is followed by an exhaust stroke (third stroke) responsible for removing combustion products through an exhaust valve which are slightly higher than ambient pressure, and finally by an intake stroke (fourth stroke) where fresh air is introduced through an intake valve at slightly less than ambient pressure. Becuase combustion occurs within the piston-cyclinder, the Otto cycle is a type of internal combusion engine."
   ]
  },
  {
   "cell_type": "markdown",
   "id": "c51ab6ec-6894-4300-bb87-3449cc80ed5b",
   "metadata": {},
   "source": [
    "This four stroke process is greatly simplified using air-standard assumptions. Using air-standard assumptions, the Ideal Otto cycle consists of four internally reversible processes and two piston strokes. Because air standard assumptions are used, the heat transfer occurs from/to and external reservoir. The four processes can be summarized as:\n",
    "\n",
    "1. Isentropic compression\n",
    "2. Constant volume heat addition from an external source\n",
    "3. Isentropic expansion\n",
    "4. Constant volume heat rejection"
   ]
  },
  {
   "cell_type": "markdown",
   "id": "630bba4f-3ba0-425c-a91f-9dadd77b3f32",
   "metadata": {},
   "source": [
    "A piston-cylinder representation of the air-standard Ideal Otto Cycle is shown below in {numref}`Figure %s <otto>`. Starting on the left at state 1, compression work ($W_{\\rm 12}$) is done to the piston to move it from the bottom dead volume (BDV) to top dead volume (TDV) isentropically. Then, heat is added ($Q_{\\rm 23}$) from an external source while the piston-cylinder volume remains constant. This results in an increase in temperature and pressure. Following heat addition, the piston expands back to BDV, doing work to the surroundings ($W_{\\rm 34}$), resulting in a temperature decrease of the air. Finally, the air is further cooled by rejecting heat at constant volume to an external source, going from state 4 to state 1. Notice from the figure that there are only two different volumes throughout the cycle. Also, because both work processes are isentropic, their are only two unique entropies in the cycle. Because heat addition occurs while the volume is held constant, there is by definition no boundary work corresponding to processes 2-3 and 4-1. And because the expansion and compression processes are isentropic and reversible, they must be adiabatic. Thus, there is no heat transfer associated with processes 1-2 and 3-4."
   ]
  },
  {
   "cell_type": "markdown",
   "id": "974d6da6-793b-43c2-877a-4d852aa2f15c",
   "metadata": {},
   "source": [
    "```{figure} Figures/otto.png\n",
    ":name: otto\n",
    "\n",
    "An Ideal Otto Cycle, composed of two piston strokes and 4 unique states. \n",
    "```"
   ]
  },
  {
   "cell_type": "markdown",
   "id": "bb7d179d-bea4-4e23-b4e5-0417e46cea93",
   "metadata": {},
   "source": [
    "It is useful to visualize the Otto Cycle using both a *T-s* and *p-v* disgram to understand where all of the work and heat transfer processes are occuring. These are shown below in {numref}`Figure %s <otto chart>`. Going from state 1 to state 2, notice on the *T-s* diagram that the isentropic work process consists of a vertical line increasing in temperature, whereas on the *p-v* diagram the volume decreases from BDC to TDC. As heat is added during process 2-3, temperature increases as would be expected keeping volume constant, and notice on the *p-v* diagram this results in a vertial line corresponding to an increase in pressure. Expansion during process 3-4 is isentropic, corresponding to a vertical line decreasing in temperature as seen on the *T-s* diagram and increase in volume and corresponding decrease in pressure as seen on the *p-v* diagram. Finally, as heat is rejected, both temperature and entropy decrease, as well as pressure. "
   ]
  },
  {
   "cell_type": "markdown",
   "id": "14c0920d-5c6f-4a13-982d-85aebe88e8cc",
   "metadata": {},
   "source": [
    "```{figure} Figures/otto_chart.png\n",
    ":name: otto chart\n",
    "\n",
    "*T-s* and *p-v* diagrams for the Ideal Otto Cycle, indicating all relevent heat transfer and work terms, as well as isentropic and isochoric processes.\n",
    "```"
   ]
  },
  {
   "cell_type": "markdown",
   "id": "69395b5b-2f85-4423-b77f-f1ea16ba84fb",
   "metadata": {},
   "source": [
    "Analysis of each of the processes within the Ideal Otto cycle may be performed using the closed system energy conservation equation ({numref}`EnergyTransfer` {ref}`EnergyTransfer`), ideal gas law ({numref}`IdealGas` {ref}`IdealGas`), and when applicable the isentropic ideal gas equations from ({numref}`IsentropicIdealGas` {ref}`IsentropicIdealGas`). Starting from the closed system energy conservation equation ($\\Delta U = 0 = Q_{\\rm net} - W_{\\rm net}$) for each process, the following equations can be derived."
   ]
  },
  {
   "cell_type": "markdown",
   "id": "c9c4f74e-0d88-4525-b845-3d591280a3ec",
   "metadata": {},
   "source": [
    "Process 1-2: $\\Delta U_{\\rm 1-2} = Q_{\\rm 1-2} - W_{\\rm 1-2}$, where $Q_{\\rm 1-2} = 0$\n",
    "> thus $W_{\\rm 1-2} = U_{\\rm 1} - U_{\\rm 2} = m(u_{\\rm 1} - u_{\\rm 2}) =  mc_{\\rm v}(T_{\\rm 1} - T_{\\rm 2})$"
   ]
  },
  {
   "cell_type": "markdown",
   "id": "b9df5f85-454d-4798-871a-bf3d63f93a66",
   "metadata": {},
   "source": [
    "Process 2-3: $\\Delta U_{\\rm 2-3} = Q_{\\rm 2-3} - W_{\\rm 2-3}$, where $W_{\\rm 2-3} = 0$\n",
    "> thus $Q_{\\rm 2-3} = U_{\\rm 3} - U_{\\rm 2} = m(u_{\\rm 3} - u_{\\rm 2}) =  mc_{\\rm v}(T_{\\rm 3} - T_{\\rm 2})$"
   ]
  },
  {
   "cell_type": "markdown",
   "id": "d842e0e9-c702-4952-ae38-b278bc0ea2fc",
   "metadata": {},
   "source": [
    "Process 3-4: $\\Delta U_{\\rm 3-4} = Q_{\\rm 3-4} - W_{\\rm 3-4}$, where $Q_{\\rm 3-4} = 0$\n",
    "> thus $W_{\\rm 3-4} = U_{\\rm 3} - U_{\\rm 4} = m(u_{\\rm 3} - u_{\\rm 4}) =  mc_{\\rm v}(T_{\\rm 3} - T_{\\rm 4})$"
   ]
  },
  {
   "cell_type": "markdown",
   "id": "f05b8de5-0c5f-4a9d-8ffc-b2fc1c1b708f",
   "metadata": {},
   "source": [
    "Process 4-1: $\\Delta U_{\\rm 4-1} = Q_{\\rm 4-1} - W_{\\rm 4-1}$, where $Q_{\\rm 4-1} = 0$\n",
    "> thus $Q_{\\rm 4-1} = U_{\\rm 1} - U_{\\rm 4} = m(u_{\\rm 1} - u_{\\rm 4}) =  mc_{\\rm v}(T_{\\rm 1} - T_{\\rm 4})$"
   ]
  },
  {
   "cell_type": "markdown",
   "id": "e1f0029c-8fe7-4f3e-ae63-4aeffb9992fb",
   "metadata": {},
   "source": [
    "As seen, each heat transfer and work term associated with each process can be related to the change in internal energy (or temperature using $c_{\\rm v}$). Note that this is in contrast to the Brayton Cycle analysis where the heat transfer and work terms are related to changes in enthalpy (or temperature using $c_{\\rm p}$). The use of $c_{\\rm p}$ and $c_{\\rm p}$ depends only on whether changes in enthalpy or energy are of interest, regardless of the process being constant volume, pressure, etc. This is because of our assumption that air is an ideal gas, in which case specific heats are a function of only temperature and the meaning of the constant pressure or volume substripts is no lnger relevent. Refer to {numref}`UsingSpecificHeat` {ref}`UsingSpecificHeat` for more discussion."
   ]
  },
  {
   "cell_type": "markdown",
   "id": "69f2f046-dccf-4b14-9c7f-95a62e128cad",
   "metadata": {},
   "source": [
    "For the isentropic compression and expansion processes we can use any of the isentropic equations:$\\frac{T_2}{T_1} = (\\frac{v_1}{v_2})^{k-1}$, $\\frac{T_2}{T_1} = (\\frac{p_2}{p_1})^{\\frac{k-1}{k}}$, or $\\frac{p_2}{p_1} = (\\frac{v_1}{v_2})^{k}$. Another strategy would be to use Cantera to determine specific entropy at a known state condition, and equate this to the specific entropy at the state either before/after compression/expansion to determine relevent state properties. This would be useful is gas ideality or air-standard assumptions were not used."
   ]
  },
  {
   "cell_type": "markdown",
   "id": "ae0b2645-b5f9-4e01-9caa-3cc64c012be4",
   "metadata": {},
   "source": [
    "For all processes the ideal gas law can be applied $Pv = RT$, where *R* is the gas constant, or $R = \\frac{\\bar{R}}{M}$. But also relevent state properties could be solved directly using Cantera without having to assume gas ideality."
   ]
  },
  {
   "cell_type": "markdown",
   "id": "56bce4e0-b60a-40aa-9357-fba5bc31dbe1",
   "metadata": {},
   "source": [
    "The thermal efficiency of the Ideal Otto Cycle can be determined using {eq}`eq_a11` below once the appropriate heat transfer and work terms are solved for. The general startegy for this is to use combinations of the above equations and/or Cantera to determine the relevent state properties. "
   ]
  },
  {
   "cell_type": "markdown",
   "id": "3ffd86b0-5eae-4940-b714-08a714d9ec9e",
   "metadata": {},
   "source": [
    "```{math}\n",
    ":label: eq_aa11\n",
    "\\eta_{\\rm Otto} = \\frac{W_{\\rm net}}{Q_{\\rm in}} = \\frac{W_{\\rm 1-2}+W_{\\rm 3-4}}{Q_{\\rm in}}=\\frac{Q_{\\rm net}}{Q_{\\rm in}} = \\frac{Q_{\\rm 2-3}+Q_{\\rm 4-1}}{Q_{\\rm in}}\n",
    "``` "
   ]
  },
  {
   "cell_type": "markdown",
   "id": "08bb8ddf-df28-43e9-870a-16d7d24c182d",
   "metadata": {},
   "source": [
    "#### Example - Analysis of an Ideal Otto Cycle"
   ]
  },
  {
   "cell_type": "markdown",
   "id": "d6dcdd89-f6d8-4761-b3c3-2b1ecabff8ed",
   "metadata": {},
   "source": [
    "An ideal Otto cycle has a compression ratio of 8. At the beginning of the compression process the pressure and temperature are 95 kPa and 27 °C, respectively. 750 kJ/kg of heat is transferred to the system during the constant volume heat addition process. Determine: a) pressure and temperature at the end of the heat addition process, b) specific net work output and c) thermal efficiency of the cycle. Assume air-standard properties"
   ]
  },
  {
   "cell_type": "markdown",
   "id": "5f45241e-db00-45a7-950d-b8ac60659fd9",
   "metadata": {},
   "source": [
    "> **Solution** For this problem we can take advantage of the fact that there are only two unique volumes. The compression ratio is the ratio of the largest volume relative to the minimum. We also know the most information prior to the compression process so it will likely be most useful beginning our analysis there and then working around the cycle to determine other state properties. Since process 1-2 is isentropic we can begin with an isentropic equation to determine relevent information following compression."
   ]
  },
  {
   "cell_type": "code",
   "execution_count": 43,
   "id": "103d7be9-9526-4d7c-8836-fc26682b9c0d",
   "metadata": {},
   "outputs": [
    {
     "name": "stdout",
     "output_type": "stream",
     "text": [
      "cv is 721.89 kJ kg-1 K-1 and k is 1.4\n",
      "T2 after compression is 688.44 K\n"
     ]
    }
   ],
   "source": [
    "import cantera as ct\n",
    "\n",
    "#determine specific heat ratio\n",
    "state1 = ct.Solution('gri30.yaml')\n",
    "state1.X = 'N2:0.79 O2: 0.21'\n",
    "T1 = 27+273.15 #K\n",
    "p1 = 95*10**3 # Pa\n",
    "state1.TP = T1,p1\n",
    "cp=state1.cp\n",
    "cv=state1.cv\n",
    "k = cp/cv\n",
    "print(\"cv is\", round(cv,2), \"kJ kg-1 K-1 and k is\", round(k,2))\n",
    "\n",
    "#then we can use T2/T1 = (v1/v2)^{k-1} to solve for T2\n",
    "\n",
    "comp_ratio = 8 #(v1/v2)\n",
    "T2 = T1*(comp_ratio)**(k-1)\n",
    "print(\"T2 after compression is\", round(T2,2), \"K\")"
   ]
  },
  {
   "cell_type": "markdown",
   "id": "34752135-9fa1-405f-9086-d2e46f3ff60d",
   "metadata": {},
   "source": [
    "> At this point we can solve for *p*<sub>2</sub> using either of the other two isentropic equations. "
   ]
  },
  {
   "cell_type": "code",
   "execution_count": 45,
   "id": "f600a35f-20b0-4768-b6e3-0084a06343b5",
   "metadata": {},
   "outputs": [
    {
     "name": "stdout",
     "output_type": "stream",
     "text": [
      "P2 after compression is 1743.17 kPa\n"
     ]
    }
   ],
   "source": [
    "p2 = p1*(comp_ratio)**(k)\n",
    "print(\"p2 after compression is\", round(p2/1000,2), \"kPa\")"
   ]
  },
  {
   "cell_type": "markdown",
   "id": "4366f2c3-7efa-4388-b3f9-2da93df507a5",
   "metadata": {},
   "source": [
    "We have enough information to solve for *T*<sub>3</sub> with the information provided in the problem statement regarding specific heat transfer. $Q_{\\rm 2-3} = mc_{\\rm v}(T_{\\rm 3} - T_{\\rm 2})$"
   ]
  },
  {
   "cell_type": "code",
   "execution_count": 41,
   "id": "c3bc7fda-eeea-4bfc-9700-36c4583e9bd0",
   "metadata": {},
   "outputs": [
    {
     "name": "stdout",
     "output_type": "stream",
     "text": [
      "T3 after heat addition is 1438.44 K\n"
     ]
    }
   ],
   "source": [
    "q23 = 750 #kJ/kg\n",
    "T3 = q23 + T2\n",
    "print(\"T3 after heat addition is\", round(T3,2), \"K\")"
   ]
  },
  {
   "cell_type": "markdown",
   "id": "e57c5de4-5490-4de0-a758-67872b8ca811",
   "metadata": {},
   "source": [
    "> Recognizing that *v*<sub>2</sub> = *v*<sub>3</sub> we can use the ideal gas law to solve for *p*<sub>3</sub>, or the pressure after heat addition."
   ]
  },
  {
   "cell_type": "code",
   "execution_count": 47,
   "id": "a33bb632-4df7-4065-9f5f-f7573c7110a7",
   "metadata": {},
   "outputs": [
    {
     "name": "stdout",
     "output_type": "stream",
     "text": [
      "p3 after heat addition is 3642.22 kPa\n"
     ]
    }
   ],
   "source": [
    "#p2/T2 = p3/T3\n",
    "p3 = p2*T3/T2\n",
    "print(\"p3 after heat addition is\", round(p3/1000,2), \"kPa\")"
   ]
  },
  {
   "cell_type": "markdown",
   "id": "ee94ec80-1afa-46b5-b6df-a533df41d9b5",
   "metadata": {},
   "source": [
    "> Knowing *T*<sub>3</sub> we can again use the appropriate isentropic equation to solve for *T*<sub>4</sub>."
   ]
  },
  {
   "cell_type": "code",
   "execution_count": 48,
   "id": "f91042bd-30b8-4765-b15f-7358aec6f01d",
   "metadata": {},
   "outputs": [
    {
     "name": "stdout",
     "output_type": "stream",
     "text": [
      "T4 after expansion is 627.14 K\n"
     ]
    }
   ],
   "source": [
    "#then we can use T4/T3 = (v3/v4)^{k-1} to solve for T2\n",
    "\n",
    "comp_ratio = 8 #(v1/v2 = v4/v3)\n",
    "T4 = T3*(1/comp_ratio)**(k-1)\n",
    "print(\"T4 after expansion is\", round(T4,2), \"K\")"
   ]
  },
  {
   "cell_type": "markdown",
   "id": "275f1cab-8227-4ec1-9d5a-d5c6df45fcba",
   "metadata": {},
   "source": [
    "> The net work output can be determined by summing either the work terms or the heat transfer terms. Summing the work terms we get the following:"
   ]
  },
  {
   "cell_type": "code",
   "execution_count": 54,
   "id": "00d92930-f858-4933-b209-b3d4d2e91135",
   "metadata": {},
   "outputs": [
    {
     "name": "stdout",
     "output_type": "stream",
     "text": [
      "wnet is 305.37 kJ/kg\n"
     ]
    }
   ],
   "source": [
    "#Wnet = W12+W34\n",
    "wnet = cv*(T1-T2)+cv*(T3-T4) #J/kg/K need to divide by 1000 to get kJ\n",
    "wnet=wnet/1000\n",
    "print(\"wnet is\", round(wnet,2), \"kJ/kg\")"
   ]
  },
  {
   "cell_type": "code",
   "execution_count": 55,
   "id": "05ad2475-523f-4753-b4c8-7840240409e5",
   "metadata": {},
   "outputs": [
    {
     "name": "stdout",
     "output_type": "stream",
     "text": [
      "The thermal efficiency is 40.72 %\n"
     ]
    }
   ],
   "source": [
    "eta = wnet/q23*100 #definition of thermal efficiency\n",
    "print(\"The thermal efficiency is\", round(eta,2), \"%\")"
   ]
  },
  {
   "cell_type": "markdown",
   "id": "d6da6cad-2089-4e4f-b898-501ad7afea31",
   "metadata": {},
   "source": [
    "### Diesel Cycle"
   ]
  },
  {
   "cell_type": "markdown",
   "id": "087943e4-7eec-4f67-afd3-205b02931b03",
   "metadata": {},
   "source": [
    "```{index} Diesel cycle\n",
    "```"
   ]
  },
  {
   "cell_type": "markdown",
   "id": "e5131e9a-849b-478d-b761-6bb23706cb6b",
   "metadata": {},
   "source": [
    "The {ref}`Diesel Cycle <genindex>` is another internal combustion engine based off of reciprocating piston-cylinder compression/expansion strokes and is also known as the ideal cycle for compression ignition engines. One of the main differences compared to the Otto Cycle is that rather than compressing an air-fuel mixture in the first compression stroke, only the air is compressed. This enables the air to be compressed to a higher pressure, above the autoignition point. Then, following compression, fuel is introduced with the help of a fuel injector to initiate the combustion reaction. Thus, the fuel injector has replaced the spark plug that is used in the Otto Cycle. Because the pressure following compression is higher compared to the Otto Cycle, the net work output is typically higher. "
   ]
  },
  {
   "cell_type": "markdown",
   "id": "b04e35e5-6ddf-4bdf-a89f-9a310e3e3c35",
   "metadata": {},
   "source": [
    "Another major difference compared to the Otto Cycle is that expansion stroke begins during the combustion process. Therefore, rather than the heat transfer being approximated as a constant volume process, it is approximated as constant pressure. This results in work output done during the combusion reaction and in the remaining expansion stroke that continues following combustion."
   ]
  },
  {
   "cell_type": "markdown",
   "id": "5e69b2e8-74f3-411c-9391-b9470783d55a",
   "metadata": {},
   "source": [
    "Using air-standard assumptions, the Diesel Cycle consists of four internally reversible processes and two piston strokes. Because air standard assumptions are used, the heat transfer occurs from/to and external reservoir. The four processes can be summarized as:\n",
    "\n",
    "1. Isentropic compression\n",
    "2. Constant pressure heat addition from an external source\n",
    "3. Isentropic expansion\n",
    "4. Constant volume heat rejection"
   ]
  },
  {
   "cell_type": "markdown",
   "id": "732087fe-e73a-4ce0-a30a-32afe2a312e1",
   "metadata": {},
   "source": [
    "A piston-cylinder representation of the air-standard Diesel Cycle is shown below in {numref}`Figure %s <diesel>`. Starting on the left at state 1, compression work ($W_{\\rm 12}$) is done to the piston isentropically. Then, heat is added ($Q_{\\rm 23}$) from an external source while the piston-cylinder pressure remains constant. This results in an increase in temperature and volume and expansion work. Following heat addition, the piston continues to expand back to the initial volume, doing work to the surroundings ($W_{\\rm 34}$), resulting in a temperature decrease of the air. Finally, the air is further cooled by rejecting heat at constant volume to an external source, going from state 4 to state 1. "
   ]
  },
  {
   "cell_type": "markdown",
   "id": "0fc83b6e-8a49-41ff-86fc-1d09a040e307",
   "metadata": {},
   "source": [
    "```{figure} Figures/diesel.png\n",
    ":name: diesel\n",
    "\n",
    "An Ideal Diesel Cycle, composed of two piston strokes and 4 unique states. \n",
    "```"
   ]
  },
  {
   "cell_type": "markdown",
   "id": "c9bc2517-07cb-409b-b463-267f7c59de8d",
   "metadata": {},
   "source": [
    "It is especially useful to visualize the Diesel  Cycle using both a *T-s* and *p-v* disgram to understand where all of the work and heat transfer processes are occuring. These are shown below in {numref}`Figure %s <diesel chart>`. Going from state 1 to state 2, notice on the *T-s* diagram that the isentropic work process consists of a vertical line increasing in temperature, whereas on the *p-v* diagram the volume decreases. As heat is added during process 2-3, temperature increases as would be expected keeping pressure constant, and notice on the *p-v* diagram this results in a horizontal line corresponding to an increase in volume, and thus expansion work. Expansion during process 3-4 is isentropic, corresponding to a vertical line decreasing in temperature as seen on the *T-s* diagram and increase in volume and corresponding decrease in pressure as seen on the *p-v* diagram. Finally, as heat is rejected, both temperature and entropy decrease, as well as pressure. "
   ]
  },
  {
   "cell_type": "markdown",
   "id": "542c72c3-718c-48e3-953f-37d093fb52ef",
   "metadata": {},
   "source": [
    "```{figure} Figures/diesel_chart.png\n",
    ":name: diesel chart\n",
    "\n",
    "*T-s* and *p-v* diagrams for the Ideal Diesel Cycle, indicating all relevent heat transfer and work terms, as well as isentropic and isobaric processes. \n",
    "```"
   ]
  },
  {
   "cell_type": "markdown",
   "id": "1b11e0cd-46fc-414b-af83-df0c9c5f53b7",
   "metadata": {},
   "source": [
    "Analysis of each of the processes within the Diesel cycle may be performed in a similar manner to the Otto Cycle. I.e., using the closed system energy conservation equation ({numref}`EnergyTransfer` {ref}`EnergyTransfer`), ideal gas law ({numref}`IdealGas` {ref}`IdealGas`), and when applicable the isentropic ideal gas equations from ({numref}`IsentropicIdealGas` {ref}`IsentropicIdealGas`). The only process that is analyzed differently is process 2-3 because there are combined heat transfer and work terms. The boundary work term is straightforward to determine becuase it is assumed to occur at constant pressure, thus $W = p\\Delta V$. Starting from the closed system energy conservation equation ($\\Delta U = 0 = Q_{\\rm net} - W_{\\rm net}$) for each process, the following equations can be derived."
   ]
  },
  {
   "cell_type": "markdown",
   "id": "614c835c-4ec8-4c79-b2b9-9df8e5788747",
   "metadata": {},
   "source": [
    "Process 2-3: $\\Delta U_{\\rm 2-3} = Q_{\\rm 2-3} - W_{\\rm 2-3}$\n",
    ">where\n",
    ">$W_{\\rm 2-3} = p\\Delta V = p(V_{\\rm 3} - V_{\\rm 2}) = pm(v_{\\rm 3} - v_{\\rm 2})$"
   ]
  },
  {
   "cell_type": "markdown",
   "id": "387d4720-5362-41f5-88e5-329a58e2cd4c",
   "metadata": {},
   "source": [
    "> thus $Q_{\\rm 2-3} = (U_{\\rm 3} - U_{\\rm 2}) + p(V_{\\rm 3} - V_{\\rm 2})  = (H_{\\rm 3} - H_{\\rm 2}) =  mc_{\\rm p}(T_{\\rm 3} - T_{\\rm 2})$"
   ]
  },
  {
   "cell_type": "markdown",
   "id": "b7bfb15f-4f15-44f5-976e-d13a8a6372bc",
   "metadata": {},
   "source": [
    "As seen, the heat transfer, because it occurs at constant pressure, is equal to the change in enthalpy during process 2-3. "
   ]
  },
  {
   "cell_type": "markdown",
   "id": "d9785cdc-dcc7-4e58-ba86-5fa196d94f9e",
   "metadata": {},
   "source": [
    "Like the Otto Cycle, we can use any of the isentropic equations:$\\frac{T_2}{T_1} = (\\frac{v_1}{v_2})^{k-1}$, $\\frac{T_2}{T_1} = (\\frac{p_2}{p_1})^{\\frac{k-1}{k}}$, or $\\frac{p_2}{p_1} = (\\frac{v_1}{v_2})^{k}$ for the isentropic compression and expansion processes. Another strategy would be to use Cantera to determine specific entropy at a known state condition, and equate this to the specific entropy at the state either before/after compression/expansion to determine relevent state properties. This would be useful is gas ideality or air-standard assumptions were not used."
   ]
  },
  {
   "cell_type": "markdown",
   "id": "937d0cd4-7871-4c56-9c3f-57109ecf60a2",
   "metadata": {},
   "source": [
    "Also like the Otto Cycle, the ideal gas law can be applied for all processes. But also relevent state properties could be solved directly using Cantera without having to assume gas ideality."
   ]
  },
  {
   "cell_type": "markdown",
   "id": "69f146ee-b2d6-476f-ba68-926136ef044b",
   "metadata": {},
   "source": [
    "The thermal efficiency of the Ideal Diesel Cycle can be determined using {eq}`eq_aa12` below once the appropriate heat transfer and work terms are solved for. The general startegy for this is similar to the Otto Cycle - i.e., use combinations of the above equations and/or Cantera to determine the relevent state properties. Notice the additional work term in the numerator."
   ]
  },
  {
   "cell_type": "markdown",
   "id": "6b7536f0-3ebf-4275-9950-918cf67aaca0",
   "metadata": {
    "editable": true,
    "slideshow": {
     "slide_type": ""
    },
    "tags": []
   },
   "source": [
    "```{math}\n",
    ":label: eq_aa12\n",
    "\\eta_{\\rm Diesel} = \\frac{W_{\\rm net}}{Q_{\\rm in}} = \\frac{W_{\\rm 1-2}+W_{\\rm 2-3}+W_{\\rm 3-4}}{Q_{\\rm in}}=\\frac{Q_{\\rm net}}{Q_{\\rm in}} = \\frac{Q_{\\rm 2-3}+Q_{\\rm 4-1}}{Q_{\\rm in}}\n",
    "``` "
   ]
  },
  {
   "cell_type": "markdown",
   "id": "bff9aa78-768e-40e7-b985-12ac340b0c7d",
   "metadata": {},
   "source": [
    "#### Example - Analysis of an Ideal Diesel Cycle"
   ]
  },
  {
   "cell_type": "markdown",
   "id": "b16713ff-0451-4f37-8488-94a27b90e7d8",
   "metadata": {},
   "source": [
    "A diesel cycle has a compression ratio of 20:1 with an inlet at 95kPa, 290K and with volume of 0.5L. The maximum temperature is 1800K. Find the maximum pressure, net specific work and η. Assume air-standard properties."
   ]
  },
  {
   "cell_type": "markdown",
   "id": "0c87383a-b56e-4bfb-b588-55eab9f6bc3f",
   "metadata": {},
   "source": [
    "> **Solution** Like it is for the Otto Cycle, the compression ratio is the ratio of the largest volume relative to the minimum. We also know the most information prior to the compression process so it will likely be most useful beginning our analysis there and then working around the cycle to determine other state properties. Since process 1-2 is isentropic we can begin with an isentropic equation to determine relevent information following compression."
   ]
  },
  {
   "cell_type": "code",
   "execution_count": 77,
   "id": "0bb0b3f9-58b1-436d-a290-909a6601654d",
   "metadata": {},
   "outputs": [
    {
     "name": "stdout",
     "output_type": "stream",
     "text": [
      "cv is 720.84 kJ kg-1 K-1 and k is 1.4\n",
      "T2 after compression is 960.61 K\n"
     ]
    }
   ],
   "source": [
    "import cantera as ct\n",
    "\n",
    "#determine specific heat ratio\n",
    "state1 = ct.Solution('gri30.yaml')\n",
    "state1.X = 'N2:0.79 O2: 0.21'\n",
    "T1 = 290 #K\n",
    "p1 = 95*10**3 # Pa\n",
    "state1.TP = T1,p1\n",
    "cp=state1.cp\n",
    "cv=state1.cv\n",
    "k = cp/cv\n",
    "print(\"cv is\", round(cv,2), \"kJ kg-1 K-1 and k is\", round(k,2))\n",
    "\n",
    "#then we can use T2/T1 = (v1/v2)^{k-1} to solve for T2\n",
    "\n",
    "comp_ratio = 20 #(v1/v2)\n",
    "T2 = T1*(comp_ratio)**(k-1)\n",
    "print(\"T2 after compression is\", round(T2,2), \"K\")"
   ]
  },
  {
   "cell_type": "markdown",
   "id": "0c179665-5430-401b-8101-bc0110f8c1c1",
   "metadata": {},
   "source": [
    "> At this point we can solve for *p*<sub>2</sub> using either of the other two isentropic equations. "
   ]
  },
  {
   "cell_type": "code",
   "execution_count": 78,
   "id": "c67ef7bc-1c9a-4911-aaff-c76e792e4e67",
   "metadata": {},
   "outputs": [
    {
     "name": "stdout",
     "output_type": "stream",
     "text": [
      "p2 after compression is 6293.64 kPa. This is the highest pressure in the cycle.\n"
     ]
    }
   ],
   "source": [
    "p2 = p1*(comp_ratio)**(k)\n",
    "print(\"p2 after compression is\", round(p2/1000,2), \"kPa. This is the highest pressure in the cycle.\")"
   ]
  },
  {
   "cell_type": "markdown",
   "id": "f77581da-610e-4457-af06-78bec5f5e79a",
   "metadata": {},
   "source": [
    "> Knowing this we can equate this pressure to *p*<sub>3</sub> because the heat addition occurs at constant pressure. Also, the highest temperature occurs after heat addition, at state 3, so we know two state properties at state 3. We can solve for *v*<sub>3</sub> knowing *p*<sub>3</sub> and *T*<sub>3</sub>."
   ]
  },
  {
   "cell_type": "code",
   "execution_count": 82,
   "id": "fdc34757-a8b9-4698-b6a1-f1b96741ca62",
   "metadata": {},
   "outputs": [
    {
     "name": "stdout",
     "output_type": "stream",
     "text": [
      "v3 after combustion is 0.08 m3 kg-1\n"
     ]
    }
   ],
   "source": [
    "R_bar = 8.314 #kJ/kmol/K\n",
    "M = 28.99 # kg/kmol\n",
    "p3=p2 #constant pressure heat addition\n",
    "T3 = 1800 #K provided in problem statement as maximum cycle temperature\n",
    "v3 = (R_bar/M*T3)/(p3/1000) #m3/kg\n",
    "print(\"v3 after combustion is\", round(v3,2), \"m3 kg-1\")"
   ]
  },
  {
   "cell_type": "markdown",
   "id": "278ea71e-d929-4fc2-9227-a8afa4f1c075",
   "metadata": {},
   "source": [
    "Knowing that the final expansion process is isentropic, we also know the specific entropy at state 3, and can equate this to specific entropy at state 4. But we don't know any other state properties at state 4. However, we also know that *v*<sub>4</sub> = *v*<sub>1</sub> and we know two state properties at state 1 and can therefore determine *v*<sub>4</sub>. "
   ]
  },
  {
   "cell_type": "code",
   "execution_count": 83,
   "id": "c0d973ab-e2b4-4acb-aad9-fcf346a99e07",
   "metadata": {},
   "outputs": [
    {
     "name": "stdout",
     "output_type": "stream",
     "text": [
      "v1 and v4 are 0.88 m3 kg-1\n"
     ]
    }
   ],
   "source": [
    "#use ideal gas law to determine v1/v4\n",
    "R_bar = 8.314 #kJ/kmol/K\n",
    "M = 28.99 # kg/kmol\n",
    "v1=(R_bar/M*T1)/(p1/1000) #kg\n",
    "v4=v1\n",
    "print(\"v1 and v4 are\", round(v1,2), \"m3 kg-1\")"
   ]
  },
  {
   "cell_type": "markdown",
   "id": "aec44add-9ba2-475e-98a7-5e5b7c29cbc0",
   "metadata": {},
   "source": [
    "> We can use an isentropic equation to solve for *T*<sub>4</sub>."
   ]
  },
  {
   "cell_type": "code",
   "execution_count": 85,
   "id": "651a0095-4503-48f9-a916-fc3a206653d4",
   "metadata": {},
   "outputs": [
    {
     "name": "stdout",
     "output_type": "stream",
     "text": [
      "T4 after expansion is 698.49 K\n"
     ]
    }
   ],
   "source": [
    "T4 = T3*(v3/v4)**(k-1)\n",
    "print(\"T4 after expansion is\", round(T4,2), \"K\")"
   ]
  },
  {
   "cell_type": "markdown",
   "id": "9eebf76e-a3bc-43da-81f5-4eef92a6fc04",
   "metadata": {},
   "source": [
    "> The net work output can be determined by summing either the work terms or the heat transfer terms. We also need the mass, which can be determined from the given volume at state 1. Summing the work terms we get the following:"
   ]
  },
  {
   "cell_type": "code",
   "execution_count": 89,
   "id": "6ad838b8-fb01-4256-93b7-a1ecba37221d",
   "metadata": {},
   "outputs": [
    {
     "name": "stdout",
     "output_type": "stream",
     "text": [
      "Wnet is 0.31 kJ\n"
     ]
    }
   ],
   "source": [
    "V1 = 0.5 #L\n",
    "V1 = V1*.001 # to get m3\n",
    "m=p1/1000*V1/(R_bar/M*T1) #kg\n",
    "\n",
    "#Wnet = W12+W23+W34\n",
    "#v1/v2 = comp_ratio\n",
    "\n",
    "v2 = v1/comp_ratio\n",
    "wnet = cv*(T1-T2)+p2*(v3-v2)+cv*(T3-T4) #J/kg/K need to divide by 1000 to get kJ\n",
    "wnet=wnet/1000\n",
    "Wnet = m*wnet\n",
    "print(\"Wnet is\", round(Wnet,2), \"kJ\")"
   ]
  },
  {
   "cell_type": "code",
   "execution_count": 90,
   "id": "7d4321a3-8618-481e-940e-c3096fce5a96",
   "metadata": {},
   "outputs": [
    {
     "name": "stdout",
     "output_type": "stream",
     "text": [
      "0.4837295142031297\n",
      "The thermal efficiency is 65.1 %\n"
     ]
    }
   ],
   "source": [
    "Q23 = m*cp*(T3-T2)/1000\n",
    "print (Q23)\n",
    "eta = Wnet/Q23*100 #definition of thermal efficiency\n",
    "print(\"The thermal efficiency is\", round(eta,2), \"%\")"
   ]
  },
  {
   "cell_type": "markdown",
   "id": "e60d4e85-c30a-4629-8dd6-e9ba9df26c8b",
   "metadata": {
    "editable": true,
    "slideshow": {
     "slide_type": ""
    },
    "tags": []
   },
   "source": [
    "#### Programming Example - Plotting \"Analysis of an Ideal Diesel Cycle\""
   ]
  },
  {
   "cell_type": "markdown",
   "id": "caed97ab-6786-4b12-a3a6-c7915df262c0",
   "metadata": {
    "editable": true,
    "slideshow": {
     "slide_type": ""
    },
    "tags": []
   },
   "source": [
    "Plot the temperature versus specific entropy and pressure versus specific volume for the prior mentioned Diesel Cycle. Use Cantera rather than assuming air-standard properties. \"A diesel cycle has a compression ratio of 20:1 with an inlet at 95kPa, 290K. The maximum temperature is 1800K.\""
   ]
  },
  {
   "cell_type": "markdown",
   "id": "9330af91-ca6a-4d1b-aaec-380ea91cd84f",
   "metadata": {
    "editable": true,
    "slideshow": {
     "slide_type": ""
    },
    "tags": []
   },
   "source": [
    "> **Solution** We will use Cantera rather than ideal gas law and use Cantera to determine specific entropies for isentropic processes rather than using isentropic equations. We will need to generate plots ranging from extreme values at each state, and can use functions and lists to help us. But first, we should find the *T*, *s*, *p* and *v* at each state to determine our bounds. Starting with state 1."
   ]
  },
  {
   "cell_type": "code",
   "execution_count": 99,
   "id": "53cfc158-40e8-4998-af18-099cc51a33ea",
   "metadata": {
    "editable": true,
    "slideshow": {
     "slide_type": ""
    },
    "tags": []
   },
   "outputs": [
    {
     "name": "stdout",
     "output_type": "stream",
     "text": [
      "T1 =  290 K, s1 =  6876.03 J kg-1 K-1, p1 =  95000 Pa, v1 =  0.88 m3 kg-1\n"
     ]
    }
   ],
   "source": [
    "import cantera as ct\n",
    "\n",
    "#state1\n",
    "state1 = ct.Solution('gri30.yaml')\n",
    "state1.X = 'N2:0.79 O2: 0.21'\n",
    "T1 = 290 #K\n",
    "p1 = 95*10**3 # Pa\n",
    "state1.TP = T1,p1\n",
    "s1=state1.SP[0]\n",
    "v1 = state1.SV[1]\n",
    "\n",
    "print(\"T1 = \", round(T1,2), \"K,\", \"s1 = \", round(s1,2), \"J kg-1 K-1,\", \"p1 = \", round(p1,2), \"Pa,\", \"v1 = \", round(v1,2), \"m3 kg-1\" )"
   ]
  },
  {
   "cell_type": "code",
   "execution_count": 102,
   "id": "08b56de5-bd49-4f1d-b63d-ef58618b101a",
   "metadata": {
    "editable": true,
    "slideshow": {
     "slide_type": ""
    },
    "tags": []
   },
   "outputs": [
    {
     "name": "stdout",
     "output_type": "stream",
     "text": [
      "T2 =  900.64 K, s2 =  6876.03 J kg-1 K-1, p2 =  5900719.94 Pa, v2 =  0.04 m3 kg-1\n"
     ]
    }
   ],
   "source": [
    "#state 2\n",
    "state2 = ct.Solution('gri30.yaml')\n",
    "state2.X = 'N2:0.79 O2: 0.21'\n",
    "comp_ratio = 20\n",
    "s2=s1\n",
    "v2=v1/comp_ratio\n",
    "state2.SV = s2,v2\n",
    "p2=state2.SP[1]\n",
    "T2 = state2.TP[0]\n",
    "\n",
    "print(\"T2 = \", round(T2,2), \"K,\", \"s2 = \", round(s2,2), \"J kg-1 K-1,\", \"p2 = \", round(p2,2), \"Pa,\", \"v2 = \", round(v2,2), \"m3 kg-1\" )"
   ]
  },
  {
   "cell_type": "code",
   "execution_count": 103,
   "id": "404c6e8c-219a-4566-b40a-8b97b650a141",
   "metadata": {},
   "outputs": [
    {
     "name": "stdout",
     "output_type": "stream",
     "text": [
      "T3 =  1800 K, s3 =  7701.0 J kg-1 K-1, p3 =  5900719.94 Pa, v3 =  0.09 m3 kg-1\n"
     ]
    }
   ],
   "source": [
    "#state 3\n",
    "state3 = ct.Solution('gri30.yaml')\n",
    "state3.X = 'N2:0.79 O2: 0.21'\n",
    "p3=p2\n",
    "T3 = 1800 #K\n",
    "state3.TP = T3,p3\n",
    "s3=state3.SP[0]\n",
    "v3 = state3.SV[1]\n",
    "\n",
    "print(\"T3 = \", round(T3,2), \"K,\", \"s3 = \", round(s3,2), \"J kg-1 K-1,\", \"p3 = \", round(p3,2), \"Pa,\", \"v3 = \", round(v3,2), \"m3 kg-1\" )"
   ]
  },
  {
   "cell_type": "code",
   "execution_count": 105,
   "id": "0f155372-6263-492d-a84f-a09436663936",
   "metadata": {},
   "outputs": [
    {
     "name": "stdout",
     "output_type": "stream",
     "text": [
      "T4 =  860.28 K, s4 =  7701.0 J kg-1 K-1, p4 =  281816.92 Pa, v4 =  0.88 m3 kg-1\n"
     ]
    }
   ],
   "source": [
    "#state 4\n",
    "state4 = ct.Solution('gri30.yaml')\n",
    "state4.X = 'N2:0.79 O2: 0.21'\n",
    "s4=s3\n",
    "v4 = v1\n",
    "state4.SV = s4,v4\n",
    "T4=state4.TP[0]\n",
    "p4 = state4.TP[1]\n",
    "\n",
    "print(\"T4 = \", round(T4,2), \"K,\", \"s4 = \", round(s4,2), \"J kg-1 K-1,\", \"p4 = \", round(p4,2), \"Pa,\", \"v4 = \", round(v4,2), \"m3 kg-1\" )"
   ]
  },
  {
   "cell_type": "code",
   "execution_count": 201,
   "id": "6b21d99b-8a5b-4871-b658-e1bc0cda154b",
   "metadata": {
    "editable": true,
    "slideshow": {
     "slide_type": ""
    },
    "tags": []
   },
   "outputs": [
    {
     "data": {
      "image/png": "[encoded data removed]",
      "text/plain": [
       "<Figure size 640x480 with 2 Axes>"
      ]
     },
     "metadata": {},
     "output_type": "display_data"
    }
   ],
   "source": [
    "#process 1-2\n",
    "import numpy as np\n",
    "from scipy.optimize import minimize\n",
    "import matplotlib.pyplot as plt\n",
    "import matplotlib.patches as mpatches\n",
    "import warnings\n",
    "warnings.filterwarnings('ignore')\n",
    "warnings.simplefilter('ignore')\n",
    "\n",
    "temps_12 = np.arange(T1,T2+(T2-T1)/50,(T2-T1)/50) #50 steps between T1 and T2\n",
    "# because entropy is constant, we just need a list of entropies with the same length\n",
    "entropies_12= np.full(\n",
    "  shape=len(temps_12),\n",
    "  fill_value=s1\n",
    ")\n",
    "pres_12 = np.arange(p1,p2+(p2-p1)/50,(p2-p1)/50) #50 steps between p1 and p2\n",
    "index = np.arange(0,len(pres_12),1)\n",
    "#now we need to use Cantera to determine specific volumes for each of these pressure values\n",
    "def vol(i):\n",
    "    state12 = ct.Solution('gri30.yaml')\n",
    "    state12.X = 'N2:0.79 O2: 0.21'\n",
    "    T = temps_12[i] #K\n",
    "    s = entropies_12[i]\n",
    "    vguess = v1\n",
    "    def solve(v):\n",
    "        v=v[0]\n",
    "        state12.SV = s,v # needed because there is no ST option to set state in Cantera. We will have to solve for v iterively knowing the T and P\n",
    "        Tsolve = state12.TP[0]\n",
    "        return abs(Tsolve-T)\n",
    "    bnds = [(v2,v1)]\n",
    "    res = minimize(solve, vguess, method='SLSQP',bounds=bnds)\n",
    "    return res.x[0]\n",
    "vols_12=[]\n",
    "for i in range(len(pres_12)):\n",
    "    vols_12.append(vol(i))\n",
    "\n",
    "\n",
    "fig=plt.figure()\n",
    "ax1= fig.add_subplot(1,2,1) # add one subplot\n",
    "ax2= fig.add_subplot(1,2,2) # add a second subplot\n",
    "\n",
    "ax1.plot(entropies_12,temps_12,color='orange')\n",
    "ax2.plot(vols_12,pres_12,color='blue')\n",
    "\n",
    "ax1.scatter(entropies_12[0],temps_12[0],color='orange')\n",
    "ax1.scatter(entropies_12[-1],temps_12[-1],color='orange')\n",
    "ax2.scatter(vols_12[0],pres_12[0],color='blue')\n",
    "ax2.scatter(vols_12[-1],pres_12[-1],color='blue')\n",
    "\n",
    "x1_tail = entropies_12[0]\n",
    "y1_tail = temps_12[25]\n",
    "x1_head = x1_tail\n",
    "y1_head = temps_12[26]\n",
    "arrow1 = mpatches.FancyArrowPatch((x1_tail, y1_tail), (x1_head, y1_head),\n",
    "                                 mutation_scale=20,color='orange')\n",
    "ax1.add_patch(arrow1)\n",
    "\n",
    "x2_tail = vols_12[25]\n",
    "y2_tail = pres_12[25]\n",
    "x2_head = vols_12[26]\n",
    "y2_head = pres_12[26]\n",
    "arrow2 = mpatches.FancyArrowPatch((x2_tail, y2_tail), (x2_head, y2_head),\n",
    "                                 mutation_scale=20,color='blue')\n",
    "ax2.add_patch(arrow2)\n",
    "\n",
    "ax1.text(entropies_12[0]+1,temps_12[0], \"1\", color='orange')\n",
    "ax1.text(entropies_12[-1]+1,temps_12[-1], \"2\", color='orange')\n",
    "ax2.text(vols_12[0]+.02,pres_12[0], \"1\", color='blue')\n",
    "ax2.text(vols_12[-1]+.02,pres_12[-1], \"2\", color='blue')\n",
    "\n",
    "ax1.set_xlabel('Specific Entropy $({\\\\mathrm{J kg^{-1}K^{-1}})}$',  fontsize=12)\n",
    "ax2.set_xlabel('Specific Volume $(\\\\mathrm{m^{3}})$',  fontsize=12)\n",
    "\n",
    "ax1.set_ylabel('Temperature $(\\\\mathrm{^\\\\circ C})$',  fontsize=12)\n",
    "ax2.set_ylabel('Pressure $(\\\\mathrm{Pa})$',  fontsize=12)\n",
    "#ax1.set_ylabel('$c_{\\\\mathrm{p}}$ $({\\\\mathrm{kJ kg^{-1}K^{-1}})}$',  fontsize=12)\n",
    "plt.subplots_adjust(wspace=0.5) # add spacing between subplots\n",
    "ax1.set_title('T-s')\n",
    "ax2.set_title('p-v')\n",
    "\n",
    "plt.savefig('Figures/diesel_cantera_12.png')# used to save the figure if you desire\n",
    "plt.show()  "
   ]
  },
  {
   "cell_type": "code",
   "execution_count": 217,
   "id": "be9c94f6-3644-4b98-a27b-dd8ea5a82797",
   "metadata": {
    "editable": true,
    "slideshow": {
     "slide_type": ""
    },
    "tags": []
   },
   "outputs": [
    {
     "data": {
      "image/png": "[encoded data removed]",
      "text/plain": [
       "<Figure size 640x480 with 2 Axes>"
      ]
     },
     "metadata": {},
     "output_type": "display_data"
    }
   ],
   "source": [
    "#process 2-3\n",
    "import numpy as np\n",
    "from scipy.optimize import minimize\n",
    "import matplotlib.pyplot as plt\n",
    "import matplotlib.patches as mpatches\n",
    "import warnings\n",
    "warnings.filterwarnings('ignore')\n",
    "warnings.simplefilter('ignore')\n",
    "\n",
    "temps_23 = np.arange(T2,T3+(T3-T2)/50,(T3-T2)/50) #50 steps between T2 and T3\n",
    "# because pressure is constant, we can make a list of pressures with the same length\n",
    "pres_23= np.full(\n",
    "  shape=len(temps_23),\n",
    "  fill_value=p2\n",
    ")\n",
    "#now we need to use Cantera to determine specific volumes and entropies for each temperature and pressure value\n",
    "def solve_states(i):\n",
    "    state23 = ct.Solution('gri30.yaml')\n",
    "    state23.X = 'N2:0.79 O2: 0.21'\n",
    "    state23.TP = i,p2\n",
    "    return state23.SV\n",
    "\n",
    "entropies_23=[]\n",
    "vols_23=[]\n",
    "for i in temps_23:\n",
    "    entropies_23.append(solve_states(i)[0])\n",
    "    vols_23.append(solve_states(i)[1])\n",
    "\n",
    "fig=plt.figure()\n",
    "ax1= fig.add_subplot(1,2,1) # add one subplot\n",
    "ax2= fig.add_subplot(1,2,2) # add a second subplot\n",
    "\n",
    "ax1.plot(entropies_12,temps_12,color='orange')\n",
    "ax1.plot(entropies_23,temps_23,color='orange')\n",
    "ax2.plot(vols_12,pres_12,color='blue')\n",
    "ax2.plot(vols_23,pres_23,color='blue')\n",
    "\n",
    "ax1.scatter(entropies_12[0],temps_12[0],color='orange')\n",
    "ax1.scatter(entropies_12[-1],temps_12[-1],color='orange')\n",
    "ax1.scatter(entropies_23[-1],temps_23[-1],color='orange')\n",
    "ax2.scatter(vols_12[0],pres_12[0],color='blue')\n",
    "ax2.scatter(vols_12[-1],pres_12[-1],color='blue')\n",
    "ax2.scatter(vols_23[-1],pres_23[-1],color='blue')\n",
    "\n",
    "x1_tail = entropies_12[0]\n",
    "y1_tail = temps_12[25]\n",
    "x1_head = x1_tail\n",
    "y1_head = temps_12[26]\n",
    "arrow1 = mpatches.FancyArrowPatch((x1_tail, y1_tail), (x1_head, y1_head),\n",
    "                                 mutation_scale=20,color='orange')\n",
    "ax1.add_patch(arrow1)\n",
    "\n",
    "x1_tail = entropies_23[25]\n",
    "y1_tail = temps_23[25]\n",
    "x1_head = entropies_23[26]\n",
    "y1_head = temps_23[26]\n",
    "arrow1 = mpatches.FancyArrowPatch((x1_tail, y1_tail), (x1_head, y1_head),\n",
    "                                 mutation_scale=20,color='orange')\n",
    "ax1.add_patch(arrow1)\n",
    "\n",
    "x2_tail = vols_12[25]\n",
    "y2_tail = pres_12[25]\n",
    "x2_head = vols_12[26]\n",
    "y2_head = pres_12[26]\n",
    "arrow2 = mpatches.FancyArrowPatch((x2_tail, y2_tail), (x2_head, y2_head),\n",
    "                                 mutation_scale=20,color='blue')\n",
    "ax2.add_patch(arrow2)\n",
    "\n",
    "\n",
    "\n",
    "ax1.text(entropies_12[0]+10,temps_12[0], \"1\", color='orange')\n",
    "ax1.text(entropies_12[-1]+2,temps_12[-1]+35, \"2\", color='orange')\n",
    "ax1.text(entropies_23[-1]+2,temps_23[-1]+25, \"3\", color='orange')\n",
    "ax2.text(vols_12[0],pres_12[0]+.1e6, \"1\", color='blue')\n",
    "ax2.text(vols_12[-1],pres_12[-1]+.1e6, \"2\", color='blue')\n",
    "ax2.text(vols_23[-1],pres_23[-1]+.1e6, \"3\", color='blue')\n",
    "\n",
    "ax1.set_xlabel('Specific Entropy $({\\\\mathrm{J kg^{-1}K^{-1}})}$',  fontsize=12)\n",
    "ax2.set_xlabel('Specific Volume $(\\\\mathrm{m^{3}})$',  fontsize=12)\n",
    "\n",
    "ax1.set_ylabel('Temperature $(\\\\mathrm{^\\\\circ C})$',  fontsize=12)\n",
    "ax2.set_ylabel('Pressure $(\\\\mathrm{Pa})$',  fontsize=12)\n",
    "#ax1.set_ylabel('$c_{\\\\mathrm{p}}$ $({\\\\mathrm{kJ kg^{-1}K^{-1}})}$',  fontsize=12)\n",
    "plt.subplots_adjust(wspace=0.5) # add spacing between subplots\n",
    "ax1.set_title('T-s')\n",
    "ax2.set_title('p-v')\n",
    "\n",
    "plt.savefig('Figures/diesel_cantera_123.png')# used to save the figure if you desire\n",
    "plt.show()  \n",
    "    \n"
   ]
  },
  {
   "cell_type": "code",
   "execution_count": 221,
   "id": "9a630119-cd24-49b6-9c3b-154f5d2cbfa6",
   "metadata": {
    "editable": true,
    "slideshow": {
     "slide_type": ""
    },
    "tags": []
   },
   "outputs": [
    {
     "data": {
      "image/png": "[encoded data removed]",
      "text/plain": [
       "<Figure size 640x480 with 2 Axes>"
      ]
     },
     "metadata": {},
     "output_type": "display_data"
    }
   ],
   "source": [
    "#process 3-4\n",
    "import numpy as np\n",
    "from scipy.optimize import minimize\n",
    "import matplotlib.pyplot as plt\n",
    "import matplotlib.patches as mpatches\n",
    "import warnings\n",
    "warnings.filterwarnings('ignore')\n",
    "warnings.simplefilter('ignore')\n",
    "\n",
    "temps_34 = np.arange(T3,T4+(T4-T3)/50,(T4-T3)/50) #50 steps between T3 and T4\n",
    "# because entropy is constant, we just need a list of entropies with the same length\n",
    "entropies_34= np.full(\n",
    "  shape=len(temps_34),\n",
    "  fill_value=s3\n",
    ")\n",
    "pres_34 = np.arange(p3,p4+(p4-p3)/50,(p4-p3)/50) #50 steps between p3 and p4\n",
    "#now we need to use Cantera to determine specific volumes for each of these pressure values\n",
    "def vol(i):\n",
    "    state34 = ct.Solution('gri30.yaml')\n",
    "    state34.X = 'N2:0.79 O2: 0.21'\n",
    "    T = temps_34[i] #K\n",
    "    s = entropies_34[i]\n",
    "    vguess = v3\n",
    "    def solve(v):\n",
    "        v=v[0]\n",
    "        state34.SV = s,v # needed because there is no ST option to set state in Cantera. We will have to solve for v iterively knowing the T and P\n",
    "        Tsolve = state34.TP[0]\n",
    "        return abs(Tsolve-T)\n",
    "    bnds = [(v3,v4)]\n",
    "    res = minimize(solve, vguess, method='SLSQP',bounds=bnds)\n",
    "    return res.x[0]\n",
    "vols_34=[]\n",
    "for i in range(len(pres_34)):\n",
    "    vols_34.append(vol(i))\n",
    "    \n",
    "fig=plt.figure()\n",
    "ax1= fig.add_subplot(1,2,1) # add one subplot\n",
    "ax2= fig.add_subplot(1,2,2) # add a second subplot\n",
    "\n",
    "ax1.plot(entropies_12,temps_12,color='orange')\n",
    "ax1.plot(entropies_23,temps_23,color='orange')\n",
    "ax1.plot(entropies_34,temps_34,color='orange')\n",
    "ax2.plot(vols_12,pres_12,color='blue')\n",
    "ax2.plot(vols_23,pres_23,color='blue')\n",
    "ax2.plot(vols_34,pres_34,color='blue')\n",
    "\n",
    "ax1.scatter(entropies_12[0],temps_12[0],color='orange')\n",
    "ax1.scatter(entropies_12[-1],temps_12[-1],color='orange')\n",
    "ax1.scatter(entropies_23[-1],temps_23[-1],color='orange')\n",
    "ax1.scatter(entropies_34[-1],temps_34[-1],color='orange')\n",
    "ax2.scatter(vols_12[0],pres_12[0],color='blue')\n",
    "ax2.scatter(vols_12[-1],pres_12[-1],color='blue')\n",
    "ax2.scatter(vols_23[-1],pres_23[-1],color='blue')\n",
    "ax2.scatter(vols_34[-1],pres_34[-1],color='blue')\n",
    "\n",
    "x1_tail = entropies_12[0]\n",
    "y1_tail = temps_12[25]\n",
    "x1_head = x1_tail\n",
    "y1_head = temps_12[26]\n",
    "arrow1 = mpatches.FancyArrowPatch((x1_tail, y1_tail), (x1_head, y1_head),\n",
    "                                 mutation_scale=20,color='orange')\n",
    "ax1.add_patch(arrow1)\n",
    "\n",
    "x1_tail = entropies_23[25]\n",
    "y1_tail = temps_23[25]\n",
    "x1_head = entropies_23[26]\n",
    "y1_head = temps_23[26]\n",
    "arrow1 = mpatches.FancyArrowPatch((x1_tail, y1_tail), (x1_head, y1_head),\n",
    "                                 mutation_scale=20,color='orange')\n",
    "ax1.add_patch(arrow1)\n",
    "\n",
    "x1_tail = entropies_34[0]\n",
    "y1_tail = temps_34[25]\n",
    "x1_head = x1_tail\n",
    "y1_head = temps_34[26]\n",
    "arrow1 = mpatches.FancyArrowPatch((x1_tail, y1_tail), (x1_head, y1_head),\n",
    "                                 mutation_scale=20,color='orange')\n",
    "ax1.add_patch(arrow1)\n",
    "\n",
    "x2_tail = vols_12[25]\n",
    "y2_tail = pres_12[25]\n",
    "x2_head = vols_12[26]\n",
    "y2_head = pres_12[26]\n",
    "arrow2 = mpatches.FancyArrowPatch((x2_tail, y2_tail), (x2_head, y2_head),\n",
    "                                 mutation_scale=20,color='blue')\n",
    "ax2.add_patch(arrow2)\n",
    "\n",
    "x2_tail = vols_34[25]\n",
    "y2_tail = pres_34[25]\n",
    "x2_head = vols_34[26]\n",
    "y2_head = pres_34[26]\n",
    "arrow2 = mpatches.FancyArrowPatch((x2_tail, y2_tail), (x2_head, y2_head),\n",
    "                                 mutation_scale=20,color='blue')\n",
    "ax2.add_patch(arrow2)\n",
    "\n",
    "ax1.text(entropies_12[0]+10,temps_12[0], \"1\", color='orange')\n",
    "ax1.text(entropies_12[-1]+2,temps_12[-1]+35, \"2\", color='orange')\n",
    "ax1.text(entropies_23[-1]+2,temps_23[-1]+25, \"3\", color='orange')\n",
    "ax1.text(entropies_34[-1]+2,temps_34[-1]+25, \"4\", color='orange')\n",
    "ax2.text(vols_12[0],pres_12[0]-.3e6, \"1\", color='blue')\n",
    "ax2.text(vols_12[-1],pres_12[-1]+.1e6, \"2\", color='blue')\n",
    "ax2.text(vols_23[-1],pres_23[-1]+.1e6, \"3\", color='blue')\n",
    "ax2.text(vols_34[-1],pres_34[-1]+.1e6, \"4\", color='blue')\n",
    "\n",
    "ax1.set_xlabel('Specific Entropy $({\\\\mathrm{J kg^{-1}K^{-1}})}$',  fontsize=12)\n",
    "ax2.set_xlabel('Specific Volume $(\\\\mathrm{m^{3}})$',  fontsize=12)\n",
    "\n",
    "ax1.set_ylabel('Temperature $(\\\\mathrm{^\\\\circ C})$',  fontsize=12)\n",
    "ax2.set_ylabel('Pressure $(\\\\mathrm{Pa})$',  fontsize=12)\n",
    "#ax1.set_ylabel('$c_{\\\\mathrm{p}}$ $({\\\\mathrm{kJ kg^{-1}K^{-1}})}$',  fontsize=12)\n",
    "plt.subplots_adjust(wspace=0.5) # add spacing between subplots\n",
    "ax1.set_title('T-s')\n",
    "ax2.set_title('p-v')\n",
    "\n",
    "plt.savefig('Figures/diesel_cantera_1234.png')# used to save the figure if you desire\n",
    "plt.show()  "
   ]
  },
  {
   "cell_type": "code",
   "execution_count": 241,
   "id": "ed3e82a5-040b-4469-93d2-05787317667b",
   "metadata": {
    "editable": true,
    "slideshow": {
     "slide_type": ""
    },
    "tags": []
   },
   "outputs": [
    {
     "data": {
      "image/png": "[encoded data removed]",
      "text/plain": [
       "<Figure size 640x480 with 2 Axes>"
      ]
     },
     "metadata": {},
     "output_type": "display_data"
    }
   ],
   "source": [
    "#process 4-1\n",
    "import numpy as np\n",
    "from scipy.optimize import minimize\n",
    "import matplotlib.pyplot as plt\n",
    "import matplotlib.patches as mpatches\n",
    "import warnings\n",
    "warnings.filterwarnings('ignore')\n",
    "warnings.simplefilter('ignore')\n",
    "\n",
    "temps_41 = np.arange(T4,T1+(T1-T4)/50,(T1-T4)/50) #50 steps between T3 and T4\n",
    "# because volume is constant, we can make a list of specific volumes with the same length\n",
    "vols_41= np.full(\n",
    "  shape=len(temps_41),\n",
    "  fill_value=v4\n",
    ")\n",
    "\n",
    "pres_41 = np.arange(p4,p1+2*(p1-p4)/50,(p1-p4)/50) #50 steps between p1 and p2\n",
    "\n",
    "#now we need to use Cantera to determine specific entropy for each of these temperature pressure pairs\n",
    "def entropy(i):\n",
    "    state41 = ct.Solution('gri30.yaml')\n",
    "    state41.X = 'N2:0.79 O2: 0.21'\n",
    "    T = temps_41[i] #K\n",
    "    v = vols_41[i]\n",
    "    sguess = s4\n",
    "    def solve(s):\n",
    "        s=s[0]\n",
    "        state41.SV = s,v # needed because there is no ST option to set state in Cantera. We will have to solve for s iterively knowing the T and v\n",
    "        Tsolve = state41.TP[0]\n",
    "        return abs(Tsolve-T)\n",
    "    bnds = [(s1,s4)]\n",
    "    res = minimize(solve, sguess, method='SLSQP',bounds=bnds)\n",
    "    return res.x[0]\n",
    "entropies_41=[]\n",
    "for i in range(len(temps_41)):\n",
    "    entropies_41.append(entropy(i))\n",
    "\n",
    "fig=plt.figure()\n",
    "ax1= fig.add_subplot(1,2,1) # add one subplot\n",
    "ax2= fig.add_subplot(1,2,2) # add a second subplot\n",
    "\n",
    "ax1.plot(entropies_12,temps_12,color='orange')\n",
    "ax1.plot(entropies_23,temps_23,color='orange')\n",
    "ax1.plot(entropies_34,temps_34,color='orange')\n",
    "ax1.plot(entropies_41,temps_41,color='orange')\n",
    "ax2.plot(vols_12,pres_12,color='blue')\n",
    "ax2.plot(vols_23,pres_23,color='blue')\n",
    "ax2.plot(vols_34,pres_34,color='blue')\n",
    "ax2.plot(vols_41,pres_41,color='blue')\n",
    "\n",
    "ax1.scatter(entropies_12[0],temps_12[0],color='orange')\n",
    "ax1.scatter(entropies_12[-1],temps_12[-1],color='orange')\n",
    "ax1.scatter(entropies_23[-1],temps_23[-1],color='orange')\n",
    "ax1.scatter(entropies_34[-1],temps_34[-1],color='orange')\n",
    "ax2.scatter(vols_12[0],pres_12[0],color='blue')\n",
    "ax2.scatter(vols_12[-1],pres_12[-1],color='blue')\n",
    "ax2.scatter(vols_23[-1],pres_23[-1],color='blue')\n",
    "ax2.scatter(vols_34[-1],pres_34[-1],color='blue')\n",
    "\n",
    "x1_tail = entropies_12[0]\n",
    "y1_tail = temps_12[25]\n",
    "x1_head = x1_tail\n",
    "y1_head = temps_12[26]\n",
    "arrow1 = mpatches.FancyArrowPatch((x1_tail, y1_tail), (x1_head, y1_head),\n",
    "                                 mutation_scale=20,color='orange')\n",
    "ax1.add_patch(arrow1)\n",
    "\n",
    "x1_tail = entropies_23[25]\n",
    "y1_tail = temps_23[25]\n",
    "x1_head = entropies_23[26]\n",
    "y1_head = temps_23[26]\n",
    "arrow1 = mpatches.FancyArrowPatch((x1_tail, y1_tail), (x1_head, y1_head),\n",
    "                                 mutation_scale=20,color='orange')\n",
    "ax1.add_patch(arrow1)\n",
    "\n",
    "x1_tail = entropies_34[0]\n",
    "y1_tail = temps_34[25]\n",
    "x1_head = x1_tail\n",
    "y1_head = temps_34[26]\n",
    "arrow1 = mpatches.FancyArrowPatch((x1_tail, y1_tail), (x1_head, y1_head),\n",
    "                                 mutation_scale=20,color='orange')\n",
    "ax1.add_patch(arrow1)\n",
    "\n",
    "x1_tail = entropies_41[25]\n",
    "y1_tail = temps_41[25]\n",
    "x1_head = entropies_41[26]\n",
    "y1_head = temps_41[26]\n",
    "arrow1 = mpatches.FancyArrowPatch((x1_tail, y1_tail), (x1_head, y1_head),\n",
    "                                 mutation_scale=20,color='orange')\n",
    "ax1.add_patch(arrow1)\n",
    "\n",
    "x2_tail = vols_12[25]\n",
    "y2_tail = pres_12[25]\n",
    "x2_head = vols_12[26]\n",
    "y2_head = pres_12[26]\n",
    "arrow2 = mpatches.FancyArrowPatch((x2_tail, y2_tail), (x2_head, y2_head),\n",
    "                                 mutation_scale=20,color='blue')\n",
    "ax2.add_patch(arrow2)\n",
    "\n",
    "x2_tail = vols_34[25]\n",
    "y2_tail = pres_34[25]\n",
    "x2_head = vols_34[26]\n",
    "y2_head = pres_34[26]\n",
    "arrow2 = mpatches.FancyArrowPatch((x2_tail, y2_tail), (x2_head, y2_head),\n",
    "                                 mutation_scale=20,color='blue')\n",
    "ax2.add_patch(arrow2)\n",
    "\n",
    "ax1.text(entropies_12[0]+10,temps_12[0]-50, \"1\", color='orange')\n",
    "ax1.text(entropies_12[-1]+2,temps_12[-1]+35, \"2\", color='orange')\n",
    "ax1.text(entropies_23[-1]+2,temps_23[-1]+25, \"3\", color='orange')\n",
    "ax1.text(entropies_34[-1]+2,temps_34[-1]+25, \"4\", color='orange')\n",
    "ax2.text(vols_12[0],pres_12[0]-.3e6, \"1\", color='blue')\n",
    "ax2.text(vols_12[-1],pres_12[-1]+.1e6, \"2\", color='blue')\n",
    "ax2.text(vols_23[-1],pres_23[-1]+.1e6, \"3\", color='blue')\n",
    "ax2.text(vols_34[-1],pres_34[-1]+.1e6, \"4\", color='blue')\n",
    "\n",
    "ax1.set_xlabel('Specific Entropy $({\\\\mathrm{J kg^{-1}K^{-1}})}$',  fontsize=12)\n",
    "ax2.set_xlabel('Specific Volume $(\\\\mathrm{m^{3}})$',  fontsize=12)\n",
    "\n",
    "ax1.set_ylabel('Temperature $(\\\\mathrm{^\\\\circ C})$',  fontsize=12)\n",
    "ax2.set_ylabel('Pressure $(\\\\mathrm{Pa})$',  fontsize=12)\n",
    "#ax1.set_ylabel('$c_{\\\\mathrm{p}}$ $({\\\\mathrm{kJ kg^{-1}K^{-1}})}$',  fontsize=12)\n",
    "plt.subplots_adjust(wspace=0.5) # add spacing between subplots\n",
    "ax1.set_title('T-s')\n",
    "ax2.set_title('p-v')\n",
    "\n",
    "plt.savefig('Figures/diesel_cantera_1234.png')# used to save the figure if you desire\n",
    "plt.show()  "
   ]
  },
  {
   "cell_type": "markdown",
   "id": "9e2c89cd-a852-4816-9ac8-8c6f35b665e8",
   "metadata": {},
   "source": [
    "### Stirling Cycle"
   ]
  },
  {
   "cell_type": "markdown",
   "id": "fa357fe0-e35d-4b2b-827c-b4ac90a331b8",
   "metadata": {
    "editable": true,
    "slideshow": {
     "slide_type": ""
    },
    "tags": []
   },
   "source": [
    "```{index} Stirling cycle, regenerator\n",
    "```"
   ]
  },
  {
   "cell_type": "markdown",
   "id": "b164c6b9-be4c-40b8-85be-ff6afca8cfee",
   "metadata": {},
   "source": [
    "The {ref}`Stirling Cycle <genindex>` is based on a reciprocating dual piston-cylinder design that recuperates heat internally to improve efficiency. The internal heat recuperation is acheived using a {ref}`regenerator <genindex>`, which is a type of thermal storage medium that receieves and transfers heat to different processes within the cycle. In contrast to the Otto and Diesel cycles, the Stirling Engine is heated via an external source and is therfore sometimes referred to as an external combustion engine - but in reality the heat source can be of any type, renewable or fossil. Because they rely on external heat transfer, these heat engines are often of interest for renewable energy systems that have a source of high temperature heat such as concentrated solar energy. In fact, in 2008, Sandia National Laboratories and Stirling Energy Systems set a world record 31.25% conversion efficiency of solar energy to electrical work using a Stirling engine coupled with a solar parabolic dish (https://newsreleases.sandia.gov/sandia-stirling-energy-systems-set-new-world-record-for-solar-to-grid-conversion-efficiency/). Since that time, photovoltaic efficiencies have surpassed this value and can be as high as 46.7% when coupled with solar concentration (https://www.nrel.gov/pv/cell-efficiency). Nevertheless, Stirling heat engines remain of interest for a variety of applications due to their high efficiencies and flexibility to be integrated with varying heat sources."
   ]
  },
  {
   "cell_type": "markdown",
   "id": "21cd120d-f816-4bdd-b10d-ed004367b097",
   "metadata": {},
   "source": [
    "The purpose of the regenerator is similar to the regenerator discussed prior for the Brayton cycle. That is, the temperature following expansion is well above the ambient temperature and in principle can be transferred internally prior to heat addition. The benefit is reduced external heat input to acheive the same final state, and external heat addition at the highest temperature possible. However, a Stirling Cycle, which is based on recipricating piston-cylinders cannot simply recuperate heat from a hot stream and transfer it to a cooler stream with the help of a heat exchanger operating at steady state conditions. Rather, because of the cyclical nature of the engine, the heat must be stored in a regenerator and transferred back for later use. To enable this, the Stirling Engine operates with two pistons, one hot and one cooler, with the hot piston transferring energy to the regenerator. The regenerator, in principle is any type of porous solid with a large specific heat that stores the internal heat and it is assumed that the heat stored in the working gas is negligable compared to the solid. The mechanics of the Stirling cycle are complex and cannot easily be broken down into discrete processes as easily as the Otto and Diesel cycles. Therefore, our analysis is limited to the highly idealized Stirling cycle which consist of four fully reversible processes. Using air-standard assumptions, the Ideal Stirling Cycle can be summarized as:\n",
    "\n",
    "1. Constant temperature heat addition and expansion\n",
    "2. Constant volume internal heat transfer to a regenerator\n",
    "3. Constant temperature heat rejection and compression\n",
    "4. Constant volume internal heat transfer from a regenerator"
   ]
  },
  {
   "cell_type": "markdown",
   "id": "37eab834-c713-4c9c-8584-5c27d667b8b2",
   "metadata": {},
   "source": [
    "The idealized Stirling Cycle is shown below in {numref}`Figure %s <stirling>`. Starting on the left process 1-2 consists of heat transfer from a high temperature reservoir and expansion of the hot side at a constant temperture. Then, process 2-3 consists of internal heat transfer to the regenerator while the total system volume remains constant. Notice that the volume of the hot side decreases while the cold side increases - but the net work associated with these processes is negligable and not considered in our analysis. Following internal heat transfer to the regenerator, the cold side is compressed while heat is simultanesouly transferred to the low temperature reservoir. Finally, during process 4-1, the regenerator transfers heat to the hot side, prior to external heating and to restart the cycle."
   ]
  },
  {
   "cell_type": "markdown",
   "id": "40442781-fbd9-4a74-bc08-22e7a4ec1dc1",
   "metadata": {},
   "source": [
    "```{figure} Figures/stirling.png\n",
    ":name: stirling\n",
    "\n",
    "An Ideal Stirling Cycle, composed of two pistons designed to recuperate heat internally with the help of a regenerator. \n",
    "```"
   ]
  },
  {
   "cell_type": "markdown",
   "id": "7133a3b1-2b66-42b8-932b-56fe8ed90603",
   "metadata": {},
   "source": [
    "The Ideal Stirling Cycle is presented on a *T-s* a diagram below in {numref}`Figure %s <stirling chart>`. Notice that there are no longer any isentropic processes like there were for the Otto, Diesel, Brayton and Carnot cycles. However, because each process in the cycle and completly reversible, the maximum efficiency that can be acheived is, in principle, the Carnot Efficiency."
   ]
  },
  {
   "cell_type": "markdown",
   "id": "364644b6-f894-42a4-81e1-5f6b23b7ec59",
   "metadata": {},
   "source": [
    "```{figure} Figures/stirling_chart.png\n",
    ":name: stirling chart\n",
    "\n",
    "*T-s* diagram for the Ideal Stirling Cycle. Notice that compared to the Carnot Cycle, there are no isentropic processes, but the external heat addition terms occur at constant temperature.\n",
    "```"
   ]
  },
  {
   "cell_type": "markdown",
   "id": "5504e352-2174-43f4-9778-0de9a6f42bab",
   "metadata": {},
   "source": [
    "Analysis of each of the processes within the Stirling cycle may be performed in a similar manner to the prior piston-cyclinder based cycles, with two notable exceptions. First, because there are no isentropic processes the isentropic ideal gas equations from {numref}`IsentropicIdealGas` {ref}`IsentropicIdealGas` cannot be used. Second, because the compression and expansion process occur isothermally and reversibly, we can use the appropriate polytopic work equations with *n* = 1 from {numref}`Polytropic` {ref}`Polytropic`. Thus, to analyze each process only the closed system energy conservation equation ({numref}`EnergyTransfer` {ref}`EnergyTransfer`),  ideal gas law ({numref}`IdealGas` {ref}`IdealGas`) and {numref}`Polytropic` {ref}`Polytropic` equations are necessary. "
   ]
  },
  {
   "cell_type": "markdown",
   "id": "2ad33359-aaaa-4acc-b564-752079e52a01",
   "metadata": {
    "editable": true,
    "slideshow": {
     "slide_type": ""
    },
    "tags": []
   },
   "source": [
    "The polytopic work for an isothermal process (i.e. *n* = 1) may be evaluated using the equations below for expansion and compression, respectively."
   ]
  },
  {
   "cell_type": "markdown",
   "id": "549a3afa-1885-4002-afc7-221f71a03dce",
   "metadata": {
    "editable": true,
    "slideshow": {
     "slide_type": ""
    },
    "tags": []
   },
   "source": [
    "```{math}\n",
    ":label: eq_aa13\n",
    "W_{\\rm mech} = p_1V_1{\\rm ln} \\frac{V_2}{V_1} = p_2V_2{\\rm ln} \\frac{V_2}{V_1}\n",
    "``` "
   ]
  },
  {
   "cell_type": "markdown",
   "id": "137e9e6c-67e5-4641-90cc-1df3ff856e71",
   "metadata": {
    "editable": true,
    "slideshow": {
     "slide_type": ""
    },
    "tags": []
   },
   "source": [
    "```{math}\n",
    ":label: eq_aa14\n",
    "W_{\\rm mech} = p_3V_3{\\rm ln} \\frac{V_4}{V_3} = p_4V_4{\\rm ln} \\frac{V_4}{V_3}\n",
    "``` "
   ]
  },
  {
   "cell_type": "markdown",
   "id": "12d23610-60dd-46e2-8166-878ac73ad379",
   "metadata": {
    "editable": true,
    "slideshow": {
     "slide_type": ""
    },
    "tags": []
   },
   "source": [
    "In addition to calculating efficiency like the prior gas power cycles, the Stirling Cycle efficiency may also be calculated using the Carnot Efficiency equation, shown below in {eq}`eq_aa15`."
   ]
  },
  {
   "cell_type": "markdown",
   "id": "689f0876-c8e7-4016-ac75-564c0b083adf",
   "metadata": {
    "editable": true,
    "slideshow": {
     "slide_type": ""
    },
    "tags": []
   },
   "source": [
    "```{math}\n",
    ":label: eq_aa15\n",
    "\\eta = 1- \\frac{T_{\\rm L}}{T_{\\rm H}}=\\frac{W_{\\rm net}}{Q_{\\rm in}}\n",
    "``` "
   ]
  },
  {
   "cell_type": "markdown",
   "id": "bbc20bb5-4104-472a-968e-950589edf6dd",
   "metadata": {
    "editable": true,
    "slideshow": {
     "slide_type": ""
    },
    "tags": []
   },
   "source": [
    "#### Example - Analysis of an Ideal Stirling Cycle"
   ]
  },
  {
   "cell_type": "markdown",
   "id": "0351fd7c-9986-473f-a1e4-2adc585a0fe0",
   "metadata": {
    "editable": true,
    "slideshow": {
     "slide_type": ""
    },
    "tags": []
   },
   "source": [
    "Consider an ideal Stirling cycle. At the beginning of the isothermal compression process, air is at 100 KPa and 300K. Total heat supplied from a source at 1700K is 800 kJ/kg. Determine the pressure after expansion, the net specific work and thermal efficiency, η. Assume air-standard properties.\n"
   ]
  },
  {
   "cell_type": "markdown",
   "id": "b1c44dfa-cb3c-4991-93d3-d6a11bc2cbe1",
   "metadata": {
    "editable": true,
    "slideshow": {
     "slide_type": ""
    },
    "tags": []
   },
   "source": [
    "> **Solution** We will start at state 3, prior to compression where we know the most information. We will use ideal gas law but below is a comparison to using Cantera as well."
   ]
  },
  {
   "cell_type": "code",
   "execution_count": 266,
   "id": "43e70fc2-acc5-4ee3-9e75-79b981fbe614",
   "metadata": {
    "editable": true,
    "slideshow": {
     "slide_type": ""
    },
    "tags": []
   },
   "outputs": [
    {
     "name": "stdout",
     "output_type": "stream",
     "text": [
      "v3 calculated using Cantera is =  0.86 m3 kg-1\n",
      "v3 calculated using ideal gas law  is =  0.86 m3 kg-1\n"
     ]
    }
   ],
   "source": [
    "import cantera as ct\n",
    "\n",
    "#state3\n",
    "\n",
    "R_bar = 8.314 #kJ/kmol/K\n",
    "M = 28.99 # kg/kmol\n",
    "\n",
    "state3 = ct.Solution('gri30.yaml')\n",
    "state3.X = 'N2:0.79 O2: 0.21'\n",
    "T3 = 300 #K\n",
    "T4 = T3 #process 3-4 is isothermal\n",
    "p3 = 100*10**3 # Pa\n",
    "state3.TP = T3,p3\n",
    "v3_cantera = state3.SV[1] #specific volume calculated using Cantera\n",
    "v3 = (R_bar/M*T3)/(p3/1000) #m3 kg-1\n",
    "v2=v3 # process 2-3 is constant volume\n",
    "\n",
    "print(\"v3 calculated using Cantera is = \", round(v3_cantera,2), \"m3 kg-1\")\n",
    "print(\"v3 calculated using ideal gas law  is = \", round(v3,2), \"m3 kg-1\")"
   ]
  },
  {
   "cell_type": "markdown",
   "id": "58924897-07da-412d-abd9-c9b997415bb9",
   "metadata": {
    "editable": true,
    "slideshow": {
     "slide_type": ""
    },
    "tags": []
   },
   "source": [
    "> **Solution** Now we will use the additional information provided. "
   ]
  },
  {
   "cell_type": "code",
   "execution_count": 267,
   "id": "ab5e6876-d953-48a2-a31c-f488d138426a",
   "metadata": {},
   "outputs": [
    {
     "name": "stdout",
     "output_type": "stream",
     "text": [
      "The specific heat transfer and work to and by the cycle is =  800 kJ kg-1\n",
      "p2 calculated using ideal gas law is is =  566.67 kPa\n"
     ]
    }
   ],
   "source": [
    "T1 = 1700 #K\n",
    "T2 = T1 #isothermal for process 1-2\n",
    "q12 = 800 #kJ/kg\n",
    "\n",
    "w12=q12 # apply first law, delta_U = 0 because constant temperature\n",
    "\n",
    "R_bar = 8.314 #kJ/kmol/K\n",
    "M = 28.99 # kg/kmol\n",
    "\n",
    "#Recognize we know two properties at state 2.\n",
    "p2 = (R_bar/M*T2)/(v2) #kPa\n",
    "\n",
    "print(\"The specific heat transfer and work to and by the cycle is = \", round(q12,2), \"kJ kg-1\")\n",
    "print(\"p2 calculated using ideal gas law is is = \", round(p2,2), \"kPa\")"
   ]
  },
  {
   "cell_type": "markdown",
   "id": "48301915-2a9c-4cd2-b7f7-f7c75c00738c",
   "metadata": {},
   "source": [
    "> **Solution** Now we know the specific expansion work, *p*<sub>2</sub>, *v*<sub>2</sub> and we can solve for *v*<sub>1</sub> using {eq}`eq_aa12`"
   ]
  },
  {
   "cell_type": "code",
   "execution_count": 268,
   "id": "75e68a52-1473-4299-9000-e3269421bd20",
   "metadata": {},
   "outputs": [
    {
     "name": "stdout",
     "output_type": "stream",
     "text": [
      "v1 calculated using polytropic work equation is =  0.17 m3 kg-1\n"
     ]
    }
   ],
   "source": [
    "# w12 = p2v2ln(v2/v1)\n",
    "import numpy as np\n",
    "v1 = v2/np.exp(w12/p2/v2)\n",
    "v4=v1\n",
    "print(\"v1 calculated using polytropic work equation is = \", round(v1,2), \"m3 kg-1\")"
   ]
  },
  {
   "cell_type": "markdown",
   "id": "b9cd1db9-9c46-4b1d-95b9-1c425fb0568a",
   "metadata": {},
   "source": [
    "> **Solution** We now know two state properties at 4 and can calulate p4"
   ]
  },
  {
   "cell_type": "code",
   "execution_count": 269,
   "id": "3e1d766f-8651-4123-88f5-7f38b3920b14",
   "metadata": {},
   "outputs": [
    {
     "name": "stdout",
     "output_type": "stream",
     "text": [
      "p4 calculated using ideal gas law is is =  515.98 kPa\n"
     ]
    }
   ],
   "source": [
    "R_bar = 8.314 #kJ/kmol/K\n",
    "M = 28.99 # kg/kmol\n",
    "\n",
    "#Recognize we know two properties at state 4.\n",
    "p4 = (R_bar/M*T4)/(v4) #kPa\n",
    "print(\"p4 calculated using ideal gas law is is = \", round(p4,2), \"kPa\")"
   ]
  },
  {
   "cell_type": "markdown",
   "id": "c735ad97-f8fd-4105-931c-950d97020dec",
   "metadata": {},
   "source": [
    "> **Solution** Knowing, *v*<sub>4</sub>, *v*<sub>3</sub> *p*<sub>3</sub>/*p*<sub>4</sub> we can solve for *w*<sub>34</sub> using {eq}`eq_aa13`"
   ]
  },
  {
   "cell_type": "code",
   "execution_count": 270,
   "id": "09e40e65-09f9-4c78-b9ef-f29b4669ad69",
   "metadata": {},
   "outputs": [
    {
     "name": "stdout",
     "output_type": "stream",
     "text": [
      "The specific heat transfer and work from and to the cycle is =  -141.18 kJ kg-1\n"
     ]
    }
   ],
   "source": [
    "# w12 = p3v3ln(v4/v3)\n",
    "import numpy as np\n",
    "w34 = p3/1000*v3*np.log(v4/v3)\n",
    "q34 = w12 # first law for an isothermal process\n",
    "print(\"The specific heat transfer and work from and to the cycle is = \", round(w34,2), \"kJ kg-1\")"
   ]
  },
  {
   "cell_type": "code",
   "execution_count": 275,
   "id": "172a608c-c7ff-4dd4-ba8b-b43496faccaa",
   "metadata": {},
   "outputs": [
    {
     "name": "stdout",
     "output_type": "stream",
     "text": [
      "The pressure after expansion is  566.67 kPa\n",
      "The net specific work is  551.34 kJ kg-1\n",
      "The thermal efficiency, η, is  82.35 %\n"
     ]
    }
   ],
   "source": [
    "w_net = w12+w34\n",
    "eta = w_net/q12 * 100\n",
    "\n",
    "print(\"The pressure after expansion is \", round(p2,2), \"kPa\")\n",
    "print(\"The net specific work is \", round(wnet,2), \"kJ kg-1\" )\n",
    "print(\"The thermal efficiency, η, is \", round(eta,2) , \"%\")"
   ]
  },
  {
   "cell_type": "markdown",
   "id": "cd6389bd-4039-4914-a8cc-231dffb0a726",
   "metadata": {},
   "source": [
    "> **Solution** Let's compare our computed efficiency to the Carnot Efficiency"
   ]
  },
  {
   "cell_type": "code",
   "execution_count": 274,
   "id": "eb8b93e6-c8f9-41fe-82a2-f98b7401a718",
   "metadata": {},
   "outputs": [
    {
     "name": "stdout",
     "output_type": "stream",
     "text": [
      "The Carnot efficiency, η, is  82.35 %\n"
     ]
    }
   ],
   "source": [
    "Th = T1\n",
    "Tl = T3\n",
    "eta_carnot = (1-Tl/Th) * 100\n",
    "\n",
    "print(\"The Carnot efficiency, η, is \", round(eta_carnot,2) , \"%\")"
   ]
  },
  {
   "cell_type": "markdown",
   "id": "c59006af-4adb-4252-8e6e-7407bfafbc11",
   "metadata": {},
   "source": [
    "### Ericsson Cycle"
   ]
  },
  {
   "cell_type": "markdown",
   "id": "12c391f1-dfef-46ca-8b39-6464d5f3dc65",
   "metadata": {},
   "source": [
    "```{index} Ericsson cycle\n",
    "```"
   ]
  },
  {
   "cell_type": "markdown",
   "id": "7b8ae53d-435b-41ef-a809-4cc4c5e6e62c",
   "metadata": {},
   "source": [
    "The {red}`Ericsson Cycle <genindex>` is another type of regenerative gas power cycle that enables constant temperature heat addition and heat rejection. It is composed of 4 completely reversible processes, so the theoretical thermal efficiency is also equivilent of the Carnot efficiency, like the Stirling cycle. Unlike the Stirling cycle, the Ericsson Cycle is based on a steady flow system that utilizes turbines and compressors that are coupled with heat addition and heat rejection, respectively. Thus, expansion and compression are also not isentropic. The major distinction in terms of analysis compared to the Stirling cycle is that the regeneration occurs via a heat exchanger (i.e. no sensible energy storage), and the heat transfer during regeneration occurs at constant pressure, just like the regenerator in the Brayton Cycle."
   ]
  },
  {
   "cell_type": "markdown",
   "id": "24c6aa4a-ad37-4b1e-aaf5-de5490c64809",
   "metadata": {},
   "source": [
    "Using air-standard assumptions, the four full reversible processes of the Ideal Ericsson Cycle can be summarized as:\n",
    "\n",
    "1. Constant temperature heat addition and expansion\n",
    "2. Constant pressure internal heat transfer to a regenerator\n",
    "3. Constant temperature heat rejection and compression\n",
    "4. Constant pressure internal heat transfer from a regenerator"
   ]
  },
  {
   "cell_type": "markdown",
   "id": "279ae9a6-d7ef-4474-ab90-16e43ec393a3",
   "metadata": {},
   "source": [
    "Becuase the Ericsson Cycle is composed of steady state devices, each process should be analyzed using the steady state open system energy balance discussed in {numref}`FirstLawOpen` {ref}`FirstLawOpen`. Like all other gas power cycles, the ideal gas law can be applied to any state within the cycle, and like the Stirling Cycle isentropic ideal gas equations from {numref}`IsentropicIdealGas` {ref}`IsentropicIdealGas` cannot be used. Unlike the Stirling Cycle, the work terms associated with compression and expansion should be evaluated using the {numref}`ReversibleWork` {ref}`ReversibleWork`equation when *k* = 1 (i.e. isothermal), shown below,"
   ]
  },
  {
   "cell_type": "markdown",
   "id": "869d4297-e473-4e4b-aa9f-6ba2b7358f2a",
   "metadata": {},
   "source": [
    "```{math}\n",
    ":label: eq_aa15 \n",
    "w_{\\rm rev} = -pv ln \\frac{p_2}{p_1}\n",
    "``` "
   ]
  },
  {
   "cell_type": "markdown",
   "id": "c60b2b4f-88e3-4c62-a7e5-56ee991900ea",
   "metadata": {},
   "source": [
    "(Exercise8)=\n",
    "### Exercise 8"
   ]
  },
  {
   "cell_type": "markdown",
   "id": "8bc20398-88f3-4a1c-a090-43ef723324b8",
   "metadata": {},
   "source": [
    "1. A stationary gas-turbine power plant operates on a simple ideal Brayton cycle with air as the\n",
    "working fluid. The air enters the compressor at 95 kPa and 290 K and the turbine at 760 kPa and\n",
    "1100 K. Heat is transferred to air at a rate of 35,000 kW. Determine the power delivered by this\n",
    "plant (a) assuming constant specific heats at room temperature and (b) accounting for the variation\n",
    "of specific heats with temperature.\n",
    "2. A gas turbine power plant operates on the simple Brayton cycle with air as the working fluid and\n",
    "delivers 32 MW of power. The minimum and maximum temperatures in the cycle are 310 and 900\n",
    "K, and the pressure of air at the compressor exit is 8 times the value at the compressor inlet.\n",
    "Assuming an isentropic efficiency of 80% for the compressor and 86% for the turbine, determine\n",
    "the mass flow rate of air through the cycle. Account for the variation of specific heats with\n",
    "temperature.\n",
    "3. A Brayton cycle using air as the working fluid operates at steady state with\n",
    "intercooling and reheating. The net power output is 10 MW. Use data provided below:\n",
    "    1. Sketch the T-s diagram for the cycle\n",
    "    2. Determine the mass flowrate of air, in kg/s\n",
    "    3. The rate of heat transfer, in kW, during all heat addition stages\n",
    "    4. The thermal efficiency\n",
    "\n",
    "|    State   |   p (kPa)   |   T (K)   |   h (kJ/kg)   |\n",
    "| :------------ | -------------  | ------------ | -------------: |\n",
    "|        1      |        100     |       300    |        300.19  |\n",
    "|        2      |      300       |    410.1     |      411.22    |\n",
    "|     3     |      300      |    300     |      300.19      |\n",
    "|     4     |      1200      |    444.8     |      446.50      |\n",
    "|     5     |      1200      |    1111     |      1173.84      |\n",
    "|     6     |      1200      |    1450     |      1575.57      |\n",
    "|     7     |      300      |    1034.3     |      1085.31      |\n",
    "|     8     |      300      |    1450     |      1575.57      |\n",
    "|     9     |      100      |    1111     |      1173.84      |\n",
    "|     10     |      100      |    444.8     |      446.50      |\n",
    "  \n",
    "\n",
    "    \n",
    "4. Consider an ideal gas-turbine cycle with two stages of compression and two stages of expansion. The pressure ratio across each stage of the compressor and turbine is 3. The air enters each stage of the compressor at 300 K and each stage of the turbine at 1200 K. Determine the thermal efficiency of the cycle, assuming (a) no regenerator is used and (b) a regenerator with 75 percent effectiveness is used. Use variable specific heats.\n",
    "7. Air at ambient conditions is compressed with a compression ratio of *_r_* = 12 in an ideal Otto cycle. 700 kJ/kg of is added during the constant volume process.\n",
    "    1. What is the net specific work (*_w<sub>net</sub>_*) of the cycle?\n",
    "    2. What is the thermal efficiency (*_n<sub>th,otto</sub>_*) of this process?\n",
    "    3. What is the thermal efficiency (*_n<sub>th</sub>_*) not assuming constant specific heats?\n",
    "9. An ideal Otto cycle has a compresion ratio of 10. The air is at *_P_* = 120 kPa and *_T_* = 300 K before compression and reaches *_P_* = 4.5 MPa and *_T_* = 1500 K after heat addition.\n",
    "    1. What is the specific heat addition (*_q_*) to the system?\n",
    "    2. What is the thermal efficiency of the cycle?\n",
    "11. An ideal Diesel cycle has a cutoff ratio of 3 and a compression ratio of 16. The air is at ambient conditions prior to compression.\n",
    "     1. What is the heat addition (*_q_*) to the system?\n",
    "     2. What is the thermal efficiency of the cycle?\n",
    "13. Air in an ideal diesel cycle is at *_P_* = 4 MPa and *_T_* = 1500 K after constant pressure heat addition. The cutoff ratio is 1.7 and the compression ration is 18.\n",
    "    1. What is the heat addition (*_q_*) to the system?\n",
    "    2. What is the net specific work (*_w<sub>net</sub>_*) in the cycle?\n",
    "    3. What is the thermal efficiency (*_n<sub>th</sub>_*) of the cycle?\n",
    "10. A power plant uses an ideal brayton cycle with a pressure ratio of 10. The gas enters the compressor at ambient conditions and enters the turbine at *_T_* 1500 K.\n",
    "    1. What is the heat addition to the system?\n",
    "    2. What is the thermal efficiency of the cycle?\n",
    "    3. If the net power is *_P_* = 1 MJ, what is the mass flowrate (*_m_*)?\n"
   ]
  },
  {
   "cell_type": "markdown",
   "id": "b975bb32-c166-4b4d-a3b9-60f8e1bdbfba",
   "metadata": {},
   "source": [
    "{numref}`Exercise8Solutions` {ref}`Exercise8Solutions`"
   ]
  }
 ],
 "metadata": {
  "kernelspec": {
   "display_name": "Python 3 (ipykernel)",
   "language": "python",
   "name": "python3"
  },
  "language_info": {
   "codemirror_mode": {
    "name": "ipython",
    "version": 3
   },
   "file_extension": ".py",
   "mimetype": "text/x-python",
   "name": "python",
   "nbconvert_exporter": "python",
   "pygments_lexer": "ipython3",
   "version": "3.12.3"
  }
 },
 "nbformat": 4,
 "nbformat_minor": 5
}
